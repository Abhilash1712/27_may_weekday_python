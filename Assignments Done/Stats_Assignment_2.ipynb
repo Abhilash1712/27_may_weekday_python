{
 "cells": [
  {
   "cell_type": "code",
   "execution_count": null,
   "id": "cf2d936d",
   "metadata": {},
   "outputs": [],
   "source": []
  },
  {
   "cell_type": "code",
   "execution_count": 1,
   "id": "67b5b9c6",
   "metadata": {},
   "outputs": [],
   "source": [
    "import numpy as np"
   ]
  },
  {
   "cell_type": "code",
   "execution_count": 2,
   "id": "15dd59ea",
   "metadata": {},
   "outputs": [
    {
     "name": "stdout",
     "output_type": "stream",
     "text": [
      "[12, 12, 23, 23, 33, 42, 44, 45, 56, 63, 67, 67, 90, 1000000]\n"
     ]
    }
   ],
   "source": [
    "values = [1000000,12,45,67,23,44,23,67,90,12,33,42,56,63,]\n",
    "values.sort()\n",
    "print(values)"
   ]
  },
  {
   "cell_type": "code",
   "execution_count": 3,
   "id": "4d5bb591",
   "metadata": {},
   "outputs": [
    {
     "name": "stdout",
     "output_type": "stream",
     "text": [
      "Values :  [12, 12, 23, 23, 33, 42, 44, 45, 56, 63, 67, 67, 90, 1000000]\n",
      "Min :  12\n",
      "Q1  :  25.5\n",
      "Q2  :  44.5\n",
      "Q3  :  66.0\n",
      "Max :  1000000\n"
     ]
    }
   ],
   "source": [
    "\n",
    "print(\"Values : \", values)\n",
    "print(\"Min : \", np.quantile(values, 0))\n",
    "print(\"Q1  : \", np.quantile(values, .25))\n",
    "print(\"Q2  : \", np.quantile(values, .50))\n",
    "print(\"Q3  : \", np.quantile(values, .75))\n",
    "print(\"Max : \", np.quantile(values, 1))"
   ]
  }
 ],
 "metadata": {
  "kernelspec": {
   "display_name": "Python 3 (ipykernel)",
   "language": "python",
   "name": "python3"
  },
  "language_info": {
   "codemirror_mode": {
    "name": "ipython",
    "version": 3
   },
   "file_extension": ".py",
   "mimetype": "text/x-python",
   "name": "python",
   "nbconvert_exporter": "python",
   "pygments_lexer": "ipython3",
   "version": "3.9.12"
  }
 },
 "nbformat": 4,
 "nbformat_minor": 5
}
