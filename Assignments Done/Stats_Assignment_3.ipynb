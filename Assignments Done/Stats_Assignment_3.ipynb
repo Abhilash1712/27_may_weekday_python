{
 "cells": [
  {
   "cell_type": "code",
   "execution_count": 2,
   "id": "07b4ea9a",
   "metadata": {},
   "outputs": [],
   "source": [
    "import numpy as np\n",
    "import statistics as stats"
   ]
  },
  {
   "cell_type": "code",
   "execution_count": 4,
   "id": "3e29d135",
   "metadata": {},
   "outputs": [
    {
     "name": "stdout",
     "output_type": "stream",
     "text": [
      "4\n"
     ]
    }
   ],
   "source": [
    "list_1 = [1,7,9,4,4,5,6]\n",
    "print(stats.mode(list_1))"
   ]
  },
  {
   "cell_type": "code",
   "execution_count": 5,
   "id": "16101b5b",
   "metadata": {},
   "outputs": [
    {
     "name": "stdout",
     "output_type": "stream",
     "text": [
      "[12, 12, 23, 23, 33, 42, 44, 45, 56, 63, 67, 67, 90, 1000000]\n"
     ]
    }
   ],
   "source": [
    "list_2 = [1000000,12,45,67,23,44,23,67,90,12,33,42,56,63]\n",
    "list_2.sort()\n",
    "print(list_2)"
   ]
  },
  {
   "cell_type": "code",
   "execution_count": 6,
   "id": "bd1756b6",
   "metadata": {},
   "outputs": [
    {
     "name": "stdout",
     "output_type": "stream",
     "text": [
      "[12, 23, 67]\n"
     ]
    }
   ],
   "source": [
    "print(stats.multimode(list_2))"
   ]
  },
  {
   "cell_type": "code",
   "execution_count": null,
   "id": "c5a3872e",
   "metadata": {},
   "outputs": [],
   "source": []
  }
 ],
 "metadata": {
  "kernelspec": {
   "display_name": "Python 3 (ipykernel)",
   "language": "python",
   "name": "python3"
  },
  "language_info": {
   "codemirror_mode": {
    "name": "ipython",
    "version": 3
   },
   "file_extension": ".py",
   "mimetype": "text/x-python",
   "name": "python",
   "nbconvert_exporter": "python",
   "pygments_lexer": "ipython3",
   "version": "3.9.12"
  }
 },
 "nbformat": 4,
 "nbformat_minor": 5
}
