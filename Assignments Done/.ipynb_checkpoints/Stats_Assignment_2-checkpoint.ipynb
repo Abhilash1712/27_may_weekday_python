{
 "cells": [
  {
   "cell_type": "code",
   "execution_count": 1,
   "id": "67b5b9c6",
   "metadata": {},
   "outputs": [],
   "source": [
    "import numpy as np"
   ]
  },
  {
   "cell_type": "code",
   "execution_count": 14,
   "id": "15dd59ea",
   "metadata": {},
   "outputs": [],
   "source": [
    "values = [13,21,21,40,42,48,55,72,85,92,98,1000000]"
   ]
  },
  {
   "cell_type": "code",
   "execution_count": 15,
   "id": "4d5bb591",
   "metadata": {},
   "outputs": [
    {
     "name": "stdout",
     "output_type": "stream",
     "text": [
      "Values :  [13, 21, 21, 40, 42, 48, 55, 72, 85, 92, 98, 1000000]\n",
      "Min :  13\n",
      "Q1  :  35.25\n",
      "Q2  :  51.5\n",
      "Q3  :  86.75\n",
      "Max :  1000000\n"
     ]
    }
   ],
   "source": [
    "\n",
    "print(\"Values : \", values)\n",
    "print(\"Min : \", np.quantile(values, 0))\n",
    "print(\"Q1  : \", np.quantile(values, .25))\n",
    "print(\"Q2  : \", np.quantile(values, .50))\n",
    "print(\"Q3  : \", np.quantile(values, .75))\n",
    "print(\"Max : \", np.quantile(values, 1))"
   ]
  }
 ],
 "metadata": {
  "kernelspec": {
   "display_name": "Python 3 (ipykernel)",
   "language": "python",
   "name": "python3"
  },
  "language_info": {
   "codemirror_mode": {
    "name": "ipython",
    "version": 3
   },
   "file_extension": ".py",
   "mimetype": "text/x-python",
   "name": "python",
   "nbconvert_exporter": "python",
   "pygments_lexer": "ipython3",
   "version": "3.9.12"
  }
 },
 "nbformat": 4,
 "nbformat_minor": 5
}
