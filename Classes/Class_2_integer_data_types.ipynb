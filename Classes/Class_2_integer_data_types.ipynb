{
 "cells": [
  {
   "cell_type": "code",
   "execution_count": null,
   "id": "bfdfd073",
   "metadata": {},
   "outputs": [],
   "source": [
    "Datatypes\n",
    "\n",
    "1. fundamental - it is a basic data type\n",
    "\n",
    "int\n",
    "float\n",
    "str\n",
    "bool\n",
    "None\n",
    "complex\n",
    "\n",
    "2. derived data types - derived from the fundamental data type\n",
    "\n",
    "list\n",
    "tuple\n",
    "set\n",
    "dict\n",
    "range"
   ]
  },
  {
   "cell_type": "code",
   "execution_count": null,
   "id": "1454516b",
   "metadata": {},
   "outputs": [],
   "source": [
    "integer data type\n",
    "\n",
    "- anything that can be wriiten without a decimal point is called as int data type eg 100,200,300,-999 etc "
   ]
  },
  {
   "cell_type": "code",
   "execution_count": 1,
   "id": "fa6cf14e",
   "metadata": {},
   "outputs": [
    {
     "name": "stdout",
     "output_type": "stream",
     "text": [
      "10\n"
     ]
    }
   ],
   "source": [
    "a = 10\n",
    "print(a)"
   ]
  },
  {
   "cell_type": "code",
   "execution_count": 2,
   "id": "e2129437",
   "metadata": {},
   "outputs": [
    {
     "name": "stdout",
     "output_type": "stream",
     "text": [
      "10\n"
     ]
    }
   ],
   "source": [
    "a = '10'\n",
    "print(a)"
   ]
  },
  {
   "cell_type": "code",
   "execution_count": 3,
   "id": "c3dd6e11",
   "metadata": {},
   "outputs": [
    {
     "name": "stdout",
     "output_type": "stream",
     "text": [
      "<class 'str'>\n"
     ]
    }
   ],
   "source": [
    "# type - type will tell the data type of a varibale/literals\n",
    "\n",
    "print(type(a))"
   ]
  },
  {
   "cell_type": "code",
   "execution_count": 5,
   "id": "388a3e61",
   "metadata": {},
   "outputs": [
    {
     "name": "stdout",
     "output_type": "stream",
     "text": [
      "10\n",
      "<class 'int'>\n"
     ]
    }
   ],
   "source": [
    "a = 10\n",
    "print(a)\n",
    "print(type(10))"
   ]
  },
  {
   "cell_type": "markdown",
   "id": "bce95d85",
   "metadata": {},
   "source": [
    "# Types of Operation on Integers\n"
   ]
  },
  {
   "cell_type": "code",
   "execution_count": null,
   "id": "834aa973",
   "metadata": {},
   "outputs": [],
   "source": [
    "1. arithmatic operations\n",
    "\n",
    "- + , - , *, /(float division) , //(floor division), %(modular), **(power)"
   ]
  },
  {
   "cell_type": "code",
   "execution_count": 6,
   "id": "5a197892",
   "metadata": {},
   "outputs": [
    {
     "name": "stdout",
     "output_type": "stream",
     "text": [
      "30\n"
     ]
    }
   ],
   "source": [
    "print(10+20)"
   ]
  },
  {
   "cell_type": "code",
   "execution_count": 7,
   "id": "bfd1b9c3",
   "metadata": {},
   "outputs": [
    {
     "name": "stdout",
     "output_type": "stream",
     "text": [
      "-10\n"
     ]
    }
   ],
   "source": [
    "print(10-20)"
   ]
  },
  {
   "cell_type": "code",
   "execution_count": 8,
   "id": "fe71a9e8",
   "metadata": {},
   "outputs": [
    {
     "name": "stdout",
     "output_type": "stream",
     "text": [
      "20\n"
     ]
    }
   ],
   "source": [
    "print(10*2)"
   ]
  },
  {
   "cell_type": "code",
   "execution_count": 10,
   "id": "fa627617",
   "metadata": {},
   "outputs": [
    {
     "name": "stdout",
     "output_type": "stream",
     "text": [
      "5.0\n",
      "5.5\n"
     ]
    }
   ],
   "source": [
    "print(10/2) # the result will be always in floating point number\n",
    "print(11/2)"
   ]
  },
  {
   "cell_type": "code",
   "execution_count": 17,
   "id": "8967d7a4",
   "metadata": {},
   "outputs": [
    {
     "name": "stdout",
     "output_type": "stream",
     "text": [
      "2.0\n"
     ]
    }
   ],
   "source": [
    "print(11//4.0)"
   ]
  },
  {
   "cell_type": "code",
   "execution_count": 23,
   "id": "66737522",
   "metadata": {},
   "outputs": [
    {
     "name": "stdout",
     "output_type": "stream",
     "text": [
      "3\n"
     ]
    }
   ],
   "source": [
    "print(11//3)"
   ]
  },
  {
   "cell_type": "code",
   "execution_count": 19,
   "id": "e3c2897e",
   "metadata": {},
   "outputs": [
    {
     "name": "stdout",
     "output_type": "stream",
     "text": [
      "0\n",
      "3\n"
     ]
    }
   ],
   "source": [
    "# remainder\n",
    "\n",
    "print(10%2)\n",
    "print(11%4)"
   ]
  },
  {
   "cell_type": "code",
   "execution_count": 21,
   "id": "1e069455",
   "metadata": {},
   "outputs": [
    {
     "name": "stdout",
     "output_type": "stream",
     "text": [
      "100\n",
      "256\n"
     ]
    }
   ],
   "source": [
    "print(10**2)\n",
    "print(2**8)"
   ]
  },
  {
   "cell_type": "code",
   "execution_count": 22,
   "id": "a37a328f",
   "metadata": {},
   "outputs": [
    {
     "name": "stdout",
     "output_type": "stream",
     "text": [
      "1\n"
     ]
    }
   ],
   "source": [
    "print(12//8)"
   ]
  },
  {
   "cell_type": "code",
   "execution_count": null,
   "id": "6022b20d",
   "metadata": {},
   "outputs": [],
   "source": [
    "2. Comparison operator - > , < , >= , <=\n",
    "\n",
    "- it always return the bool value - True/False\n",
    "- valid operands\n",
    "    int vs int\n",
    "    int vs float\n",
    "    float vs float\n",
    "    str vs str"
   ]
  },
  {
   "cell_type": "code",
   "execution_count": 24,
   "id": "b18c1b49",
   "metadata": {},
   "outputs": [
    {
     "name": "stdout",
     "output_type": "stream",
     "text": [
      "True\n"
     ]
    }
   ],
   "source": [
    "a = 10\n",
    "b = 20\n",
    "\n",
    "print(a<b)"
   ]
  },
  {
   "cell_type": "code",
   "execution_count": 25,
   "id": "fc51c0e0",
   "metadata": {},
   "outputs": [
    {
     "name": "stdout",
     "output_type": "stream",
     "text": [
      "True\n"
     ]
    }
   ],
   "source": [
    "a = 10\n",
    "b = 20.0\n",
    "\n",
    "print(a<=b)"
   ]
  },
  {
   "cell_type": "code",
   "execution_count": 27,
   "id": "cd1f6d1c",
   "metadata": {},
   "outputs": [
    {
     "ename": "TypeError",
     "evalue": "'>=' not supported between instances of 'complex' and 'complex'",
     "output_type": "error",
     "traceback": [
      "\u001b[0;31m---------------------------------------------------------------------------\u001b[0m",
      "\u001b[0;31mTypeError\u001b[0m                                 Traceback (most recent call last)",
      "Input \u001b[0;32mIn [27]\u001b[0m, in \u001b[0;36m<cell line: 4>\u001b[0;34m()\u001b[0m\n\u001b[1;32m      1\u001b[0m a \u001b[38;5;241m=\u001b[39m \u001b[38;5;241m10\u001b[39m\u001b[38;5;241m+\u001b[39m\u001b[38;5;241m6\u001b[39mj\n\u001b[1;32m      2\u001b[0m b \u001b[38;5;241m=\u001b[39m \u001b[38;5;241m10\u001b[39m\u001b[38;5;241m+\u001b[39m\u001b[38;5;241m7\u001b[39mj\n\u001b[0;32m----> 4\u001b[0m \u001b[38;5;28mprint\u001b[39m(\u001b[43ma\u001b[49m\u001b[43m \u001b[49m\u001b[38;5;241;43m>\u001b[39;49m\u001b[38;5;241;43m=\u001b[39;49m\u001b[43m \u001b[49m\u001b[43mb\u001b[49m)\n",
      "\u001b[0;31mTypeError\u001b[0m: '>=' not supported between instances of 'complex' and 'complex'"
     ]
    }
   ],
   "source": [
    "a = 10+6j\n",
    "b = 10+7j\n",
    "\n",
    "print(a >= b)"
   ]
  },
  {
   "cell_type": "code",
   "execution_count": 29,
   "id": "cae3c012",
   "metadata": {},
   "outputs": [
    {
     "name": "stdout",
     "output_type": "stream",
     "text": [
      "False\n"
     ]
    }
   ],
   "source": [
    "a = 'learnbay'\n",
    "b = 'learo'\n",
    "\n",
    "print(a>=b)"
   ]
  },
  {
   "cell_type": "code",
   "execution_count": 31,
   "id": "513803f6",
   "metadata": {},
   "outputs": [
    {
     "name": "stdout",
     "output_type": "stream",
     "text": [
      "True\n"
     ]
    }
   ],
   "source": [
    "a = '#earnbay'\n",
    "b = '#123'\n",
    "\n",
    "print(a>=b)"
   ]
  },
  {
   "cell_type": "code",
   "execution_count": null,
   "id": "e1c95728",
   "metadata": {},
   "outputs": [],
   "source": [
    "l = 108\n",
    "L = 76\n",
    "# - 35\n"
   ]
  },
  {
   "cell_type": "code",
   "execution_count": 32,
   "id": "57f58204",
   "metadata": {},
   "outputs": [
    {
     "name": "stdout",
     "output_type": "stream",
     "text": [
      "True\n"
     ]
    }
   ],
   "source": [
    "a = 'learnbay'\n",
    "b = 'learn'\n",
    "\n",
    "print(a>=b)"
   ]
  },
  {
   "cell_type": "code",
   "execution_count": null,
   "id": "1f165507",
   "metadata": {},
   "outputs": [],
   "source": [
    "3. Equality op - ==, !=\n",
    "\n",
    "- returns the bool value true/false\n",
    "- it can be done with any operands"
   ]
  },
  {
   "cell_type": "code",
   "execution_count": 33,
   "id": "035e8dc0",
   "metadata": {},
   "outputs": [
    {
     "data": {
      "text/plain": [
       "False"
      ]
     },
     "execution_count": 33,
     "metadata": {},
     "output_type": "execute_result"
    }
   ],
   "source": [
    "10+6j == 11"
   ]
  },
  {
   "cell_type": "code",
   "execution_count": 38,
   "id": "9fd5b513",
   "metadata": {},
   "outputs": [
    {
     "data": {
      "text/plain": [
       "False"
      ]
     },
     "execution_count": 38,
     "metadata": {},
     "output_type": "execute_result"
    }
   ],
   "source": [
    "'afsan' == 'afsaan'"
   ]
  },
  {
   "cell_type": "code",
   "execution_count": 37,
   "id": "76bb584a",
   "metadata": {},
   "outputs": [
    {
     "data": {
      "text/plain": [
       "False"
      ]
     },
     "execution_count": 37,
     "metadata": {},
     "output_type": "execute_result"
    }
   ],
   "source": [
    "'afsan' == 10"
   ]
  },
  {
   "cell_type": "code",
   "execution_count": null,
   "id": "8b2b9b61",
   "metadata": {},
   "outputs": [],
   "source": [
    "4. ASCII"
   ]
  },
  {
   "cell_type": "code",
   "execution_count": 43,
   "id": "6f6d305a",
   "metadata": {},
   "outputs": [
    {
     "data": {
      "text/plain": [
       "34"
      ]
     },
     "execution_count": 43,
     "metadata": {},
     "output_type": "execute_result"
    }
   ],
   "source": [
    "ord('\"')  --> gives the output as a number associated with that char"
   ]
  },
  {
   "cell_type": "code",
   "execution_count": 44,
   "id": "b8d6d3ad",
   "metadata": {},
   "outputs": [
    {
     "data": {
      "text/plain": [
       "'o'"
      ]
     },
     "execution_count": 44,
     "metadata": {},
     "output_type": "execute_result"
    }
   ],
   "source": [
    "chr(111) --> gives the ascii value assciated with the number"
   ]
  },
  {
   "cell_type": "code",
   "execution_count": 46,
   "id": "16ce8e57",
   "metadata": {},
   "outputs": [
    {
     "name": "stdout",
     "output_type": "stream",
     "text": [
      "True\n"
     ]
    }
   ],
   "source": [
    "print('A' <= chr(65))"
   ]
  },
  {
   "cell_type": "code",
   "execution_count": 47,
   "id": "99df001a",
   "metadata": {},
   "outputs": [
    {
     "name": "stdout",
     "output_type": "stream",
     "text": [
      "False\n"
     ]
    }
   ],
   "source": [
    "print(100 == ord('g'))"
   ]
  },
  {
   "cell_type": "code",
   "execution_count": null,
   "id": "cec78bdb",
   "metadata": {},
   "outputs": [],
   "source": [
    "5. logical operators - and, or , not\n",
    "\n",
    "\"\"\"\n",
    "True --> 1\n",
    "False --> 0\n",
    "\"\"\"\n",
    "\n",
    "and\n",
    "\n",
    "True and True --> True\n",
    "False and False --> False\n",
    "False and True --> False\n",
    "True and False --> False\n",
    "\n",
    "or\n",
    "\n",
    "True or True --> True\n",
    "False or False --> False\n",
    "False and True --> True\n",
    "True and False --> True\n",
    "\n",
    "not\n",
    "\n",
    "False --> True\n",
    "True --> False"
   ]
  },
  {
   "cell_type": "code",
   "execution_count": 48,
   "id": "88b7de74",
   "metadata": {},
   "outputs": [
    {
     "name": "stdout",
     "output_type": "stream",
     "text": [
      "True\n"
     ]
    }
   ],
   "source": [
    "print(True and True)"
   ]
  },
  {
   "cell_type": "code",
   "execution_count": 49,
   "id": "78607ae5",
   "metadata": {},
   "outputs": [
    {
     "name": "stdout",
     "output_type": "stream",
     "text": [
      "0\n"
     ]
    }
   ],
   "source": [
    "print(1 and 0)"
   ]
  },
  {
   "cell_type": "code",
   "execution_count": 50,
   "id": "12b8ab94",
   "metadata": {},
   "outputs": [
    {
     "name": "stdout",
     "output_type": "stream",
     "text": [
      "True\n"
     ]
    }
   ],
   "source": [
    "print(not 0)"
   ]
  },
  {
   "cell_type": "code",
   "execution_count": null,
   "id": "53adc833",
   "metadata": {},
   "outputs": [],
   "source": [
    "0 and 200"
   ]
  }
 ],
 "metadata": {
  "kernelspec": {
   "display_name": "Python 3 (ipykernel)",
   "language": "python",
   "name": "python3"
  },
  "language_info": {
   "codemirror_mode": {
    "name": "ipython",
    "version": 3
   },
   "file_extension": ".py",
   "mimetype": "text/x-python",
   "name": "python",
   "nbconvert_exporter": "python",
   "pygments_lexer": "ipython3",
   "version": "3.9.12"
  }
 },
 "nbformat": 4,
 "nbformat_minor": 5
}
