{
 "cells": [
  {
   "cell_type": "code",
   "execution_count": null,
   "id": "ab9d2c73",
   "metadata": {},
   "outputs": [],
   "source": [
    "#7. identity op\n",
    "\n",
    "op - is and is not\n",
    "return - bool\n",
    "is to compare the memory address of 2 varibales"
   ]
  },
  {
   "cell_type": "code",
   "execution_count": 1,
   "id": "22b9e9d1",
   "metadata": {},
   "outputs": [
    {
     "name": "stdout",
     "output_type": "stream",
     "text": [
      "False\n"
     ]
    }
   ],
   "source": [
    "a = 10\n",
    "b = 20\n",
    "\n",
    "print(a is b)"
   ]
  },
  {
   "cell_type": "code",
   "execution_count": 2,
   "id": "a71c539f",
   "metadata": {},
   "outputs": [
    {
     "name": "stdout",
     "output_type": "stream",
     "text": [
      "False\n"
     ]
    }
   ],
   "source": [
    "print(a == b)"
   ]
  },
  {
   "cell_type": "code",
   "execution_count": 3,
   "id": "286ed545",
   "metadata": {},
   "outputs": [
    {
     "name": "stdout",
     "output_type": "stream",
     "text": [
      "True\n"
     ]
    }
   ],
   "source": [
    "a = 100\n",
    "b = 100\n",
    "\n",
    "print(a is b)"
   ]
  },
  {
   "cell_type": "code",
   "execution_count": 9,
   "id": "c27668cb",
   "metadata": {},
   "outputs": [
    {
     "name": "stdout",
     "output_type": "stream",
     "text": [
      "140623539271536\n",
      "140623539270064\n",
      "False\n"
     ]
    }
   ],
   "source": [
    "a = 'afsan@'\n",
    "print(id(a))\n",
    "b = 'afsan@'\n",
    "print(id(b))\n",
    "\n",
    "print(a is b)"
   ]
  },
  {
   "cell_type": "code",
   "execution_count": null,
   "id": "f1920cb5",
   "metadata": {},
   "outputs": [],
   "source": [
    "object resusabilty \n",
    "\n",
    "int = -5 to 256\n",
    "float = not valid\n",
    "string = a-z, A-Z, 0-9 , _\n",
    "bool = applicable\n",
    "complex = not valid\n",
    "None"
   ]
  },
  {
   "cell_type": "code",
   "execution_count": 13,
   "id": "adf090a6",
   "metadata": {},
   "outputs": [
    {
     "name": "stdout",
     "output_type": "stream",
     "text": [
      "True\n"
     ]
    }
   ],
   "source": [
    "a = None\n",
    "b = None\n",
    "print(a is b)"
   ]
  },
  {
   "cell_type": "code",
   "execution_count": 15,
   "id": "548d15cb",
   "metadata": {},
   "outputs": [
    {
     "name": "stdout",
     "output_type": "stream",
     "text": [
      "True\n"
     ]
    }
   ],
   "source": [
    "a=10\n",
    "b=20\n",
    "print(int is int)"
   ]
  },
  {
   "cell_type": "code",
   "execution_count": 16,
   "id": "b7b031b9",
   "metadata": {},
   "outputs": [
    {
     "data": {
      "text/plain": [
       "4302826320"
      ]
     },
     "execution_count": 16,
     "metadata": {},
     "output_type": "execute_result"
    }
   ],
   "source": [
    "id(int)"
   ]
  },
  {
   "cell_type": "code",
   "execution_count": 17,
   "id": "6e3b4faf",
   "metadata": {},
   "outputs": [
    {
     "data": {
      "text/plain": [
       "4302826320"
      ]
     },
     "execution_count": 17,
     "metadata": {},
     "output_type": "execute_result"
    }
   ],
   "source": [
    "id(int)"
   ]
  },
  {
   "cell_type": "code",
   "execution_count": 18,
   "id": "41c7598d",
   "metadata": {},
   "outputs": [
    {
     "data": {
      "text/plain": [
       "140623940658096"
      ]
     },
     "execution_count": 18,
     "metadata": {},
     "output_type": "execute_result"
    }
   ],
   "source": [
    "id(print)"
   ]
  },
  {
   "cell_type": "code",
   "execution_count": 22,
   "id": "b211038b",
   "metadata": {},
   "outputs": [
    {
     "name": "stdout",
     "output_type": "stream",
     "text": [
      "140623539267696\n",
      "140623539267696\n"
     ]
    }
   ],
   "source": [
    "a,b=1000,1000\n",
    "print(id(a))\n",
    "print(id(b))"
   ]
  },
  {
   "cell_type": "code",
   "execution_count": 20,
   "id": "6218a717",
   "metadata": {},
   "outputs": [
    {
     "name": "stdout",
     "output_type": "stream",
     "text": [
      "140623539269552\n",
      "140623539268976\n"
     ]
    }
   ],
   "source": [
    "a = 1000\n",
    "b = 1000\n",
    "print(id(a))\n",
    "print(id(b))"
   ]
  },
  {
   "cell_type": "code",
   "execution_count": 21,
   "id": "a14c7161",
   "metadata": {},
   "outputs": [
    {
     "name": "stdout",
     "output_type": "stream",
     "text": [
      "True\n"
     ]
    }
   ],
   "source": [
    "a = 1000\n",
    "b = a\n",
    "\n",
    "print(a is b)"
   ]
  },
  {
   "cell_type": "code",
   "execution_count": null,
   "id": "630da697",
   "metadata": {},
   "outputs": [],
   "source": [
    "#8. membership\n",
    "\n",
    "op - in and not in\n",
    "return - bool\n",
    "it is used to find if the sub seq is present in the seq or not"
   ]
  },
  {
   "cell_type": "code",
   "execution_count": null,
   "id": "ea7d1668",
   "metadata": {},
   "outputs": [],
   "source": [
    "#9. ternary op\n",
    "\n",
    "syntax\n",
    "- expr1 if cond1 else exp2 --> if cond 1 is True then exp1 will be exec else exp2\n",
    "- expr1 if cond1 else expr2 if cond2 esle exp3"
   ]
  },
  {
   "cell_type": "code",
   "execution_count": 31,
   "id": "6e7bdad8",
   "metadata": {},
   "outputs": [
    {
     "name": "stdout",
     "output_type": "stream",
     "text": [
      "neymar\n"
     ]
    }
   ],
   "source": [
    "print('messi' if 13 < 11 else 'ronaldo' if id(10) is id(10) else 'neymar')"
   ]
  },
  {
   "cell_type": "code",
   "execution_count": 28,
   "id": "18ab8cba",
   "metadata": {},
   "outputs": [
    {
     "data": {
      "text/plain": [
       "False"
      ]
     },
     "execution_count": 28,
     "metadata": {},
     "output_type": "execute_result"
    }
   ],
   "source": [
    "id(10) is id(10)"
   ]
  },
  {
   "cell_type": "code",
   "execution_count": 26,
   "id": "de27d18f",
   "metadata": {},
   "outputs": [
    {
     "data": {
      "text/plain": [
       "140623940348496"
      ]
     },
     "execution_count": 26,
     "metadata": {},
     "output_type": "execute_result"
    }
   ],
   "source": [
    "id(10)"
   ]
  },
  {
   "cell_type": "code",
   "execution_count": 27,
   "id": "771673f5",
   "metadata": {},
   "outputs": [
    {
     "data": {
      "text/plain": [
       "140623940348496"
      ]
     },
     "execution_count": 27,
     "metadata": {},
     "output_type": "execute_result"
    }
   ],
   "source": [
    "id(10)"
   ]
  },
  {
   "cell_type": "code",
   "execution_count": 30,
   "id": "bb02efbd",
   "metadata": {},
   "outputs": [
    {
     "name": "stdout",
     "output_type": "stream",
     "text": [
      "False\n"
     ]
    }
   ],
   "source": [
    "print(id(100) is id(100))"
   ]
  },
  {
   "cell_type": "code",
   "execution_count": 33,
   "id": "653eecca",
   "metadata": {},
   "outputs": [
    {
     "name": "stdout",
     "output_type": "stream",
     "text": [
      "neymar\n"
     ]
    }
   ],
   "source": [
    "print('messi' if True==0 else 'ronaldo' if True and False else 'neymar')"
   ]
  },
  {
   "cell_type": "code",
   "execution_count": 36,
   "id": "cf918078",
   "metadata": {},
   "outputs": [
    {
     "name": "stdout",
     "output_type": "stream",
     "text": [
      "True\n"
     ]
    }
   ],
   "source": [
    "# -5 to 256\n",
    "\n",
    "a = 100\n",
    "b = 100\n",
    "\n",
    "print(a is b)"
   ]
  },
  {
   "cell_type": "code",
   "execution_count": 37,
   "id": "6f16aac7",
   "metadata": {},
   "outputs": [
    {
     "name": "stdout",
     "output_type": "stream",
     "text": [
      "False\n"
     ]
    }
   ],
   "source": [
    "print(id(10) is id(10))"
   ]
  },
  {
   "cell_type": "code",
   "execution_count": 38,
   "id": "d2dd6f3b",
   "metadata": {},
   "outputs": [
    {
     "data": {
      "text/plain": [
       "140623940348496"
      ]
     },
     "execution_count": 38,
     "metadata": {},
     "output_type": "execute_result"
    }
   ],
   "source": [
    "id(10)"
   ]
  },
  {
   "cell_type": "code",
   "execution_count": 40,
   "id": "2692effd",
   "metadata": {},
   "outputs": [
    {
     "name": "stdout",
     "output_type": "stream",
     "text": [
      "0b100001110\n",
      "270\n"
     ]
    }
   ],
   "source": [
    "# bineary representation , 0,1, 0b, bin()\n",
    "\n",
    "num = 270\n",
    "print(bin(num))\n",
    "print(0b100001110)"
   ]
  },
  {
   "cell_type": "code",
   "execution_count": 42,
   "id": "957e4ba8",
   "metadata": {},
   "outputs": [
    {
     "name": "stdout",
     "output_type": "stream",
     "text": [
      "0o416\n",
      "270\n"
     ]
    }
   ],
   "source": [
    "# octal representation - 0-7, 0o , oct()\n",
    "num = 270\n",
    "print(oct(num))\n",
    "print(0o416)"
   ]
  },
  {
   "cell_type": "code",
   "execution_count": 44,
   "id": "a10e86ae",
   "metadata": {},
   "outputs": [
    {
     "name": "stdout",
     "output_type": "stream",
     "text": [
      "0x10e\n",
      "270\n"
     ]
    }
   ],
   "source": [
    "# hexadecimal rep - 0-9 , a-f , 0x hex()\n",
    "\n",
    "num = 270\n",
    "print(hex(num))\n",
    "print(0x10e)"
   ]
  },
  {
   "cell_type": "code",
   "execution_count": null,
   "id": "5e367743",
   "metadata": {},
   "outputs": [],
   "source": [
    "# operator precedence\n",
    "\n",
    "()\n",
    "**\n",
    "+x, -x , ~x - unary op\n",
    "*,/,//,%\n",
    "+,-\n",
    "<< , >>\n",
    "&\n",
    "^\n",
    "|\n",
    "== , != , > , >= , < , <=\n",
    "not\n",
    "and\n",
    "or"
   ]
  },
  {
   "cell_type": "code",
   "execution_count": 45,
   "id": "18b8bfc5",
   "metadata": {},
   "outputs": [
    {
     "data": {
      "text/plain": [
       "-10"
      ]
     },
     "execution_count": 45,
     "metadata": {},
     "output_type": "execute_result"
    }
   ],
   "source": [
    "10 + (a = 10+20)"
   ]
  },
  {
   "cell_type": "code",
   "execution_count": null,
   "id": "e007f234",
   "metadata": {},
   "outputs": [],
   "source": [
    "# type casting\n",
    "\n"
   ]
  }
 ],
 "metadata": {
  "kernelspec": {
   "display_name": "Python 3 (ipykernel)",
   "language": "python",
   "name": "python3"
  },
  "language_info": {
   "codemirror_mode": {
    "name": "ipython",
    "version": 3
   },
   "file_extension": ".py",
   "mimetype": "text/x-python",
   "name": "python",
   "nbconvert_exporter": "python",
   "pygments_lexer": "ipython3",
   "version": "3.9.12"
  }
 },
 "nbformat": 4,
 "nbformat_minor": 5
}
