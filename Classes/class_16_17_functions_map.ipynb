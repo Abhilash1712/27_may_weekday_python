{
 "cells": [
  {
   "cell_type": "code",
   "execution_count": 2,
   "id": "aedf9f57",
   "metadata": {},
   "outputs": [
    {
     "name": "stdout",
     "output_type": "stream",
     "text": [
      "not a palindrome\n",
      "30\n",
      "palindrome\n"
     ]
    }
   ],
   "source": [
    "data = 'abc'\n",
    "\n",
    "if data == data[::-1]:\n",
    "    print('palindrome')\n",
    "else:\n",
    "    print('not a palindrome')\n",
    "    \n",
    "num_1 = 10\n",
    "num_2 = 20\n",
    "\n",
    "print(num_1 + num_2)\n",
    "\n",
    "data = 'level'\n",
    "if data == data[::-1]:\n",
    "    print('palindrome')\n",
    "else:\n",
    "    print('not a palindrome')"
   ]
  },
  {
   "cell_type": "code",
   "execution_count": null,
   "id": "15410df4",
   "metadata": {},
   "outputs": [],
   "source": [
    "# why functions\n",
    "\n",
    "if we have a certain line of code that has to be used again and again"
   ]
  },
  {
   "cell_type": "code",
   "execution_count": null,
   "id": "fec878fc",
   "metadata": {},
   "outputs": [],
   "source": [
    "# Functions\n",
    "\n",
    "- it folloes a principal and it is called as DRY(Do not repeat yourself)\n",
    "\n",
    "2 things\n",
    "\n",
    " - function defination - we define the function or we define the task in the function\n",
    " - function call - we execute the fucntion\n",
    "\n",
    "syntax\n",
    "    - function defination\n",
    "    \n",
    "    def function_name(paramter):\n",
    "        statment1\n",
    "        statment2\n",
    "        return statment3\n",
    "    \n",
    "    - optional - return and paramter\n",
    "\n",
    "    - function call\n",
    "        function_name(args)\n",
    "        \n",
    "Notes - if the paramter is present then only args should be der"
   ]
  },
  {
   "cell_type": "code",
   "execution_count": 3,
   "id": "c8be67be",
   "metadata": {},
   "outputs": [],
   "source": [
    "# fucntion to add 2 numbers\n",
    "\n",
    "def add_numbers():\n",
    "    num = 10\n",
    "    num2 = 20\n",
    "    print(10+20)"
   ]
  },
  {
   "cell_type": "code",
   "execution_count": 4,
   "id": "4c8f66e2",
   "metadata": {},
   "outputs": [
    {
     "name": "stdout",
     "output_type": "stream",
     "text": [
      "30\n"
     ]
    }
   ],
   "source": [
    "add_numbers()"
   ]
  },
  {
   "cell_type": "code",
   "execution_count": 6,
   "id": "fd8e5155",
   "metadata": {},
   "outputs": [
    {
     "name": "stdout",
     "output_type": "stream",
     "text": [
      "30\n"
     ]
    }
   ],
   "source": [
    "add_numbers()"
   ]
  },
  {
   "cell_type": "code",
   "execution_count": 7,
   "id": "d74c4f1d",
   "metadata": {},
   "outputs": [
    {
     "name": "stdout",
     "output_type": "stream",
     "text": [
      "30\n"
     ]
    }
   ],
   "source": [
    "add_numbers()"
   ]
  },
  {
   "cell_type": "code",
   "execution_count": 8,
   "id": "cf4112b1",
   "metadata": {},
   "outputs": [],
   "source": [
    "# dynamic\n",
    "\n",
    "def add_numbers(num1,num2):\n",
    "    print(num1+num2)"
   ]
  },
  {
   "cell_type": "code",
   "execution_count": 9,
   "id": "3d6106c4",
   "metadata": {},
   "outputs": [
    {
     "name": "stdout",
     "output_type": "stream",
     "text": [
      "12\n"
     ]
    }
   ],
   "source": [
    "add_numbers(5,7)"
   ]
  },
  {
   "cell_type": "code",
   "execution_count": 11,
   "id": "c3ab0d8a",
   "metadata": {},
   "outputs": [
    {
     "name": "stdout",
     "output_type": "stream",
     "text": [
      "100\n"
     ]
    }
   ],
   "source": [
    "add_numbers(20,80)"
   ]
  },
  {
   "cell_type": "code",
   "execution_count": null,
   "id": "f3079cb5",
   "metadata": {},
   "outputs": [],
   "source": [
    "# write a fucntion to check if the string is palindrome or not"
   ]
  },
  {
   "cell_type": "code",
   "execution_count": 12,
   "id": "977c7eef",
   "metadata": {},
   "outputs": [],
   "source": [
    "def palindrome(string):\n",
    "    if string == string[::-1]:\n",
    "        print('palindrome')\n",
    "    else:\n",
    "        print('not a palindrome')"
   ]
  },
  {
   "cell_type": "code",
   "execution_count": 13,
   "id": "9ee70838",
   "metadata": {},
   "outputs": [
    {
     "name": "stdout",
     "output_type": "stream",
     "text": [
      "palindrome\n"
     ]
    }
   ],
   "source": [
    "palindrome('level')"
   ]
  },
  {
   "cell_type": "code",
   "execution_count": 14,
   "id": "a48bbcba",
   "metadata": {},
   "outputs": [
    {
     "name": "stdout",
     "output_type": "stream",
     "text": [
      "not a palindrome\n"
     ]
    }
   ],
   "source": [
    "palindrome('abc')"
   ]
  },
  {
   "cell_type": "code",
   "execution_count": null,
   "id": "ee88720d",
   "metadata": {},
   "outputs": [],
   "source": [
    "# Types of Args/paramter \n",
    "\n",
    "1. Positional args\n",
    "\n",
    "- the order is important\n",
    "- number of args should match number of paramters"
   ]
  },
  {
   "cell_type": "code",
   "execution_count": 15,
   "id": "e6961421",
   "metadata": {},
   "outputs": [],
   "source": [
    "def emp_data(emp_name,emp_sal,emp_id):\n",
    "    print(emp_name)\n",
    "    print(emp_sal)    \n",
    "    print(emp_id)    "
   ]
  },
  {
   "cell_type": "code",
   "execution_count": 16,
   "id": "0e8d119a",
   "metadata": {},
   "outputs": [
    {
     "name": "stdout",
     "output_type": "stream",
     "text": [
      "afsan\n",
      "50k\n",
      "777\n"
     ]
    }
   ],
   "source": [
    "emp_data('afsan','50k',777)"
   ]
  },
  {
   "cell_type": "code",
   "execution_count": 18,
   "id": "d9503c4c",
   "metadata": {},
   "outputs": [
    {
     "ename": "TypeError",
     "evalue": "emp_data() takes 3 positional arguments but 4 were given",
     "output_type": "error",
     "traceback": [
      "\u001b[0;31m---------------------------------------------------------------------------\u001b[0m",
      "\u001b[0;31mTypeError\u001b[0m                                 Traceback (most recent call last)",
      "Input \u001b[0;32mIn [18]\u001b[0m, in \u001b[0;36m<cell line: 1>\u001b[0;34m()\u001b[0m\n\u001b[0;32m----> 1\u001b[0m \u001b[43memp_data\u001b[49m\u001b[43m(\u001b[49m\u001b[38;5;124;43m'\u001b[39;49m\u001b[38;5;124;43mafsan\u001b[39;49m\u001b[38;5;124;43m'\u001b[39;49m\u001b[43m,\u001b[49m\u001b[38;5;124;43m'\u001b[39;49m\u001b[38;5;124;43m50k\u001b[39;49m\u001b[38;5;124;43m'\u001b[39;49m\u001b[43m,\u001b[49m\u001b[38;5;241;43m777\u001b[39;49m\u001b[43m,\u001b[49m\u001b[38;5;241;43m45\u001b[39;49m\u001b[43m)\u001b[49m\n",
      "\u001b[0;31mTypeError\u001b[0m: emp_data() takes 3 positional arguments but 4 were given"
     ]
    }
   ],
   "source": [
    "emp_data('afsan','50k',777,45)"
   ]
  },
  {
   "cell_type": "code",
   "execution_count": null,
   "id": "a913446b",
   "metadata": {},
   "outputs": [],
   "source": [
    "emp_data(20,'afsan',777)"
   ]
  },
  {
   "cell_type": "code",
   "execution_count": null,
   "id": "83ed4a60",
   "metadata": {},
   "outputs": [],
   "source": [
    "# deafult args"
   ]
  },
  {
   "cell_type": "code",
   "execution_count": 19,
   "id": "4fb6648f",
   "metadata": {},
   "outputs": [],
   "source": [
    "def emp_data(emp_name,emp_sal,emp_id,emp_loc,company_loc='banglore'):\n",
    "    print(emp_name)\n",
    "    print(emp_sal)    \n",
    "    print(emp_id)\n",
    "    print(emp_loc)\n",
    "    print(company_loc)"
   ]
  },
  {
   "cell_type": "code",
   "execution_count": 20,
   "id": "c1a41154",
   "metadata": {},
   "outputs": [
    {
     "name": "stdout",
     "output_type": "stream",
     "text": [
      "afsan\n",
      "90\n",
      "678\n",
      "goa\n",
      "banglore\n"
     ]
    }
   ],
   "source": [
    "emp_data('afsan',90,678,'goa')"
   ]
  },
  {
   "cell_type": "code",
   "execution_count": 21,
   "id": "af94ec04",
   "metadata": {},
   "outputs": [
    {
     "name": "stdout",
     "output_type": "stream",
     "text": [
      "afsan\n",
      "90\n",
      "678\n",
      "chennai\n",
      "chennai\n"
     ]
    }
   ],
   "source": [
    "emp_data('afsan',90,678,'chennai','chennai')"
   ]
  },
  {
   "cell_type": "code",
   "execution_count": 22,
   "id": "650de8fc",
   "metadata": {},
   "outputs": [],
   "source": [
    "# deafult args should be always at last"
   ]
  },
  {
   "cell_type": "code",
   "execution_count": 23,
   "id": "3cf204f3",
   "metadata": {},
   "outputs": [
    {
     "ename": "SyntaxError",
     "evalue": "non-default argument follows default argument (2285998132.py, line 1)",
     "output_type": "error",
     "traceback": [
      "\u001b[0;36m  Input \u001b[0;32mIn [23]\u001b[0;36m\u001b[0m\n\u001b[0;31m    def emp_data(emp_loc='goa',emp_name,emp_sal,emp_id,company_loc='banglore'):\u001b[0m\n\u001b[0m                                        ^\u001b[0m\n\u001b[0;31mSyntaxError\u001b[0m\u001b[0;31m:\u001b[0m non-default argument follows default argument\n"
     ]
    }
   ],
   "source": [
    "def emp_data(emp_name,emp_sal,emp_id,emp_loc='goa',company_loc='banglore'):\n",
    "    print(emp_name)\n",
    "    print(emp_sal)    \n",
    "    print(emp_id)\n",
    "    print(emp_loc)\n",
    "    print(company_loc)"
   ]
  },
  {
   "cell_type": "code",
   "execution_count": 25,
   "id": "15d639ae",
   "metadata": {},
   "outputs": [
    {
     "name": "stdout",
     "output_type": "stream",
     "text": [
      "afsan\n",
      "40\n",
      "786\n",
      "delhi\n",
      "chennai\n"
     ]
    }
   ],
   "source": [
    "emp_data('afsan',40,786,'delhi','chennai')"
   ]
  },
  {
   "cell_type": "code",
   "execution_count": 26,
   "id": "4df76f21",
   "metadata": {},
   "outputs": [],
   "source": [
    "#3. keyword args\n",
    "\n",
    "def emp_data(emp_name,emp_sal,emp_id,emp_loc='goa',company_loc='banglore'):\n",
    "    print(emp_name)\n",
    "    print(emp_sal)    \n",
    "    print(emp_id)\n",
    "    print(emp_loc)\n",
    "    print(company_loc)"
   ]
  },
  {
   "cell_type": "code",
   "execution_count": 27,
   "id": "9263cec4",
   "metadata": {},
   "outputs": [
    {
     "name": "stdout",
     "output_type": "stream",
     "text": [
      "afsan\n",
      "40\n",
      "786\n",
      "goa\n",
      "abc\n"
     ]
    }
   ],
   "source": [
    "emp_data('afsan',40,786,company_loc='abc')"
   ]
  },
  {
   "cell_type": "code",
   "execution_count": null,
   "id": "cdcaad3e",
   "metadata": {},
   "outputs": [],
   "source": [
    "emp_data('afsan',40,786,company_loc='abc')"
   ]
  },
  {
   "cell_type": "code",
   "execution_count": 31,
   "id": "6afdf880",
   "metadata": {},
   "outputs": [
    {
     "name": "stdout",
     "output_type": "stream",
     "text": [
      "afsan\n",
      "40\n",
      "786\n",
      "goa\n",
      "abc\n"
     ]
    }
   ],
   "source": [
    "emp_data(emp_sal=40,emp_id=786,company_loc='abc',emp_name ='afsan')"
   ]
  },
  {
   "cell_type": "code",
   "execution_count": 32,
   "id": "e02b6c77",
   "metadata": {},
   "outputs": [
    {
     "name": "stdout",
     "output_type": "stream",
     "text": [
      "afsan\n",
      "40\n",
      "786\n",
      "goa\n",
      "abc\n"
     ]
    }
   ],
   "source": [
    "# args and kwargs"
   ]
  },
  {
   "cell_type": "code",
   "execution_count": 33,
   "id": "e93d70c0",
   "metadata": {},
   "outputs": [],
   "source": [
    "def employee_data(*args):\n",
    "    print(args)"
   ]
  },
  {
   "cell_type": "code",
   "execution_count": 34,
   "id": "4ecc8ce9",
   "metadata": {},
   "outputs": [
    {
     "name": "stdout",
     "output_type": "stream",
     "text": [
      "('name', 'abc', 'xyz')\n"
     ]
    }
   ],
   "source": [
    "employee_data('name','abc','xyz')"
   ]
  },
  {
   "cell_type": "code",
   "execution_count": null,
   "id": "74f776fe",
   "metadata": {},
   "outputs": [],
   "source": [
    "args = 'name','abc','xyz'"
   ]
  },
  {
   "cell_type": "code",
   "execution_count": 3,
   "id": "f6c532dd",
   "metadata": {},
   "outputs": [
    {
     "name": "stdout",
     "output_type": "stream",
     "text": [
      "afsan\n",
      "40\n",
      "786\n",
      "goa\n",
      "abc\n"
     ]
    }
   ],
   "source": [
    "emp_data(emp_sal=40,emp_id=786,company_loc='abc',emp_name ='afsan')"
   ]
  },
  {
   "cell_type": "code",
   "execution_count": 2,
   "id": "daab3361",
   "metadata": {},
   "outputs": [],
   "source": [
    "# emp_data(emp_sal=40,emp_id=786,company_loc='abc',emp_name ='afsan')\n",
    "\n",
    "def emp_data(emp_name,emp_sal,emp_id,emp_loc='goa',company_loc='banglore'):\n",
    "    print(emp_name)\n",
    "    print(emp_sal)    \n",
    "    print(emp_id)\n",
    "    print(emp_loc)\n",
    "    print(company_loc)"
   ]
  },
  {
   "cell_type": "code",
   "execution_count": null,
   "id": "a90efd91",
   "metadata": {},
   "outputs": [],
   "source": [
    "# Return\n",
    "\n",
    "- it is optional in function\n",
    "- it not used it will return None by default\n",
    "- you can return any data type\n",
    "- you can return a function also"
   ]
  },
  {
   "cell_type": "code",
   "execution_count": null,
   "id": "149b152e",
   "metadata": {},
   "outputs": [],
   "source": [
    "def emp_data(emp_name,emp_sal,emp_id,emp_loc='goa',company_loc='banglore'):\n",
    "    print(emp_name)\n",
    "    print(emp_sal)    \n",
    "    print(emp_id)\n",
    "    print(emp_loc)\n",
    "    print(company_loc)\n",
    "    return None\n",
    "    \n",
    "print('abc')\n",
    "print('xyz')\n",
    "print('ooo')\n",
    "\n",
    "emp_data(emp_sal=40,emp_id=786,company_loc='abc',emp_name ='afsan')"
   ]
  },
  {
   "cell_type": "code",
   "execution_count": 6,
   "id": "cf99df3f",
   "metadata": {},
   "outputs": [],
   "source": [
    "def sum(num1,num2):\n",
    "    c = num1 + num2\n",
    "    return c"
   ]
  },
  {
   "cell_type": "code",
   "execution_count": 7,
   "id": "87275d82",
   "metadata": {},
   "outputs": [],
   "source": [
    "data = sum(10,100)"
   ]
  },
  {
   "cell_type": "code",
   "execution_count": 8,
   "id": "19003fd2",
   "metadata": {},
   "outputs": [
    {
     "data": {
      "text/plain": [
       "100"
      ]
     },
     "execution_count": 8,
     "metadata": {},
     "output_type": "execute_result"
    }
   ],
   "source": [
    "# business login\n",
    "\n",
    "data - 10"
   ]
  },
  {
   "cell_type": "code",
   "execution_count": 15,
   "id": "9be37bb7",
   "metadata": {},
   "outputs": [],
   "source": [
    "def sum(num1,num2):\n",
    "    c = num1 + num2\n",
    "    d = num1 * num2\n",
    "    return c , d"
   ]
  },
  {
   "cell_type": "code",
   "execution_count": 16,
   "id": "46750daa",
   "metadata": {},
   "outputs": [
    {
     "name": "stdout",
     "output_type": "stream",
     "text": [
      "<class 'tuple'> (1, 2, 3, 4, 5)\n"
     ]
    }
   ],
   "source": [
    "c,d = sum(10,100)\n",
    "print(type(data), data)"
   ]
  },
  {
   "cell_type": "code",
   "execution_count": null,
   "id": "07d0c12a",
   "metadata": {},
   "outputs": [],
   "source": [
    "# what is a recursive function, explian with a program\n",
    "\n",
    "- funciton calling itself is called as recursive function"
   ]
  },
  {
   "cell_type": "code",
   "execution_count": 1,
   "id": "d7c9b9bf",
   "metadata": {},
   "outputs": [],
   "source": [
    "# factorial \n",
    "\n",
    "# 5! --> 5*4*3*2*1 - 120\n",
    "\n",
    "def fact(num):\n",
    "    if num==0:\n",
    "        return 1\n",
    "    else:\n",
    "        return num*fact(num-1)"
   ]
  },
  {
   "cell_type": "code",
   "execution_count": 4,
   "id": "0a4527f3",
   "metadata": {},
   "outputs": [
    {
     "data": {
      "text/plain": [
       "120"
      ]
     },
     "execution_count": 4,
     "metadata": {},
     "output_type": "execute_result"
    }
   ],
   "source": [
    "fact(5)"
   ]
  },
  {
   "cell_type": "code",
   "execution_count": 5,
   "id": "99a05dfc",
   "metadata": {},
   "outputs": [
    {
     "data": {
      "text/plain": [
       "120"
      ]
     },
     "execution_count": 5,
     "metadata": {},
     "output_type": "execute_result"
    }
   ],
   "source": [
    "# use recurisve funciton for a fibonacci series"
   ]
  },
  {
   "cell_type": "code",
   "execution_count": null,
   "id": "242185ca",
   "metadata": {},
   "outputs": [],
   "source": [
    "# Anonymous fucntion (function without a name) - lambda funtion\n",
    "\n",
    "- a lambda fucntion is small anonymopus function\n",
    "- a lambda fucntion can take any number of args, but can only have one expression\n",
    "\n",
    "syntax\n",
    "\n",
    "- lambda args: expression"
   ]
  },
  {
   "cell_type": "code",
   "execution_count": 6,
   "id": "59372991",
   "metadata": {},
   "outputs": [],
   "source": [
    "def sum(a,b):\n",
    "    return a+b"
   ]
  },
  {
   "cell_type": "code",
   "execution_count": 7,
   "id": "131775be",
   "metadata": {},
   "outputs": [
    {
     "data": {
      "text/plain": [
       "30"
      ]
     },
     "execution_count": 7,
     "metadata": {},
     "output_type": "execute_result"
    }
   ],
   "source": [
    "sum(10,20)"
   ]
  },
  {
   "cell_type": "code",
   "execution_count": 11,
   "id": "42112b99",
   "metadata": {},
   "outputs": [
    {
     "ename": "SyntaxError",
     "evalue": "invalid non-printable character U+00A0 (3298077676.py, line 1)",
     "output_type": "error",
     "traceback": [
      "\u001b[0;36m  Input \u001b[0;32mIn [11]\u001b[0;36m\u001b[0m\n\u001b[0;31m    (lambda a,b : a+b)\u001b[0m\n\u001b[0m           ^\u001b[0m\n\u001b[0;31mSyntaxError\u001b[0m\u001b[0;31m:\u001b[0m invalid non-printable character U+00A0\n"
     ]
    }
   ],
   "source": [
    "(lambda a,b : a+b)"
   ]
  },
  {
   "cell_type": "code",
   "execution_count": 15,
   "id": "e6259964",
   "metadata": {},
   "outputs": [
    {
     "data": {
      "text/plain": [
       "30"
      ]
     },
     "execution_count": 15,
     "metadata": {},
     "output_type": "execute_result"
    }
   ],
   "source": [
    "myFunc = lambda x,y: x +y\n",
    "myFunc(10,20)"
   ]
  },
  {
   "cell_type": "code",
   "execution_count": 11,
   "id": "bf74c637",
   "metadata": {},
   "outputs": [
    {
     "data": {
      "text/plain": [
       "30"
      ]
     },
     "execution_count": 11,
     "metadata": {},
     "output_type": "execute_result"
    }
   ],
   "source": [
    "myFunc = lambda x,y: x + y\n",
    "myFunc(10,20)"
   ]
  },
  {
   "cell_type": "code",
   "execution_count": 16,
   "id": "1630b496",
   "metadata": {},
   "outputs": [
    {
     "data": {
      "text/plain": [
       "110"
      ]
     },
     "execution_count": 16,
     "metadata": {},
     "output_type": "execute_result"
    }
   ],
   "source": [
    "myFunc(90,20)"
   ]
  },
  {
   "cell_type": "code",
   "execution_count": null,
   "id": "eef8233d",
   "metadata": {},
   "outputs": [],
   "source": [
    "# write a function for odd and even number\n",
    "\n",
    "# normal function\n",
    "\n",
    "# lambda also"
   ]
  },
  {
   "cell_type": "code",
   "execution_count": 20,
   "id": "d93c4f7b",
   "metadata": {},
   "outputs": [],
   "source": [
    "def odd_even(num):\n",
    "    if num %2 ==0:\n",
    "        return \"even\"\n",
    "    else:\n",
    "        return \"odd\""
   ]
  },
  {
   "cell_type": "code",
   "execution_count": 22,
   "id": "081bd7d2",
   "metadata": {},
   "outputs": [
    {
     "data": {
      "text/plain": [
       "'even'"
      ]
     },
     "execution_count": 22,
     "metadata": {},
     "output_type": "execute_result"
    }
   ],
   "source": [
    "odd_even(8)"
   ]
  },
  {
   "cell_type": "code",
   "execution_count": 23,
   "id": "7157964d",
   "metadata": {},
   "outputs": [],
   "source": [
    "x = lambda num:'even' if num%2==0 else 'odd'"
   ]
  },
  {
   "cell_type": "code",
   "execution_count": 26,
   "id": "015d90ec",
   "metadata": {},
   "outputs": [
    {
     "data": {
      "text/plain": [
       "'odd'"
      ]
     },
     "execution_count": 26,
     "metadata": {},
     "output_type": "execute_result"
    }
   ],
   "source": [
    "x(11)"
   ]
  },
  {
   "cell_type": "code",
   "execution_count": null,
   "id": "1f955dc7",
   "metadata": {},
   "outputs": [],
   "source": [
    "# local and global variable\n",
    "\n",
    "- global variable - this vairbale you can use anywhere in the program\n",
    "- local varibale - this varibale can be used inside a paticular scope only"
   ]
  },
  {
   "cell_type": "code",
   "execution_count": 1,
   "id": "e203b60e",
   "metadata": {},
   "outputs": [
    {
     "name": "stdout",
     "output_type": "stream",
     "text": [
      "10\n",
      "20\n"
     ]
    },
    {
     "ename": "NameError",
     "evalue": "name 'c' is not defined",
     "output_type": "error",
     "traceback": [
      "\u001b[0;31m---------------------------------------------------------------------------\u001b[0m",
      "\u001b[0;31mNameError\u001b[0m                                 Traceback (most recent call last)",
      "Input \u001b[0;32mIn [1]\u001b[0m, in \u001b[0;36m<cell line: 12>\u001b[0;34m()\u001b[0m\n\u001b[1;32m     10\u001b[0m \u001b[38;5;28mprint\u001b[39m(a)\n\u001b[1;32m     11\u001b[0m \u001b[38;5;28mprint\u001b[39m(b)\n\u001b[0;32m---> 12\u001b[0m \u001b[38;5;28mprint\u001b[39m(\u001b[43mc\u001b[49m)\n",
      "\u001b[0;31mNameError\u001b[0m: name 'c' is not defined"
     ]
    }
   ],
   "source": [
    "# global varibale\n",
    "a = 10\n",
    "b = 20\n",
    "c = 70\n",
    "\n",
    "def abc():\n",
    "    # local varibale\n",
    "    c = a + b\n",
    "\n",
    "abc()\n",
    "print(a)\n",
    "print(b)\n",
    "print(c)"
   ]
  },
  {
   "cell_type": "code",
   "execution_count": 29,
   "id": "fd976d27",
   "metadata": {},
   "outputs": [
    {
     "name": "stdout",
     "output_type": "stream",
     "text": [
      "30\n",
      "20\n",
      "30\n"
     ]
    }
   ],
   "source": [
    "# global varibale\n",
    "a = 10\n",
    "b = 20\n",
    "\n",
    "def abc():\n",
    "    # local varibale\n",
    "    global a\n",
    "    c = a +b\n",
    "    a = 30\n",
    "    return c\n",
    "\n",
    "c = abc()\n",
    "print(a)\n",
    "print(b)\n",
    "print(c)"
   ]
  },
  {
   "cell_type": "code",
   "execution_count": 2,
   "id": "93e8eef3",
   "metadata": {},
   "outputs": [
    {
     "name": "stdout",
     "output_type": "stream",
     "text": [
      "10\n",
      "20\n",
      "30\n"
     ]
    }
   ],
   "source": [
    "# global varibale\n",
    "a = 10\n",
    "b = 20\n",
    "c = None\n",
    "\n",
    "def abc():\n",
    "    # local varibale\n",
    "    global c\n",
    "    c = a + b\n",
    "\n",
    "abc()\n",
    "print(a)\n",
    "print(b)\n",
    "print(c)"
   ]
  },
  {
   "cell_type": "code",
   "execution_count": null,
   "id": "7a81234e",
   "metadata": {},
   "outputs": [],
   "source": [
    "# map()\n",
    "\n",
    "the map fucnion takes 2 args\n",
    "\n",
    "1. a function\n",
    "2. a seq iterable\n",
    "\n",
    "synatx - map(funciton , iterable)"
   ]
  },
  {
   "cell_type": "code",
   "execution_count": 3,
   "id": "aeb433d9",
   "metadata": {},
   "outputs": [],
   "source": [
    "temp_c = [8,5,8,3,6,7]\n",
    "\n",
    "def fah(T):\n",
    "    return (9/5)*T + 32"
   ]
  },
  {
   "cell_type": "code",
   "execution_count": 4,
   "id": "ce371201",
   "metadata": {},
   "outputs": [],
   "source": [
    "temp_f = []\n",
    "for i in temp_c:\n",
    "    temp_f.append(fah(i))"
   ]
  },
  {
   "cell_type": "code",
   "execution_count": 5,
   "id": "8963cc1a",
   "metadata": {},
   "outputs": [
    {
     "data": {
      "text/plain": [
       "[46.4, 41.0, 46.4, 37.4, 42.8, 44.6]"
      ]
     },
     "execution_count": 5,
     "metadata": {},
     "output_type": "execute_result"
    }
   ],
   "source": [
    "temp_f"
   ]
  },
  {
   "cell_type": "code",
   "execution_count": 7,
   "id": "c9c54946",
   "metadata": {},
   "outputs": [
    {
     "data": {
      "text/plain": [
       "[46.4, 41.0, 46.4, 37.4, 42.8, 44.6]"
      ]
     },
     "execution_count": 7,
     "metadata": {},
     "output_type": "execute_result"
    }
   ],
   "source": [
    "list(map(fah,[8,5,8,3,6,7]))"
   ]
  },
  {
   "cell_type": "code",
   "execution_count": 8,
   "id": "97e0d69e",
   "metadata": {},
   "outputs": [
    {
     "data": {
      "text/plain": [
       "[46.4, 41.0, 46.4, 37.4, 42.8, 44.6]"
      ]
     },
     "execution_count": 8,
     "metadata": {},
     "output_type": "execute_result"
    }
   ],
   "source": [
    "list(map(lambda T:(9/5)*T + 32,[8,5,8,3,6,7]))"
   ]
  },
  {
   "cell_type": "code",
   "execution_count": null,
   "id": "66dc32aa",
   "metadata": {},
   "outputs": [],
   "source": [
    "temp_c = [8,5,8,3,6,7]"
   ]
  },
  {
   "cell_type": "code",
   "execution_count": 11,
   "id": "1f407ec0",
   "metadata": {},
   "outputs": [
    {
     "data": {
      "text/plain": [
       "[64, 25, 64, 9, 36, 49]"
      ]
     },
     "execution_count": 11,
     "metadata": {},
     "output_type": "execute_result"
    }
   ],
   "source": [
    "a = [8,5,8,3,6,7]\n",
    "b = [8,5,8,3,6,7]\n",
    "\n",
    "list(map(lambda a,b:a*b,a,b))"
   ]
  },
  {
   "cell_type": "code",
   "execution_count": null,
   "id": "227aefa9",
   "metadata": {},
   "outputs": [],
   "source": [
    "reduce()\n",
    "\n",
    "the reduce fucnion takes 2 args\n",
    "\n",
    "1. a function # note rducr function will always take 2 parameters\n",
    "2. a seq iterable\n",
    "\n",
    "use case\n",
    "\n",
    "- sum\n",
    "- max\n",
    "- min\n",
    "- avg"
   ]
  },
  {
   "cell_type": "code",
   "execution_count": 13,
   "id": "31883e6c",
   "metadata": {},
   "outputs": [
    {
     "data": {
      "text/plain": [
       "50"
      ]
     },
     "execution_count": 13,
     "metadata": {},
     "output_type": "execute_result"
    }
   ],
   "source": [
    "from functools import reduce\n",
    "data = [8,50,8,3,6,7]\n",
    "\n",
    "# max\n",
    "reduce(lambda a,b:a if a>b else b, data )"
   ]
  },
  {
   "cell_type": "code",
   "execution_count": 14,
   "id": "8eaec40e",
   "metadata": {},
   "outputs": [
    {
     "data": {
      "text/plain": [
       "3"
      ]
     },
     "execution_count": 14,
     "metadata": {},
     "output_type": "execute_result"
    }
   ],
   "source": [
    "from functools import reduce\n",
    "data = [8,50,8,3,6,7]\n",
    "\n",
    "# min\n",
    "reduce(lambda a,b:a if a<b else b, data )"
   ]
  },
  {
   "cell_type": "code",
   "execution_count": 17,
   "id": "59bf1fe0",
   "metadata": {},
   "outputs": [
    {
     "data": {
      "text/plain": [
       "82"
      ]
     },
     "execution_count": 17,
     "metadata": {},
     "output_type": "execute_result"
    }
   ],
   "source": [
    "from functools import reduce\n",
    "data = [8,50,8,3,6,7]\n",
    "\n",
    "# sum\n",
    "reduce(lambda a,b:a+b, data )"
   ]
  },
  {
   "cell_type": "code",
   "execution_count": null,
   "id": "0fd600ef",
   "metadata": {},
   "outputs": [],
   "source": [
    "# filter\n",
    "\n",
    "this filter needs a fuction as a first and args, the fucntion needs to retrun a bool. the function will be applied to every\n",
    "element of iterable and only thise data will be included in the final list which return the True bool value"
   ]
  },
  {
   "cell_type": "code",
   "execution_count": 20,
   "id": "030d6b6a",
   "metadata": {},
   "outputs": [
    {
     "data": {
      "text/plain": [
       "[4, 4]"
      ]
     },
     "execution_count": 20,
     "metadata": {},
     "output_type": "execute_result"
    }
   ],
   "source": [
    "a = [10,5,6,4,2,4,5]\n",
    "\n",
    "def even(num):\n",
    "    if num==4:\n",
    "        return True\n",
    "    else:\n",
    "        return False\n",
    "    \n",
    "\n",
    "list(filter(even, a))"
   ]
  },
  {
   "cell_type": "code",
   "execution_count": 21,
   "id": "b8166f59",
   "metadata": {},
   "outputs": [
    {
     "data": {
      "text/plain": [
       "[10, 6, 4, 2, 4]"
      ]
     },
     "execution_count": 21,
     "metadata": {},
     "output_type": "execute_result"
    }
   ],
   "source": [
    "\n",
    "list(filter(lambda x: x%2==0, a))"
   ]
  },
  {
   "cell_type": "code",
   "execution_count": null,
   "id": "063815f4",
   "metadata": {},
   "outputs": [],
   "source": [
    "map - common action on every element\n",
    "\n",
    "reduce - sum , min ,max\n",
    "\n",
    "filter - filter out the elements"
   ]
  },
  {
   "cell_type": "code",
   "execution_count": 22,
   "id": "439cc246",
   "metadata": {},
   "outputs": [],
   "source": [
    "lst = ['akzelxw@hotmail.com',\n",
    "'elum@gmail.com',\n",
    "'akbar.caakaterasu@gmail.com',\n",
    "'akarui.kibuno@gmail.com',\n",
    "'ajsparkchick@hotmail.com',\n",
    "'ajmeia@yahoo.com',\n",
    "'ajhnstn87@gmail.com',\n",
    "'ailuvzhoko4@hotmail.com',\n",
    "'ailuvzhoko3@hotmail.com',\n",
    "'ailuvzhoko2@hotmail.com',\n",
    "'ailuvzhoko@hotmail.com',\n",
    "'aillensiquioco@aol.com',\n",
    "'ahmovic_ines@hotmail.com',\n",
    "'ahmed_g300@yahoo.com',\n",
    "'ahmadjazlan@gmail.com',\n",
    "'ahmad_ridho19@yahoo.com']"
   ]
  },
  {
   "cell_type": "code",
   "execution_count": null,
   "id": "feccd915",
   "metadata": {},
   "outputs": [],
   "source": [
    "1. extract and genrate a list of all the username - 5 - map\n",
    "2. extract only those username where domain is gmail.com - 5 - filter"
   ]
  },
  {
   "cell_type": "code",
   "execution_count": 23,
   "id": "9a7d8c26",
   "metadata": {},
   "outputs": [
    {
     "data": {
      "text/plain": [
       "['akzelxw',\n",
       " 'elum',\n",
       " 'akbar.caakaterasu',\n",
       " 'akarui.kibuno',\n",
       " 'ajsparkchick',\n",
       " 'ajmeia',\n",
       " 'ajhnstn87',\n",
       " 'ailuvzhoko4',\n",
       " 'ailuvzhoko3',\n",
       " 'ailuvzhoko2',\n",
       " 'ailuvzhoko',\n",
       " 'aillensiquioco',\n",
       " 'ahmovic_ines',\n",
       " 'ahmed_g300',\n",
       " 'ahmadjazlan',\n",
       " 'ahmad_ridho19']"
      ]
     },
     "execution_count": 23,
     "metadata": {},
     "output_type": "execute_result"
    }
   ],
   "source": [
    "list(map(lambda x: x.split('@')[0], lst))"
   ]
  },
  {
   "cell_type": "code",
   "execution_count": 27,
   "id": "e10d8bdd",
   "metadata": {},
   "outputs": [
    {
     "data": {
      "text/plain": [
       "['elum@gmail.com',\n",
       " 'akbar.caakaterasu@gmail.com',\n",
       " 'akarui.kibuno@gmail.com',\n",
       " 'ajhnstn87@gmail.com',\n",
       " 'ahmadjazlan@gmail.com']"
      ]
     },
     "execution_count": 27,
     "metadata": {},
     "output_type": "execute_result"
    }
   ],
   "source": [
    "list(filter(lambda x: x.split('@')[1]=='gmail.com', lst))"
   ]
  },
  {
   "cell_type": "code",
   "execution_count": 28,
   "id": "41b0ed36",
   "metadata": {},
   "outputs": [
    {
     "data": {
      "text/plain": [
       "['elum', 'akbar.caakaterasu', 'akarui.kibuno', 'ajhnstn87', 'ahmadjazlan']"
      ]
     },
     "execution_count": 28,
     "metadata": {},
     "output_type": "execute_result"
    }
   ],
   "source": [
    "list(map(lambda x: x.split('@')[0], list(filter(lambda x: x.split('@')[1]=='gmail.com', lst))))"
   ]
  },
  {
   "cell_type": "code",
   "execution_count": null,
   "id": "1b7169ff",
   "metadata": {},
   "outputs": [],
   "source": []
  }
 ],
 "metadata": {
  "kernelspec": {
   "display_name": "Python 3 (ipykernel)",
   "language": "python",
   "name": "python3"
  },
  "language_info": {
   "codemirror_mode": {
    "name": "ipython",
    "version": 3
   },
   "file_extension": ".py",
   "mimetype": "text/x-python",
   "name": "python",
   "nbconvert_exporter": "python",
   "pygments_lexer": "ipython3",
   "version": "3.9.12"
  }
 },
 "nbformat": 4,
 "nbformat_minor": 5
}
