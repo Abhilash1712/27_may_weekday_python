{
 "cells": [
  {
   "cell_type": "code",
   "execution_count": 2,
   "id": "998081ac",
   "metadata": {},
   "outputs": [
    {
     "name": "stdout",
     "output_type": "stream",
     "text": [
      "['__add__', '__class__', '__contains__', '__delattr__', '__dir__', '__doc__', '__eq__', '__format__', '__ge__', '__getattribute__', '__getitem__', '__getnewargs__', '__gt__', '__hash__', '__init__', '__init_subclass__', '__iter__', '__le__', '__len__', '__lt__', '__mod__', '__mul__', '__ne__', '__new__', '__reduce__', '__reduce_ex__', '__repr__', '__rmod__', '__rmul__', '__setattr__', '__sizeof__', '__str__', '__subclasshook__', 'capitalize', 'casefold', 'center', 'count', 'encode', 'endswith', 'expandtabs', 'find', 'format', 'format_map', 'index', 'isalnum', 'isalpha', 'isascii', 'isdecimal', 'isdigit', 'isidentifier', 'islower', 'isnumeric', 'isprintable', 'isspace', 'istitle', 'isupper', 'join', 'ljust', 'lower', 'lstrip', 'maketrans', 'partition', 'removeprefix', 'removesuffix', 'replace', 'rfind', 'rindex', 'rjust', 'rpartition', 'rsplit', 'rstrip', 'split', 'splitlines', 'startswith', 'strip', 'swapcase', 'title', 'translate', 'upper', 'zfill']\n"
     ]
    }
   ],
   "source": [
    "print(dir(str))"
   ]
  },
  {
   "cell_type": "code",
   "execution_count": 5,
   "id": "225adf95",
   "metadata": {},
   "outputs": [
    {
     "name": "stdout",
     "output_type": "stream",
     "text": [
      "False\n",
      "True\n",
      "False\n",
      "False\n",
      "True\n",
      "False\n",
      "False\n",
      "False\n",
      "False\n",
      "False\n",
      "False\n",
      "False\n"
     ]
    }
   ],
   "source": [
    "s1 = 'abc'\n",
    "s2 = 'ABC'\n",
    "s3 = '*'\n",
    "s4 = '112'\n",
    "\n",
    "# isupper - \n",
    "print(s1.isupper()) #false\n",
    "print(s2.isupper()) # True\n",
    "print(s3.isupper()) # False\n",
    "print(s4.isupper()) #False\n",
    "\n",
    "# islower - \n",
    "print(s1.islower()) #True\n",
    "print(s2.islower()) # False\n",
    "print(s3.islower()) # False\n",
    "print(s4.islower()) #False\n",
    "\n",
    "# istitle- \n",
    "print(s1.istitle()) # False\n",
    "print(s2.istitle()) # False\n",
    "print(s3.istitle()) # False\n",
    "print(s4.istitle()) #False"
   ]
  },
  {
   "cell_type": "code",
   "execution_count": 8,
   "id": "344b2d3b",
   "metadata": {},
   "outputs": [
    {
     "name": "stdout",
     "output_type": "stream",
     "text": [
      "   python   \n",
      "python\n",
      "$$$python$$$\n",
      "python\n"
     ]
    }
   ],
   "source": [
    "# strip , rstrip , lstrip\n",
    "# removes the specified char from the ends\n",
    "\n",
    "#strip - removes the specified char from both the ends\n",
    "\n",
    "a = '   python   '\n",
    "print(a)\n",
    "print(a.strip()) # deafult value space\n",
    "\n",
    "a = '$$$python$$$'\n",
    "print(a)\n",
    "print(a.strip('$')) # deafult value space"
   ]
  },
  {
   "cell_type": "code",
   "execution_count": 10,
   "id": "6de2701d",
   "metadata": {},
   "outputs": [
    {
     "name": "stdout",
     "output_type": "stream",
     "text": [
      "   python   \n",
      "   python\n",
      "$$$python$$$\n",
      "$$$python$$$\n"
     ]
    }
   ],
   "source": [
    "# rstrip - removes the specified char from right end\n",
    "\n",
    "a = '   python   '\n",
    "print(a)\n",
    "print(a.rstrip()) # deafult value space\n",
    "\n",
    "a = '$$$python$$$'\n",
    "print(a)\n",
    "print(a.rstrip('$')) # deafult value space"
   ]
  },
  {
   "cell_type": "code",
   "execution_count": 11,
   "id": "d258e70d",
   "metadata": {},
   "outputs": [
    {
     "name": "stdout",
     "output_type": "stream",
     "text": [
      "   python   \n",
      "python   \n",
      "$$$python$$$\n",
      "python$$$\n"
     ]
    }
   ],
   "source": [
    "# lstrip - removes the specified char from left end\n",
    "\n",
    "a = '   python   '\n",
    "print(a)\n",
    "print(a.lstrip()) # deafult value space\n",
    "\n",
    "a = '$$$python$$$'\n",
    "print(a)\n",
    "print(a.lstrip('$')) # deafult value space"
   ]
  },
  {
   "cell_type": "code",
   "execution_count": 16,
   "id": "d024e50d",
   "metadata": {},
   "outputs": [
    {
     "name": "stdout",
     "output_type": "stream",
     "text": [
      "python\n"
     ]
    }
   ],
   "source": [
    "a='$$$python#######################'\n",
    "\n",
    "print(a.strip('#$'))"
   ]
  },
  {
   "cell_type": "code",
   "execution_count": 14,
   "id": "b30caf52",
   "metadata": {},
   "outputs": [
    {
     "name": "stdout",
     "output_type": "stream",
     "text": [
      "python\n"
     ]
    }
   ],
   "source": [
    "a='$$$python###'\n",
    "print(a.lstrip('$').rstrip('#'))"
   ]
  },
  {
   "cell_type": "code",
   "execution_count": 20,
   "id": "c652875b",
   "metadata": {},
   "outputs": [
    {
     "name": "stdout",
     "output_type": "stream",
     "text": [
      "please enter the usernameAfsan \n",
      "please enter the passworddevil\n",
      "wrong credentails\n"
     ]
    }
   ],
   "source": [
    "username = input('please enter the username')\n",
    "password = input('please enter the password')\n",
    "\n",
    "if username == 'Afsan' and password == 'devil':\n",
    "    print('logged in')\n",
    "else:\n",
    "    print('wrong credentails')"
   ]
  },
  {
   "cell_type": "code",
   "execution_count": 23,
   "id": "566c9d37",
   "metadata": {},
   "outputs": [
    {
     "name": "stdout",
     "output_type": "stream",
     "text": [
      "please enter the username Afsan\n",
      "please enter the password\n",
      "wrong credentails\n"
     ]
    }
   ],
   "source": [
    "username = input('please enter the username')\n",
    "password = input('please enter the password')\n",
    "\n",
    "if username.strip() == 'Afsan' and password.strip() == 'devil':\n",
    "    print('logged in')\n",
    "else:\n",
    "    print('wrong credentails')"
   ]
  },
  {
   "cell_type": "code",
   "execution_count": 24,
   "id": "43f22bcd",
   "metadata": {},
   "outputs": [
    {
     "data": {
      "text/plain": [
       "2"
      ]
     },
     "execution_count": 24,
     "metadata": {},
     "output_type": "execute_result"
    }
   ],
   "source": [
    "# count - count the number of specified string/char\n",
    "\n",
    "a = 'leanbay institute'\n",
    "a.count('i')"
   ]
  },
  {
   "cell_type": "code",
   "execution_count": 27,
   "id": "e5884a63",
   "metadata": {},
   "outputs": [
    {
     "data": {
      "text/plain": [
       "1"
      ]
     },
     "execution_count": 27,
     "metadata": {},
     "output_type": "execute_result"
    }
   ],
   "source": [
    "a = 'learnbay institute'\n",
    "a.count('learnbay')"
   ]
  },
  {
   "cell_type": "code",
   "execution_count": 38,
   "id": "37ace854",
   "metadata": {},
   "outputs": [
    {
     "name": "stdout",
     "output_type": "stream",
     "text": [
      "5\n",
      "9\n",
      "0\n",
      "10\n"
     ]
    }
   ],
   "source": [
    "# find, rfind, index, rindex - find the starting index of the char/string\n",
    "\n",
    "a = 'learnbay institute'\n",
    "print(a.find('b'))\n",
    "\n",
    "a = 'learnbay institute'\n",
    "print(a.find('i'))\n",
    "\n",
    "a = 'lealrnbay institute'\n",
    "a.find('l')\n",
    "print(a.find('l'))\n",
    "\n",
    "a = 'lealrnbay institute'\n",
    "a.find('institute')\n",
    "print(a.find('institute'))"
   ]
  },
  {
   "cell_type": "code",
   "execution_count": 36,
   "id": "b454aa02",
   "metadata": {},
   "outputs": [
    {
     "data": {
      "text/plain": [
       "10"
      ]
     },
     "execution_count": 36,
     "metadata": {},
     "output_type": "execute_result"
    }
   ],
   "source": [
    "a = 'learnbay institute'\n",
    "a.rfind('b')\n",
    "\n",
    "a = 'learnbay institute'\n",
    "a.rfind('i')\n",
    "\n",
    "a = 'lealrnbay institute'\n",
    "a.rfind('l')\n",
    "\n",
    "a = 'lealrnbay institute'\n",
    "a.rfind('institute')"
   ]
  },
  {
   "cell_type": "code",
   "execution_count": 40,
   "id": "abdfa401",
   "metadata": {},
   "outputs": [
    {
     "name": "stdout",
     "output_type": "stream",
     "text": [
      "5\n",
      "13\n",
      "3\n",
      "10\n"
     ]
    }
   ],
   "source": [
    "a = 'learnbay institute'\n",
    "print(a.rindex('b'))\n",
    "\n",
    "a = 'learnbay institute'\n",
    "print(a.rindex('i'))\n",
    "\n",
    "a = 'lealrnbay institute'\n",
    "print(a.rindex('l'))\n",
    "\n",
    "a = 'lealrnbay institute'\n",
    "print(a.rindex('institute'))"
   ]
  },
  {
   "cell_type": "code",
   "execution_count": 41,
   "id": "d9ba9183",
   "metadata": {},
   "outputs": [
    {
     "name": "stdout",
     "output_type": "stream",
     "text": [
      "-1\n"
     ]
    }
   ],
   "source": [
    "# try with the char that is not presnet\n",
    "\n",
    "a = 'learnbay institute'\n",
    "print(a.find('z'))"
   ]
  },
  {
   "cell_type": "code",
   "execution_count": 42,
   "id": "fde0f632",
   "metadata": {},
   "outputs": [
    {
     "ename": "ValueError",
     "evalue": "substring not found",
     "output_type": "error",
     "traceback": [
      "\u001b[0;31m---------------------------------------------------------------------------\u001b[0m",
      "\u001b[0;31mValueError\u001b[0m                                Traceback (most recent call last)",
      "Input \u001b[0;32mIn [42]\u001b[0m, in \u001b[0;36m<cell line: 2>\u001b[0;34m()\u001b[0m\n\u001b[1;32m      1\u001b[0m a \u001b[38;5;241m=\u001b[39m \u001b[38;5;124m'\u001b[39m\u001b[38;5;124mlearnbay institute\u001b[39m\u001b[38;5;124m'\u001b[39m\n\u001b[0;32m----> 2\u001b[0m \u001b[38;5;28mprint\u001b[39m(\u001b[43ma\u001b[49m\u001b[38;5;241;43m.\u001b[39;49m\u001b[43mindex\u001b[49m\u001b[43m(\u001b[49m\u001b[38;5;124;43m'\u001b[39;49m\u001b[38;5;124;43mz\u001b[39;49m\u001b[38;5;124;43m'\u001b[39;49m\u001b[43m)\u001b[49m)\n",
      "\u001b[0;31mValueError\u001b[0m: substring not found"
     ]
    }
   ],
   "source": [
    "a = 'learnbay institute'\n",
    "print(a.index('z'))"
   ]
  },
  {
   "cell_type": "code",
   "execution_count": null,
   "id": "147ed055",
   "metadata": {},
   "outputs": [],
   "source": [
    "# Note - the difference between index and find is that index will give an error if char is not present whereas\n",
    "find will give you -1"
   ]
  },
  {
   "cell_type": "code",
   "execution_count": 44,
   "id": "c99826c4",
   "metadata": {},
   "outputs": [
    {
     "name": "stdout",
     "output_type": "stream",
     "text": [
      "hi afsan                khan\n"
     ]
    }
   ],
   "source": [
    "# ljust(left adjustment) , rjust(right adjustment)\n",
    "\n",
    "a = 'hi'\n",
    "b = 'afsan'\n",
    "c = 'khan'\n",
    "\n",
    "print(a,b.ljust(20),c)"
   ]
  },
  {
   "cell_type": "code",
   "execution_count": 45,
   "id": "3f5b17b4",
   "metadata": {},
   "outputs": [
    {
     "name": "stdout",
     "output_type": "stream",
     "text": [
      "hi                afsan khan\n"
     ]
    }
   ],
   "source": [
    "a = 'hi'\n",
    "b = 'afsan'\n",
    "c = 'khan'\n",
    "\n",
    "print(a,b.rjust(20),c)"
   ]
  },
  {
   "cell_type": "code",
   "execution_count": 46,
   "id": "a851470f",
   "metadata": {},
   "outputs": [
    {
     "name": "stdout",
     "output_type": "stream",
     "text": [
      "learnzay institute\n"
     ]
    }
   ],
   "source": [
    "# replace\n",
    "\n",
    "a = 'learnbay institute'\n",
    "print(a.replace('b' , 'z'))"
   ]
  },
  {
   "cell_type": "code",
   "execution_count": 52,
   "id": "cb78975b",
   "metadata": {},
   "outputs": [
    {
     "name": "stdout",
     "output_type": "stream",
     "text": [
      "learnbay onstitiutie\n"
     ]
    }
   ],
   "source": [
    "a = 'learnbay institiutie'\n",
    "print(a.replace('i' , 'o', 1))"
   ]
  },
  {
   "cell_type": "code",
   "execution_count": 57,
   "id": "c1eead8d",
   "metadata": {},
   "outputs": [
    {
     "name": "stdout",
     "output_type": "stream",
     "text": [
      "['learnbay', 'institute', 'is', 'a', 'good', 'place', 'to', 'gain', 'knowledge']\n"
     ]
    }
   ],
   "source": [
    "# split() - str ---> list\n",
    "\n",
    "my_str = 'learnbay   institute is a good place to gain knowledge'\n",
    "print(my_str.split()) # space"
   ]
  },
  {
   "cell_type": "code",
   "execution_count": 56,
   "id": "25c063aa",
   "metadata": {},
   "outputs": [
    {
     "name": "stdout",
     "output_type": "stream",
     "text": [
      "['learnbay   ', 'nst', 'tute']\n"
     ]
    }
   ],
   "source": [
    "my_str = 'learnbay   institute'\n",
    "print(my_str.split('i'))"
   ]
  },
  {
   "cell_type": "code",
   "execution_count": 59,
   "id": "9341b38e",
   "metadata": {},
   "outputs": [
    {
     "data": {
      "text/plain": [
       "8"
      ]
     },
     "execution_count": 59,
     "metadata": {},
     "output_type": "execute_result"
    }
   ],
   "source": [
    "# count the number of words in a sentence\n",
    "\n",
    "a = 'count the number of words in a sentence'\n",
    "len(a.split())"
   ]
  },
  {
   "cell_type": "code",
   "execution_count": 62,
   "id": "a1a774af",
   "metadata": {},
   "outputs": [
    {
     "data": {
      "text/plain": [
       "8"
      ]
     },
     "execution_count": 62,
     "metadata": {},
     "output_type": "execute_result"
    }
   ],
   "source": [
    "a = 'count the number of words in a sentence'\n",
    "count=a.count(' ')    \n",
    "count+1"
   ]
  },
  {
   "cell_type": "code",
   "execution_count": 64,
   "id": "1e25443f",
   "metadata": {},
   "outputs": [
    {
     "data": {
      "text/plain": [
       "'learnbay institute is a good place to gain knowledge'"
      ]
     },
     "execution_count": 64,
     "metadata": {},
     "output_type": "execute_result"
    }
   ],
   "source": [
    "# join --> list back to string\n",
    "\n",
    "a = ['learnbay', 'institute', 'is', 'a', 'good', 'place', 'to', 'gain', 'knowledge']\n",
    "' '.join(a)"
   ]
  },
  {
   "cell_type": "code",
   "execution_count": null,
   "id": "49c342e2",
   "metadata": {},
   "outputs": [],
   "source": [
    "# list\n",
    "\n",
    "anyhting that can be written inside a [] and elements are sep by commas"
   ]
  },
  {
   "cell_type": "code",
   "execution_count": 65,
   "id": "fea7c6d5",
   "metadata": {},
   "outputs": [],
   "source": [
    "a = [1,2,3,4,5,6]"
   ]
  },
  {
   "cell_type": "code",
   "execution_count": 66,
   "id": "501e7dfc",
   "metadata": {},
   "outputs": [
    {
     "name": "stdout",
     "output_type": "stream",
     "text": [
      "[1, 2, 3, 4, 5, 6]\n"
     ]
    }
   ],
   "source": [
    "print(a)"
   ]
  },
  {
   "cell_type": "code",
   "execution_count": 67,
   "id": "c98970fc",
   "metadata": {},
   "outputs": [
    {
     "name": "stdout",
     "output_type": "stream",
     "text": [
      "<class 'list'>\n"
     ]
    }
   ],
   "source": [
    "print(type(a))"
   ]
  },
  {
   "cell_type": "code",
   "execution_count": null,
   "id": "abbf0d2a",
   "metadata": {},
   "outputs": [],
   "source": [
    "# Create a list"
   ]
  },
  {
   "cell_type": "code",
   "execution_count": 69,
   "id": "1f6d59b8",
   "metadata": {},
   "outputs": [
    {
     "name": "stdout",
     "output_type": "stream",
     "text": [
      "['apple', 'orange', 'mango']\n"
     ]
    }
   ],
   "source": [
    "# 1. you already kow the element\n",
    "\n",
    "fruits = ['apple','orange','mango']\n",
    "print(fruits)"
   ]
  },
  {
   "cell_type": "code",
   "execution_count": 70,
   "id": "f3083b05",
   "metadata": {},
   "outputs": [
    {
     "data": {
      "text/plain": [
       "['afsan', 'khan']"
      ]
     },
     "execution_count": 70,
     "metadata": {},
     "output_type": "execute_result"
    }
   ],
   "source": [
    "# 2. split\n",
    "\n",
    "a = 'afsan khan'\n",
    "a.split()"
   ]
  },
  {
   "cell_type": "code",
   "execution_count": null,
   "id": "21cfbd0c",
   "metadata": {},
   "outputs": [],
   "source": [
    "# 3. typecasting - only iterable object can be typecasted into list"
   ]
  },
  {
   "cell_type": "code",
   "execution_count": null,
   "id": "aa05c140",
   "metadata": {},
   "outputs": [],
   "source": [
    "# how to find f object is iterable or not\n",
    "\n",
    "1. len()\n",
    "2. dir(object) should have __iter__"
   ]
  },
  {
   "cell_type": "code",
   "execution_count": 71,
   "id": "bfe04dd7",
   "metadata": {},
   "outputs": [
    {
     "ename": "TypeError",
     "evalue": "object of type 'int' has no len()",
     "output_type": "error",
     "traceback": [
      "\u001b[0;31m---------------------------------------------------------------------------\u001b[0m",
      "\u001b[0;31mTypeError\u001b[0m                                 Traceback (most recent call last)",
      "Input \u001b[0;32mIn [71]\u001b[0m, in \u001b[0;36m<cell line: 2>\u001b[0;34m()\u001b[0m\n\u001b[1;32m      1\u001b[0m a \u001b[38;5;241m=\u001b[39m \u001b[38;5;241m10\u001b[39m\n\u001b[0;32m----> 2\u001b[0m \u001b[38;5;28;43mlen\u001b[39;49m\u001b[43m(\u001b[49m\u001b[43ma\u001b[49m\u001b[43m)\u001b[49m\n",
      "\u001b[0;31mTypeError\u001b[0m: object of type 'int' has no len()"
     ]
    }
   ],
   "source": [
    "a = 10\n",
    "len(a)"
   ]
  },
  {
   "cell_type": "code",
   "execution_count": 72,
   "id": "13fa370e",
   "metadata": {},
   "outputs": [
    {
     "ename": "TypeError",
     "evalue": "'int' object is not iterable",
     "output_type": "error",
     "traceback": [
      "\u001b[0;31m---------------------------------------------------------------------------\u001b[0m",
      "\u001b[0;31mTypeError\u001b[0m                                 Traceback (most recent call last)",
      "Input \u001b[0;32mIn [72]\u001b[0m, in \u001b[0;36m<cell line: 1>\u001b[0;34m()\u001b[0m\n\u001b[0;32m----> 1\u001b[0m \u001b[38;5;28;43mlist\u001b[39;49m\u001b[43m(\u001b[49m\u001b[43ma\u001b[49m\u001b[43m)\u001b[49m\n",
      "\u001b[0;31mTypeError\u001b[0m: 'int' object is not iterable"
     ]
    }
   ],
   "source": [
    "list(a)"
   ]
  },
  {
   "cell_type": "code",
   "execution_count": 74,
   "id": "7a871e19",
   "metadata": {},
   "outputs": [
    {
     "name": "stdout",
     "output_type": "stream",
     "text": [
      "['__abs__', '__add__', '__and__', '__bool__', '__ceil__', '__class__', '__delattr__', '__dir__', '__divmod__', '__doc__', '__eq__', '__float__', '__floor__', '__floordiv__', '__format__', '__ge__', '__getattribute__', '__getnewargs__', '__gt__', '__hash__', '__index__', '__init__', '__init_subclass__', '__int__', '__invert__', '__le__', '__lshift__', '__lt__', '__mod__', '__mul__', '__ne__', '__neg__', '__new__', '__or__', '__pos__', '__pow__', '__radd__', '__rand__', '__rdivmod__', '__reduce__', '__reduce_ex__', '__repr__', '__rfloordiv__', '__rlshift__', '__rmod__', '__rmul__', '__ror__', '__round__', '__rpow__', '__rrshift__', '__rshift__', '__rsub__', '__rtruediv__', '__rxor__', '__setattr__', '__sizeof__', '__str__', '__sub__', '__subclasshook__', '__truediv__', '__trunc__', '__xor__', 'as_integer_ratio', 'bit_length', 'conjugate', 'denominator', 'from_bytes', 'imag', 'numerator', 'real', 'to_bytes']\n"
     ]
    }
   ],
   "source": [
    "print(dir(a))"
   ]
  },
  {
   "cell_type": "code",
   "execution_count": 75,
   "id": "0c70344c",
   "metadata": {},
   "outputs": [
    {
     "data": {
      "text/plain": [
       "3"
      ]
     },
     "execution_count": 75,
     "metadata": {},
     "output_type": "execute_result"
    }
   ],
   "source": [
    "a = 'str'\n",
    "len(a)"
   ]
  },
  {
   "cell_type": "code",
   "execution_count": 76,
   "id": "fdeb3caf",
   "metadata": {},
   "outputs": [
    {
     "data": {
      "text/plain": [
       "['s', 't', 'r']"
      ]
     },
     "execution_count": 76,
     "metadata": {},
     "output_type": "execute_result"
    }
   ],
   "source": [
    "list(a)"
   ]
  },
  {
   "cell_type": "code",
   "execution_count": 77,
   "id": "2a374951",
   "metadata": {},
   "outputs": [
    {
     "data": {
      "text/plain": [
       "['__add__',\n",
       " '__class__',\n",
       " '__contains__',\n",
       " '__delattr__',\n",
       " '__dir__',\n",
       " '__doc__',\n",
       " '__eq__',\n",
       " '__format__',\n",
       " '__ge__',\n",
       " '__getattribute__',\n",
       " '__getitem__',\n",
       " '__getnewargs__',\n",
       " '__gt__',\n",
       " '__hash__',\n",
       " '__init__',\n",
       " '__init_subclass__',\n",
       " '__iter__',\n",
       " '__le__',\n",
       " '__len__',\n",
       " '__lt__',\n",
       " '__mod__',\n",
       " '__mul__',\n",
       " '__ne__',\n",
       " '__new__',\n",
       " '__reduce__',\n",
       " '__reduce_ex__',\n",
       " '__repr__',\n",
       " '__rmod__',\n",
       " '__rmul__',\n",
       " '__setattr__',\n",
       " '__sizeof__',\n",
       " '__str__',\n",
       " '__subclasshook__',\n",
       " 'capitalize',\n",
       " 'casefold',\n",
       " 'center',\n",
       " 'count',\n",
       " 'encode',\n",
       " 'endswith',\n",
       " 'expandtabs',\n",
       " 'find',\n",
       " 'format',\n",
       " 'format_map',\n",
       " 'index',\n",
       " 'isalnum',\n",
       " 'isalpha',\n",
       " 'isascii',\n",
       " 'isdecimal',\n",
       " 'isdigit',\n",
       " 'isidentifier',\n",
       " 'islower',\n",
       " 'isnumeric',\n",
       " 'isprintable',\n",
       " 'isspace',\n",
       " 'istitle',\n",
       " 'isupper',\n",
       " 'join',\n",
       " 'ljust',\n",
       " 'lower',\n",
       " 'lstrip',\n",
       " 'maketrans',\n",
       " 'partition',\n",
       " 'removeprefix',\n",
       " 'removesuffix',\n",
       " 'replace',\n",
       " 'rfind',\n",
       " 'rindex',\n",
       " 'rjust',\n",
       " 'rpartition',\n",
       " 'rsplit',\n",
       " 'rstrip',\n",
       " 'split',\n",
       " 'splitlines',\n",
       " 'startswith',\n",
       " 'strip',\n",
       " 'swapcase',\n",
       " 'title',\n",
       " 'translate',\n",
       " 'upper',\n",
       " 'zfill']"
      ]
     },
     "execution_count": 77,
     "metadata": {},
     "output_type": "execute_result"
    }
   ],
   "source": [
    "dir(a)"
   ]
  },
  {
   "cell_type": "code",
   "execution_count": 78,
   "id": "03c74e5d",
   "metadata": {},
   "outputs": [
    {
     "name": "stdout",
     "output_type": "stream",
     "text": [
      "[1,2,3,4,5]\n",
      "<class 'list'>\n"
     ]
    }
   ],
   "source": [
    "# 4. taking the user input with eval\n",
    "\n",
    "a = eval(input())\n",
    "print(type(a))"
   ]
  },
  {
   "cell_type": "code",
   "execution_count": null,
   "id": "4a3c7629",
   "metadata": {},
   "outputs": [],
   "source": [
    "# properties of the list\n",
    "\n",
    "1. seq data type\n",
    "2. +ve and -ve indexing is supported\n",
    "3. allows duplicate element\n",
    "4. mutable\n",
    "5. operation - indexing, slicing, concatination, repition , membership and identity\n",
    "6. you can stroe any data type in a list"
   ]
  }
 ],
 "metadata": {
  "kernelspec": {
   "display_name": "Python 3 (ipykernel)",
   "language": "python",
   "name": "python3"
  },
  "language_info": {
   "codemirror_mode": {
    "name": "ipython",
    "version": 3
   },
   "file_extension": ".py",
   "mimetype": "text/x-python",
   "name": "python",
   "nbconvert_exporter": "python",
   "pygments_lexer": "ipython3",
   "version": "3.9.12"
  }
 },
 "nbformat": 4,
 "nbformat_minor": 5
}
