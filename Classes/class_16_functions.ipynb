{
 "cells": [
  {
   "cell_type": "code",
   "execution_count": 2,
   "id": "aedf9f57",
   "metadata": {},
   "outputs": [
    {
     "name": "stdout",
     "output_type": "stream",
     "text": [
      "not a palindrome\n",
      "30\n",
      "palindrome\n"
     ]
    }
   ],
   "source": [
    "data = 'abc'\n",
    "\n",
    "if data == data[::-1]:\n",
    "    print('palindrome')\n",
    "else:\n",
    "    print('not a palindrome')\n",
    "    \n",
    "num_1 = 10\n",
    "num_2 = 20\n",
    "\n",
    "print(num_1 + num_2)\n",
    "\n",
    "data = 'level'\n",
    "if data == data[::-1]:\n",
    "    print('palindrome')\n",
    "else:\n",
    "    print('not a palindrome')"
   ]
  },
  {
   "cell_type": "code",
   "execution_count": null,
   "id": "15410df4",
   "metadata": {},
   "outputs": [],
   "source": [
    "# why functions\n",
    "\n",
    "if we have a certain line of code that has to be used again and again"
   ]
  },
  {
   "cell_type": "code",
   "execution_count": null,
   "id": "fec878fc",
   "metadata": {},
   "outputs": [],
   "source": [
    "# Functions\n",
    "\n",
    "- it folloes a principal and it is called as DRY(Do not repeat yourself)\n",
    "\n",
    "2 things\n",
    "\n",
    " - function defination - we define the function or we define the task in the function\n",
    " - function call - we execute the fucntion\n",
    "\n",
    "syntax\n",
    "    - function defination\n",
    "    \n",
    "    def function_name(paramter):\n",
    "        statment1\n",
    "        statment2\n",
    "        return statment3\n",
    "    \n",
    "    - optional - return and paramter\n",
    "\n",
    "    - function call\n",
    "        function_name(args)\n",
    "        \n",
    "Notes - if the paramter is present then only args should be der"
   ]
  },
  {
   "cell_type": "code",
   "execution_count": 3,
   "id": "c8be67be",
   "metadata": {},
   "outputs": [],
   "source": [
    "# fucntion to add 2 numbers\n",
    "\n",
    "def add_numbers():\n",
    "    num = 10\n",
    "    num2 = 20\n",
    "    print(10+20)"
   ]
  },
  {
   "cell_type": "code",
   "execution_count": 4,
   "id": "4c8f66e2",
   "metadata": {},
   "outputs": [
    {
     "name": "stdout",
     "output_type": "stream",
     "text": [
      "30\n"
     ]
    }
   ],
   "source": [
    "add_numbers()"
   ]
  },
  {
   "cell_type": "code",
   "execution_count": 6,
   "id": "fd8e5155",
   "metadata": {},
   "outputs": [
    {
     "name": "stdout",
     "output_type": "stream",
     "text": [
      "30\n"
     ]
    }
   ],
   "source": [
    "add_numbers()"
   ]
  },
  {
   "cell_type": "code",
   "execution_count": 7,
   "id": "d74c4f1d",
   "metadata": {},
   "outputs": [
    {
     "name": "stdout",
     "output_type": "stream",
     "text": [
      "30\n"
     ]
    }
   ],
   "source": [
    "add_numbers()"
   ]
  },
  {
   "cell_type": "code",
   "execution_count": 8,
   "id": "cf4112b1",
   "metadata": {},
   "outputs": [],
   "source": [
    "# dynamic\n",
    "\n",
    "def add_numbers(num1,num2):\n",
    "    print(num1+num2)"
   ]
  },
  {
   "cell_type": "code",
   "execution_count": 9,
   "id": "3d6106c4",
   "metadata": {},
   "outputs": [
    {
     "name": "stdout",
     "output_type": "stream",
     "text": [
      "12\n"
     ]
    }
   ],
   "source": [
    "add_numbers(5,7)"
   ]
  },
  {
   "cell_type": "code",
   "execution_count": 11,
   "id": "c3ab0d8a",
   "metadata": {},
   "outputs": [
    {
     "name": "stdout",
     "output_type": "stream",
     "text": [
      "100\n"
     ]
    }
   ],
   "source": [
    "add_numbers(20,80)"
   ]
  },
  {
   "cell_type": "code",
   "execution_count": null,
   "id": "f3079cb5",
   "metadata": {},
   "outputs": [],
   "source": [
    "# write a fucntion to check if the string is palindrome or not"
   ]
  },
  {
   "cell_type": "code",
   "execution_count": 12,
   "id": "977c7eef",
   "metadata": {},
   "outputs": [],
   "source": [
    "def palindrome(string):\n",
    "    if string == string[::-1]:\n",
    "        print('palindrome')\n",
    "    else:\n",
    "        print('not a palindrome')"
   ]
  },
  {
   "cell_type": "code",
   "execution_count": 13,
   "id": "9ee70838",
   "metadata": {},
   "outputs": [
    {
     "name": "stdout",
     "output_type": "stream",
     "text": [
      "palindrome\n"
     ]
    }
   ],
   "source": [
    "palindrome('level')"
   ]
  },
  {
   "cell_type": "code",
   "execution_count": 14,
   "id": "a48bbcba",
   "metadata": {},
   "outputs": [
    {
     "name": "stdout",
     "output_type": "stream",
     "text": [
      "not a palindrome\n"
     ]
    }
   ],
   "source": [
    "palindrome('abc')"
   ]
  },
  {
   "cell_type": "code",
   "execution_count": null,
   "id": "ee88720d",
   "metadata": {},
   "outputs": [],
   "source": [
    "# Types of Args/paramter \n",
    "\n",
    "1. Positional args\n",
    "\n",
    "- the order is important\n",
    "- number of args should match number of paramters"
   ]
  },
  {
   "cell_type": "code",
   "execution_count": 15,
   "id": "e6961421",
   "metadata": {},
   "outputs": [],
   "source": [
    "def emp_data(emp_name,emp_sal,emp_id):\n",
    "    print(emp_name)\n",
    "    print(emp_sal)    \n",
    "    print(emp_id)    "
   ]
  },
  {
   "cell_type": "code",
   "execution_count": 16,
   "id": "0e8d119a",
   "metadata": {},
   "outputs": [
    {
     "name": "stdout",
     "output_type": "stream",
     "text": [
      "afsan\n",
      "50k\n",
      "777\n"
     ]
    }
   ],
   "source": [
    "emp_data('afsan','50k',777)"
   ]
  },
  {
   "cell_type": "code",
   "execution_count": 18,
   "id": "d9503c4c",
   "metadata": {},
   "outputs": [
    {
     "ename": "TypeError",
     "evalue": "emp_data() takes 3 positional arguments but 4 were given",
     "output_type": "error",
     "traceback": [
      "\u001b[0;31m---------------------------------------------------------------------------\u001b[0m",
      "\u001b[0;31mTypeError\u001b[0m                                 Traceback (most recent call last)",
      "Input \u001b[0;32mIn [18]\u001b[0m, in \u001b[0;36m<cell line: 1>\u001b[0;34m()\u001b[0m\n\u001b[0;32m----> 1\u001b[0m \u001b[43memp_data\u001b[49m\u001b[43m(\u001b[49m\u001b[38;5;124;43m'\u001b[39;49m\u001b[38;5;124;43mafsan\u001b[39;49m\u001b[38;5;124;43m'\u001b[39;49m\u001b[43m,\u001b[49m\u001b[38;5;124;43m'\u001b[39;49m\u001b[38;5;124;43m50k\u001b[39;49m\u001b[38;5;124;43m'\u001b[39;49m\u001b[43m,\u001b[49m\u001b[38;5;241;43m777\u001b[39;49m\u001b[43m,\u001b[49m\u001b[38;5;241;43m45\u001b[39;49m\u001b[43m)\u001b[49m\n",
      "\u001b[0;31mTypeError\u001b[0m: emp_data() takes 3 positional arguments but 4 were given"
     ]
    }
   ],
   "source": [
    "emp_data('afsan','50k',777,45)"
   ]
  },
  {
   "cell_type": "code",
   "execution_count": null,
   "id": "a913446b",
   "metadata": {},
   "outputs": [],
   "source": [
    "emp_data(20,'afsan',777)"
   ]
  },
  {
   "cell_type": "code",
   "execution_count": null,
   "id": "83ed4a60",
   "metadata": {},
   "outputs": [],
   "source": [
    "# deafult args"
   ]
  },
  {
   "cell_type": "code",
   "execution_count": 19,
   "id": "4fb6648f",
   "metadata": {},
   "outputs": [],
   "source": [
    "def emp_data(emp_name,emp_sal,emp_id,emp_loc,company_loc='banglore'):\n",
    "    print(emp_name)\n",
    "    print(emp_sal)    \n",
    "    print(emp_id)\n",
    "    print(emp_loc)\n",
    "    print(company_loc)"
   ]
  },
  {
   "cell_type": "code",
   "execution_count": 20,
   "id": "c1a41154",
   "metadata": {},
   "outputs": [
    {
     "name": "stdout",
     "output_type": "stream",
     "text": [
      "afsan\n",
      "90\n",
      "678\n",
      "goa\n",
      "banglore\n"
     ]
    }
   ],
   "source": [
    "emp_data('afsan',90,678,'goa')"
   ]
  },
  {
   "cell_type": "code",
   "execution_count": 21,
   "id": "af94ec04",
   "metadata": {},
   "outputs": [
    {
     "name": "stdout",
     "output_type": "stream",
     "text": [
      "afsan\n",
      "90\n",
      "678\n",
      "chennai\n",
      "chennai\n"
     ]
    }
   ],
   "source": [
    "emp_data('afsan',90,678,'chennai','chennai')"
   ]
  },
  {
   "cell_type": "code",
   "execution_count": 22,
   "id": "650de8fc",
   "metadata": {},
   "outputs": [],
   "source": [
    "# deafult args should be always at last"
   ]
  },
  {
   "cell_type": "code",
   "execution_count": 23,
   "id": "3cf204f3",
   "metadata": {},
   "outputs": [
    {
     "ename": "SyntaxError",
     "evalue": "non-default argument follows default argument (2285998132.py, line 1)",
     "output_type": "error",
     "traceback": [
      "\u001b[0;36m  Input \u001b[0;32mIn [23]\u001b[0;36m\u001b[0m\n\u001b[0;31m    def emp_data(emp_loc='goa',emp_name,emp_sal,emp_id,company_loc='banglore'):\u001b[0m\n\u001b[0m                                        ^\u001b[0m\n\u001b[0;31mSyntaxError\u001b[0m\u001b[0;31m:\u001b[0m non-default argument follows default argument\n"
     ]
    }
   ],
   "source": [
    "def emp_data(emp_name,emp_sal,emp_id,emp_loc='goa',company_loc='banglore'):\n",
    "    print(emp_name)\n",
    "    print(emp_sal)    \n",
    "    print(emp_id)\n",
    "    print(emp_loc)\n",
    "    print(company_loc)"
   ]
  },
  {
   "cell_type": "code",
   "execution_count": 25,
   "id": "15d639ae",
   "metadata": {},
   "outputs": [
    {
     "name": "stdout",
     "output_type": "stream",
     "text": [
      "afsan\n",
      "40\n",
      "786\n",
      "delhi\n",
      "chennai\n"
     ]
    }
   ],
   "source": [
    "emp_data('afsan',40,786,'delhi','chennai')"
   ]
  },
  {
   "cell_type": "code",
   "execution_count": 26,
   "id": "4df76f21",
   "metadata": {},
   "outputs": [],
   "source": [
    "#3. keyword args\n",
    "\n",
    "def emp_data(emp_name,emp_sal,emp_id,emp_loc='goa',company_loc='banglore'):\n",
    "    print(emp_name)\n",
    "    print(emp_sal)    \n",
    "    print(emp_id)\n",
    "    print(emp_loc)\n",
    "    print(company_loc)"
   ]
  },
  {
   "cell_type": "code",
   "execution_count": 27,
   "id": "9263cec4",
   "metadata": {},
   "outputs": [
    {
     "name": "stdout",
     "output_type": "stream",
     "text": [
      "afsan\n",
      "40\n",
      "786\n",
      "goa\n",
      "abc\n"
     ]
    }
   ],
   "source": [
    "emp_data('afsan',40,786,company_loc='abc')"
   ]
  },
  {
   "cell_type": "code",
   "execution_count": null,
   "id": "cdcaad3e",
   "metadata": {},
   "outputs": [],
   "source": [
    "emp_data('afsan',40,786,company_loc='abc')"
   ]
  },
  {
   "cell_type": "code",
   "execution_count": 31,
   "id": "6afdf880",
   "metadata": {},
   "outputs": [
    {
     "name": "stdout",
     "output_type": "stream",
     "text": [
      "afsan\n",
      "40\n",
      "786\n",
      "goa\n",
      "abc\n"
     ]
    }
   ],
   "source": [
    "emp_data(emp_sal=40,emp_id=786,company_loc='abc',emp_name ='afsan')"
   ]
  },
  {
   "cell_type": "code",
   "execution_count": 32,
   "id": "e02b6c77",
   "metadata": {},
   "outputs": [
    {
     "name": "stdout",
     "output_type": "stream",
     "text": [
      "afsan\n",
      "40\n",
      "786\n",
      "goa\n",
      "abc\n"
     ]
    }
   ],
   "source": [
    "# args and kwargs"
   ]
  },
  {
   "cell_type": "code",
   "execution_count": 33,
   "id": "e93d70c0",
   "metadata": {},
   "outputs": [],
   "source": [
    "def employee_data(*args):\n",
    "    print(args)"
   ]
  },
  {
   "cell_type": "code",
   "execution_count": 34,
   "id": "4ecc8ce9",
   "metadata": {},
   "outputs": [
    {
     "name": "stdout",
     "output_type": "stream",
     "text": [
      "('name', 'abc', 'xyz')\n"
     ]
    }
   ],
   "source": [
    "employee_data('name','abc','xyz')"
   ]
  },
  {
   "cell_type": "code",
   "execution_count": null,
   "id": "74f776fe",
   "metadata": {},
   "outputs": [],
   "source": [
    "args = 'name','abc','xyz'"
   ]
  },
  {
   "cell_type": "code",
   "execution_count": 3,
   "id": "f6c532dd",
   "metadata": {},
   "outputs": [
    {
     "name": "stdout",
     "output_type": "stream",
     "text": [
      "afsan\n",
      "40\n",
      "786\n",
      "goa\n",
      "abc\n"
     ]
    }
   ],
   "source": [
    "emp_data(emp_sal=40,emp_id=786,company_loc='abc',emp_name ='afsan')"
   ]
  },
  {
   "cell_type": "code",
   "execution_count": 2,
   "id": "daab3361",
   "metadata": {},
   "outputs": [],
   "source": [
    "# emp_data(emp_sal=40,emp_id=786,company_loc='abc',emp_name ='afsan')\n",
    "\n",
    "def emp_data(emp_name,emp_sal,emp_id,emp_loc='goa',company_loc='banglore'):\n",
    "    print(emp_name)\n",
    "    print(emp_sal)    \n",
    "    print(emp_id)\n",
    "    print(emp_loc)\n",
    "    print(company_loc)"
   ]
  },
  {
   "cell_type": "code",
   "execution_count": null,
   "id": "a90efd91",
   "metadata": {},
   "outputs": [],
   "source": [
    "# Return\n",
    "\n",
    "- it is optional in function\n",
    "- it not used it will return None by default\n",
    "- you can return any data type\n",
    "- you can return a function also"
   ]
  },
  {
   "cell_type": "code",
   "execution_count": null,
   "id": "149b152e",
   "metadata": {},
   "outputs": [],
   "source": [
    "def emp_data(emp_name,emp_sal,emp_id,emp_loc='goa',company_loc='banglore'):\n",
    "    print(emp_name)\n",
    "    print(emp_sal)    \n",
    "    print(emp_id)\n",
    "    print(emp_loc)\n",
    "    print(company_loc)\n",
    "    return None\n",
    "    \n",
    "print('abc')\n",
    "print('xyz')\n",
    "print('ooo')\n",
    "\n",
    "emp_data(emp_sal=40,emp_id=786,company_loc='abc',emp_name ='afsan')"
   ]
  },
  {
   "cell_type": "code",
   "execution_count": 6,
   "id": "cf99df3f",
   "metadata": {},
   "outputs": [],
   "source": [
    "def sum(num1,num2):\n",
    "    c = num1 + num2\n",
    "    return c"
   ]
  },
  {
   "cell_type": "code",
   "execution_count": 7,
   "id": "87275d82",
   "metadata": {},
   "outputs": [],
   "source": [
    "data = sum(10,100)"
   ]
  },
  {
   "cell_type": "code",
   "execution_count": 8,
   "id": "19003fd2",
   "metadata": {},
   "outputs": [
    {
     "data": {
      "text/plain": [
       "100"
      ]
     },
     "execution_count": 8,
     "metadata": {},
     "output_type": "execute_result"
    }
   ],
   "source": [
    "# business login\n",
    "\n",
    "data - 10"
   ]
  },
  {
   "cell_type": "code",
   "execution_count": 15,
   "id": "9be37bb7",
   "metadata": {},
   "outputs": [],
   "source": [
    "def sum(num1,num2):\n",
    "    c = num1 + num2\n",
    "    d = num1 * num2\n",
    "    return c , d"
   ]
  },
  {
   "cell_type": "code",
   "execution_count": 16,
   "id": "46750daa",
   "metadata": {},
   "outputs": [
    {
     "name": "stdout",
     "output_type": "stream",
     "text": [
      "<class 'tuple'> (1, 2, 3, 4, 5)\n"
     ]
    }
   ],
   "source": [
    "c,d = sum(10,100)\n",
    "print(type(data), data)"
   ]
  },
  {
   "cell_type": "code",
   "execution_count": null,
   "id": "07d0c12a",
   "metadata": {},
   "outputs": [],
   "source": []
  }
 ],
 "metadata": {
  "kernelspec": {
   "display_name": "Python 3 (ipykernel)",
   "language": "python",
   "name": "python3"
  },
  "language_info": {
   "codemirror_mode": {
    "name": "ipython",
    "version": 3
   },
   "file_extension": ".py",
   "mimetype": "text/x-python",
   "name": "python",
   "nbconvert_exporter": "python",
   "pygments_lexer": "ipython3",
   "version": "3.9.12"
  }
 },
 "nbformat": 4,
 "nbformat_minor": 5
}
