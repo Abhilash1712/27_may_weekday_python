{
 "cells": [
  {
   "cell_type": "code",
   "execution_count": null,
   "id": "540b922b",
   "metadata": {},
   "outputs": [],
   "source": [
    "# String properties\n",
    "\n",
    "1. string is a seq - it allows. +ve and -ve indexing\n",
    "2. +ve indexing always start from l to r with 0\n",
    "3. -ve indexing always start from r to l with -1\n",
    "4. indexing, slicing, concatination , repetition, membership\n",
    "5. string is immutable"
   ]
  },
  {
   "cell_type": "code",
   "execution_count": null,
   "id": "645a9035",
   "metadata": {},
   "outputs": [],
   "source": [
    "# indexing - can be +ve or -ve\n",
    "- syntax - var[index_value]\n",
    "- excessing one element at a time\n",
    "- +ve indexing always start from l to r with 0\n",
    "- -ve indexing always start from r to l with -1"
   ]
  },
  {
   "cell_type": "code",
   "execution_count": 1,
   "id": "469b14b3",
   "metadata": {},
   "outputs": [
    {
     "data": {
      "text/plain": [
       "'o'"
      ]
     },
     "execution_count": 1,
     "metadata": {},
     "output_type": "execute_result"
    }
   ],
   "source": [
    "s1 = 'python'\n",
    "s1[-2]"
   ]
  },
  {
   "cell_type": "code",
   "execution_count": null,
   "id": "06b9c29f",
   "metadata": {},
   "outputs": [],
   "source": [
    "# slicing - extracting the subseq from a seq\n",
    "\n",
    "syntax --> var[start_index : stop_index : step]\n",
    "\n",
    "# Deafult values\n",
    "\n",
    "eg - var[::]\n",
    "start_index = 0\n",
    "stop_index = len(str)\n",
    "step = 1\n",
    "\n",
    "when the step is +ve (L-R) eg : var[::step]\n",
    "start_index = 0\n",
    "stop_index = len(str)\n",
    "\n",
    "when the step is -ve (R-L) eg : var[::-step]\n",
    "start_index = -1\n",
    "stop_index = -len(str)-1"
   ]
  },
  {
   "cell_type": "code",
   "execution_count": 6,
   "id": "8e49a932",
   "metadata": {},
   "outputs": [
    {
     "data": {
      "text/plain": [
       "'python'"
      ]
     },
     "execution_count": 6,
     "metadata": {},
     "output_type": "execute_result"
    }
   ],
   "source": [
    "s1 = 'python'\n",
    "s1[0:len(s1)]"
   ]
  },
  {
   "cell_type": "code",
   "execution_count": 7,
   "id": "26bc1b01",
   "metadata": {},
   "outputs": [
    {
     "data": {
      "text/plain": [
       "'typ'"
      ]
     },
     "execution_count": 7,
     "metadata": {},
     "output_type": "execute_result"
    }
   ],
   "source": [
    "s1 = 'python'\n",
    "# typ\n",
    "s1[-4::-1]"
   ]
  },
  {
   "cell_type": "code",
   "execution_count": 10,
   "id": "2b81b327",
   "metadata": {},
   "outputs": [
    {
     "data": {
      "text/plain": [
       "-7"
      ]
     },
     "execution_count": 10,
     "metadata": {},
     "output_type": "execute_result"
    }
   ],
   "source": [
    "-len(s1)-1"
   ]
  },
  {
   "cell_type": "code",
   "execution_count": 11,
   "id": "f823cb3e",
   "metadata": {},
   "outputs": [
    {
     "data": {
      "text/plain": [
       "'issem'"
      ]
     },
     "execution_count": 11,
     "metadata": {},
     "output_type": "execute_result"
    }
   ],
   "source": [
    "s2 = 'lionel#messi'\n",
    "\n",
    "# issem\n",
    "\n",
    "s2[:-6:-1]"
   ]
  },
  {
   "cell_type": "code",
   "execution_count": 12,
   "id": "0041126f",
   "metadata": {},
   "outputs": [
    {
     "data": {
      "text/plain": [
       "'issem'"
      ]
     },
     "execution_count": 12,
     "metadata": {},
     "output_type": "execute_result"
    }
   ],
   "source": [
    "s2[len(s2):-6:-1]"
   ]
  },
  {
   "cell_type": "code",
   "execution_count": 13,
   "id": "8970f31a",
   "metadata": {},
   "outputs": [
    {
     "data": {
      "text/plain": [
       "'loe#es'"
      ]
     },
     "execution_count": 13,
     "metadata": {},
     "output_type": "execute_result"
    }
   ],
   "source": [
    "s2[::2]"
   ]
  },
  {
   "cell_type": "code",
   "execution_count": 14,
   "id": "3006a0de",
   "metadata": {},
   "outputs": [
    {
     "data": {
      "text/plain": [
       "'lionel#messi'"
      ]
     },
     "execution_count": 14,
     "metadata": {},
     "output_type": "execute_result"
    }
   ],
   "source": [
    "s2[:]"
   ]
  },
  {
   "cell_type": "code",
   "execution_count": null,
   "id": "30e57000",
   "metadata": {},
   "outputs": [],
   "source": [
    "s2 = 'lionel#messi'\n",
    "s2[-1:-6]\n",
    "\n",
    "step = 1 -> l-r\n",
    "-1:-6 -> r-l"
   ]
  },
  {
   "cell_type": "code",
   "execution_count": 15,
   "id": "8caacca8",
   "metadata": {},
   "outputs": [
    {
     "data": {
      "text/plain": [
       "''"
      ]
     },
     "execution_count": 15,
     "metadata": {},
     "output_type": "execute_result"
    }
   ],
   "source": [
    "s2 = 'lionel#messi'\n",
    "s2[-1:-6]"
   ]
  },
  {
   "cell_type": "code",
   "execution_count": 16,
   "id": "c00eb0e5",
   "metadata": {},
   "outputs": [
    {
     "data": {
      "text/plain": [
       "'issem#lenoil'"
      ]
     },
     "execution_count": 16,
     "metadata": {},
     "output_type": "execute_result"
    }
   ],
   "source": [
    "s2 = 'lionel#messi'\n",
    "s2[::-1]"
   ]
  },
  {
   "cell_type": "code",
   "execution_count": null,
   "id": "d3657435",
   "metadata": {},
   "outputs": [],
   "source": [
    "step\n",
    "\n",
    " - +ve --> slicing will be done left to right\n",
    " - -ve --> slicing will be done right to left\n",
    "\n",
    "so step can be:\n",
    "    +1 --> extract every char from left to right\n",
    "    -1 --> extract every char from right to left\n",
    "    \n",
    "    +2 --> extract every 2nd char from left to right\n",
    "    -2 --> extract every 2nd char from right to left\n",
    "    \n",
    "    +3 --> extract every 3rd char from left to right\n",
    "    -3 --> extract every 3rd char from right to left\n",
    "    \n",
    "    +n --> extract every nth char from left to right\n",
    "    -n --> extract every nth char from right to left"
   ]
  },
  {
   "cell_type": "code",
   "execution_count": 18,
   "id": "632a9499",
   "metadata": {},
   "outputs": [
    {
     "data": {
      "text/plain": [
       "'lenoil'"
      ]
     },
     "execution_count": 18,
     "metadata": {},
     "output_type": "execute_result"
    }
   ],
   "source": [
    "s2 = 'lionel#messi'\n",
    "s2[5::-1]"
   ]
  },
  {
   "cell_type": "code",
   "execution_count": null,
   "id": "0ec02fe0",
   "metadata": {},
   "outputs": [],
   "source": [
    "s2[-3:len(s2):2]\n",
    "s2[-3:12:2]\n"
   ]
  },
  {
   "cell_type": "code",
   "execution_count": 19,
   "id": "023ad4b4",
   "metadata": {},
   "outputs": [
    {
     "data": {
      "text/plain": [
       "12"
      ]
     },
     "execution_count": 19,
     "metadata": {},
     "output_type": "execute_result"
    }
   ],
   "source": [
    "len(s2)"
   ]
  },
  {
   "cell_type": "code",
   "execution_count": 20,
   "id": "b2340f78",
   "metadata": {},
   "outputs": [
    {
     "data": {
      "text/plain": [
       "'issem#l'"
      ]
     },
     "execution_count": 20,
     "metadata": {},
     "output_type": "execute_result"
    }
   ],
   "source": [
    "s2 = 'lionel#messi'\n",
    "s2[-1:4:-1]"
   ]
  },
  {
   "cell_type": "code",
   "execution_count": 24,
   "id": "3b14d96c",
   "metadata": {},
   "outputs": [
    {
     "name": "stdout",
     "output_type": "stream",
     "text": [
      "afsan1\n"
     ]
    }
   ],
   "source": [
    "#concatination - adding string\n",
    "\n",
    "\"\"\"\n",
    "op - +\n",
    "operand - both the operand should be a str\n",
    "\n",
    "\"\"\"\n",
    "\n",
    "a = 'afsan'\n",
    "b = 'khan'\n",
    "c = '1'\n",
    "\n",
    "print(a+c)"
   ]
  },
  {
   "cell_type": "code",
   "execution_count": 27,
   "id": "f6af5943",
   "metadata": {},
   "outputs": [
    {
     "name": "stdout",
     "output_type": "stream",
     "text": [
      "afsanafsanafsanafsanafsan\n"
     ]
    }
   ],
   "source": [
    "# repetition\n",
    "\n",
    "\"\"\"\n",
    "op - *\n",
    "operand - one should be str and other should be int\n",
    "\n",
    "\"\"\"\n",
    "\n",
    "a = 'afsan'\n",
    "b = 'khan'\n",
    "c = 5\n",
    "\n",
    "print(a*c)"
   ]
  },
  {
   "cell_type": "code",
   "execution_count": 33,
   "id": "ba6a94e2",
   "metadata": {},
   "outputs": [
    {
     "name": "stdout",
     "output_type": "stream",
     "text": [
      "False\n"
     ]
    }
   ],
   "source": [
    "# membership\n",
    "\n",
    "\"\"\"\n",
    "tells if the sub seq is present in the seq or not\n",
    "op - in and not in\n",
    "return - bool\n",
    "\"\"\"\n",
    "\n",
    "s1 = 'i love to watch footbal and its one of my fav sports'\n",
    "\n",
    "print('football' in s1)"
   ]
  },
  {
   "cell_type": "code",
   "execution_count": 35,
   "id": "0029a4ba",
   "metadata": {},
   "outputs": [
    {
     "ename": "TypeError",
     "evalue": "'str' object does not support item assignment",
     "output_type": "error",
     "traceback": [
      "\u001b[0;31m---------------------------------------------------------------------------\u001b[0m",
      "\u001b[0;31mTypeError\u001b[0m                                 Traceback (most recent call last)",
      "Input \u001b[0;32mIn [35]\u001b[0m, in \u001b[0;36m<cell line: 4>\u001b[0;34m()\u001b[0m\n\u001b[1;32m      1\u001b[0m \u001b[38;5;66;03m# immutable - the original object cannot be modified\u001b[39;00m\n\u001b[1;32m      3\u001b[0m a \u001b[38;5;241m=\u001b[39m \u001b[38;5;124m'\u001b[39m\u001b[38;5;124mlearnbay\u001b[39m\u001b[38;5;124m'\u001b[39m\n\u001b[0;32m----> 4\u001b[0m a[\u001b[38;5;241m0\u001b[39m] \u001b[38;5;241m=\u001b[39m \u001b[38;5;124m'\u001b[39m\u001b[38;5;124mp\u001b[39m\u001b[38;5;124m'\u001b[39m\n",
      "\u001b[0;31mTypeError\u001b[0m: 'str' object does not support item assignment"
     ]
    }
   ],
   "source": [
    "# immutable - the original object cannot be modified\n",
    "\n",
    "a = 'learnbay'\n",
    "a[0] = 'p'"
   ]
  },
  {
   "cell_type": "code",
   "execution_count": null,
   "id": "89a3a5e0",
   "metadata": {},
   "outputs": [],
   "source": [
    "# interview question\n",
    "\n",
    "- python is the dyanmic / static\n",
    "- list all the mutable/immutable data type\n",
    "- explain the meaning of mutabvle/immutable\n",
    "- list down the properties of string\n",
    "- if we use .replace function we can replace right? is that different?"
   ]
  },
  {
   "cell_type": "code",
   "execution_count": 37,
   "id": "98e405c3",
   "metadata": {},
   "outputs": [
    {
     "name": "stdout",
     "output_type": "stream",
     "text": [
      "140224786503216\n",
      "140225072111280\n",
      "bay\n"
     ]
    }
   ],
   "source": [
    "a = 'learnbay'\n",
    "print(id(a))\n",
    "a = 'bay'\n",
    "print(id(a))\n",
    "\n",
    "print(a)"
   ]
  },
  {
   "cell_type": "code",
   "execution_count": 40,
   "id": "4e858e6b",
   "metadata": {},
   "outputs": [
    {
     "name": "stdout",
     "output_type": "stream",
     "text": [
      "140224786503216\n",
      "140225319237808\n"
     ]
    }
   ],
   "source": [
    "a = 'learnbay'\n",
    "print(id(a))\n",
    "print(id(a.replace('l','o')))"
   ]
  },
  {
   "cell_type": "code",
   "execution_count": 41,
   "id": "f80aaf61",
   "metadata": {},
   "outputs": [
    {
     "data": {
      "text/plain": [
       "'learnbay'"
      ]
     },
     "execution_count": 41,
     "metadata": {},
     "output_type": "execute_result"
    }
   ],
   "source": [
    "a"
   ]
  },
  {
   "cell_type": "code",
   "execution_count": null,
   "id": "42a7924e",
   "metadata": {},
   "outputs": [],
   "source": []
  }
 ],
 "metadata": {
  "kernelspec": {
   "display_name": "Python 3 (ipykernel)",
   "language": "python",
   "name": "python3"
  },
  "language_info": {
   "codemirror_mode": {
    "name": "ipython",
    "version": 3
   },
   "file_extension": ".py",
   "mimetype": "text/x-python",
   "name": "python",
   "nbconvert_exporter": "python",
   "pygments_lexer": "ipython3",
   "version": "3.9.12"
  }
 },
 "nbformat": 4,
 "nbformat_minor": 5
}
