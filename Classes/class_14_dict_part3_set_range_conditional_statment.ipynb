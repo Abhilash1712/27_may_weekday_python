{
 "cells": [
  {
   "cell_type": "code",
   "execution_count": 2,
   "id": "a3c5fa80",
   "metadata": {},
   "outputs": [],
   "source": [
    "employee_data = {'emp1':{'name':'afsan' , 'roll no':654, 'email':'abc@gmail.com'},\n",
    "                  'emp2':{'name':'rahul' , 'roll no':123, 'email':'xyz@gmail.com'}}"
   ]
  },
  {
   "cell_type": "code",
   "execution_count": 3,
   "id": "3a514b41",
   "metadata": {},
   "outputs": [
    {
     "data": {
      "text/plain": [
       "dict_keys(['emp1', 'emp2'])"
      ]
     },
     "execution_count": 3,
     "metadata": {},
     "output_type": "execute_result"
    }
   ],
   "source": [
    "# methods to see all the keys in the dict\n",
    "\n",
    "employee_data.keys()"
   ]
  },
  {
   "cell_type": "code",
   "execution_count": 4,
   "id": "58efde4e",
   "metadata": {},
   "outputs": [
    {
     "data": {
      "text/plain": [
       "dict_values([{'name': 'afsan', 'roll no': 654, 'email': 'abc@gmail.com'}, {'name': 'rahul', 'roll no': 123, 'email': 'xyz@gmail.com'}])"
      ]
     },
     "execution_count": 4,
     "metadata": {},
     "output_type": "execute_result"
    }
   ],
   "source": [
    "# methods to see all the values in the dict\n",
    "\n",
    "employee_data.values()"
   ]
  },
  {
   "cell_type": "code",
   "execution_count": 5,
   "id": "278d21e7",
   "metadata": {},
   "outputs": [
    {
     "data": {
      "text/plain": [
       "dict_items([('emp1', {'name': 'afsan', 'roll no': 654, 'email': 'abc@gmail.com'}), ('emp2', {'name': 'rahul', 'roll no': 123, 'email': 'xyz@gmail.com'})])"
      ]
     },
     "execution_count": 5,
     "metadata": {},
     "output_type": "execute_result"
    }
   ],
   "source": [
    "# methods to see all items\n",
    "\n",
    "employee_data.items()"
   ]
  },
  {
   "cell_type": "code",
   "execution_count": null,
   "id": "8fff57c7",
   "metadata": {},
   "outputs": [],
   "source": [
    "[(key,value), (key,value)]"
   ]
  },
  {
   "cell_type": "code",
   "execution_count": null,
   "id": "06a74e97",
   "metadata": {},
   "outputs": [],
   "source": [
    "# fromkeys \n",
    "\n",
    "creates a new dict with keys from iterable and value set to value parameter"
   ]
  },
  {
   "cell_type": "code",
   "execution_count": 11,
   "id": "08d7b992",
   "metadata": {},
   "outputs": [
    {
     "name": "stdout",
     "output_type": "stream",
     "text": [
      "{'Afsan': 'dummy data', 'debdutta': 'dummy data', 'fathima': 'dummy data'}\n"
     ]
    }
   ],
   "source": [
    "a = ['Afsan','debdutta','fathima']\n",
    "data = dict.fromkeys(a,'dummy data')\n",
    "print(data)"
   ]
  },
  {
   "cell_type": "code",
   "execution_count": 7,
   "id": "4cb860bd",
   "metadata": {},
   "outputs": [
    {
     "data": {
      "text/plain": [
       "{'emp1': {'name': 'afsan', 'roll no': 654, 'email': 'abc@gmail.com'},\n",
       " 'emp2': {'name': 'rahul', 'roll no': 123, 'email': 'xyz@gmail.com'}}"
      ]
     },
     "execution_count": 7,
     "metadata": {},
     "output_type": "execute_result"
    }
   ],
   "source": [
    "# clear\n",
    "\n",
    "employee_data"
   ]
  },
  {
   "cell_type": "code",
   "execution_count": 8,
   "id": "1715438a",
   "metadata": {},
   "outputs": [],
   "source": [
    "employee_data.clear()"
   ]
  },
  {
   "cell_type": "code",
   "execution_count": 10,
   "id": "7a409ea7",
   "metadata": {},
   "outputs": [
    {
     "data": {
      "text/plain": [
       "{}"
      ]
     },
     "execution_count": 10,
     "metadata": {},
     "output_type": "execute_result"
    }
   ],
   "source": [
    "employee_data"
   ]
  },
  {
   "cell_type": "code",
   "execution_count": 14,
   "id": "6e7c4b52",
   "metadata": {},
   "outputs": [
    {
     "data": {
      "text/plain": [
       "{1: 1, 2: 4, 3: 9, 4: 16, 5: 25, 6: 36}"
      ]
     },
     "execution_count": 14,
     "metadata": {},
     "output_type": "execute_result"
    }
   ],
   "source": [
    "# dict comprehension\n",
    "\n",
    "a = [1,2,3,4,5,6]\n",
    "{i:i**2 for i in a}"
   ]
  },
  {
   "cell_type": "code",
   "execution_count": null,
   "id": "cd8e2a1a",
   "metadata": {},
   "outputs": [],
   "source": [
    "# range data type\n",
    "\n",
    "- it is mostly used with for loops\n",
    "\n",
    "syntax = range(start, stop, index) - used to generate the seq of number in fwd / bwd direction\n",
    "\n",
    "default\n",
    "\n",
    "start deafult value will be 0\n",
    "stop value should be defined by user\n",
    "step = 1\n",
    "\n",
    "start in inclusive\n",
    "stop is exclusive"
   ]
  },
  {
   "cell_type": "code",
   "execution_count": 17,
   "id": "5c54dcef",
   "metadata": {},
   "outputs": [
    {
     "name": "stdout",
     "output_type": "stream",
     "text": [
      "[0, 1, 2, 3, 4, 5, 6, 7, 8, 9, 10, 11, 12, 13, 14, 15, 16, 17, 18, 19, 20, 21, 22, 23, 24, 25, 26, 27, 28, 29, 30, 31, 32, 33, 34, 35, 36, 37, 38, 39, 40, 41, 42, 43, 44, 45, 46, 47, 48, 49, 50, 51, 52, 53, 54, 55, 56, 57, 58, 59, 60, 61, 62, 63, 64, 65, 66, 67, 68, 69, 70, 71, 72, 73, 74, 75, 76, 77, 78, 79, 80, 81, 82, 83, 84, 85, 86, 87, 88, 89, 90, 91, 92, 93, 94, 95, 96, 97, 98, 99]\n"
     ]
    }
   ],
   "source": [
    "print(list(range(0,100)))"
   ]
  },
  {
   "cell_type": "code",
   "execution_count": 18,
   "id": "39f81279",
   "metadata": {},
   "outputs": [
    {
     "name": "stdout",
     "output_type": "stream",
     "text": [
      "[0, 3, 6, 9, 12]\n"
     ]
    }
   ],
   "source": [
    "print(list(range(0,15,3)))"
   ]
  },
  {
   "cell_type": "code",
   "execution_count": 20,
   "id": "d007d448",
   "metadata": {},
   "outputs": [
    {
     "name": "stdout",
     "output_type": "stream",
     "text": [
      "[15, 13, 11, 9, 7, 5, 3, 1]\n"
     ]
    }
   ],
   "source": [
    "print(list(range(15,0,-2)))"
   ]
  },
  {
   "cell_type": "code",
   "execution_count": 21,
   "id": "9180cb36",
   "metadata": {},
   "outputs": [
    {
     "name": "stdout",
     "output_type": "stream",
     "text": [
      "[0, 1, 2, 3, 4, 5, 6]\n"
     ]
    }
   ],
   "source": [
    "print(list(range(0,7)))"
   ]
  },
  {
   "cell_type": "code",
   "execution_count": 22,
   "id": "f80a22d6",
   "metadata": {},
   "outputs": [
    {
     "name": "stdout",
     "output_type": "stream",
     "text": [
      "[0, 1, 2, 3, 4, 5, 6, 7, 8, 9]\n"
     ]
    }
   ],
   "source": [
    "print(list(range(10)))"
   ]
  },
  {
   "cell_type": "code",
   "execution_count": null,
   "id": "bc3b1664",
   "metadata": {},
   "outputs": [],
   "source": [
    "set data type\n",
    "\n",
    "- collection of value\n",
    "- not a seq data type\n",
    "- indexing and slicing is not sup\n",
    "- collection of unique values\n",
    "- mutable\n",
    "- cannot contain a mutable data type"
   ]
  },
  {
   "cell_type": "code",
   "execution_count": 23,
   "id": "ec6e4e98",
   "metadata": {},
   "outputs": [
    {
     "name": "stdout",
     "output_type": "stream",
     "text": [
      "{1, 2, 3, 4, 5} <class 'set'>\n"
     ]
    }
   ],
   "source": [
    "a = {1,2,3,4,5,}\n",
    "print(a , type(a))"
   ]
  },
  {
   "cell_type": "code",
   "execution_count": 24,
   "id": "4bce4f59",
   "metadata": {},
   "outputs": [
    {
     "ename": "TypeError",
     "evalue": "'set' object is not subscriptable",
     "output_type": "error",
     "traceback": [
      "\u001b[0;31m---------------------------------------------------------------------------\u001b[0m",
      "\u001b[0;31mTypeError\u001b[0m                                 Traceback (most recent call last)",
      "Input \u001b[0;32mIn [24]\u001b[0m, in \u001b[0;36m<cell line: 2>\u001b[0;34m()\u001b[0m\n\u001b[1;32m      1\u001b[0m a \u001b[38;5;241m=\u001b[39m {\u001b[38;5;241m1\u001b[39m,\u001b[38;5;241m2\u001b[39m,\u001b[38;5;241m3\u001b[39m,\u001b[38;5;241m4\u001b[39m,\u001b[38;5;241m5\u001b[39m,}\n\u001b[0;32m----> 2\u001b[0m \u001b[38;5;28mprint\u001b[39m(\u001b[43ma\u001b[49m\u001b[43m[\u001b[49m\u001b[38;5;241;43m0\u001b[39;49m\u001b[43m]\u001b[49m , \u001b[38;5;28mtype\u001b[39m(a))\n",
      "\u001b[0;31mTypeError\u001b[0m: 'set' object is not subscriptable"
     ]
    }
   ],
   "source": [
    "a = {1,2,3,4,5,}\n",
    "print(a[0] , type(a))"
   ]
  },
  {
   "cell_type": "code",
   "execution_count": 26,
   "id": "96eefcee",
   "metadata": {},
   "outputs": [
    {
     "name": "stdout",
     "output_type": "stream",
     "text": [
      "{1, 2, 3, 4, 5, 6, 10} <class 'set'>\n"
     ]
    }
   ],
   "source": [
    "a = {1,1,1,2,2,2,3,3,3,10,5,6,3,3,4,4,5,5,6,6}\n",
    "print(a , type(a))"
   ]
  },
  {
   "cell_type": "code",
   "execution_count": 28,
   "id": "60662fd7",
   "metadata": {},
   "outputs": [],
   "source": [
    "a.clear()"
   ]
  },
  {
   "cell_type": "code",
   "execution_count": 33,
   "id": "aa94985b",
   "metadata": {},
   "outputs": [],
   "source": [
    "a = {1,2,3,(1,2,3)}"
   ]
  },
  {
   "cell_type": "code",
   "execution_count": 35,
   "id": "574646ce",
   "metadata": {},
   "outputs": [],
   "source": [
    "a.clear()"
   ]
  },
  {
   "cell_type": "code",
   "execution_count": 36,
   "id": "8aa811fa",
   "metadata": {},
   "outputs": [
    {
     "data": {
      "text/plain": [
       "set()"
      ]
     },
     "execution_count": 36,
     "metadata": {},
     "output_type": "execute_result"
    }
   ],
   "source": [
    "a"
   ]
  },
  {
   "cell_type": "code",
   "execution_count": 37,
   "id": "8993adb1",
   "metadata": {},
   "outputs": [
    {
     "data": {
      "text/plain": [
       "[1, 2, 3, 4]"
      ]
     },
     "execution_count": 37,
     "metadata": {},
     "output_type": "execute_result"
    }
   ],
   "source": [
    "a = list({1,2,3,4})\n",
    "a"
   ]
  },
  {
   "cell_type": "code",
   "execution_count": 38,
   "id": "28654e7b",
   "metadata": {},
   "outputs": [
    {
     "data": {
      "text/plain": [
       "['__and__',\n",
       " '__class__',\n",
       " '__class_getitem__',\n",
       " '__contains__',\n",
       " '__delattr__',\n",
       " '__dir__',\n",
       " '__doc__',\n",
       " '__eq__',\n",
       " '__format__',\n",
       " '__ge__',\n",
       " '__getattribute__',\n",
       " '__gt__',\n",
       " '__hash__',\n",
       " '__iand__',\n",
       " '__init__',\n",
       " '__init_subclass__',\n",
       " '__ior__',\n",
       " '__isub__',\n",
       " '__iter__',\n",
       " '__ixor__',\n",
       " '__le__',\n",
       " '__len__',\n",
       " '__lt__',\n",
       " '__ne__',\n",
       " '__new__',\n",
       " '__or__',\n",
       " '__rand__',\n",
       " '__reduce__',\n",
       " '__reduce_ex__',\n",
       " '__repr__',\n",
       " '__ror__',\n",
       " '__rsub__',\n",
       " '__rxor__',\n",
       " '__setattr__',\n",
       " '__sizeof__',\n",
       " '__str__',\n",
       " '__sub__',\n",
       " '__subclasshook__',\n",
       " '__xor__',\n",
       " 'add',\n",
       " 'clear',\n",
       " 'copy',\n",
       " 'difference',\n",
       " 'difference_update',\n",
       " 'discard',\n",
       " 'intersection',\n",
       " 'intersection_update',\n",
       " 'isdisjoint',\n",
       " 'issubset',\n",
       " 'issuperset',\n",
       " 'pop',\n",
       " 'remove',\n",
       " 'symmetric_difference',\n",
       " 'symmetric_difference_update',\n",
       " 'union',\n",
       " 'update']"
      ]
     },
     "execution_count": 38,
     "metadata": {},
     "output_type": "execute_result"
    }
   ],
   "source": [
    "dir(set())"
   ]
  },
  {
   "cell_type": "code",
   "execution_count": null,
   "id": "43b616c5",
   "metadata": {},
   "outputs": [],
   "source": [
    "# end part 1 of python\n",
    "\n",
    "part1 - basic of python - datatype\n",
    "part2 - condtional , loops , break , fucntions , regex , file, exceptional\n",
    "part3- libraries"
   ]
  },
  {
   "cell_type": "code",
   "execution_count": null,
   "id": "47a8b8b4",
   "metadata": {},
   "outputs": [],
   "source": [
    "# conditional statment"
   ]
  },
  {
   "cell_type": "code",
   "execution_count": null,
   "id": "ce9dbf7a",
   "metadata": {},
   "outputs": [],
   "source": [
    "# if condition"
   ]
  },
  {
   "cell_type": "code",
   "execution_count": null,
   "id": "21640b43",
   "metadata": {},
   "outputs": [],
   "source": [
    "stat1\n",
    "stat2\n",
    "stat3\n",
    "if cond:\n",
    "    stat4\n",
    "    stat5\n",
    "    \n",
    "if cond is true - 1,2,3,4,5\n",
    "if cond is False - 1,2,3"
   ]
  },
  {
   "cell_type": "code",
   "execution_count": null,
   "id": "c4df6d23",
   "metadata": {},
   "outputs": [],
   "source": [
    "stat1\n",
    "stat2\n",
    "stat3\n",
    "if cond:\n",
    "    stat4\n",
    "    stat5\n",
    "stat6\n",
    "stat7\n",
    "\n",
    "if cond is true - 1,2,3,4,5,6,7\n",
    "if cond is False - 1,2,3,6,7"
   ]
  },
  {
   "cell_type": "code",
   "execution_count": null,
   "id": "ec19d2cb",
   "metadata": {},
   "outputs": [],
   "source": [
    "# if and else"
   ]
  },
  {
   "cell_type": "code",
   "execution_count": null,
   "id": "40b4b25c",
   "metadata": {},
   "outputs": [],
   "source": [
    "stat1\n",
    "stat2\n",
    "stat3\n",
    "if cond:\n",
    "    stat4\n",
    "    stat5\n",
    "else:\n",
    "    stat6\n",
    "    stat7\n",
    "stat8\n",
    "stat9\n",
    "\n",
    "if cond is true - 1,2,3,4,5,8,9\n",
    "if cond is False - 1,2,3,6,7,8,9"
   ]
  },
  {
   "cell_type": "code",
   "execution_count": null,
   "id": "92250eb2",
   "metadata": {},
   "outputs": [],
   "source": [
    "stat1\n",
    "stat2\n",
    "stat3\n",
    "if cond1:\n",
    "    stat4\n",
    "    stat5\n",
    "if cond2:\n",
    "    stat6\n",
    "    stat7\n",
    "if cond3:\n",
    "    stat8\n",
    "    stat9\n",
    "else:\n",
    "    stat10\n",
    "    stat11\n",
    "stat12\n",
    "stat13\n",
    "\n",
    "if cond 1 and 2 is only true -1,2,3,4,5,6,7,10,11,12,13\n",
    "if all cond are false - 1,2,3,10,11,12,13\n",
    "if cond 2 and 3 is True - 1,2,3,6,7,8,9,12,13"
   ]
  },
  {
   "cell_type": "code",
   "execution_count": null,
   "id": "62570fd4",
   "metadata": {},
   "outputs": [],
   "source": [
    "stat1\n",
    "stat2\n",
    "stat3\n",
    "if cond1:\n",
    "    stat4\n",
    "    stat5\n",
    "else:\n",
    "    stat6\n",
    "    stat7\n",
    "if cond2:\n",
    "    stat8\n",
    "    stat9\n",
    "if cond3:\n",
    "    stat10\n",
    "    stat11\n",
    "else:\n",
    "    stat12\n",
    "    stat13\n",
    "stat14\n",
    "stat15\n",
    "\n",
    "if all cond are false - 1,2,3,6,7,12,12,13,14,15\n",
    "if all are True - 1,2,3,4,5,8,9,10,11,14,15"
   ]
  },
  {
   "cell_type": "code",
   "execution_count": null,
   "id": "d5c7b93e",
   "metadata": {},
   "outputs": [],
   "source": [
    "if elif else"
   ]
  },
  {
   "cell_type": "code",
   "execution_count": null,
   "id": "5d903368",
   "metadata": {},
   "outputs": [],
   "source": [
    "stat1\n",
    "stat2\n",
    "stat3\n",
    "if cond1:\n",
    "    stat4\n",
    "    stat5\n",
    "elif cond2:\n",
    "    stat8\n",
    "    stat9\n",
    "elif cond3:\n",
    "    stat10\n",
    "    stat11\n",
    "else:\n",
    "    stat12\n",
    "    stat13\n",
    "stat14\n",
    "stat15\n",
    "\n",
    "if cond 1 and cond 2 is True - 1,2,3,4,5,14,15\n",
    "if all are true - same as above\n",
    "if cond 2 is False - same as above\n",
    "if cond 1 and cond 2 is false - 1,2,3,10,11,14,15\n",
    "if all are false - 1,2,3,12,13,14,15"
   ]
  },
  {
   "cell_type": "code",
   "execution_count": 39,
   "id": "709933d9",
   "metadata": {},
   "outputs": [
    {
     "name": "stdout",
     "output_type": "stream",
     "text": [
      "line 4\n",
      "line 5\n"
     ]
    }
   ],
   "source": [
    "a = 33\n",
    "b = 200\n",
    "if b>a:\n",
    "    print('line 4')\n",
    "print('line 5')"
   ]
  },
  {
   "cell_type": "code",
   "execution_count": 40,
   "id": "7ecc68d4",
   "metadata": {},
   "outputs": [
    {
     "name": "stdout",
     "output_type": "stream",
     "text": [
      "line 9\n",
      "end\n"
     ]
    }
   ],
   "source": [
    "a = 100\n",
    "b = 'afsan'\n",
    "c = 'a'\n",
    "d = 200\n",
    "\n",
    "if 'a' > 'afsan':\n",
    "    print('line 7')\n",
    "elif c in b:\n",
    "    print('line 9')\n",
    "elif a == 100 and b == 291:\n",
    "    print('line 11')\n",
    "else:\n",
    "    print('line 13')\n",
    "print('end')"
   ]
  },
  {
   "cell_type": "code",
   "execution_count": null,
   "id": "c60f79a2",
   "metadata": {},
   "outputs": [],
   "source": [
    "nested conditonal statment"
   ]
  },
  {
   "cell_type": "code",
   "execution_count": 43,
   "id": "80f2ac0f",
   "metadata": {},
   "outputs": [
    {
     "name": "stdout",
     "output_type": "stream",
     "text": [
      "hi\n",
      "end\n"
     ]
    }
   ],
   "source": [
    "x = 5\n",
    "\n",
    "if x > 10:\n",
    "    print('hey')\n",
    "    if x>20:\n",
    "        print('hola')\n",
    "    else:\n",
    "        print('bye')\n",
    "else:\n",
    "    if x == 5:\n",
    "        print('hi')\n",
    "    else:\n",
    "        print('see you')\n",
    "\n",
    "print('end')"
   ]
  },
  {
   "cell_type": "code",
   "execution_count": null,
   "id": "29f1fecc",
   "metadata": {},
   "outputs": [],
   "source": [
    "### Q1. take a user input as a number from 0-4 and print the number in the word format\n",
    "\n",
    "0 ---> zero\n",
    "\n",
    "1 ----> one\n",
    "\n",
    "2 ----> two\n",
    "\n",
    "other --> invalid input"
   ]
  },
  {
   "cell_type": "code",
   "execution_count": null,
   "id": "fdfe555d",
   "metadata": {},
   "outputs": [],
   "source": [
    "### Q2. take three number from the user  and find the max out of those 3 number\n",
    "\"\"\"\n",
    "5\n",
    "2\n",
    "3\n",
    "\n",
    "max - 5\n",
    "\"\"\"\n",
    "### Q3. Design a calculator where two numbers will be taken by the user \n",
    "        operation code will be entered by the user\n",
    "            1. add\n",
    "            2. sub\n",
    "            3. mul\n",
    "            \n",
    "\"\"\"\n",
    "num1 - 10\n",
    "num2 - 20\n",
    "\n",
    "op - *\n",
    "\n",
    "op = 200\n",
    "\"\"\"\n",
    "### Q4. to find a year entered by user is a leap year or not - research word + coding workd\n",
    "\n",
    "\n",
    "### Q5. to check whether string is palindrome or not\n",
    "\n",
    "'''\n",
    "data = 'maam'\n",
    "palindrome\n",
    "'''"
   ]
  },
  {
   "cell_type": "code",
   "execution_count": null,
   "id": "b004f03e",
   "metadata": {},
   "outputs": [],
   "source": [
    "question 1 -5\n",
    "\n",
    "question 2 - 5\n",
    "\n",
    "10 mins"
   ]
  },
  {
   "cell_type": "code",
   "execution_count": 47,
   "id": "9956b790",
   "metadata": {},
   "outputs": [
    {
     "name": "stdout",
     "output_type": "stream",
     "text": [
      "enter a number80\n",
      "invalid input\n"
     ]
    }
   ],
   "source": [
    "a = eval(input('enter a number'))\n",
    "if (a==0):\n",
    "    print('zero')\n",
    "elif (a==1):\n",
    "    print('one')\n",
    "elif (a==2):\n",
    "    print('two')\n",
    "elif (a==3):\n",
    "    print('three')\n",
    "else:\n",
    "    print('invalid input')"
   ]
  },
  {
   "cell_type": "code",
   "execution_count": 49,
   "id": "90fac737",
   "metadata": {},
   "outputs": [
    {
     "name": "stdout",
     "output_type": "stream",
     "text": [
      "palindrome\n"
     ]
    }
   ],
   "source": [
    "data = 'maam'\n",
    "\n",
    "if data == data[::-1]:\n",
    "    print('palindrome')\n",
    "else:\n",
    "    print('not a palindrome')"
   ]
  },
  {
   "cell_type": "code",
   "execution_count": null,
   "id": "b80c3f69",
   "metadata": {},
   "outputs": [],
   "source": [
    "give all the even numbers from 1 to 50"
   ]
  },
  {
   "cell_type": "code",
   "execution_count": 50,
   "id": "97147965",
   "metadata": {},
   "outputs": [
    {
     "name": "stdout",
     "output_type": "stream",
     "text": [
      "0\n",
      "2\n",
      "4\n",
      "6\n",
      "8\n",
      "10\n",
      "12\n",
      "14\n",
      "16\n",
      "18\n",
      "20\n",
      "22\n",
      "24\n",
      "26\n",
      "28\n",
      "30\n",
      "32\n",
      "34\n",
      "36\n",
      "38\n",
      "40\n",
      "42\n",
      "44\n",
      "46\n",
      "48\n"
     ]
    }
   ],
   "source": [
    "for num in range(0,50):\n",
    "    if num%2==0:\n",
    "        print(num)"
   ]
  },
  {
   "cell_type": "code",
   "execution_count": 51,
   "id": "752c7fc9",
   "metadata": {},
   "outputs": [
    {
     "data": {
      "text/plain": [
       "[2,\n",
       " 4,\n",
       " 6,\n",
       " 8,\n",
       " 10,\n",
       " 12,\n",
       " 14,\n",
       " 16,\n",
       " 18,\n",
       " 20,\n",
       " 22,\n",
       " 24,\n",
       " 26,\n",
       " 28,\n",
       " 30,\n",
       " 32,\n",
       " 34,\n",
       " 36,\n",
       " 38,\n",
       " 40,\n",
       " 42,\n",
       " 44,\n",
       " 46,\n",
       " 48,\n",
       " 50]"
      ]
     },
     "execution_count": 51,
     "metadata": {},
     "output_type": "execute_result"
    }
   ],
   "source": [
    "[i  for i in range(1,51) if i % 2 == 0]"
   ]
  },
  {
   "cell_type": "code",
   "execution_count": 53,
   "id": "38b074a9",
   "metadata": {},
   "outputs": [
    {
     "name": "stdout",
     "output_type": "stream",
     "text": [
      "2\n",
      "4\n",
      "6\n",
      "8\n",
      "10\n",
      "12\n",
      "14\n",
      "16\n",
      "18\n",
      "20\n",
      "22\n",
      "24\n",
      "26\n",
      "28\n",
      "30\n",
      "32\n",
      "34\n",
      "36\n",
      "38\n",
      "40\n",
      "42\n",
      "44\n",
      "46\n",
      "48\n",
      "50\n"
     ]
    }
   ],
   "source": [
    "for i in range(2,51,2):\n",
    "    print(i)"
   ]
  },
  {
   "cell_type": "code",
   "execution_count": null,
   "id": "7a8de0d1",
   "metadata": {},
   "outputs": [],
   "source": [
    "# loops\n",
    "\n",
    "for loop\n",
    "while loops\n",
    "\n",
    "break and continue\n",
    "\n",
    "functions"
   ]
  }
 ],
 "metadata": {
  "kernelspec": {
   "display_name": "Python 3 (ipykernel)",
   "language": "python",
   "name": "python3"
  },
  "language_info": {
   "codemirror_mode": {
    "name": "ipython",
    "version": 3
   },
   "file_extension": ".py",
   "mimetype": "text/x-python",
   "name": "python",
   "nbconvert_exporter": "python",
   "pygments_lexer": "ipython3",
   "version": "3.9.12"
  }
 },
 "nbformat": 4,
 "nbformat_minor": 5
}
