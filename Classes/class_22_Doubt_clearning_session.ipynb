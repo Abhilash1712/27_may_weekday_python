{
 "cells": [
  {
   "cell_type": "code",
   "execution_count": null,
   "id": "06e76926",
   "metadata": {},
   "outputs": [],
   "source": [
    "What makes python an interpreted language and how is it different from other programming languages like C and C++?"
   ]
  },
  {
   "cell_type": "code",
   "execution_count": 1,
   "id": "961ae260",
   "metadata": {},
   "outputs": [
    {
     "name": "stdout",
     "output_type": "stream",
     "text": [
      "60\n"
     ]
    }
   ],
   "source": [
    "a = 10\n",
    "b = 20\n",
    "c = 30\n",
    "\n",
    "print(a+b+c)"
   ]
  },
  {
   "cell_type": "code",
   "execution_count": 1,
   "id": "707008d0",
   "metadata": {},
   "outputs": [],
   "source": [
    "a = 10"
   ]
  },
  {
   "cell_type": "code",
   "execution_count": 3,
   "id": "e311525e",
   "metadata": {},
   "outputs": [],
   "source": [
    "b = 20"
   ]
  },
  {
   "cell_type": "code",
   "execution_count": 2,
   "id": "621738ea",
   "metadata": {},
   "outputs": [],
   "source": [
    "c = 30"
   ]
  },
  {
   "cell_type": "code",
   "execution_count": 3,
   "id": "d15fc442",
   "metadata": {},
   "outputs": [
    {
     "ename": "NameError",
     "evalue": "name 'b' is not defined",
     "output_type": "error",
     "traceback": [
      "\u001b[0;31m---------------------------------------------------------------------------\u001b[0m",
      "\u001b[0;31mNameError\u001b[0m                                 Traceback (most recent call last)",
      "Input \u001b[0;32mIn [3]\u001b[0m, in \u001b[0;36m<cell line: 1>\u001b[0;34m()\u001b[0m\n\u001b[0;32m----> 1\u001b[0m \u001b[38;5;28mprint\u001b[39m(a\u001b[38;5;241m+\u001b[39m\u001b[43mb\u001b[49m\u001b[38;5;241m+\u001b[39mc)\n",
      "\u001b[0;31mNameError\u001b[0m: name 'b' is not defined"
     ]
    }
   ],
   "source": [
    "print(a+b+c)"
   ]
  },
  {
   "cell_type": "code",
   "execution_count": null,
   "id": "8be72cb2",
   "metadata": {},
   "outputs": [],
   "source": [
    "What is PVM\n",
    "\n"
   ]
  },
  {
   "cell_type": "code",
   "execution_count": null,
   "id": "9ca71c35",
   "metadata": {},
   "outputs": [],
   "source": [
    "code ---compiled---> bytecode (.pyc) ----> interperter ----> machine code"
   ]
  },
  {
   "cell_type": "code",
   "execution_count": null,
   "id": "bc6f8403",
   "metadata": {},
   "outputs": [],
   "source": [
    "Need more clarification on Map and Filter Functions with realtime examples, where exactly what we are prefered. (with and without lambda)"
   ]
  },
  {
   "cell_type": "code",
   "execution_count": null,
   "id": "b47b9faf",
   "metadata": {},
   "outputs": [],
   "source": [
    "map\n",
    "['afsan khan', 'Venkates poluparthi', 'darshan H']"
   ]
  },
  {
   "cell_type": "code",
   "execution_count": null,
   "id": "e26ed53f",
   "metadata": {},
   "outputs": [],
   "source": [
    "filter\n",
    "\n",
    "afsan khan"
   ]
  },
  {
   "cell_type": "code",
   "execution_count": 4,
   "id": "9461563d",
   "metadata": {},
   "outputs": [],
   "source": [
    "surname_list = []\n",
    "for i in ['afsan khan', 'Venkates poluparthi', 'darshan H']:\n",
    "    surname_list.append(i.split()[1])"
   ]
  },
  {
   "cell_type": "code",
   "execution_count": 5,
   "id": "b30d7c6c",
   "metadata": {},
   "outputs": [
    {
     "data": {
      "text/plain": [
       "['khan', 'poluparthi', 'H']"
      ]
     },
     "execution_count": 5,
     "metadata": {},
     "output_type": "execute_result"
    }
   ],
   "source": [
    "surname_list"
   ]
  },
  {
   "cell_type": "code",
   "execution_count": 6,
   "id": "4e1d5dde",
   "metadata": {},
   "outputs": [
    {
     "data": {
      "text/plain": [
       "['khan', 'poluparthi', 'H']"
      ]
     },
     "execution_count": 6,
     "metadata": {},
     "output_type": "execute_result"
    }
   ],
   "source": [
    "list(map(lambda x : x.split()[1] ,['afsan khan', 'Venkates poluparthi', 'darshan H'] ))"
   ]
  },
  {
   "cell_type": "code",
   "execution_count": null,
   "id": "81a50ec7",
   "metadata": {},
   "outputs": [],
   "source": [
    "map - "
   ]
  },
  {
   "cell_type": "code",
   "execution_count": null,
   "id": "b0954322",
   "metadata": {},
   "outputs": [],
   "source": [
    "Loops - when to use which (for and while) and real use case scenarios"
   ]
  },
  {
   "cell_type": "code",
   "execution_count": null,
   "id": "99c9b0ce",
   "metadata": {},
   "outputs": [],
   "source": [
    "for i in range(10):\n",
    "    print(i)"
   ]
  },
  {
   "cell_type": "code",
   "execution_count": null,
   "id": "2dd09005",
   "metadata": {},
   "outputs": [],
   "source": [
    "i = 0\n",
    "while i<5:\n",
    "    print(i)"
   ]
  },
  {
   "cell_type": "code",
   "execution_count": null,
   "id": "21d2fa43",
   "metadata": {},
   "outputs": [],
   "source": [
    "#Write a Python program to create a 3X4X6 3D matrix wiith below elements using loop\n",
    "#Output:- \n",
    "# [\n",
    "#     [[0,0,0,0,0,0],[0,0,0,0,0,0],[0,0,0,0,0,0],[0,0,0,0,0,0]],\n",
    "#     [[0,0,0,0,0,0],[1,1,1,1,1,1],[2,2,2,2,2,2],[3,3,3,3,3,3]],\n",
    "#     [[0,0,0,0,0,0],[2,2,2,2,2,2],[4,4,4,4,4,4],[6,6,6,6,6,6]]\n",
    "# ]\n"
   ]
  },
  {
   "cell_type": "code",
   "execution_count": null,
   "id": "d42e1801",
   "metadata": {},
   "outputs": [],
   "source": [
    "[\n",
    "[[0,0,0,0,0,0],[0,0,0,0,0,0],[0,0,0,0,0,0],[0,0,0,0,0,0]],\n",
    "[[0,0,0,0,0,0],[1,1,1,1,1,1],[2,2,2,2,2,2],[3,3,3,3,3,3]],\n",
    "[[0,0,0,0,0,0],[2,2,2,2,2,2],[4,4,4,4,4,4],[6,6,6,6,6,6]]\n",
    "]\n"
   ]
  },
  {
   "cell_type": "code",
   "execution_count": 13,
   "id": "4098781c",
   "metadata": {},
   "outputs": [],
   "source": [
    "outer_list = []\n",
    "for i in range(3):\n",
    "    inner_list_1 = []\n",
    "    for j in range(4):\n",
    "        inner_list_2 = []\n",
    "        for k in range(6):\n",
    "            inner_list_2.append(j*i)\n",
    "        inner_list_1.append(inner_list_2)\n",
    "    outer_list.append(inner_list_1)"
   ]
  },
  {
   "cell_type": "code",
   "execution_count": 14,
   "id": "750fad63",
   "metadata": {},
   "outputs": [
    {
     "data": {
      "text/plain": [
       "[[[0, 0, 0, 0, 0, 0],\n",
       "  [0, 0, 0, 0, 0, 0],\n",
       "  [0, 0, 0, 0, 0, 0],\n",
       "  [0, 0, 0, 0, 0, 0]],\n",
       " [[0, 0, 0, 0, 0, 0],\n",
       "  [1, 1, 1, 1, 1, 1],\n",
       "  [2, 2, 2, 2, 2, 2],\n",
       "  [3, 3, 3, 3, 3, 3]],\n",
       " [[0, 0, 0, 0, 0, 0],\n",
       "  [2, 2, 2, 2, 2, 2],\n",
       "  [4, 4, 4, 4, 4, 4],\n",
       "  [6, 6, 6, 6, 6, 6]]]"
      ]
     },
     "execution_count": 14,
     "metadata": {},
     "output_type": "execute_result"
    }
   ],
   "source": [
    "outer_list"
   ]
  },
  {
   "cell_type": "code",
   "execution_count": null,
   "id": "ea1c433f",
   "metadata": {},
   "outputs": [],
   "source": [
    "for iter 1 i=0\n",
    "    for iter 1 j = 0\n",
    "        fir iter 1k = 0\n",
    "        for iter 2k = 1\n",
    "        for iter 3k = 2\n",
    "        for iter 4k = 3"
   ]
  },
  {
   "cell_type": "code",
   "execution_count": 15,
   "id": "43c7ae3d",
   "metadata": {},
   "outputs": [
    {
     "data": {
      "text/plain": [
       "[[[0, 0, 0, 0, 0, 0],\n",
       "  [0, 0, 0, 0, 0, 0],\n",
       "  [0, 0, 0, 0, 0, 0],\n",
       "  [0, 0, 0, 0, 0, 0]],\n",
       " [[0, 0, 0, 0, 0, 0],\n",
       "  [1, 1, 1, 1, 1, 1],\n",
       "  [2, 2, 2, 2, 2, 2],\n",
       "  [3, 3, 3, 3, 3, 3]],\n",
       " [[0, 0, 0, 0, 0, 0],\n",
       "  [2, 2, 2, 2, 2, 2],\n",
       "  [4, 4, 4, 4, 4, 4],\n",
       "  [6, 6, 6, 6, 6, 6]]]"
      ]
     },
     "execution_count": 15,
     "metadata": {},
     "output_type": "execute_result"
    }
   ],
   "source": [
    "[[[j*i for k in range(6)]for j in range(4)]for i in range(3)]"
   ]
  },
  {
   "cell_type": "code",
   "execution_count": 16,
   "id": "59dea60d",
   "metadata": {},
   "outputs": [],
   "source": [
    "x = [[[k*j for i in range(6)] for j in range(4)] for k in range(3)]"
   ]
  },
  {
   "cell_type": "code",
   "execution_count": 19,
   "id": "7e132e95",
   "metadata": {},
   "outputs": [
    {
     "name": "stdout",
     "output_type": "stream",
     "text": [
      "[[0, 0, 0, 0, 0, 0], [0, 0, 0, 0, 0, 0], [0, 0, 0, 0, 0, 0], [0, 0, 0, 0, 0, 0]] [[0, 0, 0, 0, 0, 0], [1, 1, 1, 1, 1, 1], [2, 2, 2, 2, 2, 2], [3, 3, 3, 3, 3, 3]] [[0, 0, 0, 0, 0, 0], [2, 2, 2, 2, 2, 2], [4, 4, 4, 4, 4, 4], [6, 6, 6, 6, 6, 6]]\n"
     ]
    }
   ],
   "source": [
    "print(*x)"
   ]
  },
  {
   "cell_type": "markdown",
   "id": "a34a597b",
   "metadata": {},
   "source": [
    "Write a Python program which takes a list from the user and prints it after reshuffling the elements of the list"
   ]
  },
  {
   "cell_type": "code",
   "execution_count": 22,
   "id": "f2d4eac6",
   "metadata": {},
   "outputs": [
    {
     "name": "stdout",
     "output_type": "stream",
     "text": [
      "enter the ele[1,2,3,4,5,6,7]\n",
      "[7, 4, 2, 1, 6, 3, 5]\n"
     ]
    }
   ],
   "source": [
    "user_input = eval(input('enter the ele'))\n",
    "from random import shuffle\n",
    "shuffle(user_input)\n",
    "print(user_input)"
   ]
  },
  {
   "cell_type": "code",
   "execution_count": null,
   "id": "81719abc",
   "metadata": {},
   "outputs": [],
   "source": [
    "What is the use of Decorators, Generators and iterators in realtime and where we can use these. "
   ]
  },
  {
   "cell_type": "markdown",
   "id": "6c271fe0",
   "metadata": {},
   "source": [
    "# What is the use of Decorators, Generators and iterators in realtime and where we can use these. \n",
    "\n",
    "(will cover in end)"
   ]
  },
  {
   "cell_type": "code",
   "execution_count": null,
   "id": "9f9768bd",
   "metadata": {},
   "outputs": [],
   "source": [
    "List comprehension with few examples\n",
    "\n",
    "# we want to create a new list with existing list\n",
    "\n",
    "list comphrensio"
   ]
  },
  {
   "cell_type": "code",
   "execution_count": null,
   "id": "c2c7470b",
   "metadata": {},
   "outputs": [],
   "source": [
    "Write a function reverseLookup(dictionary, value) that takes in a dictionary  \n",
    "and a value as arguments and returns a sorted list of all keys that contains the value.  \n",
    "The function will return an empty list if no match is found. \n",
    "it should print that number is outside of the range and \n",
    "program should exit\n",
    "\n",
    "# In - reverseLookup({'a':1, 'b':2, 'c':2}, 1)\n",
    "# Out - ['a']\n",
    "# In - reverseLookup({'a':1, 'c':2, 'b':2}, 2)\n",
    "# Out - ['b', 'c']\n",
    "# In - reverseLookup({'a':1, 'b':2, 'c':2}, 3)\n",
    "# Out - []"
   ]
  },
  {
   "cell_type": "code",
   "execution_count": 35,
   "id": "5298082e",
   "metadata": {},
   "outputs": [],
   "source": [
    "def reverse_lookup(dic , ele):\n",
    "    list_value = []\n",
    "    for i,j in dic.items():\n",
    "        print(i,j)\n",
    "        if j == ele:\n",
    "            list_value.append(i)\n",
    "    list_value.sort()\n",
    "    return list_value"
   ]
  },
  {
   "cell_type": "code",
   "execution_count": 36,
   "id": "555031a7",
   "metadata": {},
   "outputs": [
    {
     "name": "stdout",
     "output_type": "stream",
     "text": [
      "a 1\n",
      "c 2\n",
      "b 2\n"
     ]
    },
    {
     "data": {
      "text/plain": [
       "['b', 'c']"
      ]
     },
     "execution_count": 36,
     "metadata": {},
     "output_type": "execute_result"
    }
   ],
   "source": [
    "reverse_lookup({'a':1, 'c':2, 'b':2}, 2)"
   ]
  },
  {
   "cell_type": "code",
   "execution_count": null,
   "id": "a7f52b9a",
   "metadata": {},
   "outputs": [],
   "source": [
    "Dictionary Assignment DNA sequence, convert dict, Invert dic and Brad’s salary (question 6,7,,14 & 17 )\n",
    "Dictionary_Assignement- Question no - 5 - In gene expression, mRNA is transcribed from a DNA template."
   ]
  },
  {
   "cell_type": "code",
   "execution_count": null,
   "id": "0904da65",
   "metadata": {},
   "outputs": [],
   "source": [
    "Need more clarification on functions("
   ]
  },
  {
   "cell_type": "code",
   "execution_count": null,
   "id": "2ca4ffdd",
   "metadata": {},
   "outputs": [],
   "source": [
    "W. A P. which takes one number from 0 to 4 from the user \n",
    "and prints it in the word. And if the word is not from 0 to 9 then \n",
    "it should print that number is outside of the range and program should exit."
   ]
  },
  {
   "cell_type": "code",
   "execution_count": null,
   "id": "bb0be015",
   "metadata": {},
   "outputs": [],
   "source": [
    "if user == 0:\n",
    "    print('zero')\n",
    "elif\n",
    "elif\n",
    "else:\n",
    "    print('outside of the range')"
   ]
  },
  {
   "cell_type": "code",
   "execution_count": null,
   "id": "255d642d",
   "metadata": {},
   "outputs": [],
   "source": [
    "Write a Python program to count the number of \n",
    "strings having length more than 2 and are palindrome in a list using loop.\n",
    "#Input:- ['ab', 'abc', 'aba', 'xyz', '1991']\n"
   ]
  },
  {
   "cell_type": "code",
   "execution_count": 41,
   "id": "7ec11da8",
   "metadata": {},
   "outputs": [
    {
     "data": {
      "text/plain": [
       "2"
      ]
     },
     "execution_count": 41,
     "metadata": {},
     "output_type": "execute_result"
    }
   ],
   "source": [
    "count = 0\n",
    "for data in ['ab', 'abc', 'aba', 'xyz', '1991']:\n",
    "    if len(data) > 2:\n",
    "        if data == data[::-1]:\n",
    "            count +=1\n",
    "count"
   ]
  },
  {
   "cell_type": "code",
   "execution_count": null,
   "id": "33cb560c",
   "metadata": {},
   "outputs": [],
   "source": [
    "From map-reduce-filter assignment, \n",
    "“Filter out the positve number from a list” : for this particular question, \n",
    "I see 0 is not getting printed as positive number because filter takes a boolean function and 0 means false. \n",
    "Is there a way to get the 0 filtered?"
   ]
  },
  {
   "cell_type": "code",
   "execution_count": null,
   "id": "f82b196d",
   "metadata": {},
   "outputs": [],
   "source": [
    "[1,2,-3,-4,5,-7,9,0,10,20]"
   ]
  },
  {
   "cell_type": "code",
   "execution_count": 44,
   "id": "23f6bac9",
   "metadata": {},
   "outputs": [
    {
     "data": {
      "text/plain": [
       "[1, 2, 5, 9, 0, 10, 20]"
      ]
     },
     "execution_count": 44,
     "metadata": {},
     "output_type": "execute_result"
    }
   ],
   "source": [
    "list(filter(lambda x :x>=0 , [1,2,-3,-4,5,-7,9,0,10,20]))"
   ]
  },
  {
   "cell_type": "code",
   "execution_count": null,
   "id": "89230187",
   "metadata": {},
   "outputs": [],
   "source": [
    "Conditional and loop statement assignment\n",
    "1.How to come out of the program using if elif (without for loop, is it possible)\n",
    "2.how to use if elif in ternary operator (only if else is working) - cannot use\n",
    "3. Getting stuck on printing the index (print all the indexes of all occurences of letter 'p' appeared in the string using loop\n"
   ]
  },
  {
   "cell_type": "code",
   "execution_count": 45,
   "id": "f2e1b802",
   "metadata": {},
   "outputs": [
    {
     "name": "stdout",
     "output_type": "stream",
     "text": [
      "0\n",
      "7\n",
      "9\n"
     ]
    }
   ],
   "source": [
    "a = 'python papa'\n",
    "for i,j in enumerate(a):\n",
    "    if j == 'p':\n",
    "        print(i)"
   ]
  },
  {
   "cell_type": "code",
   "execution_count": 46,
   "id": "c7c19b2a",
   "metadata": {},
   "outputs": [
    {
     "data": {
      "text/plain": [
       "[1, 2, 3, 4, 5, 7, 9, 0, 10, 20]"
      ]
     },
     "execution_count": 46,
     "metadata": {},
     "output_type": "execute_result"
    }
   ],
   "source": [
    "a=[1,2,3,4,5,7,9,0,10,20]\n",
    "list(filter(lambda x:x>=0 ,a))"
   ]
  },
  {
   "cell_type": "code",
   "execution_count": null,
   "id": "5fe67c3b",
   "metadata": {},
   "outputs": [],
   "source": [
    "#Write a python program which takes one input string from user and encode it in below format:-\n",
    "#     1. #Input:- 'Python'\n",
    "       #Output:- 'R{vjqp'"
   ]
  },
  {
   "cell_type": "code",
   "execution_count": 47,
   "id": "4a16524e",
   "metadata": {},
   "outputs": [],
   "source": [
    "main_string = 'Python'\n",
    "answer = ''\n",
    "for char in main_string:\n",
    "    answer += chr(ord(char)+2)"
   ]
  },
  {
   "cell_type": "code",
   "execution_count": 48,
   "id": "c386102e",
   "metadata": {},
   "outputs": [
    {
     "data": {
      "text/plain": [
       "'R{vjqp'"
      ]
     },
     "execution_count": 48,
     "metadata": {},
     "output_type": "execute_result"
    }
   ],
   "source": [
    "answer"
   ]
  },
  {
   "cell_type": "code",
   "execution_count": null,
   "id": "65988852",
   "metadata": {},
   "outputs": [],
   "source": [
    "If else assignment question no. 2 -calculator.\n",
    "\n",
    "+\n",
    "-\n",
    "*\n",
    "/"
   ]
  },
  {
   "cell_type": "code",
   "execution_count": 49,
   "id": "d041ce6a",
   "metadata": {},
   "outputs": [
    {
     "name": "stdout",
     "output_type": "stream",
     "text": [
      "please enter the number 110\n",
      "please enter the second number20\n",
      "please enter the operation\n",
      "                1. add or +\n",
      "                2. sub or -\n",
      "                3. div or /\n",
      "                4. mul. or *-\n",
      "-10\n"
     ]
    }
   ],
   "source": [
    "input1 = int(input('please enter the number 1'))\n",
    "input2 = int(input('please enter the second number'))\n",
    "op = input(\"\"\"please enter the operation\n",
    "                1. add or +\n",
    "                2. sub or -\n",
    "                3. div or /\n",
    "                4. mul. or *\"\"\")\n",
    "\n",
    "if op == 'add' or op == '+':\n",
    "    print(input1 + input2)\n",
    "elif op == 'sub' or op == '-':\n",
    "    print(input1 - input2)"
   ]
  },
  {
   "cell_type": "code",
   "execution_count": null,
   "id": "7a25f460",
   "metadata": {},
   "outputs": [],
   "source": [
    "class MyException(Exception):\n",
    "    def __init__(self,msg):\n",
    "        self.msg = msg\n",
    " \n",
    "amt = int(input('enter the amount : '))\n",
    "try:\n",
    "    if amt<50000:\n",
    "        print('Transaction is successful')\n",
    "    else:\n",
    "        raise MyException('Over Limit')\n",
    "except Exception as e:\n",
    "    print(e)\n",
    "Why are we getting the same output if we write except MyException as e?\n"
   ]
  }
 ],
 "metadata": {
  "kernelspec": {
   "display_name": "Python 3 (ipykernel)",
   "language": "python",
   "name": "python3"
  },
  "language_info": {
   "codemirror_mode": {
    "name": "ipython",
    "version": 3
   },
   "file_extension": ".py",
   "mimetype": "text/x-python",
   "name": "python",
   "nbconvert_exporter": "python",
   "pygments_lexer": "ipython3",
   "version": "3.9.12"
  }
 },
 "nbformat": 4,
 "nbformat_minor": 5
}
