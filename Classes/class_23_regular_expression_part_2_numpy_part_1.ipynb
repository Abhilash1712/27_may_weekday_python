{
 "cells": [
  {
   "cell_type": "code",
   "execution_count": null,
   "id": "6823f3e7",
   "metadata": {},
   "outputs": [],
   "source": [
    "'''\n",
    ".       - Any Character Except New Line\n",
    "\\d      - Digit (0-9)\n",
    "\\D      - Not a Digit (0-9)\n",
    "\\w      - Word Character (a-z, A-Z, 0-9, _)\n",
    "\\W      - Not a Word Character\n",
    "\\s      - Whitespace (space, tab, newline)\n",
    "\\S      - Not Whitespace (space, tab, newline)\n",
    "\n",
    "\\b      - Word Boundary\n",
    "\\B      - Not a Word Boundary\n",
    "^       - Beginning of a String\n",
    "$       - End of a String\n",
    "\n",
    "[]      - Matches Characters in brackets\n",
    "[^ ]    - Matches Characters NOT in brackets\n",
    "|       - Either Or\n",
    "( )     - Group\n",
    "\n",
    "Quantifiers:\n",
    "*       - 0 or More\n",
    "+       - 1 or More\n",
    "?       - 0 or One\n",
    "{3}     - Exact Number\n",
    "{3,4}   - Range of Numbers (Minimum, Maximum)\n",
    "\n",
    "\n",
    "#### Sample Regexs ####\n",
    "\n",
    "[a-zA-Z0-9_.+-]+@[a-zA-Z0-9-]+\\.[a-zA-Z0-9-.]+\n",
    "\n",
    "'''"
   ]
  },
  {
   "cell_type": "code",
   "execution_count": 9,
   "id": "cdaab9b2",
   "metadata": {},
   "outputs": [],
   "source": [
    "text_to_search = '''\n",
    "abcdefghijklmnopqurtuvwxyz\n",
    "ABCDEFGHIJKLMNOPQRSTUVWXYZ\\s\n",
    "321-555-4321\n",
    "1234567890\n",
    "Ha HaHa\n",
    "MetaCharacters (Need to be escaped):\n",
    ". ^ $ * + ? { } [ ] \\ | ( )\n",
    "khanafsaan\\nkhan11.com\n",
    "afsaan\n",
    "321-555-4321\n",
    "123.555.123\n",
    "123*555*-1234\n",
    "123.555.123456\n",
    "800-555-1234\n",
    "900-555-1234\n",
    "Mr. Schafer\n",
    "Mr Smith\n",
    "Ms Davis\n",
    "Mrs. Robinson\n",
    "Mr. T\n",
    "Mr_hello\n",
    "afsaan\n",
    "'''"
   ]
  },
  {
   "cell_type": "code",
   "execution_count": 1,
   "id": "400d5009",
   "metadata": {},
   "outputs": [],
   "source": [
    "import re"
   ]
  },
  {
   "cell_type": "code",
   "execution_count": null,
   "id": "d2cce863",
   "metadata": {},
   "outputs": [],
   "source": [
    "# extract all the phone numbers with the pattern nnn.nnn.nnnn"
   ]
  },
  {
   "cell_type": "code",
   "execution_count": 7,
   "id": "c46f49b9",
   "metadata": {},
   "outputs": [
    {
     "name": "stdout",
     "output_type": "stream",
     "text": [
      "<re.Match object; span=(196, 208), match='123.555.1234'>\n",
      "<re.Match object; span=(224, 236), match='123.555.1234'>\n"
     ]
    }
   ],
   "source": [
    "search = re.compile(r'\\d\\d\\d\\.\\d\\d\\d\\.\\d\\d\\d\\d')\n",
    "data = search.finditer(text_to_search)\n",
    "for match in data:\n",
    "    print(match)"
   ]
  },
  {
   "cell_type": "code",
   "execution_count": 8,
   "id": "556e5702",
   "metadata": {},
   "outputs": [
    {
     "name": "stdout",
     "output_type": "stream",
     "text": [
      "<re.Match object; span=(196, 208), match='123.555.1234'>\n",
      "<re.Match object; span=(224, 236), match='123.555.1234'>\n"
     ]
    }
   ],
   "source": [
    "# {3}     - Exact Number\n",
    "\n",
    "search = re.compile(r'\\d{3}.\\d{3}\\.\\d{4}')\n",
    "data = search.finditer(text_to_search)\n",
    "for match in data:\n",
    "    print(match)"
   ]
  },
  {
   "cell_type": "code",
   "execution_count": 10,
   "id": "62317c01",
   "metadata": {},
   "outputs": [
    {
     "name": "stdout",
     "output_type": "stream",
     "text": [
      "<re.Match object; span=(196, 207), match='123.555.123'>\n",
      "<re.Match object; span=(222, 236), match='123.555.123456'>\n"
     ]
    }
   ],
   "source": [
    "# {3,6}     - min and max\n",
    "\n",
    "search = re.compile(r'\\d{3}.\\d{3}\\.\\d{3,6}')\n",
    "data = search.finditer(text_to_search)\n",
    "for match in data:\n",
    "    print(match)"
   ]
  },
  {
   "cell_type": "code",
   "execution_count": null,
   "id": "8daa12eb",
   "metadata": {},
   "outputs": [],
   "source": [
    "# extract all the phone numbers with the pattern nnn.nnn.nnnn/nnn-nnn-nnn"
   ]
  },
  {
   "cell_type": "code",
   "execution_count": 12,
   "id": "4130d68c",
   "metadata": {},
   "outputs": [
    {
     "name": "stdout",
     "output_type": "stream",
     "text": [
      "<re.Match object; span=(1, 2), match='a'>\n",
      "<re.Match object; span=(2, 3), match='b'>\n",
      "<re.Match object; span=(82, 83), match='a'>\n",
      "<re.Match object; span=(85, 86), match='a'>\n",
      "<re.Match object; span=(87, 88), match='a'>\n",
      "<re.Match object; span=(92, 93), match='a'>\n",
      "<re.Match object; span=(95, 96), match='a'>\n",
      "<re.Match object; span=(97, 98), match='a'>\n",
      "<re.Match object; span=(113, 114), match='b'>\n",
      "<re.Match object; span=(119, 120), match='a'>\n",
      "<re.Match object; span=(156, 157), match='a'>\n",
      "<re.Match object; span=(158, 159), match='a'>\n",
      "<re.Match object; span=(161, 162), match='a'>\n",
      "<re.Match object; span=(162, 163), match='a'>\n",
      "<re.Match object; span=(167, 168), match='a'>\n",
      "<re.Match object; span=(176, 177), match='a'>\n",
      "<re.Match object; span=(179, 180), match='a'>\n",
      "<re.Match object; span=(180, 181), match='a'>\n",
      "<re.Match object; span=(270, 271), match='a'>\n",
      "<re.Match object; span=(288, 289), match='a'>\n",
      "<re.Match object; span=(300, 301), match='b'>\n",
      "<re.Match object; span=(322, 323), match='a'>\n",
      "<re.Match object; span=(325, 326), match='a'>\n",
      "<re.Match object; span=(326, 327), match='a'>\n"
     ]
    }
   ],
   "source": [
    "# []      - Matches Characters in brackets\n",
    "\n",
    "search = re.compile(r'[ab]')\n",
    "data = search.finditer(text_to_search)\n",
    "for match in data:\n",
    "    print(match)"
   ]
  },
  {
   "cell_type": "code",
   "execution_count": 13,
   "id": "e212d9f3",
   "metadata": {},
   "outputs": [
    {
     "name": "stdout",
     "output_type": "stream",
     "text": [
      "<re.Match object; span=(1, 2), match='a'>\n",
      "<re.Match object; span=(3, 4), match='c'>\n",
      "<re.Match object; span=(20, 21), match='t'>\n",
      "<re.Match object; span=(82, 83), match='a'>\n",
      "<re.Match object; span=(85, 86), match='a'>\n",
      "<re.Match object; span=(87, 88), match='a'>\n",
      "<re.Match object; span=(91, 92), match='t'>\n",
      "<re.Match object; span=(92, 93), match='a'>\n",
      "<re.Match object; span=(95, 96), match='a'>\n",
      "<re.Match object; span=(97, 98), match='a'>\n",
      "<re.Match object; span=(98, 99), match='c'>\n",
      "<re.Match object; span=(99, 100), match='t'>\n",
      "<re.Match object; span=(110, 111), match='t'>\n",
      "<re.Match object; span=(118, 119), match='c'>\n",
      "<re.Match object; span=(119, 120), match='a'>\n",
      "<re.Match object; span=(156, 157), match='a'>\n",
      "<re.Match object; span=(158, 159), match='a'>\n",
      "<re.Match object; span=(161, 162), match='a'>\n",
      "<re.Match object; span=(162, 163), match='a'>\n",
      "<re.Match object; span=(167, 168), match='a'>\n",
      "<re.Match object; span=(172, 173), match='c'>\n",
      "<re.Match object; span=(176, 177), match='a'>\n",
      "<re.Match object; span=(179, 180), match='a'>\n",
      "<re.Match object; span=(180, 181), match='a'>\n",
      "<re.Match object; span=(268, 269), match='c'>\n",
      "<re.Match object; span=(270, 271), match='a'>\n",
      "<re.Match object; span=(281, 282), match='t'>\n",
      "<re.Match object; span=(288, 289), match='a'>\n",
      "<re.Match object; span=(322, 323), match='a'>\n",
      "<re.Match object; span=(325, 326), match='a'>\n",
      "<re.Match object; span=(326, 327), match='a'>\n"
     ]
    }
   ],
   "source": [
    "search = re.compile(r'[cat]')\n",
    "data = search.finditer(text_to_search)\n",
    "for match in data:\n",
    "    print(match)"
   ]
  },
  {
   "cell_type": "code",
   "execution_count": null,
   "id": "685690be",
   "metadata": {},
   "outputs": [],
   "source": [
    "# extract all the phone numbers with the pattern nnn.nnn.nnnn/nnn-nnn-nnn"
   ]
  },
  {
   "cell_type": "code",
   "execution_count": 14,
   "id": "176e831b",
   "metadata": {},
   "outputs": [
    {
     "name": "stdout",
     "output_type": "stream",
     "text": [
      "<re.Match object; span=(57, 69), match='321-555-4321'>\n",
      "<re.Match object; span=(183, 195), match='321-555-4321'>\n",
      "<re.Match object; span=(196, 207), match='123.555.123'>\n",
      "<re.Match object; span=(222, 236), match='123.555.123456'>\n",
      "<re.Match object; span=(237, 249), match='800-555-1234'>\n",
      "<re.Match object; span=(250, 262), match='900-555-1234'>\n"
     ]
    }
   ],
   "source": [
    "search = re.compile(r'\\d{3}[.-]\\d{3}[.-]\\d{3,6}')\n",
    "data = search.finditer(text_to_search)\n",
    "for match in data:\n",
    "    print(match)"
   ]
  },
  {
   "cell_type": "code",
   "execution_count": null,
   "id": "a22b1cef",
   "metadata": {},
   "outputs": [],
   "source": [
    "significance of - between numbers and alphabets"
   ]
  },
  {
   "cell_type": "code",
   "execution_count": 17,
   "id": "18ccc00c",
   "metadata": {},
   "outputs": [
    {
     "name": "stdout",
     "output_type": "stream",
     "text": [
      "<re.Match object; span=(59, 60), match='1'>\n",
      "<re.Match object; span=(60, 61), match='-'>\n",
      "<re.Match object; span=(64, 65), match='-'>\n",
      "<re.Match object; span=(68, 69), match='1'>\n",
      "<re.Match object; span=(70, 71), match='1'>\n",
      "<re.Match object; span=(78, 79), match='9'>\n",
      "<re.Match object; span=(169, 170), match='1'>\n",
      "<re.Match object; span=(170, 171), match='1'>\n",
      "<re.Match object; span=(185, 186), match='1'>\n",
      "<re.Match object; span=(186, 187), match='-'>\n",
      "<re.Match object; span=(190, 191), match='-'>\n",
      "<re.Match object; span=(194, 195), match='1'>\n",
      "<re.Match object; span=(196, 197), match='1'>\n",
      "<re.Match object; span=(204, 205), match='1'>\n",
      "<re.Match object; span=(208, 209), match='1'>\n",
      "<re.Match object; span=(216, 217), match='-'>\n",
      "<re.Match object; span=(217, 218), match='1'>\n",
      "<re.Match object; span=(222, 223), match='1'>\n",
      "<re.Match object; span=(230, 231), match='1'>\n",
      "<re.Match object; span=(240, 241), match='-'>\n",
      "<re.Match object; span=(244, 245), match='-'>\n",
      "<re.Match object; span=(245, 246), match='1'>\n",
      "<re.Match object; span=(250, 251), match='9'>\n",
      "<re.Match object; span=(253, 254), match='-'>\n",
      "<re.Match object; span=(257, 258), match='-'>\n",
      "<re.Match object; span=(258, 259), match='1'>\n"
     ]
    }
   ],
   "source": [
    "search = re.compile(r'[19-]')\n",
    "data = search.finditer(text_to_search)\n",
    "for match in data:\n",
    "    print(match)"
   ]
  },
  {
   "cell_type": "code",
   "execution_count": null,
   "id": "039c41b2",
   "metadata": {},
   "outputs": [],
   "source": [
    "how we will extract 555*-1234 using \\d\\d\\d*-\\d\\d\\d\\d"
   ]
  },
  {
   "cell_type": "code",
   "execution_count": 22,
   "id": "7f3960cc",
   "metadata": {},
   "outputs": [
    {
     "name": "stdout",
     "output_type": "stream",
     "text": [
      "<re.Match object; span=(54, 55), match='\\\\'>\n",
      "<re.Match object; span=(126, 127), match='.'>\n",
      "<re.Match object; span=(146, 147), match='\\\\'>\n",
      "<re.Match object; span=(171, 172), match='.'>\n",
      "<re.Match object; span=(199, 200), match='.'>\n",
      "<re.Match object; span=(203, 204), match='.'>\n",
      "<re.Match object; span=(225, 226), match='.'>\n",
      "<re.Match object; span=(229, 230), match='.'>\n",
      "<re.Match object; span=(265, 266), match='.'>\n",
      "<re.Match object; span=(296, 297), match='.'>\n",
      "<re.Match object; span=(309, 310), match='.'>\n"
     ]
    }
   ],
   "source": [
    "search = re.compile(r'[]')\n",
    "data = search.finditer(text_to_search)\n",
    "for match in data:\n",
    "    print(match)"
   ]
  },
  {
   "cell_type": "code",
   "execution_count": 23,
   "id": "51a7186f",
   "metadata": {},
   "outputs": [
    {
     "name": "stdout",
     "output_type": "stream",
     "text": [
      "<re.Match object; span=(57, 69), match='321-555-4321'>\n",
      "<re.Match object; span=(183, 195), match='321-555-4321'>\n",
      "<re.Match object; span=(222, 234), match='123.555.1234'>\n",
      "<re.Match object; span=(237, 249), match='800-555-1234'>\n",
      "<re.Match object; span=(250, 262), match='900-555-1234'>\n"
     ]
    }
   ],
   "source": [
    "search=re.compile(r'\\d{3}[*.-]\\d{3}[*.-]\\d{4}')\n",
    "data = search.finditer(text_to_search)\n",
    "for match in data:\n",
    "    print(match)"
   ]
  },
  {
   "cell_type": "code",
   "execution_count": 25,
   "id": "e2405753",
   "metadata": {},
   "outputs": [
    {
     "name": "stdout",
     "output_type": "stream",
     "text": [
      "<re.Match object; span=(0, 1), match='\\n'>\n",
      "<re.Match object; span=(4, 5), match='d'>\n",
      "<re.Match object; span=(5, 6), match='e'>\n",
      "<re.Match object; span=(6, 7), match='f'>\n",
      "<re.Match object; span=(7, 8), match='g'>\n",
      "<re.Match object; span=(8, 9), match='h'>\n",
      "<re.Match object; span=(9, 10), match='i'>\n",
      "<re.Match object; span=(10, 11), match='j'>\n",
      "<re.Match object; span=(11, 12), match='k'>\n",
      "<re.Match object; span=(12, 13), match='l'>\n",
      "<re.Match object; span=(13, 14), match='m'>\n",
      "<re.Match object; span=(14, 15), match='n'>\n",
      "<re.Match object; span=(15, 16), match='o'>\n",
      "<re.Match object; span=(16, 17), match='p'>\n",
      "<re.Match object; span=(17, 18), match='q'>\n",
      "<re.Match object; span=(18, 19), match='u'>\n",
      "<re.Match object; span=(19, 20), match='r'>\n",
      "<re.Match object; span=(20, 21), match='t'>\n",
      "<re.Match object; span=(21, 22), match='u'>\n",
      "<re.Match object; span=(22, 23), match='v'>\n",
      "<re.Match object; span=(23, 24), match='w'>\n",
      "<re.Match object; span=(24, 25), match='x'>\n",
      "<re.Match object; span=(25, 26), match='y'>\n",
      "<re.Match object; span=(26, 27), match='z'>\n",
      "<re.Match object; span=(27, 28), match='\\n'>\n",
      "<re.Match object; span=(28, 29), match='A'>\n",
      "<re.Match object; span=(29, 30), match='B'>\n",
      "<re.Match object; span=(30, 31), match='C'>\n",
      "<re.Match object; span=(31, 32), match='D'>\n",
      "<re.Match object; span=(32, 33), match='E'>\n",
      "<re.Match object; span=(33, 34), match='F'>\n",
      "<re.Match object; span=(34, 35), match='G'>\n",
      "<re.Match object; span=(35, 36), match='H'>\n",
      "<re.Match object; span=(36, 37), match='I'>\n",
      "<re.Match object; span=(37, 38), match='J'>\n",
      "<re.Match object; span=(38, 39), match='K'>\n",
      "<re.Match object; span=(39, 40), match='L'>\n",
      "<re.Match object; span=(40, 41), match='M'>\n",
      "<re.Match object; span=(41, 42), match='N'>\n",
      "<re.Match object; span=(42, 43), match='O'>\n",
      "<re.Match object; span=(43, 44), match='P'>\n",
      "<re.Match object; span=(44, 45), match='Q'>\n",
      "<re.Match object; span=(45, 46), match='R'>\n",
      "<re.Match object; span=(46, 47), match='S'>\n",
      "<re.Match object; span=(47, 48), match='T'>\n",
      "<re.Match object; span=(48, 49), match='U'>\n",
      "<re.Match object; span=(49, 50), match='V'>\n",
      "<re.Match object; span=(50, 51), match='W'>\n",
      "<re.Match object; span=(51, 52), match='X'>\n",
      "<re.Match object; span=(52, 53), match='Y'>\n",
      "<re.Match object; span=(53, 54), match='Z'>\n",
      "<re.Match object; span=(54, 55), match='\\\\'>\n",
      "<re.Match object; span=(55, 56), match='s'>\n",
      "<re.Match object; span=(56, 57), match='\\n'>\n",
      "<re.Match object; span=(57, 58), match='3'>\n",
      "<re.Match object; span=(58, 59), match='2'>\n",
      "<re.Match object; span=(59, 60), match='1'>\n",
      "<re.Match object; span=(60, 61), match='-'>\n",
      "<re.Match object; span=(61, 62), match='5'>\n",
      "<re.Match object; span=(62, 63), match='5'>\n",
      "<re.Match object; span=(63, 64), match='5'>\n",
      "<re.Match object; span=(64, 65), match='-'>\n",
      "<re.Match object; span=(65, 66), match='4'>\n",
      "<re.Match object; span=(66, 67), match='3'>\n",
      "<re.Match object; span=(67, 68), match='2'>\n",
      "<re.Match object; span=(68, 69), match='1'>\n",
      "<re.Match object; span=(69, 70), match='\\n'>\n",
      "<re.Match object; span=(70, 71), match='1'>\n",
      "<re.Match object; span=(71, 72), match='2'>\n",
      "<re.Match object; span=(72, 73), match='3'>\n",
      "<re.Match object; span=(73, 74), match='4'>\n",
      "<re.Match object; span=(74, 75), match='5'>\n",
      "<re.Match object; span=(75, 76), match='6'>\n",
      "<re.Match object; span=(76, 77), match='7'>\n",
      "<re.Match object; span=(77, 78), match='8'>\n",
      "<re.Match object; span=(78, 79), match='9'>\n",
      "<re.Match object; span=(79, 80), match='0'>\n",
      "<re.Match object; span=(80, 81), match='\\n'>\n",
      "<re.Match object; span=(81, 82), match='H'>\n",
      "<re.Match object; span=(83, 84), match=' '>\n",
      "<re.Match object; span=(84, 85), match='H'>\n",
      "<re.Match object; span=(86, 87), match='H'>\n",
      "<re.Match object; span=(88, 89), match='\\n'>\n",
      "<re.Match object; span=(89, 90), match='M'>\n",
      "<re.Match object; span=(90, 91), match='e'>\n",
      "<re.Match object; span=(91, 92), match='t'>\n",
      "<re.Match object; span=(93, 94), match='C'>\n",
      "<re.Match object; span=(94, 95), match='h'>\n",
      "<re.Match object; span=(96, 97), match='r'>\n",
      "<re.Match object; span=(99, 100), match='t'>\n",
      "<re.Match object; span=(100, 101), match='e'>\n",
      "<re.Match object; span=(101, 102), match='r'>\n",
      "<re.Match object; span=(102, 103), match='s'>\n",
      "<re.Match object; span=(103, 104), match=' '>\n",
      "<re.Match object; span=(104, 105), match='('>\n",
      "<re.Match object; span=(105, 106), match='N'>\n",
      "<re.Match object; span=(106, 107), match='e'>\n",
      "<re.Match object; span=(107, 108), match='e'>\n",
      "<re.Match object; span=(108, 109), match='d'>\n",
      "<re.Match object; span=(109, 110), match=' '>\n",
      "<re.Match object; span=(110, 111), match='t'>\n",
      "<re.Match object; span=(111, 112), match='o'>\n",
      "<re.Match object; span=(112, 113), match=' '>\n",
      "<re.Match object; span=(114, 115), match='e'>\n",
      "<re.Match object; span=(115, 116), match=' '>\n",
      "<re.Match object; span=(116, 117), match='e'>\n",
      "<re.Match object; span=(117, 118), match='s'>\n",
      "<re.Match object; span=(120, 121), match='p'>\n",
      "<re.Match object; span=(121, 122), match='e'>\n",
      "<re.Match object; span=(122, 123), match='d'>\n",
      "<re.Match object; span=(123, 124), match=')'>\n",
      "<re.Match object; span=(124, 125), match=':'>\n",
      "<re.Match object; span=(125, 126), match='\\n'>\n",
      "<re.Match object; span=(126, 127), match='.'>\n",
      "<re.Match object; span=(127, 128), match=' '>\n",
      "<re.Match object; span=(128, 129), match='^'>\n",
      "<re.Match object; span=(129, 130), match=' '>\n",
      "<re.Match object; span=(130, 131), match='$'>\n",
      "<re.Match object; span=(131, 132), match=' '>\n",
      "<re.Match object; span=(132, 133), match='*'>\n",
      "<re.Match object; span=(133, 134), match=' '>\n",
      "<re.Match object; span=(134, 135), match='+'>\n",
      "<re.Match object; span=(135, 136), match=' '>\n",
      "<re.Match object; span=(136, 137), match='?'>\n",
      "<re.Match object; span=(137, 138), match=' '>\n",
      "<re.Match object; span=(138, 139), match='{'>\n",
      "<re.Match object; span=(139, 140), match=' '>\n",
      "<re.Match object; span=(140, 141), match='}'>\n",
      "<re.Match object; span=(141, 142), match=' '>\n",
      "<re.Match object; span=(142, 143), match='['>\n",
      "<re.Match object; span=(143, 144), match=' '>\n",
      "<re.Match object; span=(144, 145), match=']'>\n",
      "<re.Match object; span=(145, 146), match=' '>\n",
      "<re.Match object; span=(146, 147), match='\\\\'>\n",
      "<re.Match object; span=(147, 148), match=' '>\n",
      "<re.Match object; span=(148, 149), match='|'>\n",
      "<re.Match object; span=(149, 150), match=' '>\n",
      "<re.Match object; span=(150, 151), match='('>\n",
      "<re.Match object; span=(151, 152), match=' '>\n",
      "<re.Match object; span=(152, 153), match=')'>\n",
      "<re.Match object; span=(153, 154), match='\\n'>\n",
      "<re.Match object; span=(154, 155), match='k'>\n",
      "<re.Match object; span=(155, 156), match='h'>\n",
      "<re.Match object; span=(157, 158), match='n'>\n",
      "<re.Match object; span=(159, 160), match='f'>\n",
      "<re.Match object; span=(160, 161), match='s'>\n",
      "<re.Match object; span=(163, 164), match='n'>\n",
      "<re.Match object; span=(164, 165), match='\\n'>\n",
      "<re.Match object; span=(165, 166), match='k'>\n",
      "<re.Match object; span=(166, 167), match='h'>\n",
      "<re.Match object; span=(168, 169), match='n'>\n",
      "<re.Match object; span=(169, 170), match='1'>\n",
      "<re.Match object; span=(170, 171), match='1'>\n",
      "<re.Match object; span=(171, 172), match='.'>\n",
      "<re.Match object; span=(173, 174), match='o'>\n",
      "<re.Match object; span=(174, 175), match='m'>\n",
      "<re.Match object; span=(175, 176), match='\\n'>\n",
      "<re.Match object; span=(177, 178), match='f'>\n",
      "<re.Match object; span=(178, 179), match='s'>\n",
      "<re.Match object; span=(181, 182), match='n'>\n",
      "<re.Match object; span=(182, 183), match='\\n'>\n",
      "<re.Match object; span=(183, 184), match='3'>\n",
      "<re.Match object; span=(184, 185), match='2'>\n",
      "<re.Match object; span=(185, 186), match='1'>\n",
      "<re.Match object; span=(186, 187), match='-'>\n",
      "<re.Match object; span=(187, 188), match='5'>\n",
      "<re.Match object; span=(188, 189), match='5'>\n",
      "<re.Match object; span=(189, 190), match='5'>\n",
      "<re.Match object; span=(190, 191), match='-'>\n",
      "<re.Match object; span=(191, 192), match='4'>\n",
      "<re.Match object; span=(192, 193), match='3'>\n",
      "<re.Match object; span=(193, 194), match='2'>\n",
      "<re.Match object; span=(194, 195), match='1'>\n",
      "<re.Match object; span=(195, 196), match='\\n'>\n",
      "<re.Match object; span=(196, 197), match='1'>\n",
      "<re.Match object; span=(197, 198), match='2'>\n",
      "<re.Match object; span=(198, 199), match='3'>\n",
      "<re.Match object; span=(199, 200), match='.'>\n",
      "<re.Match object; span=(200, 201), match='5'>\n",
      "<re.Match object; span=(201, 202), match='5'>\n",
      "<re.Match object; span=(202, 203), match='5'>\n",
      "<re.Match object; span=(203, 204), match='.'>\n",
      "<re.Match object; span=(204, 205), match='1'>\n",
      "<re.Match object; span=(205, 206), match='2'>\n",
      "<re.Match object; span=(206, 207), match='3'>\n",
      "<re.Match object; span=(207, 208), match='\\n'>\n",
      "<re.Match object; span=(208, 209), match='1'>\n",
      "<re.Match object; span=(209, 210), match='2'>\n",
      "<re.Match object; span=(210, 211), match='3'>\n",
      "<re.Match object; span=(211, 212), match='*'>\n",
      "<re.Match object; span=(212, 213), match='5'>\n",
      "<re.Match object; span=(213, 214), match='5'>\n",
      "<re.Match object; span=(214, 215), match='5'>\n",
      "<re.Match object; span=(215, 216), match='*'>\n",
      "<re.Match object; span=(216, 217), match='-'>\n",
      "<re.Match object; span=(217, 218), match='1'>\n",
      "<re.Match object; span=(218, 219), match='2'>\n",
      "<re.Match object; span=(219, 220), match='3'>\n",
      "<re.Match object; span=(220, 221), match='4'>\n",
      "<re.Match object; span=(221, 222), match='\\n'>\n",
      "<re.Match object; span=(222, 223), match='1'>\n",
      "<re.Match object; span=(223, 224), match='2'>\n",
      "<re.Match object; span=(224, 225), match='3'>\n",
      "<re.Match object; span=(225, 226), match='.'>\n",
      "<re.Match object; span=(226, 227), match='5'>\n",
      "<re.Match object; span=(227, 228), match='5'>\n",
      "<re.Match object; span=(228, 229), match='5'>\n",
      "<re.Match object; span=(229, 230), match='.'>\n",
      "<re.Match object; span=(230, 231), match='1'>\n",
      "<re.Match object; span=(231, 232), match='2'>\n",
      "<re.Match object; span=(232, 233), match='3'>\n",
      "<re.Match object; span=(233, 234), match='4'>\n",
      "<re.Match object; span=(234, 235), match='5'>\n",
      "<re.Match object; span=(235, 236), match='6'>\n",
      "<re.Match object; span=(236, 237), match='\\n'>\n",
      "<re.Match object; span=(237, 238), match='8'>\n",
      "<re.Match object; span=(238, 239), match='0'>\n",
      "<re.Match object; span=(239, 240), match='0'>\n",
      "<re.Match object; span=(240, 241), match='-'>\n",
      "<re.Match object; span=(241, 242), match='5'>\n",
      "<re.Match object; span=(242, 243), match='5'>\n",
      "<re.Match object; span=(243, 244), match='5'>\n",
      "<re.Match object; span=(244, 245), match='-'>\n",
      "<re.Match object; span=(245, 246), match='1'>\n",
      "<re.Match object; span=(246, 247), match='2'>\n",
      "<re.Match object; span=(247, 248), match='3'>\n",
      "<re.Match object; span=(248, 249), match='4'>\n",
      "<re.Match object; span=(249, 250), match='\\n'>\n",
      "<re.Match object; span=(250, 251), match='9'>\n",
      "<re.Match object; span=(251, 252), match='0'>\n",
      "<re.Match object; span=(252, 253), match='0'>\n",
      "<re.Match object; span=(253, 254), match='-'>\n",
      "<re.Match object; span=(254, 255), match='5'>\n",
      "<re.Match object; span=(255, 256), match='5'>\n",
      "<re.Match object; span=(256, 257), match='5'>\n",
      "<re.Match object; span=(257, 258), match='-'>\n",
      "<re.Match object; span=(258, 259), match='1'>\n",
      "<re.Match object; span=(259, 260), match='2'>\n",
      "<re.Match object; span=(260, 261), match='3'>\n",
      "<re.Match object; span=(261, 262), match='4'>\n",
      "<re.Match object; span=(262, 263), match='\\n'>\n",
      "<re.Match object; span=(263, 264), match='M'>\n",
      "<re.Match object; span=(264, 265), match='r'>\n",
      "<re.Match object; span=(265, 266), match='.'>\n",
      "<re.Match object; span=(266, 267), match=' '>\n",
      "<re.Match object; span=(267, 268), match='S'>\n",
      "<re.Match object; span=(269, 270), match='h'>\n",
      "<re.Match object; span=(271, 272), match='f'>\n",
      "<re.Match object; span=(272, 273), match='e'>\n",
      "<re.Match object; span=(273, 274), match='r'>\n",
      "<re.Match object; span=(274, 275), match='\\n'>\n",
      "<re.Match object; span=(275, 276), match='M'>\n",
      "<re.Match object; span=(276, 277), match='r'>\n",
      "<re.Match object; span=(277, 278), match=' '>\n",
      "<re.Match object; span=(278, 279), match='S'>\n",
      "<re.Match object; span=(279, 280), match='m'>\n",
      "<re.Match object; span=(280, 281), match='i'>\n",
      "<re.Match object; span=(281, 282), match='t'>\n",
      "<re.Match object; span=(282, 283), match='h'>\n",
      "<re.Match object; span=(283, 284), match='\\n'>\n",
      "<re.Match object; span=(284, 285), match='M'>\n",
      "<re.Match object; span=(285, 286), match='s'>\n",
      "<re.Match object; span=(286, 287), match=' '>\n",
      "<re.Match object; span=(287, 288), match='D'>\n",
      "<re.Match object; span=(289, 290), match='v'>\n",
      "<re.Match object; span=(290, 291), match='i'>\n",
      "<re.Match object; span=(291, 292), match='s'>\n",
      "<re.Match object; span=(292, 293), match='\\n'>\n",
      "<re.Match object; span=(293, 294), match='M'>\n",
      "<re.Match object; span=(294, 295), match='r'>\n",
      "<re.Match object; span=(295, 296), match='s'>\n",
      "<re.Match object; span=(296, 297), match='.'>\n",
      "<re.Match object; span=(297, 298), match=' '>\n",
      "<re.Match object; span=(298, 299), match='R'>\n",
      "<re.Match object; span=(299, 300), match='o'>\n",
      "<re.Match object; span=(301, 302), match='i'>\n",
      "<re.Match object; span=(302, 303), match='n'>\n",
      "<re.Match object; span=(303, 304), match='s'>\n",
      "<re.Match object; span=(304, 305), match='o'>\n",
      "<re.Match object; span=(305, 306), match='n'>\n",
      "<re.Match object; span=(306, 307), match='\\n'>\n",
      "<re.Match object; span=(307, 308), match='M'>\n",
      "<re.Match object; span=(308, 309), match='r'>\n",
      "<re.Match object; span=(309, 310), match='.'>\n",
      "<re.Match object; span=(310, 311), match=' '>\n",
      "<re.Match object; span=(311, 312), match='T'>\n",
      "<re.Match object; span=(312, 313), match='\\n'>\n",
      "<re.Match object; span=(313, 314), match='M'>\n",
      "<re.Match object; span=(314, 315), match='r'>\n",
      "<re.Match object; span=(315, 316), match='_'>\n",
      "<re.Match object; span=(316, 317), match='h'>\n",
      "<re.Match object; span=(317, 318), match='e'>\n",
      "<re.Match object; span=(318, 319), match='l'>\n",
      "<re.Match object; span=(319, 320), match='l'>\n",
      "<re.Match object; span=(320, 321), match='o'>\n",
      "<re.Match object; span=(321, 322), match='\\n'>\n",
      "<re.Match object; span=(323, 324), match='f'>\n",
      "<re.Match object; span=(324, 325), match='s'>\n",
      "<re.Match object; span=(327, 328), match='n'>\n",
      "<re.Match object; span=(328, 329), match='\\n'>\n"
     ]
    }
   ],
   "source": [
    "# [^] - matches char not in the bracket\n",
    "search=re.compile(r'[^abc]')\n",
    "data = search.finditer(text_to_search)\n",
    "for match in data:\n",
    "    print(match)"
   ]
  },
  {
   "cell_type": "code",
   "execution_count": 27,
   "id": "9bba44b4",
   "metadata": {},
   "outputs": [
    {
     "name": "stdout",
     "output_type": "stream",
     "text": [
      "<re.Match object; span=(0, 3), match='cat'>\n",
      "<re.Match object; span=(4, 7), match='mat'>\n",
      "<re.Match object; span=(12, 15), match='sat'>\n",
      "<re.Match object; span=(16, 19), match='dat'>\n",
      "<re.Match object; span=(20, 23), match='lat'>\n"
     ]
    }
   ],
   "source": [
    "data = 'cat mat bat sat dat lat can'\n",
    "search=re.compile(r'[^b]at')\n",
    "data = search.finditer(data)\n",
    "for match in data:\n",
    "    print(match)"
   ]
  },
  {
   "cell_type": "code",
   "execution_count": 28,
   "id": "f35700ff",
   "metadata": {},
   "outputs": [],
   "source": [
    "text_to_search = '''\n",
    "abcdefghijklmnopqurtuvwxyz\n",
    "ABCDEFGHIJKLMNOPQRSTUVWXYZ\\s\n",
    "321-555-4321\n",
    "1234567890\n",
    "Ha HaHa\n",
    "MetaCharacters (Need to be escaped):\n",
    ". ^ $ * + ? { } [ ] \\ | ( )\n",
    "khanafsaan\\nkhan11.com\n",
    "afsaan\n",
    "321-555-4321\n",
    "123.555.123\n",
    "123*555*-1234\n",
    "123.555.123456\n",
    "800-555-1234\n",
    "900-555-1234\n",
    "Mr. Schafer\n",
    "Mr Smith\n",
    "Ms Davis\n",
    "Mrs. Robinson\n",
    "Mr. T\n",
    "Mr_hello\n",
    "'''"
   ]
  },
  {
   "cell_type": "code",
   "execution_count": 30,
   "id": "7645bffb",
   "metadata": {},
   "outputs": [
    {
     "name": "stdout",
     "output_type": "stream",
     "text": [
      "<re.Match object; span=(40, 41), match='M'>\n",
      "<re.Match object; span=(89, 90), match='M'>\n",
      "<re.Match object; span=(263, 264), match='M'>\n",
      "<re.Match object; span=(275, 276), match='M'>\n",
      "<re.Match object; span=(284, 285), match='M'>\n",
      "<re.Match object; span=(293, 294), match='M'>\n",
      "<re.Match object; span=(307, 308), match='M'>\n",
      "<re.Match object; span=(313, 314), match='M'>\n"
     ]
    }
   ],
   "source": [
    "# step1\n",
    "search=re.compile(r'M')\n",
    "data = search.finditer(text_to_search)\n",
    "for match in data:\n",
    "    print(match)"
   ]
  },
  {
   "cell_type": "code",
   "execution_count": 31,
   "id": "76f0d9e9",
   "metadata": {},
   "outputs": [
    {
     "name": "stdout",
     "output_type": "stream",
     "text": [
      "<re.Match object; span=(263, 265), match='Mr'>\n",
      "<re.Match object; span=(275, 277), match='Mr'>\n",
      "<re.Match object; span=(293, 295), match='Mr'>\n",
      "<re.Match object; span=(307, 309), match='Mr'>\n",
      "<re.Match object; span=(313, 315), match='Mr'>\n"
     ]
    }
   ],
   "source": [
    "# step2\n",
    "search=re.compile(r'Mr')\n",
    "data = search.finditer(text_to_search)\n",
    "for match in data:\n",
    "    print(match)"
   ]
  },
  {
   "cell_type": "code",
   "execution_count": 32,
   "id": "940661de",
   "metadata": {},
   "outputs": [
    {
     "name": "stdout",
     "output_type": "stream",
     "text": [
      "<re.Match object; span=(263, 266), match='Mr.'>\n",
      "<re.Match object; span=(307, 310), match='Mr.'>\n"
     ]
    }
   ],
   "source": [
    "# step3\n",
    "search=re.compile(r'Mr\\.')\n",
    "data = search.finditer(text_to_search)\n",
    "for match in data:\n",
    "    print(match)"
   ]
  },
  {
   "cell_type": "code",
   "execution_count": 34,
   "id": "683a6749",
   "metadata": {},
   "outputs": [
    {
     "name": "stdout",
     "output_type": "stream",
     "text": [
      "\n",
      "abcdefghijklmnopqurtuvwxyz\n",
      "ABCDEFGHIJKLMNOPQRSTUVWXYZ\\s\n",
      "321-555-4321\n",
      "1234567890\n",
      "Ha HaHa\n",
      "MetaCharacters (Need to be escaped):\n",
      ". ^ $ * + ? { } [ ] \\ | ( )\n",
      "khanafsaan\n",
      "khan11.com\n",
      "afsaan\n",
      "321-555-4321\n",
      "123.555.123\n",
      "123*555*-1234\n",
      "123.555.123456\n",
      "800-555-1234\n",
      "900-555-1234\n",
      "Mr. Schafer\n",
      "Mr Smith\n",
      "Ms Davis\n",
      "Mrs. Robinson\n",
      "Mr. T\n",
      "Mr_hello\n",
      "\n"
     ]
    }
   ],
   "source": [
    "print(text_to_search)"
   ]
  },
  {
   "cell_type": "code",
   "execution_count": 35,
   "id": "f7d5028d",
   "metadata": {},
   "outputs": [
    {
     "name": "stdout",
     "output_type": "stream",
     "text": [
      "<re.Match object; span=(263, 267), match='Mr. '>\n",
      "<re.Match object; span=(307, 311), match='Mr. '>\n"
     ]
    }
   ],
   "source": [
    "# step4\n",
    "search=re.compile(r'Mr\\. ')\n",
    "data = search.finditer(text_to_search)\n",
    "for match in data:\n",
    "    print(match)"
   ]
  },
  {
   "cell_type": "code",
   "execution_count": 36,
   "id": "35e613a4",
   "metadata": {},
   "outputs": [
    {
     "name": "stdout",
     "output_type": "stream",
     "text": [
      "<re.Match object; span=(263, 268), match='Mr. S'>\n",
      "<re.Match object; span=(307, 312), match='Mr. T'>\n"
     ]
    }
   ],
   "source": [
    "# step5\n",
    "search=re.compile(r'Mr\\. [A-Z]')\n",
    "data = search.finditer(text_to_search)\n",
    "for match in data:\n",
    "    print(match)"
   ]
  },
  {
   "cell_type": "code",
   "execution_count": 37,
   "id": "234262bb",
   "metadata": {},
   "outputs": [
    {
     "name": "stdout",
     "output_type": "stream",
     "text": [
      "<re.Match object; span=(263, 274), match='Mr. Schafer'>\n"
     ]
    }
   ],
   "source": [
    "# step6 - 1 and more - +\n",
    "search=re.compile(r'Mr\\. [A-Z][a-z]+')\n",
    "data = search.finditer(text_to_search)\n",
    "for match in data:\n",
    "    print(match)"
   ]
  },
  {
   "cell_type": "code",
   "execution_count": 38,
   "id": "26d01789",
   "metadata": {},
   "outputs": [
    {
     "name": "stdout",
     "output_type": "stream",
     "text": [
      "<re.Match object; span=(263, 274), match='Mr. Schafer'>\n",
      "<re.Match object; span=(307, 312), match='Mr. T'>\n"
     ]
    }
   ],
   "source": [
    "# step7 - 0 and more - *\n",
    "search=re.compile(r'Mr\\. [A-Z][a-z]*')\n",
    "data = search.finditer(text_to_search)\n",
    "for match in data:\n",
    "    print(match)"
   ]
  },
  {
   "cell_type": "code",
   "execution_count": 39,
   "id": "bb84aabf",
   "metadata": {},
   "outputs": [
    {
     "name": "stdout",
     "output_type": "stream",
     "text": [
      "<re.Match object; span=(263, 274), match='Mr. Schafer'>\n",
      "<re.Match object; span=(307, 312), match='Mr. T'>\n"
     ]
    }
   ],
   "source": [
    "search=re.compile(r'Mr\\. [A-Z][a-z]*')\n",
    "data = search.finditer(text_to_search)\n",
    "for match in data:\n",
    "    print(match)"
   ]
  },
  {
   "cell_type": "code",
   "execution_count": 41,
   "id": "c471f80a",
   "metadata": {},
   "outputs": [
    {
     "name": "stdout",
     "output_type": "stream",
     "text": [
      "\n",
      "abcdefghijklmnopqurtuvwxyz\n",
      "ABCDEFGHIJKLMNOPQRSTUVWXYZ\\s\n",
      "321-555-4321\n",
      "1234567890\n",
      "Ha HaHa\n",
      "MetaCharacters (Need to be escaped):\n",
      ". ^ $ * + ? { } [ ] \\ | ( )\n",
      "khanafsaan\n",
      "khan11.com\n",
      "afsaan\n",
      "321-555-4321\n",
      "123.555.123\n",
      "123*555*-1234\n",
      "123.555.123456\n",
      "800-555-1234\n",
      "900-555-1234\n",
      "Mr. Schafer\n",
      "Mr Smith\n",
      "Ms Davis\n",
      "Mrs. Robinson\n",
      "Mr. T\n",
      "Mr_hello\n",
      "\n"
     ]
    }
   ],
   "source": [
    "print(text_to_search)"
   ]
  },
  {
   "cell_type": "code",
   "execution_count": 42,
   "id": "8a8ab170",
   "metadata": {},
   "outputs": [
    {
     "name": "stdout",
     "output_type": "stream",
     "text": [
      "<re.Match object; span=(263, 274), match='Mr. Schafer'>\n",
      "<re.Match object; span=(275, 283), match='Mr Smith'>\n",
      "<re.Match object; span=(307, 312), match='Mr. T'>\n"
     ]
    }
   ],
   "source": [
    "# step 8\n",
    "search=re.compile(r'Mr\\.? [A-Z][a-z]*')\n",
    "data = search.finditer(text_to_search)\n",
    "for match in data:\n",
    "    print(match)"
   ]
  },
  {
   "cell_type": "code",
   "execution_count": 44,
   "id": "9ef731e9",
   "metadata": {},
   "outputs": [
    {
     "name": "stdout",
     "output_type": "stream",
     "text": [
      "<re.Match object; span=(263, 274), match='Mr. Schafer'>\n",
      "<re.Match object; span=(275, 283), match='Mr Smith'>\n",
      "<re.Match object; span=(284, 292), match='Ms Davis'>\n",
      "<re.Match object; span=(307, 312), match='Mr. T'>\n"
     ]
    }
   ],
   "source": [
    "# step 9\n",
    "search=re.compile(r'M[rs]\\.? [A-Z][a-z]*')\n",
    "data = search.finditer(text_to_search)\n",
    "for match in data:\n",
    "    print(match)"
   ]
  },
  {
   "cell_type": "code",
   "execution_count": 50,
   "id": "5e4b09c7",
   "metadata": {},
   "outputs": [
    {
     "name": "stdout",
     "output_type": "stream",
     "text": [
      "<re.Match object; span=(263, 274), match='Mr. Schafer'>\n",
      "<re.Match object; span=(275, 283), match='Mr Smith'>\n",
      "<re.Match object; span=(284, 292), match='Ms Davis'>\n",
      "<re.Match object; span=(293, 306), match='Mrs. Robinson'>\n",
      "<re.Match object; span=(307, 312), match='Mr. T'>\n"
     ]
    }
   ],
   "source": [
    "search=re.compile(r'M(r|rs|s)\\.? [A-Z][a-z]*')\n",
    "data = search.finditer(text_to_search)\n",
    "for match in data:\n",
    "    print(match)"
   ]
  },
  {
   "cell_type": "code",
   "execution_count": 67,
   "id": "3bce559f",
   "metadata": {},
   "outputs": [],
   "source": [
    "text_to_search = '''\n",
    "abcdefghijklmnopqurtuvwxyz\n",
    "ABCDEFGHIJKLMNOPQRSTUVWXYZ\\s\n",
    "321-555-4321\n",
    "1234567890\n",
    "Ha HaHa\n",
    "MetaCharacters (Need to be escaped):\n",
    ". ^ $ * + ? { } [ ] \\ | ( )\n",
    "khanafsaan\\nkhan11.com\n",
    "afsaan\n",
    "321-555-4321\n",
    "123.555.123\n",
    "123*555*-1234\n",
    "123.555.123456\n",
    "800-555-1234\n",
    "900-555-1234\n",
    "Mr. Schafer\n",
    "Mr Smith\n",
    "Ms Davis\n",
    "Mrs. Robinson\n",
    "Mr. T\n",
    "Mr_hello\n",
    "'''"
   ]
  },
  {
   "cell_type": "code",
   "execution_count": 71,
   "id": "08d28ce7",
   "metadata": {},
   "outputs": [
    {
     "name": "stdout",
     "output_type": "stream",
     "text": [
      "<re.Match object; span=(263, 274), match='Mr. Schafer'>\n",
      "<re.Match object; span=(275, 283), match='Mr Smith'>\n",
      "<re.Match object; span=(284, 292), match='Ms Davis'>\n",
      "<re.Match object; span=(293, 306), match='Mrs. Robinson'>\n",
      "<re.Match object; span=(307, 312), match='Mr. T'>\n",
      "<re.Match object; span=(313, 321), match='Mr_hello'>\n"
     ]
    }
   ],
   "source": [
    "search=re.compile(r'M(rs|r|s)(\\.|_)?[\\s]?[A-z][a-z]*')\n",
    "data = search.finditer(text_to_search)\n",
    "for match in data:\n",
    "    print(match)"
   ]
  },
  {
   "cell_type": "markdown",
   "id": "31a56b8f",
   "metadata": {},
   "source": [
    "# numpy"
   ]
  },
  {
   "cell_type": "code",
   "execution_count": null,
   "id": "5f24cfcc",
   "metadata": {},
   "outputs": [],
   "source": [
    "- numerical python\n",
    "- wriiten in c\n",
    "- fast\n",
    "- python package used for computation and processing of single / multi dimnsion array\n",
    "- provides convient and efficeint way to handle large amount data"
   ]
  },
  {
   "cell_type": "code",
   "execution_count": null,
   "id": "2ec653e4",
   "metadata": {},
   "outputs": [],
   "source": [
    "# Create a array"
   ]
  },
  {
   "cell_type": "code",
   "execution_count": 72,
   "id": "d54646c6",
   "metadata": {},
   "outputs": [],
   "source": [
    "import numpy as np"
   ]
  },
  {
   "cell_type": "code",
   "execution_count": 74,
   "id": "b29e3d14",
   "metadata": {},
   "outputs": [
    {
     "name": "stdout",
     "output_type": "stream",
     "text": [
      "[1 2 3 4 5] <class 'numpy.ndarray'>\n"
     ]
    }
   ],
   "source": [
    "# 1. list/tuple\n",
    "\n",
    "a = [1,2,3,4,5]\n",
    "data = np.array(a)\n",
    "print(data , type(data))"
   ]
  },
  {
   "cell_type": "code",
   "execution_count": 75,
   "id": "707f39b3",
   "metadata": {},
   "outputs": [
    {
     "name": "stdout",
     "output_type": "stream",
     "text": [
      "[1 2 3 4 5] <class 'numpy.ndarray'>\n"
     ]
    }
   ],
   "source": [
    "a = 1,2,3,4,5\n",
    "data = np.array(a)\n",
    "print(data , type(data))"
   ]
  },
  {
   "cell_type": "code",
   "execution_count": 76,
   "id": "19eb9335",
   "metadata": {
    "scrolled": true
   },
   "outputs": [
    {
     "name": "stdout",
     "output_type": "stream",
     "text": [
      "[[1 2]\n",
      " [3 4]\n",
      " [5 6]] <class 'numpy.ndarray'>\n"
     ]
    }
   ],
   "source": [
    "a = [[1,2],[3,4],[5,6]]\n",
    "data = np.array(a)\n",
    "print(data , type(data))"
   ]
  },
  {
   "cell_type": "code",
   "execution_count": 79,
   "id": "63659434",
   "metadata": {},
   "outputs": [
    {
     "name": "stdout",
     "output_type": "stream",
     "text": [
      "6\n",
      "(3, 2)\n",
      "2\n"
     ]
    }
   ],
   "source": [
    "# attributes\n",
    "\n",
    "#size - count of elements\n",
    "print(data.size)\n",
    "\n",
    "#shape - it tells the shape of an array - tuple\n",
    "print(data.shape)\n",
    "\n",
    "#ndim - it tells the dim of an array\n",
    "print(data.ndim)"
   ]
  },
  {
   "cell_type": "code",
   "execution_count": 80,
   "id": "d1dcc8c0",
   "metadata": {},
   "outputs": [
    {
     "data": {
      "text/plain": [
       "array([0, 3, 6, 9])"
      ]
     },
     "execution_count": 80,
     "metadata": {},
     "output_type": "execute_result"
    }
   ],
   "source": [
    "# 2. arange function\n",
    "\n",
    "np.arange(0,10,3)"
   ]
  },
  {
   "cell_type": "code",
   "execution_count": 81,
   "id": "8c8bc064",
   "metadata": {},
   "outputs": [
    {
     "data": {
      "text/plain": [
       "[0, 3, 6, 9]"
      ]
     },
     "execution_count": 81,
     "metadata": {},
     "output_type": "execute_result"
    }
   ],
   "source": [
    "list(range(0,10,3))"
   ]
  },
  {
   "cell_type": "code",
   "execution_count": null,
   "id": "90afc873",
   "metadata": {},
   "outputs": [],
   "source": []
  }
 ],
 "metadata": {
  "kernelspec": {
   "display_name": "Python 3 (ipykernel)",
   "language": "python",
   "name": "python3"
  },
  "language_info": {
   "codemirror_mode": {
    "name": "ipython",
    "version": 3
   },
   "file_extension": ".py",
   "mimetype": "text/x-python",
   "name": "python",
   "nbconvert_exporter": "python",
   "pygments_lexer": "ipython3",
   "version": "3.9.12"
  }
 },
 "nbformat": 4,
 "nbformat_minor": 5
}
