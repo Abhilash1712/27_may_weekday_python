{
 "cells": [
  {
   "cell_type": "markdown",
   "id": "b1014cc0",
   "metadata": {},
   "source": [
    "## 2. Write mode - 'w'\n",
    "- If the file exists then it will open the file in write mode and deletes the content of the file\n",
    "- if the file does not exists then it will create a file with given name and extension\n",
    "- You are allowed only to write into the file but not allowed to read from the file"
   ]
  },
  {
   "cell_type": "code",
   "execution_count": 1,
   "id": "6457b8ae",
   "metadata": {},
   "outputs": [],
   "source": [
    "# a.) file is not present\n",
    "\n",
    "f = open('write_mode.txt','w')"
   ]
  },
  {
   "cell_type": "code",
   "execution_count": 9,
   "id": "858eebd3",
   "metadata": {},
   "outputs": [
    {
     "name": "stdout",
     "output_type": "stream",
     "text": [
      "5\n"
     ]
    },
    {
     "ename": "UnsupportedOperation",
     "evalue": "not readable",
     "output_type": "error",
     "traceback": [
      "\u001b[0;31m---------------------------------------------------------------------------\u001b[0m",
      "\u001b[0;31mUnsupportedOperation\u001b[0m                      Traceback (most recent call last)",
      "Input \u001b[0;32mIn [9]\u001b[0m, in \u001b[0;36m<cell line: 9>\u001b[0;34m()\u001b[0m\n\u001b[1;32m      7\u001b[0m f\u001b[38;5;241m.\u001b[39mwrite(\u001b[38;5;124m'\u001b[39m\u001b[38;5;124mbye\u001b[39m\u001b[38;5;124m'\u001b[39m)\n\u001b[1;32m      8\u001b[0m \u001b[38;5;28mprint\u001b[39m(f\u001b[38;5;241m.\u001b[39mtell())\n\u001b[0;32m----> 9\u001b[0m \u001b[43mf\u001b[49m\u001b[38;5;241;43m.\u001b[39;49m\u001b[43mread\u001b[49m\u001b[43m(\u001b[49m\u001b[43m)\u001b[49m \u001b[38;5;66;03m# error\u001b[39;00m\n\u001b[1;32m     10\u001b[0m f\u001b[38;5;241m.\u001b[39mclose()\n",
      "\u001b[0;31mUnsupportedOperation\u001b[0m: not readable"
     ]
    }
   ],
   "source": [
    "# b.) file is present\n",
    "\n",
    "f = open('write_mode.txt','w')\n",
    "f.tell()\n",
    "f.write('hello world')\n",
    "f.seek(2)\n",
    "f.write('bye')\n",
    "print(f.tell())\n",
    "f.read() # error\n",
    "f.close()"
   ]
  },
  {
   "cell_type": "markdown",
   "id": "dd066bc4",
   "metadata": {},
   "source": [
    "## 3. Append mode - 'a'\n",
    "- If the file exists then it will open the file in write mode and places the cursor at the end of the file\n",
    "- if the file does not exists then it will create a file with given name and extension\n",
    "- You are allowed only to write into the file but not allowed to read from the file\n",
    "- append will always write the the content at the end of the file so seek() will not work here"
   ]
  },
  {
   "cell_type": "code",
   "execution_count": 10,
   "id": "464618a7",
   "metadata": {},
   "outputs": [],
   "source": [
    "# a.) file is not present\n",
    "\n",
    "f = open('append_mode.text','a')"
   ]
  },
  {
   "cell_type": "code",
   "execution_count": 12,
   "id": "f21c16e9",
   "metadata": {},
   "outputs": [
    {
     "name": "stdout",
     "output_type": "stream",
     "text": [
      "25\n",
      "2\n",
      "28\n"
     ]
    }
   ],
   "source": [
    "#b.) file is present\n",
    "\"\"\"hey folks good morning\"\"\"\n",
    "f = open('append_mode.text','a')\n",
    "print(f.tell()) #eof\n",
    "f.seek(2)\n",
    "print(f.tell())\n",
    "f.write('bye')\n",
    "print(f.tell())\n",
    "f.close()"
   ]
  },
  {
   "cell_type": "code",
   "execution_count": null,
   "id": "e80c1a2b",
   "metadata": {},
   "outputs": [],
   "source": [
    "# \n",
    "eof\n",
    "eof"
   ]
  },
  {
   "cell_type": "code",
   "execution_count": null,
   "id": "0e6ee7c7",
   "metadata": {},
   "outputs": [],
   "source": [
    "# final answer\n",
    "hey folks good morningbye"
   ]
  },
  {
   "cell_type": "markdown",
   "id": "d9372565",
   "metadata": {},
   "source": [
    "## 4. Write and read mode - 'w+'\n",
    "- If the file exists then it will open the file in write mode and deletes the content of the file\n",
    "- if the file does not exists then it will create a file with given name and extension\n",
    "- You are allowed to write into the file and also allowed to read from the file"
   ]
  },
  {
   "cell_type": "code",
   "execution_count": 13,
   "id": "a3c752bc",
   "metadata": {},
   "outputs": [],
   "source": [
    "# if file is not present\n",
    "f = open('write_read_mode.text','w+')"
   ]
  },
  {
   "cell_type": "code",
   "execution_count": 15,
   "id": "30a8faa7",
   "metadata": {},
   "outputs": [
    {
     "name": "stdout",
     "output_type": "stream",
     "text": [
      "0\n",
      "\n",
      " world\n",
      "11\n",
      "llo world\n",
      "hillo world\n"
     ]
    }
   ],
   "source": [
    "# if the file is present\n",
    "\"\"\"\n",
    "hey welcome to leanrbay\n",
    "\"\"\"\n",
    "f = open('write_read_mode.text','w+')\n",
    "print(f.tell())\n",
    "print(f.read())\n",
    "f.write('hello world')\n",
    "f.seek(5)\n",
    "print(f.read())\n",
    "print(f.tell())\n",
    "f.seek(0)\n",
    "f.write('hi')\n",
    "print(f.read())\n",
    "f.seek(0)\n",
    "print(f.read())\n",
    "f.close()"
   ]
  },
  {
   "cell_type": "code",
   "execution_count": null,
   "id": "990cc362",
   "metadata": {},
   "outputs": [],
   "source": [
    "# output\n",
    "0\n",
    "\"\"\n",
    " world\n",
    "eof\n",
    "llo world"
   ]
  },
  {
   "cell_type": "code",
   "execution_count": null,
   "id": "ee5f0114",
   "metadata": {},
   "outputs": [],
   "source": [
    "# final content in the file\n",
    "hillo world"
   ]
  },
  {
   "cell_type": "markdown",
   "id": "9cb7c4fe",
   "metadata": {},
   "source": [
    "## 5. read and write - 'r+'\n",
    "- If the file exists then it will open the file in read mode and places the cursor at the begining of the file\n",
    "- if the file does not exists then it will give FileNotFoundError\n",
    "- You are allowed to write into the file and also allowed to read from the file"
   ]
  },
  {
   "cell_type": "code",
   "execution_count": 18,
   "id": "7020f812",
   "metadata": {},
   "outputs": [],
   "source": [
    "# file is not present\n",
    "f = open('read_write_mode.text','r+')"
   ]
  },
  {
   "cell_type": "code",
   "execution_count": 20,
   "id": "f724ee4a",
   "metadata": {},
   "outputs": [
    {
     "name": "stdout",
     "output_type": "stream",
     "text": [
      "2\n",
      " Everyonehi\n",
      "\n",
      "hillo Everyonehihi\n",
      "18\n"
     ]
    }
   ],
   "source": [
    "# if file is present\n",
    "'''hello Everyone'''\n",
    "f = open('read_write_mode.text','r+')\n",
    "f.seek(0)\n",
    "f.write('hi')\n",
    "print(f.tell())\n",
    "f.seek(5)\n",
    "print(f.read())\n",
    "f.write('hi')\n",
    "print(f.read())\n",
    "f.seek(0)\n",
    "print(f.read())\n",
    "print(f.tell())\n",
    "f.close()"
   ]
  },
  {
   "cell_type": "code",
   "execution_count": null,
   "id": "341916a3",
   "metadata": {},
   "outputs": [],
   "source": [
    "# output\n",
    "2\n",
    " Everyone\n",
    "\"\"\n",
    "hillo Everyonehi\n",
    "eof"
   ]
  },
  {
   "cell_type": "code",
   "execution_count": null,
   "id": "22fe370a",
   "metadata": {},
   "outputs": [],
   "source": [
    "#content of the file\n",
    "hillo Everyonehi"
   ]
  },
  {
   "cell_type": "code",
   "execution_count": null,
   "id": "8a0a2a14",
   "metadata": {},
   "outputs": [],
   "source": [
    "# 6. Append and read mode - 'a+'\n",
    "\n",
    "- If the file exists then it will open the file in append mode and places the cursor at the end of the file\n",
    "- if the file does not exists then it will create a file with given name and extension\n",
    "- You are allowed to write into the file and also allowed to read from the file\n",
    "- append will always write the the content at the end of the file so seek() will not here"
   ]
  },
  {
   "cell_type": "code",
   "execution_count": 22,
   "id": "1f4d6755",
   "metadata": {},
   "outputs": [],
   "source": [
    "# if file is not present\n",
    "f = open('append_read.txt','a+')"
   ]
  },
  {
   "cell_type": "code",
   "execution_count": 23,
   "id": "42569c46",
   "metadata": {},
   "outputs": [
    {
     "name": "stdout",
     "output_type": "stream",
     "text": [
      "Leanrnbay\n",
      "15\n",
      "\n",
      "\n",
      "LeanrnbaycoursedataScience\n"
     ]
    }
   ],
   "source": [
    "# if file is preset\n",
    "'''Learnbay'''\n",
    "f = open('append_read.txt','a+')\n",
    "f.seek(0)\n",
    "print(f.read())\n",
    "f.write('course')\n",
    "print(f.tell())\n",
    "print(f.read())\n",
    "f.seek(3)\n",
    "f.write('data')\n",
    "print(f.read())\n",
    "f.seek(0)\n",
    "f.write('Science')\n",
    "f.seek(0)\n",
    "print(f.read())\n",
    "f.close()"
   ]
  },
  {
   "cell_type": "code",
   "execution_count": null,
   "id": "07147f84",
   "metadata": {},
   "outputs": [],
   "source": [
    "# output\n",
    "Learnbay\n",
    "eof\n",
    "\"\"\n",
    "\"\"\n",
    "LearnbaycoursedataScience"
   ]
  },
  {
   "cell_type": "code",
   "execution_count": null,
   "id": "e47c6b7a",
   "metadata": {},
   "outputs": [],
   "source": [
    "# content of the file\n",
    "LearnbaycoursedataScience"
   ]
  },
  {
   "cell_type": "code",
   "execution_count": null,
   "id": "48c6b195",
   "metadata": {},
   "outputs": [],
   "source": [
    "# methods to do the operation on read mode\n",
    "\n",
    "- read() - reads the whole content of the file\n",
    "- read(char) - reads the specific char from the current location\n",
    "- readline() - reads the current line from the current cursor location\n",
    "- readlines() - reads the whole content and return the list of lines"
   ]
  },
  {
   "cell_type": "code",
   "execution_count": 24,
   "id": "a05de49e",
   "metadata": {},
   "outputs": [
    {
     "data": {
      "text/plain": [
       "'hi\\nhello\\nworld'"
      ]
     },
     "execution_count": 24,
     "metadata": {},
     "output_type": "execute_result"
    }
   ],
   "source": [
    "'''Learnbay'''\n",
    "f = open('append_read.txt','r')\n",
    "f.read()"
   ]
  },
  {
   "cell_type": "code",
   "execution_count": 25,
   "id": "a08906b1",
   "metadata": {},
   "outputs": [
    {
     "data": {
      "text/plain": [
       "'hi\\n'"
      ]
     },
     "execution_count": 25,
     "metadata": {},
     "output_type": "execute_result"
    }
   ],
   "source": [
    "'''Learnbay'''\n",
    "f = open('append_read.txt','r')\n",
    "f.read(3)"
   ]
  },
  {
   "cell_type": "code",
   "execution_count": 26,
   "id": "10d4842a",
   "metadata": {},
   "outputs": [
    {
     "data": {
      "text/plain": [
       "'ello\\n'"
      ]
     },
     "execution_count": 26,
     "metadata": {},
     "output_type": "execute_result"
    }
   ],
   "source": [
    "'''\n",
    "hi\n",
    "hello\n",
    "world\n",
    "'''\n",
    "f = open('append_read.txt','r')\n",
    "f.seek(4)\n",
    "f.readline()"
   ]
  },
  {
   "cell_type": "code",
   "execution_count": 27,
   "id": "dae0d1c1",
   "metadata": {},
   "outputs": [
    {
     "data": {
      "text/plain": [
       "['hi\\n', 'hello\\n', 'world']"
      ]
     },
     "execution_count": 27,
     "metadata": {},
     "output_type": "execute_result"
    }
   ],
   "source": [
    "'''\n",
    "hi\n",
    "hello\n",
    "world\n",
    "'''\n",
    "f = open('append_read.txt','r')\n",
    "f.readlines()"
   ]
  },
  {
   "cell_type": "code",
   "execution_count": null,
   "id": "969df3d5",
   "metadata": {},
   "outputs": [],
   "source": [
    "# methods to do the operation on write mode\n",
    "\n",
    "- write()\n",
    "- writelines(['data\\n' , 'data2\\n'])"
   ]
  },
  {
   "cell_type": "code",
   "execution_count": 28,
   "id": "d36be5d6",
   "metadata": {},
   "outputs": [],
   "source": [
    "f = open('append_read.txt','w')\n",
    "f.write('hello')\n",
    "f.close()"
   ]
  },
  {
   "cell_type": "code",
   "execution_count": 29,
   "id": "e9fc6ac6",
   "metadata": {},
   "outputs": [],
   "source": [
    "f = open('append_read.txt','w')\n",
    "f.writelines(['data\\n' , 'data2\\n'])\n",
    "f.close()"
   ]
  },
  {
   "cell_type": "markdown",
   "id": "4f5d0bc0",
   "metadata": {},
   "source": [
    "# with statment"
   ]
  },
  {
   "cell_type": "code",
   "execution_count": null,
   "id": "2703b368",
   "metadata": {},
   "outputs": [],
   "source": [
    "f = open('append_read.txt','w')\n",
    "f.write('hello')\n",
    "f.close()"
   ]
  },
  {
   "cell_type": "code",
   "execution_count": 30,
   "id": "bf143cb0",
   "metadata": {},
   "outputs": [],
   "source": [
    "with open('append_read.txt','w') as f:\n",
    "    f.write('hey all')"
   ]
  },
  {
   "cell_type": "code",
   "execution_count": null,
   "id": "e61f2d15",
   "metadata": {},
   "outputs": [],
   "source": [
    "# q1- 5 mins\n",
    "\n",
    "count the number of characters\n",
    "count the number of lines\n",
    "count the number of words"
   ]
  },
  {
   "cell_type": "code",
   "execution_count": 33,
   "id": "0f717eb2",
   "metadata": {},
   "outputs": [],
   "source": [
    "with open('append_read.txt','r') as f:\n",
    "    no_of_lines = len(f.readlines())\n",
    "    f.seek(0)\n",
    "    no_of_char = len(f.read())\n",
    "    f.seek(0)\n",
    "    no_of_words = len(f.read().split())"
   ]
  },
  {
   "cell_type": "code",
   "execution_count": 34,
   "id": "21684144",
   "metadata": {},
   "outputs": [
    {
     "data": {
      "text/plain": [
       "(4, 576, 91)"
      ]
     },
     "execution_count": 34,
     "metadata": {},
     "output_type": "execute_result"
    }
   ],
   "source": [
    "no_of_lines, no_of_char, no_of_words"
   ]
  },
  {
   "cell_type": "code",
   "execution_count": null,
   "id": "ac2ffe12",
   "metadata": {},
   "outputs": [],
   "source": [
    "# q2 - take a image file img1.png, copy the content of img1.png to img2.jpg - 8 mins"
   ]
  },
  {
   "cell_type": "code",
   "execution_count": 36,
   "id": "7e42d2c0",
   "metadata": {},
   "outputs": [],
   "source": [
    "with open('img1.png','rb') as img1:\n",
    "    data = img1.read()\n",
    "    with open('img2.jpg','wb') as img2:\n",
    "        img2.write(data)"
   ]
  },
  {
   "cell_type": "code",
   "execution_count": null,
   "id": "aa0f3790",
   "metadata": {},
   "outputs": [],
   "source": []
  }
 ],
 "metadata": {
  "kernelspec": {
   "display_name": "Python 3 (ipykernel)",
   "language": "python",
   "name": "python3"
  },
  "language_info": {
   "codemirror_mode": {
    "name": "ipython",
    "version": 3
   },
   "file_extension": ".py",
   "mimetype": "text/x-python",
   "name": "python",
   "nbconvert_exporter": "python",
   "pygments_lexer": "ipython3",
   "version": "3.9.12"
  }
 },
 "nbformat": 4,
 "nbformat_minor": 5
}
