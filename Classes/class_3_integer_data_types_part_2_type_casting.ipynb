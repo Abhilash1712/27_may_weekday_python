{
 "cells": [
  {
   "cell_type": "code",
   "execution_count": null,
   "id": "85a3605f",
   "metadata": {},
   "outputs": [],
   "source": [
    "small deviation\n",
    "A and B are two values\n",
    "    A and B - result will be A if A is False else B\n",
    "    A or B - result will be A if A is True else B"
   ]
  },
  {
   "cell_type": "code",
   "execution_count": 2,
   "id": "fd48bb01",
   "metadata": {},
   "outputs": [],
   "source": [
    "a = 10\n",
    "b = 20"
   ]
  },
  {
   "cell_type": "code",
   "execution_count": 4,
   "id": "ec7eb500",
   "metadata": {},
   "outputs": [
    {
     "data": {
      "text/plain": [
       "True"
      ]
     },
     "execution_count": 4,
     "metadata": {},
     "output_type": "execute_result"
    }
   ],
   "source": [
    "bool(a)\n",
    "bool(b)"
   ]
  },
  {
   "cell_type": "code",
   "execution_count": 5,
   "id": "0f84ae27",
   "metadata": {},
   "outputs": [
    {
     "name": "stdout",
     "output_type": "stream",
     "text": [
      "20\n"
     ]
    }
   ],
   "source": [
    "print(a and b)"
   ]
  },
  {
   "cell_type": "code",
   "execution_count": 8,
   "id": "6eca2bd0",
   "metadata": {},
   "outputs": [
    {
     "name": "stdout",
     "output_type": "stream",
     "text": [
      "\n"
     ]
    }
   ],
   "source": [
    "print(1 and '')"
   ]
  },
  {
   "cell_type": "code",
   "execution_count": 6,
   "id": "1791cef7",
   "metadata": {},
   "outputs": [
    {
     "data": {
      "text/plain": [
       "True"
      ]
     },
     "execution_count": 6,
     "metadata": {},
     "output_type": "execute_result"
    }
   ],
   "source": [
    "bool(1)"
   ]
  },
  {
   "cell_type": "code",
   "execution_count": 7,
   "id": "492952bf",
   "metadata": {},
   "outputs": [
    {
     "data": {
      "text/plain": [
       "False"
      ]
     },
     "execution_count": 7,
     "metadata": {},
     "output_type": "execute_result"
    }
   ],
   "source": [
    "bool('')"
   ]
  },
  {
   "cell_type": "code",
   "execution_count": 17,
   "id": "f69478ca",
   "metadata": {},
   "outputs": [
    {
     "name": "stdout",
     "output_type": "stream",
     "text": [
      "None\n"
     ]
    }
   ],
   "source": [
    "print(None and 100)\n",
    "\n",
    "# A - None\n",
    "# B - 100\n",
    "# None - false\n",
    "# 100 - True"
   ]
  },
  {
   "cell_type": "code",
   "execution_count": 16,
   "id": "8f82f300",
   "metadata": {},
   "outputs": [
    {
     "data": {
      "text/plain": [
       "1"
      ]
     },
     "execution_count": 16,
     "metadata": {},
     "output_type": "execute_result"
    }
   ],
   "source": [
    "1 or True"
   ]
  },
  {
   "cell_type": "code",
   "execution_count": null,
   "id": "ae5be687",
   "metadata": {},
   "outputs": [],
   "source": [
    "A and B - result will be A if A is False else B\n",
    "A or B - result will be A if A is True else B"
   ]
  },
  {
   "cell_type": "code",
   "execution_count": null,
   "id": "7b733890",
   "metadata": {},
   "outputs": [],
   "source": [
    "int\n",
    "0 is false and rest all the value are true\n",
    "\n",
    "float\n",
    "0.0 is false and rest all the value is True\n",
    "\n",
    "String\n",
    "\"\" is false and rest all the value is True\n",
    "\n",
    "Complex\n",
    "0+0j is false and rest all the value is True\n",
    "\n",
    "None - False"
   ]
  },
  {
   "cell_type": "code",
   "execution_count": 18,
   "id": "3b545c8a",
   "metadata": {},
   "outputs": [
    {
     "name": "stdout",
     "output_type": "stream",
     "text": [
      "afsan\n"
     ]
    }
   ],
   "source": [
    "a = 10\n",
    "b = 20\n",
    "c = 100\n",
    "d = 200\n",
    "\n",
    "if (a and b) or (c and d):\n",
    "    print('afsan')"
   ]
  },
  {
   "cell_type": "code",
   "execution_count": 22,
   "id": "12532916",
   "metadata": {},
   "outputs": [
    {
     "name": "stdout",
     "output_type": "stream",
     "text": [
      "afsan\n"
     ]
    }
   ],
   "source": [
    "# if one of the values len is == 0 then only print afsan esle messi\n",
    "\n",
    "a = []\n",
    "b = 'lionel'\n",
    "\n",
    "if True:\n",
    "    print('afsan')\n",
    "else:\n",
    "    print('Messi')"
   ]
  },
  {
   "cell_type": "code",
   "execution_count": null,
   "id": "716b7670",
   "metadata": {},
   "outputs": [],
   "source": [
    "false or false is false and false and false is false, which operation should we use ?"
   ]
  },
  {
   "cell_type": "code",
   "execution_count": 23,
   "id": "3a2e7f81",
   "metadata": {},
   "outputs": [
    {
     "data": {
      "text/plain": [
       "85"
      ]
     },
     "execution_count": 23,
     "metadata": {},
     "output_type": "execute_result"
    }
   ],
   "source": [
    "a = 'false or false is false and false and false is false, which operation should we use ?'\n",
    "len(a)"
   ]
  },
  {
   "cell_type": "code",
   "execution_count": null,
   "id": "f5eb2539",
   "metadata": {},
   "outputs": [],
   "source": [
    "5. Bitwise op - &(bitwsie and) , |(bitwise or) , ^(bitwise xor) , ~(bitwise not), bitwise right shift(>>)\n",
    "    bitwise left shift(<<)"
   ]
  },
  {
   "cell_type": "code",
   "execution_count": null,
   "id": "38056768",
   "metadata": {},
   "outputs": [],
   "source": [
    "#  &(bitwsie and)\n",
    "\n",
    "a = 10 \n",
    "b = 20\n",
    "\n",
    "# 1 convert the value into bits\n",
    "\n",
    "# a = 10 ---> 1010\n",
    "# b = 20 ---> 10100\n",
    "\n",
    "#2 doo and op bitwsie\n",
    "\n",
    "10 -->0  1  0  1  0\n",
    "20 -->1  0. 1. 0. 0\n",
    "and   0. 0. 0. 0. 0\n",
    "\n",
    "#3. convert binary to number again\n",
    "\n",
    "0. 0. 0. 0. 0 --> 0"
   ]
  },
  {
   "cell_type": "code",
   "execution_count": 28,
   "id": "e74eeb62",
   "metadata": {},
   "outputs": [
    {
     "name": "stdout",
     "output_type": "stream",
     "text": [
      "0\n"
     ]
    }
   ],
   "source": [
    "a = 10 \n",
    "b = 20\n",
    "print( a & b)"
   ]
  },
  {
   "cell_type": "code",
   "execution_count": 26,
   "id": "194971c7",
   "metadata": {},
   "outputs": [
    {
     "name": "stdout",
     "output_type": "stream",
     "text": [
      "0\n"
     ]
    }
   ],
   "source": [
    "a = 14\n",
    "b = 44\n",
    "\n",
    "# 1 convert the value into bits\n",
    "\n",
    "# a = 14 ---> 1110\n",
    "# b = 44 ---> 101100\n",
    "\n",
    "#2 doo and op bitwsie\n",
    "\n",
    "14 -->0 0 1 1 1 0\n",
    "44 -->1 0 1 1 0 0\n",
    "and   0 0 1 1 0 0\n",
    "\n",
    "#3. convert binary to number again\n",
    "\n",
    "0 0 1 1 0 0 --> "
   ]
  },
  {
   "cell_type": "code",
   "execution_count": 31,
   "id": "005b5eb2",
   "metadata": {},
   "outputs": [
    {
     "name": "stdout",
     "output_type": "stream",
     "text": [
      "12\n"
     ]
    }
   ],
   "source": [
    "a = 14\n",
    "b = 44\n",
    "\n",
    "# 1 convert the value into bits\n",
    "\n",
    "# a = 14 ---> 1110\n",
    "# b = 44 ---> 101100\n",
    "\n",
    "#2 doo and op bitwsie\n",
    "\n",
    "14 -->0 0 1 1 1 0\n",
    "44 -->1 0 1 1 0 0\n",
    "or -->1 0 1 1 1 0\n",
    "\n",
    "#3. convert binary to number again\n",
    "\n",
    "1 0 1 1 1 0--> 46"
   ]
  },
  {
   "cell_type": "code",
   "execution_count": 33,
   "id": "93e91f17",
   "metadata": {},
   "outputs": [
    {
     "name": "stdout",
     "output_type": "stream",
     "text": [
      "46\n"
     ]
    }
   ],
   "source": [
    "a = 14\n",
    "b = 44\n",
    "print(a | b)"
   ]
  },
  {
   "cell_type": "code",
   "execution_count": null,
   "id": "69837e97",
   "metadata": {},
   "outputs": [],
   "source": [
    "a = 14\n",
    "b = 44\n",
    "\n",
    "# 1 convert the value into bits\n",
    "\n",
    "# a = 14 ---> 1110\n",
    "# b = 44 ---> 101100\n",
    "\n",
    "#2 doo and op bitwsie\n",
    "\n",
    "14  -->0 0 1 1 1 0\n",
    "44  -->1 0 1 1 0 0\n",
    "xor -->1 0 0 0 1 0\n",
    "\n",
    "#3. convert binary to number again\n",
    "\n",
    "100010--> 34"
   ]
  },
  {
   "cell_type": "code",
   "execution_count": 34,
   "id": "bb675dee",
   "metadata": {},
   "outputs": [
    {
     "name": "stdout",
     "output_type": "stream",
     "text": [
      "34\n"
     ]
    }
   ],
   "source": [
    "print(a ^ b)"
   ]
  },
  {
   "cell_type": "code",
   "execution_count": null,
   "id": "bcc8aa60",
   "metadata": {},
   "outputs": [],
   "source": [
    "~(bitwise not)\n",
    "\n",
    "step1 - Add 1 to a number\n",
    "ste2 - reverse the sign of output of step 1"
   ]
  },
  {
   "cell_type": "code",
   "execution_count": 35,
   "id": "c0c134b2",
   "metadata": {},
   "outputs": [
    {
     "name": "stdout",
     "output_type": "stream",
     "text": [
      "-101\n"
     ]
    }
   ],
   "source": [
    "a  = 100\n",
    "print(~a)"
   ]
  },
  {
   "cell_type": "code",
   "execution_count": 36,
   "id": "7ec35149",
   "metadata": {},
   "outputs": [
    {
     "name": "stdout",
     "output_type": "stream",
     "text": [
      "-788\n"
     ]
    }
   ],
   "source": [
    "a  = 787\n",
    "print(~a)"
   ]
  },
  {
   "cell_type": "code",
   "execution_count": 37,
   "id": "e44779db",
   "metadata": {},
   "outputs": [
    {
     "name": "stdout",
     "output_type": "stream",
     "text": [
      "2\n"
     ]
    }
   ],
   "source": [
    "a  = -3\n",
    "print(~a)"
   ]
  },
  {
   "cell_type": "code",
   "execution_count": null,
   "id": "ef38d54b",
   "metadata": {},
   "outputs": [],
   "source": [
    "# right shift - A // (2 ** n)\n",
    "# left shift - A * (2 ** n)"
   ]
  },
  {
   "cell_type": "code",
   "execution_count": 39,
   "id": "565b34be",
   "metadata": {},
   "outputs": [
    {
     "name": "stdout",
     "output_type": "stream",
     "text": [
      "12\n"
     ]
    }
   ],
   "source": [
    "a = 100\n",
    "print(a >> 3) # A-100 and n = 3"
   ]
  },
  {
   "cell_type": "code",
   "execution_count": 38,
   "id": "6dc9f688",
   "metadata": {},
   "outputs": [
    {
     "data": {
      "text/plain": [
       "12"
      ]
     },
     "execution_count": 38,
     "metadata": {},
     "output_type": "execute_result"
    }
   ],
   "source": [
    "100 // (2 ** 3)"
   ]
  },
  {
   "cell_type": "code",
   "execution_count": 40,
   "id": "010fe478",
   "metadata": {},
   "outputs": [
    {
     "name": "stdout",
     "output_type": "stream",
     "text": [
      "800\n"
     ]
    }
   ],
   "source": [
    "a = 100\n",
    "print(a << 3)"
   ]
  },
  {
   "cell_type": "code",
   "execution_count": null,
   "id": "4e92c03f",
   "metadata": {},
   "outputs": [],
   "source": [
    "6. Assignment or compound op"
   ]
  },
  {
   "cell_type": "code",
   "execution_count": null,
   "id": "6d97ba33",
   "metadata": {},
   "outputs": [],
   "source": [
    "assign 5 to a\n",
    "add 10 to a and reassign to a"
   ]
  },
  {
   "cell_type": "code",
   "execution_count": 41,
   "id": "bb0cd95d",
   "metadata": {},
   "outputs": [
    {
     "name": "stdout",
     "output_type": "stream",
     "text": [
      "15\n"
     ]
    }
   ],
   "source": [
    "a = 5\n",
    "a = a +10\n",
    "print(a)"
   ]
  },
  {
   "cell_type": "code",
   "execution_count": 42,
   "id": "2edec853",
   "metadata": {},
   "outputs": [
    {
     "name": "stdout",
     "output_type": "stream",
     "text": [
      "15\n"
     ]
    }
   ],
   "source": [
    "a = 5\n",
    "a += 10 # a = a + 10\n",
    "print(a)"
   ]
  },
  {
   "cell_type": "code",
   "execution_count": 43,
   "id": "58bc55d5",
   "metadata": {},
   "outputs": [
    {
     "name": "stdout",
     "output_type": "stream",
     "text": [
      "-5\n"
     ]
    }
   ],
   "source": [
    "a = 5\n",
    "a -= 10 # a = a - 10\n",
    "print(a)"
   ]
  },
  {
   "cell_type": "code",
   "execution_count": null,
   "id": "fd7e8e48",
   "metadata": {},
   "outputs": [],
   "source": [
    "*=\n",
    "\n",
    "/=\n",
    "\n",
    "%=\n",
    "\n",
    "&=\n",
    "\n",
    "|=\n",
    "\n",
    ">>=\n",
    "\n",
    "<<=\n",
    "\n",
    "^=\n",
    "\n",
    "**="
   ]
  },
  {
   "cell_type": "code",
   "execution_count": null,
   "id": "aeb2373b",
   "metadata": {},
   "outputs": [],
   "source": [
    "# 7. indentity op\n",
    "\n",
    "op - is and is not\n",
    "this op tells if the memory address if the two variable is same or not\n",
    "return - Bool"
   ]
  },
  {
   "cell_type": "code",
   "execution_count": 45,
   "id": "dbbf9020",
   "metadata": {},
   "outputs": [
    {
     "name": "stdout",
     "output_type": "stream",
     "text": [
      "True\n"
     ]
    }
   ],
   "source": [
    "a = 10\n",
    "b = 100\n",
    "print(a is not b)"
   ]
  },
  {
   "cell_type": "code",
   "execution_count": 47,
   "id": "509488c6",
   "metadata": {},
   "outputs": [
    {
     "name": "stdout",
     "output_type": "stream",
     "text": [
      "140625550961232\n",
      "140625551152592\n"
     ]
    }
   ],
   "source": [
    "a = 10\n",
    "print(id(a))\n",
    "b = 100\n",
    "print(id(b))"
   ]
  },
  {
   "cell_type": "code",
   "execution_count": 49,
   "id": "22a04317",
   "metadata": {},
   "outputs": [
    {
     "name": "stdout",
     "output_type": "stream",
     "text": [
      "140625550961232\n",
      "140625550961232\n",
      "140625551152592\n",
      "140625550961232\n"
     ]
    }
   ],
   "source": [
    "a = 10\n",
    "b = 20\n",
    "c = 10\n",
    "\n",
    "print(id(a))\n",
    "print(id(c))\n",
    "\n",
    "a = 100\n",
    "\n",
    "print(id(a))\n",
    "print(id(c))"
   ]
  },
  {
   "cell_type": "code",
   "execution_count": 50,
   "id": "0c0a30eb",
   "metadata": {},
   "outputs": [
    {
     "name": "stdout",
     "output_type": "stream",
     "text": [
      "140625551152592\n",
      "140625550961232\n",
      "140625551152592\n"
     ]
    }
   ],
   "source": [
    "a=100\n",
    "print(id(a))\n",
    "a=10\n",
    "print(id(a))\n",
    "a=100\n",
    "print(id(a))"
   ]
  },
  {
   "cell_type": "code",
   "execution_count": null,
   "id": "fccad54f",
   "metadata": {},
   "outputs": [],
   "source": []
  }
 ],
 "metadata": {
  "kernelspec": {
   "display_name": "Python 3 (ipykernel)",
   "language": "python",
   "name": "python3"
  },
  "language_info": {
   "codemirror_mode": {
    "name": "ipython",
    "version": 3
   },
   "file_extension": ".py",
   "mimetype": "text/x-python",
   "name": "python",
   "nbconvert_exporter": "python",
   "pygments_lexer": "ipython3",
   "version": "3.9.12"
  }
 },
 "nbformat": 4,
 "nbformat_minor": 5
}
