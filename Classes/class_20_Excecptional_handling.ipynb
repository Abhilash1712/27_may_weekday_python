{
 "cells": [
  {
   "cell_type": "markdown",
   "id": "7f014b70",
   "metadata": {},
   "source": [
    "#  Exceptional Handling"
   ]
  },
  {
   "cell_type": "code",
   "execution_count": null,
   "id": "ed752067",
   "metadata": {},
   "outputs": [],
   "source": [
    "# types of error\n",
    "\n",
    "1. compile time error - syntax, indentation\n",
    "2. run time error - type error , name error\n",
    "3. logical error - errod done in some logic1\n",
    "\n",
    "Note - Exceptional handling can only handle runtime error"
   ]
  },
  {
   "cell_type": "code",
   "execution_count": null,
   "id": "984c2d30",
   "metadata": {},
   "outputs": [],
   "source": [
    "code -> compiled() ---> interpreter(run timee)"
   ]
  },
  {
   "cell_type": "code",
   "execution_count": 2,
   "id": "fdbc74b0",
   "metadata": {},
   "outputs": [
    {
     "name": "stdout",
     "output_type": "stream",
     "text": [
      "['ArithmeticError', 'AssertionError', 'AttributeError', 'BaseException', 'BlockingIOError', 'BrokenPipeError', 'BufferError', 'BytesWarning', 'ChildProcessError', 'ConnectionAbortedError', 'ConnectionError', 'ConnectionRefusedError', 'ConnectionResetError', 'DeprecationWarning', 'EOFError', 'Ellipsis', 'EnvironmentError', 'Exception', 'False', 'FileExistsError', 'FileNotFoundError', 'FloatingPointError', 'FutureWarning', 'GeneratorExit', 'IOError', 'ImportError', 'ImportWarning', 'IndentationError', 'IndexError', 'InterruptedError', 'IsADirectoryError', 'KeyError', 'KeyboardInterrupt', 'LookupError', 'MemoryError', 'ModuleNotFoundError', 'NameError', 'None', 'NotADirectoryError', 'NotImplemented', 'NotImplementedError', 'OSError', 'OverflowError', 'PendingDeprecationWarning', 'PermissionError', 'ProcessLookupError', 'RecursionError', 'ReferenceError', 'ResourceWarning', 'RuntimeError', 'RuntimeWarning', 'StopAsyncIteration', 'StopIteration', 'SyntaxError', 'SyntaxWarning', 'SystemError', 'SystemExit', 'TabError', 'TimeoutError', 'True', 'TypeError', 'UnboundLocalError', 'UnicodeDecodeError', 'UnicodeEncodeError', 'UnicodeError', 'UnicodeTranslateError', 'UnicodeWarning', 'UserWarning', 'ValueError', 'Warning', 'ZeroDivisionError', '__IPYTHON__', '__build_class__', '__debug__', '__doc__', '__import__', '__loader__', '__name__', '__package__', '__spec__', 'abs', 'all', 'any', 'ascii', 'bin', 'bool', 'breakpoint', 'bytearray', 'bytes', 'callable', 'chr', 'classmethod', 'compile', 'complex', 'copyright', 'credits', 'delattr', 'dict', 'dir', 'display', 'divmod', 'enumerate', 'eval', 'exec', 'execfile', 'filter', 'float', 'format', 'frozenset', 'get_ipython', 'getattr', 'globals', 'hasattr', 'hash', 'help', 'hex', 'id', 'input', 'int', 'isinstance', 'issubclass', 'iter', 'len', 'license', 'list', 'locals', 'map', 'max', 'memoryview', 'min', 'next', 'object', 'oct', 'open', 'ord', 'pow', 'print', 'property', 'range', 'repr', 'reversed', 'round', 'runfile', 'set', 'setattr', 'slice', 'sorted', 'staticmethod', 'str', 'sum', 'super', 'tuple', 'type', 'vars', 'zip']\n"
     ]
    }
   ],
   "source": [
    "print(dir(__builtins__))"
   ]
  },
  {
   "cell_type": "code",
   "execution_count": null,
   "id": "7230bcbf",
   "metadata": {},
   "outputs": [],
   "source": [
    "# keywords that we will using in exceptional handling\n",
    "\n",
    "1. try\n",
    "2. except\n",
    "3. else\n",
    "4. finally\n",
    "5. raise"
   ]
  },
  {
   "cell_type": "code",
   "execution_count": 3,
   "id": "5c097656",
   "metadata": {},
   "outputs": [
    {
     "name": "stdout",
     "output_type": "stream",
     "text": [
      "enter the number10\n",
      "enter the number20\n"
     ]
    },
    {
     "ename": "TypeError",
     "evalue": "unsupported operand type(s) for /: 'str' and 'str'",
     "output_type": "error",
     "traceback": [
      "\u001b[0;31m---------------------------------------------------------------------------\u001b[0m",
      "\u001b[0;31mTypeError\u001b[0m                                 Traceback (most recent call last)",
      "Input \u001b[0;32mIn [3]\u001b[0m, in \u001b[0;36m<cell line: 4>\u001b[0;34m()\u001b[0m\n\u001b[1;32m      1\u001b[0m num1 \u001b[38;5;241m=\u001b[39m \u001b[38;5;28minput\u001b[39m(\u001b[38;5;124m'\u001b[39m\u001b[38;5;124menter the number\u001b[39m\u001b[38;5;124m'\u001b[39m)\n\u001b[1;32m      2\u001b[0m num2 \u001b[38;5;241m=\u001b[39m \u001b[38;5;28minput\u001b[39m(\u001b[38;5;124m'\u001b[39m\u001b[38;5;124menter the number\u001b[39m\u001b[38;5;124m'\u001b[39m)\n\u001b[0;32m----> 4\u001b[0m \u001b[38;5;28mprint\u001b[39m(\u001b[43mnum1\u001b[49m\u001b[38;5;241;43m/\u001b[39;49m\u001b[43mnum2\u001b[49m)\n",
      "\u001b[0;31mTypeError\u001b[0m: unsupported operand type(s) for /: 'str' and 'str'"
     ]
    }
   ],
   "source": [
    "num1 = input('enter the number')\n",
    "num2 = input('enter the number')\n",
    "\n",
    "print(num1/num2)\n"
   ]
  },
  {
   "cell_type": "code",
   "execution_count": 7,
   "id": "dcb9ba91",
   "metadata": {},
   "outputs": [
    {
     "name": "stdout",
     "output_type": "stream",
     "text": [
      "enter the number10\n",
      "enter the number0\n"
     ]
    },
    {
     "ename": "ZeroDivisionError",
     "evalue": "division by zero",
     "output_type": "error",
     "traceback": [
      "\u001b[0;31m---------------------------------------------------------------------------\u001b[0m",
      "\u001b[0;31mZeroDivisionError\u001b[0m                         Traceback (most recent call last)",
      "Input \u001b[0;32mIn [7]\u001b[0m, in \u001b[0;36m<cell line: 4>\u001b[0;34m()\u001b[0m\n\u001b[1;32m      1\u001b[0m num1 \u001b[38;5;241m=\u001b[39m \u001b[38;5;28mint\u001b[39m(\u001b[38;5;28minput\u001b[39m(\u001b[38;5;124m'\u001b[39m\u001b[38;5;124menter the number\u001b[39m\u001b[38;5;124m'\u001b[39m))\n\u001b[1;32m      2\u001b[0m num2 \u001b[38;5;241m=\u001b[39m \u001b[38;5;28mint\u001b[39m(\u001b[38;5;28minput\u001b[39m(\u001b[38;5;124m'\u001b[39m\u001b[38;5;124menter the number\u001b[39m\u001b[38;5;124m'\u001b[39m))\n\u001b[0;32m----> 4\u001b[0m \u001b[38;5;28mprint\u001b[39m(\u001b[43mnum1\u001b[49m\u001b[38;5;241;43m/\u001b[39;49m\u001b[43mnum2\u001b[49m)\n",
      "\u001b[0;31mZeroDivisionError\u001b[0m: division by zero"
     ]
    }
   ],
   "source": [
    "num1 = int(input('enter the number'))\n",
    "num2 = int(input('enter the number'))\n",
    "\n",
    "print(num1/num2)"
   ]
  },
  {
   "cell_type": "code",
   "execution_count": null,
   "id": "cf7fdc1f",
   "metadata": {},
   "outputs": [],
   "source": [
    "# try and except\n",
    "\n",
    "try - only wrtite the code which will raise an error\n",
    "except - alternate code has to be wriiten when try raises an error"
   ]
  },
  {
   "cell_type": "code",
   "execution_count": null,
   "id": "4079311a",
   "metadata": {},
   "outputs": [],
   "source": [
    "try:\n",
    "    # some code\n",
    "except:\n",
    "    # executed if error in try block"
   ]
  },
  {
   "cell_type": "code",
   "execution_count": 9,
   "id": "fe134451",
   "metadata": {},
   "outputs": [
    {
     "name": "stdout",
     "output_type": "stream",
     "text": [
      "enter the number10\n",
      "enter the number0\n",
      "denominator cannot be zero\n",
      "thankyou\n"
     ]
    }
   ],
   "source": [
    "num1 = int(input('enter the number'))\n",
    "num2 = int(input('enter the number'))\n",
    "try:\n",
    "    print(num1/num2)\n",
    "except:\n",
    "    print('denominator cannot be zero')\n",
    "    \n",
    "print('thankyou')"
   ]
  },
  {
   "cell_type": "code",
   "execution_count": null,
   "id": "c0be1acc",
   "metadata": {},
   "outputs": [],
   "source": [
    "try, excpet and else\n",
    "\n",
    "- exec will go in exceotion block whenever error is raised inside a try block\n",
    "- exec will go in else block whenever error is not raised inside a try block"
   ]
  },
  {
   "cell_type": "code",
   "execution_count": 1,
   "id": "3387a026",
   "metadata": {},
   "outputs": [
    {
     "name": "stdout",
     "output_type": "stream",
     "text": [
      "enter the number10\n",
      "enter the number0\n",
      "denominator cannot be zero\n"
     ]
    },
    {
     "ename": "NameError",
     "evalue": "name 'c' is not defined",
     "output_type": "error",
     "traceback": [
      "\u001b[0;31m---------------------------------------------------------------------------\u001b[0m",
      "\u001b[0;31mNameError\u001b[0m                                 Traceback (most recent call last)",
      "Input \u001b[0;32mIn [1]\u001b[0m, in \u001b[0;36m<cell line: 8>\u001b[0;34m()\u001b[0m\n\u001b[1;32m      5\u001b[0m \u001b[38;5;28;01mexcept\u001b[39;00m:\n\u001b[1;32m      6\u001b[0m     \u001b[38;5;28mprint\u001b[39m(\u001b[38;5;124m'\u001b[39m\u001b[38;5;124mdenominator cannot be zero\u001b[39m\u001b[38;5;124m'\u001b[39m)\n\u001b[0;32m----> 8\u001b[0m \u001b[38;5;28mprint\u001b[39m(\u001b[43mc\u001b[49m)    \n\u001b[1;32m      9\u001b[0m \u001b[38;5;28mprint\u001b[39m(\u001b[38;5;124m'\u001b[39m\u001b[38;5;124mthankyou\u001b[39m\u001b[38;5;124m'\u001b[39m)\n",
      "\u001b[0;31mNameError\u001b[0m: name 'c' is not defined"
     ]
    }
   ],
   "source": [
    "num1 = int(input('enter the number'))\n",
    "num2 = int(input('enter the number'))\n",
    "try:\n",
    "    c = num1/num2\n",
    "except:\n",
    "    print('denominator cannot be zero')\n",
    "else:\n",
    "    print(c)    \n",
    "print('thankyou')"
   ]
  },
  {
   "cell_type": "code",
   "execution_count": null,
   "id": "b089c1a9",
   "metadata": {},
   "outputs": [],
   "source": [
    "try, except, finally\n",
    "\n",
    "finally - it will be executed whethe the error is raised or not"
   ]
  },
  {
   "cell_type": "code",
   "execution_count": 3,
   "id": "008695f9",
   "metadata": {},
   "outputs": [
    {
     "name": "stdout",
     "output_type": "stream",
     "text": [
      "enter the number10\n",
      "enter the number0\n",
      "denominator cannot be zero\n",
      "done\n",
      "thankyou\n"
     ]
    }
   ],
   "source": [
    "num1 = int(input('enter the number'))\n",
    "num2 = int(input('enter the number'))\n",
    "try:\n",
    "    c = num1/num2\n",
    "except:\n",
    "    print('denominator cannot be zero')\n",
    "else:\n",
    "    print(c) \n",
    "finally:\n",
    "    print('done')\n",
    "print('thankyou')"
   ]
  },
  {
   "cell_type": "code",
   "execution_count": 4,
   "id": "5571d932",
   "metadata": {},
   "outputs": [
    {
     "ename": "UnsupportedOperation",
     "evalue": "not readable",
     "output_type": "error",
     "traceback": [
      "\u001b[0;31m---------------------------------------------------------------------------\u001b[0m",
      "\u001b[0;31mUnsupportedOperation\u001b[0m                      Traceback (most recent call last)",
      "Input \u001b[0;32mIn [4]\u001b[0m, in \u001b[0;36m<cell line: 3>\u001b[0;34m()\u001b[0m\n\u001b[1;32m      1\u001b[0m f \u001b[38;5;241m=\u001b[39m \u001b[38;5;28mopen\u001b[39m(\u001b[38;5;124m'\u001b[39m\u001b[38;5;124mdata.py\u001b[39m\u001b[38;5;124m'\u001b[39m,\u001b[38;5;124m'\u001b[39m\u001b[38;5;124mw\u001b[39m\u001b[38;5;124m'\u001b[39m)\n\u001b[1;32m      2\u001b[0m f\u001b[38;5;241m.\u001b[39mwrite(\u001b[38;5;124m'\u001b[39m\u001b[38;5;124mabc\u001b[39m\u001b[38;5;124m'\u001b[39m)\n\u001b[0;32m----> 3\u001b[0m \u001b[43mf\u001b[49m\u001b[38;5;241;43m.\u001b[39;49m\u001b[43mread\u001b[49m\u001b[43m(\u001b[49m\u001b[43m)\u001b[49m\n\u001b[1;32m      4\u001b[0m f\u001b[38;5;241m.\u001b[39mclose()\n",
      "\u001b[0;31mUnsupportedOperation\u001b[0m: not readable"
     ]
    }
   ],
   "source": [
    "f = open('data.py','w')\n",
    "f.write('abc')\n",
    "f.read()\n",
    "f.close()"
   ]
  },
  {
   "cell_type": "code",
   "execution_count": 5,
   "id": "0fcbf1d4",
   "metadata": {},
   "outputs": [
    {
     "name": "stdout",
     "output_type": "stream",
     "text": [
      "method not allowed\n"
     ]
    }
   ],
   "source": [
    "try:\n",
    "    f = open('data.py','w')\n",
    "    f.write('abc')\n",
    "    f.read()\n",
    "except:\n",
    "    print('method not allowed')\n",
    "finally:\n",
    "    f.close()"
   ]
  },
  {
   "cell_type": "code",
   "execution_count": 7,
   "id": "e42b920d",
   "metadata": {},
   "outputs": [
    {
     "name": "stdout",
     "output_type": "stream",
     "text": [
      "enter the number10\n",
      "enter the number0\n",
      "some error\n",
      "thankyou\n"
     ]
    }
   ],
   "source": [
    "\n",
    "try:\n",
    "    num1 = int(input('enter the number'))\n",
    "    num2 = int(input('enter the number'))\n",
    "    c = num1/num2\n",
    "except Exce:\n",
    "    print('some error')\n",
    "\n",
    "print('thankyou')"
   ]
  },
  {
   "cell_type": "code",
   "execution_count": null,
   "id": "7200f5d3",
   "metadata": {},
   "outputs": [],
   "source": [
    "# coding errors"
   ]
  },
  {
   "cell_type": "code",
   "execution_count": 21,
   "id": "dc75574e",
   "metadata": {},
   "outputs": [
    {
     "name": "stdout",
     "output_type": "stream",
     "text": [
      "enter the number10\n",
      "enter the number0\n",
      "division by zero\n",
      "thankyou\n"
     ]
    }
   ],
   "source": [
    "try:\n",
    "    num1 = int(input('enter the number'))\n",
    "    num2 = int(input('enter the number'))\n",
    "    c = num1/num2\n",
    "except Exception as msg:\n",
    "    print(msg)\n",
    "\n",
    "print('thankyou')"
   ]
  },
  {
   "cell_type": "code",
   "execution_count": 15,
   "id": "e677e285",
   "metadata": {},
   "outputs": [
    {
     "name": "stdout",
     "output_type": "stream",
     "text": [
      "enter the numberabc\n",
      "some error\n",
      "thankyou\n"
     ]
    }
   ],
   "source": [
    "try:\n",
    "    num1 = int(input('enter the number'))\n",
    "    num2 = int(input('enter the number'))\n",
    "    c = num1/num2\n",
    "except ZeroDivisionError:\n",
    "    print('denominator cannot be zero')\n",
    "except:\n",
    "    print('some error')\n",
    "\n",
    "print('thankyou')"
   ]
  },
  {
   "cell_type": "code",
   "execution_count": 16,
   "id": "be9beeff",
   "metadata": {},
   "outputs": [
    {
     "name": "stdout",
     "output_type": "stream",
     "text": [
      "enter the numberabc\n"
     ]
    },
    {
     "ename": "ValueError",
     "evalue": "invalid literal for int() with base 10: 'abc'",
     "output_type": "error",
     "traceback": [
      "\u001b[0;31m---------------------------------------------------------------------------\u001b[0m",
      "\u001b[0;31mValueError\u001b[0m                                Traceback (most recent call last)",
      "Input \u001b[0;32mIn [16]\u001b[0m, in \u001b[0;36m<cell line: 1>\u001b[0;34m()\u001b[0m\n\u001b[0;32m----> 1\u001b[0m num1 \u001b[38;5;241m=\u001b[39m \u001b[38;5;28;43mint\u001b[39;49m\u001b[43m(\u001b[49m\u001b[38;5;28;43minput\u001b[39;49m\u001b[43m(\u001b[49m\u001b[38;5;124;43m'\u001b[39;49m\u001b[38;5;124;43menter the number\u001b[39;49m\u001b[38;5;124;43m'\u001b[39;49m\u001b[43m)\u001b[49m\u001b[43m)\u001b[49m\n",
      "\u001b[0;31mValueError\u001b[0m: invalid literal for int() with base 10: 'abc'"
     ]
    }
   ],
   "source": [
    "num1 = int(input('enter the number'))"
   ]
  },
  {
   "cell_type": "code",
   "execution_count": 19,
   "id": "23e1b7f2",
   "metadata": {},
   "outputs": [
    {
     "ename": "SyntaxError",
     "evalue": "default 'except:' must be last (2132583153.py, line 5)",
     "output_type": "error",
     "traceback": [
      "\u001b[0;36m  Input \u001b[0;32mIn [19]\u001b[0;36m\u001b[0m\n\u001b[0;31m    d = open('file_handle.py')\u001b[0m\n\u001b[0m    ^\u001b[0m\n\u001b[0;31mSyntaxError\u001b[0m\u001b[0;31m:\u001b[0m default 'except:' must be last\n"
     ]
    }
   ],
   "source": [
    "try:\n",
    "    num1 = int(input('enter the number'))\n",
    "    num2 = int(input('enter the number'))\n",
    "    c = num1/num2\n",
    "    d = open('file_handle.py')\n",
    "except ZeroDivisionError:\n",
    "    print('denominator cannot be zero')\n",
    "except ValueError as e:\n",
    "    print(e)\n",
    "except:\n",
    "    print('some error')\n",
    "\n",
    "print('thankyou')"
   ]
  },
  {
   "cell_type": "markdown",
   "id": "d7bd2add",
   "metadata": {},
   "source": [
    "# raise"
   ]
  },
  {
   "cell_type": "code",
   "execution_count": 27,
   "id": "adab2ddf",
   "metadata": {},
   "outputs": [],
   "source": [
    "class MyException(Exception):\n",
    "    def __init__(self,msg):\n",
    "        self.msg = msg"
   ]
  },
  {
   "cell_type": "code",
   "execution_count": 28,
   "id": "98121625",
   "metadata": {},
   "outputs": [
    {
     "name": "stdout",
     "output_type": "stream",
     "text": [
      "enter the the amount100000\n",
      "over limit\n"
     ]
    }
   ],
   "source": [
    "amt = int(input('enter the the amount'))\n",
    "try:\n",
    "    if amt<50000:\n",
    "        print('transaction was successfull')\n",
    "    else:\n",
    "        raise MyException('over limit')\n",
    "    \n",
    "    # code\n",
    "except MyException as e:\n",
    "    print(e)\n",
    "    \n",
    "#code"
   ]
  },
  {
   "cell_type": "code",
   "execution_count": null,
   "id": "4370d96f",
   "metadata": {},
   "outputs": [],
   "source": [
    "take the amount from the user\n",
    "if amount is more than 50000\n",
    "    show an error to user 'over limit'\n",
    "    ask user to enter the pan number\n",
    "    if len(pan) == 10\n",
    "        'we will verify it soon...thankyou'\n",
    "    else:\n",
    "        error 'invalid pan'\n",
    "else\n",
    "    'transaction was successfull'"
   ]
  },
  {
   "cell_type": "code",
   "execution_count": null,
   "id": "5b1f5ef3",
   "metadata": {},
   "outputs": [],
   "source": [
    "\"\"\"\n",
    "70\n",
    "transaction was successfull\n",
    "\n",
    "\n",
    "60000\n",
    "'over limit'\n",
    "1234\n",
    "invalid pan\n",
    "\n",
    "\n",
    "60000\n",
    "'over limit'\n",
    "1234567890\n",
    "we will verify it soon...thankyou\n",
    "\"\"\"\n",
    "\n",
    "# modular as possible"
   ]
  },
  {
   "cell_type": "code",
   "execution_count": 36,
   "id": "e53f2622",
   "metadata": {},
   "outputs": [],
   "source": [
    "class MyException(Exception):\n",
    "    def __init__(self,msg):\n",
    "        self.msg = msg\n",
    "        \n",
    "def pan(pan_number):\n",
    "    if len(pan_number) == 16:\n",
    "        print('we will verify it soon...thankyou')\n",
    "    else:\n",
    "        raise  MyException('invalid pan')\n",
    "\n",
    "def amount(amt):\n",
    "    if amt > 80000:\n",
    "        raise MyException('over limit')\n",
    "    else:\n",
    "        print('transaction was successfull')   "
   ]
  },
  {
   "cell_type": "code",
   "execution_count": 38,
   "id": "a44b6f6c",
   "metadata": {},
   "outputs": [
    {
     "name": "stdout",
     "output_type": "stream",
     "text": [
      "please enter the amount60000\n",
      "over limit\n",
      "enter the pan deatils1234567890\n",
      "we will verify it soon...thankyou\n"
     ]
    }
   ],
   "source": [
    "amt = int(input('please enter the amount'))\n",
    "try:\n",
    "    amount(amt)\n",
    "except Exception as e:\n",
    "    print(e)\n",
    "    try:\n",
    "        pan_number = input('enter the pan deatils')\n",
    "        pan(pan_number)\n",
    "    except Exception as e:\n",
    "        print(e)"
   ]
  },
  {
   "cell_type": "code",
   "execution_count": null,
   "id": "b7e7766e",
   "metadata": {},
   "outputs": [],
   "source": [
    "class MyException(Exception):\n",
    "    def __init__(self,msg):\n",
    "        self.msg=msg\n",
    "    \n",
    "try:\n",
    "    amt=int(input('Enter amount:'))\n",
    "    if amt<=80000:\n",
    "        print('transaction was successful')\n",
    "    else:\n",
    "        raise MyException('over limit')\n",
    "except MyException as me:\n",
    "    print(me)\n",
    "    try:\n",
    "        pan=input('Enter the pan number')\n",
    "        if len(pan)==10:\n",
    "            print('we will verify it soon...thankyou')\n",
    "        else:\n",
    "            raise MyException('invalid pan')\n",
    "    except MyException as me:\n",
    "        print(me)"
   ]
  }
 ],
 "metadata": {
  "kernelspec": {
   "display_name": "Python 3 (ipykernel)",
   "language": "python",
   "name": "python3"
  },
  "language_info": {
   "codemirror_mode": {
    "name": "ipython",
    "version": 3
   },
   "file_extension": ".py",
   "mimetype": "text/x-python",
   "name": "python",
   "nbconvert_exporter": "python",
   "pygments_lexer": "ipython3",
   "version": "3.9.12"
  }
 },
 "nbformat": 4,
 "nbformat_minor": 5
}
