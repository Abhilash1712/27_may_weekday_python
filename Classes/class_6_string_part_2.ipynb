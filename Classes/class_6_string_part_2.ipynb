{
 "cells": [
  {
   "cell_type": "code",
   "execution_count": 1,
   "id": "c038fdc6",
   "metadata": {},
   "outputs": [
    {
     "name": "stdout",
     "output_type": "stream",
     "text": [
      "140494017455088\n",
      "140494287955120\n"
     ]
    }
   ],
   "source": [
    "a = 'python' # 24\n",
    "c = 'cython' #\n",
    "\n",
    "print(id(a))\n",
    "print(id(c))"
   ]
  },
  {
   "cell_type": "code",
   "execution_count": null,
   "id": "6a22f951",
   "metadata": {},
   "outputs": [],
   "source": [
    "p - 4 unit\n",
    "y\n",
    "t\n",
    "h\n",
    "o\n",
    "n\n",
    "\n",
    "24 units\n",
    "\n",
    "c - 4 ubits"
   ]
  },
  {
   "cell_type": "code",
   "execution_count": 2,
   "id": "c0621aaf",
   "metadata": {},
   "outputs": [
    {
     "name": "stdout",
     "output_type": "stream",
     "text": [
      "140494823350128\n",
      "140494823670128\n"
     ]
    }
   ],
   "source": [
    "print(id(a[0]))\n",
    "print(id(c[0]))"
   ]
  },
  {
   "cell_type": "code",
   "execution_count": 3,
   "id": "2d6b1a0e",
   "metadata": {},
   "outputs": [
    {
     "name": "stdout",
     "output_type": "stream",
     "text": [
      "140494286782320\n",
      "140494286782320\n"
     ]
    }
   ],
   "source": [
    "print(id(a[1]))\n",
    "print(id(c[1]))"
   ]
  },
  {
   "cell_type": "code",
   "execution_count": 5,
   "id": "da17f435",
   "metadata": {},
   "outputs": [
    {
     "name": "stdout",
     "output_type": "stream",
     "text": [
      "140494823986160\n",
      "140494823226800\n",
      "140494823348400\n",
      "140494823986160\n",
      "140494823986160\n"
     ]
    }
   ],
   "source": [
    "a = 'afsaan'\n",
    "\n",
    "print(id(a[0]))\n",
    "print(id(a[1]))\n",
    "print(id(a[2]))\n",
    "print(id(a[3]))\n",
    "print(id(a[4]))\n"
   ]
  },
  {
   "cell_type": "code",
   "execution_count": 7,
   "id": "b9eb3e91",
   "metadata": {},
   "outputs": [
    {
     "name": "stdout",
     "output_type": "stream",
     "text": [
      "140494302270704\n",
      "140494302271856\n",
      "140494827775152\n"
     ]
    }
   ],
   "source": [
    "a = 'afsan'\n",
    "print(id(a))\n",
    "b = 'khan'\n",
    "print(id(b))\n",
    "print(id(a+b))"
   ]
  },
  {
   "cell_type": "code",
   "execution_count": 10,
   "id": "45e0d1e9",
   "metadata": {},
   "outputs": [
    {
     "data": {
      "text/plain": [
       "140494827784112"
      ]
     },
     "execution_count": 10,
     "metadata": {},
     "output_type": "execute_result"
    }
   ],
   "source": [
    "id(a +b)"
   ]
  },
  {
   "cell_type": "code",
   "execution_count": 11,
   "id": "709b97dc",
   "metadata": {},
   "outputs": [
    {
     "data": {
      "text/plain": [
       "140494827794032"
      ]
     },
     "execution_count": 11,
     "metadata": {},
     "output_type": "execute_result"
    }
   ],
   "source": [
    "id(a+b)"
   ]
  },
  {
   "cell_type": "code",
   "execution_count": 12,
   "id": "bf4008fd",
   "metadata": {},
   "outputs": [],
   "source": [
    "c = a +b"
   ]
  },
  {
   "cell_type": "code",
   "execution_count": 13,
   "id": "f2f8cd99",
   "metadata": {},
   "outputs": [
    {
     "data": {
      "text/plain": [
       "'afsankhan'"
      ]
     },
     "execution_count": 13,
     "metadata": {},
     "output_type": "execute_result"
    }
   ],
   "source": [
    "c"
   ]
  },
  {
   "cell_type": "code",
   "execution_count": 14,
   "id": "821286bb",
   "metadata": {},
   "outputs": [
    {
     "data": {
      "text/plain": [
       "'afsankhan'"
      ]
     },
     "execution_count": 14,
     "metadata": {},
     "output_type": "execute_result"
    }
   ],
   "source": [
    "c"
   ]
  },
  {
   "cell_type": "code",
   "execution_count": 1,
   "id": "ba14cc19",
   "metadata": {},
   "outputs": [
    {
     "name": "stdout",
     "output_type": "stream",
     "text": [
      "140569463626544\n"
     ]
    }
   ],
   "source": [
    "a = 'afsan'\n",
    "print(id(a))"
   ]
  },
  {
   "cell_type": "code",
   "execution_count": 4,
   "id": "0b802814",
   "metadata": {},
   "outputs": [],
   "source": [
    "a = 'python class'"
   ]
  },
  {
   "cell_type": "code",
   "execution_count": 5,
   "id": "8bcae09a",
   "metadata": {},
   "outputs": [
    {
     "data": {
      "text/plain": [
       "' '"
      ]
     },
     "execution_count": 5,
     "metadata": {},
     "output_type": "execute_result"
    }
   ],
   "source": [
    "a[6]"
   ]
  },
  {
   "cell_type": "code",
   "execution_count": 6,
   "id": "04ea751a",
   "metadata": {},
   "outputs": [
    {
     "data": {
      "text/plain": [
       "' '"
      ]
     },
     "execution_count": 6,
     "metadata": {},
     "output_type": "execute_result"
    }
   ],
   "source": [
    "a[-6]"
   ]
  },
  {
   "cell_type": "code",
   "execution_count": 7,
   "id": "075ba7d3",
   "metadata": {},
   "outputs": [
    {
     "data": {
      "text/plain": [
       "'a'"
      ]
     },
     "execution_count": 7,
     "metadata": {},
     "output_type": "execute_result"
    }
   ],
   "source": [
    "a[9]"
   ]
  },
  {
   "cell_type": "code",
   "execution_count": 8,
   "id": "40c0f4c3",
   "metadata": {},
   "outputs": [
    {
     "data": {
      "text/plain": [
       "'a'"
      ]
     },
     "execution_count": 8,
     "metadata": {},
     "output_type": "execute_result"
    }
   ],
   "source": [
    "a[-3]"
   ]
  },
  {
   "cell_type": "code",
   "execution_count": null,
   "id": "ceebbddd",
   "metadata": {},
   "outputs": [],
   "source": [
    "a-z , A-Z , 0-9 , _"
   ]
  },
  {
   "cell_type": "code",
   "execution_count": 18,
   "id": "9e6afe46",
   "metadata": {},
   "outputs": [],
   "source": [
    "a = 'afsan'\n",
    "b = 'afsan'"
   ]
  },
  {
   "cell_type": "code",
   "execution_count": 19,
   "id": "024081f9",
   "metadata": {},
   "outputs": [
    {
     "name": "stdout",
     "output_type": "stream",
     "text": [
      "140569468333552\n",
      "140569468333552\n"
     ]
    }
   ],
   "source": [
    "print(id(a))\n",
    "print(id(b))"
   ]
  },
  {
   "cell_type": "code",
   "execution_count": 20,
   "id": "4db67038",
   "metadata": {},
   "outputs": [],
   "source": [
    "a = 'afsan khan'\n",
    "b = 'afsan khan'"
   ]
  },
  {
   "cell_type": "code",
   "execution_count": 21,
   "id": "19a4d1f3",
   "metadata": {},
   "outputs": [
    {
     "name": "stdout",
     "output_type": "stream",
     "text": [
      "140569475683184\n",
      "140569475686064\n"
     ]
    }
   ],
   "source": [
    "print(id(a))\n",
    "print(id(b))"
   ]
  },
  {
   "cell_type": "code",
   "execution_count": 13,
   "id": "7bdedc53",
   "metadata": {},
   "outputs": [
    {
     "name": "stdout",
     "output_type": "stream",
     "text": [
      "140569179591728\n",
      "140569179591728\n"
     ]
    }
   ],
   "source": [
    "print(id(a[0]))\n",
    "print(id(b[0]))"
   ]
  },
  {
   "cell_type": "code",
   "execution_count": 17,
   "id": "b5c2d65d",
   "metadata": {},
   "outputs": [
    {
     "name": "stdout",
     "output_type": "stream",
     "text": [
      "140569447865584\n",
      "140569447865584\n"
     ]
    }
   ],
   "source": [
    "a = 'afsan#khan'\n",
    "b = 'afsan#khan'\n",
    "print(id(a[6]))\n",
    "print(id(b[6]))"
   ]
  },
  {
   "cell_type": "code",
   "execution_count": null,
   "id": "3dc0a12f",
   "metadata": {},
   "outputs": [],
   "source": [
    "a-z , A-Z , 0-9 , _"
   ]
  },
  {
   "cell_type": "code",
   "execution_count": 22,
   "id": "e58ee9eb",
   "metadata": {},
   "outputs": [
    {
     "name": "stdout",
     "output_type": "stream",
     "text": [
      "True\n"
     ]
    }
   ],
   "source": [
    "a = 'afsan_khan'\n",
    "b = 'afsan_khan'\n",
    "print(a is b)"
   ]
  },
  {
   "cell_type": "code",
   "execution_count": 23,
   "id": "fa413209",
   "metadata": {},
   "outputs": [
    {
     "name": "stdout",
     "output_type": "stream",
     "text": [
      "False\n"
     ]
    }
   ],
   "source": [
    "a = 'afsan khan'\n",
    "b = 'afsan khan'\n",
    "print(a is b)"
   ]
  },
  {
   "cell_type": "code",
   "execution_count": null,
   "id": "c95af62e",
   "metadata": {},
   "outputs": [],
   "source": [
    "a = 'hey md this is afsaan'\n",
    "b = 'afsan khan'"
   ]
  }
 ],
 "metadata": {
  "kernelspec": {
   "display_name": "Python 3 (ipykernel)",
   "language": "python",
   "name": "python3"
  },
  "language_info": {
   "codemirror_mode": {
    "name": "ipython",
    "version": 3
   },
   "file_extension": ".py",
   "mimetype": "text/x-python",
   "name": "python",
   "nbconvert_exporter": "python",
   "pygments_lexer": "ipython3",
   "version": "3.9.12"
  }
 },
 "nbformat": 4,
 "nbformat_minor": 5
}
