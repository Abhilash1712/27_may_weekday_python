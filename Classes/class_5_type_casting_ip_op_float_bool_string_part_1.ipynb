{
 "cells": [
  {
   "cell_type": "code",
   "execution_count": null,
   "id": "4ffddabe",
   "metadata": {},
   "outputs": [],
   "source": [
    "# type casting\n",
    "\n",
    "- chnaging from one data type to another"
   ]
  },
  {
   "cell_type": "code",
   "execution_count": null,
   "id": "ac7f28f1",
   "metadata": {},
   "outputs": [],
   "source": [
    "int()\n",
    "float()\n",
    "str()\n",
    "bool()\n",
    "complex()"
   ]
  },
  {
   "cell_type": "code",
   "execution_count": 3,
   "id": "b0f520cf",
   "metadata": {},
   "outputs": [
    {
     "name": "stdout",
     "output_type": "stream",
     "text": [
      "10 10.0\n"
     ]
    },
    {
     "data": {
      "text/plain": [
       "10"
      ]
     },
     "execution_count": 3,
     "metadata": {},
     "output_type": "execute_result"
    }
   ],
   "source": [
    "# 1 way\n",
    "\n",
    "a = 10\n",
    "print(a, float(a))\n",
    "a"
   ]
  },
  {
   "cell_type": "code",
   "execution_count": 4,
   "id": "b6221f8b",
   "metadata": {},
   "outputs": [
    {
     "name": "stdout",
     "output_type": "stream",
     "text": [
      "10.0 10.0\n"
     ]
    },
    {
     "data": {
      "text/plain": [
       "10.0"
      ]
     },
     "execution_count": 4,
     "metadata": {},
     "output_type": "execute_result"
    }
   ],
   "source": [
    "# 2 way\n",
    "\n",
    "a = float(10)\n",
    "print(a, float(a))\n",
    "a"
   ]
  },
  {
   "cell_type": "code",
   "execution_count": 5,
   "id": "7e949b90",
   "metadata": {},
   "outputs": [
    {
     "data": {
      "text/plain": [
       "100"
      ]
     },
     "execution_count": 5,
     "metadata": {},
     "output_type": "execute_result"
    }
   ],
   "source": [
    "a = '100'\n",
    "int(a)"
   ]
  },
  {
   "cell_type": "code",
   "execution_count": 6,
   "id": "aa775dc5",
   "metadata": {},
   "outputs": [
    {
     "data": {
      "text/plain": [
       "True"
      ]
     },
     "execution_count": 6,
     "metadata": {},
     "output_type": "execute_result"
    }
   ],
   "source": [
    "a = 200.567\n",
    "bool(a)"
   ]
  },
  {
   "cell_type": "code",
   "execution_count": 7,
   "id": "24f6f69a",
   "metadata": {},
   "outputs": [
    {
     "data": {
      "text/plain": [
       "'True'"
      ]
     },
     "execution_count": 7,
     "metadata": {},
     "output_type": "execute_result"
    }
   ],
   "source": [
    "a = True\n",
    "str(a)"
   ]
  },
  {
   "cell_type": "markdown",
   "id": "f588817b",
   "metadata": {},
   "source": [
    "# input and output function"
   ]
  },
  {
   "cell_type": "code",
   "execution_count": null,
   "id": "24fd5333",
   "metadata": {},
   "outputs": [],
   "source": [
    "input function\n",
    "\n",
    "- input fiunctions are those func which takes value from the user\n",
    "- it will return always string"
   ]
  },
  {
   "cell_type": "code",
   "execution_count": 9,
   "id": "82cdce4e",
   "metadata": {},
   "outputs": [
    {
     "name": "stdout",
     "output_type": "stream",
     "text": [
      "60\n"
     ]
    }
   ],
   "source": [
    "a = 20\n",
    "b = 40\n",
    "\n",
    "print(a+b)"
   ]
  },
  {
   "cell_type": "code",
   "execution_count": 11,
   "id": "23126758",
   "metadata": {},
   "outputs": [
    {
     "name": "stdout",
     "output_type": "stream",
     "text": [
      "enter the value10\n",
      "enter the value11\n",
      "21.0\n"
     ]
    }
   ],
   "source": [
    "a = float(input('enter the value'))\n",
    "b = float(input('enter the value'))\n",
    "\n",
    "print(a + b)"
   ]
  },
  {
   "cell_type": "code",
   "execution_count": 16,
   "id": "a0c920ca",
   "metadata": {},
   "outputs": [
    {
     "name": "stdout",
     "output_type": "stream",
     "text": [
      "enter the valueafsan\n"
     ]
    },
    {
     "ename": "ValueError",
     "evalue": "could not convert string to float: 'afsan'",
     "output_type": "error",
     "traceback": [
      "\u001b[0;31m---------------------------------------------------------------------------\u001b[0m",
      "\u001b[0;31mValueError\u001b[0m                                Traceback (most recent call last)",
      "Input \u001b[0;32mIn [16]\u001b[0m, in \u001b[0;36m<cell line: 1>\u001b[0;34m()\u001b[0m\n\u001b[0;32m----> 1\u001b[0m a \u001b[38;5;241m=\u001b[39m \u001b[38;5;28;43mfloat\u001b[39;49m\u001b[43m(\u001b[49m\u001b[38;5;28;43minput\u001b[39;49m\u001b[43m(\u001b[49m\u001b[38;5;124;43m'\u001b[39;49m\u001b[38;5;124;43menter the value\u001b[39;49m\u001b[38;5;124;43m'\u001b[39;49m\u001b[43m)\u001b[49m\u001b[43m)\u001b[49m\n\u001b[1;32m      2\u001b[0m b \u001b[38;5;241m=\u001b[39m \u001b[38;5;28mfloat\u001b[39m(\u001b[38;5;28minput\u001b[39m(\u001b[38;5;124m'\u001b[39m\u001b[38;5;124menter the value\u001b[39m\u001b[38;5;124m'\u001b[39m))\n\u001b[1;32m      4\u001b[0m \u001b[38;5;28mprint\u001b[39m(a \u001b[38;5;241m+\u001b[39m b)\n",
      "\u001b[0;31mValueError\u001b[0m: could not convert string to float: 'afsan'"
     ]
    }
   ],
   "source": [
    "a = float(input('enter the value'))\n",
    "b = float(input('enter the value'))\n",
    "\n",
    "print(a + b)"
   ]
  },
  {
   "cell_type": "code",
   "execution_count": 15,
   "id": "a05d5f30",
   "metadata": {},
   "outputs": [
    {
     "name": "stdout",
     "output_type": "stream",
     "text": [
      "enter the value10+7j\n",
      "enter the valueTrue\n",
      "<class 'complex'>\n",
      "<class 'bool'>\n"
     ]
    }
   ],
   "source": [
    "# eval function\n",
    "\n",
    "a = eval(input('enter the value'))\n",
    "b = eval(input('enter the value'))\n",
    "\n",
    "print(type(a))\n",
    "print(type(b))"
   ]
  },
  {
   "cell_type": "code",
   "execution_count": null,
   "id": "cb7f5095",
   "metadata": {},
   "outputs": [],
   "source": [
    "# ouput function\n",
    "\n",
    "- print"
   ]
  },
  {
   "cell_type": "code",
   "execution_count": 17,
   "id": "b2618ded",
   "metadata": {},
   "outputs": [
    {
     "name": "stdout",
     "output_type": "stream",
     "text": [
      "10\n",
      "20\n",
      "30\n"
     ]
    }
   ],
   "source": [
    "a = 10\n",
    "b = 20\n",
    "c = 30\n",
    "\n",
    "print(a)\n",
    "print(b)\n",
    "print(c)"
   ]
  },
  {
   "cell_type": "code",
   "execution_count": 22,
   "id": "b715ff2c",
   "metadata": {},
   "outputs": [
    {
     "name": "stdout",
     "output_type": "stream",
     "text": [
      "afsan\n",
      "khan\n"
     ]
    }
   ],
   "source": [
    "print('afsan\\nkhan')"
   ]
  },
  {
   "cell_type": "code",
   "execution_count": null,
   "id": "c33b6e7f",
   "metadata": {},
   "outputs": [],
   "source": [
    "10\n",
    "20\n",
    "30\n"
   ]
  },
  {
   "cell_type": "code",
   "execution_count": 18,
   "id": "d6543d15",
   "metadata": {},
   "outputs": [
    {
     "name": "stdout",
     "output_type": "stream",
     "text": [
      "102030"
     ]
    }
   ],
   "source": [
    "a = 10\n",
    "b = 20\n",
    "c = 30\n",
    "\n",
    "print(a, end='')\n",
    "print(b, end='')\n",
    "print(c, end='')"
   ]
  },
  {
   "cell_type": "code",
   "execution_count": 23,
   "id": "0afd944f",
   "metadata": {},
   "outputs": [
    {
     "name": "stdout",
     "output_type": "stream",
     "text": [
      "10-->20-->30\n"
     ]
    }
   ],
   "source": [
    "a = 10\n",
    "b = 20\n",
    "c = 30\n",
    "\n",
    "print(a,b,c,sep='-->')"
   ]
  },
  {
   "cell_type": "code",
   "execution_count": 20,
   "id": "83ab84f8",
   "metadata": {},
   "outputs": [
    {
     "name": "stdout",
     "output_type": "stream",
     "text": [
      "10\n",
      "20\n",
      "30\n"
     ]
    }
   ],
   "source": [
    "a = 10\n",
    "b = 20\n",
    "c = 30\n",
    "\n",
    "print(a,b,c, sep='\\n')"
   ]
  },
  {
   "cell_type": "code",
   "execution_count": 21,
   "id": "c41552ea",
   "metadata": {},
   "outputs": [
    {
     "name": "stdout",
     "output_type": "stream",
     "text": [
      "280==280-->10**280\n",
      "280 90\n",
      "\n",
      "200++80++10--"
     ]
    }
   ],
   "source": [
    "a = 200\n",
    "b = 80\n",
    "c = 10\n",
    "d = a + b\n",
    "\n",
    "print(a+b , d , sep='==' , end='-->')\n",
    "print(c,d,sep='**')\n",
    "print(d,c+b,end='\\n\\n')\n",
    "print(a,b,c,sep='++',end='--')"
   ]
  },
  {
   "cell_type": "code",
   "execution_count": null,
   "id": "d7d6635f",
   "metadata": {},
   "outputs": [],
   "source": [
    "280==280-->10**280\n",
    "280 90\n",
    "\n",
    "200++80++10--"
   ]
  },
  {
   "cell_type": "code",
   "execution_count": 24,
   "id": "71938c7d",
   "metadata": {},
   "outputs": [
    {
     "name": "stdout",
     "output_type": "stream",
     "text": [
      "please enter the first nameafsan\n",
      "please enter the second namekhan\n",
      "afsan khan\n"
     ]
    }
   ],
   "source": [
    "# write a program which takes first name and second name from the user and print the full name\n",
    "\n",
    "\"\"\"\n",
    "afsan\n",
    "\n",
    "khan\n",
    "\n",
    "output --> afsan is my first and khan is my second name\n",
    "\n",
    "\"\"\"\n",
    "\n",
    "first_name = input(\"please enter the first name\")\n",
    "second_name = input (\"please enter the second name\")\n",
    "print (first_name, second_name )"
   ]
  },
  {
   "cell_type": "code",
   "execution_count": 25,
   "id": "202766ff",
   "metadata": {},
   "outputs": [
    {
     "name": "stdout",
     "output_type": "stream",
     "text": [
      "Enter first name afsan\n",
      "Enter last name khan\n",
      "My first name is afsan and second name is  khan\n",
      "my first name is afsan and last name khan\n"
     ]
    }
   ],
   "source": [
    "firstName=input(\"Enter first name \")\n",
    "secondName=input(\"Enter last name \") \n",
    "print(\"My first name is \"+firstName +\" and second name is  \" + secondName)\n",
    "print('my first name is',firstName ,'and last name',secondName)"
   ]
  },
  {
   "cell_type": "code",
   "execution_count": 28,
   "id": "c0c293d0",
   "metadata": {},
   "outputs": [
    {
     "name": "stdout",
     "output_type": "stream",
     "text": [
      "Enter first name afsan\n",
      "Enter last name khan\n",
      "afsanis my first name and khan is my second name 10\n"
     ]
    }
   ],
   "source": [
    "# format string\n",
    "\n",
    "firstName=input(\"Enter first name \")\n",
    "secondName=input(\"Enter last name \") \n",
    "print(f\"{firstName}is my first name and {secondName} is my second name {10}\")\n"
   ]
  },
  {
   "cell_type": "code",
   "execution_count": 29,
   "id": "36497430",
   "metadata": {},
   "outputs": [
    {
     "name": "stdout",
     "output_type": "stream",
     "text": [
      "Enter first name afsan\n",
      "Enter last name khan\n",
      "afsan is my first name and khan is my second name 100\n"
     ]
    }
   ],
   "source": [
    "firstName=input(\"Enter first name \")\n",
    "secondName=input(\"Enter last name \") \n",
    "print(\"{} is my first name and {} is my second name {}\".format(firstName, secondName, 100))"
   ]
  },
  {
   "cell_type": "code",
   "execution_count": null,
   "id": "9669b362",
   "metadata": {},
   "outputs": [],
   "source": [
    "# float data type\n",
    "\n",
    "any value that has a decimal point is called as float data type eg -900.99 , 0.0 , 11.0"
   ]
  },
  {
   "cell_type": "code",
   "execution_count": 30,
   "id": "16bf987e",
   "metadata": {},
   "outputs": [
    {
     "name": "stdout",
     "output_type": "stream",
     "text": [
      "100.0 <class 'float'>\n"
     ]
    }
   ],
   "source": [
    "a = 100.0\n",
    "print(a , type(a))"
   ]
  },
  {
   "cell_type": "code",
   "execution_count": null,
   "id": "077ad082",
   "metadata": {},
   "outputs": [],
   "source": [
    "# operations that are possible in float\n",
    "- arithmatic op\n",
    "- comparison\n",
    "- equality\n",
    "- logical\n",
    "- identity op\n",
    "- compound op except bitwise\n",
    "\n",
    "\n",
    "# op that are not possible in float\n",
    "- bitwsie\n",
    "\n",
    "# object reusabilty - not possible"
   ]
  },
  {
   "cell_type": "code",
   "execution_count": null,
   "id": "deca1c39",
   "metadata": {},
   "outputs": [],
   "source": [
    "# complex data type\n",
    "\n",
    "- any value that can be represented in the form a+bj where a is the real and b is image"
   ]
  },
  {
   "cell_type": "code",
   "execution_count": 31,
   "id": "e2b03745",
   "metadata": {},
   "outputs": [
    {
     "name": "stdout",
     "output_type": "stream",
     "text": [
      "<class 'complex'>\n"
     ]
    }
   ],
   "source": [
    "a = 10+6j\n",
    "print(type(a))"
   ]
  },
  {
   "cell_type": "code",
   "execution_count": 32,
   "id": "38142ebc",
   "metadata": {},
   "outputs": [
    {
     "name": "stdout",
     "output_type": "stream",
     "text": [
      "10.0\n",
      "6.0\n"
     ]
    }
   ],
   "source": [
    "print(a.real)\n",
    "print(a.imag)"
   ]
  },
  {
   "cell_type": "code",
   "execution_count": null,
   "id": "31000835",
   "metadata": {},
   "outputs": [],
   "source": [
    "# operations that are possible in float\n",
    "- arithmatic op except modulo and floor\n",
    "- equality\n",
    "- logical\n",
    "- identity op\n",
    "- compound op except bitwise\n",
    "\n",
    "\n",
    "# op that are not possible in float\n",
    "- bitwsie\n",
    "- comparison\n",
    "\n",
    "# object reusabilty - not possible"
   ]
  },
  {
   "cell_type": "code",
   "execution_count": 36,
   "id": "230287eb",
   "metadata": {},
   "outputs": [
    {
     "ename": "TypeError",
     "evalue": "can't mod complex numbers.",
     "output_type": "error",
     "traceback": [
      "\u001b[0;31m---------------------------------------------------------------------------\u001b[0m",
      "\u001b[0;31mTypeError\u001b[0m                                 Traceback (most recent call last)",
      "Input \u001b[0;32mIn [36]\u001b[0m, in \u001b[0;36m<cell line: 4>\u001b[0;34m()\u001b[0m\n\u001b[1;32m      1\u001b[0m a \u001b[38;5;241m=\u001b[39m \u001b[38;5;241m10\u001b[39m\u001b[38;5;241m+\u001b[39m\u001b[38;5;241m6\u001b[39mj\n\u001b[1;32m      2\u001b[0m b \u001b[38;5;241m=\u001b[39m \u001b[38;5;241m11\u001b[39m\u001b[38;5;241m+\u001b[39m\u001b[38;5;241m7\u001b[39mj\n\u001b[0;32m----> 4\u001b[0m \u001b[43ma\u001b[49m\u001b[38;5;241;43m%\u001b[39;49m\u001b[43mb\u001b[49m\n",
      "\u001b[0;31mTypeError\u001b[0m: can't mod complex numbers."
     ]
    }
   ],
   "source": [
    "a = 10+6j\n",
    "b = 11+7j\n",
    "\n",
    "a%b"
   ]
  },
  {
   "cell_type": "code",
   "execution_count": null,
   "id": "ad0aaf01",
   "metadata": {},
   "outputs": [],
   "source": [
    "# bool data type\n",
    "\n",
    "True --> 1\n",
    "False --> 0"
   ]
  },
  {
   "cell_type": "code",
   "execution_count": 37,
   "id": "f412cd73",
   "metadata": {},
   "outputs": [
    {
     "name": "stdout",
     "output_type": "stream",
     "text": [
      "<class 'bool'>\n"
     ]
    }
   ],
   "source": [
    "a= True\n",
    "print(type(a))"
   ]
  },
  {
   "cell_type": "code",
   "execution_count": null,
   "id": "8d910fb7",
   "metadata": {},
   "outputs": [],
   "source": [
    "# String Data type\n",
    "\n",
    "anyhting that can be wriiten inside a '..' , \"..\" , '''..'''"
   ]
  },
  {
   "cell_type": "code",
   "execution_count": 38,
   "id": "3dc70f8b",
   "metadata": {},
   "outputs": [
    {
     "name": "stdout",
     "output_type": "stream",
     "text": [
      "python\n",
      "python\n",
      "pyhton\n"
     ]
    }
   ],
   "source": [
    "a = 'python'\n",
    "b = \"python\"\n",
    "c = '''pyhton'''\n",
    "\n",
    "print(a)\n",
    "print(b)\n",
    "print(c)"
   ]
  },
  {
   "cell_type": "code",
   "execution_count": 39,
   "id": "4d3918d2",
   "metadata": {},
   "outputs": [
    {
     "ename": "SyntaxError",
     "evalue": "invalid syntax (2060961163.py, line 1)",
     "output_type": "error",
     "traceback": [
      "\u001b[0;36m  Input \u001b[0;32mIn [39]\u001b[0;36m\u001b[0m\n\u001b[0;31m    a = 'python's'\u001b[0m\n\u001b[0m                ^\u001b[0m\n\u001b[0;31mSyntaxError\u001b[0m\u001b[0;31m:\u001b[0m invalid syntax\n"
     ]
    }
   ],
   "source": [
    "a = 'python's'\n",
    "print(a)"
   ]
  },
  {
   "cell_type": "code",
   "execution_count": 40,
   "id": "fefc70ca",
   "metadata": {},
   "outputs": [
    {
     "name": "stdout",
     "output_type": "stream",
     "text": [
      "python's\n"
     ]
    }
   ],
   "source": [
    "a = \"python's\"\n",
    "print(a)"
   ]
  },
  {
   "cell_type": "code",
   "execution_count": 42,
   "id": "122c089e",
   "metadata": {},
   "outputs": [
    {
     "name": "stdout",
     "output_type": "stream",
     "text": [
      "python\"s\n"
     ]
    }
   ],
   "source": [
    "a = 'python\"s'\n",
    "print(a)"
   ]
  },
  {
   "cell_type": "code",
   "execution_count": 44,
   "id": "4afb5fde",
   "metadata": {},
   "outputs": [],
   "source": [
    "a = '''python\n",
    "hello\n",
    "world'''"
   ]
  },
  {
   "cell_type": "code",
   "execution_count": 45,
   "id": "d57ee774",
   "metadata": {},
   "outputs": [
    {
     "name": "stdout",
     "output_type": "stream",
     "text": [
      "python\n",
      "hello\n",
      "world\n"
     ]
    }
   ],
   "source": [
    "print(a)"
   ]
  },
  {
   "cell_type": "markdown",
   "id": "e55bc266",
   "metadata": {},
   "source": [
    "# Special charac\n",
    "\n"
   ]
  },
  {
   "cell_type": "code",
   "execution_count": 46,
   "id": "12042761",
   "metadata": {},
   "outputs": [
    {
     "name": "stdout",
     "output_type": "stream",
     "text": [
      "leanbay\n",
      "classes\n"
     ]
    }
   ],
   "source": [
    "# \\n - new line\n",
    "\n",
    "print('leanbay\\nclasses')"
   ]
  },
  {
   "cell_type": "code",
   "execution_count": 47,
   "id": "21b4db74",
   "metadata": {},
   "outputs": [
    {
     "name": "stdout",
     "output_type": "stream",
     "text": [
      "python's\n"
     ]
    }
   ],
   "source": [
    "# \\\n",
    "\n",
    "a = 'python\\'s'\n",
    "print(a)"
   ]
  },
  {
   "cell_type": "code",
   "execution_count": 60,
   "id": "63a27fb4",
   "metadata": {},
   "outputs": [
    {
     "name": "stdout",
     "output_type": "stream",
     "text": [
      "python\"s\n"
     ]
    }
   ],
   "source": [
    "a = \"python\\\"s\"\n",
    "print(a)"
   ]
  },
  {
   "cell_type": "code",
   "execution_count": 49,
   "id": "c047d48b",
   "metadata": {},
   "outputs": [
    {
     "name": "stdout",
     "output_type": "stream",
     "text": [
      "leanbay\\nclasses\n"
     ]
    }
   ],
   "source": [
    "print('leanbay\\\\nclasses')"
   ]
  },
  {
   "cell_type": "code",
   "execution_count": 50,
   "id": "6611d68c",
   "metadata": {},
   "outputs": [
    {
     "name": "stdout",
     "output_type": "stream",
     "text": [
      "abc\babc\n"
     ]
    }
   ],
   "source": [
    "# \\b - backspcae\n",
    "\n",
    "print('abc\\babc')"
   ]
  },
  {
   "cell_type": "code",
   "execution_count": 51,
   "id": "8bed446d",
   "metadata": {},
   "outputs": [
    {
     "name": "stdout",
     "output_type": "stream",
     "text": [
      "ab\bc\n"
     ]
    }
   ],
   "source": [
    "print('ab' + '\\b' + 'c')"
   ]
  },
  {
   "cell_type": "code",
   "execution_count": 54,
   "id": "aeecabed",
   "metadata": {},
   "outputs": [
    {
     "name": "stdout",
     "output_type": "stream",
     "text": [
      "afsan\tkhan\n"
     ]
    }
   ],
   "source": [
    "# \\t - tab\n",
    "\n",
    "print('afsan\\tkhan')"
   ]
  },
  {
   "cell_type": "code",
   "execution_count": 55,
   "id": "10afedeb",
   "metadata": {},
   "outputs": [
    {
     "name": "stdout",
     "output_type": "stream",
     "text": [
      "afsan\\tkhan\n"
     ]
    }
   ],
   "source": [
    "#r - raw string\n",
    "\n",
    "print(r'afsan\\\\tkhan')"
   ]
  },
  {
   "cell_type": "code",
   "execution_count": 58,
   "id": "6778c32d",
   "metadata": {},
   "outputs": [
    {
     "name": "stdout",
     "output_type": "stream",
     "text": [
      "prachi\\bpatel\\n\n"
     ]
    }
   ],
   "source": [
    "print(r'prachi\\bpatel\\n')"
   ]
  },
  {
   "cell_type": "code",
   "execution_count": null,
   "id": "35fb7b61",
   "metadata": {},
   "outputs": [],
   "source": [
    "Declare an int value and store it in a variable.\n",
    "Check the type and print the id of the same.\n",
    "\n"
   ]
  }
 ],
 "metadata": {
  "kernelspec": {
   "display_name": "Python 3 (ipykernel)",
   "language": "python",
   "name": "python3"
  },
  "language_info": {
   "codemirror_mode": {
    "name": "ipython",
    "version": 3
   },
   "file_extension": ".py",
   "mimetype": "text/x-python",
   "name": "python",
   "nbconvert_exporter": "python",
   "pygments_lexer": "ipython3",
   "version": "3.9.12"
  }
 },
 "nbformat": 4,
 "nbformat_minor": 5
}
