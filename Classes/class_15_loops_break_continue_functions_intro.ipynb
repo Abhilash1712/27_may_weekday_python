{
 "cells": [
  {
   "cell_type": "code",
   "execution_count": null,
   "id": "9ba75168",
   "metadata": {},
   "outputs": [],
   "source": [
    "- for loop\n",
    "- while loop"
   ]
  },
  {
   "cell_type": "code",
   "execution_count": null,
   "id": "40596b8f",
   "metadata": {},
   "outputs": [],
   "source": [
    "- for loop\n",
    "\n",
    "- for fixed iteraion we use for loop\n",
    "\n",
    "syntax - for var in iterable:\n",
    "            statment1\n",
    "            statment2"
   ]
  },
  {
   "cell_type": "code",
   "execution_count": 1,
   "id": "1b52fd7b",
   "metadata": {},
   "outputs": [
    {
     "name": "stdout",
     "output_type": "stream",
     "text": [
      "m\n",
      "e\n",
      "s\n",
      "s\n",
      "i\n"
     ]
    }
   ],
   "source": [
    "a = ['messi','ronaldo','virat']\n",
    "\n",
    "for i in a[0]:\n",
    "    print(i)"
   ]
  },
  {
   "cell_type": "code",
   "execution_count": null,
   "id": "1d8f97e7",
   "metadata": {},
   "outputs": [],
   "source": [
    "# while loop\n",
    "\n",
    "- if we do not know the number of iterations\n",
    "- if we want to start/stop the loop based on the some condition\n",
    "\n",
    "\n",
    "1. intilization\n",
    "2. condition checking\n",
    "3. inc/dec"
   ]
  },
  {
   "cell_type": "code",
   "execution_count": 2,
   "id": "a7178f46",
   "metadata": {},
   "outputs": [
    {
     "name": "stdout",
     "output_type": "stream",
     "text": [
      "afsan\n",
      "afsan\n",
      "afsan\n",
      "afsan\n",
      "afsan\n",
      "afsan\n",
      "afsan\n",
      "afsan\n",
      "afsan\n",
      "afsan\n"
     ]
    }
   ],
   "source": [
    "i=0 # intilization\n",
    "while i<10: # condition checking\n",
    "    print('afsan')\n",
    "    i+=1 #inc"
   ]
  },
  {
   "cell_type": "code",
   "execution_count": null,
   "id": "7da8129e",
   "metadata": {},
   "outputs": [],
   "source": [
    "'python'\n",
    "\n",
    "p\n",
    "yy\n",
    "ttt\n",
    "hhhh\n",
    "ooooo\n",
    "nnnnnn\n",
    "\n",
    "# for\n",
    "\n",
    "# while"
   ]
  },
  {
   "cell_type": "code",
   "execution_count": 3,
   "id": "8c401b57",
   "metadata": {},
   "outputs": [
    {
     "name": "stdout",
     "output_type": "stream",
     "text": [
      "p\n",
      "yy\n",
      "ttt\n",
      "hhhh\n",
      "ooooo\n",
      "nnnnnn\n"
     ]
    }
   ],
   "source": [
    "data = 'python'\n",
    "print(p*1)\n",
    "print(y*2)\n",
    "print(t*3)\n",
    "print(data[3]*4)\n",
    "print(data[4]*5)\n",
    "print(data[5]*6)"
   ]
  },
  {
   "cell_type": "code",
   "execution_count": 4,
   "id": "abfb0f66",
   "metadata": {},
   "outputs": [
    {
     "name": "stdout",
     "output_type": "stream",
     "text": [
      "p\n",
      "yy\n",
      "ttt\n",
      "hhhh\n",
      "ooooo\n",
      "nnnnnn\n"
     ]
    }
   ],
   "source": [
    "for i in range(0,6):\n",
    "    print(data[i]*(i+1))"
   ]
  },
  {
   "cell_type": "code",
   "execution_count": 5,
   "id": "cc10e9ce",
   "metadata": {},
   "outputs": [
    {
     "name": "stdout",
     "output_type": "stream",
     "text": [
      "p\n",
      "yy\n",
      "ttt\n",
      "hhhh\n",
      "ooooo\n",
      "nnnnnn\n"
     ]
    }
   ],
   "source": [
    "i=0\n",
    "while i<6:\n",
    "    print(data[i]*(i+1))\n",
    "    i+=1"
   ]
  },
  {
   "cell_type": "code",
   "execution_count": null,
   "id": "b8901386",
   "metadata": {},
   "outputs": [],
   "source": [
    "for i in range(0,6):\n",
    "    print(data[i]*(i+1))"
   ]
  },
  {
   "cell_type": "code",
   "execution_count": null,
   "id": "459c4185",
   "metadata": {},
   "outputs": [],
   "source": [
    "# Break\n",
    "\n",
    "this keyword is used to break out of the loop"
   ]
  },
  {
   "cell_type": "code",
   "execution_count": 6,
   "id": "47ab6b64",
   "metadata": {},
   "outputs": [
    {
     "name": "stdout",
     "output_type": "stream",
     "text": [
      "0\n",
      "1\n",
      "2\n",
      "3\n"
     ]
    }
   ],
   "source": [
    "for i in range(9):\n",
    "    if i>3:\n",
    "        break\n",
    "    print(i)"
   ]
  },
  {
   "cell_type": "code",
   "execution_count": 8,
   "id": "e6a43c87",
   "metadata": {},
   "outputs": [
    {
     "name": "stdout",
     "output_type": "stream",
     "text": [
      "1\n",
      "2\n",
      "3\n"
     ]
    }
   ],
   "source": [
    "i=0\n",
    "while i<9:\n",
    "    if i==3:\n",
    "        break\n",
    "    i+=1\n",
    "    print(i)"
   ]
  },
  {
   "cell_type": "code",
   "execution_count": null,
   "id": "a795af0e",
   "metadata": {},
   "outputs": [],
   "source": [
    "# Continue\n",
    "\n",
    "this keyword is used to end the current iteration in a loop, and continues the next iteration"
   ]
  },
  {
   "cell_type": "code",
   "execution_count": null,
   "id": "d0029fee",
   "metadata": {},
   "outputs": [],
   "source": [
    "for i in range(9):\n",
    "    if i>3:\n",
    "        break\n",
    "    print(i)\n",
    "print('bye')"
   ]
  },
  {
   "cell_type": "code",
   "execution_count": 9,
   "id": "a6731daf",
   "metadata": {},
   "outputs": [
    {
     "name": "stdout",
     "output_type": "stream",
     "text": [
      "0\n",
      "1\n",
      "2\n",
      "3\n"
     ]
    }
   ],
   "source": [
    "for i in range(9):\n",
    "    if i>3:\n",
    "        continue\n",
    "    print(i)"
   ]
  },
  {
   "cell_type": "code",
   "execution_count": 10,
   "id": "5f7d8ca4",
   "metadata": {},
   "outputs": [
    {
     "name": "stdout",
     "output_type": "stream",
     "text": [
      "1\n",
      "3\n",
      "5\n",
      "7\n"
     ]
    }
   ],
   "source": [
    "for i in range(9):\n",
    "    if i%2==0:\n",
    "        continue\n",
    "    print(i)"
   ]
  },
  {
   "cell_type": "code",
   "execution_count": null,
   "id": "665fb50b",
   "metadata": {},
   "outputs": [],
   "source": [
    "for iteration1 i = 0\n",
    "    True\n",
    "    continue\n",
    "for iteraion 2 i=1\n",
    "    False\n",
    "    1\n",
    "for iter 3 i=2\n",
    "    True"
   ]
  },
  {
   "cell_type": "code",
   "execution_count": 11,
   "id": "f7b72a00",
   "metadata": {},
   "outputs": [
    {
     "name": "stdout",
     "output_type": "stream",
     "text": [
      "0\n",
      "1\n",
      "0\n",
      "1\n",
      "0\n",
      "1\n"
     ]
    }
   ],
   "source": [
    "# nestes loop\n",
    "\n",
    "for i in range(3):\n",
    "    for j in range(2):\n",
    "        print(j)"
   ]
  },
  {
   "cell_type": "code",
   "execution_count": null,
   "id": "4508a298",
   "metadata": {},
   "outputs": [],
   "source": [
    "i = 0\n",
    "    j=0\n",
    "    0\n",
    "    j=1\n",
    "    1\n",
    "i = 1\n",
    "    j=0\n",
    "    0\n",
    "    j=1\n",
    "    1\n",
    "i = 2\n",
    "    j=0\n",
    "    0\n",
    "    j=1\n",
    "    1    "
   ]
  },
  {
   "cell_type": "code",
   "execution_count": 13,
   "id": "ee3d96d6",
   "metadata": {},
   "outputs": [
    {
     "name": "stdout",
     "output_type": "stream",
     "text": [
      "0 0\n",
      "1 2\n",
      "2 2\n"
     ]
    }
   ],
   "source": [
    "for i in range(3):\n",
    "    for j in range(3):\n",
    "        if i==0:\n",
    "            break\n",
    "    print(i,j)   "
   ]
  },
  {
   "cell_type": "code",
   "execution_count": null,
   "id": "a4477cf0",
   "metadata": {},
   "outputs": [],
   "source": [
    "for iter 1 i=0\n",
    "    for iter 1 j=0\n",
    "        True\n",
    "    0,0\n",
    "    \n",
    "for iter 2 i=1\n",
    "    for iter 1 j=0\n",
    "        False\n",
    "    for iter 2 j=1\n",
    "        False\n",
    "    for iter 2 j=2\n",
    "        False\n",
    "    1,2"
   ]
  },
  {
   "cell_type": "code",
   "execution_count": null,
   "id": "0c7b2383",
   "metadata": {},
   "outputs": [],
   "source": [
    "for j in range(3):\n",
    "        if i==0:\n",
    "            break\n",
    "print(i,j)"
   ]
  },
  {
   "cell_type": "code",
   "execution_count": null,
   "id": "2897e48e",
   "metadata": {},
   "outputs": [],
   "source": [
    "names = ['divya','debdutaa','afsan', 'badaraiah','nithin','sagar','abhishek','Roy','Anshu','beeram']\n",
    "\n",
    "print all the names that does not start with a"
   ]
  },
  {
   "cell_type": "code",
   "execution_count": 16,
   "id": "81f6633c",
   "metadata": {},
   "outputs": [
    {
     "name": "stdout",
     "output_type": "stream",
     "text": [
      "divya\n",
      "debdutaa\n",
      "badaraiah\n",
      "nithin\n",
      "sagar\n",
      "Roy\n",
      "beeram\n"
     ]
    }
   ],
   "source": [
    "names = ['divya','debdutaa','afsan', 'badaraiah','nithin','sagar','abhishek','Roy','Anshu','beeram']\n",
    "for i in names:\n",
    "    if i[0].lower() == 'a':\n",
    "        continue\n",
    "    print(i)"
   ]
  },
  {
   "cell_type": "code",
   "execution_count": 17,
   "id": "6ab637ac",
   "metadata": {},
   "outputs": [
    {
     "ename": "SyntaxError",
     "evalue": "invalid syntax (2387215058.py, line 2)",
     "output_type": "error",
     "traceback": [
      "\u001b[0;36m  Input \u001b[0;32mIn [17]\u001b[0;36m\u001b[0m\n\u001b[0;31m    for i in names:\u001b[0m\n\u001b[0m    ^\u001b[0m\n\u001b[0;31mSyntaxError\u001b[0m\u001b[0;31m:\u001b[0m invalid syntax\n"
     ]
    }
   ],
   "source": [
    "names = ['divya','debdutaa','afsan', 'badaraiah','nithin','sagar','abhishek','Roy','Anshu']\n",
    "for i in names:\n",
    "    if i[0].lower() == 'a'\n",
    "        continue\n",
    "    print(i)"
   ]
  },
  {
   "cell_type": "code",
   "execution_count": 19,
   "id": "3754214d",
   "metadata": {},
   "outputs": [
    {
     "name": "stdout",
     "output_type": "stream",
     "text": [
      "divya\n",
      "debdutaa\n",
      "badaraiah\n",
      "nithin\n",
      "sagar\n",
      "Roy\n",
      "Anshu\n",
      "beeram\n"
     ]
    }
   ],
   "source": [
    "names = ['divya','debdutaa','afsan', 'badaraiah','nithin','sagar','abhishek','Roy','Anshu','beeram']\n",
    "\n",
    "for i in names:\n",
    "    if i[0]=='a':\n",
    "      continue\n",
    "    print(i)"
   ]
  },
  {
   "cell_type": "code",
   "execution_count": null,
   "id": "5a51d66e",
   "metadata": {},
   "outputs": [],
   "source": [
    "a = 'python'\n",
    "\n",
    "nnnnnn\n",
    "ooooo\n",
    "hhhh\n",
    "ttt\n",
    "yy\n",
    "p"
   ]
  },
  {
   "cell_type": "code",
   "execution_count": 21,
   "id": "b6113dc9",
   "metadata": {},
   "outputs": [
    {
     "name": "stdout",
     "output_type": "stream",
     "text": [
      "nnnnnn\n",
      "ooooo\n",
      "hhhh\n",
      "ttt\n",
      "yy\n",
      "p\n"
     ]
    }
   ],
   "source": [
    "a = 'python'\n",
    "print(a[5]*6)\n",
    "print(a[4]*5)\n",
    "print(a[3]*4)\n",
    "print(a[2]*3)\n",
    "print(a[1]*2)\n",
    "print(a[0]*1)"
   ]
  },
  {
   "cell_type": "code",
   "execution_count": 22,
   "id": "91b7d095",
   "metadata": {},
   "outputs": [
    {
     "name": "stdout",
     "output_type": "stream",
     "text": [
      "nnnnnn\n",
      "ooooo\n",
      "hhhh\n",
      "ttt\n",
      "yy\n",
      "p\n"
     ]
    }
   ],
   "source": [
    "for i in range(6,0,-1):\n",
    "    print(a[i-1]*i)"
   ]
  },
  {
   "cell_type": "code",
   "execution_count": 24,
   "id": "3af6e398",
   "metadata": {},
   "outputs": [
    {
     "name": "stdout",
     "output_type": "stream",
     "text": [
      "nnnnnn\n",
      "ooooo\n",
      "hhhh\n",
      "ttt\n",
      "yy\n",
      "p\n"
     ]
    }
   ],
   "source": [
    "i=6\n",
    "while i>0:\n",
    "    print(a[i-1]*i)\n",
    "    i-=1"
   ]
  },
  {
   "cell_type": "code",
   "execution_count": 25,
   "id": "a60324c0",
   "metadata": {},
   "outputs": [
    {
     "name": "stdout",
     "output_type": "stream",
     "text": [
      "0\n",
      "1\n",
      "2\n"
     ]
    }
   ],
   "source": [
    "for i in range(9):\n",
    "    if i == 3:\n",
    "        break\n",
    "    print(i)\n",
    "else:\n",
    "    print('reached here')"
   ]
  },
  {
   "cell_type": "code",
   "execution_count": 26,
   "id": "17eb447a",
   "metadata": {},
   "outputs": [
    {
     "name": "stdout",
     "output_type": "stream",
     "text": [
      "3\n",
      "4\n",
      "5\n",
      "6\n",
      "7\n",
      "8\n",
      "reached here\n"
     ]
    }
   ],
   "source": [
    "for i in range(9):\n",
    "    if i < 3:\n",
    "        continue\n",
    "    print(i)\n",
    "else:\n",
    "    print('reached here')"
   ]
  },
  {
   "cell_type": "code",
   "execution_count": null,
   "id": "5fdd43e6",
   "metadata": {},
   "outputs": [],
   "source": [
    "[1,2,3,4]"
   ]
  },
  {
   "cell_type": "code",
   "execution_count": null,
   "id": "91ae7f40",
   "metadata": {},
   "outputs": [],
   "source": [
    "# hackerrank\n",
    "# github\n",
    "# leetcode\n",
    "# hackerearth"
   ]
  },
  {
   "cell_type": "code",
   "execution_count": null,
   "id": "4d21c28e",
   "metadata": {},
   "outputs": [],
   "source": [
    "for i in range(9):\n",
    "    if i == 3:\n",
    "        break\n",
    "    print(i)\n",
    "else:\n",
    "    print('reached here')"
   ]
  },
  {
   "cell_type": "code",
   "execution_count": null,
   "id": "8365a431",
   "metadata": {},
   "outputs": [],
   "source": [
    "[0,1,2,3,4,5,6,7,8]\n",
    "\n",
    "for iter 1 i = 0\n",
    "    false\n",
    "    0\n",
    "for iter 2 i =1\n",
    "    false\n",
    "    1\n",
    "for iter 3 i =2\n",
    "    false\n",
    "    2\n",
    "for iter 4 i =3\n",
    "    True\n",
    "    Break\n",
    "    Terminat"
   ]
  }
 ],
 "metadata": {
  "kernelspec": {
   "display_name": "Python 3 (ipykernel)",
   "language": "python",
   "name": "python3"
  },
  "language_info": {
   "codemirror_mode": {
    "name": "ipython",
    "version": 3
   },
   "file_extension": ".py",
   "mimetype": "text/x-python",
   "name": "python",
   "nbconvert_exporter": "python",
   "pygments_lexer": "ipython3",
   "version": "3.9.12"
  }
 },
 "nbformat": 4,
 "nbformat_minor": 5
}
