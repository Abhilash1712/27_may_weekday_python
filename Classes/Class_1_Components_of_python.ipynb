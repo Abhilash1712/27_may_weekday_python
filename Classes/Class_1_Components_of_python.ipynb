{
 "cells": [
  {
   "cell_type": "code",
   "execution_count": null,
   "id": "36107719",
   "metadata": {},
   "outputs": [],
   "source": [
    "# python Components\n",
    "\n",
    "1. literals\n",
    "2. Constants\n",
    "3. variables\n",
    "4. Identifiers\n",
    "5. Reserved words\n",
    "6. Statements and Expressions\n",
    "7. Blocks and indentation\n",
    "8. Comments"
   ]
  },
  {
   "cell_type": "code",
   "execution_count": null,
   "id": "cb62fe9f",
   "metadata": {},
   "outputs": [],
   "source": [
    "literals\n",
    "\n",
    "any value that you use in python \n",
    "\n",
    "so python has many typrs of literals\n",
    "\n",
    "1. int literals - any value without a decimal point is called int literals eg 10,20,-99999,+9999 , 22\n",
    "2. float literals - any value with a decimal point is called as float literals eg -999.0 , 10.99999,11.89 , 12.45\n",
    "3. string literals - anything that we write inside a '..' , \"...\" , '''...''' , \"\"\"...\"\"\" eg 'afsan', \"learnbay\"\n",
    "4. complex literals - any value that cn be wriiten in the form a+bj where a is the real and b is the imag value\n",
    "5. Bool literals - True / False\n",
    "6. None - used to represent empyt data"
   ]
  },
  {
   "cell_type": "code",
   "execution_count": null,
   "id": "a6c954ec",
   "metadata": {},
   "outputs": [],
   "source": [
    "10 - int\n",
    "11.2 - float\n",
    "'10,45' - str\n",
    "afsan - error\n",
    "true - error\n",
    "'False' - str\n",
    "None - none\n",
    "'10' - str\n",
    "'9.99' - str\n",
    "'7+6j' - str\n",
    "8+0j - complex\n",
    "'none' - str\n",
    "11.99999 - float\n",
    "-999.99 - float\n",
    "learnbay - error"
   ]
  },
  {
   "cell_type": "code",
   "execution_count": null,
   "id": "286c094a",
   "metadata": {},
   "outputs": [],
   "source": [
    "# Constants, Varibales, Indetifiers\n",
    "\n",
    "Identifier is used as the broder term\n",
    "\n",
    "constants and variables are subset of identifers\n",
    "\n",
    "Indetifiers - any name given to a func , class, varibale , constant\n",
    "\n",
    "Rules:-\n",
    "    \n",
    "    1. Allowrd characters - a-z, A-Z , 0-9 , _\n",
    "    2. Not allowed char - special char\n",
    "    3. identiferis are case sensitve\n",
    "    4. it should not start with numbers 0-9\n",
    "    5. it can be of any length\n",
    "    6. you cannot used the reserved(keywords) word"
   ]
  },
  {
   "cell_type": "code",
   "execution_count": 8,
   "id": "9d411239",
   "metadata": {},
   "outputs": [],
   "source": [
    "_100_200 = 100"
   ]
  },
  {
   "cell_type": "code",
   "execution_count": null,
   "id": "05ad022b",
   "metadata": {},
   "outputs": [],
   "source": [
    "a = 10\n",
    "\n",
    "a --> varibale\n",
    "\n",
    "= ---> operator\n",
    "\n",
    "10 ---> value"
   ]
  },
  {
   "cell_type": "code",
   "execution_count": 1,
   "id": "450d3e62",
   "metadata": {},
   "outputs": [
    {
     "name": "stdout",
     "output_type": "stream",
     "text": [
      "10\n"
     ]
    }
   ],
   "source": [
    "# 1. Allowrd characters - a-z, A-Z , 0-9 , _\n",
    "\n",
    "learnbay = 100\n",
    "a_10_11_12 = 100\n",
    "a_*12 = 100"
   ]
  },
  {
   "cell_type": "code",
   "execution_count": 4,
   "id": "bb53895e",
   "metadata": {},
   "outputs": [
    {
     "ename": "SyntaxError",
     "evalue": "cannot assign to operator (3555448885.py, line 1)",
     "output_type": "error",
     "traceback": [
      "\u001b[0;36m  Input \u001b[0;32mIn [4]\u001b[0;36m\u001b[0m\n\u001b[0;31m    a_*12 = 100\u001b[0m\n\u001b[0m    ^\u001b[0m\n\u001b[0;31mSyntaxError\u001b[0m\u001b[0;31m:\u001b[0m cannot assign to operator\n"
     ]
    }
   ],
   "source": [
    "# 2. Not allowed char - special char\n",
    "\n",
    "a_*12 = 100"
   ]
  },
  {
   "cell_type": "code",
   "execution_count": 5,
   "id": "fd6de4d9",
   "metadata": {},
   "outputs": [
    {
     "name": "stdout",
     "output_type": "stream",
     "text": [
      "10\n"
     ]
    }
   ],
   "source": [
    "# identiferis are case sensitve\n",
    "\n",
    "a = 10\n",
    "A = 20\n",
    "\n",
    "print(A)\n",
    "\n",
    "learnbay - different variable\n",
    "Learnbay - different variable"
   ]
  },
  {
   "cell_type": "code",
   "execution_count": null,
   "id": "15fbfaad",
   "metadata": {},
   "outputs": [],
   "source": [
    "# 4. it should not start with numbers 0-9\n",
    "\n",
    "abc_100\n",
    "100_abc"
   ]
  },
  {
   "cell_type": "code",
   "execution_count": 6,
   "id": "a29eb5c4",
   "metadata": {},
   "outputs": [
    {
     "name": "stdout",
     "output_type": "stream",
     "text": [
      "100\n"
     ]
    }
   ],
   "source": [
    "aaaaaaaaaaaaaaaaaaaaaaaaaaaaaaaaaaaaaaaaaaaaadasdfkasdjrklewnuceiorucnqbweoruiqeyr = 100\n",
    "\n",
    "print(aaaaaaaaaaaaaaaaaaaaaaaaaaaaaaaaaaaaaaaaaaaaadasdfkasdjrklewnuceiorucnqbweoruiqeyr)"
   ]
  },
  {
   "cell_type": "code",
   "execution_count": null,
   "id": "0b6d8c80",
   "metadata": {},
   "outputs": [],
   "source": [
    "reserved-\n",
    "\n",
    "words that are already taken by python for some internal puposes\n"
   ]
  },
  {
   "cell_type": "code",
   "execution_count": 9,
   "id": "adc82df9",
   "metadata": {},
   "outputs": [
    {
     "name": "stdout",
     "output_type": "stream",
     "text": [
      "['False', 'None', 'True', '__peg_parser__', 'and', 'as', 'assert', 'async', 'await', 'break', 'class', 'continue', 'def', 'del', 'elif', 'else', 'except', 'finally', 'for', 'from', 'global', 'if', 'import', 'in', 'is', 'lambda', 'nonlocal', 'not', 'or', 'pass', 'raise', 'return', 'try', 'while', 'with', 'yield']\n"
     ]
    }
   ],
   "source": [
    "import keyword\n",
    "print(keyword.kwlist)"
   ]
  },
  {
   "cell_type": "code",
   "execution_count": 11,
   "id": "ec93b0b0",
   "metadata": {},
   "outputs": [],
   "source": [
    "print = '100'"
   ]
  },
  {
   "cell_type": "code",
   "execution_count": 1,
   "id": "4c053cc4",
   "metadata": {},
   "outputs": [
    {
     "name": "stdout",
     "output_type": "stream",
     "text": [
      "200\n"
     ]
    }
   ],
   "source": [
    "lakshmi = 100\n",
    "lakshmi = 200\n",
    "\n",
    "print(lakshmi)"
   ]
  },
  {
   "cell_type": "code",
   "execution_count": 4,
   "id": "48f36407",
   "metadata": {},
   "outputs": [
    {
     "name": "stdout",
     "output_type": "stream",
     "text": [
      "200\n"
     ]
    }
   ],
   "source": [
    "lakshmi = 100\n",
    "Lakshmi = 200\n",
    "\n",
    "print(Lakshmi)"
   ]
  },
  {
   "cell_type": "code",
   "execution_count": 5,
   "id": "40c234f5",
   "metadata": {},
   "outputs": [],
   "source": [
    "print = 100"
   ]
  },
  {
   "cell_type": "code",
   "execution_count": null,
   "id": "9207529b",
   "metadata": {},
   "outputs": [],
   "source": [
    "print()\n",
    "\n",
    "print = 100"
   ]
  },
  {
   "cell_type": "code",
   "execution_count": 7,
   "id": "511e2715",
   "metadata": {},
   "outputs": [
    {
     "ename": "TypeError",
     "evalue": "'int' object is not callable",
     "output_type": "error",
     "traceback": [
      "\u001b[0;31m---------------------------------------------------------------------------\u001b[0m",
      "\u001b[0;31mTypeError\u001b[0m                                 Traceback (most recent call last)",
      "Input \u001b[0;32mIn [7]\u001b[0m, in \u001b[0;36m<cell line: 1>\u001b[0;34m()\u001b[0m\n\u001b[0;32m----> 1\u001b[0m \u001b[38;5;28;43mprint\u001b[39;49m\u001b[43m(\u001b[49m\u001b[38;5;28;43mprint\u001b[39;49m\u001b[43m)\u001b[49m\n",
      "\u001b[0;31mTypeError\u001b[0m: 'int' object is not callable"
     ]
    }
   ],
   "source": [
    "print(print)"
   ]
  },
  {
   "cell_type": "code",
   "execution_count": 3,
   "id": "2450b106",
   "metadata": {},
   "outputs": [],
   "source": [
    "print = 100"
   ]
  },
  {
   "cell_type": "code",
   "execution_count": 4,
   "id": "86cd1a2b",
   "metadata": {},
   "outputs": [
    {
     "ename": "TypeError",
     "evalue": "'int' object is not callable",
     "output_type": "error",
     "traceback": [
      "\u001b[0;31m---------------------------------------------------------------------------\u001b[0m",
      "\u001b[0;31mTypeError\u001b[0m                                 Traceback (most recent call last)",
      "Input \u001b[0;32mIn [4]\u001b[0m, in \u001b[0;36m<cell line: 1>\u001b[0;34m()\u001b[0m\n\u001b[0;32m----> 1\u001b[0m \u001b[38;5;28;43mprint\u001b[39;49m\u001b[43m(\u001b[49m\u001b[38;5;28;43mprint\u001b[39;49m\u001b[43m)\u001b[49m\n",
      "\u001b[0;31mTypeError\u001b[0m: 'int' object is not callable"
     ]
    }
   ],
   "source": [
    "print(print)"
   ]
  },
  {
   "cell_type": "code",
   "execution_count": null,
   "id": "d31f4561",
   "metadata": {},
   "outputs": [],
   "source": [
    "# Precatution\n",
    "\n",
    "never use predifined function of python as varibale"
   ]
  },
  {
   "cell_type": "markdown",
   "id": "6731717e",
   "metadata": {},
   "source": [
    "abc\n",
    "_messi\n",
    "07ronaldo - invalid\n",
    "_11_messi\n",
    "1_afsan - invalid\n",
    "If\n",
    "else - invalid\n",
    "Pass\n",
    "true\n",
    "__abc__\n",
    "__100__\n",
    "dasldfjkasklfhadsklfadsf\n",
    "1xakljchadsjkfhadsfakdsf - invalid\n",
    "and - invalid\n",
    "Or"
   ]
  },
  {
   "cell_type": "code",
   "execution_count": null,
   "id": "4a5a868a",
   "metadata": {},
   "outputs": [],
   "source": [
    "# statements and expressions\n",
    "\n",
    "Expression - combination of varibales and literals to give some value , if anything return you the output on the\n",
    "screen\n",
    "\n",
    "statment - if no output on the screen"
   ]
  },
  {
   "cell_type": "code",
   "execution_count": 7,
   "id": "988b36dd",
   "metadata": {},
   "outputs": [
    {
     "data": {
      "text/plain": [
       "10"
      ]
     },
     "execution_count": 7,
     "metadata": {},
     "output_type": "execute_result"
    }
   ],
   "source": [
    "10"
   ]
  },
  {
   "cell_type": "code",
   "execution_count": 8,
   "id": "8fb7ec3c",
   "metadata": {},
   "outputs": [
    {
     "data": {
      "text/plain": [
       "30"
      ]
     },
     "execution_count": 8,
     "metadata": {},
     "output_type": "execute_result"
    }
   ],
   "source": [
    "10 + 20"
   ]
  },
  {
   "cell_type": "code",
   "execution_count": 9,
   "id": "3a35a646",
   "metadata": {},
   "outputs": [],
   "source": [
    "a = 10"
   ]
  },
  {
   "cell_type": "code",
   "execution_count": 10,
   "id": "69a82551",
   "metadata": {},
   "outputs": [],
   "source": [
    "for i in range(10):\n",
    "    pass"
   ]
  },
  {
   "cell_type": "code",
   "execution_count": null,
   "id": "5ec3c509",
   "metadata": {},
   "outputs": [],
   "source": [
    "7. Blocks and indentation\n",
    "\n",
    "stat1\n",
    "stat2\n",
    "stat3\n",
    "stat4\n",
    "stat5\n",
    "stat6\n",
    "\n",
    "so pyhton will exec - 1-6 sequrntiallt"
   ]
  },
  {
   "cell_type": "code",
   "execution_count": null,
   "id": "e0ba5005",
   "metadata": {},
   "outputs": [],
   "source": [
    "stat1\n",
    "stat2\n",
    "if cond:\n",
    " stat3\n",
    " stat4\n",
    "stat5\n",
    "stat6"
   ]
  },
  {
   "cell_type": "code",
   "execution_count": 6,
   "id": "5ef2c366",
   "metadata": {},
   "outputs": [
    {
     "name": "stdout",
     "output_type": "stream",
     "text": [
      "afsan\n",
      "khan\n"
     ]
    }
   ],
   "source": [
    "#\n",
    "a = 10\n",
    "b = 20\n",
    "c = 30\n",
    "if c == 40:\n",
    "    print('afsan')\n",
    "    print('khan')\n",
    "if c == 30:\n",
    "    print('afsan')\n",
    "    print('khan')\n",
    "f = 10\n",
    "g = 10"
   ]
  },
  {
   "cell_type": "code",
   "execution_count": null,
   "id": "756b6944",
   "metadata": {},
   "outputs": [],
   "source": [
    "# comment\n",
    "\n",
    "1. helps to explain the python code\n",
    "2. it makes code more readable\n",
    "3. it helps to prevent the execution"
   ]
  },
  {
   "cell_type": "code",
   "execution_count": 7,
   "id": "af3f3ae9",
   "metadata": {},
   "outputs": [
    {
     "name": "stdout",
     "output_type": "stream",
     "text": [
      "100\n"
     ]
    }
   ],
   "source": [
    "pi = 3.14\n",
    "r = 10\n",
    "a = r*r\n",
    "print(a)"
   ]
  },
  {
   "cell_type": "code",
   "execution_count": 8,
   "id": "93d06ede",
   "metadata": {},
   "outputs": [
    {
     "name": "stdout",
     "output_type": "stream",
     "text": [
      "100\n"
     ]
    }
   ],
   "source": [
    "# area of sqaure\n",
    "\n",
    "pi = 3.14 # pi value\n",
    "r = 10 # side of sqaure\n",
    "a = r*r # area of sqaure\n",
    "print(a)"
   ]
  },
  {
   "cell_type": "code",
   "execution_count": 15,
   "id": "dd246b08",
   "metadata": {},
   "outputs": [
    {
     "name": "stdout",
     "output_type": "stream",
     "text": [
      "10\n"
     ]
    }
   ],
   "source": [
    "a = 10\n",
    "b = 20\n",
    "c = 30\n",
    "\n",
    "print(a)\n",
    "# print(b)\n",
    "# print(c)"
   ]
  },
  {
   "cell_type": "code",
   "execution_count": null,
   "id": "800e93ea",
   "metadata": {},
   "outputs": [],
   "source": []
  }
 ],
 "metadata": {
  "kernelspec": {
   "display_name": "Python 3 (ipykernel)",
   "language": "python",
   "name": "python3"
  },
  "language_info": {
   "codemirror_mode": {
    "name": "ipython",
    "version": 3
   },
   "file_extension": ".py",
   "mimetype": "text/x-python",
   "name": "python",
   "nbconvert_exporter": "python",
   "pygments_lexer": "ipython3",
   "version": "3.9.12"
  }
 },
 "nbformat": 4,
 "nbformat_minor": 5
}
