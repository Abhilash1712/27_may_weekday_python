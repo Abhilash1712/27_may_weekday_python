{
 "cells": [
  {
   "cell_type": "code",
   "execution_count": null,
   "id": "9b790ce2",
   "metadata": {},
   "outputs": [],
   "source": [
    "# how to create a dict"
   ]
  },
  {
   "cell_type": "code",
   "execution_count": 1,
   "id": "6232fa78",
   "metadata": {},
   "outputs": [
    {
     "name": "stdout",
     "output_type": "stream",
     "text": [
      "{'emp1': {'name': 'Afasn', 'id': 7408}}\n"
     ]
    }
   ],
   "source": [
    "# 1. we already know the element\n",
    "\n",
    "employee_data = {'emp1':{\"name\":'Afasn', 'id':7408}}\n",
    "print(employee_data)"
   ]
  },
  {
   "cell_type": "code",
   "execution_count": 2,
   "id": "52503cd8",
   "metadata": {},
   "outputs": [
    {
     "name": "stdout",
     "output_type": "stream",
     "text": [
      "enter the dic{'emp1':{\"name\":'Afasn', 'id':7408}}\n",
      "{'emp1': {'name': 'Afasn', 'id': 7408}} <class 'dict'>\n"
     ]
    }
   ],
   "source": [
    "# 2. eval - taking user input\n",
    "\n",
    "data = eval(input('enter the dic'))\n",
    "print(data, type(data))"
   ]
  },
  {
   "cell_type": "code",
   "execution_count": 3,
   "id": "ab7b6368",
   "metadata": {},
   "outputs": [
    {
     "data": {
      "text/plain": [
       "{'emp1': 'afsan', 'emp2': 'sahana', 'emp3': 'milind'}"
      ]
     },
     "execution_count": 3,
     "metadata": {},
     "output_type": "execute_result"
    }
   ],
   "source": [
    "# type casting\n",
    "\"\"\"\n",
    "dict function takes a seq of inner seq where inner seq will have pair of values and out of the pair the first \n",
    "value will be key and second will be the value\n",
    "\n",
    "\"\"\"\n",
    "\n",
    "a = [('emp1','afsan'),('emp2','sahana'),('emp3','milind')]\n",
    "dict(a)"
   ]
  },
  {
   "cell_type": "code",
   "execution_count": 7,
   "id": "344364a3",
   "metadata": {},
   "outputs": [
    {
     "data": {
      "text/plain": [
       "{'emp1': 'afsan', 'emp2': 'messi'}"
      ]
     },
     "execution_count": 7,
     "metadata": {},
     "output_type": "execute_result"
    }
   ],
   "source": [
    "# zip funciton\n",
    "\n",
    "list1 = ['emp1' , 'emp2' , 'emp3'] \n",
    "list2 = ['afsan' , 'messi'] \n",
    "\n",
    "# syntax - zip(iter1, iter2)\n",
    "\n",
    "dict(zip(list1,list2))"
   ]
  },
  {
   "cell_type": "code",
   "execution_count": 9,
   "id": "70a571d0",
   "metadata": {},
   "outputs": [
    {
     "name": "stdout",
     "output_type": "stream",
     "text": [
      "['__class__', '__class_getitem__', '__contains__', '__delattr__', '__delitem__', '__dir__', '__doc__', '__eq__', '__format__', '__ge__', '__getattribute__', '__getitem__', '__gt__', '__hash__', '__init__', '__init_subclass__', '__ior__', '__iter__', '__le__', '__len__', '__lt__', '__ne__', '__new__', '__or__', '__reduce__', '__reduce_ex__', '__repr__', '__reversed__', '__ror__', '__setattr__', '__setitem__', '__sizeof__', '__str__', '__subclasshook__', 'clear', 'copy', 'fromkeys', 'get', 'items', 'keys', 'pop', 'popitem', 'setdefault', 'update', 'values']\n"
     ]
    }
   ],
   "source": [
    "# methods on dict\n",
    "\n",
    "print(dir(dict))"
   ]
  },
  {
   "cell_type": "code",
   "execution_count": null,
   "id": "183e5e35",
   "metadata": {},
   "outputs": [],
   "source": [
    "# methods to add and access the element from the dict"
   ]
  },
  {
   "cell_type": "code",
   "execution_count": 10,
   "id": "8a1e0280",
   "metadata": {},
   "outputs": [],
   "source": [
    "employee_data = {'emp1':{'name':'afsan' , 'roll no':654, 'email':'abc@gmail.com'},\n",
    "                  'emp2':{'name':'rahul' , 'roll no':123, 'email':'xyz@gmail.com'}}"
   ]
  },
  {
   "cell_type": "code",
   "execution_count": 15,
   "id": "79ea1787",
   "metadata": {},
   "outputs": [
    {
     "ename": "KeyError",
     "evalue": "'emp3'",
     "output_type": "error",
     "traceback": [
      "\u001b[0;31m---------------------------------------------------------------------------\u001b[0m",
      "\u001b[0;31mKeyError\u001b[0m                                  Traceback (most recent call last)",
      "Input \u001b[0;32mIn [15]\u001b[0m, in \u001b[0;36m<cell line: 3>\u001b[0;34m()\u001b[0m\n\u001b[1;32m      1\u001b[0m \u001b[38;5;66;03m# access the roll number of employee 1\u001b[39;00m\n\u001b[0;32m----> 3\u001b[0m \u001b[43memployee_data\u001b[49m\u001b[43m[\u001b[49m\u001b[38;5;124;43m'\u001b[39;49m\u001b[38;5;124;43memp3\u001b[39;49m\u001b[38;5;124;43m'\u001b[39;49m\u001b[43m]\u001b[49m[\u001b[38;5;124m'\u001b[39m\u001b[38;5;124mroll no\u001b[39m\u001b[38;5;124m'\u001b[39m]\n",
      "\u001b[0;31mKeyError\u001b[0m: 'emp3'"
     ]
    }
   ],
   "source": [
    "# access the roll number of employee 1\n",
    "\n",
    "employee_data['emp3']['roll no']"
   ]
  },
  {
   "cell_type": "code",
   "execution_count": null,
   "id": "109cc506",
   "metadata": {},
   "outputs": [],
   "source": [
    "1. get\n",
    "2. set deafult\n",
    "3. update"
   ]
  },
  {
   "cell_type": "code",
   "execution_count": null,
   "id": "d5556c73",
   "metadata": {},
   "outputs": [],
   "source": [
    "# 1. get\n",
    "\n",
    "if the key is present it returns the value, else default value"
   ]
  },
  {
   "cell_type": "code",
   "execution_count": 13,
   "id": "230060e6",
   "metadata": {},
   "outputs": [
    {
     "data": {
      "text/plain": [
       "{'name': 'afsan', 'roll no': 654, 'email': 'abc@gmail.com'}"
      ]
     },
     "execution_count": 13,
     "metadata": {},
     "output_type": "execute_result"
    }
   ],
   "source": [
    "# a.) key is present\n",
    "\n",
    "employee_data = {'emp1':{'name':'afsan' , 'roll no':654, 'email':'abc@gmail.com'},\n",
    "                  'emp2':{'name':'rahul' , 'roll no':123, 'email':'xyz@gmail.com'}}\n",
    "\n",
    "employee_data.get('emp1')"
   ]
  },
  {
   "cell_type": "code",
   "execution_count": 14,
   "id": "2335e1b1",
   "metadata": {},
   "outputs": [
    {
     "name": "stdout",
     "output_type": "stream",
     "text": [
      "None\n"
     ]
    }
   ],
   "source": [
    "# b,) key is not presnet\n",
    "\n",
    "print(employee_data.get('emp3'))"
   ]
  },
  {
   "cell_type": "code",
   "execution_count": 17,
   "id": "1f191adc",
   "metadata": {},
   "outputs": [
    {
     "data": {
      "text/plain": [
       "'key is not present'"
      ]
     },
     "execution_count": 17,
     "metadata": {},
     "output_type": "execute_result"
    }
   ],
   "source": [
    "# customise the deafult value\n",
    "employee_data.get('emp3','key is not present')"
   ]
  },
  {
   "cell_type": "code",
   "execution_count": 18,
   "id": "5bf03376",
   "metadata": {},
   "outputs": [
    {
     "data": {
      "text/plain": [
       "{'name': 'rahul', 'roll no': 123, 'email': 'xyz@gmail.com'}"
      ]
     },
     "execution_count": 18,
     "metadata": {},
     "output_type": "execute_result"
    }
   ],
   "source": [
    "employee_data.get('emp2','key is not present')"
   ]
  },
  {
   "cell_type": "code",
   "execution_count": 20,
   "id": "0aaa12b5",
   "metadata": {},
   "outputs": [
    {
     "data": {
      "text/plain": [
       "'key is not presnet'"
      ]
     },
     "execution_count": 20,
     "metadata": {},
     "output_type": "execute_result"
    }
   ],
   "source": [
    "employee_data.get('emp2','key is not present').get('roll noo' , 'key is not presnet')"
   ]
  },
  {
   "cell_type": "code",
   "execution_count": null,
   "id": "dadc4001",
   "metadata": {},
   "outputs": [],
   "source": [
    "2. set default\n",
    "\n",
    "\"\"\"\n",
    "inserts the key with the value of the deafult if the key is not present, else return the value of the key\n",
    "\"\"\""
   ]
  },
  {
   "cell_type": "code",
   "execution_count": 21,
   "id": "8855b4ff",
   "metadata": {},
   "outputs": [
    {
     "data": {
      "text/plain": [
       "{'name': 'afsan', 'roll no': 654, 'email': 'abc@gmail.com'}"
      ]
     },
     "execution_count": 21,
     "metadata": {},
     "output_type": "execute_result"
    }
   ],
   "source": [
    "# 1.) key is present\n",
    "\n",
    "employee_data = {'emp1':{'name':'afsan' , 'roll no':654, 'email':'abc@gmail.com'},\n",
    "                  'emp2':{'name':'rahul' , 'roll no':123, 'email':'xyz@gmail.com'}}\n",
    "\n",
    "employee_data.setdefault('emp1')"
   ]
  },
  {
   "cell_type": "code",
   "execution_count": 23,
   "id": "07c24a99",
   "metadata": {},
   "outputs": [],
   "source": [
    "# 2.) key is not present\n",
    "\n",
    "employee_data = {'emp1':{'name':'afsan' , 'roll no':654, 'email':'abc@gmail.com'},\n",
    "                  'emp2':{'name':'rahul' , 'roll no':123, 'email':'xyz@gmail.com'}}\n",
    "\n",
    "employee_data.setdefault('emp3')"
   ]
  },
  {
   "cell_type": "code",
   "execution_count": 24,
   "id": "06cdfd1c",
   "metadata": {},
   "outputs": [
    {
     "data": {
      "text/plain": [
       "{'emp1': {'name': 'afsan', 'roll no': 654, 'email': 'abc@gmail.com'},\n",
       " 'emp2': {'name': 'rahul', 'roll no': 123, 'email': 'xyz@gmail.com'},\n",
       " 'emp3': None}"
      ]
     },
     "execution_count": 24,
     "metadata": {},
     "output_type": "execute_result"
    }
   ],
   "source": [
    "employee_data"
   ]
  },
  {
   "cell_type": "code",
   "execution_count": 27,
   "id": "1badcc50",
   "metadata": {},
   "outputs": [
    {
     "data": {
      "text/plain": [
       "{'name': 'rahul', 'roll no': 123, 'email': 'xyz@gmail.com'}"
      ]
     },
     "execution_count": 27,
     "metadata": {},
     "output_type": "execute_result"
    }
   ],
   "source": [
    "employee_data = {'emp1':{'name':'afsan' , 'roll no':654, 'email':'abc@gmail.com'},\n",
    "                  'emp2':{'name':'rahul' , 'roll no':123, 'email':'xyz@gmail.com'}}\n",
    "\n",
    "employee_data.setdefault('emp3' , {'name': 'rahul', 'roll no': 123, 'email': 'xyz@gmail.com'})"
   ]
  },
  {
   "cell_type": "code",
   "execution_count": 28,
   "id": "8910d385",
   "metadata": {},
   "outputs": [
    {
     "data": {
      "text/plain": [
       "{'emp1': {'name': 'afsan', 'roll no': 654, 'email': 'abc@gmail.com'},\n",
       " 'emp2': {'name': 'rahul', 'roll no': 123, 'email': 'xyz@gmail.com'},\n",
       " 'emp3': {'name': 'rahul', 'roll no': 123, 'email': 'xyz@gmail.com'}}"
      ]
     },
     "execution_count": 28,
     "metadata": {},
     "output_type": "execute_result"
    }
   ],
   "source": [
    "employee_data"
   ]
  },
  {
   "cell_type": "code",
   "execution_count": 29,
   "id": "740bcdaf",
   "metadata": {},
   "outputs": [],
   "source": [
    "employee_data = {'emp1':{'name':'afsan' , 'roll no':654, 'email':'abc@gmail.com'},\n",
    "                  'emp2':{'name':'rahul' , 'roll no':123, 'email':'xyz@gmail.com'}}\n",
    "\n",
    "employee_data['emp3'] = {'data':'data'}"
   ]
  },
  {
   "cell_type": "code",
   "execution_count": 30,
   "id": "36aa0430",
   "metadata": {},
   "outputs": [
    {
     "data": {
      "text/plain": [
       "{'emp1': {'name': 'afsan', 'roll no': 654, 'email': 'abc@gmail.com'},\n",
       " 'emp2': {'name': 'rahul', 'roll no': 123, 'email': 'xyz@gmail.com'},\n",
       " 'emp3': {'data': 'data'}}"
      ]
     },
     "execution_count": 30,
     "metadata": {},
     "output_type": "execute_result"
    }
   ],
   "source": [
    "employee_data"
   ]
  },
  {
   "cell_type": "code",
   "execution_count": 31,
   "id": "1ec0ba97",
   "metadata": {},
   "outputs": [],
   "source": [
    "employee_data = {'emp1':{'name':'afsan' , 'roll no':654, 'email':'abc@gmail.com'},\n",
    "                  'emp2':{'name':'rahul' , 'roll no':123, 'email':'xyz@gmail.com'}}\n",
    "\n",
    "employee_data['emp2'] = {'data':'data'}"
   ]
  },
  {
   "cell_type": "code",
   "execution_count": 32,
   "id": "f95ab724",
   "metadata": {},
   "outputs": [
    {
     "data": {
      "text/plain": [
       "{'emp1': {'name': 'afsan', 'roll no': 654, 'email': 'abc@gmail.com'},\n",
       " 'emp2': {'data': 'data'}}"
      ]
     },
     "execution_count": 32,
     "metadata": {},
     "output_type": "execute_result"
    }
   ],
   "source": [
    "employee_data"
   ]
  },
  {
   "cell_type": "code",
   "execution_count": 35,
   "id": "f21aae98",
   "metadata": {},
   "outputs": [],
   "source": [
    "# 3. update\n",
    "\n",
    "\n",
    "employee_data = {'emp1':{'name':'afsan' , 'roll no':654, 'email':'abc@gmail.com'},\n",
    "                  'emp2':{'name':'rahul' , 'roll no':123, 'email':'xyz@gmail.com'}}\n",
    "\n",
    "data = {'emp3':{'name':'afsan1' , 'roll no':6543, 'email':'abc@gmail.com'},\n",
    "        'emp1':{'name':'rahul1' , 'roll no':1233, 'email':'xyz@gmail.com'}}\n",
    "\n",
    "\n",
    "employee_data.update(data)"
   ]
  },
  {
   "cell_type": "code",
   "execution_count": 36,
   "id": "b6c3d6b6",
   "metadata": {},
   "outputs": [
    {
     "data": {
      "text/plain": [
       "{'emp1': {'name': 'rahul1', 'roll no': 1233, 'email': 'xyz@gmail.com'},\n",
       " 'emp2': {'name': 'rahul', 'roll no': 123, 'email': 'xyz@gmail.com'},\n",
       " 'emp3': {'name': 'afsan1', 'roll no': 6543, 'email': 'abc@gmail.com'}}"
      ]
     },
     "execution_count": 36,
     "metadata": {},
     "output_type": "execute_result"
    }
   ],
   "source": [
    "employee_data"
   ]
  },
  {
   "cell_type": "code",
   "execution_count": null,
   "id": "37757fce",
   "metadata": {},
   "outputs": [],
   "source": [
    "# methods to delete the itesm from the dict\n",
    "\n",
    "1. pop\n",
    "2. popitem"
   ]
  },
  {
   "cell_type": "code",
   "execution_count": null,
   "id": "3916fe30",
   "metadata": {},
   "outputs": [],
   "source": [
    "# 1. pop\n",
    "\"\"\"\n",
    "removes the specified key and reuturns the corresponding value, if key is not found, deafult is returned if given\n",
    "else it will raise an error\n",
    "\"\"\""
   ]
  },
  {
   "cell_type": "code",
   "execution_count": 37,
   "id": "1ae96e9f",
   "metadata": {},
   "outputs": [
    {
     "data": {
      "text/plain": [
       "{'name': 'afsan', 'roll no': 654, 'email': 'abc@gmail.com'}"
      ]
     },
     "execution_count": 37,
     "metadata": {},
     "output_type": "execute_result"
    }
   ],
   "source": [
    "# 1.) key is present\n",
    "\n",
    "employee_data = {'emp1':{'name':'afsan' , 'roll no':654, 'email':'abc@gmail.com'},\n",
    "                  'emp2':{'name':'rahul' , 'roll no':123, 'email':'xyz@gmail.com'}}\n",
    "\n",
    "employee_data.pop('emp1')"
   ]
  },
  {
   "cell_type": "code",
   "execution_count": 38,
   "id": "b1183d34",
   "metadata": {},
   "outputs": [
    {
     "data": {
      "text/plain": [
       "{'emp2': {'name': 'rahul', 'roll no': 123, 'email': 'xyz@gmail.com'}}"
      ]
     },
     "execution_count": 38,
     "metadata": {},
     "output_type": "execute_result"
    }
   ],
   "source": [
    "employee_data"
   ]
  },
  {
   "cell_type": "code",
   "execution_count": 40,
   "id": "a6dbd723",
   "metadata": {},
   "outputs": [
    {
     "data": {
      "text/plain": [
       "'nothing to pop'"
      ]
     },
     "execution_count": 40,
     "metadata": {},
     "output_type": "execute_result"
    }
   ],
   "source": [
    "# 2.) key is not present\n",
    "\n",
    "employee_data = {'emp1':{'name':'afsan' , 'roll no':654, 'email':'abc@gmail.com'},\n",
    "                  'emp2':{'name':'rahul' , 'roll no':123, 'email':'xyz@gmail.com'}}\n",
    "\n",
    "employee_data.pop('emp3' , 'nothing to pop')"
   ]
  },
  {
   "cell_type": "code",
   "execution_count": null,
   "id": "f94d5a81",
   "metadata": {},
   "outputs": [],
   "source": [
    "2. popitem\n",
    "\n",
    "removes the last key\n",
    "return value will be a tuple - (key,value)"
   ]
  },
  {
   "cell_type": "code",
   "execution_count": 41,
   "id": "6e642b4e",
   "metadata": {},
   "outputs": [
    {
     "data": {
      "text/plain": [
       "('emp2', {'name': 'rahul', 'roll no': 123, 'email': 'xyz@gmail.com'})"
      ]
     },
     "execution_count": 41,
     "metadata": {},
     "output_type": "execute_result"
    }
   ],
   "source": [
    "employee_data = {'emp1':{'name':'afsan' , 'roll no':654, 'email':'abc@gmail.com'},\n",
    "                  'emp2':{'name':'rahul' , 'roll no':123, 'email':'xyz@gmail.com'}}\n",
    "\n",
    "employee_data.popitem()"
   ]
  },
  {
   "cell_type": "code",
   "execution_count": 42,
   "id": "22a23d19",
   "metadata": {},
   "outputs": [
    {
     "data": {
      "text/plain": [
       "{'emp1': {'name': 'afsan', 'roll no': 654, 'email': 'abc@gmail.com'}}"
      ]
     },
     "execution_count": 42,
     "metadata": {},
     "output_type": "execute_result"
    }
   ],
   "source": [
    "employee_data"
   ]
  },
  {
   "cell_type": "code",
   "execution_count": 45,
   "id": "3f5d65cd",
   "metadata": {},
   "outputs": [],
   "source": [
    "employee_data = {'emp1':{'name':'afsan' , 'roll no':654, 'email':'abc@gmail.com'},\n",
    "                  'emp2':{'name':'rahul' , 'roll no':123, 'email':'xyz@gmail.com'}}"
   ]
  },
  {
   "cell_type": "code",
   "execution_count": 46,
   "id": "e42ee768",
   "metadata": {},
   "outputs": [
    {
     "data": {
      "text/plain": [
       "('email', 'abc@gmail.com')"
      ]
     },
     "execution_count": 46,
     "metadata": {},
     "output_type": "execute_result"
    }
   ],
   "source": [
    "# remove email of emp1\n",
    "\n",
    "employee_data['emp1'].popitem()"
   ]
  },
  {
   "cell_type": "code",
   "execution_count": 47,
   "id": "34050034",
   "metadata": {},
   "outputs": [
    {
     "data": {
      "text/plain": [
       "{'emp1': {'name': 'afsan', 'roll no': 654},\n",
       " 'emp2': {'name': 'rahul', 'roll no': 123, 'email': 'xyz@gmail.com'}}"
      ]
     },
     "execution_count": 47,
     "metadata": {},
     "output_type": "execute_result"
    }
   ],
   "source": [
    "employee_data"
   ]
  },
  {
   "cell_type": "code",
   "execution_count": null,
   "id": "42c2e068",
   "metadata": {},
   "outputs": [],
   "source": []
  }
 ],
 "metadata": {
  "kernelspec": {
   "display_name": "Python 3 (ipykernel)",
   "language": "python",
   "name": "python3"
  },
  "language_info": {
   "codemirror_mode": {
    "name": "ipython",
    "version": 3
   },
   "file_extension": ".py",
   "mimetype": "text/x-python",
   "name": "python",
   "nbconvert_exporter": "python",
   "pygments_lexer": "ipython3",
   "version": "3.9.12"
  }
 },
 "nbformat": 4,
 "nbformat_minor": 5
}
