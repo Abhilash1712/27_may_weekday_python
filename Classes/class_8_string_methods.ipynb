{
 "cells": [
  {
   "cell_type": "code",
   "execution_count": 2,
   "id": "c3261390",
   "metadata": {},
   "outputs": [
    {
     "name": "stdout",
     "output_type": "stream",
     "text": [
      "['__add__', '__class__', '__contains__', '__delattr__', '__dir__', '__doc__', '__eq__', '__format__', '__ge__', '__getattribute__', '__getitem__', '__getnewargs__', '__gt__', '__hash__', '__init__', '__init_subclass__', '__iter__', '__le__', '__len__', '__lt__', '__mod__', '__mul__', '__ne__', '__new__', '__reduce__', '__reduce_ex__', '__repr__', '__rmod__', '__rmul__', '__setattr__', '__sizeof__', '__str__', '__subclasshook__', 'capitalize', 'casefold', 'center', 'count', 'encode', 'endswith', 'expandtabs', 'find', 'format', 'format_map', 'index', 'isalnum', 'isalpha', 'isascii', 'isdecimal', 'isdigit', 'isidentifier', 'islower', 'isnumeric', 'isprintable', 'isspace', 'istitle', 'isupper', 'join', 'ljust', 'lower', 'lstrip', 'maketrans', 'partition', 'removeprefix', 'removesuffix', 'replace', 'rfind', 'rindex', 'rjust', 'rpartition', 'rsplit', 'rstrip', 'split', 'splitlines', 'startswith', 'strip', 'swapcase', 'title', 'translate', 'upper', 'zfill']\n"
     ]
    }
   ],
   "source": [
    "print(dir(str))"
   ]
  },
  {
   "cell_type": "code",
   "execution_count": 11,
   "id": "535d8cbb",
   "metadata": {},
   "outputs": [
    {
     "name": "stdout",
     "output_type": "stream",
     "text": [
      "This is python class\n",
      "This is python class\n",
      "--------------------\n",
      "THIS IS PYTHON CLASS\n",
      "THIS IS PYTHON CLASS\n",
      "--------------------\n",
      "this is python class\n",
      "this is python class\n",
      "--------------------\n",
      "THIS IS PYTHON CLASS\n",
      "this IS python clASS\n",
      "--------------------\n",
      "This Is Python Class\n",
      "This Is Python Class\n"
     ]
    }
   ],
   "source": [
    "s = 'this is python class'\n",
    "s1 = 'THIS is PYTHON CLass'\n",
    "# capitalise - it capitalises the first letter of the sentence and lower case all the other letters\n",
    "print(s.capitalize())\n",
    "print(s1.capitalize())\n",
    "\n",
    "print('-'*20)\n",
    "# upper case - it converts to upper case\n",
    "print(s.upper())\n",
    "print(s1.upper())\n",
    "\n",
    "print('-'*20)\n",
    "# lower case - it converts to lower case\n",
    "print(s.lower())\n",
    "print(s1.lower())\n",
    "\n",
    "#swapcase - it converts upper to lower and lower to upper\n",
    "print('-'*20)\n",
    "print(s.swapcase())\n",
    "print(s1.swapcase())\n",
    "\n",
    "print('-'*20)\n",
    "#title - converts each words first letter to caps and rest all in lower case\n",
    "print(s.title())\n",
    "print(s1.title())"
   ]
  },
  {
   "cell_type": "code",
   "execution_count": 22,
   "id": "68d00e14",
   "metadata": {},
   "outputs": [
    {
     "data": {
      "text/plain": [
       "True"
      ]
     },
     "execution_count": 22,
     "metadata": {},
     "output_type": "execute_result"
    }
   ],
   "source": [
    "# methods which returns the bool values\n",
    "\n",
    "# 1. startswith - Returen True if string starts with the specified prefix otherwise false\n",
    "\n",
    "s = 'hello world'\n",
    "s.startswith('hE')\n",
    "s.startswith('hE', 5,10)\n",
    "s.startswith('o ', 4,10)\n",
    "\n",
    "#2 endswith - Return True if the string ends with the specified suffix otherwise false\n",
    "s = 'hello world'\n",
    "s.endswith('hE')\n",
    "s.endswith('hE',0,6)\n",
    "s.endswith('lo',0,5)"
   ]
  },
  {
   "cell_type": "code",
   "execution_count": 29,
   "id": "17cb66e9",
   "metadata": {},
   "outputs": [
    {
     "data": {
      "text/plain": [
       "False"
      ]
     },
     "execution_count": 29,
     "metadata": {},
     "output_type": "execute_result"
    }
   ],
   "source": [
    "s = 'monika singh'\n",
    "s.endswith('ngh')\n",
    "\n",
    "s = 'monika singh'\n",
    "s.endswith('in', 7)"
   ]
  },
  {
   "cell_type": "code",
   "execution_count": 35,
   "id": "6ec40712",
   "metadata": {},
   "outputs": [
    {
     "data": {
      "text/plain": [
       "False"
      ]
     },
     "execution_count": 35,
     "metadata": {},
     "output_type": "execute_result"
    }
   ],
   "source": [
    "s = 'monika singh'\n",
    "s.endswith('n', -1,-5)"
   ]
  },
  {
   "cell_type": "code",
   "execution_count": 43,
   "id": "65d760ea",
   "metadata": {},
   "outputs": [
    {
     "name": "stdout",
     "output_type": "stream",
     "text": [
      "True\n",
      "True\n",
      "False\n",
      "True\n",
      "--------------------\n",
      "True\n",
      "False\n",
      "False\n",
      "False\n",
      "--------------------\n",
      "False\n",
      "False\n",
      "False\n",
      "True\n",
      "--------------------\n",
      "True\n",
      "False\n",
      "False\n",
      "False\n",
      "--------------------\n",
      "True\n",
      "False\n",
      "False\n",
      "False\n",
      "--------------------\n",
      "True\n",
      "True\n",
      "True\n",
      "True\n",
      "False\n"
     ]
    }
   ],
   "source": [
    "s1 = 'abc'\n",
    "s2 = '123abc'\n",
    "s3 = '*'\n",
    "s4 = '112'\n",
    "\n",
    "#3. isalnum - returns true if string is wither alphabet, numeric, aplha numeric\n",
    "\n",
    "print(s1.isalnum()) #True\n",
    "print(s2.isalnum()) #True\n",
    "print(s3.isalnum()) # False\n",
    "print(s4.isalnum()) # True\n",
    "\n",
    "#4. isalpha - returns true all char are aplhabet\n",
    "print('-'*20)\n",
    "print(s1.isalpha()) #True\n",
    "print(s2.isalpha()) #False\n",
    "print(s3.isalpha()) #False\n",
    "print(s4.isalpha()) #False\n",
    "\n",
    "s1 = 'abc'\n",
    "s2 = '123abc'\n",
    "s3 = '*'\n",
    "s4 = '112'\n",
    "\n",
    "#5. isnumeric - returns true all char are numeric\n",
    "print('-'*20)\n",
    "print(s1.isnumeric()) #False\n",
    "print(s2.isnumeric()) #False\n",
    "print(s3.isnumeric()) #False\n",
    "print(s4.isnumeric()) #True\n",
    "\n",
    "#6. isidentifier - returns true if a string is a valid identifer\n",
    "print('-'*20)\n",
    "print(s1.isidentifier()) #True\n",
    "print(s2.isidentifier()) #False\n",
    "print(s3.isidentifier()) #False\n",
    "print(s4.isidentifier()) #False\n",
    "\n",
    "#7. isidentifier - returns true if a string is a valid identifer\n",
    "print('-'*20)\n",
    "print(s1.isidentifier()) #True\n",
    "print(s2.isidentifier()) #False\n",
    "print(s3.isidentifier()) #False\n",
    "print(s4.isidentifier()) #False\n",
    "\n",
    "#8. isascii - returns true if all the char are from ascii table\n",
    "print('-'*20)\n",
    "s1 = 'abc'\n",
    "s2 = '123abc'\n",
    "s3 = '*'\n",
    "s4 = '112'\n",
    "s5 = 'äbcd'\n",
    "print(s1.isascii()) #True\n",
    "print(s2.isascii()) #True\n",
    "print(s3.isascii()) #True\n",
    "print(s4.isascii()) #True\n",
    "print(s5.isascii()) #False"
   ]
  },
  {
   "cell_type": "code",
   "execution_count": null,
   "id": "74db3abf",
   "metadata": {},
   "outputs": [],
   "source": []
  }
 ],
 "metadata": {
  "kernelspec": {
   "display_name": "Python 3 (ipykernel)",
   "language": "python",
   "name": "python3"
  },
  "language_info": {
   "codemirror_mode": {
    "name": "ipython",
    "version": 3
   },
   "file_extension": ".py",
   "mimetype": "text/x-python",
   "name": "python",
   "nbconvert_exporter": "python",
   "pygments_lexer": "ipython3",
   "version": "3.9.12"
  }
 },
 "nbformat": 4,
 "nbformat_minor": 5
}
