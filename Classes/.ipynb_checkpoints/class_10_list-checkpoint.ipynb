{
 "cells": [
  {
   "cell_type": "code",
   "execution_count": null,
   "id": "d7c2d47c",
   "metadata": {},
   "outputs": [],
   "source": [
    "# properties of the list\n",
    "\n",
    "1. seq data type\n",
    "2. +ve and -ve indexing is supported\n",
    "3. allows duplicate element\n",
    "4. mutable\n",
    "5. operation - indexing, slicing, concatination, repition , membership and identity\n",
    "6. you can store any data type in a list"
   ]
  },
  {
   "cell_type": "code",
   "execution_count": 1,
   "id": "a83c5d90",
   "metadata": {},
   "outputs": [
    {
     "name": "stdout",
     "output_type": "stream",
     "text": [
      "[10, 20, 30, 40]\n"
     ]
    }
   ],
   "source": [
    "a = [10,20,30,40]\n",
    "print(a)"
   ]
  },
  {
   "cell_type": "code",
   "execution_count": 3,
   "id": "33e74139",
   "metadata": {},
   "outputs": [
    {
     "data": {
      "text/plain": [
       "40"
      ]
     },
     "execution_count": 3,
     "metadata": {},
     "output_type": "execute_result"
    }
   ],
   "source": [
    "a[-1]"
   ]
  },
  {
   "cell_type": "code",
   "execution_count": 4,
   "id": "b1e20899",
   "metadata": {},
   "outputs": [
    {
     "name": "stdout",
     "output_type": "stream",
     "text": [
      "[11, 1, 1, 1, 1, 11, 22, 33, 44, 44, 44, 44]\n"
     ]
    }
   ],
   "source": [
    "# 3. allows duplicate element\n",
    "\n",
    "a = [11,1,1,1,1,11,22,33,44,44,44,44]\n",
    "print(a)"
   ]
  },
  {
   "cell_type": "code",
   "execution_count": 6,
   "id": "4bf59bf7",
   "metadata": {},
   "outputs": [
    {
     "name": "stdout",
     "output_type": "stream",
     "text": [
      "140271782239424\n",
      "140271782239424\n",
      "[100, 2, 3, 4]\n"
     ]
    }
   ],
   "source": [
    "# 4. mutable\n",
    "\n",
    "a = [1,2,3,4]\n",
    "print(id(a))\n",
    "a[0] = 100\n",
    "print(id(a))\n",
    "print(a)"
   ]
  },
  {
   "cell_type": "code",
   "execution_count": 8,
   "id": "543b6667",
   "metadata": {},
   "outputs": [
    {
     "name": "stdout",
     "output_type": "stream",
     "text": [
      "[1, True, (6+7j), None, 1.2, 'afsan', (1, 2, 3), {1, 2}, {1: 3}]\n"
     ]
    }
   ],
   "source": [
    "# 6. you can stroe any data type in a list\n",
    "\n",
    "a = [1,True,6+7j,None,1.2,'afsan',(1,2,3),{1,2},{1:3}]\n",
    "print(a)"
   ]
  },
  {
   "cell_type": "code",
   "execution_count": 11,
   "id": "4a34fa3c",
   "metadata": {},
   "outputs": [
    {
     "name": "stdout",
     "output_type": "stream",
     "text": [
      "1\n",
      "6\n",
      "6\n"
     ]
    }
   ],
   "source": [
    "# indexing\n",
    "\n",
    "a = [1,2,3,4,5,6]\n",
    "print(a[0])\n",
    "print(a[-1])\n",
    "print(a[len(a)-1])"
   ]
  },
  {
   "cell_type": "code",
   "execution_count": 12,
   "id": "1731eb6d",
   "metadata": {},
   "outputs": [
    {
     "data": {
      "text/plain": [
       "[]"
      ]
     },
     "execution_count": 12,
     "metadata": {},
     "output_type": "execute_result"
    }
   ],
   "source": [
    "# slicing\n",
    "\n",
    "a = [1,2,3,4,5,6,7,8,9]\n",
    "a[0:5:-1]"
   ]
  },
  {
   "cell_type": "code",
   "execution_count": 13,
   "id": "d5ebf90d",
   "metadata": {},
   "outputs": [
    {
     "data": {
      "text/plain": [
       "[9, 8, 7, 6, 5, 4, 3, 2, 1]"
      ]
     },
     "execution_count": 13,
     "metadata": {},
     "output_type": "execute_result"
    }
   ],
   "source": [
    "a = [1,2,3,4,5,6,7,8,9]\n",
    "a[::-1]"
   ]
  },
  {
   "cell_type": "code",
   "execution_count": 14,
   "id": "66fbd4aa",
   "metadata": {},
   "outputs": [
    {
     "name": "stdout",
     "output_type": "stream",
     "text": [
      "[1, 2, 3, 5, 6, 7]\n"
     ]
    }
   ],
   "source": [
    "# concatination\n",
    "\"\"\"\n",
    "op = +\n",
    "operand = both should be list\n",
    "\n",
    "\"\"\"\n",
    "\n",
    "a = [1,2,3]\n",
    "b = [5,6,7]\n",
    "\n",
    "print(a+b)"
   ]
  },
  {
   "cell_type": "code",
   "execution_count": 15,
   "id": "f7837aba",
   "metadata": {},
   "outputs": [
    {
     "name": "stdout",
     "output_type": "stream",
     "text": [
      "[1, 2, 3, 4, 1, 2, 3, 4, 1, 2, 3, 4, 1, 2, 3, 4, 1, 2, 3, 4, 1, 2, 3, 4, 1, 2, 3, 4, 1, 2, 3, 4, 1, 2, 3, 4, 1, 2, 3, 4]\n"
     ]
    }
   ],
   "source": [
    "# repetition\n",
    "\"\"\"\n",
    "op - *\n",
    "operand - one should be int and other should be list\n",
    "\"\"\"\n",
    "\n",
    "a = [1,2,3,4]\n",
    "b = 10\n",
    "\n",
    "print(a*b)"
   ]
  },
  {
   "cell_type": "code",
   "execution_count": 16,
   "id": "3b98f582",
   "metadata": {},
   "outputs": [
    {
     "name": "stdout",
     "output_type": "stream",
     "text": [
      "True\n"
     ]
    }
   ],
   "source": [
    "# membership\n",
    "\"\"\"\n",
    "def -> it checks if sub seq is present or not in the seq\n",
    "return -> Bool\n",
    "op --> in and not in\n",
    "\"\"\"\n",
    "\n",
    "a = ['afsan','lakshmi','sahana','varun','venaktesh']\n",
    "print('lakshmi' in a)"
   ]
  },
  {
   "cell_type": "code",
   "execution_count": 17,
   "id": "14e7e582",
   "metadata": {},
   "outputs": [
    {
     "name": "stdout",
     "output_type": "stream",
     "text": [
      "True\n"
     ]
    }
   ],
   "source": [
    "a = ['afsan','lakshmi','sahana','varun','venaktesh']\n",
    "print('lakshmi'.replace('lakshmi','afsan') in a)"
   ]
  },
  {
   "cell_type": "code",
   "execution_count": 18,
   "id": "79f1e17f",
   "metadata": {},
   "outputs": [
    {
     "data": {
      "text/plain": [
       "'afsan'"
      ]
     },
     "execution_count": 18,
     "metadata": {},
     "output_type": "execute_result"
    }
   ],
   "source": [
    "'lakshmi'.replace('lakshmi','afsan')"
   ]
  },
  {
   "cell_type": "code",
   "execution_count": 20,
   "id": "6e87d779",
   "metadata": {},
   "outputs": [
    {
     "name": "stdout",
     "output_type": "stream",
     "text": [
      "140271782239872\n",
      "140271782137792\n",
      "False\n"
     ]
    }
   ],
   "source": [
    "# identity\n",
    "\"\"\"\n",
    "def -> it is used to compare the memory address of two varibales\n",
    "op - is and is not\n",
    "return - bool\n",
    "\"\"\"\n",
    "\n",
    "a = [1,2,3,4,5]\n",
    "print(id(a))\n",
    "b = [1,2,3,4,5]\n",
    "print(id(b))\n",
    "\n",
    "print(a is b)"
   ]
  },
  {
   "cell_type": "code",
   "execution_count": 23,
   "id": "003ed74e",
   "metadata": {},
   "outputs": [
    {
     "name": "stdout",
     "output_type": "stream",
     "text": [
      "140272021465392\n",
      "140272021465392\n"
     ]
    }
   ],
   "source": [
    "a = [1,2,3,4,5,1,1]\n",
    "\n",
    "print(id(a[0]))\n",
    "print(id(a[-1]))"
   ]
  },
  {
   "cell_type": "code",
   "execution_count": 24,
   "id": "f720e094",
   "metadata": {},
   "outputs": [
    {
     "name": "stdout",
     "output_type": "stream",
     "text": [
      "[1, 2, 3, 4, 5, [1, 2, 3, 4, 5]]\n"
     ]
    }
   ],
   "source": [
    "# nested list -> list inside a list\n",
    "\n",
    "a = [1,2,3,4,5,[1,2,3,4,5]]\n",
    "print(a)"
   ]
  },
  {
   "cell_type": "code",
   "execution_count": 27,
   "id": "44b0d6d8",
   "metadata": {},
   "outputs": [
    {
     "name": "stdout",
     "output_type": "stream",
     "text": [
      "3\n"
     ]
    }
   ],
   "source": [
    "print(a[-1][2])"
   ]
  },
  {
   "cell_type": "code",
   "execution_count": 29,
   "id": "ae290769",
   "metadata": {},
   "outputs": [
    {
     "name": "stdout",
     "output_type": "stream",
     "text": [
      "[1, 2, 3, 4, 5]\n"
     ]
    }
   ],
   "source": [
    "a = [1,2,3,4,5,[1,2,3,4,5]]\n",
    "print(a[5])"
   ]
  },
  {
   "cell_type": "code",
   "execution_count": 37,
   "id": "d42ce652",
   "metadata": {},
   "outputs": [
    {
     "name": "stdout",
     "output_type": "stream",
     "text": [
      "nasfa\n"
     ]
    }
   ],
   "source": [
    "a = [1,2,3,4,5,['afsan',2,3,4,5]]\n",
    "\n",
    "\"\"\"\n",
    "nasfa\n",
    "\"\"\"\n",
    "\n",
    "print(a[-1][0][::-1])"
   ]
  },
  {
   "cell_type": "code",
   "execution_count": 34,
   "id": "66187413",
   "metadata": {},
   "outputs": [
    {
     "data": {
      "text/plain": [
       "'afsan'"
      ]
     },
     "execution_count": 34,
     "metadata": {},
     "output_type": "execute_result"
    }
   ],
   "source": [
    "['afsan', 2, 3, 4, 5][0]"
   ]
  },
  {
   "cell_type": "code",
   "execution_count": 36,
   "id": "1bd35645",
   "metadata": {},
   "outputs": [
    {
     "data": {
      "text/plain": [
       "'nasfa'"
      ]
     },
     "execution_count": 36,
     "metadata": {},
     "output_type": "execute_result"
    }
   ],
   "source": [
    "'afsan'"
   ]
  },
  {
   "cell_type": "code",
   "execution_count": 42,
   "id": "010ef16d",
   "metadata": {},
   "outputs": [
    {
     "name": "stdout",
     "output_type": "stream",
     "text": [
      "a\n"
     ]
    }
   ],
   "source": [
    "a = [[1,2,3] , [4,5,6], [8,9,10,11,[12,['a','b',200]]]]\n",
    "\"\"\"\n",
    "output - a\n",
    "\"\"\"\n",
    "\n",
    "print(a[-1][-1][-1][0])"
   ]
  },
  {
   "cell_type": "code",
   "execution_count": 50,
   "id": "4e445a7c",
   "metadata": {},
   "outputs": [
    {
     "name": "stdout",
     "output_type": "stream",
     "text": [
      "eutitisni\n"
     ]
    }
   ],
   "source": [
    "a = [[1,2,3] , [4,5,6], [8,9,[10,'learnbay insititue' , 'football'],11,[12,['a','b',200]]]]\n",
    "\"\"\"\n",
    "output - a\n",
    "\"\"\"\n",
    "\n",
    "print(a[-1][2][1].split()[-1][::-1])"
   ]
  },
  {
   "cell_type": "code",
   "execution_count": 49,
   "id": "715ea24e",
   "metadata": {},
   "outputs": [
    {
     "data": {
      "text/plain": [
       "'eutitisni'"
      ]
     },
     "execution_count": 49,
     "metadata": {},
     "output_type": "execute_result"
    }
   ],
   "source": [
    "a[-1][2][1].split()[-1][::-1]"
   ]
  },
  {
   "cell_type": "code",
   "execution_count": 53,
   "id": "607f0ab5",
   "metadata": {},
   "outputs": [
    {
     "data": {
      "text/plain": [
       "'insititue'"
      ]
     },
     "execution_count": 53,
     "metadata": {},
     "output_type": "execute_result"
    }
   ],
   "source": [
    "a[-1][2][1].split()[-1]"
   ]
  },
  {
   "cell_type": "code",
   "execution_count": 54,
   "id": "7e0b8097",
   "metadata": {},
   "outputs": [
    {
     "name": "stdout",
     "output_type": "stream",
     "text": [
      "['__add__', '__class__', '__class_getitem__', '__contains__', '__delattr__', '__delitem__', '__dir__', '__doc__', '__eq__', '__format__', '__ge__', '__getattribute__', '__getitem__', '__gt__', '__hash__', '__iadd__', '__imul__', '__init__', '__init_subclass__', '__iter__', '__le__', '__len__', '__lt__', '__mul__', '__ne__', '__new__', '__reduce__', '__reduce_ex__', '__repr__', '__reversed__', '__rmul__', '__setattr__', '__setitem__', '__sizeof__', '__str__', '__subclasshook__', 'append', 'clear', 'copy', 'count', 'extend', 'index', 'insert', 'pop', 'remove', 'reverse', 'sort']\n"
     ]
    }
   ],
   "source": [
    "# methods\n",
    "print(dir(list))"
   ]
  },
  {
   "cell_type": "code",
   "execution_count": null,
   "id": "159b4e09",
   "metadata": {},
   "outputs": [],
   "source": [
    "# methods to insert the element inside a list\n",
    "\n",
    "1. append\n",
    "2. extend\n",
    "3. insert"
   ]
  },
  {
   "cell_type": "code",
   "execution_count": 59,
   "id": "f39e458d",
   "metadata": {},
   "outputs": [
    {
     "name": "stdout",
     "output_type": "stream",
     "text": [
      "[10, 20, 30, [1, 2, 3]]\n"
     ]
    }
   ],
   "source": [
    "# append\n",
    "\n",
    "\"\"\"\n",
    "appends an element to the end of the file\n",
    "you can enter only one element at a time\n",
    "you can insert both iterable and non iterable objects\n",
    "\"\"\"\n",
    "\n",
    "a = [10,20,30]\n",
    "b = [1,2,3]\n",
    "\n",
    "a.append(b)\n",
    "print(a)"
   ]
  },
  {
   "cell_type": "code",
   "execution_count": 57,
   "id": "40be2e67",
   "metadata": {},
   "outputs": [
    {
     "name": "stdout",
     "output_type": "stream",
     "text": [
      "sfssn\n"
     ]
    }
   ],
   "source": [
    "a = 'afsan'\n",
    "print(a.replace('a','s'))"
   ]
  },
  {
   "cell_type": "code",
   "execution_count": 1,
   "id": "2bf174de",
   "metadata": {},
   "outputs": [],
   "source": [
    "a = [10,20,30]\n",
    "b = [1,2,3]"
   ]
  },
  {
   "cell_type": "code",
   "execution_count": 2,
   "id": "a2937dd5",
   "metadata": {},
   "outputs": [
    {
     "name": "stdout",
     "output_type": "stream",
     "text": [
      "[10, 20, 30, [1, 2, 3]]\n"
     ]
    }
   ],
   "source": [
    "a.append(b)\n",
    "print(a)"
   ]
  },
  {
   "cell_type": "code",
   "execution_count": null,
   "id": "bbc4dabc",
   "metadata": {},
   "outputs": [],
   "source": [
    "# extend\n",
    "\n",
    "\"\"\"\n",
    "extend is simliar to concatination but concatination returns a new object wheras extend will make the changes on object itself\n",
    "you can only use iterable objects\n",
    "\"\"\""
   ]
  },
  {
   "cell_type": "code",
   "execution_count": 67,
   "id": "ac97f24f",
   "metadata": {},
   "outputs": [
    {
     "name": "stdout",
     "output_type": "stream",
     "text": [
      "[1, 2, 3] [5, 6, 7]\n"
     ]
    }
   ],
   "source": [
    "a = [1,2,3]\n",
    "b = [5,6,7]\n",
    "a+b\n",
    "print(a , b)"
   ]
  },
  {
   "cell_type": "code",
   "execution_count": 66,
   "id": "d8da716b",
   "metadata": {},
   "outputs": [
    {
     "data": {
      "text/plain": [
       "[1, 2, 3, 5, 6, 7]"
      ]
     },
     "execution_count": 66,
     "metadata": {},
     "output_type": "execute_result"
    }
   ],
   "source": [
    "a = [1,2,3]\n",
    "b = [5,6,7]\n",
    "b.extend(a)\n",
    "a"
   ]
  },
  {
   "cell_type": "code",
   "execution_count": 68,
   "id": "5193c6a6",
   "metadata": {},
   "outputs": [
    {
     "data": {
      "text/plain": [
       "[5, 6, 7]"
      ]
     },
     "execution_count": 68,
     "metadata": {},
     "output_type": "execute_result"
    }
   ],
   "source": [
    "b"
   ]
  },
  {
   "cell_type": "code",
   "execution_count": 71,
   "id": "824ad0c2",
   "metadata": {},
   "outputs": [],
   "source": [
    "a.extend('afsan')"
   ]
  },
  {
   "cell_type": "code",
   "execution_count": 72,
   "id": "2672477f",
   "metadata": {},
   "outputs": [
    {
     "data": {
      "text/plain": [
       "[1, 2, 3, 'a', 'f', 's', 'a', 'n']"
      ]
     },
     "execution_count": 72,
     "metadata": {},
     "output_type": "execute_result"
    }
   ],
   "source": [
    "a"
   ]
  },
  {
   "cell_type": "code",
   "execution_count": 74,
   "id": "441cb3e8",
   "metadata": {},
   "outputs": [
    {
     "data": {
      "text/plain": [
       "[1, 2, 3, 4, 'a', 'b', 'c']"
      ]
     },
     "execution_count": 74,
     "metadata": {},
     "output_type": "execute_result"
    }
   ],
   "source": [
    "a = [1,2,3,4]\n",
    "b = 'abc'\n",
    "\n",
    "a.extend(b)\n",
    "a"
   ]
  },
  {
   "cell_type": "code",
   "execution_count": 75,
   "id": "db87f228",
   "metadata": {},
   "outputs": [],
   "source": [
    "# insert\n",
    "\"\"\"\n",
    "insert method insert the value at a particular index\n",
    "only one element can be inserted in a list at a time\n",
    "synatx var.insert(index , ele)\n",
    "\n",
    "\"\"\"\n",
    "\n",
    "a = [10,20,30]\n",
    "a.insert(1,100)"
   ]
  },
  {
   "cell_type": "code",
   "execution_count": 76,
   "id": "e4822a13",
   "metadata": {},
   "outputs": [
    {
     "data": {
      "text/plain": [
       "[10, 100, 20, 30]"
      ]
     },
     "execution_count": 76,
     "metadata": {},
     "output_type": "execute_result"
    }
   ],
   "source": [
    "a"
   ]
  },
  {
   "cell_type": "code",
   "execution_count": 77,
   "id": "d7855537",
   "metadata": {},
   "outputs": [],
   "source": [
    "a = [10,20,30]\n",
    "a.insert(1,'afsan')"
   ]
  },
  {
   "cell_type": "code",
   "execution_count": 84,
   "id": "24233012",
   "metadata": {},
   "outputs": [],
   "source": [
    "a = [10,20,30]\n",
    "a.insert(100,[1,2,3])"
   ]
  },
  {
   "cell_type": "code",
   "execution_count": 85,
   "id": "0f70adf5",
   "metadata": {},
   "outputs": [
    {
     "data": {
      "text/plain": [
       "[10, 20, 30, [1, 2, 3]]"
      ]
     },
     "execution_count": 85,
     "metadata": {},
     "output_type": "execute_result"
    }
   ],
   "source": [
    "a"
   ]
  },
  {
   "cell_type": "code",
   "execution_count": 81,
   "id": "bddcb144",
   "metadata": {},
   "outputs": [
    {
     "ename": "SyntaxError",
     "evalue": "invalid syntax (106595066.py, line 3)",
     "output_type": "error",
     "traceback": [
      "\u001b[0;36m  Input \u001b[0;32mIn [81]\u001b[0;36m\u001b[0m\n\u001b[0;31m    1. pop\u001b[0m\n\u001b[0m       ^\u001b[0m\n\u001b[0;31mSyntaxError\u001b[0m\u001b[0;31m:\u001b[0m invalid syntax\n"
     ]
    }
   ],
   "source": [
    "# methods to remove the ele from the list\n",
    "\n",
    "1. pop\n",
    "2. popitem"
   ]
  },
  {
   "cell_type": "code",
   "execution_count": 86,
   "id": "f6d6b219",
   "metadata": {},
   "outputs": [
    {
     "name": "stdout",
     "output_type": "stream",
     "text": [
      "50\n"
     ]
    }
   ],
   "source": [
    "# pop\n",
    "\n",
    "\"\"\"removes the element by index\n",
    "pop by deafult removes the last element\n",
    "it is the only method that returns the value\n",
    "synatx = var.pop(index)\"\"\"\n",
    "\n",
    "a = [10,20,30,50]\n",
    "print(a.pop(-1))"
   ]
  },
  {
   "cell_type": "code",
   "execution_count": 88,
   "id": "84ad2471",
   "metadata": {},
   "outputs": [
    {
     "data": {
      "text/plain": [
       "10"
      ]
     },
     "execution_count": 88,
     "metadata": {},
     "output_type": "execute_result"
    }
   ],
   "source": [
    "a.pop()"
   ]
  },
  {
   "cell_type": "code",
   "execution_count": 89,
   "id": "e9890f39",
   "metadata": {},
   "outputs": [
    {
     "data": {
      "text/plain": [
       "[20, 30]"
      ]
     },
     "execution_count": 89,
     "metadata": {},
     "output_type": "execute_result"
    }
   ],
   "source": [
    "a"
   ]
  },
  {
   "cell_type": "code",
   "execution_count": null,
   "id": "b52efef2",
   "metadata": {},
   "outputs": [],
   "source": [
    "# pop\n",
    "\n",
    "\"\"\"removes the element by index\n",
    "pop by deafult removes the last element\n",
    "it is the only method that returns the value\n",
    "synatx = var.pop(index)\"\"\"\n",
    "\n",
    "a = [10,20,30,50]\n",
    "a.pop()\n",
    "a"
   ]
  },
  {
   "cell_type": "code",
   "execution_count": 92,
   "id": "b482cf08",
   "metadata": {},
   "outputs": [],
   "source": [
    "# remove\n",
    "\n",
    "\"\"\"\n",
    "remove the element based on the value\n",
    "if multiple occurance of an value then only first occ will be removed\n",
    "\"\"\"\n",
    "\n",
    "a = [10,20,30,40,10,203,10,10]\n",
    "a.remove(10)\n",
    "a.remove(10)\n",
    "a.remove(10)\n",
    "a.remove(10)"
   ]
  },
  {
   "cell_type": "code",
   "execution_count": 93,
   "id": "50fb15f2",
   "metadata": {},
   "outputs": [
    {
     "data": {
      "text/plain": [
       "[20, 30, 40, 203]"
      ]
     },
     "execution_count": 93,
     "metadata": {},
     "output_type": "execute_result"
    }
   ],
   "source": [
    "a"
   ]
  },
  {
   "cell_type": "code",
   "execution_count": 95,
   "id": "a48e1898",
   "metadata": {},
   "outputs": [
    {
     "data": {
      "text/plain": [
       "4"
      ]
     },
     "execution_count": 95,
     "metadata": {},
     "output_type": "execute_result"
    }
   ],
   "source": [
    "# count\n",
    "\n",
    "a = [10,20,30,40,10,203,10,10]\n",
    "a.count(10)"
   ]
  },
  {
   "cell_type": "code",
   "execution_count": 97,
   "id": "4d8af604",
   "metadata": {},
   "outputs": [
    {
     "data": {
      "text/plain": [
       "0"
      ]
     },
     "execution_count": 97,
     "metadata": {},
     "output_type": "execute_result"
    }
   ],
   "source": [
    "# index\n",
    "\n",
    "a = [10,20,30,40,10,203,10,10]\n",
    "a.index(10)"
   ]
  },
  {
   "cell_type": "code",
   "execution_count": null,
   "id": "ee402e27",
   "metadata": {},
   "outputs": [],
   "source": []
  }
 ],
 "metadata": {
  "kernelspec": {
   "display_name": "Python 3 (ipykernel)",
   "language": "python",
   "name": "python3"
  },
  "language_info": {
   "codemirror_mode": {
    "name": "ipython",
    "version": 3
   },
   "file_extension": ".py",
   "mimetype": "text/x-python",
   "name": "python",
   "nbconvert_exporter": "python",
   "pygments_lexer": "ipython3",
   "version": "3.9.12"
  }
 },
 "nbformat": 4,
 "nbformat_minor": 5
}
