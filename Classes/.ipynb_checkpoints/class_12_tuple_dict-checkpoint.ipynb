{
 "cells": [
  {
   "cell_type": "code",
   "execution_count": 1,
   "id": "32043a72",
   "metadata": {},
   "outputs": [
    {
     "name": "stdout",
     "output_type": "stream",
     "text": [
      "[6, 4]\n"
     ]
    }
   ],
   "source": [
    "\n",
    "a = [1,6,4,3,7,9]\n",
    "b = []\n",
    "\n",
    "for i in a:\n",
    "    if i%2==0:\n",
    "        b.append(i)\n",
    "\n",
    "print(b)"
   ]
  },
  {
   "cell_type": "code",
   "execution_count": null,
   "id": "5643fcdb",
   "metadata": {},
   "outputs": [],
   "source": [
    "[statment for var in iterable if cond]"
   ]
  },
  {
   "cell_type": "code",
   "execution_count": 2,
   "id": "9da7a6b8",
   "metadata": {},
   "outputs": [
    {
     "name": "stdout",
     "output_type": "stream",
     "text": [
      "[6, 4]\n"
     ]
    }
   ],
   "source": [
    "a = [1,6,4,3,7,9]\n",
    "b = [i for i in a if i%2==0]\n",
    "print(b)"
   ]
  },
  {
   "cell_type": "code",
   "execution_count": null,
   "id": "a434009f",
   "metadata": {},
   "outputs": [],
   "source": [
    "# tuple\n",
    "\n",
    "anymthing that can be wriiten inside a ()(optional) and elements are sep by ,"
   ]
  },
  {
   "cell_type": "code",
   "execution_count": 3,
   "id": "fc59a4d6",
   "metadata": {},
   "outputs": [
    {
     "name": "stdout",
     "output_type": "stream",
     "text": [
      "(1, 2, 3, 4) <class 'tuple'>\n"
     ]
    }
   ],
   "source": [
    "a = (1,2,3,4)\n",
    "print(a , type(a))\n"
   ]
  },
  {
   "cell_type": "code",
   "execution_count": 4,
   "id": "b05e4c83",
   "metadata": {},
   "outputs": [
    {
     "name": "stdout",
     "output_type": "stream",
     "text": [
      "(1, 2, 3, 4) <class 'tuple'>\n"
     ]
    }
   ],
   "source": [
    "a = 1,2,3,4\n",
    "print(a , type(a))"
   ]
  },
  {
   "cell_type": "code",
   "execution_count": 5,
   "id": "1997f4fc",
   "metadata": {},
   "outputs": [
    {
     "name": "stdout",
     "output_type": "stream",
     "text": [
      "('apple', 'mango', 'banana')\n"
     ]
    }
   ],
   "source": [
    "# creating a tuple\n",
    "\n",
    "# 1. we already know the ele\n",
    "\n",
    "tup1 = ('apple', 'mango', 'banana')\n",
    "print(tup1)"
   ]
  },
  {
   "cell_type": "code",
   "execution_count": 6,
   "id": "941714f9",
   "metadata": {},
   "outputs": [
    {
     "name": "stdout",
     "output_type": "stream",
     "text": [
      "enter the tuple1,2,6,8,9\n",
      "(1, 2, 6, 8, 9) <class 'tuple'>\n"
     ]
    }
   ],
   "source": [
    "# taking user input with eval\n",
    "\n",
    "data = eval(input('enter the tuple'))\n",
    "print(data, type(data))"
   ]
  },
  {
   "cell_type": "code",
   "execution_count": 8,
   "id": "16502e35",
   "metadata": {},
   "outputs": [
    {
     "data": {
      "text/plain": [
       "('a', 'f', 's', 'a', 'a', 'n')"
      ]
     },
     "execution_count": 8,
     "metadata": {},
     "output_type": "execute_result"
    }
   ],
   "source": [
    "# 3. typcastiong , tuple\n",
    "\n",
    "a = 'afsaan'\n",
    "tuple(a)"
   ]
  },
  {
   "cell_type": "code",
   "execution_count": null,
   "id": "348eb0cc",
   "metadata": {},
   "outputs": [],
   "source": [
    "# properties of tuple\n",
    "\n",
    "1. seq data type\n",
    "2. +ve and -ve indexing\n",
    "3. allows duplicate element\n",
    "4. can contain any object\n",
    "5. basic -> indexing, slicing, concatination, repetition, indentity and membership\n",
    "6. immutable "
   ]
  },
  {
   "cell_type": "code",
   "execution_count": 9,
   "id": "3ee551bb",
   "metadata": {},
   "outputs": [
    {
     "name": "stdout",
     "output_type": "stream",
     "text": [
      "(1, 1.2, 'afsan', [1, 2, 3], None, True, 1, 0, 0, 1, 1, 1)\n"
     ]
    }
   ],
   "source": [
    "a = (1,1.2,'afsan',[1,2,3],None,True,1,0,0,1,1,1)\n",
    "\n",
    "print(a)"
   ]
  },
  {
   "cell_type": "code",
   "execution_count": 10,
   "id": "a0c65484",
   "metadata": {},
   "outputs": [
    {
     "data": {
      "text/plain": [
       "1"
      ]
     },
     "execution_count": 10,
     "metadata": {},
     "output_type": "execute_result"
    }
   ],
   "source": [
    "a[0]"
   ]
  },
  {
   "cell_type": "code",
   "execution_count": 11,
   "id": "4ce261d0",
   "metadata": {},
   "outputs": [
    {
     "data": {
      "text/plain": [
       "True"
      ]
     },
     "execution_count": 11,
     "metadata": {},
     "output_type": "execute_result"
    }
   ],
   "source": [
    "a[-7]"
   ]
  },
  {
   "cell_type": "code",
   "execution_count": 12,
   "id": "3dc3e48d",
   "metadata": {},
   "outputs": [
    {
     "data": {
      "text/plain": [
       "(1, 1, 1, 0, 0, 1, True, None, [1, 2, 3], 'afsan', 1.2, 1)"
      ]
     },
     "execution_count": 12,
     "metadata": {},
     "output_type": "execute_result"
    }
   ],
   "source": [
    "# slicing\n",
    "\n",
    "a[::-1]"
   ]
  },
  {
   "cell_type": "code",
   "execution_count": 13,
   "id": "4910bde2",
   "metadata": {},
   "outputs": [
    {
     "data": {
      "text/plain": [
       "()"
      ]
     },
     "execution_count": 13,
     "metadata": {},
     "output_type": "execute_result"
    }
   ],
   "source": [
    "a[0:6:-2]"
   ]
  },
  {
   "cell_type": "code",
   "execution_count": 14,
   "id": "b0bd40b1",
   "metadata": {},
   "outputs": [
    {
     "name": "stdout",
     "output_type": "stream",
     "text": [
      "(1, 2, 3, 4, 10, 20, 30)\n"
     ]
    }
   ],
   "source": [
    "# concatination\n",
    "\n",
    "a = (1,2,3,4)\n",
    "b = (10,20,30)\n",
    "\n",
    "print(a+b)"
   ]
  },
  {
   "cell_type": "code",
   "execution_count": 15,
   "id": "e23350cf",
   "metadata": {},
   "outputs": [
    {
     "name": "stdout",
     "output_type": "stream",
     "text": [
      "(10, 20, 30, 10, 20, 30, 10, 20, 30, 10, 20, 30, 10, 20, 30, 10, 20, 30, 10, 20, 30, 10, 20, 30, 10, 20, 30, 10, 20, 30, 10, 20, 30, 10, 20, 30, 10, 20, 30, 10, 20, 30, 10, 20, 30, 10, 20, 30, 10, 20, 30, 10, 20, 30, 10, 20, 30, 10, 20, 30)\n"
     ]
    }
   ],
   "source": [
    "# repetition\n",
    "\n",
    "a = (10,20,30)\n",
    "b = 20\n",
    "\n",
    "print(a*20)"
   ]
  },
  {
   "cell_type": "code",
   "execution_count": 19,
   "id": "c8aa1fc5",
   "metadata": {},
   "outputs": [
    {
     "name": "stdout",
     "output_type": "stream",
     "text": [
      "140320512774208\n",
      "140320512774368\n",
      "False\n"
     ]
    }
   ],
   "source": [
    "# indentity op\n",
    "\n",
    "a = (1,2,3,4)\n",
    "print(id(a))\n",
    "b = (1,2,3,4)\n",
    "print(id(b))\n",
    "print(a is b)"
   ]
  },
  {
   "cell_type": "code",
   "execution_count": 17,
   "id": "9a6c12ec",
   "metadata": {},
   "outputs": [
    {
     "name": "stdout",
     "output_type": "stream",
     "text": [
      "False\n"
     ]
    }
   ],
   "source": [
    "# membrship op\n",
    "\n",
    "a = (1,1.2,'afsan',[1,2,3],None,True,1,0,0,1,1,1)\n",
    "print('afsaan' in a)"
   ]
  },
  {
   "cell_type": "code",
   "execution_count": 18,
   "id": "3e1e8ab7",
   "metadata": {},
   "outputs": [
    {
     "ename": "TypeError",
     "evalue": "'tuple' object does not support item assignment",
     "output_type": "error",
     "traceback": [
      "\u001b[0;31m---------------------------------------------------------------------------\u001b[0m",
      "\u001b[0;31mTypeError\u001b[0m                                 Traceback (most recent call last)",
      "Input \u001b[0;32mIn [18]\u001b[0m, in \u001b[0;36m<cell line: 4>\u001b[0;34m()\u001b[0m\n\u001b[1;32m      1\u001b[0m \u001b[38;5;66;03m# immutable - original object cannot be changed\u001b[39;00m\n\u001b[1;32m      3\u001b[0m a \u001b[38;5;241m=\u001b[39m (\u001b[38;5;241m10\u001b[39m,\u001b[38;5;241m20\u001b[39m,\u001b[38;5;241m30\u001b[39m)\n\u001b[0;32m----> 4\u001b[0m a[\u001b[38;5;241m0\u001b[39m] \u001b[38;5;241m=\u001b[39m \u001b[38;5;241m100\u001b[39m\n\u001b[1;32m      5\u001b[0m \u001b[38;5;28mprint\u001b[39m(a)\n",
      "\u001b[0;31mTypeError\u001b[0m: 'tuple' object does not support item assignment"
     ]
    }
   ],
   "source": [
    "# immutable - original object cannot be changed\n",
    "\n",
    "a = (10,20,30)\n",
    "a[0] = 100\n",
    "print(a)"
   ]
  },
  {
   "cell_type": "code",
   "execution_count": 21,
   "id": "0c5a0e2a",
   "metadata": {},
   "outputs": [
    {
     "name": "stdout",
     "output_type": "stream",
     "text": [
      "['__add__', '__class__', '__class_getitem__', '__contains__', '__delattr__', '__dir__', '__doc__', '__eq__', '__format__', '__ge__', '__getattribute__', '__getitem__', '__getnewargs__', '__gt__', '__hash__', '__init__', '__init_subclass__', '__iter__', '__le__', '__len__', '__lt__', '__mul__', '__ne__', '__new__', '__reduce__', '__reduce_ex__', '__repr__', '__rmul__', '__setattr__', '__sizeof__', '__str__', '__subclasshook__', 'count', 'index']\n"
     ]
    }
   ],
   "source": [
    "#methods in tuple\n",
    "print(dir(tuple))"
   ]
  },
  {
   "cell_type": "code",
   "execution_count": 22,
   "id": "4f9c61d2",
   "metadata": {},
   "outputs": [
    {
     "name": "stdout",
     "output_type": "stream",
     "text": [
      "2\n"
     ]
    }
   ],
   "source": [
    "# count\n",
    "\n",
    "a = (1,2,3,4,1,1,2,3,4,2,1)\n",
    "print(a.count(3))"
   ]
  },
  {
   "cell_type": "code",
   "execution_count": 24,
   "id": "d1d9c067",
   "metadata": {},
   "outputs": [
    {
     "name": "stdout",
     "output_type": "stream",
     "text": [
      "0\n"
     ]
    }
   ],
   "source": [
    "# index\n",
    "a = (True,2,3,4,1,1,2,3,4,2,1)\n",
    "print(a.index(True))"
   ]
  },
  {
   "cell_type": "code",
   "execution_count": 25,
   "id": "dbb364cb",
   "metadata": {},
   "outputs": [
    {
     "name": "stdout",
     "output_type": "stream",
     "text": [
      "0\n"
     ]
    }
   ],
   "source": [
    "a=(1,1.3,\"index\",2,True,3,4,4)\n",
    "print(a.index(True))"
   ]
  },
  {
   "cell_type": "code",
   "execution_count": 26,
   "id": "fe7860d6",
   "metadata": {},
   "outputs": [
    {
     "name": "stdout",
     "output_type": "stream",
     "text": [
      "3\n"
     ]
    }
   ],
   "source": [
    "a = (1,2,3,4)\n",
    "print(a.index(4))"
   ]
  },
  {
   "cell_type": "code",
   "execution_count": null,
   "id": "f86e182f",
   "metadata": {},
   "outputs": [],
   "source": [
    "Find the number of 't' in a string using 'find' and 'index 'method.\n",
    "\n",
    "a = \"learnbay data Science tensorlfow\""
   ]
  },
  {
   "cell_type": "code",
   "execution_count": 28,
   "id": "0ed9a0bb",
   "metadata": {},
   "outputs": [
    {
     "name": "stdout",
     "output_type": "stream",
     "text": [
      "Total number occurrance of 'T':  4\n"
     ]
    }
   ],
   "source": [
    "a='leanbay data science tensorflow'\n",
    "b=0\n",
    "e=0\n",
    "for i in range(len(a)):\n",
    "    a=a[b:len(a)]\n",
    "    d=a.find('a')\n",
    "    b=d+1\n",
    "    if d!=-1:\n",
    "        e+=1\n",
    "    else:\n",
    "        break\n",
    "print(\"Total number occurrance of 'T': \",e)"
   ]
  },
  {
   "cell_type": "code",
   "execution_count": 42,
   "id": "fd1af896",
   "metadata": {},
   "outputs": [
    {
     "name": "stdout",
     "output_type": "stream",
     "text": [
      "4\n"
     ]
    }
   ],
   "source": [
    "a='leanbay data science tensorflow'\n",
    "my_str1=a\n",
    "char = 'a'\n",
    "count=0\n",
    "while my_str1.find(char)!=-1:\n",
    "    count+=1\n",
    "    my_str1=my_str1[my_str1.find(char)+1:]\n",
    "\n",
    "print(count)"
   ]
  },
  {
   "cell_type": "code",
   "execution_count": 35,
   "id": "5af11390",
   "metadata": {},
   "outputs": [
    {
     "name": "stdout",
     "output_type": "stream",
     "text": [
      "3\n",
      "5\n",
      "6\n",
      "7\n",
      "8\n"
     ]
    }
   ],
   "source": [
    "a = (1,2,3,4,5,4,4,4,4)\n",
    "\n",
    "# How all occurance of 4?\n",
    "\n",
    "index = 0\n",
    "for i in a:\n",
    "    if i == 4:\n",
    "        print(index)\n",
    "    index += 1"
   ]
  },
  {
   "cell_type": "code",
   "execution_count": 36,
   "id": "ce502898",
   "metadata": {},
   "outputs": [],
   "source": [
    "# How 2nd of 4?\n",
    "\n",
    "index = 0\n",
    "data = []\n",
    "for i in a:\n",
    "    if i == 4:\n",
    "        data.append(index)\n",
    "    index += 1"
   ]
  },
  {
   "cell_type": "code",
   "execution_count": 39,
   "id": "1a76ecd9",
   "metadata": {},
   "outputs": [
    {
     "data": {
      "text/plain": [
       "6"
      ]
     },
     "execution_count": 39,
     "metadata": {},
     "output_type": "execute_result"
    }
   ],
   "source": [
    "data[2]"
   ]
  },
  {
   "cell_type": "code",
   "execution_count": null,
   "id": "a343fe40",
   "metadata": {},
   "outputs": [],
   "source": [
    "# tuple packing and unpacking"
   ]
  },
  {
   "cell_type": "code",
   "execution_count": 44,
   "id": "b0fbe6b6",
   "metadata": {},
   "outputs": [
    {
     "name": "stdout",
     "output_type": "stream",
     "text": [
      "(1, 2, 3, 4, 5)\n"
     ]
    }
   ],
   "source": [
    "# tuple packing \n",
    "# packing or assigning the value to a single varibale\n",
    "\n",
    "a = 1,2,3,4,5\n",
    "print(a)"
   ]
  },
  {
   "cell_type": "code",
   "execution_count": 45,
   "id": "1c41b909",
   "metadata": {},
   "outputs": [
    {
     "name": "stdout",
     "output_type": "stream",
     "text": [
      "(1, 2, 3, 4, 5)\n"
     ]
    }
   ],
   "source": [
    "a = (1,2,3,4,5)\n",
    "print(a)"
   ]
  },
  {
   "cell_type": "code",
   "execution_count": null,
   "id": "3f9d2ec9",
   "metadata": {},
   "outputs": [],
   "source": [
    "a = 1\n",
    "print(a)"
   ]
  },
  {
   "cell_type": "code",
   "execution_count": 46,
   "id": "1c003bea",
   "metadata": {},
   "outputs": [
    {
     "name": "stdout",
     "output_type": "stream",
     "text": [
      "1\n"
     ]
    }
   ],
   "source": [
    "a = (1)\n",
    "print(a)"
   ]
  },
  {
   "cell_type": "code",
   "execution_count": 47,
   "id": "1a699698",
   "metadata": {},
   "outputs": [
    {
     "name": "stdout",
     "output_type": "stream",
     "text": [
      "(1,)\n"
     ]
    }
   ],
   "source": [
    "a = 1,\n",
    "print(a)"
   ]
  },
  {
   "cell_type": "code",
   "execution_count": null,
   "id": "5920a61d",
   "metadata": {},
   "outputs": [],
   "source": [
    "# tuple unpacking\n",
    "fetching individual value from tuple"
   ]
  },
  {
   "cell_type": "code",
   "execution_count": 50,
   "id": "aa7f03ae",
   "metadata": {},
   "outputs": [
    {
     "name": "stdout",
     "output_type": "stream",
     "text": [
      "3\n"
     ]
    }
   ],
   "source": [
    "a,b,c,d,e= (1,2,3,4,5)\n",
    "print(c)"
   ]
  },
  {
   "cell_type": "code",
   "execution_count": null,
   "id": "913a35d2",
   "metadata": {},
   "outputs": [],
   "source": [
    "number of variable on LHS == number of values on RHS"
   ]
  },
  {
   "cell_type": "code",
   "execution_count": 51,
   "id": "e6a81cba",
   "metadata": {},
   "outputs": [
    {
     "ename": "ValueError",
     "evalue": "not enough values to unpack (expected 6, got 5)",
     "output_type": "error",
     "traceback": [
      "\u001b[0;31m---------------------------------------------------------------------------\u001b[0m",
      "\u001b[0;31mValueError\u001b[0m                                Traceback (most recent call last)",
      "Input \u001b[0;32mIn [51]\u001b[0m, in \u001b[0;36m<cell line: 1>\u001b[0;34m()\u001b[0m\n\u001b[0;32m----> 1\u001b[0m a,b,c,d,e,f\u001b[38;5;241m=\u001b[39m (\u001b[38;5;241m1\u001b[39m,\u001b[38;5;241m2\u001b[39m,\u001b[38;5;241m3\u001b[39m,\u001b[38;5;241m4\u001b[39m,\u001b[38;5;241m5\u001b[39m)\n\u001b[1;32m      2\u001b[0m \u001b[38;5;28mprint\u001b[39m(c)\n",
      "\u001b[0;31mValueError\u001b[0m: not enough values to unpack (expected 6, got 5)"
     ]
    }
   ],
   "source": [
    "a,b,c,d,e,f= (1,2,3,4,5)\n",
    "print(c)"
   ]
  },
  {
   "cell_type": "code",
   "execution_count": null,
   "id": "481f08d7",
   "metadata": {},
   "outputs": [],
   "source": [
    "# dictionary"
   ]
  },
  {
   "cell_type": "code",
   "execution_count": 52,
   "id": "3fdd1940",
   "metadata": {},
   "outputs": [
    {
     "name": "stdout",
     "output_type": "stream",
     "text": [
      "name is afsan\n",
      "age is 25\n",
      "sal is 60000\n"
     ]
    }
   ],
   "source": [
    "a = ['afsan' , 25 , 60000]\n",
    "\n",
    "print(f'name is {a[0]}')\n",
    "print(f'age is {a[1]}')\n",
    "print(f'sal is {a[2]}')"
   ]
  },
  {
   "cell_type": "code",
   "execution_count": 53,
   "id": "f216d02e",
   "metadata": {},
   "outputs": [
    {
     "name": "stdout",
     "output_type": "stream",
     "text": [
      "name is 60000\n",
      "age is 25\n",
      "sal is afsan\n"
     ]
    }
   ],
   "source": [
    "# problem 1\n",
    "\n",
    "a = [60000 , 25 , 'afsan']\n",
    "\n",
    "print(f'name is {a[0]}')\n",
    "print(f'age is {a[1]}')\n",
    "print(f'sal is {a[2]}')"
   ]
  },
  {
   "cell_type": "code",
   "execution_count": null,
   "id": "f3168b09",
   "metadata": {},
   "outputs": [],
   "source": [
    "# problem 2\n",
    "\n",
    "a = ['afsan' , 25 , 25]\n",
    "\n",
    "print(f'name is {a[0]}')\n",
    "print(f'age is {a[1]}')\n",
    "print(f'sal is {a[2]}')"
   ]
  },
  {
   "cell_type": "code",
   "execution_count": 55,
   "id": "9c80f5fc",
   "metadata": {},
   "outputs": [
    {
     "name": "stdout",
     "output_type": "stream",
     "text": [
      "name is afsan\n",
      "age is 25\n",
      "sal is 25\n"
     ]
    }
   ],
   "source": [
    "# dictinoary\n",
    "\n",
    "a = {'name':'afsan', 'age':25, 'sal':25}\n",
    "\n",
    "print(f'name is {a[\"name\"]}')\n",
    "print(f'age is {a[\"age\"]}')\n",
    "print(f'sal is {a[\"sal\"]}')"
   ]
  },
  {
   "cell_type": "code",
   "execution_count": 56,
   "id": "1eacaf94",
   "metadata": {},
   "outputs": [
    {
     "name": "stdout",
     "output_type": "stream",
     "text": [
      "name is afsan\n",
      "age is 25\n",
      "sal is 25\n"
     ]
    }
   ],
   "source": [
    "# sol1 \n",
    "\n",
    "a = {'age':25, 'sal':25, 'name':'afsan'}\n",
    "\n",
    "print(f'name is {a[\"name\"]}')\n",
    "print(f'age is {a[\"age\"]}')\n",
    "print(f'sal is {a[\"sal\"]}')"
   ]
  },
  {
   "cell_type": "code",
   "execution_count": 57,
   "id": "b0ca86cf",
   "metadata": {},
   "outputs": [
    {
     "name": "stdout",
     "output_type": "stream",
     "text": [
      "name is afsan\n",
      "age is 25\n",
      "sal is 25\n"
     ]
    }
   ],
   "source": [
    "# sol 2\n",
    "\n",
    "a = {'age':25, 'sal':25, 'name':'afsan'}\n",
    "\n",
    "print(f'name is {a[\"name\"]}')\n",
    "print(f'age is {a[\"age\"]}')\n",
    "print(f'sal is {a[\"sal\"]}')"
   ]
  },
  {
   "cell_type": "code",
   "execution_count": null,
   "id": "ee26d8ec",
   "metadata": {},
   "outputs": [],
   "source": [
    "# Propeties of dict\n",
    "\n",
    "1. its a collection of key value pair\n",
    "2. a key, value pair is called as item\n",
    "3. items are sep by comma(,)\n",
    "4. key and value are sep by :\n",
    "5. key cannot be duplicated whereas value can be duplicated\n",
    "6. key should not be mutable\n",
    "7. value can be any data type\n",
    "8. all the items are enclosed in the {} brackets\n",
    "9. dict is not a seq data type so indexing, slicing, concatination , repetion\n",
    "10. identity is applicable\n",
    "11. membership op is applicable but only on key\n",
    "12. mutable"
   ]
  },
  {
   "cell_type": "code",
   "execution_count": 58,
   "id": "27ccc48f",
   "metadata": {},
   "outputs": [
    {
     "name": "stdout",
     "output_type": "stream",
     "text": [
      "{'name': 'afsan', 'age': 24}\n"
     ]
    }
   ],
   "source": [
    "# 1. its a collection of key value pair\n",
    "# 2. a key, value pair is called as item\n",
    "# 3. items are sep by comma(,)\n",
    "# 4. key and value are sep by :\n",
    "# 8. all the items are enclosed in the {} brackets\n",
    "\n",
    "data = {'name':'afsan', 'age':24}\n",
    "\n",
    "print(data)"
   ]
  },
  {
   "cell_type": "code",
   "execution_count": 59,
   "id": "dbbe494b",
   "metadata": {},
   "outputs": [
    {
     "name": "stdout",
     "output_type": "stream",
     "text": [
      "{'name': 'Rahul', 'age': 24}\n"
     ]
    }
   ],
   "source": [
    "# 5. key cannot be duplicated whereas value can be duplicated\n",
    "\n",
    "# a) key is duplicated\n",
    "\n",
    "data = {'name':'afsan', 'age':24 , 'name':'Rahul'}\n",
    "\n",
    "print(data)"
   ]
  },
  {
   "cell_type": "code",
   "execution_count": null,
   "id": "dabfde3e",
   "metadata": {},
   "outputs": [],
   "source": [
    "name ---> Rahul\n",
    "age ---> 24\n"
   ]
  },
  {
   "cell_type": "code",
   "execution_count": 60,
   "id": "be216545",
   "metadata": {},
   "outputs": [
    {
     "name": "stdout",
     "output_type": "stream",
     "text": [
      "{'name': 'afsan', 'age': 24, 'sal': 24}\n"
     ]
    }
   ],
   "source": [
    "# b) value is duplicated\n",
    "\n",
    "data = {'name':'afsan', 'age':24 , 'sal':24}\n",
    "\n",
    "print(data)"
   ]
  },
  {
   "cell_type": "code",
   "execution_count": 61,
   "id": "af41818f",
   "metadata": {},
   "outputs": [
    {
     "name": "stdout",
     "output_type": "stream",
     "text": [
      "{'name': 'afsan', (1, 2, 3): 24, 1: 24}\n"
     ]
    }
   ],
   "source": [
    "# 6. key should not be mutable\n",
    "\n",
    "data = {'name':'afsan', (1,2,3):24 , 1:24}\n",
    "\n",
    "print(data)"
   ]
  },
  {
   "cell_type": "code",
   "execution_count": 62,
   "id": "49f85c8e",
   "metadata": {},
   "outputs": [
    {
     "ename": "TypeError",
     "evalue": "unhashable type: 'list'",
     "output_type": "error",
     "traceback": [
      "\u001b[0;31m---------------------------------------------------------------------------\u001b[0m",
      "\u001b[0;31mTypeError\u001b[0m                                 Traceback (most recent call last)",
      "Input \u001b[0;32mIn [62]\u001b[0m, in \u001b[0;36m<cell line: 1>\u001b[0;34m()\u001b[0m\n\u001b[0;32m----> 1\u001b[0m data \u001b[38;5;241m=\u001b[39m {\u001b[38;5;124m'\u001b[39m\u001b[38;5;124mname\u001b[39m\u001b[38;5;124m'\u001b[39m:\u001b[38;5;124m'\u001b[39m\u001b[38;5;124mafsan\u001b[39m\u001b[38;5;124m'\u001b[39m, (\u001b[38;5;241m1\u001b[39m,\u001b[38;5;241m2\u001b[39m,\u001b[38;5;241m3\u001b[39m):\u001b[38;5;241m24\u001b[39m , [\u001b[38;5;241m1\u001b[39m,\u001b[38;5;241m2\u001b[39m,\u001b[38;5;241m3\u001b[39m]:\u001b[38;5;241m24\u001b[39m}\n\u001b[1;32m      3\u001b[0m \u001b[38;5;28mprint\u001b[39m(data)\n",
      "\u001b[0;31mTypeError\u001b[0m: unhashable type: 'list'"
     ]
    }
   ],
   "source": [
    "data = {'name':'afsan', (1,2,3):24 , [1,2,3]:24}\n",
    "\n",
    "print(data)"
   ]
  },
  {
   "cell_type": "code",
   "execution_count": 63,
   "id": "dae977d7",
   "metadata": {},
   "outputs": [
    {
     "name": "stdout",
     "output_type": "stream",
     "text": [
      "{'name': 'afsan', (1, 2, 3): 24, 1: [1, 2, 3]}\n"
     ]
    }
   ],
   "source": [
    "# 7. value can be any data type\n",
    "\n",
    "data = {'name':'afsan', (1,2,3):24 , 1:[1,2,3]}\n",
    "\n",
    "print(data)"
   ]
  },
  {
   "cell_type": "code",
   "execution_count": 64,
   "id": "a48ee033",
   "metadata": {},
   "outputs": [
    {
     "ename": "KeyError",
     "evalue": "0",
     "output_type": "error",
     "traceback": [
      "\u001b[0;31m---------------------------------------------------------------------------\u001b[0m",
      "\u001b[0;31mKeyError\u001b[0m                                  Traceback (most recent call last)",
      "Input \u001b[0;32mIn [64]\u001b[0m, in \u001b[0;36m<cell line: 3>\u001b[0;34m()\u001b[0m\n\u001b[1;32m      1\u001b[0m data \u001b[38;5;241m=\u001b[39m {\u001b[38;5;124m'\u001b[39m\u001b[38;5;124mname\u001b[39m\u001b[38;5;124m'\u001b[39m:\u001b[38;5;124m'\u001b[39m\u001b[38;5;124mafsan\u001b[39m\u001b[38;5;124m'\u001b[39m, (\u001b[38;5;241m1\u001b[39m,\u001b[38;5;241m2\u001b[39m,\u001b[38;5;241m3\u001b[39m):\u001b[38;5;241m24\u001b[39m , \u001b[38;5;241m1\u001b[39m:[\u001b[38;5;241m1\u001b[39m,\u001b[38;5;241m2\u001b[39m,\u001b[38;5;241m3\u001b[39m]}\n\u001b[0;32m----> 3\u001b[0m \u001b[43mdata\u001b[49m\u001b[43m[\u001b[49m\u001b[38;5;241;43m0\u001b[39;49m\u001b[43m]\u001b[49m\n",
      "\u001b[0;31mKeyError\u001b[0m: 0"
     ]
    }
   ],
   "source": [
    "data = {'name':'afsan', (1,2,3):24 , 1:[1,2,3]}\n",
    "\n",
    "data[0]"
   ]
  },
  {
   "cell_type": "code",
   "execution_count": 65,
   "id": "95ad917e",
   "metadata": {},
   "outputs": [
    {
     "ename": "TypeError",
     "evalue": "unhashable type: 'slice'",
     "output_type": "error",
     "traceback": [
      "\u001b[0;31m---------------------------------------------------------------------------\u001b[0m",
      "\u001b[0;31mTypeError\u001b[0m                                 Traceback (most recent call last)",
      "Input \u001b[0;32mIn [65]\u001b[0m, in \u001b[0;36m<cell line: 1>\u001b[0;34m()\u001b[0m\n\u001b[0;32m----> 1\u001b[0m \u001b[43mdata\u001b[49m\u001b[43m[\u001b[49m\u001b[43m:\u001b[49m\u001b[43m:\u001b[49m\u001b[38;5;241;43m-\u001b[39;49m\u001b[38;5;241;43m1\u001b[39;49m\u001b[43m]\u001b[49m\n",
      "\u001b[0;31mTypeError\u001b[0m: unhashable type: 'slice'"
     ]
    }
   ],
   "source": [
    "data[::-1]"
   ]
  },
  {
   "cell_type": "code",
   "execution_count": 66,
   "id": "562644de",
   "metadata": {},
   "outputs": [
    {
     "ename": "TypeError",
     "evalue": "unsupported operand type(s) for +: 'dict' and 'dict'",
     "output_type": "error",
     "traceback": [
      "\u001b[0;31m---------------------------------------------------------------------------\u001b[0m",
      "\u001b[0;31mTypeError\u001b[0m                                 Traceback (most recent call last)",
      "Input \u001b[0;32mIn [66]\u001b[0m, in \u001b[0;36m<cell line: 4>\u001b[0;34m()\u001b[0m\n\u001b[1;32m      1\u001b[0m data \u001b[38;5;241m=\u001b[39m {\u001b[38;5;124m'\u001b[39m\u001b[38;5;124mname\u001b[39m\u001b[38;5;124m'\u001b[39m:\u001b[38;5;124m'\u001b[39m\u001b[38;5;124mafsan\u001b[39m\u001b[38;5;124m'\u001b[39m, (\u001b[38;5;241m1\u001b[39m,\u001b[38;5;241m2\u001b[39m,\u001b[38;5;241m3\u001b[39m):\u001b[38;5;241m24\u001b[39m , \u001b[38;5;241m1\u001b[39m:[\u001b[38;5;241m1\u001b[39m,\u001b[38;5;241m2\u001b[39m,\u001b[38;5;241m3\u001b[39m]}\n\u001b[1;32m      2\u001b[0m data2 \u001b[38;5;241m=\u001b[39m {\u001b[38;5;241m2\u001b[39m:\u001b[38;5;241m2\u001b[39m}\n\u001b[0;32m----> 4\u001b[0m \u001b[43mdata\u001b[49m\u001b[43m \u001b[49m\u001b[38;5;241;43m+\u001b[39;49m\u001b[43m \u001b[49m\u001b[43mdata2\u001b[49m\n",
      "\u001b[0;31mTypeError\u001b[0m: unsupported operand type(s) for +: 'dict' and 'dict'"
     ]
    }
   ],
   "source": [
    "data = {'name':'afsan', (1,2,3):24 , 1:[1,2,3]}\n",
    "data2 = {2:2}\n",
    "\n",
    "data + data2"
   ]
  },
  {
   "cell_type": "code",
   "execution_count": 67,
   "id": "9c14bc21",
   "metadata": {},
   "outputs": [
    {
     "ename": "TypeError",
     "evalue": "unsupported operand type(s) for +: 'dict' and 'int'",
     "output_type": "error",
     "traceback": [
      "\u001b[0;31m---------------------------------------------------------------------------\u001b[0m",
      "\u001b[0;31mTypeError\u001b[0m                                 Traceback (most recent call last)",
      "Input \u001b[0;32mIn [67]\u001b[0m, in \u001b[0;36m<cell line: 4>\u001b[0;34m()\u001b[0m\n\u001b[1;32m      1\u001b[0m data \u001b[38;5;241m=\u001b[39m {\u001b[38;5;124m'\u001b[39m\u001b[38;5;124mname\u001b[39m\u001b[38;5;124m'\u001b[39m:\u001b[38;5;124m'\u001b[39m\u001b[38;5;124mafsan\u001b[39m\u001b[38;5;124m'\u001b[39m, (\u001b[38;5;241m1\u001b[39m,\u001b[38;5;241m2\u001b[39m,\u001b[38;5;241m3\u001b[39m):\u001b[38;5;241m24\u001b[39m , \u001b[38;5;241m1\u001b[39m:[\u001b[38;5;241m1\u001b[39m,\u001b[38;5;241m2\u001b[39m,\u001b[38;5;241m3\u001b[39m]}\n\u001b[1;32m      2\u001b[0m data2 \u001b[38;5;241m=\u001b[39m \u001b[38;5;241m4\u001b[39m\n\u001b[0;32m----> 4\u001b[0m \u001b[43mdata\u001b[49m\u001b[43m \u001b[49m\u001b[38;5;241;43m+\u001b[39;49m\u001b[43m \u001b[49m\u001b[43mdata2\u001b[49m\n",
      "\u001b[0;31mTypeError\u001b[0m: unsupported operand type(s) for +: 'dict' and 'int'"
     ]
    }
   ],
   "source": [
    "data = {'name':'afsan', (1,2,3):24 , 1:[1,2,3]}\n",
    "data2 = 4\n",
    "\n",
    "data + data2"
   ]
  },
  {
   "cell_type": "code",
   "execution_count": 69,
   "id": "2c71ddf3",
   "metadata": {},
   "outputs": [
    {
     "name": "stdout",
     "output_type": "stream",
     "text": [
      "140320513905408\n",
      "140320513240384\n",
      "False\n"
     ]
    }
   ],
   "source": [
    "data = {'name':'afsan', (1,2,3):24 , 1:[1,2,3]}\n",
    "data2 = {'name':'afsan', (1,2,3):24 , 1:[1,2,3]}\n",
    "\n",
    "print(id(data))\n",
    "print(id(data2))\n",
    "\n",
    "print(data is data2)"
   ]
  },
  {
   "cell_type": "code",
   "execution_count": 74,
   "id": "cf0c563f",
   "metadata": {},
   "outputs": [
    {
     "name": "stdout",
     "output_type": "stream",
     "text": [
      "False\n",
      "False\n"
     ]
    },
    {
     "data": {
      "text/plain": [
       "True"
      ]
     },
     "execution_count": 74,
     "metadata": {},
     "output_type": "execute_result"
    }
   ],
   "source": [
    "# 11. membership op is applicable but only on key\n",
    "data = {'name':'afsan', (1,2,3):24 , 1:[1,2,3]}\n",
    "print('afsan' in data)\n",
    "\n",
    "data = {'name':'afsan', (1,2,3):24 , 1:[1,2,3]}\n",
    "print('1' in data)\n",
    "\n",
    "data = {'name':'afsan', (1,2,3):24 , 1:[1,2,3]}\n",
    "(1,2,3) in data"
   ]
  },
  {
   "cell_type": "code",
   "execution_count": null,
   "id": "865c6883",
   "metadata": {},
   "outputs": [],
   "source": [
    "# mutable\n",
    "\n",
    "data = {'name':'afsan', (1,2,3):24 , 1:[1,2,3]}\n",
    "data['name'] = 'xyz'"
   ]
  }
 ],
 "metadata": {
  "kernelspec": {
   "display_name": "Python 3 (ipykernel)",
   "language": "python",
   "name": "python3"
  },
  "language_info": {
   "codemirror_mode": {
    "name": "ipython",
    "version": 3
   },
   "file_extension": ".py",
   "mimetype": "text/x-python",
   "name": "python",
   "nbconvert_exporter": "python",
   "pygments_lexer": "ipython3",
   "version": "3.9.12"
  }
 },
 "nbformat": 4,
 "nbformat_minor": 5
}
