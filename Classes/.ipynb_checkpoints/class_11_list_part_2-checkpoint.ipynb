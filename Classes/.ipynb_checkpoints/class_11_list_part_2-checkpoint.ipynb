{
 "cells": [
  {
   "cell_type": "code",
   "execution_count": 1,
   "id": "a03db29e",
   "metadata": {},
   "outputs": [
    {
     "name": "stdout",
     "output_type": "stream",
     "text": [
      "[9, 8, 6, 5, 3, 7, 1]\n"
     ]
    }
   ],
   "source": [
    "# reverse - reverses the list\n",
    "\n",
    "a = [1,7,3,5,6,8,9]\n",
    "a.reverse()\n",
    "print(a)"
   ]
  },
  {
   "cell_type": "code",
   "execution_count": 2,
   "id": "30be467b",
   "metadata": {},
   "outputs": [],
   "source": [
    "# sort\n",
    "\n",
    "\"\"\"- element should be homegenous data\"\"\"\n",
    "\n",
    "a = [1,7,3,5,6,8,9]\n",
    "a.sort()"
   ]
  },
  {
   "cell_type": "code",
   "execution_count": 5,
   "id": "f1c4dba7",
   "metadata": {},
   "outputs": [
    {
     "data": {
      "text/plain": [
       "[9, 8, 7, 6, 5, 3, 1]"
      ]
     },
     "execution_count": 5,
     "metadata": {},
     "output_type": "execute_result"
    }
   ],
   "source": [
    "a = [1,7,3,5,6,8,9]\n",
    "a.sort(reverse = True)\n",
    "a"
   ]
  },
  {
   "cell_type": "code",
   "execution_count": 6,
   "id": "905f682a",
   "metadata": {},
   "outputs": [],
   "source": [
    "# clear - it clears the elemts in the list\n",
    "\n",
    "a = [1,7,3,5,6,8,9]\n",
    "a.clear()"
   ]
  },
  {
   "cell_type": "code",
   "execution_count": 8,
   "id": "1a0f7573",
   "metadata": {},
   "outputs": [],
   "source": [
    "del a"
   ]
  },
  {
   "cell_type": "code",
   "execution_count": 9,
   "id": "ab292f52",
   "metadata": {},
   "outputs": [
    {
     "ename": "NameError",
     "evalue": "name 'a' is not defined",
     "output_type": "error",
     "traceback": [
      "\u001b[0;31m---------------------------------------------------------------------------\u001b[0m",
      "\u001b[0;31mNameError\u001b[0m                                 Traceback (most recent call last)",
      "Input \u001b[0;32mIn [9]\u001b[0m, in \u001b[0;36m<cell line: 1>\u001b[0;34m()\u001b[0m\n\u001b[0;32m----> 1\u001b[0m \u001b[43ma\u001b[49m\n",
      "\u001b[0;31mNameError\u001b[0m: name 'a' is not defined"
     ]
    }
   ],
   "source": [
    "a"
   ]
  },
  {
   "cell_type": "code",
   "execution_count": null,
   "id": "c314d654",
   "metadata": {},
   "outputs": [],
   "source": [
    "# shallow and deep copy"
   ]
  },
  {
   "cell_type": "code",
   "execution_count": 11,
   "id": "d0381286",
   "metadata": {},
   "outputs": [
    {
     "name": "stdout",
     "output_type": "stream",
     "text": [
      "[1, 2, 3, 4, 5] 140500870648000\n",
      "[1, 2, 3, 4, 5] 140500870648000\n",
      "[100, 2, 3, 4, 5] 140500870648000\n",
      "[100, 2, 3, 4, 5] 140500870648000\n"
     ]
    }
   ],
   "source": [
    "a = [1,2,3,4,5]\n",
    "b = a #aliasing\n",
    "\n",
    "print(a , id(a))\n",
    "print(b, id(b))\n",
    "\n",
    "b[0] = 100\n",
    "\n",
    "print(a , id(a))\n",
    "print(b, id(b))"
   ]
  },
  {
   "cell_type": "code",
   "execution_count": 12,
   "id": "24c7cf98",
   "metadata": {},
   "outputs": [
    {
     "name": "stdout",
     "output_type": "stream",
     "text": [
      "[1, 2, 3, 4, 5] 140500870649984\n",
      "[1, 2, 3, 4, 5] 140500329481984\n",
      "[1, 2, 3, 4, 5] 140500870649984\n",
      "[100, 2, 3, 4, 5] 140500329481984\n"
     ]
    }
   ],
   "source": [
    "# shallow copy\n",
    "\n",
    "a = [1,2,3,4,5]\n",
    "b = a.copy()\n",
    "\n",
    "print(a , id(a))\n",
    "print(b, id(b))\n",
    "\n",
    "b[0] = 100\n",
    "\n",
    "print(a , id(a))\n",
    "print(b, id(b))"
   ]
  },
  {
   "cell_type": "code",
   "execution_count": null,
   "id": "1e6e58b5",
   "metadata": {},
   "outputs": [],
   "source": [
    "# question - will shallow will work in all the scenarios\n",
    "\n",
    "- shallow does not work if it has the nested list"
   ]
  },
  {
   "cell_type": "code",
   "execution_count": 18,
   "id": "893bc6bb",
   "metadata": {},
   "outputs": [
    {
     "name": "stdout",
     "output_type": "stream",
     "text": [
      "[1, 2, [3, 4, 5]] 140500862691632\n",
      "[1, 2, [3, 4, 5]] 140500862691632\n",
      "[1, 2, [100, 4, 5]] 140500870649856\n",
      "[1, 2, [100, 4, 5]] 140500870626752\n"
     ]
    }
   ],
   "source": [
    "a = [1,2,[3,4,5]]\n",
    "b = a.copy()\n",
    "\n",
    "print(a , id(a[0]))\n",
    "print(b, id(b[0]))\n",
    "\n",
    "b[-1][0] = 100\n",
    "\n",
    "print(a , id(a))\n",
    "print(b, id(b))"
   ]
  },
  {
   "cell_type": "code",
   "execution_count": 19,
   "id": "be738d2e",
   "metadata": {},
   "outputs": [
    {
     "name": "stdout",
     "output_type": "stream",
     "text": [
      "[10, 20, [30, 10]]\n",
      "[10, 20, 30]\n"
     ]
    }
   ],
   "source": [
    "a=[10,20,[30,10]]\n",
    "b=a.copy()\n",
    "b[2]=30\n",
    "print(a)\n",
    "print(b)"
   ]
  },
  {
   "cell_type": "code",
   "execution_count": null,
   "id": "6df369c0",
   "metadata": {},
   "outputs": [],
   "source": [
    "# then what to do if you have nested list\n",
    "\n",
    "# Deep copy"
   ]
  },
  {
   "cell_type": "code",
   "execution_count": 22,
   "id": "0faf172f",
   "metadata": {},
   "outputs": [
    {
     "name": "stdout",
     "output_type": "stream",
     "text": [
      "[1, 2, [3, [4, 5]]] 140500334751040\n",
      "[1, 2, [3, [4, 5]]] 140500329598272\n",
      "[1, 2, [3, [4, 5]]] 140500334749248\n",
      "[1, 2, [3, [100, 5]]] 140500333214144\n"
     ]
    }
   ],
   "source": [
    "from copy import deepcopy\n",
    "a = [1,2,[3,[4,5]]]\n",
    "b = deepcopy(a)\n",
    "\n",
    "print(a , id(a[-1]))\n",
    "print(b, id(b[-1]))\n",
    "\n",
    "b[-1][-1][0] = 100\n",
    "\n",
    "print(a , id(a))\n",
    "print(b, id(b))"
   ]
  },
  {
   "cell_type": "code",
   "execution_count": 23,
   "id": "24847521",
   "metadata": {},
   "outputs": [],
   "source": [
    "import copy"
   ]
  },
  {
   "cell_type": "code",
   "execution_count": 24,
   "id": "81c1f301",
   "metadata": {},
   "outputs": [
    {
     "data": {
      "text/plain": [
       "['Error',\n",
       " '__all__',\n",
       " '__builtins__',\n",
       " '__cached__',\n",
       " '__doc__',\n",
       " '__file__',\n",
       " '__loader__',\n",
       " '__name__',\n",
       " '__package__',\n",
       " '__spec__',\n",
       " '_copy_dispatch',\n",
       " '_copy_immutable',\n",
       " '_deepcopy_atomic',\n",
       " '_deepcopy_dict',\n",
       " '_deepcopy_dispatch',\n",
       " '_deepcopy_list',\n",
       " '_deepcopy_method',\n",
       " '_deepcopy_tuple',\n",
       " '_keep_alive',\n",
       " '_reconstruct',\n",
       " 'copy',\n",
       " 'deepcopy',\n",
       " 'dispatch_table',\n",
       " 'error']"
      ]
     },
     "execution_count": 24,
     "metadata": {},
     "output_type": "execute_result"
    }
   ],
   "source": [
    "dir(copy)"
   ]
  },
  {
   "cell_type": "code",
   "execution_count": null,
   "id": "3b7480d3",
   "metadata": {},
   "outputs": [],
   "source": [
    "# list comphrehension"
   ]
  },
  {
   "cell_type": "code",
   "execution_count": null,
   "id": "5184332a",
   "metadata": {},
   "outputs": [],
   "source": [
    "# for loop\n",
    "\n",
    "a = input('enter brand 1')\n",
    "b = input('enter brand 2')\n",
    "c = input('enter brand 3')\n",
    "d = input('enter brand 4')\n",
    "e = input('enter brand 5')"
   ]
  },
  {
   "cell_type": "code",
   "execution_count": null,
   "id": "4074cfb3",
   "metadata": {},
   "outputs": [],
   "source": [
    "# syntax\n",
    "\n",
    "for var in iterable:\n",
    "    statment"
   ]
  },
  {
   "cell_type": "code",
   "execution_count": 26,
   "id": "4e6d5c83",
   "metadata": {},
   "outputs": [
    {
     "name": "stdout",
     "output_type": "stream",
     "text": [
      "enter brand namedell\n",
      "dell\n",
      "enter brand nameasus\n",
      "asus\n",
      "enter brand namemi\n",
      "mi\n",
      "enter brand namelenevo\n",
      "lenevo\n",
      "enter brand namepredator\n",
      "predator\n"
     ]
    }
   ],
   "source": [
    "for i in [1,2,3,4,5]:\n",
    "    a = input('enter brand name')\n",
    "    print(a)"
   ]
  },
  {
   "cell_type": "code",
   "execution_count": null,
   "id": "f57c6f7a",
   "metadata": {},
   "outputs": [],
   "source": [
    "for iter 1 i = 1\n",
    "afsaan\n",
    "\n",
    "for iter 2 i = 2\n",
    "afsaan\n",
    "\n",
    "for iter 3 i = 3\n",
    "afsaan\n",
    "\n",
    "for iter 4 i = 4\n",
    "afsaan\n",
    "\n",
    "for iter 5 i = 5\n",
    "afsaan\n",
    "\n",
    "for iter 5 i = 5\n",
    "afsaan"
   ]
  },
  {
   "cell_type": "code",
   "execution_count": 27,
   "id": "b0e921c0",
   "metadata": {},
   "outputs": [
    {
     "ename": "TypeError",
     "evalue": "'int' object is not iterable",
     "output_type": "error",
     "traceback": [
      "\u001b[0;31m---------------------------------------------------------------------------\u001b[0m",
      "\u001b[0;31mTypeError\u001b[0m                                 Traceback (most recent call last)",
      "Input \u001b[0;32mIn [27]\u001b[0m, in \u001b[0;36m<cell line: 3>\u001b[0;34m()\u001b[0m\n\u001b[1;32m      1\u001b[0m a \u001b[38;5;241m=\u001b[39m [\u001b[38;5;241m1\u001b[39m,\u001b[38;5;241m2\u001b[39m,\u001b[38;5;241m3\u001b[39m,[\u001b[38;5;124m'\u001b[39m\u001b[38;5;124mafsaan\u001b[39m\u001b[38;5;124m'\u001b[39m] , \u001b[38;5;241m100\u001b[39m]\n\u001b[0;32m----> 3\u001b[0m \u001b[38;5;28;01mfor\u001b[39;00m i \u001b[38;5;129;01min\u001b[39;00m a[\u001b[38;5;241m-\u001b[39m\u001b[38;5;241m1\u001b[39m]:\n\u001b[1;32m      4\u001b[0m     \u001b[38;5;28mprint\u001b[39m(\u001b[38;5;124m'\u001b[39m\u001b[38;5;124mlearnbay\u001b[39m\u001b[38;5;124m'\u001b[39m)\n",
      "\u001b[0;31mTypeError\u001b[0m: 'int' object is not iterable"
     ]
    }
   ],
   "source": [
    "a = [1,2,3,['afsaan'] , 100]\n",
    "\n",
    "for i in a[-1]:\n",
    "    print('learnbay')"
   ]
  },
  {
   "cell_type": "code",
   "execution_count": 6,
   "id": "71596b2f",
   "metadata": {},
   "outputs": [
    {
     "name": "stdout",
     "output_type": "stream",
     "text": [
      "learnbay\n",
      "learnbay\n",
      "learnbay\n",
      "learnbay\n",
      "learnbay\n",
      "learnbay\n"
     ]
    }
   ],
   "source": [
    "a = [1,2,3,['afsaan'] , 100]\n",
    "\n",
    "for i in a[-2][0]:\n",
    "    print('learnbay')"
   ]
  },
  {
   "cell_type": "code",
   "execution_count": 35,
   "id": "65a34280",
   "metadata": {},
   "outputs": [
    {
     "name": "stdout",
     "output_type": "stream",
     "text": [
      "a\n",
      "f\n",
      "s\n",
      "a\n",
      "a\n",
      "n\n"
     ]
    }
   ],
   "source": [
    "a = [1,2,3,['afsaan'] , 100]\n",
    "\n",
    "for i in 'afsaan':\n",
    "    print(i)"
   ]
  },
  {
   "cell_type": "code",
   "execution_count": 36,
   "id": "aa39e86b",
   "metadata": {},
   "outputs": [
    {
     "name": "stdout",
     "output_type": "stream",
     "text": [
      "100\n",
      "9\n",
      "36\n",
      "16\n",
      "49\n",
      "64\n"
     ]
    }
   ],
   "source": [
    "a = [10,3,6,4,7,8]\n",
    "for i in a:\n",
    "    print(i**2)\n",
    "# print sqaure of all the elements"
   ]
  },
  {
   "cell_type": "code",
   "execution_count": 39,
   "id": "eff19fcf",
   "metadata": {},
   "outputs": [
    {
     "data": {
      "text/plain": [
       "'a'"
      ]
     },
     "execution_count": 39,
     "metadata": {},
     "output_type": "execute_result"
    }
   ],
   "source": [
    "a = [1,2,3,['afsaan'] , 100]\n",
    "a[-2][0][0]"
   ]
  },
  {
   "cell_type": "code",
   "execution_count": 38,
   "id": "1a35d95a",
   "metadata": {},
   "outputs": [
    {
     "data": {
      "text/plain": [
       "'a'"
      ]
     },
     "execution_count": 38,
     "metadata": {},
     "output_type": "execute_result"
    }
   ],
   "source": [
    "a = [10,3,6,4,7,8]\n",
    "# print sqaure of all the elements and add to a new list\n",
    "\n",
    "\"\"\"\n",
    "syntax = lst = [10,3,6,4,7,8]\n",
    "list_2 = [100,9,36,16,49,64]\n",
    "\"\"\""
   ]
  },
  {
   "cell_type": "code",
   "execution_count": 40,
   "id": "c659832e",
   "metadata": {},
   "outputs": [],
   "source": [
    "a = [10,3,6,4,7,8]\n",
    "b = []\n",
    "for i in a:\n",
    "    b.append(i**2)"
   ]
  },
  {
   "cell_type": "code",
   "execution_count": 41,
   "id": "1391dc3e",
   "metadata": {},
   "outputs": [
    {
     "data": {
      "text/plain": [
       "[100, 9, 36, 16, 49, 64]"
      ]
     },
     "execution_count": 41,
     "metadata": {},
     "output_type": "execute_result"
    }
   ],
   "source": [
    "b"
   ]
  },
  {
   "cell_type": "code",
   "execution_count": 43,
   "id": "820c15c6",
   "metadata": {},
   "outputs": [],
   "source": [
    "a = ['afsaan@gmail.com' , 'akash@email.com' , 'gulab@gmail.com' , 'krishna@yahoo.in' , 'pranali@xyz.in']\n",
    "b = []\n",
    "for i in a:\n",
    "    b.append(i.split('@')[0])"
   ]
  },
  {
   "cell_type": "code",
   "execution_count": 44,
   "id": "46576bcb",
   "metadata": {},
   "outputs": [
    {
     "data": {
      "text/plain": [
       "['afsaan', 'akash', 'gulab', 'krishna', 'pranali']"
      ]
     },
     "execution_count": 44,
     "metadata": {},
     "output_type": "execute_result"
    }
   ],
   "source": [
    "b"
   ]
  },
  {
   "cell_type": "code",
   "execution_count": null,
   "id": "67e24e7b",
   "metadata": {},
   "outputs": [],
   "source": [
    "a = ['afsaan@gmail.com' , 'akash@email.com' , 'gulab@gmail.com' , 'krishna@yahoo.in' , 'pranali@xyz.in']\n",
    "b = []\n",
    "for i in a:\n",
    "    b.append(i.split('@')[0])"
   ]
  },
  {
   "cell_type": "code",
   "execution_count": 45,
   "id": "e4af5f6b",
   "metadata": {},
   "outputs": [
    {
     "data": {
      "text/plain": [
       "['afsaan', 'gmail.com']"
      ]
     },
     "execution_count": 45,
     "metadata": {},
     "output_type": "execute_result"
    }
   ],
   "source": [
    "#. list comphrension\n",
    "\n",
    "1. when - \n",
    " - when creating a list\n",
    " - when you only 1 stamenrt\n",
    "\n",
    "synatx = [statment for i in iterable]"
   ]
  },
  {
   "cell_type": "code",
   "execution_count": 46,
   "id": "ab35269a",
   "metadata": {},
   "outputs": [
    {
     "name": "stdout",
     "output_type": "stream",
     "text": [
      "['afsaan', 'akash', 'gulab', 'krishna', 'pranali']\n"
     ]
    }
   ],
   "source": [
    "a = ['afsaan@gmail.com' , 'akash@email.com' , 'gulab@gmail.com' , 'krishna@yahoo.in' , 'pranali@xyz.in']\n",
    "b = [i.split('@')[0] for i in a]\n",
    "print(b)"
   ]
  },
  {
   "cell_type": "code",
   "execution_count": null,
   "id": "92bdcced",
   "metadata": {},
   "outputs": [],
   "source": [
    "a = [10,3,6,4,7,8]\n",
    "b = []\n",
    "for i in a:\n",
    "    b.append(i**2)"
   ]
  },
  {
   "cell_type": "code",
   "execution_count": 47,
   "id": "1a9ed8ee",
   "metadata": {},
   "outputs": [
    {
     "name": "stdout",
     "output_type": "stream",
     "text": [
      "[100, 9, 36, 16, 49, 64]\n"
     ]
    }
   ],
   "source": [
    "a = [10,3,6,4,7,8]\n",
    "b = [i**2 for i in a]\n",
    "print(b)"
   ]
  },
  {
   "cell_type": "code",
   "execution_count": null,
   "id": "46482ed1",
   "metadata": {},
   "outputs": [],
   "source": [
    "[100, 9]"
   ]
  },
  {
   "cell_type": "code",
   "execution_count": null,
   "id": "f61030b1",
   "metadata": {},
   "outputs": [],
   "source": [
    "a=[1,2,3]\n",
    "for i in a:\n",
    "    a.append(i**2)\n",
    "    \n",
    "print(a)"
   ]
  },
  {
   "cell_type": "code",
   "execution_count": null,
   "id": "bf484c21",
   "metadata": {},
   "outputs": [],
   "source": [
    "a = [1,6,4,3,7,9]\n",
    "b = [even numbers]\n",
    "\n",
    "# for"
   ]
  }
 ],
 "metadata": {
  "kernelspec": {
   "display_name": "Python 3 (ipykernel)",
   "language": "python",
   "name": "python3"
  },
  "language_info": {
   "codemirror_mode": {
    "name": "ipython",
    "version": 3
   },
   "file_extension": ".py",
   "mimetype": "text/x-python",
   "name": "python",
   "nbconvert_exporter": "python",
   "pygments_lexer": "ipython3",
   "version": "3.9.12"
  }
 },
 "nbformat": 4,
 "nbformat_minor": 5
}
