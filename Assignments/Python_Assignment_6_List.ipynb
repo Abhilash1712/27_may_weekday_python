{
 "cells": [
  {
   "cell_type": "markdown",
   "id": "290c9569",
   "metadata": {},
   "source": [
    "#Write a Python program to find the sum of all elements in a list using loop.\n",
    "\n",
    "#Input:- [10,20,30,40]\n",
    "\n",
    "#Output:- 100\n",
    "\n",
    "\n"
   ]
  },
  {
   "cell_type": "code",
   "execution_count": 2,
   "id": "6d588cf8",
   "metadata": {},
   "outputs": [
    {
     "name": "stdout",
     "output_type": "stream",
     "text": [
      "Sum of all the element is : 100\n"
     ]
    }
   ],
   "source": [
    "list1 = [10,20,30,40]\n",
    "\n",
    "sum = 0\n",
    "\n",
    "for i in list1:\n",
    "    sum = sum + i\n",
    "    \n",
    "print('Sum of all the element is :',sum)\n"
   ]
  },
  {
   "cell_type": "markdown",
   "id": "8114e4af",
   "metadata": {},
   "source": [
    "#Write a Python program to find the multiplication of all elements in a list using loop.\n",
    "\n",
    "#Input:- [10,20,30,40]\n",
    "\n",
    "#Output:- 240000\n",
    "\n",
    "\n"
   ]
  },
  {
   "cell_type": "code",
   "execution_count": 5,
   "id": "454c0f37",
   "metadata": {},
   "outputs": [
    {
     "name": "stdout",
     "output_type": "stream",
     "text": [
      "Product of all the element is : 240000\n"
     ]
    }
   ],
   "source": [
    "list1 = [10,20,30,40]\n",
    "\n",
    "total = 1\n",
    "\n",
    "for i in list1:\n",
    "    total = total * i\n",
    "    \n",
    "print('Product of all the element is :',total)\n"
   ]
  },
  {
   "cell_type": "markdown",
   "id": "b18395d5",
   "metadata": {},
   "source": [
    "#Write a Python program to find the largest number from a list using loop.\n",
    "\n",
    "#Input:- [10,100,2321, 1,200,2]\n",
    "\n",
    "#Output:- 2321\n",
    "\n",
    "\n"
   ]
  },
  {
   "cell_type": "code",
   "execution_count": 14,
   "id": "94e59557",
   "metadata": {},
   "outputs": [
    {
     "name": "stdout",
     "output_type": "stream",
     "text": [
      "The largest number is: 2321\n"
     ]
    }
   ],
   "source": [
    "a = [10,100,2321, 1,200,2]\n",
    "\n",
    "ln = a[0]\n",
    "\n",
    "for i in a:\n",
    "    if i > ln:\n",
    "        ln = i\n",
    "        \n",
    "print('The largest number is:',ln)        \n",
    "\n"
   ]
  },
  {
   "cell_type": "markdown",
   "id": "68fe14ad",
   "metadata": {},
   "source": [
    "#Write a Python program to find the smallest number from a list using loop.\n",
    "\n",
    "#Input:- [10,100,2321, 1,200,2]\n",
    "\n",
    "#Output:- 1\n",
    "\n",
    "\n"
   ]
  },
  {
   "cell_type": "code",
   "execution_count": 16,
   "id": "59d5d083",
   "metadata": {},
   "outputs": [
    {
     "name": "stdout",
     "output_type": "stream",
     "text": [
      "The smallest number is: 1\n"
     ]
    }
   ],
   "source": [
    "a = [10,100,2321, 1,200,2]\n",
    "\n",
    "ln = a[0]\n",
    "\n",
    "for i in a:\n",
    "    if i < ln:\n",
    "        ln = i\n",
    "        \n",
    "print('The smallest number is:',ln)        \n",
    "\n"
   ]
  },
  {
   "cell_type": "markdown",
   "id": "8b783e77",
   "metadata": {},
   "source": [
    "#Write a Python program to count the number of strings having length more than 2 and are palindrome in a list using loop.\n",
    "\n",
    "#Input:- ['ab', 'abc', 'aba', 'xyz', '1991']\n",
    "\n",
    "#Output:- 2"
   ]
  },
  {
   "cell_type": "code",
   "execution_count": 46,
   "id": "1b06f9f5",
   "metadata": {},
   "outputs": [
    {
     "name": "stdout",
     "output_type": "stream",
     "text": [
      "It is not a palindrome\n"
     ]
    }
   ],
   "source": [
    "a = ['ab', 'abc', 'aba', 'xyz', '1991']\n",
    "\n",
    "i = 1\n",
    "\n",
    "for i in a:\n",
    "    b == a[::-1]\n",
    "    if a[::-1] == b:\n",
    "        print('It is a palindrome')\n",
    "        break\n",
    "    else:\n",
    "        print('It is not a palindrome')\n",
    "        break\n",
    "   \n"
   ]
  },
  {
   "cell_type": "markdown",
   "id": "2d893226",
   "metadata": {},
   "source": [
    "#Write a Python program to sort a list in ascending order using loop.\n",
    "\n",
    "#Input:- [100,10,1,298,65,483,49876,2,80,9,9213]\n",
    "\n",
    "#Output:- [1,2,9,10,65,80,100,298,483,9213,49876]\n",
    "\n",
    "\n"
   ]
  },
  {
   "cell_type": "code",
   "execution_count": 26,
   "id": "502d7a40",
   "metadata": {},
   "outputs": [
    {
     "name": "stdout",
     "output_type": "stream",
     "text": [
      "[1, 2, 9, 10, 65, 80, 100, 298, 483, 9213, 49876]\n"
     ]
    }
   ],
   "source": [
    "a =  [100,10,1,298,65,483,49876,2,80,9,9213]\n",
    "\n",
    "\n",
    "a.sort()\n",
    "\n",
    "print(a)"
   ]
  },
  {
   "cell_type": "markdown",
   "id": "74343e61",
   "metadata": {},
   "source": [
    "#Write a Python program to get a sorted list in increasing order of last element in each tuple in a given list using loop.\n",
    "\n",
    "#Input:- [(5,4),(9,1),(2,3),(5,9),(7,6),(5,5)]\n",
    "\n",
    "#output:- [(9,1),(2,3),(5,4),(5,5),(7,6),(5,9)]\n",
    "\n",
    "\n"
   ]
  },
  {
   "cell_type": "code",
   "execution_count": 70,
   "id": "9a1dcf77",
   "metadata": {},
   "outputs": [
    {
     "name": "stdout",
     "output_type": "stream",
     "text": [
      "Sorted : [(9, 1), (2, 3), (5, 4), (5, 5), (7, 6), (5, 9)]\n"
     ]
    }
   ],
   "source": [
    "def last(n):\n",
    "    return n[-1] \n",
    "  \n",
    "def sort(tuples):\n",
    "    return sorted(tuples, key=last)\n",
    "  \n",
    "a=[(5,4),(9,1),(2,3),(5,9),(7,6),(5,5)]\n",
    "\n",
    "print('Sorted :' , sort(a))\n",
    "\n",
    "    \n"
   ]
  },
  {
   "cell_type": "markdown",
   "id": "13874d0d",
   "metadata": {},
   "source": [
    "#Write a Python program to remove duplicate element from a list using loop.\n",
    "\n",
    "#Input:- [10,1,11,1,29,876,768,10,11,1,92,29,876]\n",
    "\n",
    "#Output:- [10,1,11,29,876,768,92]\n",
    "\n",
    "\n"
   ]
  },
  {
   "cell_type": "code",
   "execution_count": 38,
   "id": "d934d7c8",
   "metadata": {},
   "outputs": [
    {
     "name": "stdout",
     "output_type": "stream",
     "text": [
      "The original list is : [10, 1, 11, 1, 29, 876, 768, 10, 11, 1, 92, 29, 876]\n",
      "The list after removing duplicates : [10, 1, 11, 29, 876, 768, 92]\n"
     ]
    }
   ],
   "source": [
    "a = [10,1,11,1,29,876,768,10,11,1,92,29,876] \n",
    "\n",
    "print (\"The original list is : \"+ str(a))\n",
    " \n",
    "res = []\n",
    "for i in a:\n",
    "    if i not in res:\n",
    "        res.append(i)\n",
    " \n",
    "print (\"The list after removing duplicates : \"+ str(res))"
   ]
  },
  {
   "cell_type": "markdown",
   "id": "c23326dc",
   "metadata": {},
   "source": [
    "#Write a Python program to check a list is empty or not?\n",
    "\n",
    "#Input:- []\n",
    "\n",
    "#Output:- List is empty\n",
    "\n",
    "#Input:- [10,20,30]\n",
    "\n",
    "#Output:- List is not empty\n",
    "\n",
    "\n"
   ]
  },
  {
   "cell_type": "code",
   "execution_count": 88,
   "id": "e1118387",
   "metadata": {},
   "outputs": [
    {
     "name": "stdout",
     "output_type": "stream",
     "text": [
      "Empty List\n",
      "The list is not empty\n"
     ]
    }
   ],
   "source": [
    "def Enquiry(list1):\n",
    "    if len(list1) == 0:\n",
    "        return 0\n",
    "    else:\n",
    "        return 1\n",
    "\n",
    "lis1 = []\n",
    "\n",
    "if Enquiry(lis1):\n",
    "    print(\"The list is not empty\")\n",
    "else:\n",
    "\n",
    "    print(\"Empty List\")\n",
    "    \n",
    "    \n",
    "lis1 = [10,20,30]\n",
    "\n",
    "if Enquiry(lis1):\n",
    "    print(\"The list is not empty\")\n",
    "else:\n",
    "\n",
    "    print(\"Empty List\")"
   ]
  },
  {
   "cell_type": "markdown",
   "id": "799b778c",
   "metadata": {},
   "source": [
    "#Write a Python program to copy a list using loop.\n",
    "\n",
    "#inp_lst = [10,10.20,10+20j, 'Python', [10,20], (10,20)]\n",
    "\n",
    "#out_lst = [10,10.20,10+20j, 'Python', [10,20], (10,20)]\n"
   ]
  },
  {
   "cell_type": "code",
   "execution_count": 4,
   "id": "baa63376",
   "metadata": {},
   "outputs": [
    {
     "name": "stdout",
     "output_type": "stream",
     "text": [
      "[10, 10.2, (10+20j), 'Python', [10, 20], (10, 20)]\n",
      "[10, 10.2, (10+20j), 'Python', [10, 20], (10, 20)]\n",
      "[10, 10.2, (10+20j), 'Python', [10, 20], (10, 20)]\n",
      "[10, 10.2, (10+20j), 'Python', [10, 20], (10, 20)]\n",
      "[10, 10.2, (10+20j), 'Python', [10, 20], (10, 20)]\n",
      "[10, 10.2, (10+20j), 'Python', [10, 20], (10, 20)]\n"
     ]
    }
   ],
   "source": [
    "np_lst = [10,10.20,10+20j, 'Python', [10,20], (10,20)]\n",
    "\n",
    "for i in np_lst:\n",
    "    b = np_lst\n",
    "    print(b)"
   ]
  },
  {
   "cell_type": "markdown",
   "id": "1d1506a0",
   "metadata": {},
   "source": [
    "#Write a Python program to find the list of words that are longer than or equal to 4 from a given string.\n",
    "\n",
    "#Input:- 'How much wood would a woodchuck chuck if a woodchuck could chuck wood'\n",
    "\n",
    "#Output:- ['much', 'wood', 'would', 'woodchuck', 'chuck', 'could']\n",
    "\n",
    "#Note:- Duplicate should be avoided.\n"
   ]
  },
  {
   "cell_type": "code",
   "execution_count": 13,
   "id": "987b2e0d",
   "metadata": {},
   "outputs": [
    {
     "name": "stdout",
     "output_type": "stream",
     "text": [
      "output:['much', 'wood', 'would', 'woodchuck', 'chuck', 'could']\n"
     ]
    }
   ],
   "source": [
    "\n",
    "def long_words(n, str):\n",
    "    word_len = []\n",
    "    txt = str.split(\" \")\n",
    "    for x in txt:\n",
    "        if len(x) > n:\n",
    "            word_len.append(x)\n",
    "    return word_len\t\n",
    "a = (long_words(3, \"How much wood would a woodchuck chuck if a woodchuck could chuck wood\"))\n",
    " \n",
    "res = []\n",
    "for i in a:\n",
    "    if i not in res:\n",
    "        res.append(i)\n",
    " \n",
    "print('output:'+ str(res))"
   ]
  },
  {
   "cell_type": "markdown",
   "id": "2ff013b7",
   "metadata": {},
   "source": [
    "#Write a Python program which takes two list as input and returns True if they have at least 3 common elements.\n",
    "\n",
    "#inp_lst1 = [10,20,'Python', 10.20, 10+20j, [10,20,30], (10,20,30)]\n",
    "\n",
    "#inp_lst2 = [(10,20,30),1,20+3j,100.2, 10+20j, [10,20,30],'Python']\n",
    "\n",
    "#Output:- True\n",
    "\n",
    "\n"
   ]
  },
  {
   "cell_type": "code",
   "execution_count": 65,
   "id": "8dfe19b5",
   "metadata": {},
   "outputs": [],
   "source": [
    "def commonElement(lst1,lst2):\n",
    "    common = 0\n",
    "    for i in lst1:\n",
    "        if i in lst2:\n",
    "            common += 1\n",
    "    if common >= 3:\n",
    "        return True"
   ]
  },
  {
   "cell_type": "code",
   "execution_count": 66,
   "id": "9b4f637e",
   "metadata": {},
   "outputs": [
    {
     "name": "stdout",
     "output_type": "stream",
     "text": [
      "True\n"
     ]
    }
   ],
   "source": [
    "lst1 = [10,20,'Python', 10.20, 10+20j, [10,20,30], (10,20,30)]\n",
    "lst2 = [(10,20,30),1,20+3j,100.2, 10+20j, [10,20,30],'Python']\n",
    "\n",
    "print(commonElement(lst1,lst2))"
   ]
  },
  {
   "cell_type": "markdown",
   "id": "1efe686a",
   "metadata": {},
   "source": [
    "#Write a Python program to create a 4X4 2D matrix with below elements using loop and list comprehension both.\n",
    "\n",
    "#Output:- [[0,0,0,0],[0,1,2,3],[0,2,4,6],[0,3,6,9]]\n",
    "\n"
   ]
  },
  {
   "cell_type": "code",
   "execution_count": null,
   "id": "33fe0ea4",
   "metadata": {},
   "outputs": [],
   "source": []
  },
  {
   "cell_type": "markdown",
   "id": "4ee1c28b",
   "metadata": {},
   "source": [
    "#Write a Python program which takes a list of numbers as input and prints a new list after removing even numbers from it.\n",
    "\n",
    "#Input:- [10,21,22,98,87,45,33,1,2,100]\n",
    "\n",
    "#Output:- [21,87,45,33,1]\n"
   ]
  },
  {
   "cell_type": "code",
   "execution_count": 1,
   "id": "e81bf1a7",
   "metadata": {},
   "outputs": [
    {
     "name": "stdout",
     "output_type": "stream",
     "text": [
      "[21, 98, 87, 45, 33, 1, 100]\n"
     ]
    }
   ],
   "source": [
    "a = [10,21,22,98,87,45,33,1,2,100]\n",
    "\n",
    "for i in a:\n",
    "    if (i%2 == 0):\n",
    "        a.remove(i)\n",
    "    \n",
    "    \n",
    "print(a)"
   ]
  },
  {
   "cell_type": "markdown",
   "id": "0a74f3e5",
   "metadata": {},
   "source": [
    "#Write a Python program which takes a list from the user and prints it after reshuffling the elements of the list.\n",
    "\n",
    "#Input:- [10,21,22,98,87,45,33,1,2,100]\n",
    "\n",
    "#Output:- [1,87,21,10,33,2,100,45,98,22] (It may be any randon list but with same elements)\n"
   ]
  },
  {
   "cell_type": "code",
   "execution_count": 15,
   "id": "78c3b5e0",
   "metadata": {},
   "outputs": [
    {
     "name": "stdout",
     "output_type": "stream",
     "text": [
      "[1, 98, 33, 21, 10, 100, 45, 22, 87, 2]\n"
     ]
    }
   ],
   "source": [
    "import random\n",
    "\n",
    "a = [10,21,22,98,87,45,33,1,2,100]\n",
    "\n",
    "random.shuffle(a)\n",
    "\n",
    "print(a)"
   ]
  },
  {
   "cell_type": "markdown",
   "id": "c50e0dbd",
   "metadata": {},
   "source": [
    "#Write a Python program to create a 3X4X6 3D matrix wiith below elements using loop\n",
    "#Output:- \n",
    "\n",
    "\n",
    "[\n",
    "              \n",
    "     [[0,0,0,0,0,0],[0,0,0,0,0,0],[0,0,0,0,0,0],[0,0,0,0,0,0]],\n",
    "     \n",
    "     [[0,0,0,0,0,0],[1,1,1,1,1,1],[2,2,2,2,2,2],[3,3,3,3,3,3]],\n",
    "     \n",
    "     [[0,0,0,0,0,0],[2,2,2,2,2,2],[4,4,4,4,4,4],[6,6,6,6,6,6]]\n",
    " ]\n"
   ]
  },
  {
   "cell_type": "code",
   "execution_count": null,
   "id": "52b91267",
   "metadata": {},
   "outputs": [],
   "source": []
  }
 ],
 "metadata": {
  "kernelspec": {
   "display_name": "Python 3 (ipykernel)",
   "language": "python",
   "name": "python3"
  },
  "language_info": {
   "codemirror_mode": {
    "name": "ipython",
    "version": 3
   },
   "file_extension": ".py",
   "mimetype": "text/x-python",
   "name": "python",
   "nbconvert_exporter": "python",
   "pygments_lexer": "ipython3",
   "version": "3.9.12"
  }
 },
 "nbformat": 4,
 "nbformat_minor": 5
}
