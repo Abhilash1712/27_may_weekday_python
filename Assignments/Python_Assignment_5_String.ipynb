{
 "cells": [
  {
   "cell_type": "markdown",
   "id": "401ad09c",
   "metadata": {},
   "source": [
    "#Declare a string and store it in a variable. \n",
    "\n",
    "\n",
    "\n",
    "#Check the type and print the id of the same."
   ]
  },
  {
   "cell_type": "code",
   "execution_count": 238,
   "id": "70265911",
   "metadata": {},
   "outputs": [
    {
     "name": "stdout",
     "output_type": "stream",
     "text": [
      "<class 'str'>\n",
      "2384603640304\n"
     ]
    }
   ],
   "source": [
    "a = 'Playing Cricket'\n",
    "\n",
    "print(type(a))\n",
    "print(id(a))"
   ]
  },
  {
   "cell_type": "markdown",
   "id": "e4b688b5",
   "metadata": {},
   "source": [
    "#Which are valid/invalid strings"
   ]
  },
  {
   "cell_type": "markdown",
   "id": "720c2712",
   "metadata": {},
   "source": [
    "1. 'This is Python class'\n",
    "valid/invalid"
   ]
  },
  {
   "cell_type": "code",
   "execution_count": 239,
   "id": "df8b6b46",
   "metadata": {},
   "outputs": [
    {
     "name": "stdout",
     "output_type": "stream",
     "text": [
      "This is Python class\n"
     ]
    }
   ],
   "source": [
    "print('This is Python class')  #Valid"
   ]
  },
  {
   "cell_type": "markdown",
   "id": "a6e0f08c",
   "metadata": {},
   "source": [
    "2. \"This is Python class\"\n",
    "valid/invalid\n"
   ]
  },
  {
   "cell_type": "code",
   "execution_count": 240,
   "id": "e082951e",
   "metadata": {},
   "outputs": [
    {
     "name": "stdout",
     "output_type": "stream",
     "text": [
      "This is Python class\n"
     ]
    }
   ],
   "source": [
    " print(\"This is Python class\")  #Valid"
   ]
  },
  {
   "cell_type": "markdown",
   "id": "9c3b9a58",
   "metadata": {},
   "source": [
    "3. '''This is Python class'''\n",
    "valid/invalid"
   ]
  },
  {
   "cell_type": "code",
   "execution_count": 241,
   "id": "e48f5632",
   "metadata": {},
   "outputs": [
    {
     "name": "stdout",
     "output_type": "stream",
     "text": [
      "This is Python class\n"
     ]
    }
   ],
   "source": [
    "print('''This is Python class''')   #valid"
   ]
  },
  {
   "cell_type": "markdown",
   "id": "d4a0c854",
   "metadata": {},
   "source": [
    "4. \"\"\"This is Python class\"\"\"\n",
    "valid/invalid"
   ]
  },
  {
   "cell_type": "code",
   "execution_count": 242,
   "id": "c7d7489b",
   "metadata": {},
   "outputs": [
    {
     "name": "stdout",
     "output_type": "stream",
     "text": [
      "This is Python class\n"
     ]
    }
   ],
   "source": [
    "print(\"\"\"This is Python class\"\"\")    # Valid"
   ]
  },
  {
   "cell_type": "markdown",
   "id": "b096cec8",
   "metadata": {},
   "source": [
    "5. 'This is Python's class'\n",
    "valid/invalid                      "
   ]
  },
  {
   "cell_type": "code",
   "execution_count": 244,
   "id": "aa1dd27a",
   "metadata": {},
   "outputs": [
    {
     "ename": "SyntaxError",
     "evalue": "invalid syntax (3088731399.py, line 1)",
     "output_type": "error",
     "traceback": [
      "\u001b[1;36m  Input \u001b[1;32mIn [244]\u001b[1;36m\u001b[0m\n\u001b[1;33m    print('This is Python's class')  #Invalid\u001b[0m\n\u001b[1;37m                          ^\u001b[0m\n\u001b[1;31mSyntaxError\u001b[0m\u001b[1;31m:\u001b[0m invalid syntax\n"
     ]
    }
   ],
   "source": [
    "print('This is Python's class')   # Invalid"
   ]
  },
  {
   "cell_type": "markdown",
   "id": "355dec45",
   "metadata": {},
   "source": [
    "6. \"Learnbay provides \"Java\", \"Python\" classes\"\n",
    "valid/invalid"
   ]
  },
  {
   "cell_type": "code",
   "execution_count": 245,
   "id": "4861a19b",
   "metadata": {},
   "outputs": [
    {
     "ename": "SyntaxError",
     "evalue": "invalid syntax (4100190196.py, line 1)",
     "output_type": "error",
     "traceback": [
      "\u001b[1;36m  Input \u001b[1;32mIn [245]\u001b[1;36m\u001b[0m\n\u001b[1;33m    print(\"Learnbay provides \"Java\", \"Python\" classes\")   #Invalid\u001b[0m\n\u001b[1;37m                              ^\u001b[0m\n\u001b[1;31mSyntaxError\u001b[0m\u001b[1;31m:\u001b[0m invalid syntax\n"
     ]
    }
   ],
   "source": [
    "print(\"Learnbay provides \"Java\", \"Python\" classes\")   #Invalid"
   ]
  },
  {
   "cell_type": "markdown",
   "id": "1716c03c",
   "metadata": {},
   "source": [
    "7. \"Learnbay provides 'Java', 'Python' classes\"\n",
    "valid/invalid"
   ]
  },
  {
   "cell_type": "code",
   "execution_count": 246,
   "id": "55fee409",
   "metadata": {},
   "outputs": [
    {
     "name": "stdout",
     "output_type": "stream",
     "text": [
      "Learnbay provides 'Java', 'Python' classes\n"
     ]
    }
   ],
   "source": [
    "print(\"Learnbay provides 'Java', 'Python' classes\")    #Valid"
   ]
  },
  {
   "cell_type": "markdown",
   "id": "f67ef37b",
   "metadata": {},
   "source": [
    "8. \"This is Python's class\"\n",
    "valid/invalid"
   ]
  },
  {
   "cell_type": "code",
   "execution_count": 247,
   "id": "9f2d7444",
   "metadata": {},
   "outputs": [
    {
     "name": "stdout",
     "output_type": "stream",
     "text": [
      "This is Python's class\n"
     ]
    }
   ],
   "source": [
    "print(\"This is Python's class\")     #Valid"
   ]
  },
  {
   "cell_type": "markdown",
   "id": "24fc6e09",
   "metadata": {},
   "source": [
    "9. \"\"\"Learnbay provides \"Java\", \"Python\" classes\"\"\"\n",
    "valid/invalid"
   ]
  },
  {
   "cell_type": "code",
   "execution_count": 248,
   "id": "1721831b",
   "metadata": {},
   "outputs": [
    {
     "name": "stdout",
     "output_type": "stream",
     "text": [
      "Learnbay provides \"Java\", \"Python\" classes\n"
     ]
    }
   ],
   "source": [
    "print(\"\"\"Learnbay provides \"Java\", \"Python\" classes\"\"\")    # Valid"
   ]
  },
  {
   "cell_type": "markdown",
   "id": "7ed1608e",
   "metadata": {},
   "source": [
    "10. '''Learnbay provides \"Java\", \"Python\" classes'''\n",
    "valid/invalid   #"
   ]
  },
  {
   "cell_type": "code",
   "execution_count": 249,
   "id": "8673a02f",
   "metadata": {},
   "outputs": [
    {
     "name": "stdout",
     "output_type": "stream",
     "text": [
      "Learnbay provides \"Java\", \"Python\" classes\n"
     ]
    }
   ],
   "source": [
    "print('''Learnbay provides \"Java\", \"Python\" classes''')   # Valid"
   ]
  },
  {
   "cell_type": "markdown",
   "id": "8788c872",
   "metadata": {},
   "source": [
    "11. '''Learnbay provides\n",
    "\"Java\", \"Python\" \n",
    "classes'''\n",
    "valid/invalid"
   ]
  },
  {
   "cell_type": "code",
   "execution_count": 250,
   "id": "96a0614e",
   "metadata": {},
   "outputs": [
    {
     "name": "stdout",
     "output_type": "stream",
     "text": [
      "Learnbay provides\n",
      "\"Java\", \"Python\" \n",
      "classes\n"
     ]
    }
   ],
   "source": [
    "print('''Learnbay provides\n",
    "\"Java\", \"Python\" \n",
    "classes''')           #valid"
   ]
  },
  {
   "cell_type": "markdown",
   "id": "b4999c14",
   "metadata": {},
   "source": [
    "12. 'This is\n",
    "Python \n",
    "class'\n",
    "valid/invalid"
   ]
  },
  {
   "cell_type": "code",
   "execution_count": 251,
   "id": "0a10ceab",
   "metadata": {},
   "outputs": [
    {
     "ename": "SyntaxError",
     "evalue": "EOL while scanning string literal (1366007279.py, line 1)",
     "output_type": "error",
     "traceback": [
      "\u001b[1;36m  Input \u001b[1;32mIn [251]\u001b[1;36m\u001b[0m\n\u001b[1;33m    a = 'This is\u001b[0m\n\u001b[1;37m                ^\u001b[0m\n\u001b[1;31mSyntaxError\u001b[0m\u001b[1;31m:\u001b[0m EOL while scanning string literal\n"
     ]
    }
   ],
   "source": [
    "a = 'This is\n",
    "     Python \n",
    "     class'\n",
    "        \n",
    "print(a)        # Invalid"
   ]
  },
  {
   "cell_type": "markdown",
   "id": "c8c82f47",
   "metadata": {},
   "source": [
    "#Write the code to get the output mentioned below print statement\n",
    "my_str = \"Although that way may not be obvious at first unless you're Dutch.\"\n",
    "my_str1 = \"Although that way may not be obvious at first unless you're Dutch.\"\n",
    "\n",
    "print()\n",
    "#output:- The length of my_str is 66\n",
    "\n",
    "print()\n",
    "#output:- id of my_str and my_str1 is same? - True\n",
    "\n",
    "print()\n",
    "#output:- Type of my_str is: str"
   ]
  },
  {
   "cell_type": "code",
   "execution_count": 1,
   "id": "26daea9c",
   "metadata": {},
   "outputs": [
    {
     "name": "stdout",
     "output_type": "stream",
     "text": [
      "The length of my_str is :  66\n"
     ]
    }
   ],
   "source": [
    "my_str = \"Although that way may not be obvious at first unless you're Dutch.\"\n",
    "my_str1 = \"Although that way may not be obvious at first unless you're Dutch.\"\n",
    "\n",
    "print('The length of my_str is : ', len(my_str))"
   ]
  },
  {
   "cell_type": "code",
   "execution_count": 8,
   "id": "26314b78",
   "metadata": {},
   "outputs": [
    {
     "name": "stdout",
     "output_type": "stream",
     "text": [
      "2697221518256\n",
      "2697221517360\n",
      "id of my_str and my_str1 are not same :  True\n"
     ]
    }
   ],
   "source": [
    "print(id(my_str))\n",
    "print(id(my_str1))\n",
    "\n",
    "print('id of my_str and my_str1 are not same : ' ,id(my_str) is not  id(my_str1))\n",
    "\n",
    "# No the id of my_str and my_str1 are not same "
   ]
  },
  {
   "cell_type": "code",
   "execution_count": 4,
   "id": "caca1ada",
   "metadata": {},
   "outputs": [
    {
     "name": "stdout",
     "output_type": "stream",
     "text": [
      "Type of my_str is: <class 'str'>\n"
     ]
    }
   ],
   "source": [
    "print('Type of my_str is:' ,type(my_str))"
   ]
  },
  {
   "cell_type": "markdown",
   "id": "32308e79",
   "metadata": {},
   "source": [
    "### Indexing"
   ]
  },
  {
   "cell_type": "markdown",
   "id": "9b226394",
   "metadata": {},
   "source": [
    "\n",
    "#Indexing\n",
    "my_str = \"Although 8 that way may not be obvious at first unless you're Dutch\"\n",
    "\n",
    "#Write the code to get the output,instructions are mentioned below print \n",
    "statement. use indexing"
   ]
  },
  {
   "cell_type": "code",
   "execution_count": 11,
   "id": "f7c77190",
   "metadata": {},
   "outputs": [],
   "source": [
    "my_str = \"Although 8 that way may not be obvious at first unless you're Dutch\""
   ]
  },
  {
   "cell_type": "markdown",
   "id": "19a3760e",
   "metadata": {},
   "source": [
    "print()\n",
    "#output:- The first character in my_str is: A\n",
    "#Note:- Use positive indexing"
   ]
  },
  {
   "cell_type": "code",
   "execution_count": 12,
   "id": "d175735d",
   "metadata": {},
   "outputs": [
    {
     "name": "stdout",
     "output_type": "stream",
     "text": [
      "The first character of my_str is : A\n"
     ]
    }
   ],
   "source": [
    "print(\"The first character of my_str is :\",  my_str[0])"
   ]
  },
  {
   "cell_type": "markdown",
   "id": "336dd2f5",
   "metadata": {},
   "source": [
    "print()\n",
    "#output:- The first character in my_str is: h\n",
    "#Note:- Use len() function."
   ]
  },
  {
   "cell_type": "code",
   "execution_count": 17,
   "id": "131adad2",
   "metadata": {},
   "outputs": [
    {
     "name": "stdout",
     "output_type": "stream",
     "text": [
      "The first character of my_str is : h\n"
     ]
    }
   ],
   "source": [
    "print(\"The first character of my_str is :\",my_str[len(my_str)-1])"
   ]
  },
  {
   "cell_type": "markdown",
   "id": "a245fbb0",
   "metadata": {},
   "source": [
    "print()\n",
    "#output:- The character at index 10 in my_str is: c\n",
    "#Note:- Use positive indexing"
   ]
  },
  {
   "cell_type": "code",
   "execution_count": 18,
   "id": "6db56f63",
   "metadata": {},
   "outputs": [
    {
     "name": "stdout",
     "output_type": "stream",
     "text": [
      "The character at index 10 in my_str is: c\n"
     ]
    }
   ],
   "source": [
    "print('The character at index 10 in my_str is:' , my_str[65])"
   ]
  },
  {
   "cell_type": "markdown",
   "id": "53a175a8",
   "metadata": {},
   "source": [
    "print()\n",
    "#output:- The last character in my_str is: h\n",
    "#Note:- Use negative indexing."
   ]
  },
  {
   "cell_type": "code",
   "execution_count": 19,
   "id": "b21d5495",
   "metadata": {},
   "outputs": [
    {
     "name": "stdout",
     "output_type": "stream",
     "text": [
      "The last character in my_str is: h\n"
     ]
    }
   ],
   "source": [
    "print('The last character in my_str is:' ,my_str[-1])"
   ]
  },
  {
   "cell_type": "markdown",
   "id": "cb51c731",
   "metadata": {},
   "source": [
    "print()\n",
    "#output:- The last character in my_str is: h\n",
    "#Note:- Use len() function."
   ]
  },
  {
   "cell_type": "code",
   "execution_count": 20,
   "id": "b879a84d",
   "metadata": {},
   "outputs": [
    {
     "name": "stdout",
     "output_type": "stream",
     "text": [
      "The last character in my_str is: h\n"
     ]
    }
   ],
   "source": [
    "print('The last character in my_str is:' ,my_str[len(my_str)-1])"
   ]
  },
  {
   "cell_type": "markdown",
   "id": "4c4f48f2",
   "metadata": {},
   "source": [
    "print()\n",
    "#output:- The character in my_str is: 8\n",
    "#Note:- Use positive index"
   ]
  },
  {
   "cell_type": "code",
   "execution_count": 21,
   "id": "8601a185",
   "metadata": {},
   "outputs": [
    {
     "name": "stdout",
     "output_type": "stream",
     "text": [
      " The character in my_str is:  8\n"
     ]
    }
   ],
   "source": [
    "print(' The character in my_str is: ' ,my_str[9])"
   ]
  },
  {
   "cell_type": "markdown",
   "id": "00c31141",
   "metadata": {},
   "source": [
    "### Slicing"
   ]
  },
  {
   "cell_type": "markdown",
   "id": "38855ac1",
   "metadata": {},
   "source": [
    "\n",
    "\n",
    "#Slicing\n",
    "my_str = \"Although that way may not be obvious at first unless you're Dutch.\"\n",
    "#Write the code to get the output,instructions are mentioned below print \n",
    "statement. use slicing"
   ]
  },
  {
   "cell_type": "code",
   "execution_count": 262,
   "id": "41018b44",
   "metadata": {},
   "outputs": [],
   "source": [
    "my_str = \"Although that way may not be obvious at first unless you're Dutch.\"\n"
   ]
  },
  {
   "cell_type": "markdown",
   "id": "52534c73",
   "metadata": {},
   "source": [
    "print()\n",
    "#output:- You have sliced: Although that way may not be obvious at first \n",
    "unless you're Dutch.Without begin, end and step"
   ]
  },
  {
   "cell_type": "code",
   "execution_count": 263,
   "id": "cea6e194",
   "metadata": {},
   "outputs": [
    {
     "name": "stdout",
     "output_type": "stream",
     "text": [
      "Although that way may not be obvious at first unless you're Dutch.\n"
     ]
    }
   ],
   "source": [
    "print(my_str[:])"
   ]
  },
  {
   "cell_type": "markdown",
   "id": "a55dd040",
   "metadata": {},
   "source": [
    "print()\n",
    "#output:- You have sliced: Although that way may not be obvious at \n",
    "first unless you're Dutch.with begin as 0 end using len and without step\n"
   ]
  },
  {
   "cell_type": "code",
   "execution_count": 264,
   "id": "4e3fcc76",
   "metadata": {},
   "outputs": [
    {
     "name": "stdout",
     "output_type": "stream",
     "text": [
      "Although that way may not be obvious at first unless you're Dutch.\n"
     ]
    }
   ],
   "source": [
    "print(my_str[0:len(my_str)])"
   ]
  },
  {
   "cell_type": "markdown",
   "id": "8d9753cf",
   "metadata": {},
   "source": [
    "\n",
    "print()\n",
    "#output:- You have sliced: Although that way may not be obvious at \n",
    "first unless you're Dutch.without begin and end but using step"
   ]
  },
  {
   "cell_type": "code",
   "execution_count": 265,
   "id": "60c4cd02",
   "metadata": {},
   "outputs": [
    {
     "name": "stdout",
     "output_type": "stream",
     "text": [
      "Although that way may not be obvious at first unless you're Dutch.\n"
     ]
    }
   ],
   "source": [
    "print(my_str[::1])"
   ]
  },
  {
   "cell_type": "markdown",
   "id": "6970b2af",
   "metadata": {},
   "source": [
    "print()\n",
    "#output:- You have sliced: Although that way may not be obvious at \n",
    "first unless you're Dutch.With begin, end and step"
   ]
  },
  {
   "cell_type": "code",
   "execution_count": 266,
   "id": "7c0d1ffb",
   "metadata": {},
   "outputs": [
    {
     "name": "stdout",
     "output_type": "stream",
     "text": [
      "Although that way may not be obvious at first unless you're Dutch.\n"
     ]
    }
   ],
   "source": [
    "print(my_str[0:67:1])"
   ]
  },
  {
   "cell_type": "markdown",
   "id": "03d165b1",
   "metadata": {},
   "source": [
    "print()\n",
    "#output:- You have sliced:   .with using begin and end using postive values \n",
    "and step as negative values.\n",
    "#Slicing command should print empty string.\n"
   ]
  },
  {
   "cell_type": "code",
   "execution_count": 267,
   "id": "0a367a39",
   "metadata": {},
   "outputs": [
    {
     "name": "stdout",
     "output_type": "stream",
     "text": [
      " \n"
     ]
    }
   ],
   "source": [
    "print(my_str[8:7:-1])"
   ]
  },
  {
   "cell_type": "markdown",
   "id": "05c6fa9b",
   "metadata": {},
   "source": [
    "print()\n",
    "#output:- You have sliced: Atog htwymyntb biu tfrtuls o'eDth"
   ]
  },
  {
   "cell_type": "code",
   "execution_count": 268,
   "id": "862f950c",
   "metadata": {},
   "outputs": [
    {
     "name": "stdout",
     "output_type": "stream",
     "text": [
      "Atog htwymyntb biu tfrtuls o'eDth\n"
     ]
    }
   ],
   "source": [
    "print(my_str[::2])"
   ]
  },
  {
   "cell_type": "markdown",
   "id": "4feb6994",
   "metadata": {},
   "source": [
    "print()\n",
    "#output:- You have sliced: Ahgttam tebo  r lsorDc"
   ]
  },
  {
   "cell_type": "code",
   "execution_count": 269,
   "id": "b6d98d11",
   "metadata": {},
   "outputs": [
    {
     "name": "stdout",
     "output_type": "stream",
     "text": [
      "Ahgttam tebo  r lsorDc\n"
     ]
    }
   ],
   "source": [
    "print(my_str[::3])"
   ]
  },
  {
   "cell_type": "markdown",
   "id": "67980010",
   "metadata": {},
   "source": [
    "\n",
    "print()\n",
    "#output:- You have sliced: .hctuD er'uoy sselnu tsrif ta suoivbo eb ton yam yaw taht hguohtlA. Use only step\n"
   ]
  },
  {
   "cell_type": "code",
   "execution_count": 270,
   "id": "6dea51d4",
   "metadata": {},
   "outputs": [
    {
     "name": "stdout",
     "output_type": "stream",
     "text": [
      ".hctuD er'uoy sselnu tsrif ta suoivbo eb ton yam yaw taht hguohtlA\n"
     ]
    }
   ],
   "source": [
    "print(my_str[::-1])"
   ]
  },
  {
   "cell_type": "markdown",
   "id": "2d297f9b",
   "metadata": {},
   "source": [
    "print()\n",
    "#output:- You have sliced: .hctuD er'uoy sselnu tsrif ta suoivbo eb ton yam yaw taht hguohtlA. Use begin end and step."
   ]
  },
  {
   "cell_type": "code",
   "execution_count": 271,
   "id": "a948ef8c",
   "metadata": {},
   "outputs": [
    {
     "name": "stdout",
     "output_type": "stream",
     "text": [
      ".hctuD er'uoy sselnu tsrif ta suoivbo eb ton yam yaw taht hguohtlA\n"
     ]
    }
   ],
   "source": [
    "print(my_str[-1:-67:-1])"
   ]
  },
  {
   "cell_type": "markdown",
   "id": "4fa4013d",
   "metadata": {},
   "source": [
    "print()\n",
    "#output:- You have sliced: .cu ruysen si asovoe o a a athuhl. use only step"
   ]
  },
  {
   "cell_type": "code",
   "execution_count": 272,
   "id": "72983e01",
   "metadata": {},
   "outputs": [
    {
     "name": "stdout",
     "output_type": "stream",
     "text": [
      ".cu ruysen si asovoe o a a athuhl\n"
     ]
    }
   ],
   "source": [
    "print(my_str[::-2])"
   ]
  },
  {
   "cell_type": "markdown",
   "id": "e9c2233a",
   "metadata": {},
   "source": [
    "print()\n",
    "#output:- You have sliced: .cu ruysen si asovoe o a a athuhl. use begin, end and step."
   ]
  },
  {
   "cell_type": "code",
   "execution_count": 273,
   "id": "bbfd986e",
   "metadata": {},
   "outputs": [
    {
     "name": "stdout",
     "output_type": "stream",
     "text": [
      ".cu ruysen si asovoe o a a athuhl\n"
     ]
    }
   ],
   "source": [
    "print(my_str[-1:-67:-2])"
   ]
  },
  {
   "cell_type": "markdown",
   "id": "cf17c41a",
   "metadata": {},
   "source": [
    "print(my_str[10:17:-1])\n",
    "#What will be the output?"
   ]
  },
  {
   "cell_type": "code",
   "execution_count": 274,
   "id": "71ab5f8f",
   "metadata": {},
   "outputs": [
    {
     "name": "stdout",
     "output_type": "stream",
     "text": [
      "\n"
     ]
    }
   ],
   "source": [
    "print(my_str[10:17:-1])    # Blank, because the step is in opposite direction compared to start and begin  "
   ]
  },
  {
   "cell_type": "markdown",
   "id": "1012a715",
   "metadata": {},
   "source": [
    "print()\n",
    "#output:- You have sliced: yaw ta, Using begin, end and step.\n",
    "\n",
    "my_str = \"Although that way may not be obvious at first unless you're Dutch.\"\n"
   ]
  },
  {
   "cell_type": "code",
   "execution_count": 275,
   "id": "1cf59692",
   "metadata": {},
   "outputs": [
    {
     "name": "stdout",
     "output_type": "stream",
     "text": [
      " yaw ta\n"
     ]
    }
   ],
   "source": [
    "print(my_str[17:10:-1])"
   ]
  },
  {
   "cell_type": "markdown",
   "id": "74065837",
   "metadata": {},
   "source": [
    "print()\n",
    "#output:- You have sliced: ess you. Using begin, end and step"
   ]
  },
  {
   "cell_type": "code",
   "execution_count": 276,
   "id": "2c3b5548",
   "metadata": {},
   "outputs": [
    {
     "name": "stdout",
     "output_type": "stream",
     "text": [
      "ess you\n"
     ]
    }
   ],
   "source": [
    "print(my_str[49:56:1])"
   ]
  },
  {
   "cell_type": "markdown",
   "id": "0f165a76",
   "metadata": {},
   "source": [
    "### Basic Operation"
   ]
  },
  {
   "cell_type": "markdown",
   "id": "94c3d6c6",
   "metadata": {},
   "source": [
    "#Basic operation on string\n",
    "str1 = 'Learnbay'\n",
    "str2 = 'Python'\n",
    "\n",
    "#Write the code to get the output,instructions are mentioned below.\n",
    "#Output is: Learnbay Python\n",
    "\n",
    "\n",
    "#Error: TypeError: can only concatenate str (not \"int\") to str\n",
    "\n",
    "\n",
    "#Error: TypeError: can only concatenate str (not \"float\") to str\n",
    "\n",
    "\n",
    "\n",
    "#Find below Output\n",
    "#Output is: LearnbayLearnbayLearnbay\n",
    "\n",
    "\n",
    "#Error: TypeError: can't multiply sequence by non-int of type 'float'\n",
    "\n",
    "#Error: TypeError: can't multiply sequence by non-int of type 'str'\n",
    "\n"
   ]
  },
  {
   "cell_type": "markdown",
   "id": "239ea0e3",
   "metadata": {},
   "source": [
    "#Basic operation on string\n",
    "str1 = 'Learnbay'\n",
    "str2 = 'Python'"
   ]
  },
  {
   "cell_type": "code",
   "execution_count": 29,
   "id": "3b4ff953",
   "metadata": {},
   "outputs": [],
   "source": [
    "str1 = \"Learnbay\"\n",
    "str2 = \"Python\"\n"
   ]
  },
  {
   "cell_type": "markdown",
   "id": "84e3536d",
   "metadata": {},
   "source": [
    "#Write the code to get the output,instructions are mentioned below.\n",
    "#Output is: Learnbay Python\n"
   ]
  },
  {
   "cell_type": "code",
   "execution_count": 36,
   "id": "ae57e7d2",
   "metadata": {},
   "outputs": [
    {
     "name": "stdout",
     "output_type": "stream",
     "text": [
      "Learnbay Python\n"
     ]
    }
   ],
   "source": [
    "print(str1,str2 )"
   ]
  },
  {
   "cell_type": "markdown",
   "id": "f60a14aa",
   "metadata": {},
   "source": [
    "#Error: TypeError: can only concatenate str (not \"int\") to str"
   ]
  },
  {
   "cell_type": "code",
   "execution_count": 37,
   "id": "c96f57b3",
   "metadata": {},
   "outputs": [
    {
     "ename": "TypeError",
     "evalue": "can only concatenate str (not \"int\") to str",
     "output_type": "error",
     "traceback": [
      "\u001b[1;31m---------------------------------------------------------------------------\u001b[0m",
      "\u001b[1;31mTypeError\u001b[0m                                 Traceback (most recent call last)",
      "Input \u001b[1;32mIn [37]\u001b[0m, in \u001b[0;36m<cell line: 1>\u001b[1;34m()\u001b[0m\n\u001b[1;32m----> 1\u001b[0m \u001b[38;5;28mprint\u001b[39m(\u001b[43mstr1\u001b[49m\u001b[43m \u001b[49m\u001b[38;5;241;43m+\u001b[39;49m\u001b[43m \u001b[49m\u001b[38;5;241;43m5\u001b[39;49m )\n",
      "\u001b[1;31mTypeError\u001b[0m: can only concatenate str (not \"int\") to str"
     ]
    }
   ],
   "source": [
    "print(str1 + 5 )"
   ]
  },
  {
   "cell_type": "markdown",
   "id": "29f0b8a8",
   "metadata": {},
   "source": [
    "#Error: TypeError: can only concatenate str (not \"float\") to str"
   ]
  },
  {
   "cell_type": "code",
   "execution_count": 38,
   "id": "ff292433",
   "metadata": {},
   "outputs": [
    {
     "ename": "TypeError",
     "evalue": "can only concatenate str (not \"float\") to str",
     "output_type": "error",
     "traceback": [
      "\u001b[1;31m---------------------------------------------------------------------------\u001b[0m",
      "\u001b[1;31mTypeError\u001b[0m                                 Traceback (most recent call last)",
      "Input \u001b[1;32mIn [38]\u001b[0m, in \u001b[0;36m<cell line: 1>\u001b[1;34m()\u001b[0m\n\u001b[1;32m----> 1\u001b[0m \u001b[38;5;28mprint\u001b[39m(\u001b[43mstr1\u001b[49m\u001b[43m \u001b[49m\u001b[38;5;241;43m+\u001b[39;49m\u001b[43m \u001b[49m\u001b[38;5;241;43m5.0\u001b[39;49m )\n",
      "\u001b[1;31mTypeError\u001b[0m: can only concatenate str (not \"float\") to str"
     ]
    }
   ],
   "source": [
    "print(str1 + 5.0 )"
   ]
  },
  {
   "cell_type": "markdown",
   "id": "0b7bb568",
   "metadata": {},
   "source": [
    "#Find below Output\n",
    "#Output is: LearnbayLearnbayLearnbay"
   ]
  },
  {
   "cell_type": "code",
   "execution_count": 279,
   "id": "e06f922c",
   "metadata": {},
   "outputs": [
    {
     "name": "stdout",
     "output_type": "stream",
     "text": [
      "Output is: LearnbayLearnbayLearnbay\n"
     ]
    }
   ],
   "source": [
    "print('Output is:', str1*3)"
   ]
  },
  {
   "cell_type": "markdown",
   "id": "42f6e35c",
   "metadata": {},
   "source": [
    "#Error: TypeError: can't multiply sequence by non-int of type 'float'"
   ]
  },
  {
   "cell_type": "code",
   "execution_count": 39,
   "id": "476a4ad7",
   "metadata": {},
   "outputs": [
    {
     "ename": "TypeError",
     "evalue": "can't multiply sequence by non-int of type 'float'",
     "output_type": "error",
     "traceback": [
      "\u001b[1;31m---------------------------------------------------------------------------\u001b[0m",
      "\u001b[1;31mTypeError\u001b[0m                                 Traceback (most recent call last)",
      "Input \u001b[1;32mIn [39]\u001b[0m, in \u001b[0;36m<cell line: 1>\u001b[1;34m()\u001b[0m\n\u001b[1;32m----> 1\u001b[0m \u001b[38;5;28mprint\u001b[39m(\u001b[43mstr1\u001b[49m\u001b[38;5;241;43m*\u001b[39;49m\u001b[38;5;241;43m5.0\u001b[39;49m )\n",
      "\u001b[1;31mTypeError\u001b[0m: can't multiply sequence by non-int of type 'float'"
     ]
    }
   ],
   "source": [
    "print(str1*5.0 )"
   ]
  },
  {
   "cell_type": "markdown",
   "id": "66ff78d8",
   "metadata": {},
   "source": [
    "#Error: TypeError: can't multiply sequence by non-int of type 'str'"
   ]
  },
  {
   "cell_type": "code",
   "execution_count": 40,
   "id": "ccaef64c",
   "metadata": {},
   "outputs": [
    {
     "ename": "TypeError",
     "evalue": "can't multiply sequence by non-int of type 'str'",
     "output_type": "error",
     "traceback": [
      "\u001b[1;31m---------------------------------------------------------------------------\u001b[0m",
      "\u001b[1;31mTypeError\u001b[0m                                 Traceback (most recent call last)",
      "Input \u001b[1;32mIn [40]\u001b[0m, in \u001b[0;36m<cell line: 1>\u001b[1;34m()\u001b[0m\n\u001b[1;32m----> 1\u001b[0m \u001b[38;5;28mprint\u001b[39m(\u001b[43mstr1\u001b[49m\u001b[38;5;241;43m*\u001b[39;49m\u001b[43mstr2\u001b[49m )\n",
      "\u001b[1;31mTypeError\u001b[0m: can't multiply sequence by non-int of type 'str'"
     ]
    }
   ],
   "source": [
    "print(str1*str2 )"
   ]
  },
  {
   "cell_type": "markdown",
   "id": "251df366",
   "metadata": {},
   "source": [
    "### Find below Output\n",
    "str1 = 'Python'\n",
    "str2 = 'Python'\n",
    "str3 = 'Python$'\n",
    "str4 = 'Python$'"
   ]
  },
  {
   "cell_type": "code",
   "execution_count": 280,
   "id": "2afb38eb",
   "metadata": {},
   "outputs": [],
   "source": [
    "str1 = 'Python'\n",
    "str2 = 'Python'\n",
    "str3 = 'Python$'\n",
    "str4 = 'Python$'"
   ]
  },
  {
   "cell_type": "markdown",
   "id": "7ea0817a",
   "metadata": {},
   "source": [
    "#print True by using identity operator between str1 and str2"
   ]
  },
  {
   "cell_type": "code",
   "execution_count": 281,
   "id": "4c338664",
   "metadata": {},
   "outputs": [
    {
     "name": "stdout",
     "output_type": "stream",
     "text": [
      "True\n"
     ]
    },
    {
     "data": {
      "text/plain": [
       "False"
      ]
     },
     "execution_count": 281,
     "metadata": {},
     "output_type": "execute_result"
    }
   ],
   "source": [
    "print(str1 is str2)\n",
    "\n",
    "id(str1) is id(str2)"
   ]
  },
  {
   "cell_type": "markdown",
   "id": "3f0cc45a",
   "metadata": {},
   "source": [
    "#print False by using identity operator between str1 and str3"
   ]
  },
  {
   "cell_type": "code",
   "execution_count": 282,
   "id": "a7660d9a",
   "metadata": {},
   "outputs": [
    {
     "name": "stdout",
     "output_type": "stream",
     "text": [
      "False\n"
     ]
    }
   ],
   "source": [
    "print(str1 is str3)"
   ]
  },
  {
   "cell_type": "markdown",
   "id": "12c223c5",
   "metadata": {},
   "source": [
    "#print False by using identity operator between str4 and str3"
   ]
  },
  {
   "cell_type": "code",
   "execution_count": 283,
   "id": "5685f76e",
   "metadata": {},
   "outputs": [
    {
     "name": "stdout",
     "output_type": "stream",
     "text": [
      "False\n"
     ]
    }
   ],
   "source": [
    "print(str4 is  str3)"
   ]
  },
  {
   "cell_type": "markdown",
   "id": "36a21b2a",
   "metadata": {},
   "source": [
    "#Check if P is available in str1 and print True by using membership operator"
   ]
  },
  {
   "cell_type": "code",
   "execution_count": 284,
   "id": "e5605644",
   "metadata": {},
   "outputs": [
    {
     "name": "stdout",
     "output_type": "stream",
     "text": [
      "True\n"
     ]
    }
   ],
   "source": [
    "print('P' in str1)"
   ]
  },
  {
   "cell_type": "markdown",
   "id": "572ce6da",
   "metadata": {},
   "source": [
    "#Check if $ is available in str3 and print True by using membership operator\n"
   ]
  },
  {
   "cell_type": "code",
   "execution_count": 285,
   "id": "81ee485a",
   "metadata": {},
   "outputs": [
    {
     "name": "stdout",
     "output_type": "stream",
     "text": [
      "True\n"
     ]
    }
   ],
   "source": [
    "print('$' in str3)"
   ]
  },
  {
   "cell_type": "markdown",
   "id": "65601dee",
   "metadata": {},
   "source": [
    "#Check if N is available in str3 and print False by using membership operator"
   ]
  },
  {
   "cell_type": "code",
   "execution_count": 286,
   "id": "c15e6c37",
   "metadata": {},
   "outputs": [
    {
     "name": "stdout",
     "output_type": "stream",
     "text": [
      "False\n"
     ]
    }
   ],
   "source": [
    "print('N' in str3)"
   ]
  },
  {
   "cell_type": "markdown",
   "id": "3cbc5b79",
   "metadata": {},
   "source": [
    "\n",
    "### Complete the below code\n",
    "str1 = 'This is Python class'\n",
    "#write the code to replace 'Python' with 'Java' and you should get below error.\n",
    "#TypeError: 'str' object does not support item assignment."
   ]
  },
  {
   "cell_type": "code",
   "execution_count": 64,
   "id": "72499551",
   "metadata": {},
   "outputs": [
    {
     "ename": "TypeError",
     "evalue": "'str' object does not support item assignment",
     "output_type": "error",
     "traceback": [
      "\u001b[1;31m---------------------------------------------------------------------------\u001b[0m",
      "\u001b[1;31mTypeError\u001b[0m                                 Traceback (most recent call last)",
      "Input \u001b[1;32mIn [64]\u001b[0m, in \u001b[0;36m<cell line: 3>\u001b[1;34m()\u001b[0m\n\u001b[0;32m      1\u001b[0m str1 \u001b[38;5;241m=\u001b[39m \u001b[38;5;124m'\u001b[39m\u001b[38;5;124mThis is Python class\u001b[39m\u001b[38;5;124m'\u001b[39m\n\u001b[1;32m----> 3\u001b[0m str1[\u001b[38;5;241m8\u001b[39m:\u001b[38;5;241m14\u001b[39m] \u001b[38;5;241m=\u001b[39m \u001b[38;5;124m'\u001b[39m\u001b[38;5;124mJava\u001b[39m\u001b[38;5;124m'\u001b[39m\n",
      "\u001b[1;31mTypeError\u001b[0m: 'str' object does not support item assignment"
     ]
    }
   ],
   "source": [
    "str1 = 'This is Python class'\n",
    "\n",
    "str1[8:14] = 'Java'"
   ]
  },
  {
   "cell_type": "markdown",
   "id": "d2c3da99",
   "metadata": {},
   "source": [
    "str1 = 'A'\n",
    "str2 = 'A'\n",
    "#Compare str1 and str2 and print True using comparison operator\n",
    "\n",
    "\n",
    "#Compare str1 and str2 and print True using equality operator\n",
    "\n",
    "\n",
    "#Compare str1 and str2 and print False using equality operator\n",
    "\n",
    "\n",
    "#Compare str1 and str2 and print False using comparison operator\n",
    "\n"
   ]
  },
  {
   "cell_type": "code",
   "execution_count": 288,
   "id": "7a2053ab",
   "metadata": {},
   "outputs": [],
   "source": [
    "str1 = 'A'\n",
    "str2 = 'A'"
   ]
  },
  {
   "cell_type": "code",
   "execution_count": 289,
   "id": "ae3dc799",
   "metadata": {},
   "outputs": [
    {
     "name": "stdout",
     "output_type": "stream",
     "text": [
      "True\n",
      "True\n",
      "False\n",
      "False\n"
     ]
    }
   ],
   "source": [
    "print(str1 <= str2)\n",
    "print(str1 == str2)\n",
    "print(str1 > str2)\n",
    "print(str1 != str2)\n"
   ]
  },
  {
   "cell_type": "markdown",
   "id": "3e38dc8b",
   "metadata": {},
   "source": [
    "str1 = 'A'\n",
    "str2 = 'a'\n",
    "#Compare str1 and str2 and print True using comparison operator\n",
    "\n",
    "\n",
    "#Compare str1 and str2 and print True using equality operator\n",
    "\n",
    "\n",
    "#Compare str1 and str2 and print False using equality operator\n",
    "\n",
    "\n",
    "#Compare str1 and str2 and print False using comparison operator"
   ]
  },
  {
   "cell_type": "code",
   "execution_count": 290,
   "id": "6a22051b",
   "metadata": {},
   "outputs": [],
   "source": [
    "str1 = 'A'\n",
    "str2 = 'a'"
   ]
  },
  {
   "cell_type": "code",
   "execution_count": 291,
   "id": "f6f54065",
   "metadata": {},
   "outputs": [
    {
     "name": "stdout",
     "output_type": "stream",
     "text": [
      "True\n",
      "True\n",
      "False\n",
      "False\n"
     ]
    }
   ],
   "source": [
    "print(str1 <= str2)\n",
    "print(str1 != str2)\n",
    "print(str1 == str2)\n",
    "print(str1 > str2)"
   ]
  },
  {
   "cell_type": "markdown",
   "id": "dc460d4e",
   "metadata": {},
   "source": [
    "str1 = 'A'\n",
    "str2 = '65'\n",
    "#Compare str1 and str2 using comparison operator and it should give below error.\n",
    "#Error: TypeError: '>=' not supported between instances of 'str' and 'int'\n",
    "\n",
    "#Compare str1 and str2 and print True using equality operator\n",
    "\n",
    "\n",
    "#Compare str1 and str2 and print False using equality operator\n"
   ]
  },
  {
   "cell_type": "code",
   "execution_count": 292,
   "id": "9ca605b7",
   "metadata": {},
   "outputs": [],
   "source": [
    "str1 = 'A'\n",
    "str2 = 65"
   ]
  },
  {
   "cell_type": "code",
   "execution_count": 293,
   "id": "75aaf295",
   "metadata": {},
   "outputs": [
    {
     "ename": "TypeError",
     "evalue": "'>=' not supported between instances of 'str' and 'int'",
     "output_type": "error",
     "traceback": [
      "\u001b[1;31m---------------------------------------------------------------------------\u001b[0m",
      "\u001b[1;31mTypeError\u001b[0m                                 Traceback (most recent call last)",
      "Input \u001b[1;32mIn [293]\u001b[0m, in \u001b[0;36m<cell line: 1>\u001b[1;34m()\u001b[0m\n\u001b[1;32m----> 1\u001b[0m \u001b[38;5;28mprint\u001b[39m(\u001b[43mstr1\u001b[49m\u001b[43m \u001b[49m\u001b[38;5;241;43m>\u001b[39;49m\u001b[38;5;241;43m=\u001b[39;49m\u001b[43m \u001b[49m\u001b[43mstr2\u001b[49m)\n",
      "\u001b[1;31mTypeError\u001b[0m: '>=' not supported between instances of 'str' and 'int'"
     ]
    }
   ],
   "source": [
    "print(str1 >= str2)"
   ]
  },
  {
   "cell_type": "code",
   "execution_count": 294,
   "id": "37bbe453",
   "metadata": {},
   "outputs": [
    {
     "name": "stdout",
     "output_type": "stream",
     "text": [
      "True\n"
     ]
    }
   ],
   "source": [
    "str1 = 'A'\n",
    "str2 = 65\n",
    "\n",
    "print(str1 != str2)"
   ]
  },
  {
   "cell_type": "code",
   "execution_count": 295,
   "id": "0aac8957",
   "metadata": {},
   "outputs": [
    {
     "name": "stdout",
     "output_type": "stream",
     "text": [
      "False\n"
     ]
    }
   ],
   "source": [
    "str1 = 'A'\n",
    "str2 = 65\n",
    "\n",
    "print(str1 == str2)"
   ]
  },
  {
   "cell_type": "markdown",
   "id": "80002de4",
   "metadata": {},
   "source": [
    "str1 = 'Python'\n",
    "str2 = 'Python'\n",
    "#Compare str1 and str2 and print True using comparison operator\n",
    "\n",
    "\n",
    "#Compare str1 and str2 and print True using equality operator\n",
    "\n",
    "\n",
    "#Compare str1 and str2 and print False using equality operator\n",
    "\n",
    "#Compare str1 and str2 and print False using comparison operator\n",
    "\n"
   ]
  },
  {
   "cell_type": "code",
   "execution_count": 296,
   "id": "be3bfcc3",
   "metadata": {},
   "outputs": [],
   "source": [
    "str1 = 'Python'\n",
    "str2 = 'Python'"
   ]
  },
  {
   "cell_type": "code",
   "execution_count": 236,
   "id": "d404a3d7",
   "metadata": {},
   "outputs": [
    {
     "name": "stdout",
     "output_type": "stream",
     "text": [
      "True\n",
      "True\n",
      "False\n",
      "False\n"
     ]
    }
   ],
   "source": [
    "print(str1 >= str2)\n",
    "print(str1 == str2)\n",
    "print(str1 != str2)\n",
    "print(str1 < str2)"
   ]
  },
  {
   "cell_type": "markdown",
   "id": "6d26e513",
   "metadata": {},
   "source": [
    "str1 = 'Python'\n",
    "str2 = 'python'\n",
    "#Compare str1 and str2 and print True using comparison operator\n",
    "\n",
    "\n",
    "#Compare str1 and str2 and print True using equality operator\n",
    "\n",
    "\n",
    "#Compare str1 and str2 and print False using equality operator\n",
    "\n",
    "\n",
    "#Compare str1 and str2 and print False using comparison operator"
   ]
  },
  {
   "cell_type": "code",
   "execution_count": 192,
   "id": "56cacf7c",
   "metadata": {},
   "outputs": [],
   "source": [
    "str1 = 'Python'\n",
    "str2 = 'python'"
   ]
  },
  {
   "cell_type": "code",
   "execution_count": 197,
   "id": "88a00175",
   "metadata": {},
   "outputs": [
    {
     "name": "stdout",
     "output_type": "stream",
     "text": [
      "True\n",
      "True\n",
      "False\n",
      "False\n"
     ]
    }
   ],
   "source": [
    "print(str1 < str2)\n",
    "print(str1 != str2)\n",
    "print(str1 == str2)\n",
    "print(str1 > str2)"
   ]
  },
  {
   "cell_type": "markdown",
   "id": "458a9d8b",
   "metadata": {},
   "source": [
    "\n",
    "a = 'Python'\n",
    "b = ''\n",
    "\n",
    "#Apply logical opereators (and, or & not) on above string values and observe the output.\n",
    "print()\n",
    "print()\n",
    "print()\n",
    "print()\n",
    "print()"
   ]
  },
  {
   "cell_type": "code",
   "execution_count": 217,
   "id": "fed713f1",
   "metadata": {},
   "outputs": [],
   "source": [
    "\n",
    "a = 'Python'\n",
    "b = ''\n"
   ]
  },
  {
   "cell_type": "code",
   "execution_count": 220,
   "id": "c165a39d",
   "metadata": {},
   "outputs": [
    {
     "name": "stdout",
     "output_type": "stream",
     "text": [
      "\n",
      "Python\n",
      "False\n",
      "True\n"
     ]
    }
   ],
   "source": [
    "print(a and b)\n",
    "print(a or b)\n",
    "print(not a )\n",
    "print(not b)"
   ]
  },
  {
   "cell_type": "markdown",
   "id": "e388bc06",
   "metadata": {},
   "source": [
    "a = ''\n",
    "b = ''\n",
    "\n",
    "#Apply logical opereators (and, or & not) on above string values and observe the output.\n",
    "print()\n",
    "print()\n",
    "print()"
   ]
  },
  {
   "cell_type": "code",
   "execution_count": 211,
   "id": "e1fe36ae",
   "metadata": {},
   "outputs": [],
   "source": [
    "a = ''\n",
    "b = ''\n"
   ]
  },
  {
   "cell_type": "code",
   "execution_count": 215,
   "id": "383b20a7",
   "metadata": {},
   "outputs": [
    {
     "name": "stdout",
     "output_type": "stream",
     "text": [
      "\n",
      "\n",
      "True\n",
      "True\n"
     ]
    }
   ],
   "source": [
    "print(a and b)\n",
    "print(a or b)\n",
    "print(not a)\n",
    "print(not b)"
   ]
  },
  {
   "cell_type": "markdown",
   "id": "319479b1",
   "metadata": {},
   "source": [
    "\n",
    "a = 'Python'\n",
    "b = 'learnbay'\n",
    "\n",
    "#Apply logical opereators (and, or & not) on above string values and observe the output.\n",
    "print()\n",
    "print()\n",
    "print()"
   ]
  },
  {
   "cell_type": "code",
   "execution_count": 298,
   "id": "8261648f",
   "metadata": {},
   "outputs": [],
   "source": [
    "a = 'Python' \n",
    "b = 'learnbay'"
   ]
  },
  {
   "cell_type": "code",
   "execution_count": 299,
   "id": "3afd4c71",
   "metadata": {},
   "outputs": [
    {
     "name": "stdout",
     "output_type": "stream",
     "text": [
      "learnbay\n",
      "Python\n",
      "False\n",
      "False\n"
     ]
    }
   ],
   "source": [
    "print(a and b)\n",
    "print(a or b)\n",
    "print(not a)\n",
    "print(not b)"
   ]
  },
  {
   "cell_type": "markdown",
   "id": "c71ea119",
   "metadata": {},
   "source": [
    "my_str = \"Although 8 that way may not be obvious at first unless you're Dutch\"\n",
    "\n",
    "#Write the code to get the total count of 't' in above string. Use find() and index() method.\n",
    "print()\n",
    "print()\n",
    "\n",
    "#Write the code to get the index of '8' in my_str. Use find() and index() method.\n",
    "print()\n",
    "print()\n",
    "\n",
    "#What will be the output of below code?\n",
    "print(my_str.find('the'))\n",
    "\n",
    "\n",
    "print(my_str.index('the'))\n",
    "\n",
    "\n",
    "print(my_str.find('t', 9, 15))\n",
    "\n",
    "\n",
    "print(my_str.rfind('u'))\n",
    "\n",
    "\n",
    "print(my_str.rindex('u'))"
   ]
  },
  {
   "cell_type": "code",
   "execution_count": 309,
   "id": "73c20d9e",
   "metadata": {},
   "outputs": [],
   "source": [
    "my_str = \"Although 8 that way may not be obvious at first unless you're Dutch\""
   ]
  },
  {
   "cell_type": "markdown",
   "id": "fcbaff06",
   "metadata": {},
   "source": [
    "#Write the code to get the total count of 't' in above string. Use find() and index() method.\n",
    "print()\n",
    "print()\n"
   ]
  },
  {
   "cell_type": "code",
   "execution_count": 334,
   "id": "ba2233db",
   "metadata": {},
   "outputs": [
    {
     "data": {
      "text/plain": [
       "67"
      ]
     },
     "execution_count": 334,
     "metadata": {},
     "output_type": "execute_result"
    }
   ],
   "source": [
    "my_str = \"Although 8 that way may not be obvious at first unless you're Dutch\"\n",
    "len(my_str)"
   ]
  },
  {
   "cell_type": "code",
   "execution_count": 333,
   "id": "4083afed",
   "metadata": {},
   "outputs": [
    {
     "name": "stdout",
     "output_type": "stream",
     "text": [
      "2\n"
     ]
    }
   ],
   "source": [
    "print(my_str.find('t'))"
   ]
  },
  {
   "cell_type": "markdown",
   "id": "5e591689",
   "metadata": {},
   "source": [
    "#Write the code to get the index of '8' in my_str. Use find() and index() method. print() print()"
   ]
  },
  {
   "cell_type": "code",
   "execution_count": 311,
   "id": "0a4006f5",
   "metadata": {},
   "outputs": [
    {
     "name": "stdout",
     "output_type": "stream",
     "text": [
      "9\n",
      "9\n"
     ]
    }
   ],
   "source": [
    "print(my_str.index('8'))\n",
    "\n",
    "print(my_str.find('8'))"
   ]
  },
  {
   "cell_type": "code",
   "execution_count": 313,
   "id": "67db80a1",
   "metadata": {},
   "outputs": [
    {
     "name": "stdout",
     "output_type": "stream",
     "text": [
      "-1\n"
     ]
    }
   ],
   "source": [
    "print(my_str.find('the'))"
   ]
  },
  {
   "cell_type": "code",
   "execution_count": 314,
   "id": "7c191d42",
   "metadata": {},
   "outputs": [
    {
     "ename": "ValueError",
     "evalue": "substring not found",
     "output_type": "error",
     "traceback": [
      "\u001b[1;31m---------------------------------------------------------------------------\u001b[0m",
      "\u001b[1;31mValueError\u001b[0m                                Traceback (most recent call last)",
      "Input \u001b[1;32mIn [314]\u001b[0m, in \u001b[0;36m<cell line: 1>\u001b[1;34m()\u001b[0m\n\u001b[1;32m----> 1\u001b[0m \u001b[38;5;28mprint\u001b[39m(\u001b[43mmy_str\u001b[49m\u001b[38;5;241;43m.\u001b[39;49m\u001b[43mindex\u001b[49m\u001b[43m(\u001b[49m\u001b[38;5;124;43m'\u001b[39;49m\u001b[38;5;124;43mthe\u001b[39;49m\u001b[38;5;124;43m'\u001b[39;49m\u001b[43m)\u001b[49m)\n",
      "\u001b[1;31mValueError\u001b[0m: substring not found"
     ]
    }
   ],
   "source": [
    "print(my_str.index('the'))"
   ]
  },
  {
   "cell_type": "code",
   "execution_count": 315,
   "id": "6a4fd19d",
   "metadata": {},
   "outputs": [
    {
     "name": "stdout",
     "output_type": "stream",
     "text": [
      "11\n"
     ]
    }
   ],
   "source": [
    "print(my_str.find('t', 9, 15))"
   ]
  },
  {
   "cell_type": "code",
   "execution_count": 316,
   "id": "cccf2615",
   "metadata": {},
   "outputs": [
    {
     "name": "stdout",
     "output_type": "stream",
     "text": [
      "63\n"
     ]
    }
   ],
   "source": [
    "print(my_str.rfind('u'))"
   ]
  },
  {
   "cell_type": "code",
   "execution_count": 317,
   "id": "3146aa14",
   "metadata": {},
   "outputs": [
    {
     "name": "stdout",
     "output_type": "stream",
     "text": [
      "63\n"
     ]
    }
   ],
   "source": [
    "print(my_str.rindex('u'))"
   ]
  },
  {
   "cell_type": "code",
   "execution_count": 319,
   "id": "0f89a4b9",
   "metadata": {},
   "outputs": [
    {
     "name": "stdout",
     "output_type": "stream",
     "text": [
      "2\n"
     ]
    }
   ],
   "source": [
    "print(my_str.find('t'))"
   ]
  },
  {
   "cell_type": "markdown",
   "id": "fd4b1d0a",
   "metadata": {},
   "source": [
    "### Strip"
   ]
  },
  {
   "cell_type": "markdown",
   "id": "dcd33b27",
   "metadata": {},
   "source": [
    "\n",
    "#W A P which applies strip() method if any string, which will be taken from user, starts and ends with space, or applies \n",
    "#rrstrip() method if that string only ends with space or applies lstrip() method if that string only starts with a space.\n",
    "\n",
    "#For example:-\n",
    "#input:- '    Python   '\n",
    "#output:- 'Python'\n",
    "\n",
    "#input:- '    Python'\n",
    "#output:- 'Python'\n",
    "\n",
    "#input:- 'Python   '\n",
    "#output:- 'Python'"
   ]
  },
  {
   "cell_type": "code",
   "execution_count": null,
   "id": "9ccddee8",
   "metadata": {},
   "outputs": [],
   "source": [
    "#input:- '    Python   '\n",
    "#output:- 'Python'"
   ]
  },
  {
   "cell_type": "code",
   "execution_count": 335,
   "id": "3a37f8fb",
   "metadata": {},
   "outputs": [
    {
     "data": {
      "text/plain": [
       "'Python'"
      ]
     },
     "execution_count": 335,
     "metadata": {},
     "output_type": "execute_result"
    }
   ],
   "source": [
    "a = '    Python   '\n",
    "a.strip(' ')"
   ]
  },
  {
   "cell_type": "code",
   "execution_count": null,
   "id": "2dbfed1f",
   "metadata": {},
   "outputs": [],
   "source": [
    "#input:- '    Python'\n",
    "#output:- 'Python'"
   ]
  },
  {
   "cell_type": "code",
   "execution_count": 340,
   "id": "7c0dfb81",
   "metadata": {},
   "outputs": [
    {
     "data": {
      "text/plain": [
       "'Python'"
      ]
     },
     "execution_count": 340,
     "metadata": {},
     "output_type": "execute_result"
    }
   ],
   "source": [
    "a = '    Python'\n",
    "a.lstrip(' ')"
   ]
  },
  {
   "cell_type": "code",
   "execution_count": null,
   "id": "f028652c",
   "metadata": {},
   "outputs": [],
   "source": [
    "#input:- 'Python   '\n",
    "#output:- 'Python'"
   ]
  },
  {
   "cell_type": "code",
   "execution_count": 341,
   "id": "a0f5cd86",
   "metadata": {},
   "outputs": [
    {
     "data": {
      "text/plain": [
       "'Python'"
      ]
     },
     "execution_count": 341,
     "metadata": {},
     "output_type": "execute_result"
    }
   ],
   "source": [
    "a =  'Python   '\n",
    "a.rstrip(' ')"
   ]
  },
  {
   "cell_type": "markdown",
   "id": "dc8fd369",
   "metadata": {},
   "source": [
    "\n",
    "my_str = \"Although 8 that way may not be obvious at first unless you're Dutch\"\n",
    "\n",
    "#Write the code to convert all alphabets in my_str into upper case.\n",
    "print()\n",
    "\n",
    "#Write the code to convert all alphabets in my_str into lower case.\n",
    "print()\n",
    "\n",
    "#Write the code to swap the cases of all alphabets in my_str.(lower to upper and upper to lower)\n",
    "print()\n"
   ]
  },
  {
   "cell_type": "code",
   "execution_count": 342,
   "id": "cab2f560",
   "metadata": {},
   "outputs": [],
   "source": [
    "\n",
    "my_str = \"Although 8 that way may not be obvious at first unless you're Dutch\""
   ]
  },
  {
   "cell_type": "code",
   "execution_count": 346,
   "id": "a951bd3d",
   "metadata": {},
   "outputs": [
    {
     "name": "stdout",
     "output_type": "stream",
     "text": [
      "ALTHOUGH 8 THAT WAY MAY NOT BE OBVIOUS AT FIRST UNLESS YOU'RE DUTCH\n"
     ]
    }
   ],
   "source": [
    "print(my_str.upper())"
   ]
  },
  {
   "cell_type": "code",
   "execution_count": 347,
   "id": "ed242843",
   "metadata": {},
   "outputs": [
    {
     "name": "stdout",
     "output_type": "stream",
     "text": [
      "although 8 that way may not be obvious at first unless you're dutch\n"
     ]
    }
   ],
   "source": [
    "print(my_str.lower())"
   ]
  },
  {
   "cell_type": "code",
   "execution_count": 348,
   "id": "dace75e0",
   "metadata": {},
   "outputs": [
    {
     "name": "stdout",
     "output_type": "stream",
     "text": [
      "aLTHOUGH 8 THAT WAY MAY NOT BE OBVIOUS AT FIRST UNLESS YOU'RE dUTCH\n"
     ]
    }
   ],
   "source": [
    "print(my_str.swapcase())"
   ]
  },
  {
   "cell_type": "markdown",
   "id": "87707be9",
   "metadata": {},
   "source": [
    "#What will be output of below code?\n"
   ]
  },
  {
   "cell_type": "code",
   "execution_count": 351,
   "id": "b8ab68f3",
   "metadata": {},
   "outputs": [
    {
     "name": "stdout",
     "output_type": "stream",
     "text": [
      "True\n"
     ]
    }
   ],
   "source": [
    "s = chr(65) + chr(97)\n",
    "print(s.isprintable())"
   ]
  },
  {
   "cell_type": "code",
   "execution_count": 352,
   "id": "f8f7a083",
   "metadata": {},
   "outputs": [
    {
     "name": "stdout",
     "output_type": "stream",
     "text": [
      "False\n"
     ]
    }
   ],
   "source": [
    "s = chr(27) + chr(97)\n",
    "print(s.isprintable())"
   ]
  },
  {
   "cell_type": "code",
   "execution_count": 356,
   "id": "183f37a6",
   "metadata": {},
   "outputs": [
    {
     "name": "stdout",
     "output_type": "stream",
     "text": [
      "False\n"
     ]
    }
   ],
   "source": [
    "s = '\\n'\n",
    "print(s.isprintable())"
   ]
  },
  {
   "cell_type": "code",
   "execution_count": 358,
   "id": "f03770eb",
   "metadata": {},
   "outputs": [
    {
     "name": "stdout",
     "output_type": "stream",
     "text": [
      "True\n"
     ]
    }
   ],
   "source": [
    "s = ''\n",
    "print(s.isprintable())"
   ]
  },
  {
   "cell_type": "code",
   "execution_count": 359,
   "id": "7400371d",
   "metadata": {},
   "outputs": [
    {
     "name": "stdout",
     "output_type": "stream",
     "text": [
      "True\n"
     ]
    }
   ],
   "source": [
    "my_string = '  '\n",
    "print(my_string.isascii())"
   ]
  },
  {
   "cell_type": "code",
   "execution_count": 360,
   "id": "6a6a797e",
   "metadata": {},
   "outputs": [
    {
     "name": "stdout",
     "output_type": "stream",
     "text": [
      "True\n"
     ]
    }
   ],
   "source": [
    "my_string = 'Studytonight'\n",
    "print(my_string.isascii())\n"
   ]
  },
  {
   "cell_type": "code",
   "execution_count": 361,
   "id": "1950aafe",
   "metadata": {},
   "outputs": [
    {
     "name": "stdout",
     "output_type": "stream",
     "text": [
      "True\n"
     ]
    }
   ],
   "source": [
    "my_string = 'Study tonight'\n",
    "print(my_string.isascii())\n"
   ]
  },
  {
   "cell_type": "code",
   "execution_count": 362,
   "id": "05132711",
   "metadata": {},
   "outputs": [
    {
     "name": "stdout",
     "output_type": "stream",
     "text": [
      "True\n"
     ]
    }
   ],
   "source": [
    "my_string = 'Studytonight@123'\n",
    "print(my_string.isascii())\n"
   ]
  },
  {
   "cell_type": "code",
   "execution_count": 363,
   "id": "421db181",
   "metadata": {},
   "outputs": [
    {
     "name": "stdout",
     "output_type": "stream",
     "text": [
      "False\n"
     ]
    }
   ],
   "source": [
    "my_string = '°'\n",
    "print(my_string.isascii())"
   ]
  },
  {
   "cell_type": "code",
   "execution_count": 364,
   "id": "62f6bbc9",
   "metadata": {},
   "outputs": [
    {
     "name": "stdout",
     "output_type": "stream",
     "text": [
      "False\n"
     ]
    }
   ],
   "source": [
    "\n",
    "my_string = 'ö'\n",
    "print(my_string.isascii())"
   ]
  },
  {
   "cell_type": "code",
   "execution_count": 365,
   "id": "34dfe358",
   "metadata": {},
   "outputs": [
    {
     "name": "stdout",
     "output_type": "stream",
     "text": [
      "The strings are equal.\n"
     ]
    }
   ],
   "source": [
    "firstString = \"der Fluß\"\n",
    "secondString = \"der Fluss\"\n",
    "\n",
    "if firstString.casefold() == secondString.casefold():\n",
    "    print('The strings are equal.')\n",
    "else:\n",
    "    print('The strings are not equal.')"
   ]
  },
  {
   "cell_type": "markdown",
   "id": "c9ea89f2",
   "metadata": {},
   "source": [
    "#Write the code to get below output\n",
    "#O/P 1:- python** (using ljust method)"
   ]
  },
  {
   "cell_type": "code",
   "execution_count": 2,
   "id": "1ca27a53",
   "metadata": {},
   "outputs": [
    {
     "name": "stdout",
     "output_type": "stream",
     "text": [
      "python**\n"
     ]
    }
   ],
   "source": [
    "a = 'python'\n",
    "x = a.ljust(0)\n",
    "print(x,'**',sep='')"
   ]
  },
  {
   "cell_type": "markdown",
   "id": "7fd1f8ac",
   "metadata": {},
   "source": [
    "#Write the code to get below output\n",
    "#O/P 1:- **python (using rjust method)"
   ]
  },
  {
   "cell_type": "code",
   "execution_count": 3,
   "id": "4db62316",
   "metadata": {},
   "outputs": [
    {
     "name": "stdout",
     "output_type": "stream",
     "text": [
      "**python\n"
     ]
    }
   ],
   "source": [
    "a = 'python'\n",
    "x = a.rjust(0)\n",
    "print('**', x,sep='')"
   ]
  },
  {
   "cell_type": "markdown",
   "id": "140724e2",
   "metadata": {},
   "source": [
    "#Write the code to get below output\n",
    "#O/P 1:- **python** (using rjust method)"
   ]
  },
  {
   "cell_type": "code",
   "execution_count": 4,
   "id": "739e1cf1",
   "metadata": {},
   "outputs": [
    {
     "name": "stdout",
     "output_type": "stream",
     "text": [
      "**python**\n"
     ]
    }
   ],
   "source": [
    "a = 'python'\n",
    "x = a.rjust(0)\n",
    "print('**', x,'**',sep='')"
   ]
  },
  {
   "cell_type": "markdown",
   "id": "01eb8f0d",
   "metadata": {},
   "source": [
    "#Write a Python program to find the length of the my_str:-\n",
    "\n",
    "#Input:- 'Write a Python program to find the length of the my_str'\n",
    "\n",
    "\n",
    "#Output:- 55"
   ]
  },
  {
   "cell_type": "code",
   "execution_count": 384,
   "id": "dceccbcb",
   "metadata": {},
   "outputs": [
    {
     "name": "stdout",
     "output_type": "stream",
     "text": [
      "55\n"
     ]
    }
   ],
   "source": [
    "a = 'Write a Python program to find the length of the my_str'\n",
    "print(len(a))"
   ]
  },
  {
   "cell_type": "markdown",
   "id": "d55e556e",
   "metadata": {},
   "source": [
    "#Write a Python program to find the total number of times letter 'p' is appeared in the below string:-\n",
    "    \n",
    "#Input:- 'peter piper picked a peck of pickled peppers.'\n",
    "\n",
    "#Output:- 9\n"
   ]
  },
  {
   "cell_type": "code",
   "execution_count": 387,
   "id": "022e1d16",
   "metadata": {},
   "outputs": [
    {
     "name": "stdout",
     "output_type": "stream",
     "text": [
      "9\n"
     ]
    }
   ],
   "source": [
    "a = 'peter piper picked a peck of pickled peppers.'\n",
    "\n",
    "print(a.count('p'))"
   ]
  },
  {
   "cell_type": "markdown",
   "id": "906e35ef",
   "metadata": {},
   "source": [
    "#Write a Python Program, to print all the indexes of all occurences of letter 'p' appeared in the string:-\n",
    "    \n",
    "#Input:- 'peter piper picked a peck of pickled peppers.'\n",
    "\n",
    "#Output:- \n",
    "\n",
    " 0\n",
    " 6\n",
    " 8\n",
    " 12\n",
    " 21\n",
    " 29\n",
    " 37\n",
    " 39\n",
    " 40"
   ]
  },
  {
   "cell_type": "code",
   "execution_count": 63,
   "id": "8e8bb7da",
   "metadata": {},
   "outputs": [
    {
     "name": "stdout",
     "output_type": "stream",
     "text": [
      "[0, 6, 8, 12, 21, 29, 37, 39, 40]\n"
     ]
    }
   ],
   "source": [
    "import re\n",
    "\n",
    "a = 'peter piper picked a peck of pickled peppers.'\n",
    "char = 'p'\n",
    "b =[p.start() for p in re.finditer(char,a)]\n",
    "print(b)"
   ]
  },
  {
   "cell_type": "markdown",
   "id": "7a7059ce",
   "metadata": {},
   "source": [
    "#Write a python program to find below output:-\n",
    "\n",
    "#Input:- 'peter piper picked a peck of pickled peppers.'\n",
    "\n",
    "\n",
    "#Output:- ['peter', 'piper', 'picked', 'a', 'peck', 'of', 'pickled', 'peppers.']"
   ]
  },
  {
   "cell_type": "code",
   "execution_count": 396,
   "id": "ca4bccd8",
   "metadata": {},
   "outputs": [
    {
     "data": {
      "text/plain": [
       "['peter', 'piper', 'picked', 'a', 'peck', 'of', 'pickled', 'peppers.']"
      ]
     },
     "execution_count": 396,
     "metadata": {},
     "output_type": "execute_result"
    }
   ],
   "source": [
    "a = 'peter piper picked a peck of pickled peppers.'\n",
    "\n",
    "print(list(a.split(' ')))"
   ]
  },
  {
   "cell_type": "markdown",
   "id": "5db4ab43",
   "metadata": {},
   "source": [
    "#W A P which takes a string as an input and prints True if the string is valid identifier else returns False.\n",
    "#Sample Input:- 'abc', 'abc1', 'ab1c', '1abc', 'abc$', '_abc', 'if'\n"
   ]
  },
  {
   "cell_type": "code",
   "execution_count": 5,
   "id": "32160a1d",
   "metadata": {},
   "outputs": [],
   "source": [
    "a1 = 'abc'\n",
    "a2 = 'abc1'\n",
    "a3 = 'ab1c'\n",
    "a4 = '1abc'\n",
    "a5 = 'abc$'\n",
    "a6 = '_abc'\n",
    "a7 = 'if'"
   ]
  },
  {
   "cell_type": "code",
   "execution_count": 8,
   "id": "b4feaa65",
   "metadata": {},
   "outputs": [
    {
     "name": "stdout",
     "output_type": "stream",
     "text": [
      "True\n",
      "True\n",
      "True\n",
      "False\n",
      "False\n",
      "True\n",
      "True\n"
     ]
    }
   ],
   "source": [
    "print(a1.isidentifier())\n",
    "print(a2.isidentifier())\n",
    "print(a3.isidentifier())\n",
    "print(a4.isidentifier())\n",
    "print(a5.isidentifier())\n",
    "print(a6.isidentifier())\n",
    "print(a7.isidentifier())"
   ]
  },
  {
   "cell_type": "markdown",
   "id": "785752d4",
   "metadata": {},
   "source": [
    "\n",
    "#Write a python program to find below output:-\n",
    "\n",
    "#Input:- 'peter piper picked a peck of pickled peppers.'\n",
    "#Output:- 'peppers. pickled of peck a picked piper peter'"
   ]
  },
  {
   "cell_type": "code",
   "execution_count": 38,
   "id": "75519a96",
   "metadata": {},
   "outputs": [
    {
     "name": "stdout",
     "output_type": "stream",
     "text": [
      "['peppers.', 'pickled', 'of', 'peck', 'a', 'picked', 'piper', 'peter']\n",
      "['peter', 'piper', 'picked', 'a', 'peck', 'of', 'pickled', 'peppers.']\n"
     ]
    }
   ],
   "source": [
    "a = 'peter piper picked a peck of pickled peppers.'\n",
    "b = a.split()\n",
    "\n",
    "print(b[::-1])"
   ]
  },
  {
   "cell_type": "markdown",
   "id": "9ea915b1",
   "metadata": {},
   "source": [
    "#Write a python program to find below output:-\n",
    "\n",
    "#Input:- 'peter piper picked a peck of pickled peppers.'\n",
    "#Output:- '.sreppep delkcip fo kcep a dekcip repip retep'"
   ]
  },
  {
   "cell_type": "code",
   "execution_count": 20,
   "id": "fc471ac4",
   "metadata": {},
   "outputs": [
    {
     "name": "stdout",
     "output_type": "stream",
     "text": [
      ".sreppep delkcip fo kcep a dekcip repip retep\n"
     ]
    }
   ],
   "source": [
    "a = 'peter piper picked a peck of pickled peppers.'\n",
    "\n",
    "print(a[::-1])"
   ]
  },
  {
   "cell_type": "markdown",
   "id": "606856d5",
   "metadata": {},
   "source": [
    "#Write a python program to find below output:-\n",
    "\n",
    "#Input:- 'peter piper picked a peck of pickled peppers.'\n",
    "#Output:- 'retep repip dekcip a kcep fo delkcip .sreppep'"
   ]
  },
  {
   "cell_type": "code",
   "execution_count": 37,
   "id": "4d106a83",
   "metadata": {},
   "outputs": [
    {
     "name": "stdout",
     "output_type": "stream",
     "text": [
      "retep repip dekcip a kcep fo delkcip .sreppep\n"
     ]
    }
   ],
   "source": [
    "a = 'peter piper picked a peck of pickled peppers.'\n",
    "b = a.split()\n",
    "\n",
    "print(b[0][::-1],b[1][::-1],b[2][::-1],b[3][::-1],b[4][::-1],b[5][::-1],b[6][::-1],b[7][::-1])"
   ]
  },
  {
   "cell_type": "markdown",
   "id": "28f1c25f",
   "metadata": {},
   "source": [
    "#Input:- 'peter piper picked a peck of pickled peppers.'\n",
    "\n",
    "#Output:- 'Peter Piper Picked A Peck Of Pickled Peppers.'"
   ]
  },
  {
   "cell_type": "code",
   "execution_count": 39,
   "id": "d57acf5f",
   "metadata": {},
   "outputs": [
    {
     "name": "stdout",
     "output_type": "stream",
     "text": [
      "Peter Piper Picked A Peck Of Pickled Peppers.\n"
     ]
    }
   ],
   "source": [
    "a = 'peter piper picked a peck of pickled peppers.'\n",
    "\n",
    "print(a.title())"
   ]
  },
  {
   "cell_type": "markdown",
   "id": "5ccbbd1d",
   "metadata": {},
   "source": [
    "#Input:- 'Peter Piper Picked A Peck Of Pickled Peppers.'\n",
    "\n",
    "#Output:- 'Peter piper picked a peck of pickled peppers.'"
   ]
  },
  {
   "cell_type": "code",
   "execution_count": 40,
   "id": "c13cf712",
   "metadata": {},
   "outputs": [
    {
     "name": "stdout",
     "output_type": "stream",
     "text": [
      "Peter piper picked a peck of pickled peppers.\n"
     ]
    }
   ],
   "source": [
    "a = 'peter piper picked a peck of pickled peppers.'\n",
    "\n",
    "print(a.capitalize())"
   ]
  },
  {
   "cell_type": "markdown",
   "id": "1654a1f1",
   "metadata": {},
   "source": [
    "#Take a string from user and check if it is:-\n",
    "\n",
    "    1. alphanumeric\n",
    "\n",
    "    2. alphabets\n",
    "\n",
    "    3. digit\n",
    "\n",
    "    4. all letters are in lower case\n",
    "\n",
    "     5. all letters are in upper case\n",
    "\n",
    "     6. in title case\n",
    "\n",
    "     7. a space character\n",
    "\n",
    "     8. numeric\n",
    "\n",
    "     9. all number elements in string are decimal"
   ]
  },
  {
   "cell_type": "code",
   "execution_count": 97,
   "id": "0a77d7d7",
   "metadata": {},
   "outputs": [
    {
     "name": "stdout",
     "output_type": "stream",
     "text": [
      "True\n"
     ]
    }
   ],
   "source": [
    "a = 'z132abcd'\n",
    "\n",
    "print(a.isalnum())"
   ]
  },
  {
   "cell_type": "code",
   "execution_count": 98,
   "id": "ec18822b",
   "metadata": {},
   "outputs": [
    {
     "name": "stdout",
     "output_type": "stream",
     "text": [
      "False\n"
     ]
    }
   ],
   "source": [
    "print(a.isalpha())"
   ]
  },
  {
   "cell_type": "code",
   "execution_count": 99,
   "id": "91de3823",
   "metadata": {},
   "outputs": [
    {
     "name": "stdout",
     "output_type": "stream",
     "text": [
      "False\n"
     ]
    }
   ],
   "source": [
    "print(a.isnumeric())"
   ]
  },
  {
   "cell_type": "code",
   "execution_count": 100,
   "id": "5517c3fd",
   "metadata": {},
   "outputs": [
    {
     "name": "stdout",
     "output_type": "stream",
     "text": [
      "True\n"
     ]
    }
   ],
   "source": [
    "print(a.islower())"
   ]
  },
  {
   "cell_type": "code",
   "execution_count": 101,
   "id": "94b66d14",
   "metadata": {},
   "outputs": [
    {
     "name": "stdout",
     "output_type": "stream",
     "text": [
      "False\n"
     ]
    }
   ],
   "source": [
    "print(a.isupper())"
   ]
  },
  {
   "cell_type": "code",
   "execution_count": 102,
   "id": "b49dd7e8",
   "metadata": {},
   "outputs": [
    {
     "name": "stdout",
     "output_type": "stream",
     "text": [
      "False\n"
     ]
    }
   ],
   "source": [
    "print(a.isdecimal())"
   ]
  },
  {
   "cell_type": "code",
   "execution_count": 103,
   "id": "0e5f3e35",
   "metadata": {},
   "outputs": [
    {
     "name": "stdout",
     "output_type": "stream",
     "text": [
      "False\n"
     ]
    }
   ],
   "source": [
    "print(a.isdigit())"
   ]
  },
  {
   "cell_type": "code",
   "execution_count": 104,
   "id": "4ba5f0ab",
   "metadata": {},
   "outputs": [
    {
     "name": "stdout",
     "output_type": "stream",
     "text": [
      "False\n"
     ]
    }
   ],
   "source": [
    "print(a.isspace())"
   ]
  },
  {
   "cell_type": "code",
   "execution_count": 95,
   "id": "3215ca43",
   "metadata": {},
   "outputs": [
    {
     "name": "stdout",
     "output_type": "stream",
     "text": [
      "False\n"
     ]
    }
   ],
   "source": [
    "print(a.istitle())"
   ]
  },
  {
   "cell_type": "markdown",
   "id": "6270563b",
   "metadata": {},
   "source": [
    "\n",
    "#Write the code which takes one string from user and if it starts with small case letter then convert it to corresponding \n",
    "#capital letter otherwise if starts with capital letters then convert first character of every word in that string into capital.\n"
   ]
  },
  {
   "cell_type": "code",
   "execution_count": 94,
   "id": "b1da75c4",
   "metadata": {},
   "outputs": [
    {
     "name": "stdout",
     "output_type": "stream",
     "text": [
      "Paddle to the metal\n",
      "Paddle To The Metal\n"
     ]
    }
   ],
   "source": [
    "a = 'paddle to the metal'\n",
    "\n",
    "print(a.capitalize())\n",
    "print(a.title())"
   ]
  },
  {
   "cell_type": "markdown",
   "id": "71b9d0bd",
   "metadata": {},
   "source": [
    "#Write a python program to find below output (implements rjust and ljust):-\n",
    "\n",
    "#Input:- 'Peter Piper Picked A Peck Of Pickled Peppers.', sub_str = 'Peck', \n",
    "\n",
    "#Output:- '*********************Peck********************'\n"
   ]
  },
  {
   "cell_type": "code",
   "execution_count": 75,
   "id": "7012e6c2",
   "metadata": {},
   "outputs": [
    {
     "name": "stdout",
     "output_type": "stream",
     "text": [
      "Peter Piper Picked A Peck Of Pickled Peppers.                 Peck\n"
     ]
    }
   ],
   "source": [
    "a = 'Peter Piper Picked A Peck Of Pickled Peppers.'\n",
    "sub_str = 'Peck'\n",
    "\n",
    "print(a,sub_str.rjust(20))"
   ]
  },
  {
   "cell_type": "code",
   "execution_count": null,
   "id": "08146ea6",
   "metadata": {},
   "outputs": [],
   "source": []
  },
  {
   "cell_type": "code",
   "execution_count": null,
   "id": "df5d5feb",
   "metadata": {},
   "outputs": [],
   "source": []
  },
  {
   "cell_type": "code",
   "execution_count": null,
   "id": "541f71e4",
   "metadata": {},
   "outputs": [],
   "source": []
  },
  {
   "cell_type": "code",
   "execution_count": null,
   "id": "dccc930f",
   "metadata": {},
   "outputs": [],
   "source": [
    "\n",
    "\n",
    "#Write a python program to implement index method. If sub_str is found in my_str then it will print the index\n",
    "# of first occurrence of first character of matching string in my_str:-\n",
    "\n",
    "#Input:- my_str = 'Peter Piper Picked A Peck Of Pickled Peppers.', sub_str = 'Pickl'\n",
    "#Output:- 29\n",
    "\n",
    "\n",
    "\n",
    "#Write a python program to implement replace method. If sub_str is found in my_str then it will replace the first \n",
    "#occurrence of sub_str with new_str else it will will print sub_str not found:-\n",
    "\n",
    "#Input:- my_str = 'Peter Piper Picked A Peck Of Pickled Peppers.', sub_str = 'Peck', new_str = 'Pack'\n",
    "#Output:- 'Peter Piper Picked A Pack Of Pickled Peppers.'\n",
    "\n",
    "\n",
    "\n",
    "#Write a python program to find below output (implements rjust and ljust):-\n",
    "\n",
    "#Input:- 'Peter Piper Picked A Peck Of Pickled Peppers.', sub_str = 'Peck', \n",
    "#Output:- '*********************Peck********************'\n",
    "\n",
    "\n",
    "\n",
    "\n",
    "\n",
    "\n"
   ]
  }
 ],
 "metadata": {
  "kernelspec": {
   "display_name": "Python 3 (ipykernel)",
   "language": "python",
   "name": "python3"
  },
  "language_info": {
   "codemirror_mode": {
    "name": "ipython",
    "version": 3
   },
   "file_extension": ".py",
   "mimetype": "text/x-python",
   "name": "python",
   "nbconvert_exporter": "python",
   "pygments_lexer": "ipython3",
   "version": "3.9.12"
  }
 },
 "nbformat": 4,
 "nbformat_minor": 5
}
