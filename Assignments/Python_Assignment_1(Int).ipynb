{
 "cells": [
  {
   "cell_type": "code",
   "execution_count": 2,
   "id": "2e77dca0",
   "metadata": {},
   "outputs": [
    {
     "name": "stdout",
     "output_type": "stream",
     "text": [
      "<class 'int'>\n",
      "1998133095472\n"
     ]
    }
   ],
   "source": [
    "#Q. Declare an int value and store it in a variable.Check the type and print the id of the same.\n",
    "\n",
    "a = 25\n",
    "\n",
    "print(type(a))\n",
    "print(id(a))"
   ]
  },
  {
   "cell_type": "code",
   "execution_count": 3,
   "id": "26022199",
   "metadata": {},
   "outputs": [
    {
     "name": "stdout",
     "output_type": "stream",
     "text": [
      "1998133284912\n",
      "1998133284912\n"
     ]
    }
   ],
   "source": [
    "#Q. Take one int value between 0 - 256.Assign it to two different variables.Check the id of both the variables. It should come the same. Check why?\n",
    "\n",
    "a = 55\n",
    "b = 55\n",
    "\n",
    "print(id(a))\n",
    "print(id(b))\n",
    "\n",
    "# Because the Memory Location of the no. 55 (which comes under the range of -5 to 256) is pre defined."
   ]
  },
  {
   "cell_type": "code",
   "execution_count": 4,
   "id": "0fabbadf",
   "metadata": {},
   "outputs": [
    {
     "name": "stdout",
     "output_type": "stream",
     "text": [
      "1998247569488\n",
      "1998247568080\n"
     ]
    }
   ],
   "source": [
    "#Q. Take one int value either less than -5 or greater than 256.Assign it to two different variables.Check the id of both the variables. It should come different.Check why?\n",
    "\n",
    "a = -20\n",
    "b = -20\n",
    "\n",
    "print(id(a))\n",
    "print(id(b))\n",
    "\n",
    "# Because the Memory Location of th no. -20 (which doesn't comes under the range of -5 to 256) is not pre-defined. \n",
    "# SO, we have a differnt id for the no."
   ]
  },
  {
   "cell_type": "code",
   "execution_count": 22,
   "id": "3c52d92e",
   "metadata": {},
   "outputs": [
    {
     "name": "stdout",
     "output_type": "stream",
     "text": [
      "13\n",
      "3\n",
      "40\n",
      "1.6\n",
      "3\n",
      "1\n",
      "32768\n"
     ]
    }
   ],
   "source": [
    "#Q. Arithmetic Operations on integersTake two different integer values.Store them in two different variables.\n",
    "#Do below operations on them:-\n",
    " #Find sum of both numbers\n",
    " #Find difference between them\n",
    " #Find the product of both numbers.\n",
    " #Find value after dividing first num with second number\n",
    " #Find the remainder after dividing first number with second number\n",
    " #Find the quotient after dividing first number with second number\n",
    " #Find the result of the first num to the power of the second number.\n",
    "\n",
    "a = 8\n",
    "b = 5\n",
    "\n",
    "print(a+b)\n",
    "print(a-b)\n",
    "print(a*b)\n",
    "print(a/b)\n",
    "print(a%b)\n",
    "print(a//b)\n",
    "print(a**b)"
   ]
  },
  {
   "cell_type": "code",
   "execution_count": 28,
   "id": "e6423421",
   "metadata": {},
   "outputs": [
    {
     "name": "stdout",
     "output_type": "stream",
     "text": [
      "False\n",
      "True\n",
      "False\n",
      "True\n"
     ]
    }
   ],
   "source": [
    "#Q. Comparison Operators on integersTake two different integer values.Store them in two different variables.\n",
    "#Do below operations on them:-\n",
    " #Compare se two numbers with below operator:-\n",
    " #Greater than, '>'\n",
    " #Smaller than, '<'\n",
    " #Greater than or equal to, '>='\n",
    " #Less than or equal to, '<='\n",
    "#Observe their output(return type should be boolean)\n",
    "\n",
    "a = 12\n",
    "b = 45\n",
    "\n",
    "print(a > b)\n",
    "print(a < b)\n",
    "print(a >= b)\n",
    "print(a <= b)"
   ]
  },
  {
   "cell_type": "code",
   "execution_count": 29,
   "id": "052b44e9",
   "metadata": {},
   "outputs": [
    {
     "name": "stdout",
     "output_type": "stream",
     "text": [
      "False\n",
      "True\n"
     ]
    }
   ],
   "source": [
    "#Q. Equality Operator.Take two different integer values.Store them in two different variables.\n",
    "#Equate them using equality operators (==, !=)\n",
    "#Observe the output(return type should be boolean)\n",
    "\n",
    "a = 25\n",
    "b = 37\n",
    "\n",
    "print(a == b)\n",
    "print(a != b)"
   ]
  },
  {
   "cell_type": "code",
   "execution_count": 3,
   "id": "e4e6c476",
   "metadata": {},
   "outputs": [
    {
     "name": "stdout",
     "output_type": "stream",
     "text": [
      "20\n",
      "0\n",
      "0\n",
      "0\n"
     ]
    }
   ],
   "source": [
    "#Q. Logical operators\n",
    "#Observe the output of below code\n",
    "#Cross check the output manually\n",
    "#print(10 and 20)\n",
    "#----------------------------------------->Output is 20\n",
    "#print(0 and 20)\n",
    "#----------------------------------------->Output is 0\n",
    "#print(20 and 0)\n",
    "#----------------------------------------->Output is 0\n",
    "#print(0 and 0)\n",
    "#----------------------------------------->Output is 0\n",
    "\n",
    "\n",
    "# and\n",
    "\n",
    "print( 10 and 20)\n",
    "print ( 0 and 20)\n",
    "print( 20 and 0)\n",
    "print( 0 and 0)"
   ]
  },
  {
   "cell_type": "code",
   "execution_count": 35,
   "id": "f5c25b74",
   "metadata": {},
   "outputs": [
    {
     "name": "stdout",
     "output_type": "stream",
     "text": [
      "10\n",
      "20\n",
      "20\n",
      "0\n"
     ]
    }
   ],
   "source": [
    "#print(10 or 20)\n",
    "#----------------------------------------->Output is 10\n",
    "#print(0 or 20)\n",
    "#----------------------------------------->Output is 20\n",
    "#print(20 or 0)\n",
    "#----------------------------------------->Output is 20\n",
    "#print(0 or 0)\n",
    "#----------------------------------------->Output is 0\n",
    "\n",
    "# or\n",
    "\n",
    "print(10 or 20)\n",
    "print(0 or 20)\n",
    "print(20 or 0)\n",
    "print(0 or 0)"
   ]
  },
  {
   "cell_type": "code",
   "execution_count": 38,
   "id": "3a292dcf",
   "metadata": {},
   "outputs": [
    {
     "name": "stdout",
     "output_type": "stream",
     "text": [
      "False\n",
      "True\n"
     ]
    }
   ],
   "source": [
    "#print(not 10)\n",
    "#----------------------------------------->Output is False\n",
    "#print(not 0)\n",
    "#----------------------------------------->Output is True\n",
    "\n",
    "# not\n",
    "\n",
    "print(not 10)\n",
    "print(not 0)"
   ]
  },
  {
   "cell_type": "code",
   "execution_count": 45,
   "id": "0ce8d619",
   "metadata": {},
   "outputs": [
    {
     "name": "stdout",
     "output_type": "stream",
     "text": [
      "0\n",
      "30\n",
      "30\n",
      "-11\n",
      "40\n",
      "2\n"
     ]
    }
   ],
   "source": [
    "#Q. Bitwise Operators\n",
    "#Do below operations on the values provided below:-\n",
    " #Bitwise and(&) -----------------------------------------> 10, 20\n",
    "#-------> Output is 0\n",
    " #Bitwise or(|) -----------------------------------------> 10, 20\n",
    "#-------> Output is 30\n",
    " #Bitwise(^) -----------------------------------------> 10, 20\n",
    "#-------> Output is 30\n",
    " #Bitwise negation(~) ------------------------------------> 10\n",
    "#-------> Output is -11\n",
    " #Bitwise left shift ------------------------------------> 10,2\n",
    "#-------> Output is 40\n",
    " #Bitwise right shift ------------------------------------> 10,2\n",
    "#-------> Output is 2\n",
    "#Cross check the output manually\n",
    "\n",
    "# Bitwise Operatot\n",
    "\n",
    "print(10 & 20)\n",
    "print(10 | 20)\n",
    "print(10 ^ 20)\n",
    "print(~10)\n",
    "print(10 << 2)\n",
    "print(10 >> 2)"
   ]
  },
  {
   "cell_type": "code",
   "execution_count": 46,
   "id": "a3f1d2c2",
   "metadata": {},
   "outputs": [
    {
     "name": "stdout",
     "output_type": "stream",
     "text": [
      "True\n",
      "False\n"
     ]
    }
   ],
   "source": [
    "#Q. What is the output of expression inside print statement. Cross checkbefore running the program.\n",
    "   #a = 10\n",
    "   #b = 10\n",
    "   #print(a is b) #True or False?\n",
    "   #print(a is not b) #True or False?\n",
    "\n",
    "a = 10\n",
    "b = 10\n",
    "\n",
    "print(a is b)\n",
    "print(a is not b)"
   ]
  },
  {
   "cell_type": "code",
   "execution_count": 52,
   "id": "7f1cfeb1",
   "metadata": {},
   "outputs": [
    {
     "name": "stdout",
     "output_type": "stream",
     "text": [
      "False\n",
      "True\n"
     ]
    }
   ],
   "source": [
    "#a = 1000\n",
    "#b = 1000\n",
    "#print(a is b) #True or False?\n",
    "#print(a is not b) #True or False?\n",
    "\n",
    "a = 1000\n",
    "b = 1000\n",
    "\n",
    "print(a is b)\n",
    "print(a is not b)"
   ]
  },
  {
   "cell_type": "code",
   "execution_count": 54,
   "id": "dc13ba77",
   "metadata": {},
   "outputs": [
    {
     "name": "stdout",
     "output_type": "stream",
     "text": [
      "20\n"
     ]
    }
   ],
   "source": [
    "#Q. What is the output of expression inside print statement. Cross check before running the program.\n",
    "#print(10+(10*32)//2**5&20+(~(-10))<<2)\n",
    "\n",
    "\n",
    "print(10+(10*32)//2**5 & 20+(~(-10))<<2)"
   ]
  },
  {
   "cell_type": "code",
   "execution_count": 64,
   "id": "f4dcb3be",
   "metadata": {},
   "outputs": [
    {
     "name": "stdout",
     "output_type": "stream",
     "text": [
      "True\n",
      "True\n",
      "True\n",
      "True\n",
      "True\n"
     ]
    }
   ],
   "source": [
    "#Q. Membership operation\n",
    "#in, not in are two membership operators and it returns boolean value\n",
    "#print('2' in 'Python2.7.8')\n",
    "#print(10 in [10,10.20,10+20j,'Python'])\n",
    "#print(10 in (10,10.20,10+20j,'Python'))\n",
    "#print(2 in {1,2,3})\n",
    "#print(3 in {1:100, 2:200, 3:300})\n",
    "#print(10 in range(20))\n",
    "\n",
    "# Membership Operator\n",
    "\n",
    "print('2' in 'Python2.7.8')\n",
    "print(10 in [10,10.20,10+20j,'Python'])\n",
    "print(2 in{1,2,3})\n",
    "print(3 in {1:100, 2:200, 3:300})\n",
    "print(10 in range(20))"
   ]
  },
  {
   "cell_type": "code",
   "execution_count": 70,
   "id": "24b76646",
   "metadata": {},
   "outputs": [
    {
     "name": "stdout",
     "output_type": "stream",
     "text": [
      "0b10011010010100\n",
      "0o23224\n",
      "0x2694\n"
     ]
    }
   ],
   "source": [
    "#Q. An integer can be represented in binary, octal or hexadecimal form.Declare one binary, one octal and one hexadecimal value and store them\n",
    "#in three different variables.\n",
    "#Convert 9876 to its binary, octal and hexadecimal equivalent and print their corresponding value.\n",
    "\n",
    "# Binary\n",
    "\n",
    "a = 9876\n",
    "print(bin(a))\n",
    "\n",
    "#Octal\n",
    "\n",
    "print(oct(a))\n",
    "\n",
    "# Hexadecimal\n",
    "\n",
    "print(hex(a))"
   ]
  },
  {
   "cell_type": "code",
   "execution_count": 72,
   "id": "7358d658",
   "metadata": {},
   "outputs": [
    {
     "name": "stdout",
     "output_type": "stream",
     "text": [
      "16\n"
     ]
    }
   ],
   "source": [
    "#Q. What will be the output of following:-\n",
    "#a = 0b1010000\n",
    "#print(a)\n",
    "\n",
    "\n",
    "a = 0b10000\n",
    "print(a)"
   ]
  },
  {
   "cell_type": "code",
   "execution_count": 73,
   "id": "23f2c61f",
   "metadata": {},
   "outputs": [
    {
     "name": "stdout",
     "output_type": "stream",
     "text": [
      "3870\n"
     ]
    }
   ],
   "source": [
    "#b = 0o7436\n",
    "#print(b)\n",
    "\n",
    "b = 0o7436\n",
    "print(b)"
   ]
  },
  {
   "cell_type": "code",
   "execution_count": 75,
   "id": "73223cc7",
   "metadata": {},
   "outputs": [
    {
     "name": "stdout",
     "output_type": "stream",
     "text": [
      "64222\n"
     ]
    }
   ],
   "source": [
    "#c = 0xfade\n",
    "#print(c)\n",
    "\n",
    "c= 0xfade\n",
    "print(c)"
   ]
  },
  {
   "cell_type": "code",
   "execution_count": 80,
   "id": "de51512d",
   "metadata": {},
   "outputs": [
    {
     "name": "stdout",
     "output_type": "stream",
     "text": [
      "0b1010000\n",
      "0o7436\n",
      "0xfade\n",
      "0b1010000\n",
      "0b1111101011011110\n",
      "0o175336\n",
      "0o7436\n",
      "0x50\n",
      "0xfade\n"
     ]
    }
   ],
   "source": [
    "#print(bin(80))\n",
    "#print(oct(3870))\n",
    "#print(hex(64222))\n",
    "#print(bin(0b1010000))\n",
    "#print(bin(0xfade))\n",
    "#print(oct(0xfade))\n",
    "#print(oct(0o7436))\n",
    "#print(hex(0b1010000))\n",
    "#print(hex(0xfade))\n",
    "\n",
    "print(bin(80))\n",
    "\n",
    "print(oct(3870))\n",
    "\n",
    "print(hex(64222))\n",
    "\n",
    "print(bin(0b1010000))\n",
    "\n",
    "print(bin(0xfade))\n",
    "\n",
    "print(oct(0xfade))\n",
    "\n",
    "print(oct(0o7436))\n",
    "\n",
    "print(hex(0b1010000))\n",
    "\n",
    "print(hex(0xfade))"
   ]
  }
 ],
 "metadata": {
  "kernelspec": {
   "display_name": "Python 3 (ipykernel)",
   "language": "python",
   "name": "python3"
  },
  "language_info": {
   "codemirror_mode": {
    "name": "ipython",
    "version": 3
   },
   "file_extension": ".py",
   "mimetype": "text/x-python",
   "name": "python",
   "nbconvert_exporter": "python",
   "pygments_lexer": "ipython3",
   "version": "3.9.12"
  }
 },
 "nbformat": 4,
 "nbformat_minor": 5
}
