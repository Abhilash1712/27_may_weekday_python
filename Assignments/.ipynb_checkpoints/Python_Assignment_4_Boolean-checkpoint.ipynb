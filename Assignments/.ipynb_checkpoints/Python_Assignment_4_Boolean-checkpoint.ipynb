{
 "cells": [
  {
   "cell_type": "markdown",
   "id": "d1a6763c",
   "metadata": {},
   "source": [
    "Q1. Declare a boolean value and store it in a variable.\n",
    "Check the type and print the id of the same."
   ]
  },
  {
   "cell_type": "code",
   "execution_count": 1,
   "id": "7209d772",
   "metadata": {},
   "outputs": [
    {
     "name": "stdout",
     "output_type": "stream",
     "text": [
      "<class 'bool'>\n",
      "140737124292712\n"
     ]
    }
   ],
   "source": [
    "a = True\n",
    "\n",
    "print(type(a))\n",
    "print(id(a))"
   ]
  },
  {
   "cell_type": "markdown",
   "id": "f5ef3523",
   "metadata": {},
   "source": [
    "Q2. Take one boolean value between 0 - 256.\n",
    "Assign it to two different variables.\n",
    "Check the id of both the variables. It should come the same. Check why?"
   ]
  },
  {
   "cell_type": "code",
   "execution_count": 9,
   "id": "c24d73bf",
   "metadata": {},
   "outputs": [
    {
     "name": "stdout",
     "output_type": "stream",
     "text": [
      "True\n",
      "True\n",
      "140737124292712\n",
      "140737124292712\n"
     ]
    }
   ],
   "source": [
    "a = 34\n",
    "b = 34\n",
    "\n",
    "c = bool(a)\n",
    "d = bool(b)\n",
    "\n",
    "print(c)\n",
    "print(d)\n",
    "\n",
    "print(id(c))\n",
    "print(id(d))"
   ]
  },
  {
   "cell_type": "code",
   "execution_count": 10,
   "id": "989692a2",
   "metadata": {},
   "outputs": [],
   "source": [
    "# Ans :- Because Object Reusability is applicable in Boolean Values"
   ]
  },
  {
   "cell_type": "markdown",
   "id": "8cf3ae1e",
   "metadata": {},
   "source": [
    "Q3. Arithmetic Operations on boolean data\n",
    "Take two different boolean values.\n",
    "Store them in two different variables.\n",
    "\n",
    "Do below operations on them:-\n"
   ]
  },
  {
   "cell_type": "markdown",
   "id": "bf0f9e2b",
   "metadata": {},
   "source": [
    "Find sum of both values"
   ]
  },
  {
   "cell_type": "code",
   "execution_count": 13,
   "id": "e9e3f4fc",
   "metadata": {},
   "outputs": [
    {
     "name": "stdout",
     "output_type": "stream",
     "text": [
      "2\n"
     ]
    }
   ],
   "source": [
    "a = 34\n",
    "b = 12\n",
    "\n",
    "c = bool(a)\n",
    "d = bool(b)\n",
    "\n",
    "print(c+d)"
   ]
  },
  {
   "cell_type": "markdown",
   "id": "7797ed35",
   "metadata": {},
   "source": [
    " Find difference between them"
   ]
  },
  {
   "cell_type": "code",
   "execution_count": 15,
   "id": "85f9d40e",
   "metadata": {},
   "outputs": [
    {
     "name": "stdout",
     "output_type": "stream",
     "text": [
      "1\n"
     ]
    }
   ],
   "source": [
    "a = 34\n",
    "b = 0\n",
    "\n",
    "c = bool(a)\n",
    "d = bool(b)\n",
    "\n",
    "print(c-d)"
   ]
  },
  {
   "cell_type": "markdown",
   "id": "489c0586",
   "metadata": {},
   "source": [
    " Find the product of both."
   ]
  },
  {
   "cell_type": "code",
   "execution_count": 16,
   "id": "5b16d88a",
   "metadata": {},
   "outputs": [
    {
     "name": "stdout",
     "output_type": "stream",
     "text": [
      "1\n"
     ]
    }
   ],
   "source": [
    "a = 34\n",
    "b = 12\n",
    "\n",
    "c = bool(a)\n",
    "d = bool(b)\n",
    "\n",
    "print(c*d)"
   ]
  },
  {
   "cell_type": "markdown",
   "id": "aaefabf8",
   "metadata": {},
   "source": [
    "Find value after dividing first value with second value"
   ]
  },
  {
   "cell_type": "code",
   "execution_count": 20,
   "id": "7007043a",
   "metadata": {},
   "outputs": [
    {
     "name": "stdout",
     "output_type": "stream",
     "text": [
      "1.0\n"
     ]
    }
   ],
   "source": [
    "a = 34\n",
    "b = 2\n",
    "\n",
    "c = bool(a)\n",
    "d = bool(b)\n",
    "\n",
    "print(c/d)"
   ]
  },
  {
   "cell_type": "markdown",
   "id": "7b4502f2",
   "metadata": {},
   "source": [
    " Find the remainder after dividing first value with second value"
   ]
  },
  {
   "cell_type": "code",
   "execution_count": 24,
   "id": "79ebd2b2",
   "metadata": {},
   "outputs": [
    {
     "name": "stdout",
     "output_type": "stream",
     "text": [
      "0\n"
     ]
    }
   ],
   "source": [
    "a = 34\n",
    "b = 12\n",
    "\n",
    "c = bool(a)\n",
    "d = bool(b)\n",
    "\n",
    "print(c%d)"
   ]
  },
  {
   "cell_type": "markdown",
   "id": "577f4a4b",
   "metadata": {},
   "source": [
    "Find the quotient after dividing first value with second value"
   ]
  },
  {
   "cell_type": "code",
   "execution_count": 27,
   "id": "a83b404d",
   "metadata": {},
   "outputs": [
    {
     "name": "stdout",
     "output_type": "stream",
     "text": [
      "1\n"
     ]
    }
   ],
   "source": [
    "a = 34\n",
    "b = 12\n",
    "\n",
    "c = bool(a)\n",
    "d = bool(b)\n",
    "\n",
    "print(c//d)"
   ]
  },
  {
   "cell_type": "markdown",
   "id": "7f318cd4",
   "metadata": {},
   "source": [
    " Find the result of first value to the power of second value."
   ]
  },
  {
   "cell_type": "code",
   "execution_count": 28,
   "id": "2e5b73a4",
   "metadata": {},
   "outputs": [
    {
     "name": "stdout",
     "output_type": "stream",
     "text": [
      "1\n"
     ]
    }
   ],
   "source": [
    "a = 34\n",
    "b = 12\n",
    "\n",
    "c = bool(a)\n",
    "d = bool(b)\n",
    "\n",
    "print(c**d)"
   ]
  },
  {
   "cell_type": "markdown",
   "id": "3d8a549e",
   "metadata": {},
   "source": [
    "Q4. Comparison Operators on boolean values\n",
    "Take two different boolean values.\n",
    "Store them in two different variables.\n",
    "Do below operations on them:-\n",
    " \n",
    " Compare these two values with below operator:-\n",
    " Greater than, '>'\n",
    " less than, '<'\n",
    " Greater than or equal to, '>='\n",
    " Less than or equal to, '<='\n",
    "Observe their output(return type should be boolean)"
   ]
  },
  {
   "cell_type": "code",
   "execution_count": 30,
   "id": "025460f4",
   "metadata": {},
   "outputs": [
    {
     "name": "stdout",
     "output_type": "stream",
     "text": [
      "True\n"
     ]
    }
   ],
   "source": [
    "a = 34\n",
    "b = 0\n",
    "\n",
    "c = bool(a)\n",
    "d = bool(b)\n",
    "\n",
    "print(c>d)"
   ]
  },
  {
   "cell_type": "code",
   "execution_count": 31,
   "id": "3f36ec36",
   "metadata": {},
   "outputs": [
    {
     "name": "stdout",
     "output_type": "stream",
     "text": [
      "False\n"
     ]
    }
   ],
   "source": [
    "a = 34\n",
    "b = 66\n",
    "\n",
    "c = bool(a)\n",
    "d = bool(b)\n",
    "\n",
    "print(c<d)"
   ]
  },
  {
   "cell_type": "code",
   "execution_count": 32,
   "id": "8b1eff37",
   "metadata": {},
   "outputs": [
    {
     "name": "stdout",
     "output_type": "stream",
     "text": [
      "True\n"
     ]
    }
   ],
   "source": [
    "a = 34\n",
    "b = 66\n",
    "\n",
    "c = bool(a)\n",
    "d = bool(b)\n",
    "\n",
    "print(c>=d)"
   ]
  },
  {
   "cell_type": "code",
   "execution_count": 33,
   "id": "802ba0f0",
   "metadata": {},
   "outputs": [
    {
     "name": "stdout",
     "output_type": "stream",
     "text": [
      "True\n"
     ]
    }
   ],
   "source": [
    "a = 34\n",
    "b = 66\n",
    "\n",
    "c = bool(a)\n",
    "d = bool(b)\n",
    "\n",
    "print(c<=d)"
   ]
  },
  {
   "cell_type": "markdown",
   "id": "4a319592",
   "metadata": {},
   "source": [
    "Q5. Equality Operator\n",
    "Take two different boolean values.\n",
    "Store them in two different variables.\n",
    "Equate them using equality operators (==, !=)\n",
    "Observe the output(return type should be boolean)"
   ]
  },
  {
   "cell_type": "code",
   "execution_count": 34,
   "id": "2e998841",
   "metadata": {},
   "outputs": [
    {
     "name": "stdout",
     "output_type": "stream",
     "text": [
      "True\n"
     ]
    }
   ],
   "source": [
    "a = 34\n",
    "b = 66\n",
    "\n",
    "c = bool(a)\n",
    "d = bool(b)\n",
    "\n",
    "print(c==d)"
   ]
  },
  {
   "cell_type": "code",
   "execution_count": 35,
   "id": "eaeb1d74",
   "metadata": {},
   "outputs": [
    {
     "name": "stdout",
     "output_type": "stream",
     "text": [
      "False\n"
     ]
    }
   ],
   "source": [
    "a = 34\n",
    "b = 66\n",
    "\n",
    "c = bool(a)\n",
    "d = bool(b)\n",
    "\n",
    "print(c!=d)"
   ]
  },
  {
   "cell_type": "markdown",
   "id": "00a2d9c9",
   "metadata": {},
   "source": [
    "Q6. Logical operators\n",
    "Observe the output of below code\n",
    "Cross check the output manually\n",
    "print(True and True)\n",
    "#----------------------------------------->Output is True\n",
    "print(False and True)\n",
    "#----------------------------------------->Output is False\n",
    "print(True and False)\n",
    "#----------------------------------------->Output is False\n",
    "print(False and False)\n",
    "#----------------------------------------->Output is False\n",
    "print(True or True)\n",
    "#----------------------------------------->Output is True\n",
    "print(False or True)\n",
    "#----------------------------------------->Output is True\n",
    "print(True or False)\n",
    "#----------------------------------------->Output is True\n",
    "print(False or False)\n",
    "#----------------------------------------->Output is False\n",
    "print(not True)\n",
    "#----------------------------------------->Output is False\n",
    "print(not False)\n",
    "#----------------------------------------->Output is True\n"
   ]
  },
  {
   "cell_type": "code",
   "execution_count": 36,
   "id": "4416abca",
   "metadata": {},
   "outputs": [
    {
     "name": "stdout",
     "output_type": "stream",
     "text": [
      "True\n"
     ]
    }
   ],
   "source": [
    "print(True and True)"
   ]
  },
  {
   "cell_type": "code",
   "execution_count": 37,
   "id": "e50167a7",
   "metadata": {},
   "outputs": [
    {
     "name": "stdout",
     "output_type": "stream",
     "text": [
      "False\n"
     ]
    }
   ],
   "source": [
    "print(False and True)"
   ]
  },
  {
   "cell_type": "code",
   "execution_count": 38,
   "id": "e6b32d32",
   "metadata": {},
   "outputs": [
    {
     "name": "stdout",
     "output_type": "stream",
     "text": [
      "False\n"
     ]
    }
   ],
   "source": [
    "print(True and False)"
   ]
  },
  {
   "cell_type": "code",
   "execution_count": 39,
   "id": "818b8a74",
   "metadata": {},
   "outputs": [
    {
     "name": "stdout",
     "output_type": "stream",
     "text": [
      "False\n"
     ]
    }
   ],
   "source": [
    "print(False and False)"
   ]
  },
  {
   "cell_type": "code",
   "execution_count": 40,
   "id": "596c0ad4",
   "metadata": {},
   "outputs": [
    {
     "name": "stdout",
     "output_type": "stream",
     "text": [
      "True\n"
     ]
    }
   ],
   "source": [
    "print(True or True)"
   ]
  },
  {
   "cell_type": "code",
   "execution_count": 41,
   "id": "639a5b40",
   "metadata": {},
   "outputs": [
    {
     "name": "stdout",
     "output_type": "stream",
     "text": [
      "True\n"
     ]
    }
   ],
   "source": [
    "print(False or True)"
   ]
  },
  {
   "cell_type": "code",
   "execution_count": 42,
   "id": "efc0c3d0",
   "metadata": {},
   "outputs": [
    {
     "name": "stdout",
     "output_type": "stream",
     "text": [
      "True\n"
     ]
    }
   ],
   "source": [
    "print(True or False)"
   ]
  },
  {
   "cell_type": "code",
   "execution_count": 43,
   "id": "263f8cb5",
   "metadata": {},
   "outputs": [
    {
     "name": "stdout",
     "output_type": "stream",
     "text": [
      "False\n"
     ]
    }
   ],
   "source": [
    "print(False or False)"
   ]
  },
  {
   "cell_type": "code",
   "execution_count": 44,
   "id": "7eb92442",
   "metadata": {},
   "outputs": [
    {
     "name": "stdout",
     "output_type": "stream",
     "text": [
      "False\n"
     ]
    }
   ],
   "source": [
    "print(not True)"
   ]
  },
  {
   "cell_type": "code",
   "execution_count": 45,
   "id": "07da6104",
   "metadata": {},
   "outputs": [
    {
     "name": "stdout",
     "output_type": "stream",
     "text": [
      "True\n"
     ]
    }
   ],
   "source": [
    "print(not False)"
   ]
  },
  {
   "cell_type": "markdown",
   "id": "01921364",
   "metadata": {},
   "source": [
    "Q7. Bitwise Operators\n",
    "Do below operations on the values provided below:-\n",
    " Bitwise and(&) --------------> True, True -------> Output is True\n",
    " Bitwise or(|) --------------> True, False -------> Output is True\n",
    " Bitwise(^) --------------> True, False -------> Output is True\n",
    " Bitwise negation(~) ---------> True -------> Output is -2\n",
    " Bitwise left shift ---------> True,2 -------> Output is 4\n",
    " Bitwise right shift ---------> True,2 -------> Output is 0"
   ]
  },
  {
   "cell_type": "code",
   "execution_count": 3,
   "id": "0cd3aa5d",
   "metadata": {},
   "outputs": [
    {
     "name": "stdout",
     "output_type": "stream",
     "text": [
      "True\n"
     ]
    }
   ],
   "source": [
    "print(True & True)"
   ]
  },
  {
   "cell_type": "code",
   "execution_count": 5,
   "id": "341b3e80",
   "metadata": {},
   "outputs": [
    {
     "name": "stdout",
     "output_type": "stream",
     "text": [
      "True\n"
     ]
    }
   ],
   "source": [
    "print(True | False)"
   ]
  },
  {
   "cell_type": "code",
   "execution_count": 6,
   "id": "8b325967",
   "metadata": {},
   "outputs": [
    {
     "name": "stdout",
     "output_type": "stream",
     "text": [
      "True\n"
     ]
    }
   ],
   "source": [
    "print(True ^ False)"
   ]
  },
  {
   "cell_type": "code",
   "execution_count": 7,
   "id": "c5bfe482",
   "metadata": {},
   "outputs": [
    {
     "name": "stdout",
     "output_type": "stream",
     "text": [
      "-2\n"
     ]
    }
   ],
   "source": [
    "print(~True)"
   ]
  },
  {
   "cell_type": "code",
   "execution_count": 8,
   "id": "ed531e2a",
   "metadata": {},
   "outputs": [
    {
     "name": "stdout",
     "output_type": "stream",
     "text": [
      "4\n"
     ]
    }
   ],
   "source": [
    "print(True<<2)"
   ]
  },
  {
   "cell_type": "code",
   "execution_count": 9,
   "id": "b73e0c6a",
   "metadata": {},
   "outputs": [
    {
     "name": "stdout",
     "output_type": "stream",
     "text": [
      "0\n"
     ]
    }
   ],
   "source": [
    "print(True>>2)"
   ]
  },
  {
   "cell_type": "markdown",
   "id": "f0218769",
   "metadata": {},
   "source": [
    "Q8. What is the output of expression inside the print statement. Cross\n",
    "check before running the program.\n",
    "a = True\n",
    "b = True\n",
    "print(a is b) #True or False? #\n",
    "print(a is not b) #True or False?\n",
    "a = False\n",
    "b = False\n",
    "print(a is b) #True or False?\n",
    "print(a is not b) #True or False?"
   ]
  },
  {
   "cell_type": "code",
   "execution_count": 49,
   "id": "1594c4e2",
   "metadata": {},
   "outputs": [
    {
     "name": "stdout",
     "output_type": "stream",
     "text": [
      "True\n",
      "False\n"
     ]
    }
   ],
   "source": [
    "a = True\n",
    "b = True\n",
    "print(a is b)\n",
    "print(a is not b)"
   ]
  },
  {
   "cell_type": "code",
   "execution_count": 50,
   "id": "9b10156d",
   "metadata": {},
   "outputs": [
    {
     "name": "stdout",
     "output_type": "stream",
     "text": [
      "True\n",
      "False\n"
     ]
    }
   ],
   "source": [
    "a = False\n",
    "b = False\n",
    "print(a is b)\n",
    "print(a is not b)"
   ]
  },
  {
   "cell_type": "markdown",
   "id": "4aaf239a",
   "metadata": {},
   "source": [
    "Q9. Membership operation\n",
    "in, not in are two membership operators and it returns boolean value\n",
    "print(True in [10,10.20,10+20j,'Python', True])\n",
    "print(False in (10,10.20,10+20j,'Python', False))\n",
    "print(True in {1,2,3, True})\n",
    "print(True in {True:100, False:200, True:300})\n",
    "print(False in {True:100, False:200, True:300})"
   ]
  },
  {
   "cell_type": "code",
   "execution_count": 51,
   "id": "7582fe19",
   "metadata": {},
   "outputs": [
    {
     "name": "stdout",
     "output_type": "stream",
     "text": [
      "True\n",
      "True\n",
      "True\n",
      "True\n",
      "True\n"
     ]
    }
   ],
   "source": [
    "print(True in [10,10.20,10+20j,'Python', True])\n",
    "print(False in (10,10.20,10+20j,'Python', False))\n",
    "print(True in {1,2,3, True})\n",
    "print(True in {True:100, False:200, True:300})\n",
    "print(False in {True:100, False:200, True:300})"
   ]
  },
  {
   "cell_type": "code",
   "execution_count": null,
   "id": "aed78176",
   "metadata": {},
   "outputs": [],
   "source": []
  }
 ],
 "metadata": {
  "kernelspec": {
   "display_name": "Python 3 (ipykernel)",
   "language": "python",
   "name": "python3"
  },
  "language_info": {
   "codemirror_mode": {
    "name": "ipython",
    "version": 3
   },
   "file_extension": ".py",
   "mimetype": "text/x-python",
   "name": "python",
   "nbconvert_exporter": "python",
   "pygments_lexer": "ipython3",
   "version": "3.9.12"
  }
 },
 "nbformat": 4,
 "nbformat_minor": 5
}
