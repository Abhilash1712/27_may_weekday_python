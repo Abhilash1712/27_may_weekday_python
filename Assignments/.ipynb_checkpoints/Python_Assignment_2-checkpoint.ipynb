{
 "cells": [
  {
   "cell_type": "markdown",
   "id": "d95b288b",
   "metadata": {},
   "source": [
    "Q1. Declare a float value and store it in a variable.\n",
    "Check the type and print the id of the same."
   ]
  },
  {
   "cell_type": "code",
   "execution_count": 1,
   "id": "7d8d80a7",
   "metadata": {},
   "outputs": [
    {
     "name": "stdout",
     "output_type": "stream",
     "text": [
      "<class 'float'>\n",
      "2728087712944\n"
     ]
    }
   ],
   "source": [
    "a = 12.36\n",
    "\n",
    "print(type(a))\n",
    "print(id(a))"
   ]
  },
  {
   "cell_type": "markdown",
   "id": "49b9b2d1",
   "metadata": {},
   "source": [
    "Q2. Arithmetic Operations on float\n",
    "Take two different float values.\n",
    "Store them in two different variables.\n",
    "Do below operations on them:-\n",
    "\n"
   ]
  },
  {
   "cell_type": "markdown",
   "id": "92f5404c",
   "metadata": {},
   "source": [
    "Find sum of both numbers"
   ]
  },
  {
   "cell_type": "code",
   "execution_count": 13,
   "id": "c6259862",
   "metadata": {},
   "outputs": [
    {
     "name": "stdout",
     "output_type": "stream",
     "text": [
      "59.33\n"
     ]
    }
   ],
   "source": [
    "a = 15.66\n",
    "b = 43.67\n",
    "\n",
    "print(a+b)"
   ]
  },
  {
   "cell_type": "markdown",
   "id": "02b25d04",
   "metadata": {},
   "source": [
    " Find difference between them"
   ]
  },
  {
   "cell_type": "code",
   "execution_count": 15,
   "id": "4ebdf3a1",
   "metadata": {},
   "outputs": [
    {
     "name": "stdout",
     "output_type": "stream",
     "text": [
      "28.01\n"
     ]
    }
   ],
   "source": [
    "b = 15.66\n",
    "a = 43.67\n",
    "\n",
    "print(a-b)"
   ]
  },
  {
   "cell_type": "markdown",
   "id": "46ae42af",
   "metadata": {},
   "source": [
    " Find the product of both numbers."
   ]
  },
  {
   "cell_type": "code",
   "execution_count": 19,
   "id": "433318fc",
   "metadata": {},
   "outputs": [
    {
     "name": "stdout",
     "output_type": "stream",
     "text": [
      "51.9912\n"
     ]
    }
   ],
   "source": [
    "a = 15.66\n",
    "b = 3.32\n",
    "\n",
    "print(a*b)"
   ]
  },
  {
   "cell_type": "markdown",
   "id": "ea3a548b",
   "metadata": {},
   "source": [
    " Find value after dividing first num with second number"
   ]
  },
  {
   "cell_type": "code",
   "execution_count": 20,
   "id": "48540739",
   "metadata": {},
   "outputs": [
    {
     "name": "stdout",
     "output_type": "stream",
     "text": [
      "4.716867469879518\n"
     ]
    }
   ],
   "source": [
    "a = 15.66\n",
    "b = 3.32\n",
    "\n",
    "print(a/b)"
   ]
  },
  {
   "cell_type": "markdown",
   "id": "b6fb335c",
   "metadata": {},
   "source": [
    " Find the remainder after dividing first number with second number"
   ]
  },
  {
   "cell_type": "code",
   "execution_count": 29,
   "id": "1480631b",
   "metadata": {},
   "outputs": [
    {
     "name": "stdout",
     "output_type": "stream",
     "text": [
      "0.620000000000001\n"
     ]
    }
   ],
   "source": [
    "a = 15.66\n",
    "b = 3.76\n",
    "\n",
    "print(a%b)"
   ]
  },
  {
   "cell_type": "markdown",
   "id": "3c6459c8",
   "metadata": {},
   "source": [
    " Find the quotient after dividing first number with second number"
   ]
  },
  {
   "cell_type": "code",
   "execution_count": 30,
   "id": "610488b0",
   "metadata": {},
   "outputs": [
    {
     "name": "stdout",
     "output_type": "stream",
     "text": [
      "4.0\n"
     ]
    }
   ],
   "source": [
    "a = 15.66\n",
    "b = 3.76\n",
    "\n",
    "print(a//b)"
   ]
  },
  {
   "cell_type": "markdown",
   "id": "5b413bd2",
   "metadata": {},
   "source": [
    " Find the result of the first num to the power of the second number."
   ]
  },
  {
   "cell_type": "code",
   "execution_count": 33,
   "id": "65f42527",
   "metadata": {},
   "outputs": [
    {
     "name": "stdout",
     "output_type": "stream",
     "text": [
      "219.68067035084047\n"
     ]
    }
   ],
   "source": [
    "a = 15.66\n",
    "b = 1.96\n",
    "\n",
    "print(a**b)"
   ]
  },
  {
   "cell_type": "markdown",
   "id": "51198eb3",
   "metadata": {},
   "source": [
    "Q3. Comparison Operators on float\n",
    "Take two different float values.\n",
    "Store them in two different variables.\n",
    "\n",
    "\n",
    "Do below operations on them:-\n",
    " \n",
    " \n",
    " \n",
    "Observe their output(return type should be boolean)\n"
   ]
  },
  {
   "cell_type": "markdown",
   "id": "f63f6898",
   "metadata": {},
   "source": [
    "Greater than, '>'"
   ]
  },
  {
   "cell_type": "code",
   "execution_count": 34,
   "id": "80057050",
   "metadata": {},
   "outputs": [
    {
     "name": "stdout",
     "output_type": "stream",
     "text": [
      "False\n"
     ]
    }
   ],
   "source": [
    "a = 10.21\n",
    "b = 15.32\n",
    "\n",
    "print(a > b)"
   ]
  },
  {
   "cell_type": "markdown",
   "id": "b73e3ab5",
   "metadata": {},
   "source": [
    " Smaller than, '<'"
   ]
  },
  {
   "cell_type": "code",
   "execution_count": 35,
   "id": "ff4b6c27",
   "metadata": {},
   "outputs": [
    {
     "name": "stdout",
     "output_type": "stream",
     "text": [
      "True\n"
     ]
    }
   ],
   "source": [
    "a = 10.21\n",
    "b = 15.32\n",
    "\n",
    "print(a < b)"
   ]
  },
  {
   "cell_type": "markdown",
   "id": "280bfdb0",
   "metadata": {},
   "source": [
    " Greater than or equal to, '>='"
   ]
  },
  {
   "cell_type": "code",
   "execution_count": 40,
   "id": "d836cfcf",
   "metadata": {},
   "outputs": [
    {
     "name": "stdout",
     "output_type": "stream",
     "text": [
      "False\n"
     ]
    }
   ],
   "source": [
    "a = 10.21\n",
    "b = 10.27\n",
    "\n",
    "print(a >= b)"
   ]
  },
  {
   "cell_type": "markdown",
   "id": "d1fc8cc7",
   "metadata": {},
   "source": [
    "Less than or equal to, '<='"
   ]
  },
  {
   "cell_type": "code",
   "execution_count": 39,
   "id": "86c62565",
   "metadata": {},
   "outputs": [
    {
     "name": "stdout",
     "output_type": "stream",
     "text": [
      "True\n"
     ]
    }
   ],
   "source": [
    "a = 10.21\n",
    "b = 15.56\n",
    "\n",
    "print(a <= b)"
   ]
  },
  {
   "cell_type": "markdown",
   "id": "2d93d82d",
   "metadata": {},
   "source": [
    "Q4. Equality Operator\n",
    "Take two different float values.\n",
    "Store them in two different variables.\n",
    "Equate them using equality operators (==, !=)\n",
    "Observe the output(return type should be boolean)\n"
   ]
  },
  {
   "cell_type": "code",
   "execution_count": 42,
   "id": "e47ceba7",
   "metadata": {},
   "outputs": [
    {
     "name": "stdout",
     "output_type": "stream",
     "text": [
      "True\n",
      "False\n"
     ]
    }
   ],
   "source": [
    "a = 10.21\n",
    "b = 10.21\n",
    "\n",
    "print(a == b)\n",
    "print(a != b)"
   ]
  },
  {
   "cell_type": "markdown",
   "id": "65f18aae",
   "metadata": {},
   "source": [
    "Q5. Logical operators\n",
    "Observe the output of below code\n",
    "Cross check the output manually\n",
    "print(10.20 and 20.30) #both are true and second value taken\n",
    ">Output is 20.3\n",
    "print(0.0 and 20.30) #First is false so first value\n",
    "taken->Output is 0.0\n",
    "print(20.30 and 0.0) #Goes to till second and second value is\n",
    "false so second is taken>Output is 0.0\n",
    "print(0.0 and 0.0) #First is false so first value is\n",
    "taken->Output is 0.0\n",
    "print(10.20 or 20.30) #First is True so first value is\n",
    "taken>Output is 10.2\n",
    "print(0.0 or 20.30) #Goes to till second and second is true\n",
    "second value is taken->Output is 20.3\n",
    "print(20.30 or 0.0) #First is True so first value is\n",
    "taken->Output is 20.3\n",
    "print(0.0 or 0.0) #Goes to till second and second is also\n",
    "false and second value is taken>Output is 0.0\n",
    "print(not 10.20) #-Not of true is false->Output is False\n",
    "print(not 0.0) #Not of false is True>Output is True\n"
   ]
  },
  {
   "cell_type": "code",
   "execution_count": 43,
   "id": "e5cd4935",
   "metadata": {},
   "outputs": [
    {
     "name": "stdout",
     "output_type": "stream",
     "text": [
      "20.3\n"
     ]
    }
   ],
   "source": [
    "print(10.20 and 20.30)"
   ]
  },
  {
   "cell_type": "code",
   "execution_count": 44,
   "id": "6fc98e84",
   "metadata": {},
   "outputs": [
    {
     "name": "stdout",
     "output_type": "stream",
     "text": [
      "0.0\n"
     ]
    }
   ],
   "source": [
    "print(0.0 and 20.30)"
   ]
  },
  {
   "cell_type": "code",
   "execution_count": 45,
   "id": "85d4bec9",
   "metadata": {},
   "outputs": [
    {
     "name": "stdout",
     "output_type": "stream",
     "text": [
      "0.0\n"
     ]
    }
   ],
   "source": [
    "print(20.30 and 0.0)"
   ]
  },
  {
   "cell_type": "code",
   "execution_count": 49,
   "id": "a01a140d",
   "metadata": {},
   "outputs": [
    {
     "name": "stdout",
     "output_type": "stream",
     "text": [
      "0.0\n"
     ]
    }
   ],
   "source": [
    "print(0.0 and 0.0)"
   ]
  },
  {
   "cell_type": "code",
   "execution_count": 50,
   "id": "71392e52",
   "metadata": {},
   "outputs": [
    {
     "name": "stdout",
     "output_type": "stream",
     "text": [
      "10.2\n"
     ]
    }
   ],
   "source": [
    "print(10.20 or 20.30)"
   ]
  },
  {
   "cell_type": "code",
   "execution_count": 51,
   "id": "f2c78e34",
   "metadata": {},
   "outputs": [
    {
     "name": "stdout",
     "output_type": "stream",
     "text": [
      "20.3\n"
     ]
    }
   ],
   "source": [
    "print(0.0 or 20.30)"
   ]
  },
  {
   "cell_type": "code",
   "execution_count": 52,
   "id": "8f497c4e",
   "metadata": {},
   "outputs": [
    {
     "name": "stdout",
     "output_type": "stream",
     "text": [
      "20.3\n"
     ]
    }
   ],
   "source": [
    "print(20.30 or 0.0)"
   ]
  },
  {
   "cell_type": "code",
   "execution_count": 63,
   "id": "5aea169a",
   "metadata": {},
   "outputs": [
    {
     "name": "stdout",
     "output_type": "stream",
     "text": [
      "0.0\n"
     ]
    }
   ],
   "source": [
    "print(0.0 or 0.0)"
   ]
  },
  {
   "cell_type": "code",
   "execution_count": 64,
   "id": "f3a19c7b",
   "metadata": {},
   "outputs": [
    {
     "name": "stdout",
     "output_type": "stream",
     "text": [
      "False\n"
     ]
    }
   ],
   "source": [
    "print(not 10.20)"
   ]
  },
  {
   "cell_type": "code",
   "execution_count": 65,
   "id": "e9ef6ee3",
   "metadata": {},
   "outputs": [
    {
     "name": "stdout",
     "output_type": "stream",
     "text": [
      "True\n"
     ]
    }
   ],
   "source": [
    "print(not 0.0)"
   ]
  },
  {
   "cell_type": "markdown",
   "id": "50877948",
   "metadata": {},
   "source": [
    "Q6. What is the output of expression inside print statement. Cross check\n",
    "before running the program.\n",
    "a = 10.20\n",
    "b = 10.20\n",
    "print(a is b) #True or False? True 10.20<256\n",
    "print(a is not b) #True or False? False\n",
    "Why the Id of float values are different when the same value is\n",
    "assigned to two different variables\n"
   ]
  },
  {
   "cell_type": "code",
   "execution_count": 70,
   "id": "1cd89fc0",
   "metadata": {},
   "outputs": [
    {
     "name": "stdout",
     "output_type": "stream",
     "text": [
      "False\n",
      "True\n"
     ]
    }
   ],
   "source": [
    "a = 10.20\n",
    "b = 10.20\n",
    "print(a is b)\n",
    "print(a is not b) \n",
    "\n",
    "# Because Object Reusability in not applicable with Float Variables"
   ]
  },
  {
   "cell_type": "markdown",
   "id": "f34a5e29",
   "metadata": {},
   "source": [
    "Q7. Bitwise operation is not applicable between instances of float.\n",
    "Why the Id of float values are different when the same value is\n",
    "assigned to two different variables\n",
    "ex: a = 10.5 b=10.5. but id will be same if I assign the variable\n",
    "having float i.e. a=c then both a and c's Id are same\n",
    "Object reusability concept is not applicable on float values."
   ]
  },
  {
   "cell_type": "code",
   "execution_count": 3,
   "id": "f0dbd475",
   "metadata": {},
   "outputs": [
    {
     "name": "stdout",
     "output_type": "stream",
     "text": [
      "2015230448336\n",
      "2015230448208\n",
      "2015230448336\n"
     ]
    }
   ],
   "source": [
    "a = 10.5 \n",
    "b = 10.5\n",
    "\n",
    "c = a\n",
    "\n",
    "print(id(a))\n",
    "print(id(b))\n",
    "print(id(c))\n",
    "\n",
    "# Here id of a=c because here we are aliasing the value of a into c , so c is not creating any new value "
   ]
  },
  {
   "cell_type": "markdown",
   "id": "bc0b01eb",
   "metadata": {},
   "source": [
    "Q8. Membership operation\n",
    "in, not in are two membership operators and it returns boolean value\n",
    "print('2.7' in 'Python2.7.8') #True\n",
    "print(10.20 in [10,10.20,10+20j,'Python']) #True\n",
    "print(10.20 in (10,10.20,10+20j,'Python')) # True\n",
    "print(20.30 in {1,20.30,30+40j}) # True\n",
    "print(2.3 in {1:100, 2.3:200, 30+40j:300}) # True\n",
    "print(10 in range(20)) # True"
   ]
  },
  {
   "cell_type": "code",
   "execution_count": 71,
   "id": "dac06213",
   "metadata": {},
   "outputs": [
    {
     "name": "stdout",
     "output_type": "stream",
     "text": [
      "True\n"
     ]
    }
   ],
   "source": [
    "print('2.7' in 'Python2.7.8')"
   ]
  },
  {
   "cell_type": "code",
   "execution_count": 72,
   "id": "5ad3fc76",
   "metadata": {},
   "outputs": [
    {
     "name": "stdout",
     "output_type": "stream",
     "text": [
      "True\n"
     ]
    }
   ],
   "source": [
    "print(10.20 in [10,10.20,10+20j,'Python'])"
   ]
  },
  {
   "cell_type": "code",
   "execution_count": 73,
   "id": "2b362083",
   "metadata": {},
   "outputs": [
    {
     "name": "stdout",
     "output_type": "stream",
     "text": [
      "True\n"
     ]
    }
   ],
   "source": [
    "print(10.20 in (10,10.20,10+20j,'Python'))"
   ]
  },
  {
   "cell_type": "code",
   "execution_count": 74,
   "id": "331f349f",
   "metadata": {},
   "outputs": [
    {
     "name": "stdout",
     "output_type": "stream",
     "text": [
      "True\n"
     ]
    }
   ],
   "source": [
    "print(20.30 in {1,20.30,30+40j})"
   ]
  },
  {
   "cell_type": "code",
   "execution_count": 75,
   "id": "05c9043e",
   "metadata": {},
   "outputs": [
    {
     "name": "stdout",
     "output_type": "stream",
     "text": [
      "True\n"
     ]
    }
   ],
   "source": [
    "print(2.3 in {1:100, 2.3:200, 30+40j:300})"
   ]
  },
  {
   "cell_type": "code",
   "execution_count": 76,
   "id": "1176d2e7",
   "metadata": {},
   "outputs": [
    {
     "name": "stdout",
     "output_type": "stream",
     "text": [
      "True\n"
     ]
    }
   ],
   "source": [
    "print(10 in range(20))"
   ]
  },
  {
   "cell_type": "code",
   "execution_count": null,
   "id": "ae2d4cf7",
   "metadata": {},
   "outputs": [],
   "source": []
  }
 ],
 "metadata": {
  "kernelspec": {
   "display_name": "Python 3 (ipykernel)",
   "language": "python",
   "name": "python3"
  },
  "language_info": {
   "codemirror_mode": {
    "name": "ipython",
    "version": 3
   },
   "file_extension": ".py",
   "mimetype": "text/x-python",
   "name": "python",
   "nbconvert_exporter": "python",
   "pygments_lexer": "ipython3",
   "version": "3.9.12"
  }
 },
 "nbformat": 4,
 "nbformat_minor": 5
}
