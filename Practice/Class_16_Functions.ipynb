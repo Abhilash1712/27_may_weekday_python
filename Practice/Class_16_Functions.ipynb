{
 "cells": [
  {
   "cell_type": "code",
   "execution_count": 1,
   "id": "0fa9d8b7",
   "metadata": {},
   "outputs": [
    {
     "name": "stdout",
     "output_type": "stream",
     "text": [
      "not a palindrome\n",
      "30\n",
      "palindrome\n"
     ]
    }
   ],
   "source": [
    "data = 'abc'\n",
    "\n",
    "if data == data[::-1]:\n",
    "    print('palindrome')\n",
    "else:\n",
    "    print('not a palindrome')\n",
    "    \n",
    "num_1 = 10\n",
    "num_2 = 20\n",
    "\n",
    "print(num_1 + num_2)\n",
    "\n",
    "data = 'level'\n",
    "\n",
    "if data == data[::-1]:\n",
    "    print('palindrome')\n",
    "else:\n",
    "    print('not a palindrome')"
   ]
  },
  {
   "cell_type": "code",
   "execution_count": null,
   "id": "c0f0fc7f",
   "metadata": {},
   "outputs": [],
   "source": [
    "# Functions\n",
    "\n",
    "if we have a certain line of code that has to be used again and again\n",
    "\n",
    "2 things\n",
    "\n",
    "- function defination - we define the function\n",
    "- function call - we execute the function"
   ]
  },
  {
   "cell_type": "code",
   "execution_count": 2,
   "id": "09acc2bd",
   "metadata": {},
   "outputs": [],
   "source": [
    "def add_number():\n",
    "    num1 = 10\n",
    "    num2 = 20\n",
    "    print(10+20)"
   ]
  },
  {
   "cell_type": "code",
   "execution_count": 3,
   "id": "1d10e7e1",
   "metadata": {},
   "outputs": [
    {
     "name": "stdout",
     "output_type": "stream",
     "text": [
      "30\n"
     ]
    }
   ],
   "source": [
    "add_number()"
   ]
  },
  {
   "cell_type": "code",
   "execution_count": 4,
   "id": "b61d9e73",
   "metadata": {},
   "outputs": [
    {
     "name": "stdout",
     "output_type": "stream",
     "text": [
      "30\n"
     ]
    }
   ],
   "source": [
    "add_number()"
   ]
  },
  {
   "cell_type": "code",
   "execution_count": 5,
   "id": "2c9cfef9",
   "metadata": {},
   "outputs": [],
   "source": [
    "# Dynamic\n",
    "\n",
    "def add_num(num1,num2):\n",
    "    print(num1+num2)"
   ]
  },
  {
   "cell_type": "code",
   "execution_count": 7,
   "id": "4e9083d2",
   "metadata": {},
   "outputs": [
    {
     "name": "stdout",
     "output_type": "stream",
     "text": [
      "12\n"
     ]
    }
   ],
   "source": [
    "add_num(5,7)"
   ]
  },
  {
   "cell_type": "code",
   "execution_count": 8,
   "id": "69e3deee",
   "metadata": {},
   "outputs": [
    {
     "name": "stdout",
     "output_type": "stream",
     "text": [
      "19\n"
     ]
    }
   ],
   "source": [
    "add_num(10,9)"
   ]
  },
  {
   "cell_type": "code",
   "execution_count": 10,
   "id": "768bcefb",
   "metadata": {},
   "outputs": [],
   "source": [
    "def palindrome(string):\n",
    "    \n",
    "    if string == string[::-1]:\n",
    "        print('palindrome')\n",
    "    else:\n",
    "        print('not a palindrome')"
   ]
  },
  {
   "cell_type": "code",
   "execution_count": 11,
   "id": "45b1ff1a",
   "metadata": {},
   "outputs": [
    {
     "name": "stdout",
     "output_type": "stream",
     "text": [
      "palindrome\n"
     ]
    }
   ],
   "source": [
    "palindrome('mom')"
   ]
  },
  {
   "cell_type": "code",
   "execution_count": 32,
   "id": "e6210bf0",
   "metadata": {},
   "outputs": [
    {
     "name": "stdout",
     "output_type": "stream",
     "text": [
      "not a palindrome\n"
     ]
    }
   ],
   "source": [
    "palindrome('abc')"
   ]
  },
  {
   "cell_type": "code",
   "execution_count": 33,
   "id": "530aacc7",
   "metadata": {},
   "outputs": [
    {
     "name": "stdout",
     "output_type": "stream",
     "text": [
      "palindrome\n"
     ]
    }
   ],
   "source": [
    "palindrome('level')"
   ]
  },
  {
   "cell_type": "code",
   "execution_count": null,
   "id": "84edb806",
   "metadata": {},
   "outputs": [],
   "source": [
    "# types of Args/parameter\n",
    "\n",
    "1. Positional Args\n",
    "\n",
    "- the order is important\n",
    "- number of args should match number of parameter"
   ]
  },
  {
   "cell_type": "code",
   "execution_count": 13,
   "id": "ecab5b23",
   "metadata": {},
   "outputs": [],
   "source": [
    "def emp_data(emp_name,emp_sal,emp_id):\n",
    "    print(emp_name)\n",
    "    print(emp_sal)\n",
    "    print(emp_id)\n",
    "            "
   ]
  },
  {
   "cell_type": "code",
   "execution_count": 15,
   "id": "3bb2dee8",
   "metadata": {},
   "outputs": [
    {
     "name": "stdout",
     "output_type": "stream",
     "text": [
      "Abhi\n",
      "80000\n",
      "123\n"
     ]
    }
   ],
   "source": [
    "emp_data('Abhi',80000,123)"
   ]
  },
  {
   "cell_type": "code",
   "execution_count": 19,
   "id": "0291a4bc",
   "metadata": {},
   "outputs": [
    {
     "ename": "TypeError",
     "evalue": "emp_data() takes 3 positional arguments but 4 were given",
     "output_type": "error",
     "traceback": [
      "\u001b[1;31m---------------------------------------------------------------------------\u001b[0m",
      "\u001b[1;31mTypeError\u001b[0m                                 Traceback (most recent call last)",
      "Input \u001b[1;32mIn [19]\u001b[0m, in \u001b[0;36m<cell line: 1>\u001b[1;34m()\u001b[0m\n\u001b[1;32m----> 1\u001b[0m \u001b[43memp_data\u001b[49m\u001b[43m(\u001b[49m\u001b[38;5;124;43m'\u001b[39;49m\u001b[38;5;124;43mAbhi\u001b[39;49m\u001b[38;5;124;43m'\u001b[39;49m\u001b[43m,\u001b[49m\u001b[38;5;124;43m'\u001b[39;49m\u001b[38;5;124;43mJKl\u001b[39;49m\u001b[38;5;124;43m'\u001b[39;49m\u001b[43m,\u001b[49m\u001b[38;5;241;43m30\u001b[39;49m\u001b[43m,\u001b[49m\u001b[38;5;241;43m50\u001b[39;49m\u001b[43m)\u001b[49m\n",
      "\u001b[1;31mTypeError\u001b[0m: emp_data() takes 3 positional arguments but 4 were given"
     ]
    }
   ],
   "source": [
    "emp_data('Abhi','JKl',30,50)   # args should be equal to parameters"
   ]
  },
  {
   "cell_type": "code",
   "execution_count": null,
   "id": "3b09f71f",
   "metadata": {},
   "outputs": [],
   "source": [
    "# default args"
   ]
  },
  {
   "cell_type": "code",
   "execution_count": 39,
   "id": "c0c0129a",
   "metadata": {},
   "outputs": [],
   "source": [
    "def emp_data(emp_name,emp_sal,emp_id,emp_loc,company_loc='Banglore'):\n",
    "    print(emp_name)\n",
    "    print(emp_sal)\n",
    "    print(emp_id)\n",
    "    print(emp_loc)\n",
    "    print(company_loc)         # default args = company_location\n",
    "                               # defaul args should always be on the last"
   ]
  },
  {
   "cell_type": "code",
   "execution_count": 40,
   "id": "1dfe1dbb",
   "metadata": {},
   "outputs": [
    {
     "name": "stdout",
     "output_type": "stream",
     "text": [
      "afsan\n",
      "40\n",
      "678\n",
      "goa\n",
      "Banglore\n"
     ]
    }
   ],
   "source": [
    "emp_data('afsan',40,678,'goa')"
   ]
  },
  {
   "cell_type": "code",
   "execution_count": 41,
   "id": "5a8218ab",
   "metadata": {},
   "outputs": [
    {
     "name": "stdout",
     "output_type": "stream",
     "text": [
      "afsan\n",
      "40\n",
      "678\n",
      "goa\n",
      "chennai\n"
     ]
    }
   ],
   "source": [
    "emp_data('afsan',40,678,'goa','chennai')"
   ]
  },
  {
   "cell_type": "code",
   "execution_count": 21,
   "id": "1f535c59",
   "metadata": {},
   "outputs": [
    {
     "name": "stdout",
     "output_type": "stream",
     "text": [
      "afsan\n",
      "40\n",
      "678\n",
      "goa\n",
      "Delhi\n"
     ]
    }
   ],
   "source": [
    "# Keyword Argument\n",
    "\n",
    "\n",
    "def emp_data(emp_name,emp_sal,emp_id,emp_loc,company_loc='Banglore'):\n",
    "    print(emp_name)\n",
    "    print(emp_sal)\n",
    "    print(emp_id)\n",
    "    print(emp_loc)\n",
    "    print(company_loc) \n",
    "\n",
    "emp_data(company_loc='Delhi',emp_sal=40,emp_id=678,emp_loc='goa',emp_name='afsan')"
   ]
  },
  {
   "cell_type": "code",
   "execution_count": 22,
   "id": "95719a1b",
   "metadata": {},
   "outputs": [],
   "source": [
    "# Arguments and Keyword Argument\n",
    "\n",
    "def employee_data(*args):\n",
    "    print(args)"
   ]
  },
  {
   "cell_type": "code",
   "execution_count": 23,
   "id": "4fd20cde",
   "metadata": {},
   "outputs": [
    {
     "name": "stdout",
     "output_type": "stream",
     "text": [
      "('name', 'abc', 'xyz')\n"
     ]
    }
   ],
   "source": [
    "employee_data('name','abc','xyz')"
   ]
  },
  {
   "cell_type": "code",
   "execution_count": 46,
   "id": "20b8e108",
   "metadata": {},
   "outputs": [],
   "source": [
    "# Return Statement"
   ]
  },
  {
   "cell_type": "code",
   "execution_count": 47,
   "id": "f510e47a",
   "metadata": {},
   "outputs": [
    {
     "name": "stdout",
     "output_type": "stream",
     "text": [
      "abc\n",
      "xyz\n",
      "ooo\n",
      "afsan\n",
      "40\n",
      "678\n",
      "goa\n",
      "Banglore\n"
     ]
    }
   ],
   "source": [
    "def emp_data(emp_name,emp_sal,emp_id,emp_loc='goa',company_loc='Banglore'):\n",
    "    print(emp_name)\n",
    "    print(emp_sal)\n",
    "    print(emp_id)\n",
    "    print(emp_loc)\n",
    "    print(company_loc)\n",
    "    return None \n",
    "    \n",
    "print('abc')\n",
    "print('xyz')\n",
    "print('ooo')\n",
    "\n",
    "emp_data(emp_sal=40,emp_id=678,emp_loc='goa',emp_name='afsan')"
   ]
  },
  {
   "cell_type": "code",
   "execution_count": 48,
   "id": "52662f02",
   "metadata": {},
   "outputs": [],
   "source": [
    "def sum(num1,num2):\n",
    "    c = num1+num2\n",
    "    return c"
   ]
  },
  {
   "cell_type": "code",
   "execution_count": 49,
   "id": "2bd1ed6c",
   "metadata": {},
   "outputs": [],
   "source": [
    "data = sum(10,100)   # c = 10+100"
   ]
  },
  {
   "cell_type": "code",
   "execution_count": 50,
   "id": "c2f00a12",
   "metadata": {},
   "outputs": [
    {
     "name": "stdout",
     "output_type": "stream",
     "text": [
      "100\n"
     ]
    }
   ],
   "source": [
    "print(data - 10)            # c-10"
   ]
  },
  {
   "cell_type": "code",
   "execution_count": 51,
   "id": "934c853d",
   "metadata": {},
   "outputs": [],
   "source": [
    "def sum(num1,num2):\n",
    "    c = num1+num2\n",
    "    return 'c'"
   ]
  },
  {
   "cell_type": "code",
   "execution_count": 52,
   "id": "ffb9be62",
   "metadata": {},
   "outputs": [
    {
     "name": "stdout",
     "output_type": "stream",
     "text": [
      "<class 'str'> c\n"
     ]
    }
   ],
   "source": [
    "data = sum(10,100)\n",
    "print(type(data),data)"
   ]
  },
  {
   "cell_type": "code",
   "execution_count": 54,
   "id": "c37fee6d",
   "metadata": {},
   "outputs": [],
   "source": [
    "def sum(num1,num2):\n",
    "    c = num1+num2\n",
    "    return 1,2,3,4,5"
   ]
  },
  {
   "cell_type": "code",
   "execution_count": 55,
   "id": "f91c78ab",
   "metadata": {},
   "outputs": [
    {
     "name": "stdout",
     "output_type": "stream",
     "text": [
      "<class 'tuple'> (1, 2, 3, 4, 5)\n"
     ]
    }
   ],
   "source": [
    "data = sum(10,100)\n",
    "print(type(data),data)"
   ]
  },
  {
   "cell_type": "code",
   "execution_count": 56,
   "id": "cdce6af9",
   "metadata": {},
   "outputs": [],
   "source": [
    "def sum(num1,num2):\n",
    "    c = num1+num2"
   ]
  },
  {
   "cell_type": "code",
   "execution_count": 57,
   "id": "7eb1bbdb",
   "metadata": {},
   "outputs": [
    {
     "name": "stdout",
     "output_type": "stream",
     "text": [
      "<class 'NoneType'> None\n"
     ]
    }
   ],
   "source": [
    "data = sum(10,100)\n",
    "print(type(data),data)"
   ]
  },
  {
   "cell_type": "code",
   "execution_count": null,
   "id": "902763ba",
   "metadata": {},
   "outputs": [],
   "source": []
  }
 ],
 "metadata": {
  "kernelspec": {
   "display_name": "Python 3 (ipykernel)",
   "language": "python",
   "name": "python3"
  },
  "language_info": {
   "codemirror_mode": {
    "name": "ipython",
    "version": 3
   },
   "file_extension": ".py",
   "mimetype": "text/x-python",
   "name": "python",
   "nbconvert_exporter": "python",
   "pygments_lexer": "ipython3",
   "version": "3.9.12"
  }
 },
 "nbformat": 4,
 "nbformat_minor": 5
}
