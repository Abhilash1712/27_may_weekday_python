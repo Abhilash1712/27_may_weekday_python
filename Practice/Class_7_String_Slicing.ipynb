{
 "cells": [
  {
   "cell_type": "markdown",
   "id": "f4fbcea0",
   "metadata": {},
   "source": [
    "### Slicing"
   ]
  },
  {
   "cell_type": "code",
   "execution_count": 4,
   "id": "98c64c2b",
   "metadata": {},
   "outputs": [
    {
     "name": "stdout",
     "output_type": "stream",
     "text": [
      "Mess\n"
     ]
    }
   ],
   "source": [
    "a = 'Lionel Messi'\n",
    "print(a[7:11])"
   ]
  },
  {
   "cell_type": "code",
   "execution_count": 8,
   "id": "d594170b",
   "metadata": {},
   "outputs": [
    {
     "name": "stdout",
     "output_type": "stream",
     "text": [
      "Mess\n",
      "Mess\n",
      "Mess\n"
     ]
    }
   ],
   "source": [
    "print(a[-5:-1])\n",
    "print(a[7:-1])\n",
    "print(a[-5:11])"
   ]
  },
  {
   "cell_type": "code",
   "execution_count": 11,
   "id": "5aad6a46",
   "metadata": {},
   "outputs": [
    {
     "name": "stdout",
     "output_type": "stream",
     "text": [
      "nel Mess\n"
     ]
    }
   ],
   "source": [
    "print(a[3:11])"
   ]
  },
  {
   "cell_type": "code",
   "execution_count": 12,
   "id": "eb912ae4",
   "metadata": {},
   "outputs": [
    {
     "name": "stdout",
     "output_type": "stream",
     "text": [
      "Messi\n"
     ]
    }
   ],
   "source": [
    "print(a[7:12])"
   ]
  },
  {
   "cell_type": "code",
   "execution_count": 15,
   "id": "edf96ba4",
   "metadata": {},
   "outputs": [
    {
     "name": "stdout",
     "output_type": "stream",
     "text": [
      "Messi\n"
     ]
    }
   ],
   "source": [
    "print(a[-5:])"
   ]
  },
  {
   "cell_type": "code",
   "execution_count": 16,
   "id": "ddba3eca",
   "metadata": {},
   "outputs": [
    {
     "name": "stdout",
     "output_type": "stream",
     "text": [
      "Lan\n"
     ]
    }
   ],
   "source": [
    "a = 'Learnbay@class'\n",
    "print(a[0:6:2])"
   ]
  },
  {
   "cell_type": "code",
   "execution_count": 20,
   "id": "942276c2",
   "metadata": {},
   "outputs": [
    {
     "name": "stdout",
     "output_type": "stream",
     "text": [
      "Lana\n"
     ]
    }
   ],
   "source": [
    "print(a[0:7:2])"
   ]
  },
  {
   "cell_type": "code",
   "execution_count": 25,
   "id": "97af8513",
   "metadata": {},
   "outputs": [
    {
     "name": "stdout",
     "output_type": "stream",
     "text": [
      "Learnbay\n"
     ]
    }
   ],
   "source": [
    "print(a[0:8:1])"
   ]
  },
  {
   "cell_type": "code",
   "execution_count": 26,
   "id": "20f2215d",
   "metadata": {},
   "outputs": [
    {
     "name": "stdout",
     "output_type": "stream",
     "text": [
      "y@class\n"
     ]
    }
   ],
   "source": [
    "print(a[7::1])"
   ]
  },
  {
   "cell_type": "code",
   "execution_count": 28,
   "id": "128e8307",
   "metadata": {},
   "outputs": [
    {
     "name": "stdout",
     "output_type": "stream",
     "text": [
      "yabnraeL\n"
     ]
    }
   ],
   "source": [
    "print(a[7::-1])  # Reverse Direction"
   ]
  },
  {
   "cell_type": "code",
   "execution_count": 30,
   "id": "a9eaa703",
   "metadata": {},
   "outputs": [
    {
     "name": "stdout",
     "output_type": "stream",
     "text": [
      "yabnraeL\n"
     ]
    }
   ],
   "source": [
    "print(a[-7:-15:-1])    # Reverse Direction"
   ]
  },
  {
   "cell_type": "code",
   "execution_count": 29,
   "id": "002574a8",
   "metadata": {},
   "outputs": [
    {
     "name": "stdout",
     "output_type": "stream",
     "text": [
      "cas\n"
     ]
    }
   ],
   "source": [
    "print(a[9::2])"
   ]
  },
  {
   "cell_type": "code",
   "execution_count": 33,
   "id": "39682a5d",
   "metadata": {},
   "outputs": [
    {
     "name": "stdout",
     "output_type": "stream",
     "text": [
      "Learnbay@class\n"
     ]
    }
   ],
   "source": [
    "print(a[::])          # By Default"
   ]
  },
  {
   "cell_type": "code",
   "execution_count": 32,
   "id": "ba02f85b",
   "metadata": {},
   "outputs": [
    {
     "name": "stdout",
     "output_type": "stream",
     "text": [
      "ssalc@yabnraeL\n"
     ]
    }
   ],
   "source": [
    "print(a[::-1])"
   ]
  },
  {
   "cell_type": "code",
   "execution_count": 36,
   "id": "fda5903c",
   "metadata": {},
   "outputs": [
    {
     "name": "stdout",
     "output_type": "stream",
     "text": [
      "tyP\n"
     ]
    }
   ],
   "source": [
    "a = 'Python'\n",
    "print(a[-4:-7:-1])"
   ]
  },
  {
   "cell_type": "code",
   "execution_count": 37,
   "id": "dc67026e",
   "metadata": {},
   "outputs": [
    {
     "name": "stdout",
     "output_type": "stream",
     "text": [
      "tyP\n"
     ]
    }
   ],
   "source": [
    "a = 'Python'\n",
    "print(a[-4::-1])"
   ]
  },
  {
   "cell_type": "code",
   "execution_count": 39,
   "id": "76130de9",
   "metadata": {},
   "outputs": [
    {
     "name": "stdout",
     "output_type": "stream",
     "text": [
      "isseM\n"
     ]
    }
   ],
   "source": [
    "a = 'Lionel@Messi'\n",
    "print(a[:-6:-1])"
   ]
  },
  {
   "cell_type": "code",
   "execution_count": 40,
   "id": "7bd89749",
   "metadata": {},
   "outputs": [
    {
     "name": "stdout",
     "output_type": "stream",
     "text": [
      "Loe@es\n"
     ]
    }
   ],
   "source": [
    "print(a[::2])"
   ]
  },
  {
   "cell_type": "code",
   "execution_count": 42,
   "id": "a0b9a4dc",
   "metadata": {},
   "outputs": [
    {
     "name": "stdout",
     "output_type": "stream",
     "text": [
      "\n"
     ]
    }
   ],
   "source": [
    "print(a[-1:-6:])  # The default Value for stepsize is 1 , so this will not work"
   ]
  },
  {
   "cell_type": "code",
   "execution_count": 45,
   "id": "c8d68313",
   "metadata": {},
   "outputs": [
    {
     "name": "stdout",
     "output_type": "stream",
     "text": [
      "lenoiL\n"
     ]
    }
   ],
   "source": [
    "print(a[5::-1])"
   ]
  },
  {
   "cell_type": "markdown",
   "id": "fc2154ab",
   "metadata": {},
   "source": [
    "#### Concatination"
   ]
  },
  {
   "cell_type": "code",
   "execution_count": 46,
   "id": "1c3d85dc",
   "metadata": {},
   "outputs": [
    {
     "name": "stdout",
     "output_type": "stream",
     "text": [
      "AbhilashBaruah\n"
     ]
    }
   ],
   "source": [
    "a = 'Abhilash'\n",
    "b = 'Baruah'\n",
    "\n",
    "print(a+b)"
   ]
  },
  {
   "cell_type": "markdown",
   "id": "a08e3d85",
   "metadata": {},
   "source": [
    "#### Repetition"
   ]
  },
  {
   "cell_type": "code",
   "execution_count": 47,
   "id": "e251f48c",
   "metadata": {},
   "outputs": [
    {
     "name": "stdout",
     "output_type": "stream",
     "text": [
      "AbhilashAbhilashAbhilashAbhilashAbhilash\n"
     ]
    }
   ],
   "source": [
    "a = 'Abhilash'\n",
    "b = 'Baruah'\n",
    "c = 5\n",
    "print(a*c)"
   ]
  },
  {
   "cell_type": "markdown",
   "id": "8ec514ec",
   "metadata": {},
   "source": [
    "#### Membership"
   ]
  },
  {
   "cell_type": "code",
   "execution_count": 48,
   "id": "44924812",
   "metadata": {},
   "outputs": [
    {
     "name": "stdout",
     "output_type": "stream",
     "text": [
      "True\n"
     ]
    }
   ],
   "source": [
    "a = 'I love to watch football and its one of my favourite sports'\n",
    "\n",
    "print('love' in a)"
   ]
  },
  {
   "cell_type": "code",
   "execution_count": 49,
   "id": "417ae8ae",
   "metadata": {},
   "outputs": [
    {
     "name": "stdout",
     "output_type": "stream",
     "text": [
      "True\n"
     ]
    }
   ],
   "source": [
    "print('fa' in a)"
   ]
  },
  {
   "cell_type": "code",
   "execution_count": 52,
   "id": "3b569074",
   "metadata": {},
   "outputs": [
    {
     "name": "stdout",
     "output_type": "stream",
     "text": [
      "False\n"
     ]
    }
   ],
   "source": [
    "print('footballs' in a)"
   ]
  },
  {
   "cell_type": "code",
   "execution_count": null,
   "id": "5a27c6ca",
   "metadata": {},
   "outputs": [],
   "source": []
  }
 ],
 "metadata": {
  "kernelspec": {
   "display_name": "Python 3 (ipykernel)",
   "language": "python",
   "name": "python3"
  },
  "language_info": {
   "codemirror_mode": {
    "name": "ipython",
    "version": 3
   },
   "file_extension": ".py",
   "mimetype": "text/x-python",
   "name": "python",
   "nbconvert_exporter": "python",
   "pygments_lexer": "ipython3",
   "version": "3.9.12"
  }
 },
 "nbformat": 4,
 "nbformat_minor": 5
}
