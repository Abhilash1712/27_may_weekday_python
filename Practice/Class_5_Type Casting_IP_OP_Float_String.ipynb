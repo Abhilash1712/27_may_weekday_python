{
 "cells": [
  {
   "cell_type": "markdown",
   "id": "64714846",
   "metadata": {},
   "source": [
    "### Type Casting"
   ]
  },
  {
   "cell_type": "code",
   "execution_count": 6,
   "id": "e0866e3a",
   "metadata": {},
   "outputs": [
    {
     "name": "stdout",
     "output_type": "stream",
     "text": [
      "10 10.0\n"
     ]
    },
    {
     "data": {
      "text/plain": [
       "int"
      ]
     },
     "execution_count": 6,
     "metadata": {},
     "output_type": "execute_result"
    }
   ],
   "source": [
    "a = 10\n",
    "print(a,float(a))\n",
    "type(a)"
   ]
  },
  {
   "cell_type": "code",
   "execution_count": 5,
   "id": "e9f93440",
   "metadata": {},
   "outputs": [
    {
     "name": "stdout",
     "output_type": "stream",
     "text": [
      "10.0 10.0\n"
     ]
    },
    {
     "data": {
      "text/plain": [
       "float"
      ]
     },
     "execution_count": 5,
     "metadata": {},
     "output_type": "execute_result"
    }
   ],
   "source": [
    "a = float(10)\n",
    "print(a,float(a))\n",
    "type(a)"
   ]
  },
  {
   "cell_type": "code",
   "execution_count": 3,
   "id": "15a44c29",
   "metadata": {},
   "outputs": [
    {
     "name": "stdout",
     "output_type": "stream",
     "text": [
      "100\n"
     ]
    }
   ],
   "source": [
    "a = '100'\n",
    "print(int(a))"
   ]
  },
  {
   "cell_type": "code",
   "execution_count": 4,
   "id": "8e02cab7",
   "metadata": {},
   "outputs": [
    {
     "data": {
      "text/plain": [
       "True"
      ]
     },
     "execution_count": 4,
     "metadata": {},
     "output_type": "execute_result"
    }
   ],
   "source": [
    "a = 200.567\n",
    "bool(a)"
   ]
  },
  {
   "cell_type": "markdown",
   "id": "22202974",
   "metadata": {},
   "source": [
    "### Input and Output Function"
   ]
  },
  {
   "cell_type": "code",
   "execution_count": 7,
   "id": "8589c863",
   "metadata": {},
   "outputs": [
    {
     "name": "stdout",
     "output_type": "stream",
     "text": [
      "60\n"
     ]
    }
   ],
   "source": [
    "a = 20\n",
    "b = 40\n",
    "\n",
    "print(a+b)"
   ]
  },
  {
   "cell_type": "code",
   "execution_count": 14,
   "id": "b3406193",
   "metadata": {},
   "outputs": [
    {
     "name": "stdout",
     "output_type": "stream",
     "text": [
      "Enter the Value20.9018\n",
      "Enter the Value6937.849\n",
      "6958.7508\n"
     ]
    }
   ],
   "source": [
    "a = float(input('Enter the Value'))\n",
    "b = float(input('Enter the Value'))\n",
    "print(a+b)"
   ]
  },
  {
   "cell_type": "code",
   "execution_count": 4,
   "id": "1f7b6fa9",
   "metadata": {},
   "outputs": [
    {
     "name": "stdout",
     "output_type": "stream",
     "text": [
      "Enter the Value90.55\n",
      "Enter the Value'Abhi'\n",
      "<class 'float'>\n",
      "<class 'str'>\n"
     ]
    }
   ],
   "source": [
    "a = eval(input('Enter the Value'))\n",
    "b = eval(input('Enter the Value'))\n",
    "\n",
    "print(type(a))\n",
    "print(type(b))"
   ]
  },
  {
   "cell_type": "markdown",
   "id": "3a9665cb",
   "metadata": {},
   "source": [
    "#### Output Functions"
   ]
  },
  {
   "cell_type": "code",
   "execution_count": 8,
   "id": "c2d349d1",
   "metadata": {},
   "outputs": [
    {
     "name": "stdout",
     "output_type": "stream",
     "text": [
      "10\n",
      "20\n",
      "30\n"
     ]
    }
   ],
   "source": [
    "a = 10\n",
    "b = 20\n",
    "c = 30\n",
    "print(a)\n",
    "print(b)\n",
    "print(c)"
   ]
  },
  {
   "cell_type": "code",
   "execution_count": 9,
   "id": "d75d5898",
   "metadata": {},
   "outputs": [
    {
     "name": "stdout",
     "output_type": "stream",
     "text": [
      "10 20 30\n"
     ]
    }
   ],
   "source": [
    "a = 10\n",
    "b = 20\n",
    "c = 30\n",
    "\n",
    "print(a,b,c)"
   ]
  },
  {
   "cell_type": "code",
   "execution_count": 2,
   "id": "53285798",
   "metadata": {},
   "outputs": [
    {
     "name": "stdout",
     "output_type": "stream",
     "text": [
      "102030"
     ]
    }
   ],
   "source": [
    "a = 10\n",
    "b = 20\n",
    "c = 30\n",
    "print(a, end='')\n",
    "print(b, end='')\n",
    "print(c, end='')"
   ]
  },
  {
   "cell_type": "code",
   "execution_count": 11,
   "id": "8c73e19c",
   "metadata": {},
   "outputs": [
    {
     "name": "stdout",
     "output_type": "stream",
     "text": [
      "10\n",
      "20\n",
      "30\n"
     ]
    }
   ],
   "source": [
    "a = 10\n",
    "b = 20\n",
    "c = 30\n",
    "print(a,b,c, sep='\\n')"
   ]
  },
  {
   "cell_type": "code",
   "execution_count": 13,
   "id": "4a1c4759",
   "metadata": {},
   "outputs": [
    {
     "name": "stdout",
     "output_type": "stream",
     "text": [
      "280==280__>10**280\n",
      "280 90\n",
      "\n",
      "200++80++10--"
     ]
    }
   ],
   "source": [
    "a = 200\n",
    "b = 80\n",
    "c = 10\n",
    "d =a+b\n",
    "\n",
    "print(a+b,d,sep='==', end='__>')\n",
    "print(c,d,sep=\"**\")\n",
    "print(d,c+b, end='\\n\\n')\n",
    "print(a,b,c,sep='++', end='--')"
   ]
  },
  {
   "cell_type": "code",
   "execution_count": 14,
   "id": "7859efa5",
   "metadata": {},
   "outputs": [
    {
     "name": "stdout",
     "output_type": "stream",
     "text": [
      "abhilash baruah\n"
     ]
    }
   ],
   "source": [
    "a = 'abhilash'\n",
    "b = 'baruah'\n",
    "\n",
    "print(a,b)"
   ]
  },
  {
   "cell_type": "code",
   "execution_count": 4,
   "id": "915a1a57",
   "metadata": {},
   "outputs": [
    {
     "name": "stdout",
     "output_type": "stream",
     "text": [
      "Abhilash Baruah\n"
     ]
    }
   ],
   "source": [
    "_1st_Name =('Abhilash')\n",
    "_2nd_Name =('Baruah')\n",
    "print(_1st_Name, _2nd_Name)"
   ]
  },
  {
   "cell_type": "code",
   "execution_count": 9,
   "id": "e82ff586",
   "metadata": {},
   "outputs": [
    {
     "name": "stdout",
     "output_type": "stream",
     "text": [
      "Please Enter first nameAbhilash\n",
      "Please Enter the second nameBaruah\n",
      "Abhilash Baruah\n"
     ]
    }
   ],
   "source": [
    "my_first_name=input(\"Please Enter first name\")\n",
    "my_second_Name=input(\"Please Enter the second name\")\n",
    "print(my_first_name, my_second_Name)"
   ]
  },
  {
   "cell_type": "code",
   "execution_count": 18,
   "id": "8da4bb3c",
   "metadata": {},
   "outputs": [
    {
     "name": "stdout",
     "output_type": "stream",
     "text": [
      "Enter first nameAbhilash\n",
      "Enter the second nameBaruah\n",
      "My First Name is Abhilash And My Last Name is Baruah\n"
     ]
    }
   ],
   "source": [
    "first_name=input(\"Enter first name\")\n",
    "second_Name=input(\"Enter the second name\")\n",
    "print(\"My First Name is\", (first_name) ,\"And My Last Name is\", (second_Name))"
   ]
  },
  {
   "cell_type": "code",
   "execution_count": 19,
   "id": "4213c3fc",
   "metadata": {},
   "outputs": [
    {
     "name": "stdout",
     "output_type": "stream",
     "text": [
      "Enter first nameAbhilash\n",
      "Enter the second nameBaruah\n",
      "My First Name is Abhilash And My Last Name is Baruah\n"
     ]
    }
   ],
   "source": [
    "first_name=input(\"Enter first name\")\n",
    "second_Name=input(\"Enter the second name\")\n",
    "print(f\"My First Name is {first_name} And My Last Name is {second_Name}\")"
   ]
  },
  {
   "cell_type": "code",
   "execution_count": 22,
   "id": "5d43b6d4",
   "metadata": {},
   "outputs": [],
   "source": [
    "# Format String "
   ]
  },
  {
   "cell_type": "code",
   "execution_count": 20,
   "id": "7b1fd319",
   "metadata": {},
   "outputs": [
    {
     "name": "stdout",
     "output_type": "stream",
     "text": [
      "Enter first nameAbhilash \n",
      "Enter the second nameBaruah\n",
      " Abhilash  is My First Name and Baruah is My Last Name is \n"
     ]
    }
   ],
   "source": [
    "first_name=input(\"Enter first name\")\n",
    "second_Name=input(\"Enter the second name\")\n",
    "print(f\" {first_name} is My First Name and {second_Name} is My Last Name is \")"
   ]
  },
  {
   "cell_type": "code",
   "execution_count": 21,
   "id": "f6a041dc",
   "metadata": {},
   "outputs": [
    {
     "name": "stdout",
     "output_type": "stream",
     "text": [
      "Enter first nameAbhilash\n",
      "Enter the second nameBaruah\n",
      "Abhilash is My First Name and Baruah is My Last Name\n"
     ]
    }
   ],
   "source": [
    "first_name=input(\"Enter first name\")\n",
    "second_Name=input(\"Enter the second name\")\n",
    "print(\"{} is My First Name and {} is My Last Name\" .format(first_name,second_Name))"
   ]
  },
  {
   "cell_type": "markdown",
   "id": "2a6ed63f",
   "metadata": {},
   "source": [
    "#### Float Data Types"
   ]
  },
  {
   "cell_type": "code",
   "execution_count": 33,
   "id": "a1ee7334",
   "metadata": {},
   "outputs": [
    {
     "name": "stdout",
     "output_type": "stream",
     "text": [
      "(21+13j) (68+136j) (0.8941176470588236-0.023529411764705865j)\n"
     ]
    }
   ],
   "source": [
    "# Complex Data Types\n",
    "\n",
    "a = 10+6j\n",
    "b = 11+7j\n",
    "print(a+b,a*b,a/b)"
   ]
  },
  {
   "cell_type": "code",
   "execution_count": 25,
   "id": "6b9a8f67",
   "metadata": {},
   "outputs": [
    {
     "data": {
      "text/plain": [
       "complex"
      ]
     },
     "execution_count": 25,
     "metadata": {},
     "output_type": "execute_result"
    }
   ],
   "source": [
    "a = 10+6j\n",
    "type(a)"
   ]
  },
  {
   "cell_type": "code",
   "execution_count": 28,
   "id": "d114bf44",
   "metadata": {},
   "outputs": [
    {
     "name": "stdout",
     "output_type": "stream",
     "text": [
      "10.0\n",
      "6.0\n"
     ]
    }
   ],
   "source": [
    "a = 10+6j\n",
    "print(a.real)\n",
    "print(a.imag)"
   ]
  },
  {
   "cell_type": "code",
   "execution_count": 24,
   "id": "ca2dcabc",
   "metadata": {},
   "outputs": [
    {
     "name": "stdout",
     "output_type": "stream",
     "text": [
      "Python\n",
      "python\n",
      "python\n"
     ]
    }
   ],
   "source": [
    "a = 'Python'\n",
    "b = \"python\"\n",
    "c = '''python'''\n",
    "print(a)\n",
    "print(b)\n",
    "print(c)"
   ]
  },
  {
   "cell_type": "code",
   "execution_count": 39,
   "id": "7b8b2b6f",
   "metadata": {},
   "outputs": [
    {
     "name": "stdout",
     "output_type": "stream",
     "text": [
      "Python\n",
      "hello\n",
      "World\n"
     ]
    }
   ],
   "source": [
    "a ='''Python\n",
    "hello\n",
    "World'''\n",
    "print(a)"
   ]
  },
  {
   "cell_type": "code",
   "execution_count": 26,
   "id": "b9efa633",
   "metadata": {},
   "outputs": [
    {
     "name": "stdout",
     "output_type": "stream",
     "text": [
      "Abhilash's\n"
     ]
    }
   ],
   "source": [
    "a = \"Abhilash's\"\n",
    "print(a)"
   ]
  },
  {
   "cell_type": "code",
   "execution_count": 40,
   "id": "029cc8d3",
   "metadata": {},
   "outputs": [
    {
     "name": "stdout",
     "output_type": "stream",
     "text": [
      "Abhilash's\n"
     ]
    }
   ],
   "source": [
    "a = 'Abhilash\\'s'\n",
    "print(a)"
   ]
  },
  {
   "cell_type": "code",
   "execution_count": 42,
   "id": "578a7f17",
   "metadata": {},
   "outputs": [
    {
     "name": "stdout",
     "output_type": "stream",
     "text": [
      "Learn\n",
      "Bay\n"
     ]
    }
   ],
   "source": [
    "a ='Learn\\nBay'\n",
    "print(a)"
   ]
  },
  {
   "cell_type": "code",
   "execution_count": 43,
   "id": "1d92134b",
   "metadata": {},
   "outputs": [
    {
     "name": "stdout",
     "output_type": "stream",
     "text": [
      "Learn\\nBay\n"
     ]
    }
   ],
   "source": [
    "a ='Learn\\\\nBay'\n",
    "print(a)"
   ]
  },
  {
   "cell_type": "code",
   "execution_count": 45,
   "id": "d1fddb8a",
   "metadata": {},
   "outputs": [
    {
     "name": "stdout",
     "output_type": "stream",
     "text": [
      "Learn\b\n",
      "Bay\n"
     ]
    }
   ],
   "source": [
    "a ='Learn\\b\\nBay'\n",
    "print(a)"
   ]
  },
  {
   "cell_type": "code",
   "execution_count": 27,
   "id": "fd84c8e8",
   "metadata": {},
   "outputs": [
    {
     "name": "stdout",
     "output_type": "stream",
     "text": [
      "ab\bc\n"
     ]
    }
   ],
   "source": [
    "print('ab'+'\\b'+'c')"
   ]
  },
  {
   "cell_type": "code",
   "execution_count": 50,
   "id": "286eee1a",
   "metadata": {},
   "outputs": [
    {
     "name": "stdout",
     "output_type": "stream",
     "text": [
      "Abhilash\tBaruah\n"
     ]
    }
   ],
   "source": [
    "print('Abhilash\\tBaruah')"
   ]
  },
  {
   "cell_type": "code",
   "execution_count": 51,
   "id": "a8a2f67c",
   "metadata": {},
   "outputs": [
    {
     "name": "stdout",
     "output_type": "stream",
     "text": [
      "Abhilash\\tBaruah\n"
     ]
    }
   ],
   "source": [
    "print(r'Abhilash\\tBaruah')"
   ]
  },
  {
   "cell_type": "code",
   "execution_count": null,
   "id": "f92b63b5",
   "metadata": {},
   "outputs": [],
   "source": []
  }
 ],
 "metadata": {
  "kernelspec": {
   "display_name": "Python 3 (ipykernel)",
   "language": "python",
   "name": "python3"
  },
  "language_info": {
   "codemirror_mode": {
    "name": "ipython",
    "version": 3
   },
   "file_extension": ".py",
   "mimetype": "text/x-python",
   "name": "python",
   "nbconvert_exporter": "python",
   "pygments_lexer": "ipython3",
   "version": "3.9.12"
  }
 },
 "nbformat": 4,
 "nbformat_minor": 5
}
