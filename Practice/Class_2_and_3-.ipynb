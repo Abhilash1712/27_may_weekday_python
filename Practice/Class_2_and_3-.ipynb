{
 "cells": [
  {
   "cell_type": "markdown",
   "id": "feebff13",
   "metadata": {},
   "source": [
    "# Class_3_\n"
   ]
  },
  {
   "cell_type": "code",
   "execution_count": 4,
   "id": "c347e384",
   "metadata": {},
   "outputs": [
    {
     "name": "stdout",
     "output_type": "stream",
     "text": [
      "5\n"
     ]
    }
   ],
   "source": [
    "print(11//2)"
   ]
  },
  {
   "cell_type": "code",
   "execution_count": 2,
   "id": "5ee61713",
   "metadata": {},
   "outputs": [
    {
     "name": "stdout",
     "output_type": "stream",
     "text": [
      "5.0\n"
     ]
    }
   ],
   "source": [
    "print(11//2.0)"
   ]
  },
  {
   "cell_type": "code",
   "execution_count": 4,
   "id": "0be05e55",
   "metadata": {},
   "outputs": [
    {
     "name": "stdout",
     "output_type": "stream",
     "text": [
      "3\n"
     ]
    }
   ],
   "source": [
    "print(11%4)"
   ]
  },
  {
   "cell_type": "code",
   "execution_count": 5,
   "id": "eaa4e56f",
   "metadata": {},
   "outputs": [
    {
     "name": "stdout",
     "output_type": "stream",
     "text": [
      "0\n"
     ]
    }
   ],
   "source": [
    "print(10%2)"
   ]
  },
  {
   "cell_type": "code",
   "execution_count": 5,
   "id": "a401928f",
   "metadata": {},
   "outputs": [
    {
     "name": "stdout",
     "output_type": "stream",
     "text": [
      "100\n"
     ]
    }
   ],
   "source": [
    "print(10**2)"
   ]
  },
  {
   "cell_type": "code",
   "execution_count": 9,
   "id": "e2c2577c",
   "metadata": {},
   "outputs": [
    {
     "name": "stdout",
     "output_type": "stream",
     "text": [
      "10.0\n"
     ]
    }
   ],
   "source": [
    "print(100**(1/2))"
   ]
  },
  {
   "cell_type": "code",
   "execution_count": 7,
   "id": "10128fd6",
   "metadata": {},
   "outputs": [
    {
     "name": "stdout",
     "output_type": "stream",
     "text": [
      "True\n",
      "True\n"
     ]
    }
   ],
   "source": [
    "a = 10\n",
    "b = 20\n",
    "print(a<b)\n",
    "print(a<=b)"
   ]
  },
  {
   "cell_type": "code",
   "execution_count": 1,
   "id": "0dd2536a",
   "metadata": {},
   "outputs": [
    {
     "name": "stdout",
     "output_type": "stream",
     "text": [
      "True\n"
     ]
    }
   ],
   "source": [
    "a = 'learnbay'\n",
    "b = 'Learnbay'\n",
    "print(a>=b)"
   ]
  },
  {
   "cell_type": "code",
   "execution_count": 2,
   "id": "0b40c54e",
   "metadata": {},
   "outputs": [
    {
     "name": "stdout",
     "output_type": "stream",
     "text": [
      "True\n"
     ]
    }
   ],
   "source": [
    "a = 'learnbay'\n",
    "b = 'learna'\n",
    "print(a>=b)"
   ]
  },
  {
   "cell_type": "code",
   "execution_count": 9,
   "id": "8633883e",
   "metadata": {},
   "outputs": [
    {
     "name": "stdout",
     "output_type": "stream",
     "text": [
      "True\n"
     ]
    }
   ],
   "source": [
    "a = 'learnbay'\n",
    "b = 'learn'\n",
    "print(a>=b)"
   ]
  },
  {
   "cell_type": "code",
   "execution_count": 28,
   "id": "292573cd",
   "metadata": {},
   "outputs": [
    {
     "name": "stdout",
     "output_type": "stream",
     "text": [
      "False\n"
     ]
    }
   ],
   "source": [
    "a = 'learnbay'\n",
    "b = 'learo'\n",
    "print(a>=b)"
   ]
  },
  {
   "cell_type": "code",
   "execution_count": 29,
   "id": "274e51f3",
   "metadata": {},
   "outputs": [
    {
     "data": {
      "text/plain": [
       "False"
      ]
     },
     "execution_count": 29,
     "metadata": {},
     "output_type": "execute_result"
    }
   ],
   "source": [
    "10+6j==11"
   ]
  },
  {
   "cell_type": "code",
   "execution_count": 3,
   "id": "a0c004ea",
   "metadata": {},
   "outputs": [
    {
     "data": {
      "text/plain": [
       "False"
      ]
     },
     "execution_count": 3,
     "metadata": {},
     "output_type": "execute_result"
    }
   ],
   "source": [
    "'abhilash'=='abhi'"
   ]
  },
  {
   "cell_type": "code",
   "execution_count": 4,
   "id": "df1833a5",
   "metadata": {},
   "outputs": [
    {
     "data": {
      "text/plain": [
       "True"
      ]
     },
     "execution_count": 4,
     "metadata": {},
     "output_type": "execute_result"
    }
   ],
   "source": [
    "'abhilash'!='abhi'"
   ]
  },
  {
   "cell_type": "code",
   "execution_count": 34,
   "id": "d0029f24",
   "metadata": {},
   "outputs": [
    {
     "data": {
      "text/plain": [
       "False"
      ]
     },
     "execution_count": 34,
     "metadata": {},
     "output_type": "execute_result"
    }
   ],
   "source": [
    "'afsaan'==10"
   ]
  },
  {
   "cell_type": "code",
   "execution_count": 40,
   "id": "c885aa7f",
   "metadata": {},
   "outputs": [
    {
     "data": {
      "text/plain": [
       "50"
      ]
     },
     "execution_count": 40,
     "metadata": {},
     "output_type": "execute_result"
    }
   ],
   "source": [
    "ord('2')"
   ]
  },
  {
   "cell_type": "code",
   "execution_count": 8,
   "id": "5952508d",
   "metadata": {},
   "outputs": [
    {
     "data": {
      "text/plain": [
       "65"
      ]
     },
     "execution_count": 8,
     "metadata": {},
     "output_type": "execute_result"
    }
   ],
   "source": [
    "ord('A')"
   ]
  },
  {
   "cell_type": "code",
   "execution_count": 10,
   "id": "6a823903",
   "metadata": {},
   "outputs": [
    {
     "name": "stdout",
     "output_type": "stream",
     "text": [
      "True\n"
     ]
    }
   ],
   "source": [
    "print('A'<=chr(65))"
   ]
  },
  {
   "cell_type": "code",
   "execution_count": 42,
   "id": "722255fb",
   "metadata": {},
   "outputs": [
    {
     "data": {
      "text/plain": [
       "65"
      ]
     },
     "execution_count": 42,
     "metadata": {},
     "output_type": "execute_result"
    }
   ],
   "source": [
    "ord('A')"
   ]
  },
  {
   "cell_type": "code",
   "execution_count": 5,
   "id": "455425f4",
   "metadata": {},
   "outputs": [
    {
     "name": "stdout",
     "output_type": "stream",
     "text": [
      "True\n"
     ]
    }
   ],
   "source": [
    "print(103 == ord('g'))"
   ]
  },
  {
   "cell_type": "code",
   "execution_count": 44,
   "id": "469ec0a0",
   "metadata": {},
   "outputs": [
    {
     "data": {
      "text/plain": [
       "103"
      ]
     },
     "execution_count": 44,
     "metadata": {},
     "output_type": "execute_result"
    }
   ],
   "source": [
    "ord('g')"
   ]
  },
  {
   "cell_type": "code",
   "execution_count": 6,
   "id": "635bb48c",
   "metadata": {},
   "outputs": [
    {
     "data": {
      "text/plain": [
       "'o'"
      ]
     },
     "execution_count": 6,
     "metadata": {},
     "output_type": "execute_result"
    }
   ],
   "source": [
    "chr(111)"
   ]
  },
  {
   "cell_type": "code",
   "execution_count": 7,
   "id": "a79592f4",
   "metadata": {},
   "outputs": [
    {
     "data": {
      "text/plain": [
       "111"
      ]
     },
     "execution_count": 7,
     "metadata": {},
     "output_type": "execute_result"
    }
   ],
   "source": [
    "ord('o')"
   ]
  },
  {
   "cell_type": "code",
   "execution_count": 45,
   "id": "23a83e6c",
   "metadata": {},
   "outputs": [
    {
     "name": "stdout",
     "output_type": "stream",
     "text": [
      "True\n"
     ]
    }
   ],
   "source": [
    "print(True and True)"
   ]
  },
  {
   "cell_type": "code",
   "execution_count": 48,
   "id": "b1807709",
   "metadata": {},
   "outputs": [
    {
     "name": "stdout",
     "output_type": "stream",
     "text": [
      "0\n"
     ]
    }
   ],
   "source": [
    "print(1 and 0)"
   ]
  },
  {
   "cell_type": "code",
   "execution_count": 50,
   "id": "a5f4e013",
   "metadata": {},
   "outputs": [
    {
     "name": "stdout",
     "output_type": "stream",
     "text": [
      "False\n"
     ]
    }
   ],
   "source": [
    "print(not True)"
   ]
  },
  {
   "cell_type": "code",
   "execution_count": 11,
   "id": "23501315",
   "metadata": {},
   "outputs": [
    {
     "name": "stdout",
     "output_type": "stream",
     "text": [
      "0\n"
     ]
    }
   ],
   "source": [
    "print(0 and 0)"
   ]
  },
  {
   "cell_type": "markdown",
   "id": "1a81e020",
   "metadata": {},
   "source": [
    "# Class_2_"
   ]
  },
  {
   "cell_type": "code",
   "execution_count": 7,
   "id": "fa5bb1cf",
   "metadata": {},
   "outputs": [
    {
     "name": "stdout",
     "output_type": "stream",
     "text": [
      "10\n"
     ]
    }
   ],
   "source": [
    "a = 10\n",
    "A = 20\n",
    "\n",
    "print(a)"
   ]
  },
  {
   "cell_type": "code",
   "execution_count": 8,
   "id": "b70cd9a8",
   "metadata": {},
   "outputs": [
    {
     "name": "stdout",
     "output_type": "stream",
     "text": [
      "['False', 'None', 'True', '__peg_parser__', 'and', 'as', 'assert', 'async', 'await', 'break', 'class', 'continue', 'def', 'del', 'elif', 'else', 'except', 'finally', 'for', 'from', 'global', 'if', 'import', 'in', 'is', 'lambda', 'nonlocal', 'not', 'or', 'pass', 'raise', 'return', 'try', 'while', 'with', 'yield']\n"
     ]
    }
   ],
   "source": [
    "import keyword\n",
    "print(keyword.kwlist)"
   ]
  },
  {
   "cell_type": "code",
   "execution_count": 9,
   "id": "20aab8dd",
   "metadata": {},
   "outputs": [
    {
     "ename": "SyntaxError",
     "evalue": "invalid syntax (3055775905.py, line 1)",
     "output_type": "error",
     "traceback": [
      "\u001b[1;36m  Input \u001b[1;32mIn [9]\u001b[1;36m\u001b[0m\n\u001b[1;33m    try = 100\u001b[0m\n\u001b[1;37m        ^\u001b[0m\n\u001b[1;31mSyntaxError\u001b[0m\u001b[1;31m:\u001b[0m invalid syntax\n"
     ]
    }
   ],
   "source": [
    "try = 100"
   ]
  },
  {
   "cell_type": "code",
   "execution_count": 10,
   "id": "10a8a70f",
   "metadata": {},
   "outputs": [
    {
     "ename": "TypeError",
     "evalue": "'int' object is not callable",
     "output_type": "error",
     "traceback": [
      "\u001b[1;31m---------------------------------------------------------------------------\u001b[0m",
      "\u001b[1;31mTypeError\u001b[0m                                 Traceback (most recent call last)",
      "Input \u001b[1;32mIn [10]\u001b[0m, in \u001b[0;36m<cell line: 2>\u001b[1;34m()\u001b[0m\n\u001b[0;32m      1\u001b[0m \u001b[38;5;28mprint\u001b[39m \u001b[38;5;241m=\u001b[39m \u001b[38;5;241m100\u001b[39m\n\u001b[1;32m----> 2\u001b[0m \u001b[38;5;28;43mprint\u001b[39;49m\u001b[43m(\u001b[49m\u001b[38;5;28;43mprint\u001b[39;49m\u001b[43m)\u001b[49m\n",
      "\u001b[1;31mTypeError\u001b[0m: 'int' object is not callable"
     ]
    }
   ],
   "source": [
    "print = 100\n",
    "print(print)"
   ]
  },
  {
   "cell_type": "code",
   "execution_count": 15,
   "id": "553e0394",
   "metadata": {},
   "outputs": [
    {
     "data": {
      "text/plain": [
       "100"
      ]
     },
     "execution_count": 15,
     "metadata": {},
     "output_type": "execute_result"
    }
   ],
   "source": [
    "print = 100\n",
    "print"
   ]
  },
  {
   "cell_type": "code",
   "execution_count": 19,
   "id": "ecf27a1c",
   "metadata": {},
   "outputs": [
    {
     "data": {
      "text/plain": [
       "10"
      ]
     },
     "execution_count": 19,
     "metadata": {},
     "output_type": "execute_result"
    }
   ],
   "source": [
    "10 #Expression"
   ]
  },
  {
   "cell_type": "code",
   "execution_count": 20,
   "id": "da136363",
   "metadata": {},
   "outputs": [
    {
     "data": {
      "text/plain": [
       "30"
      ]
     },
     "execution_count": 20,
     "metadata": {},
     "output_type": "execute_result"
    }
   ],
   "source": [
    "10 + 20 #Expression"
   ]
  },
  {
   "cell_type": "code",
   "execution_count": 22,
   "id": "b3bdf9d7",
   "metadata": {},
   "outputs": [],
   "source": [
    "a = 10 #Statement(Assignment Statemwnt)"
   ]
  },
  {
   "cell_type": "code",
   "execution_count": 23,
   "id": "da9a59fe",
   "metadata": {},
   "outputs": [],
   "source": [
    "\n",
    "for i in range(10):\n",
    "    pass                 #Statement"
   ]
  },
  {
   "cell_type": "code",
   "execution_count": 2,
   "id": "904a32fb",
   "metadata": {},
   "outputs": [
    {
     "name": "stdout",
     "output_type": "stream",
     "text": [
      "Abhilash\n",
      "Baruah\n"
     ]
    }
   ],
   "source": [
    "a = 10\n",
    "b = 20\n",
    "c = 30\n",
    "if c == 30:\n",
    "    print('Abhilash')\n",
    "    print('Baruah')"
   ]
  },
  {
   "cell_type": "code",
   "execution_count": 5,
   "id": "01c1daea",
   "metadata": {},
   "outputs": [
    {
     "name": "stdout",
     "output_type": "stream",
     "text": [
      "100\n"
     ]
    }
   ],
   "source": [
    "# area of square\n",
    "\n",
    "pi = 3.14  #pi value\n",
    "r = 10     # Side of a square\n",
    "a = r*r\n",
    "print(a)"
   ]
  },
  {
   "cell_type": "code",
   "execution_count": 4,
   "id": "7ec1dd90",
   "metadata": {},
   "outputs": [
    {
     "name": "stdout",
     "output_type": "stream",
     "text": [
      "30\n"
     ]
    }
   ],
   "source": [
    "\n",
    "\n",
    "a = 10\n",
    "b = 20\n",
    "c = 30\n",
    "# print(a)\n",
    "# print(b)\n",
    "print(c)\n",
    "\n"
   ]
  }
 ],
 "metadata": {
  "kernelspec": {
   "display_name": "Python 3 (ipykernel)",
   "language": "python",
   "name": "python3"
  },
  "language_info": {
   "codemirror_mode": {
    "name": "ipython",
    "version": 3
   },
   "file_extension": ".py",
   "mimetype": "text/x-python",
   "name": "python",
   "nbconvert_exporter": "python",
   "pygments_lexer": "ipython3",
   "version": "3.9.12"
  }
 },
 "nbformat": 4,
 "nbformat_minor": 5
}
