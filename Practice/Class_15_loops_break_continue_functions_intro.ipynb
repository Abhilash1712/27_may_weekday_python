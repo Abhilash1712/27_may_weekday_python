{
 "cells": [
  {
   "cell_type": "markdown",
   "id": "7de46567",
   "metadata": {},
   "source": [
    "# Loops"
   ]
  },
  {
   "cell_type": "code",
   "execution_count": null,
   "id": "44e9a5df",
   "metadata": {},
   "outputs": [],
   "source": [
    "- for loop\n",
    "- while loop"
   ]
  },
  {
   "cell_type": "code",
   "execution_count": 1,
   "id": "344e01aa",
   "metadata": {},
   "outputs": [],
   "source": [
    "# for loop"
   ]
  },
  {
   "cell_type": "code",
   "execution_count": 2,
   "id": "e1dcaa32",
   "metadata": {},
   "outputs": [
    {
     "name": "stdout",
     "output_type": "stream",
     "text": [
      "m\n",
      "e\n",
      "s\n",
      "s\n",
      "i\n"
     ]
    }
   ],
   "source": [
    "a = ['messi','ronaldo','virat']\n",
    "\n",
    "for i in a[0]:\n",
    "    print(i)"
   ]
  },
  {
   "cell_type": "code",
   "execution_count": null,
   "id": "943132cf",
   "metadata": {},
   "outputs": [],
   "source": [
    "# While Loop"
   ]
  },
  {
   "cell_type": "code",
   "execution_count": 8,
   "id": "12bbc852",
   "metadata": {},
   "outputs": [
    {
     "name": "stdout",
     "output_type": "stream",
     "text": [
      "abhi\n",
      "abhi\n",
      "abhi\n",
      "abhi\n",
      "abhi\n",
      "abhi\n",
      "abhi\n",
      "abhi\n",
      "abhi\n",
      "abhi\n"
     ]
    }
   ],
   "source": [
    "i = 0  # initialization\n",
    "\n",
    "while i<10 :     # condition checking\n",
    "    print('abhi')\n",
    "    i+=1  # inc"
   ]
  },
  {
   "cell_type": "code",
   "execution_count": 9,
   "id": "4c734b3a",
   "metadata": {},
   "outputs": [
    {
     "name": "stdout",
     "output_type": "stream",
     "text": [
      "p\n",
      "yy\n",
      "ttt\n",
      "hhhh\n",
      "ooooo\n",
      "nnnnnn\n"
     ]
    }
   ],
   "source": [
    "data = 'python'\n",
    "print(data[0]*1)\n",
    "print(data[1]*2)\n",
    "print(data[2]*3)\n",
    "print(data[3]*4)\n",
    "print(data[4]*5)\n",
    "print(data[5]*6)"
   ]
  },
  {
   "cell_type": "code",
   "execution_count": 18,
   "id": "af31d039",
   "metadata": {},
   "outputs": [
    {
     "name": "stdout",
     "output_type": "stream",
     "text": [
      "p\n",
      "yy\n",
      "ttt\n",
      "hhhh\n",
      "ooooo\n",
      "nnnnnn\n"
     ]
    }
   ],
   "source": [
    "data = 'python'\n",
    "\n",
    "for i in range(0,6):\n",
    "    print(data[i]*(i+1))\n"
   ]
  },
  {
   "cell_type": "code",
   "execution_count": 20,
   "id": "d96201b2",
   "metadata": {},
   "outputs": [
    {
     "name": "stdout",
     "output_type": "stream",
     "text": [
      "p\n",
      "yy\n",
      "ttt\n",
      "hhhh\n",
      "ooooo\n",
      "nnnnnn\n"
     ]
    }
   ],
   "source": [
    "data = 'python'\n",
    "\n",
    "i = 0\n",
    "while i<6 :\n",
    "    print(data[i]*(i+1))\n",
    "    i+=1\n",
    "    "
   ]
  },
  {
   "cell_type": "code",
   "execution_count": 22,
   "id": "ce8fb32f",
   "metadata": {},
   "outputs": [
    {
     "name": "stdout",
     "output_type": "stream",
     "text": [
      "0\n",
      "1\n",
      "2\n",
      "3\n"
     ]
    }
   ],
   "source": [
    "# Break\n",
    "\n",
    "for i in range(9):\n",
    "    if i>3:\n",
    "        break\n",
    "    print(i)"
   ]
  },
  {
   "cell_type": "code",
   "execution_count": 21,
   "id": "31a2abf6",
   "metadata": {},
   "outputs": [
    {
     "name": "stdout",
     "output_type": "stream",
     "text": [
      "1\n",
      "2\n",
      "3\n"
     ]
    }
   ],
   "source": [
    "i=0\n",
    "while i<9:\n",
    "    if i==3:\n",
    "        break\n",
    "    i+=1\n",
    "    print(i)"
   ]
  },
  {
   "cell_type": "code",
   "execution_count": 23,
   "id": "2daa8b52",
   "metadata": {},
   "outputs": [
    {
     "name": "stdout",
     "output_type": "stream",
     "text": [
      "0\n",
      "1\n",
      "2\n",
      "bye\n"
     ]
    }
   ],
   "source": [
    "for i in range(9):\n",
    "    if i==3:\n",
    "        break\n",
    "    print(i)\n",
    "print('bye')"
   ]
  },
  {
   "cell_type": "code",
   "execution_count": 37,
   "id": "0aa1a314",
   "metadata": {},
   "outputs": [
    {
     "name": "stdout",
     "output_type": "stream",
     "text": [
      "1\n",
      "3\n",
      "5\n",
      "7\n"
     ]
    }
   ],
   "source": [
    "# Continue\n",
    "\n",
    "for i in range(9):\n",
    "    if i%2==0:\n",
    "        continue\n",
    "    print(i)\n"
   ]
  },
  {
   "cell_type": "code",
   "execution_count": 33,
   "id": "e0832772",
   "metadata": {},
   "outputs": [
    {
     "name": "stdout",
     "output_type": "stream",
     "text": [
      "0\n",
      "1\n",
      "2\n",
      "3\n",
      "bye\n"
     ]
    }
   ],
   "source": [
    "for i in range(9):\n",
    "    if i>3:\n",
    "        break\n",
    "    print(i)\n",
    "print('bye')    "
   ]
  },
  {
   "cell_type": "code",
   "execution_count": 32,
   "id": "e672df16",
   "metadata": {},
   "outputs": [
    {
     "name": "stdout",
     "output_type": "stream",
     "text": [
      "0\n",
      "1\n",
      "2\n",
      "3\n",
      "bye\n"
     ]
    }
   ],
   "source": [
    "for i in range(9):\n",
    "    if i>3:\n",
    "        continue\n",
    "    print(i)\n",
    "print('bye')    "
   ]
  },
  {
   "cell_type": "code",
   "execution_count": 26,
   "id": "e1d6fc87",
   "metadata": {},
   "outputs": [
    {
     "name": "stdout",
     "output_type": "stream",
     "text": [
      "0\n",
      "1\n",
      "2\n",
      "3\n",
      "bye\n"
     ]
    }
   ],
   "source": [
    "for i in range(9):\n",
    "    if i>3:\n",
    "        continue\n",
    "    print(i)\n",
    "print('bye')"
   ]
  },
  {
   "cell_type": "code",
   "execution_count": 19,
   "id": "410419e8",
   "metadata": {},
   "outputs": [
    {
     "name": "stdout",
     "output_type": "stream",
     "text": [
      "0\n",
      "1\n",
      "0\n",
      "1\n",
      "0\n",
      "1\n"
     ]
    }
   ],
   "source": [
    "# Nested Loop\n",
    "\n",
    "for i in range(3):\n",
    "    for j in range(2):\n",
    "        print(j)"
   ]
  },
  {
   "cell_type": "code",
   "execution_count": 28,
   "id": "a9f3a8e6",
   "metadata": {},
   "outputs": [
    {
     "name": "stdout",
     "output_type": "stream",
     "text": [
      "0 0\n",
      "1 2\n",
      "2 2\n"
     ]
    }
   ],
   "source": [
    "for i in range(3):\n",
    "    for j in range(3):\n",
    "        if i==0:\n",
    "            break\n",
    "    print(i,j)"
   ]
  },
  {
   "cell_type": "code",
   "execution_count": 33,
   "id": "79935210",
   "metadata": {},
   "outputs": [
    {
     "name": "stdout",
     "output_type": "stream",
     "text": [
      "divya\n",
      "debdutaa\n",
      "badaraiah\n",
      "nithin\n",
      "sagar\n",
      "Roy\n",
      "beeram\n"
     ]
    }
   ],
   "source": [
    "names = ['divya','debdutaa','afsan', 'badaraiah','nithin','sagar','abhishek','Roy','Anshu','beeram']\n",
    "\n",
    "for i in names:\n",
    "    if i[0].lower() == 'a':\n",
    "        continue\n",
    "    print(i)\n",
    "    \n",
    "    \n",
    "    "
   ]
  },
  {
   "cell_type": "code",
   "execution_count": 36,
   "id": "7bdbb23c",
   "metadata": {},
   "outputs": [
    {
     "name": "stdout",
     "output_type": "stream",
     "text": [
      "divya\n",
      "debdutaa\n"
     ]
    }
   ],
   "source": [
    "names = ['divya','debdutaa','afsan', 'badaraiah','nithin','sagar','abhishek','Roy','Anshu','beeram']\n",
    "\n",
    "for i in names:\n",
    "    if i[0].lower() == 'a':\n",
    "        break\n",
    "    print(i)\n",
    "    \n",
    "    \n",
    "    "
   ]
  },
  {
   "cell_type": "code",
   "execution_count": 2,
   "id": "3e6d8275",
   "metadata": {},
   "outputs": [
    {
     "name": "stdout",
     "output_type": "stream",
     "text": [
      "nnnnnn\n",
      "ooooo\n",
      "hhhh\n",
      "ttt\n",
      "yy\n",
      "p\n"
     ]
    }
   ],
   "source": [
    "a = 'python'\n",
    "\n",
    "print(a[5]*6)\n",
    "print(a[4]*5)\n",
    "print(a[3]*4)\n",
    "print(a[2]*3)\n",
    "print(a[1]*2)\n",
    "print(a[0]*1)"
   ]
  },
  {
   "cell_type": "code",
   "execution_count": 47,
   "id": "93a6e64a",
   "metadata": {},
   "outputs": [
    {
     "name": "stdout",
     "output_type": "stream",
     "text": [
      "nnnnnn\n",
      "ooooo\n",
      "hhhh\n",
      "ttt\n",
      "yy\n",
      "p\n"
     ]
    }
   ],
   "source": [
    "data = 'python'\n",
    "\n",
    "for i in range(6,0,-1):\n",
    "    print(i*data[i-1])"
   ]
  },
  {
   "cell_type": "code",
   "execution_count": 48,
   "id": "e33b5271",
   "metadata": {},
   "outputs": [
    {
     "name": "stdout",
     "output_type": "stream",
     "text": [
      "nnnnnn\n",
      "ooooo\n",
      "hhhh\n",
      "ttt\n",
      "yy\n",
      "p\n"
     ]
    }
   ],
   "source": [
    "i = 6\n",
    "while i>0:\n",
    "    print(data[i-1]*i)\n",
    "    i-=1"
   ]
  },
  {
   "cell_type": "code",
   "execution_count": 3,
   "id": "49ba035d",
   "metadata": {},
   "outputs": [
    {
     "name": "stdout",
     "output_type": "stream",
     "text": [
      "0\n",
      "1\n",
      "2\n"
     ]
    }
   ],
   "source": [
    "for i in range(9):\n",
    "    if i== 3:\n",
    "        break\n",
    "        \n",
    "    print(i)\n",
    "else:\n",
    "    print('reached here')"
   ]
  },
  {
   "cell_type": "code",
   "execution_count": 4,
   "id": "b2b0707b",
   "metadata": {},
   "outputs": [
    {
     "name": "stdout",
     "output_type": "stream",
     "text": [
      "3\n",
      "4\n",
      "5\n",
      "6\n",
      "7\n",
      "8\n",
      "reached here\n"
     ]
    }
   ],
   "source": [
    "for i in range(9):\n",
    "    if i<3:\n",
    "        continue\n",
    "    print(i)\n",
    "else:\n",
    "    print('reached here')"
   ]
  },
  {
   "cell_type": "code",
   "execution_count": null,
   "id": "e614a15c",
   "metadata": {},
   "outputs": [],
   "source": []
  },
  {
   "cell_type": "code",
   "execution_count": null,
   "id": "eb20b5d3",
   "metadata": {},
   "outputs": [],
   "source": []
  },
  {
   "cell_type": "code",
   "execution_count": null,
   "id": "d112fece",
   "metadata": {},
   "outputs": [],
   "source": []
  },
  {
   "cell_type": "code",
   "execution_count": null,
   "id": "600bf076",
   "metadata": {},
   "outputs": [],
   "source": []
  }
 ],
 "metadata": {
  "kernelspec": {
   "display_name": "Python 3 (ipykernel)",
   "language": "python",
   "name": "python3"
  },
  "language_info": {
   "codemirror_mode": {
    "name": "ipython",
    "version": 3
   },
   "file_extension": ".py",
   "mimetype": "text/x-python",
   "name": "python",
   "nbconvert_exporter": "python",
   "pygments_lexer": "ipython3",
   "version": "3.9.12"
  }
 },
 "nbformat": 4,
 "nbformat_minor": 5
}
