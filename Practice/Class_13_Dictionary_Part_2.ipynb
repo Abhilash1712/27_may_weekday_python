{
 "cells": [
  {
   "cell_type": "code",
   "execution_count": 1,
   "id": "e6417289",
   "metadata": {},
   "outputs": [],
   "source": [
    "# How to create a dict"
   ]
  },
  {
   "cell_type": "code",
   "execution_count": 2,
   "id": "1f74a16d",
   "metadata": {},
   "outputs": [
    {
     "name": "stdout",
     "output_type": "stream",
     "text": [
      "{'emp1': {'name': 'Afsan', 'id': 7408}}\n"
     ]
    }
   ],
   "source": [
    "# 1. If we already know the element \n",
    "\n",
    "employee_data = {'emp1':{\"name\": 'Afsan', 'id': 7408}}\n",
    "print(employee_data)"
   ]
  },
  {
   "cell_type": "code",
   "execution_count": 4,
   "id": "d4b63916",
   "metadata": {},
   "outputs": [
    {
     "name": "stdout",
     "output_type": "stream",
     "text": [
      "enter the dic{'emp1':{\"name\": 'Afsan', 'id': 7408}}\n",
      "{'emp1': {'name': 'Afsan', 'id': 7408}} <class 'dict'>\n"
     ]
    }
   ],
   "source": [
    "# 2. Eval - taking user input\n",
    "\n",
    "data = eval(input('enter the dic'))\n",
    "print(data, type(data))"
   ]
  },
  {
   "cell_type": "code",
   "execution_count": 5,
   "id": "3ce94474",
   "metadata": {},
   "outputs": [
    {
     "data": {
      "text/plain": [
       "{'emp1': 'afsan', 'emp2': 'sahana', 'emp3': 'milind'}"
      ]
     },
     "execution_count": 5,
     "metadata": {},
     "output_type": "execute_result"
    }
   ],
   "source": [
    "# 3. Type Casting\n",
    "\n",
    "a = [('emp1','afsan'),('emp2','sahana'),('emp3','milind')]\n",
    "dict(a)"
   ]
  },
  {
   "cell_type": "code",
   "execution_count": 4,
   "id": "c89e17a6",
   "metadata": {},
   "outputs": [
    {
     "data": {
      "text/plain": [
       "{'emp1': 'afsan', 'emp2': 'messi', 'emp3': 'ronaldo'}"
      ]
     },
     "execution_count": 4,
     "metadata": {},
     "output_type": "execute_result"
    }
   ],
   "source": [
    "# 4. Zip Function\n",
    "\n",
    "list1 = ['emp1','emp2','emp3','emp4']\n",
    "list2 = ['afsan','messi','ronaldo']\n",
    "\n",
    "dict(zip(list1,list2))"
   ]
  },
  {
   "cell_type": "code",
   "execution_count": 6,
   "id": "66289184",
   "metadata": {},
   "outputs": [
    {
     "data": {
      "text/plain": [
       "<zip at 0x2a221ff8800>"
      ]
     },
     "execution_count": 6,
     "metadata": {},
     "output_type": "execute_result"
    }
   ],
   "source": [
    "zip(list1,list2)"
   ]
  },
  {
   "cell_type": "code",
   "execution_count": 10,
   "id": "8ab68a75",
   "metadata": {},
   "outputs": [
    {
     "data": {
      "text/plain": [
       "[('emp1', 'afsan'), ('emp2', 'messi'), ('emp3', 'ronaldo')]"
      ]
     },
     "execution_count": 10,
     "metadata": {},
     "output_type": "execute_result"
    }
   ],
   "source": [
    "list(zip(list1,list2))"
   ]
  },
  {
   "cell_type": "code",
   "execution_count": 9,
   "id": "2fce58ff",
   "metadata": {},
   "outputs": [
    {
     "data": {
      "text/plain": [
       "(('emp1', 'afsan'), ('emp2', 'messi'), ('emp3', 'ronaldo'))"
      ]
     },
     "execution_count": 9,
     "metadata": {},
     "output_type": "execute_result"
    }
   ],
   "source": [
    "tuple(zip(list1,list2))"
   ]
  },
  {
   "cell_type": "code",
   "execution_count": 13,
   "id": "e8c1834c",
   "metadata": {},
   "outputs": [
    {
     "name": "stdout",
     "output_type": "stream",
     "text": [
      "['__class__', '__class_getitem__', '__contains__', '__delattr__', '__delitem__', '__dir__', '__doc__', '__eq__', '__format__', '__ge__', '__getattribute__', '__getitem__', '__gt__', '__hash__', '__init__', '__init_subclass__', '__ior__', '__iter__', '__le__', '__len__', '__lt__', '__ne__', '__new__', '__or__', '__reduce__', '__reduce_ex__', '__repr__', '__reversed__', '__ror__', '__setattr__', '__setitem__', '__sizeof__', '__str__', '__subclasshook__', 'clear', 'copy', 'fromkeys', 'get', 'items', 'keys', 'pop', 'popitem', 'setdefault', 'update', 'values']\n"
     ]
    }
   ],
   "source": [
    "print(dir(dict))"
   ]
  },
  {
   "cell_type": "code",
   "execution_count": 11,
   "id": "a95b45ec",
   "metadata": {},
   "outputs": [],
   "source": [
    "# Methods to aad and access the element from the dict"
   ]
  },
  {
   "cell_type": "code",
   "execution_count": 16,
   "id": "6685a839",
   "metadata": {},
   "outputs": [],
   "source": [
    "employee_data = {'emp1':{'name':'afsan', 'roll no':654, 'email':'abc@gmail.com'},\n",
    "                 'emp2':{'name':'rahul', 'roll no':123, 'email':'xyz@gmail.com'}}\n",
    "                 "
   ]
  },
  {
   "cell_type": "code",
   "execution_count": 17,
   "id": "ae854109",
   "metadata": {},
   "outputs": [
    {
     "data": {
      "text/plain": [
       "654"
      ]
     },
     "execution_count": 17,
     "metadata": {},
     "output_type": "execute_result"
    }
   ],
   "source": [
    "employee_data['emp1']['roll no']"
   ]
  },
  {
   "cell_type": "code",
   "execution_count": 18,
   "id": "c36b23a8",
   "metadata": {},
   "outputs": [
    {
     "data": {
      "text/plain": [
       "{'name': 'afsan', 'roll no': 654, 'email': 'abc@gmail.com'}"
      ]
     },
     "execution_count": 18,
     "metadata": {},
     "output_type": "execute_result"
    }
   ],
   "source": [
    "# 1. get (if the key is present it will return a value else default value or None )\n",
    "\n",
    "employee_data.get('emp1')   # key is present"
   ]
  },
  {
   "cell_type": "code",
   "execution_count": 21,
   "id": "1b0c39f8",
   "metadata": {},
   "outputs": [
    {
     "name": "stdout",
     "output_type": "stream",
     "text": [
      "None\n"
     ]
    }
   ],
   "source": [
    "print(employee_data.get('emp3'))    # key is not present it will return None"
   ]
  },
  {
   "cell_type": "code",
   "execution_count": 24,
   "id": "ed75fa5c",
   "metadata": {},
   "outputs": [
    {
     "data": {
      "text/plain": [
       "'key is not present'"
      ]
     },
     "execution_count": 24,
     "metadata": {},
     "output_type": "execute_result"
    }
   ],
   "source": [
    "employee_data.get('emp3', 'key is not present')"
   ]
  },
  {
   "cell_type": "code",
   "execution_count": 25,
   "id": "47e8960b",
   "metadata": {},
   "outputs": [
    {
     "data": {
      "text/plain": [
       "{'name': 'rahul', 'roll no': 123, 'email': 'xyz@gmail.com'}"
      ]
     },
     "execution_count": 25,
     "metadata": {},
     "output_type": "execute_result"
    }
   ],
   "source": [
    "employee_data.get('emp2', 'key is not present')"
   ]
  },
  {
   "cell_type": "code",
   "execution_count": 29,
   "id": "539e4bcf",
   "metadata": {},
   "outputs": [
    {
     "data": {
      "text/plain": [
       "123"
      ]
     },
     "execution_count": 29,
     "metadata": {},
     "output_type": "execute_result"
    }
   ],
   "source": [
    "employee_data.get('emp2').get('roll no')"
   ]
  },
  {
   "cell_type": "code",
   "execution_count": null,
   "id": "53affe59",
   "metadata": {},
   "outputs": [],
   "source": [
    "# 2. Set Default"
   ]
  },
  {
   "cell_type": "code",
   "execution_count": 1,
   "id": "899dd84c",
   "metadata": {},
   "outputs": [],
   "source": [
    "employee_data = {'emp1':{'name':'afsan', 'roll no':654, 'email':'abc@gmail.com'},\n",
    "                 'emp2':{'name':'rahul', 'roll no':123, 'email':'xyz@gmail.com'}}\n",
    "\n"
   ]
  },
  {
   "cell_type": "code",
   "execution_count": 4,
   "id": "c8448851",
   "metadata": {},
   "outputs": [
    {
     "data": {
      "text/plain": [
       "{'name': 'afsan', 'roll no': 654, 'email': 'abc@gmail.com'}"
      ]
     },
     "execution_count": 4,
     "metadata": {},
     "output_type": "execute_result"
    }
   ],
   "source": [
    "# When the key is present\n",
    "\n",
    "employee_data.setdefault('emp1')"
   ]
  },
  {
   "cell_type": "code",
   "execution_count": 24,
   "id": "60141212",
   "metadata": {},
   "outputs": [
    {
     "data": {
      "text/plain": [
       "{'emp1': {'name': 'afsan', 'roll no': 654, 'email': 'abc@gmail.com'},\n",
       " 'emp2': {'name': 'rahul', 'roll no': 123, 'email': 'xyz@gmail.com'},\n",
       " 'emp3': 'New Key'}"
      ]
     },
     "execution_count": 24,
     "metadata": {},
     "output_type": "execute_result"
    }
   ],
   "source": [
    "# When the key is not present\n",
    "\n",
    "employee_data.setdefault('emp3', 'New Key')\n",
    "employee_data"
   ]
  },
  {
   "cell_type": "code",
   "execution_count": null,
   "id": "71b1ae08",
   "metadata": {},
   "outputs": [],
   "source": [
    "# Update"
   ]
  },
  {
   "cell_type": "code",
   "execution_count": 5,
   "id": "9a47efc9",
   "metadata": {},
   "outputs": [
    {
     "data": {
      "text/plain": [
       "{'emp1': {'name': 'afsan', 'roll no': 654, 'email': 'abc@gmail.com'},\n",
       " 'emp2': {'name': 'rahul', 'roll no': 123, 'email': 'xyz@gmail.com'},\n",
       " 'emp3': {'name': 'abhi', 'roll no': 6543, 'email': 'efg@gmail.com'},\n",
       " 'emp4': {'name': 'john', 'roll no': 1233, 'email': 'ijk@gmail.com'}}"
      ]
     },
     "execution_count": 5,
     "metadata": {},
     "output_type": "execute_result"
    }
   ],
   "source": [
    "employee_data = {'emp1':{'name':'afsan', 'roll no':654, 'email':'abc@gmail.com'},\n",
    "                 'emp2':{'name':'rahul', 'roll no':123, 'email':'xyz@gmail.com'}}\n",
    "\n",
    "data = {'emp3':{'name':'abhi', 'roll no':6543, 'email':'efg@gmail.com'},\n",
    "        'emp4':{'name':'john', 'roll no':1233, 'email':'ijk@gmail.com'}}\n",
    "\n",
    "\n",
    "\n",
    "employee_data.update(data)\n",
    "employee_data"
   ]
  },
  {
   "cell_type": "code",
   "execution_count": null,
   "id": "0c359a8b",
   "metadata": {},
   "outputs": [],
   "source": [
    "# Methods to delete the items from the dict"
   ]
  },
  {
   "cell_type": "code",
   "execution_count": 8,
   "id": "3ec230a7",
   "metadata": {},
   "outputs": [
    {
     "name": "stdout",
     "output_type": "stream",
     "text": [
      "{'emp2': {'name': 'rahul', 'roll no': 123, 'email': 'xyz@gmail.com'}}\n"
     ]
    }
   ],
   "source": [
    "# 1. Pop\n",
    "\n",
    "# When the key is present\n",
    "\n",
    "data = {'emp1':{'name':'afsan', 'roll no':654, 'email':'abc@gmail.com'},\n",
    "        'emp2':{'name':'rahul', 'roll no':123, 'email':'xyz@gmail.com'}}\n",
    "\n",
    "data.pop('emp1')\n",
    "\n",
    "print(data)\n"
   ]
  },
  {
   "cell_type": "code",
   "execution_count": 10,
   "id": "f7b6eaeb",
   "metadata": {},
   "outputs": [
    {
     "ename": "KeyError",
     "evalue": "'emp3'",
     "output_type": "error",
     "traceback": [
      "\u001b[1;31m---------------------------------------------------------------------------\u001b[0m",
      "\u001b[1;31mKeyError\u001b[0m                                  Traceback (most recent call last)",
      "Input \u001b[1;32mIn [10]\u001b[0m, in \u001b[0;36m<cell line: 6>\u001b[1;34m()\u001b[0m\n\u001b[0;32m      1\u001b[0m \u001b[38;5;66;03m# When the key is not present\u001b[39;00m\n\u001b[0;32m      3\u001b[0m data \u001b[38;5;241m=\u001b[39m {\u001b[38;5;124m'\u001b[39m\u001b[38;5;124memp1\u001b[39m\u001b[38;5;124m'\u001b[39m:{\u001b[38;5;124m'\u001b[39m\u001b[38;5;124mname\u001b[39m\u001b[38;5;124m'\u001b[39m:\u001b[38;5;124m'\u001b[39m\u001b[38;5;124mafsan\u001b[39m\u001b[38;5;124m'\u001b[39m, \u001b[38;5;124m'\u001b[39m\u001b[38;5;124mroll no\u001b[39m\u001b[38;5;124m'\u001b[39m:\u001b[38;5;241m654\u001b[39m, \u001b[38;5;124m'\u001b[39m\u001b[38;5;124memail\u001b[39m\u001b[38;5;124m'\u001b[39m:\u001b[38;5;124m'\u001b[39m\u001b[38;5;124mabc@gmail.com\u001b[39m\u001b[38;5;124m'\u001b[39m},\n\u001b[0;32m      4\u001b[0m         \u001b[38;5;124m'\u001b[39m\u001b[38;5;124memp2\u001b[39m\u001b[38;5;124m'\u001b[39m:{\u001b[38;5;124m'\u001b[39m\u001b[38;5;124mname\u001b[39m\u001b[38;5;124m'\u001b[39m:\u001b[38;5;124m'\u001b[39m\u001b[38;5;124mrahul\u001b[39m\u001b[38;5;124m'\u001b[39m, \u001b[38;5;124m'\u001b[39m\u001b[38;5;124mroll no\u001b[39m\u001b[38;5;124m'\u001b[39m:\u001b[38;5;241m123\u001b[39m, \u001b[38;5;124m'\u001b[39m\u001b[38;5;124memail\u001b[39m\u001b[38;5;124m'\u001b[39m:\u001b[38;5;124m'\u001b[39m\u001b[38;5;124mxyz@gmail.com\u001b[39m\u001b[38;5;124m'\u001b[39m}}\n\u001b[1;32m----> 6\u001b[0m \u001b[43mdata\u001b[49m\u001b[38;5;241;43m.\u001b[39;49m\u001b[43mpop\u001b[49m\u001b[43m(\u001b[49m\u001b[38;5;124;43m'\u001b[39;49m\u001b[38;5;124;43memp3\u001b[39;49m\u001b[38;5;124;43m'\u001b[39;49m\u001b[43m)\u001b[49m\n\u001b[0;32m      7\u001b[0m \u001b[38;5;28mprint\u001b[39m(data)\n",
      "\u001b[1;31mKeyError\u001b[0m: 'emp3'"
     ]
    }
   ],
   "source": [
    "# When the key is not present(Show an error)\n",
    "\n",
    "data = {'emp1':{'name':'afsan', 'roll no':654, 'email':'abc@gmail.com'},\n",
    "        'emp2':{'name':'rahul', 'roll no':123, 'email':'xyz@gmail.com'}}\n",
    "\n",
    "data.pop('emp3')\n",
    "print(data)\n"
   ]
  },
  {
   "cell_type": "code",
   "execution_count": 1,
   "id": "49f3b20b",
   "metadata": {},
   "outputs": [
    {
     "name": "stdout",
     "output_type": "stream",
     "text": [
      "{'emp1': {'name': 'afsan', 'roll no': 654, 'email': 'abc@gmail.com'}}\n"
     ]
    }
   ],
   "source": [
    "# Pop Item\n",
    "\n",
    "data = {'emp1':{'name':'afsan', 'roll no':654, 'email':'abc@gmail.com'},\n",
    "        'emp2':{'name':'rahul', 'roll no':123, 'email':'xyz@gmail.com'}}\n",
    "\n",
    "\n",
    "data.popitem()    # Removes the last key\n",
    "print(data)"
   ]
  },
  {
   "cell_type": "code",
   "execution_count": 2,
   "id": "5c9ce6ae",
   "metadata": {},
   "outputs": [
    {
     "name": "stdout",
     "output_type": "stream",
     "text": [
      "{'emp1': {'name': 'afsan', 'roll no': 654}}\n"
     ]
    }
   ],
   "source": [
    "data['emp1'].popitem()\n",
    "print(data)"
   ]
  },
  {
   "cell_type": "code",
   "execution_count": null,
   "id": "a0780743",
   "metadata": {},
   "outputs": [],
   "source": []
  }
 ],
 "metadata": {
  "kernelspec": {
   "display_name": "Python 3 (ipykernel)",
   "language": "python",
   "name": "python3"
  },
  "language_info": {
   "codemirror_mode": {
    "name": "ipython",
    "version": 3
   },
   "file_extension": ".py",
   "mimetype": "text/x-python",
   "name": "python",
   "nbconvert_exporter": "python",
   "pygments_lexer": "ipython3",
   "version": "3.9.12"
  }
 },
 "nbformat": 4,
 "nbformat_minor": 5
}
