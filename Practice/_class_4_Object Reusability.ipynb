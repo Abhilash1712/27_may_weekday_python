{
 "cells": [
  {
   "cell_type": "markdown",
   "id": "c67e3325",
   "metadata": {},
   "source": [
    "#  Identity Operator"
   ]
  },
  {
   "cell_type": "code",
   "execution_count": 1,
   "id": "e81c7a0b",
   "metadata": {},
   "outputs": [
    {
     "name": "stdout",
     "output_type": "stream",
     "text": [
      "False\n"
     ]
    }
   ],
   "source": [
    "a = 10\n",
    "b = 20\n",
    "print( a is b)  #Idendity Operator"
   ]
  },
  {
   "cell_type": "code",
   "execution_count": 2,
   "id": "b2f76002",
   "metadata": {},
   "outputs": [
    {
     "name": "stdout",
     "output_type": "stream",
     "text": [
      "False\n"
     ]
    }
   ],
   "source": [
    "print(a==b)     #Comparision Operator"
   ]
  },
  {
   "cell_type": "markdown",
   "id": "7db92478",
   "metadata": {},
   "source": [
    "# Object Reusability\n",
    "\n",
    "- int = Range(-5 to 256)\n",
    "- float = Not Valid\n",
    "- string = a-z , A-Z , 0-9,_\n",
    "- Bool = Applicable\n",
    "- Complex = Not Valid"
   ]
  },
  {
   "cell_type": "code",
   "execution_count": 4,
   "id": "989547ef",
   "metadata": {},
   "outputs": [
    {
     "name": "stdout",
     "output_type": "stream",
     "text": [
      "1157493970832\n",
      "1157493970864\n",
      "False\n"
     ]
    }
   ],
   "source": [
    "a = 257\n",
    "b = 257\n",
    "\n",
    "print(id(a))\n",
    "print(id(b))\n",
    "print(a is b)"
   ]
  },
  {
   "cell_type": "code",
   "execution_count": 5,
   "id": "f9147910",
   "metadata": {},
   "outputs": [
    {
     "name": "stdout",
     "output_type": "stream",
     "text": [
      "1698130192784\n",
      "1698130192784\n",
      "True\n"
     ]
    }
   ],
   "source": [
    "a = 256\n",
    "b = 256\n",
    "print(id(a))\n",
    "print(id(b))\n",
    "print(a is b)"
   ]
  },
  {
   "cell_type": "code",
   "execution_count": 10,
   "id": "fa51193f",
   "metadata": {},
   "outputs": [
    {
     "name": "stdout",
     "output_type": "stream",
     "text": [
      "True\n"
     ]
    }
   ],
   "source": [
    "a = 10\n",
    "b = 20\n",
    "print(int is int)"
   ]
  },
  {
   "cell_type": "code",
   "execution_count": 11,
   "id": "e133a592",
   "metadata": {},
   "outputs": [
    {
     "name": "stdout",
     "output_type": "stream",
     "text": [
      "1698216307248\n",
      "1698216307248\n"
     ]
    }
   ],
   "source": [
    "a,b = 1000,1000\n",
    "print(id(a))\n",
    "print(id(b))"
   ]
  },
  {
   "cell_type": "code",
   "execution_count": 12,
   "id": "c4f17fa7",
   "metadata": {},
   "outputs": [
    {
     "name": "stdout",
     "output_type": "stream",
     "text": [
      "True\n"
     ]
    }
   ],
   "source": [
    "#same as \n",
    "a = 1000\n",
    "b = a\n",
    "print(a is b)"
   ]
  },
  {
   "cell_type": "markdown",
   "id": "0d515ad6",
   "metadata": {},
   "source": [
    "# Ternary Operators"
   ]
  },
  {
   "cell_type": "code",
   "execution_count": 13,
   "id": "4ed6ac1b",
   "metadata": {},
   "outputs": [
    {
     "name": "stdout",
     "output_type": "stream",
     "text": [
      "hey\n"
     ]
    }
   ],
   "source": [
    "print ('hey' if 11 > 10 else 'bye')"
   ]
  },
  {
   "cell_type": "code",
   "execution_count": 6,
   "id": "ee48441e",
   "metadata": {},
   "outputs": [
    {
     "name": "stdout",
     "output_type": "stream",
     "text": [
      "Hey\n"
     ]
    }
   ],
   "source": [
    "if 10<11:\n",
    "    print('Hey')\n",
    "else:\n",
    "    print('Bye')"
   ]
  },
  {
   "cell_type": "code",
   "execution_count": 8,
   "id": "a8140065",
   "metadata": {},
   "outputs": [
    {
     "name": "stdout",
     "output_type": "stream",
     "text": [
      "Messi\n"
     ]
    }
   ],
   "source": [
    "print('Messi' if 10<11 else 'Ronaldo' if id(10) is id(10)  else 'Neymar')"
   ]
  },
  {
   "cell_type": "code",
   "execution_count": 9,
   "id": "e270b75d",
   "metadata": {},
   "outputs": [
    {
     "name": "stdout",
     "output_type": "stream",
     "text": [
      "Neymar\n"
     ]
    }
   ],
   "source": [
    "print('Messi' if 13<11 else 'Ronaldo' if id(10) is id(10)  else 'Neymar')"
   ]
  },
  {
   "cell_type": "code",
   "execution_count": 10,
   "id": "7d2d3daf",
   "metadata": {},
   "outputs": [
    {
     "data": {
      "text/plain": [
       "False"
      ]
     },
     "execution_count": 10,
     "metadata": {},
     "output_type": "execute_result"
    }
   ],
   "source": [
    "id(10) is id(10)"
   ]
  },
  {
   "cell_type": "code",
   "execution_count": 7,
   "id": "898da4c2",
   "metadata": {},
   "outputs": [
    {
     "name": "stdout",
     "output_type": "stream",
     "text": [
      "2386345880144\n",
      "2386345880144\n"
     ]
    }
   ],
   "source": [
    "a = 10\n",
    "b = 10\n",
    "print(id(a))\n",
    "print(id(b))"
   ]
  },
  {
   "cell_type": "code",
   "execution_count": 16,
   "id": "587ceb95",
   "metadata": {},
   "outputs": [
    {
     "name": "stdout",
     "output_type": "stream",
     "text": [
      "Messi\n"
     ]
    }
   ],
   "source": [
    "print('Messi' if True==1 else 'Ronaldo' if True and False else 'Neymar')"
   ]
  },
  {
   "cell_type": "code",
   "execution_count": 17,
   "id": "59d2a478",
   "metadata": {},
   "outputs": [
    {
     "name": "stdout",
     "output_type": "stream",
     "text": [
      "Neymar\n"
     ]
    }
   ],
   "source": [
    "print('Messi' if True==0 else 'Ronaldo' if True and False else 'Neymar')"
   ]
  },
  {
   "cell_type": "code",
   "execution_count": 18,
   "id": "931c4fa7",
   "metadata": {},
   "outputs": [
    {
     "name": "stdout",
     "output_type": "stream",
     "text": [
      "Ronaldo\n"
     ]
    }
   ],
   "source": [
    "print('Messi' if True==0 else 'Ronaldo' if True or False else 'Neymar')"
   ]
  },
  {
   "cell_type": "code",
   "execution_count": 14,
   "id": "271c963a",
   "metadata": {},
   "outputs": [
    {
     "data": {
      "text/plain": [
       "False"
      ]
     },
     "execution_count": 14,
     "metadata": {},
     "output_type": "execute_result"
    }
   ],
   "source": [
    "True and False"
   ]
  },
  {
   "cell_type": "markdown",
   "id": "cb4c159f",
   "metadata": {},
   "source": [
    "# Representation"
   ]
  },
  {
   "cell_type": "code",
   "execution_count": 26,
   "id": "fa0e670f",
   "metadata": {},
   "outputs": [
    {
     "name": "stdout",
     "output_type": "stream",
     "text": [
      "0b100001110\n",
      "270\n"
     ]
    }
   ],
   "source": [
    "num = 270\n",
    "print(bin(num))      # Binary Representation\n",
    "print(0b100001110)\n"
   ]
  },
  {
   "cell_type": "code",
   "execution_count": 24,
   "id": "c0ec5588",
   "metadata": {},
   "outputs": [
    {
     "name": "stdout",
     "output_type": "stream",
     "text": [
      "0o416\n",
      "270\n"
     ]
    }
   ],
   "source": [
    "num = 270\n",
    "print(oct(num))   # Octal Representation  \n",
    "print(0o416)\n"
   ]
  },
  {
   "cell_type": "code",
   "execution_count": 27,
   "id": "fe60d499",
   "metadata": {},
   "outputs": [
    {
     "name": "stdout",
     "output_type": "stream",
     "text": [
      "0x10e\n",
      "270\n"
     ]
    }
   ],
   "source": [
    "num = 270\n",
    "print(hex(270))   # Hexadecimal Representation\n",
    "print(0x10e)"
   ]
  },
  {
   "cell_type": "code",
   "execution_count": null,
   "id": "6d17f178",
   "metadata": {},
   "outputs": [],
   "source": []
  }
 ],
 "metadata": {
  "kernelspec": {
   "display_name": "Python 3 (ipykernel)",
   "language": "python",
   "name": "python3"
  },
  "language_info": {
   "codemirror_mode": {
    "name": "ipython",
    "version": 3
   },
   "file_extension": ".py",
   "mimetype": "text/x-python",
   "name": "python",
   "nbconvert_exporter": "python",
   "pygments_lexer": "ipython3",
   "version": "3.9.12"
  }
 },
 "nbformat": 4,
 "nbformat_minor": 5
}
