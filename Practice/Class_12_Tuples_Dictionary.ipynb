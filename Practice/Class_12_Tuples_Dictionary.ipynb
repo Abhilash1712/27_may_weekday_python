{
 "cells": [
  {
   "cell_type": "code",
   "execution_count": 5,
   "id": "bf362120",
   "metadata": {},
   "outputs": [
    {
     "name": "stdout",
     "output_type": "stream",
     "text": [
      "[6, 4]\n"
     ]
    }
   ],
   "source": [
    "a = [1,6,4,3,7,9]\n",
    "b = []\n",
    "\n",
    "for i in a:\n",
    "    if i%2 == 0:\n",
    "        b.append(i)\n",
    "\n",
    "print(b)        "
   ]
  },
  {
   "cell_type": "code",
   "execution_count": 8,
   "id": "6a1820d9",
   "metadata": {},
   "outputs": [
    {
     "name": "stdout",
     "output_type": "stream",
     "text": [
      "[6, 4]\n"
     ]
    }
   ],
   "source": [
    "a = [1,6,4,3,7,9]\n",
    "b = [i for i in a if i%2==0]   # List Comprehension\n",
    "print(b)      "
   ]
  },
  {
   "cell_type": "markdown",
   "id": "5b772fda",
   "metadata": {},
   "source": [
    "### Tuple"
   ]
  },
  {
   "cell_type": "code",
   "execution_count": 10,
   "id": "c1a0130c",
   "metadata": {},
   "outputs": [
    {
     "name": "stdout",
     "output_type": "stream",
     "text": [
      "(1, 2, 3, 4) <class 'tuple'>\n"
     ]
    }
   ],
   "source": [
    "a = (1,2,3,4)\n",
    "print(a, type(a))"
   ]
  },
  {
   "cell_type": "code",
   "execution_count": 11,
   "id": "6d607390",
   "metadata": {},
   "outputs": [
    {
     "name": "stdout",
     "output_type": "stream",
     "text": [
      "(1, 2, 3, 4) <class 'tuple'>\n"
     ]
    }
   ],
   "source": [
    "a = 1,2,3,4\n",
    "print(a, type(a))"
   ]
  },
  {
   "cell_type": "code",
   "execution_count": 12,
   "id": "cc8abf77",
   "metadata": {},
   "outputs": [
    {
     "name": "stdout",
     "output_type": "stream",
     "text": [
      "('apple', 'mango', 'banana')\n"
     ]
    }
   ],
   "source": [
    "# Creating a Tuple\n",
    "\n",
    "# 1. If we already know the element\n",
    "\n",
    "tup1 = ('apple','mango','banana')\n",
    "print(tup1)"
   ]
  },
  {
   "cell_type": "code",
   "execution_count": 13,
   "id": "3a8115d0",
   "metadata": {},
   "outputs": [
    {
     "name": "stdout",
     "output_type": "stream",
     "text": [
      "Enter the Tuple 1,2,4,5,68,9\n",
      "(1, 2, 4, 5, 68, 9) <class 'tuple'>\n"
     ]
    }
   ],
   "source": [
    "# 2. taking user input with eval\n",
    "\n",
    "data = eval(input('Enter the Tuple'))\n",
    "print(data, type(data))\n"
   ]
  },
  {
   "cell_type": "code",
   "execution_count": 16,
   "id": "37fcca07",
   "metadata": {},
   "outputs": [
    {
     "name": "stdout",
     "output_type": "stream",
     "text": [
      "('A', 'b', 'h', 'i', 'l', 'a', 's', 'h')\n"
     ]
    }
   ],
   "source": [
    "# 3. Type Casting\n",
    "\n",
    "a = 'Abhilash'\n",
    "\n",
    "print(tuple(a))"
   ]
  },
  {
   "cell_type": "code",
   "execution_count": null,
   "id": "11c9139e",
   "metadata": {},
   "outputs": [],
   "source": [
    "# Properties of Tuple"
   ]
  },
  {
   "cell_type": "code",
   "execution_count": 17,
   "id": "b45133fb",
   "metadata": {},
   "outputs": [
    {
     "name": "stdout",
     "output_type": "stream",
     "text": [
      "(1, 1.2, 'afsan', [1, 2, 3], None, True, 1, 0, 0, 1, 1, 1) <class 'tuple'>\n"
     ]
    }
   ],
   "source": [
    "a = (1,1.2,'afsan',[1,2,3],None,True,1,0,0,1,1,1)\n",
    "print(a, type(a))"
   ]
  },
  {
   "cell_type": "code",
   "execution_count": 18,
   "id": "cce8ddc4",
   "metadata": {},
   "outputs": [
    {
     "data": {
      "text/plain": [
       "1"
      ]
     },
     "execution_count": 18,
     "metadata": {},
     "output_type": "execute_result"
    }
   ],
   "source": [
    "# Indexing\n",
    "\n",
    "a[0]"
   ]
  },
  {
   "cell_type": "code",
   "execution_count": 19,
   "id": "66ca58b5",
   "metadata": {},
   "outputs": [
    {
     "data": {
      "text/plain": [
       "True"
      ]
     },
     "execution_count": 19,
     "metadata": {},
     "output_type": "execute_result"
    }
   ],
   "source": [
    "a[-7]"
   ]
  },
  {
   "cell_type": "code",
   "execution_count": 20,
   "id": "f84cd98f",
   "metadata": {},
   "outputs": [
    {
     "data": {
      "text/plain": [
       "(1, 1, 1, 0, 0, 1, True, None, [1, 2, 3], 'afsan', 1.2, 1)"
      ]
     },
     "execution_count": 20,
     "metadata": {},
     "output_type": "execute_result"
    }
   ],
   "source": [
    "# Slicing\n",
    "\n",
    "a[::-1]"
   ]
  },
  {
   "cell_type": "code",
   "execution_count": 21,
   "id": "309ff32b",
   "metadata": {},
   "outputs": [
    {
     "data": {
      "text/plain": [
       "()"
      ]
     },
     "execution_count": 21,
     "metadata": {},
     "output_type": "execute_result"
    }
   ],
   "source": [
    "a[0:6:-2]"
   ]
  },
  {
   "cell_type": "code",
   "execution_count": 22,
   "id": "b89cc4e4",
   "metadata": {},
   "outputs": [
    {
     "name": "stdout",
     "output_type": "stream",
     "text": [
      "(1, 2, 3, 4, 10, 20, 30)\n"
     ]
    }
   ],
   "source": [
    "# Concatination\n",
    "\n",
    "a = (1,2,3,4)\n",
    "b = (10,20,30)\n",
    "\n",
    "print(a+b)"
   ]
  },
  {
   "cell_type": "code",
   "execution_count": 23,
   "id": "9b4866d1",
   "metadata": {},
   "outputs": [
    {
     "name": "stdout",
     "output_type": "stream",
     "text": [
      "(10, 20, 30, 10, 20, 30, 10, 20, 30, 10, 20, 30, 10, 20, 30, 10, 20, 30, 10, 20, 30, 10, 20, 30, 10, 20, 30, 10, 20, 30)\n"
     ]
    }
   ],
   "source": [
    "# Repetition\n",
    "\n",
    "a = (10,20,30)\n",
    "b = 10\n",
    "\n",
    "print(a*b)"
   ]
  },
  {
   "cell_type": "code",
   "execution_count": 27,
   "id": "a1cac0e7",
   "metadata": {},
   "outputs": [
    {
     "name": "stdout",
     "output_type": "stream",
     "text": [
      "1988785599648\n",
      "1988785081056\n",
      "False\n"
     ]
    }
   ],
   "source": [
    "# Identity Operator\n",
    "\n",
    "a = (1,2,3,4)\n",
    "print(id(a))\n",
    "\n",
    "b = (1,2,3,4)\n",
    "print(id(b))\n",
    "\n",
    "print(a is b)"
   ]
  },
  {
   "cell_type": "code",
   "execution_count": 25,
   "id": "d9350308",
   "metadata": {},
   "outputs": [
    {
     "name": "stdout",
     "output_type": "stream",
     "text": [
      "True\n"
     ]
    }
   ],
   "source": [
    "# Membership Op\n",
    "\n",
    "a = (1,1.2,'afsan',[1,2,3],None,True,1,0,0,1,1,1)\n",
    "\n",
    "print('afsan' in a)\n"
   ]
  },
  {
   "cell_type": "code",
   "execution_count": 26,
   "id": "d9ba668f",
   "metadata": {},
   "outputs": [
    {
     "ename": "TypeError",
     "evalue": "'tuple' object does not support item assignment",
     "output_type": "error",
     "traceback": [
      "\u001b[1;31m---------------------------------------------------------------------------\u001b[0m",
      "\u001b[1;31mTypeError\u001b[0m                                 Traceback (most recent call last)",
      "Input \u001b[1;32mIn [26]\u001b[0m, in \u001b[0;36m<cell line: 4>\u001b[1;34m()\u001b[0m\n\u001b[0;32m      1\u001b[0m \u001b[38;5;66;03m# Immutable\u001b[39;00m\n\u001b[0;32m      3\u001b[0m a \u001b[38;5;241m=\u001b[39m (\u001b[38;5;241m10\u001b[39m,\u001b[38;5;241m20\u001b[39m,\u001b[38;5;241m30\u001b[39m)\n\u001b[1;32m----> 4\u001b[0m a[\u001b[38;5;241m0\u001b[39m] \u001b[38;5;241m=\u001b[39m \u001b[38;5;241m50\u001b[39m\n\u001b[0;32m      5\u001b[0m \u001b[38;5;28mprint\u001b[39m(a)\n",
      "\u001b[1;31mTypeError\u001b[0m: 'tuple' object does not support item assignment"
     ]
    }
   ],
   "source": [
    "# Immutable\n",
    "\n",
    "a = (10,20,30)\n",
    "a[0] = 50\n",
    "print(a)"
   ]
  },
  {
   "cell_type": "code",
   "execution_count": 28,
   "id": "05896b81",
   "metadata": {},
   "outputs": [
    {
     "name": "stdout",
     "output_type": "stream",
     "text": [
      "['__add__', '__class__', '__class_getitem__', '__contains__', '__delattr__', '__dir__', '__doc__', '__eq__', '__format__', '__ge__', '__getattribute__', '__getitem__', '__getnewargs__', '__gt__', '__hash__', '__init__', '__init_subclass__', '__iter__', '__le__', '__len__', '__lt__', '__mul__', '__ne__', '__new__', '__reduce__', '__reduce_ex__', '__repr__', '__rmul__', '__setattr__', '__sizeof__', '__str__', '__subclasshook__', 'count', 'index']\n"
     ]
    }
   ],
   "source": [
    "# Methods in Tuple\n",
    "\n",
    "print(dir(tuple))"
   ]
  },
  {
   "cell_type": "code",
   "execution_count": 31,
   "id": "4f0e4d6e",
   "metadata": {},
   "outputs": [
    {
     "name": "stdout",
     "output_type": "stream",
     "text": [
      "2\n"
     ]
    }
   ],
   "source": [
    "# Count\n",
    "\n",
    "a = (1,2,3,4,1,1,2,3,4,2,)\n",
    "print(a.count(3))"
   ]
  },
  {
   "cell_type": "code",
   "execution_count": 35,
   "id": "42a54565",
   "metadata": {},
   "outputs": [
    {
     "name": "stdout",
     "output_type": "stream",
     "text": [
      "3\n"
     ]
    }
   ],
   "source": [
    "# Index\n",
    "\n",
    "a = (1,2,3,4,1,1,2,3,4,2,)\n",
    "print(a.index(4))"
   ]
  },
  {
   "cell_type": "code",
   "execution_count": 38,
   "id": "823f894c",
   "metadata": {},
   "outputs": [
    {
     "name": "stdout",
     "output_type": "stream",
     "text": [
      "2\n",
      "4\n"
     ]
    }
   ],
   "source": [
    "a = \"learnbay data Science tensorlfow\"  # Find the no. of 't' using find and index method\n",
    "\n",
    "print(a.count('t'))\n",
    "print(a.count('a'))\n",
    "\n"
   ]
  },
  {
   "cell_type": "code",
   "execution_count": 47,
   "id": "44a352f3",
   "metadata": {},
   "outputs": [
    {
     "name": "stdout",
     "output_type": "stream",
     "text": [
      "3\n",
      "5\n",
      "6\n",
      "7\n",
      "8\n"
     ]
    }
   ],
   "source": [
    "a = (1,2,3,4,5,4,4,4,4)  # Find all the occurance(index) of all the 4\n",
    "\n",
    "index = 0\n",
    "for i in a:\n",
    "    if i == 4:\n",
    "        print(index)\n",
    "    index += 1  \n",
    "    "
   ]
  },
  {
   "cell_type": "code",
   "execution_count": 49,
   "id": "a9137e4a",
   "metadata": {},
   "outputs": [
    {
     "name": "stdout",
     "output_type": "stream",
     "text": [
      "5\n"
     ]
    }
   ],
   "source": [
    "# How to find the 2nd occurance of 4\n",
    "\n",
    "a = (1,2,3,4,5,4,4,4,4) \n",
    "\n",
    "index = 0\n",
    "data = []\n",
    "for i in a:\n",
    "    if i == 4:\n",
    "        data.append(index)\n",
    "    index += 1 \n",
    "\n",
    "print(data[1])\n"
   ]
  },
  {
   "cell_type": "code",
   "execution_count": null,
   "id": "9e23e683",
   "metadata": {},
   "outputs": [],
   "source": [
    "# Tuple Packing and Unpacking"
   ]
  },
  {
   "cell_type": "code",
   "execution_count": 51,
   "id": "1d4b8c26",
   "metadata": {},
   "outputs": [
    {
     "name": "stdout",
     "output_type": "stream",
     "text": [
      "(1, 2, 3, 4, 5) <class 'tuple'>\n"
     ]
    }
   ],
   "source": [
    "# Tuple Packing\n",
    "\n",
    "a = 1,2,3,4,5\n",
    "print(a, type(a))"
   ]
  },
  {
   "cell_type": "code",
   "execution_count": 53,
   "id": "4d6d2a27",
   "metadata": {},
   "outputs": [
    {
     "name": "stdout",
     "output_type": "stream",
     "text": [
      "(1,) <class 'tuple'>\n"
     ]
    }
   ],
   "source": [
    "a = 1,              # comma is req.\n",
    "print(a, type(a))"
   ]
  },
  {
   "cell_type": "code",
   "execution_count": 56,
   "id": "f1ba8fbd",
   "metadata": {},
   "outputs": [
    {
     "name": "stdout",
     "output_type": "stream",
     "text": [
      "3 <class 'int'>\n",
      "abhi <class 'str'>\n"
     ]
    }
   ],
   "source": [
    "# Tuple Unpacking\n",
    "\n",
    "a,b,c,d,e = ('abhi',2,3,4,5)     # The value variable on LHS == RHS\n",
    "print(c,type(c)) \n",
    "print(a,type(a))            # individual stored types will vary according to the input value"
   ]
  },
  {
   "cell_type": "markdown",
   "id": "920d1345",
   "metadata": {},
   "source": [
    "## Dictionary"
   ]
  },
  {
   "cell_type": "code",
   "execution_count": 58,
   "id": "438629bb",
   "metadata": {},
   "outputs": [
    {
     "name": "stdout",
     "output_type": "stream",
     "text": [
      "abhi\n",
      "28\n",
      "60000\n"
     ]
    }
   ],
   "source": [
    "a = ['abhi',28,60000]\n",
    "print(a[0])  #name\n",
    "print(a[1])  #Age\n",
    "print(a[2])  #salary"
   ]
  },
  {
   "cell_type": "code",
   "execution_count": 61,
   "id": "58d3b983",
   "metadata": {},
   "outputs": [
    {
     "name": "stdout",
     "output_type": "stream",
     "text": [
      "name is abhi\n",
      "age is 25\n",
      "salary is 25\n"
     ]
    }
   ],
   "source": [
    "# dictionary\n",
    "\n",
    "a = {'name':'abhi','age':25,'salary':25}\n",
    "\n",
    "print(f'name is {a[\"name\"]}')\n",
    "print(f'age is {a[\"age\"]}')\n",
    "print(f'salary is {a[\"salary\"]}')      "
   ]
  },
  {
   "cell_type": "code",
   "execution_count": 62,
   "id": "6531893f",
   "metadata": {},
   "outputs": [
    {
     "name": "stdout",
     "output_type": "stream",
     "text": [
      "name is abhi\n",
      "age is 25\n",
      "salary is 25\n"
     ]
    }
   ],
   "source": [
    "a = {'salary':25,'age':25,'name':'abhi'}\n",
    "\n",
    "print(f'name is {a[\"name\"]}')\n",
    "print(f'age is {a[\"age\"]}')\n",
    "print(f'salary is {a[\"salary\"]}')      "
   ]
  },
  {
   "cell_type": "code",
   "execution_count": 63,
   "id": "c2dd7a9a",
   "metadata": {},
   "outputs": [
    {
     "name": "stdout",
     "output_type": "stream",
     "text": [
      "{'Name': 'Abhi', 'Age': 28}\n"
     ]
    }
   ],
   "source": [
    "# Properties of dictionary\n",
    "\n",
    "\n",
    "data = {'Name':'Abhi','Age': 28}\n",
    "print(data)"
   ]
  },
  {
   "cell_type": "code",
   "execution_count": 65,
   "id": "57834d09",
   "metadata": {},
   "outputs": [
    {
     "name": "stdout",
     "output_type": "stream",
     "text": [
      "{'Name': 'Rahul', 'Age': 28}\n"
     ]
    }
   ],
   "source": [
    "data = {'Name':'Abhi','Age': 28 ,'Name':'Rahul'}\n",
    "\n",
    "print(data)      # Key can't be dublicated whereas value can be"
   ]
  },
  {
   "cell_type": "code",
   "execution_count": 67,
   "id": "09e97c8f",
   "metadata": {},
   "outputs": [
    {
     "name": "stdout",
     "output_type": "stream",
     "text": [
      "{'Name': 'Abhi', 'Age': 28, 'Salary': 28}\n"
     ]
    }
   ],
   "source": [
    "# Value can be dublicated\n",
    "\n",
    "data = {'Name':'Abhi','Age': 28 ,'Salary':28}\n",
    "\n",
    "print(data)  "
   ]
  },
  {
   "cell_type": "code",
   "execution_count": 69,
   "id": "2130a06f",
   "metadata": {},
   "outputs": [
    {
     "name": "stdout",
     "output_type": "stream",
     "text": [
      "{'Name': 'Abhi', (1, 2, 3): 24, 1: 24}\n"
     ]
    }
   ],
   "source": [
    "# Key should not be mutable\n",
    "\n",
    "data = {'Name':'Abhi',(1,2,3):24 ,1:24}\n",
    "\n",
    "print(data)  "
   ]
  },
  {
   "cell_type": "code",
   "execution_count": 73,
   "id": "96c41ae6",
   "metadata": {},
   "outputs": [
    {
     "name": "stdout",
     "output_type": "stream",
     "text": [
      "{'Name': 'Abhi', (1, 2, 3): 24, 1: (1, 2, 3)}\n"
     ]
    }
   ],
   "source": [
    "# value can be any data type\n",
    "\n",
    "data = {'Name':'Abhi',(1,2,3):24 ,1:(1,2,3)}\n",
    "\n",
    "print(data)"
   ]
  },
  {
   "cell_type": "code",
   "execution_count": 75,
   "id": "f8c49a4e",
   "metadata": {},
   "outputs": [
    {
     "name": "stdout",
     "output_type": "stream",
     "text": [
      "False\n",
      "1988786064960\n",
      "1988786063872\n"
     ]
    }
   ],
   "source": [
    "# Idendity is applicable\n",
    "\n",
    "data = {'Name':'Abhi',(1,2,3):24 ,1:(1,2,3)}\n",
    "data2 = {'Name':'Abhi',(1,2,3):24 ,1:(1,2,3)}\n",
    "\n",
    "print(data is data2)\n",
    "print(id(data))\n",
    "print(id(data2))"
   ]
  },
  {
   "cell_type": "code",
   "execution_count": 77,
   "id": "42e8f5b2",
   "metadata": {},
   "outputs": [
    {
     "name": "stdout",
     "output_type": "stream",
     "text": [
      "False\n",
      "True\n"
     ]
    }
   ],
   "source": [
    "# Membership OP is allicable but only on key\n",
    "\n",
    "data = {'Name':'Abhi',(1,2,3):24 ,1:(1,2,3)}\n",
    "\n",
    "print('Abhi' in data)\n",
    "\n",
    "print((1,2,3) in data)"
   ]
  },
  {
   "cell_type": "code",
   "execution_count": 79,
   "id": "7ee08f98",
   "metadata": {},
   "outputs": [
    {
     "name": "stdout",
     "output_type": "stream",
     "text": [
      "{'Name': 'XYZ', (1, 2, 3): 24, 1: (1, 2, 3)}\n"
     ]
    }
   ],
   "source": [
    "# Mutable\n",
    "\n",
    "data = {'Name':'Abhi',(1,2,3):24 ,1:(1,2,3)}\n",
    "\n",
    "data['Name'] = 'XYZ'\n",
    "\n",
    "print(data)"
   ]
  },
  {
   "cell_type": "code",
   "execution_count": null,
   "id": "8bbd2356",
   "metadata": {},
   "outputs": [],
   "source": []
  }
 ],
 "metadata": {
  "kernelspec": {
   "display_name": "Python 3 (ipykernel)",
   "language": "python",
   "name": "python3"
  },
  "language_info": {
   "codemirror_mode": {
    "name": "ipython",
    "version": 3
   },
   "file_extension": ".py",
   "mimetype": "text/x-python",
   "name": "python",
   "nbconvert_exporter": "python",
   "pygments_lexer": "ipython3",
   "version": "3.9.12"
  }
 },
 "nbformat": 4,
 "nbformat_minor": 5
}
