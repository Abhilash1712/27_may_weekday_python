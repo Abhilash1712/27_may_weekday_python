{
 "cells": [
  {
   "cell_type": "code",
   "execution_count": null,
   "id": "6edf7ea4",
   "metadata": {},
   "outputs": [],
   "source": [
    "'''\n",
    ".       - Any Character Except New Line\n",
    "\\d      - Digit (0-9)\n",
    "\\D      - Not a Digit (0-9)\n",
    "\\w      - Word Character (a-z, A-Z, 0-9, _)\n",
    "\\W      - Not a Word Character\n",
    "\\s      - Whitespace (space, tab, newline)\n",
    "\\S      - Not Whitespace (space, tab, newline)\n",
    "\n",
    "\\b      - Word Boundary\n",
    "\\B      - Not a Word Boundary\n",
    "^       - Beginning of a String\n",
    "$       - End of a String\n",
    "\n",
    "[]      - Matches Characters in brackets\n",
    "[^ ]    - Matches Characters NOT in brackets\n",
    "|       - Either Or\n",
    "( )     - Group\n",
    "\n",
    "Quantifiers:\n",
    "*       - 0 or More\n",
    "+       - 1 or More\n",
    "?       - 0 or One\n",
    "{3}     - Exact Number\n",
    "{3,4}   - Range of Numbers (Minimum, Maximum)\n",
    "\n",
    "\n",
    "#### Sample Regexs ####\n",
    "\n",
    "[a-zA-Z0-9_.+-]+@[a-zA-Z0-9-]+\\.[a-zA-Z0-9-.]+\n",
    "\n",
    "'''"
   ]
  },
  {
   "cell_type": "code",
   "execution_count": 4,
   "id": "7eb84808",
   "metadata": {},
   "outputs": [],
   "source": [
    "text_to_search = '''\n",
    "abcdefghijklmnopqurtuvwxyz\n",
    "ABCDEFGHIJKLMNOPQRSTUVWXYZ\\s\n",
    "321-555-4321\n",
    "1234567890\n",
    "Ha HaHa\n",
    "MetaCharacters (Need to be escaped):\n",
    ". ^ $ * + ? { } [ ] \\ | ( )\n",
    "khanafsaan11.com\n",
    "321-555-4321\n",
    "123.555.123\n",
    "123*555*-1234\n",
    "123.555.123456\n",
    "800-555-1234\n",
    "900-555-1234\n",
    "Mr. Schafer\n",
    "Mr Smith\n",
    "Ms Davis\n",
    "Mrs. Robinson\n",
    "Mr. T\n",
    "Mr_hello\n",
    "'''\n"
   ]
  },
  {
   "cell_type": "code",
   "execution_count": 2,
   "id": "281ba359",
   "metadata": {},
   "outputs": [],
   "source": [
    "import re"
   ]
  },
  {
   "cell_type": "code",
   "execution_count": null,
   "id": "1e0430d4",
   "metadata": {},
   "outputs": [],
   "source": [
    "# extract all the phone number with the pattern nnn.nnn.nnnn"
   ]
  },
  {
   "cell_type": "code",
   "execution_count": 9,
   "id": "59639d3b",
   "metadata": {},
   "outputs": [
    {
     "name": "stdout",
     "output_type": "stream",
     "text": [
      "<re.Match object; span=(57, 69), match='321-555-4321'>\n",
      "<re.Match object; span=(171, 183), match='321-555-4321'>\n",
      "<re.Match object; span=(184, 196), match='123.555.1234'>\n",
      "<re.Match object; span=(211, 223), match='123.555.1234'>\n",
      "<re.Match object; span=(224, 236), match='800-555-1234'>\n",
      "<re.Match object; span=(237, 249), match='900-555-1234'>\n"
     ]
    }
   ],
   "source": [
    "search = re.compile(r'\\d\\d\\d.\\d\\d\\d.\\d\\d\\d\\d')\n",
    "data = search.finditer(text_to_search)\n",
    "\n",
    "for match in data:\n",
    "    print(match)"
   ]
  },
  {
   "cell_type": "code",
   "execution_count": 10,
   "id": "e00edba6",
   "metadata": {},
   "outputs": [
    {
     "name": "stdout",
     "output_type": "stream",
     "text": [
      "<re.Match object; span=(184, 196), match='123.555.1234'>\n",
      "<re.Match object; span=(211, 223), match='123.555.1234'>\n"
     ]
    }
   ],
   "source": [
    "search = re.compile(r'\\d\\d\\d\\.\\d\\d\\d\\.\\d\\d\\d\\d')\n",
    "data = search.finditer(text_to_search)\n",
    "\n",
    "for match in data:\n",
    "    print(match)"
   ]
  },
  {
   "cell_type": "code",
   "execution_count": 12,
   "id": "e64180cf",
   "metadata": {},
   "outputs": [
    {
     "name": "stdout",
     "output_type": "stream",
     "text": [
      "<re.Match object; span=(184, 196), match='123.555.1234'>\n",
      "<re.Match object; span=(211, 223), match='123.555.1234'>\n"
     ]
    }
   ],
   "source": [
    "# {} - Exact Number\n",
    "\n",
    "search = re.compile(r'\\d{3}\\.\\d{3}\\.\\d{4}')\n",
    "data = search.finditer(text_to_search)\n",
    "\n",
    "for match in data:\n",
    "    print(match)"
   ]
  },
  {
   "cell_type": "code",
   "execution_count": 5,
   "id": "518127db",
   "metadata": {},
   "outputs": [
    {
     "name": "stdout",
     "output_type": "stream",
     "text": [
      "<re.Match object; span=(184, 195), match='123.555.123'>\n",
      "<re.Match object; span=(210, 224), match='123.555.123456'>\n"
     ]
    }
   ],
   "source": [
    "# {3,6}-range --> min and max\n",
    "\n",
    "search = re.compile(r'\\d{3}\\.\\d{3}\\.\\d{3,6}')\n",
    "data = search.finditer(text_to_search)\n",
    "\n",
    "for match in data:\n",
    "    print(match)"
   ]
  },
  {
   "cell_type": "code",
   "execution_count": 6,
   "id": "fdca2a98",
   "metadata": {},
   "outputs": [
    {
     "name": "stdout",
     "output_type": "stream",
     "text": [
      "<re.Match object; span=(1, 2), match='a'>\n",
      "<re.Match object; span=(2, 3), match='b'>\n",
      "<re.Match object; span=(82, 83), match='a'>\n",
      "<re.Match object; span=(85, 86), match='a'>\n",
      "<re.Match object; span=(87, 88), match='a'>\n",
      "<re.Match object; span=(92, 93), match='a'>\n",
      "<re.Match object; span=(95, 96), match='a'>\n",
      "<re.Match object; span=(97, 98), match='a'>\n",
      "<re.Match object; span=(113, 114), match='b'>\n",
      "<re.Match object; span=(119, 120), match='a'>\n",
      "<re.Match object; span=(156, 157), match='a'>\n",
      "<re.Match object; span=(158, 159), match='a'>\n",
      "<re.Match object; span=(161, 162), match='a'>\n",
      "<re.Match object; span=(162, 163), match='a'>\n",
      "<re.Match object; span=(258, 259), match='a'>\n",
      "<re.Match object; span=(276, 277), match='a'>\n",
      "<re.Match object; span=(288, 289), match='b'>\n"
     ]
    }
   ],
   "source": [
    "# [] - Matches character in brackets\n",
    "\n",
    "search = re.compile(r'[ab]')\n",
    "data = search.finditer(text_to_search)\n",
    "\n",
    "for match in data:\n",
    "    print(match)"
   ]
  },
  {
   "cell_type": "code",
   "execution_count": 7,
   "id": "46766d3c",
   "metadata": {},
   "outputs": [
    {
     "name": "stdout",
     "output_type": "stream",
     "text": [
      "<re.Match object; span=(1, 3), match='ab'>\n"
     ]
    }
   ],
   "source": [
    "search = re.compile(r'ab')\n",
    "data = search.finditer(text_to_search)\n",
    "\n",
    "for match in data:\n",
    "    print(match)"
   ]
  },
  {
   "cell_type": "code",
   "execution_count": 10,
   "id": "cf39ae37",
   "metadata": {},
   "outputs": [
    {
     "name": "stdout",
     "output_type": "stream",
     "text": [
      "<re.Match object; span=(1, 2), match='a'>\n",
      "<re.Match object; span=(3, 4), match='c'>\n",
      "<re.Match object; span=(20, 21), match='t'>\n",
      "<re.Match object; span=(82, 83), match='a'>\n",
      "<re.Match object; span=(85, 86), match='a'>\n",
      "<re.Match object; span=(87, 88), match='a'>\n",
      "<re.Match object; span=(91, 92), match='t'>\n",
      "<re.Match object; span=(92, 93), match='a'>\n",
      "<re.Match object; span=(95, 96), match='a'>\n",
      "<re.Match object; span=(97, 98), match='a'>\n",
      "<re.Match object; span=(98, 99), match='c'>\n",
      "<re.Match object; span=(99, 100), match='t'>\n",
      "<re.Match object; span=(110, 111), match='t'>\n",
      "<re.Match object; span=(118, 119), match='c'>\n",
      "<re.Match object; span=(119, 120), match='a'>\n",
      "<re.Match object; span=(156, 157), match='a'>\n",
      "<re.Match object; span=(158, 159), match='a'>\n",
      "<re.Match object; span=(161, 162), match='a'>\n",
      "<re.Match object; span=(162, 163), match='a'>\n",
      "<re.Match object; span=(167, 168), match='c'>\n",
      "<re.Match object; span=(256, 257), match='c'>\n",
      "<re.Match object; span=(258, 259), match='a'>\n",
      "<re.Match object; span=(269, 270), match='t'>\n",
      "<re.Match object; span=(276, 277), match='a'>\n"
     ]
    }
   ],
   "source": [
    "search = re.compile(r'[cat]')\n",
    "data = search.finditer(text_to_search)\n",
    "\n",
    "for match in data:\n",
    "    print(match)"
   ]
  },
  {
   "cell_type": "code",
   "execution_count": 8,
   "id": "66413e4e",
   "metadata": {},
   "outputs": [],
   "source": [
    "# extract all the numbers with the pattern nnn.nnn.nnnn/nnn-nnn-nnnn"
   ]
  },
  {
   "cell_type": "code",
   "execution_count": 11,
   "id": "8d69d78c",
   "metadata": {},
   "outputs": [
    {
     "name": "stdout",
     "output_type": "stream",
     "text": [
      "<re.Match object; span=(57, 69), match='321-555-4321'>\n",
      "<re.Match object; span=(171, 183), match='321-555-4321'>\n",
      "<re.Match object; span=(210, 222), match='123.555.1234'>\n",
      "<re.Match object; span=(225, 237), match='800-555-1234'>\n",
      "<re.Match object; span=(238, 250), match='900-555-1234'>\n"
     ]
    }
   ],
   "source": [
    "search = re.compile(r'\\d{3}[.-]\\d{3}[.-]\\d{4}')\n",
    "data = search.finditer(text_to_search)\n",
    "\n",
    "for match in data:\n",
    "    print(match)"
   ]
  },
  {
   "cell_type": "code",
   "execution_count": null,
   "id": "e050838b",
   "metadata": {},
   "outputs": [],
   "source": [
    "# Significance of - between numbers and alphabet"
   ]
  },
  {
   "cell_type": "code",
   "execution_count": 13,
   "id": "e4bb4eb4",
   "metadata": {},
   "outputs": [
    {
     "name": "stdout",
     "output_type": "stream",
     "text": [
      "<re.Match object; span=(1, 2), match='a'>\n",
      "<re.Match object; span=(2, 3), match='b'>\n",
      "<re.Match object; span=(3, 4), match='c'>\n",
      "<re.Match object; span=(4, 5), match='d'>\n",
      "<re.Match object; span=(5, 6), match='e'>\n",
      "<re.Match object; span=(57, 58), match='3'>\n",
      "<re.Match object; span=(58, 59), match='2'>\n",
      "<re.Match object; span=(59, 60), match='1'>\n",
      "<re.Match object; span=(61, 62), match='5'>\n",
      "<re.Match object; span=(62, 63), match='5'>\n",
      "<re.Match object; span=(63, 64), match='5'>\n",
      "<re.Match object; span=(65, 66), match='4'>\n",
      "<re.Match object; span=(66, 67), match='3'>\n",
      "<re.Match object; span=(67, 68), match='2'>\n",
      "<re.Match object; span=(68, 69), match='1'>\n",
      "<re.Match object; span=(70, 71), match='1'>\n",
      "<re.Match object; span=(71, 72), match='2'>\n",
      "<re.Match object; span=(72, 73), match='3'>\n",
      "<re.Match object; span=(73, 74), match='4'>\n",
      "<re.Match object; span=(74, 75), match='5'>\n",
      "<re.Match object; span=(75, 76), match='6'>\n",
      "<re.Match object; span=(76, 77), match='7'>\n",
      "<re.Match object; span=(77, 78), match='8'>\n",
      "<re.Match object; span=(78, 79), match='9'>\n",
      "<re.Match object; span=(82, 83), match='a'>\n",
      "<re.Match object; span=(83, 84), match=' '>\n",
      "<re.Match object; span=(85, 86), match='a'>\n",
      "<re.Match object; span=(87, 88), match='a'>\n",
      "<re.Match object; span=(90, 91), match='e'>\n",
      "<re.Match object; span=(92, 93), match='a'>\n",
      "<re.Match object; span=(95, 96), match='a'>\n",
      "<re.Match object; span=(97, 98), match='a'>\n",
      "<re.Match object; span=(98, 99), match='c'>\n",
      "<re.Match object; span=(100, 101), match='e'>\n",
      "<re.Match object; span=(103, 104), match=' '>\n",
      "<re.Match object; span=(106, 107), match='e'>\n",
      "<re.Match object; span=(107, 108), match='e'>\n",
      "<re.Match object; span=(108, 109), match='d'>\n",
      "<re.Match object; span=(109, 110), match=' '>\n",
      "<re.Match object; span=(112, 113), match=' '>\n",
      "<re.Match object; span=(113, 114), match='b'>\n",
      "<re.Match object; span=(114, 115), match='e'>\n",
      "<re.Match object; span=(115, 116), match=' '>\n",
      "<re.Match object; span=(116, 117), match='e'>\n",
      "<re.Match object; span=(118, 119), match='c'>\n",
      "<re.Match object; span=(119, 120), match='a'>\n",
      "<re.Match object; span=(121, 122), match='e'>\n",
      "<re.Match object; span=(122, 123), match='d'>\n",
      "<re.Match object; span=(127, 128), match=' '>\n",
      "<re.Match object; span=(129, 130), match=' '>\n",
      "<re.Match object; span=(131, 132), match=' '>\n",
      "<re.Match object; span=(133, 134), match=' '>\n",
      "<re.Match object; span=(135, 136), match=' '>\n",
      "<re.Match object; span=(137, 138), match=' '>\n",
      "<re.Match object; span=(139, 140), match=' '>\n",
      "<re.Match object; span=(141, 142), match=' '>\n",
      "<re.Match object; span=(143, 144), match=' '>\n",
      "<re.Match object; span=(145, 146), match=' '>\n",
      "<re.Match object; span=(147, 148), match=' '>\n",
      "<re.Match object; span=(149, 150), match=' '>\n",
      "<re.Match object; span=(151, 152), match=' '>\n",
      "<re.Match object; span=(156, 157), match='a'>\n",
      "<re.Match object; span=(158, 159), match='a'>\n",
      "<re.Match object; span=(161, 162), match='a'>\n",
      "<re.Match object; span=(162, 163), match='a'>\n",
      "<re.Match object; span=(164, 165), match='1'>\n",
      "<re.Match object; span=(165, 166), match='1'>\n",
      "<re.Match object; span=(167, 168), match='c'>\n",
      "<re.Match object; span=(171, 172), match='3'>\n",
      "<re.Match object; span=(172, 173), match='2'>\n",
      "<re.Match object; span=(173, 174), match='1'>\n",
      "<re.Match object; span=(175, 176), match='5'>\n",
      "<re.Match object; span=(176, 177), match='5'>\n",
      "<re.Match object; span=(177, 178), match='5'>\n",
      "<re.Match object; span=(179, 180), match='4'>\n",
      "<re.Match object; span=(180, 181), match='3'>\n",
      "<re.Match object; span=(181, 182), match='2'>\n",
      "<re.Match object; span=(182, 183), match='1'>\n",
      "<re.Match object; span=(184, 185), match='1'>\n",
      "<re.Match object; span=(185, 186), match='2'>\n",
      "<re.Match object; span=(186, 187), match='3'>\n",
      "<re.Match object; span=(188, 189), match='5'>\n",
      "<re.Match object; span=(189, 190), match='5'>\n",
      "<re.Match object; span=(190, 191), match='5'>\n",
      "<re.Match object; span=(192, 193), match='1'>\n",
      "<re.Match object; span=(193, 194), match='2'>\n",
      "<re.Match object; span=(194, 195), match='3'>\n",
      "<re.Match object; span=(196, 197), match='1'>\n",
      "<re.Match object; span=(197, 198), match='2'>\n",
      "<re.Match object; span=(198, 199), match='3'>\n",
      "<re.Match object; span=(200, 201), match='5'>\n",
      "<re.Match object; span=(201, 202), match='5'>\n",
      "<re.Match object; span=(202, 203), match='5'>\n",
      "<re.Match object; span=(205, 206), match='1'>\n",
      "<re.Match object; span=(206, 207), match='2'>\n",
      "<re.Match object; span=(207, 208), match='3'>\n",
      "<re.Match object; span=(208, 209), match='4'>\n",
      "<re.Match object; span=(210, 211), match='1'>\n",
      "<re.Match object; span=(211, 212), match='2'>\n",
      "<re.Match object; span=(212, 213), match='3'>\n",
      "<re.Match object; span=(214, 215), match='5'>\n",
      "<re.Match object; span=(215, 216), match='5'>\n",
      "<re.Match object; span=(216, 217), match='5'>\n",
      "<re.Match object; span=(218, 219), match='1'>\n",
      "<re.Match object; span=(219, 220), match='2'>\n",
      "<re.Match object; span=(220, 221), match='3'>\n",
      "<re.Match object; span=(221, 222), match='4'>\n",
      "<re.Match object; span=(222, 223), match='5'>\n",
      "<re.Match object; span=(223, 224), match='6'>\n",
      "<re.Match object; span=(225, 226), match='8'>\n",
      "<re.Match object; span=(229, 230), match='5'>\n",
      "<re.Match object; span=(230, 231), match='5'>\n",
      "<re.Match object; span=(231, 232), match='5'>\n",
      "<re.Match object; span=(233, 234), match='1'>\n",
      "<re.Match object; span=(234, 235), match='2'>\n",
      "<re.Match object; span=(235, 236), match='3'>\n",
      "<re.Match object; span=(236, 237), match='4'>\n",
      "<re.Match object; span=(238, 239), match='9'>\n",
      "<re.Match object; span=(242, 243), match='5'>\n",
      "<re.Match object; span=(243, 244), match='5'>\n",
      "<re.Match object; span=(244, 245), match='5'>\n",
      "<re.Match object; span=(246, 247), match='1'>\n",
      "<re.Match object; span=(247, 248), match='2'>\n",
      "<re.Match object; span=(248, 249), match='3'>\n",
      "<re.Match object; span=(249, 250), match='4'>\n",
      "<re.Match object; span=(254, 255), match=' '>\n",
      "<re.Match object; span=(256, 257), match='c'>\n",
      "<re.Match object; span=(258, 259), match='a'>\n",
      "<re.Match object; span=(260, 261), match='e'>\n",
      "<re.Match object; span=(265, 266), match=' '>\n",
      "<re.Match object; span=(274, 275), match=' '>\n",
      "<re.Match object; span=(276, 277), match='a'>\n",
      "<re.Match object; span=(285, 286), match=' '>\n",
      "<re.Match object; span=(288, 289), match='b'>\n",
      "<re.Match object; span=(298, 299), match=' '>\n",
      "<re.Match object; span=(305, 306), match='e'>\n"
     ]
    }
   ],
   "source": [
    "search = re.compile(r'[1-9 a-e]')\n",
    "data = search.finditer(text_to_search)\n",
    "\n",
    "for match in data:\n",
    "    print(match)"
   ]
  },
  {
   "cell_type": "code",
   "execution_count": 24,
   "id": "f6110f41",
   "metadata": {},
   "outputs": [
    {
     "name": "stdout",
     "output_type": "stream",
     "text": [
      "<re.Match object; span=(59, 60), match='1'>\n",
      "<re.Match object; span=(60, 61), match='-'>\n",
      "<re.Match object; span=(64, 65), match='-'>\n",
      "<re.Match object; span=(68, 69), match='1'>\n",
      "<re.Match object; span=(70, 71), match='1'>\n",
      "<re.Match object; span=(78, 79), match='9'>\n",
      "<re.Match object; span=(164, 165), match='1'>\n",
      "<re.Match object; span=(165, 166), match='1'>\n",
      "<re.Match object; span=(173, 174), match='1'>\n",
      "<re.Match object; span=(174, 175), match='-'>\n",
      "<re.Match object; span=(178, 179), match='-'>\n",
      "<re.Match object; span=(182, 183), match='1'>\n",
      "<re.Match object; span=(184, 185), match='1'>\n",
      "<re.Match object; span=(192, 193), match='1'>\n",
      "<re.Match object; span=(197, 198), match='1'>\n",
      "<re.Match object; span=(205, 206), match='-'>\n",
      "<re.Match object; span=(206, 207), match='1'>\n",
      "<re.Match object; span=(211, 212), match='1'>\n",
      "<re.Match object; span=(219, 220), match='1'>\n",
      "<re.Match object; span=(227, 228), match='-'>\n",
      "<re.Match object; span=(231, 232), match='-'>\n",
      "<re.Match object; span=(232, 233), match='1'>\n",
      "<re.Match object; span=(237, 238), match='9'>\n",
      "<re.Match object; span=(240, 241), match='-'>\n",
      "<re.Match object; span=(244, 245), match='-'>\n",
      "<re.Match object; span=(245, 246), match='1'>\n"
     ]
    }
   ],
   "source": [
    "search = re.compile(r'[19-]')\n",
    "data = search.finditer(text_to_search)\n",
    "\n",
    "for match in data:\n",
    "    print(match)"
   ]
  },
  {
   "cell_type": "code",
   "execution_count": 26,
   "id": "d2e67467",
   "metadata": {},
   "outputs": [
    {
     "name": "stdout",
     "output_type": "stream",
     "text": [
      "<re.Match object; span=(201, 210), match='555*-1234'>\n"
     ]
    }
   ],
   "source": [
    "search = re.compile(r'\\d\\d\\d\\*-\\d\\d\\d\\d')\n",
    "data = search.finditer(text_to_search)\n",
    "\n",
    "for match in data:\n",
    "    print(match)"
   ]
  },
  {
   "cell_type": "code",
   "execution_count": 28,
   "id": "37934967",
   "metadata": {},
   "outputs": [
    {
     "name": "stdout",
     "output_type": "stream",
     "text": [
      "<re.Match object; span=(57, 69), match='321-555-4321'>\n",
      "<re.Match object; span=(171, 183), match='321-555-4321'>\n",
      "<re.Match object; span=(184, 196), match='123.555.1234'>\n",
      "<re.Match object; span=(211, 223), match='123.555.1234'>\n",
      "<re.Match object; span=(224, 236), match='800-555-1234'>\n",
      "<re.Match object; span=(237, 249), match='900-555-1234'>\n"
     ]
    }
   ],
   "source": [
    "search = re.compile(r'\\d{3}[*.-]\\d{3}[*.-]\\d{4}')\n",
    "data = search.finditer(text_to_search)\n",
    "\n",
    "for match in data:\n",
    "    print(match)"
   ]
  },
  {
   "cell_type": "code",
   "execution_count": 30,
   "id": "0bf0c907",
   "metadata": {},
   "outputs": [
    {
     "name": "stdout",
     "output_type": "stream",
     "text": [
      "<re.Match object; span=(1, 2), match='a'>\n",
      "<re.Match object; span=(2, 3), match='b'>\n",
      "<re.Match object; span=(3, 4), match='c'>\n",
      "<re.Match object; span=(82, 83), match='a'>\n",
      "<re.Match object; span=(85, 86), match='a'>\n",
      "<re.Match object; span=(87, 88), match='a'>\n",
      "<re.Match object; span=(92, 93), match='a'>\n",
      "<re.Match object; span=(95, 96), match='a'>\n",
      "<re.Match object; span=(97, 98), match='a'>\n",
      "<re.Match object; span=(98, 99), match='c'>\n",
      "<re.Match object; span=(113, 114), match='b'>\n",
      "<re.Match object; span=(118, 119), match='c'>\n",
      "<re.Match object; span=(119, 120), match='a'>\n",
      "<re.Match object; span=(156, 157), match='a'>\n",
      "<re.Match object; span=(158, 159), match='a'>\n",
      "<re.Match object; span=(161, 162), match='a'>\n",
      "<re.Match object; span=(162, 163), match='a'>\n",
      "<re.Match object; span=(167, 168), match='c'>\n",
      "<re.Match object; span=(255, 256), match='c'>\n",
      "<re.Match object; span=(257, 258), match='a'>\n",
      "<re.Match object; span=(275, 276), match='a'>\n",
      "<re.Match object; span=(287, 288), match='b'>\n"
     ]
    }
   ],
   "source": [
    "search = re.compile(r'[abc]')\n",
    "data = search.finditer(text_to_search)\n",
    "\n",
    "for match in data:\n",
    "    print(match)"
   ]
  },
  {
   "cell_type": "code",
   "execution_count": 29,
   "id": "26c5f7b4",
   "metadata": {},
   "outputs": [
    {
     "name": "stdout",
     "output_type": "stream",
     "text": [
      "<re.Match object; span=(0, 1), match='\\n'>\n",
      "<re.Match object; span=(4, 5), match='d'>\n",
      "<re.Match object; span=(5, 6), match='e'>\n",
      "<re.Match object; span=(6, 7), match='f'>\n",
      "<re.Match object; span=(7, 8), match='g'>\n",
      "<re.Match object; span=(8, 9), match='h'>\n",
      "<re.Match object; span=(9, 10), match='i'>\n",
      "<re.Match object; span=(10, 11), match='j'>\n",
      "<re.Match object; span=(11, 12), match='k'>\n",
      "<re.Match object; span=(12, 13), match='l'>\n",
      "<re.Match object; span=(13, 14), match='m'>\n",
      "<re.Match object; span=(14, 15), match='n'>\n",
      "<re.Match object; span=(15, 16), match='o'>\n",
      "<re.Match object; span=(16, 17), match='p'>\n",
      "<re.Match object; span=(17, 18), match='q'>\n",
      "<re.Match object; span=(18, 19), match='u'>\n",
      "<re.Match object; span=(19, 20), match='r'>\n",
      "<re.Match object; span=(20, 21), match='t'>\n",
      "<re.Match object; span=(21, 22), match='u'>\n",
      "<re.Match object; span=(22, 23), match='v'>\n",
      "<re.Match object; span=(23, 24), match='w'>\n",
      "<re.Match object; span=(24, 25), match='x'>\n",
      "<re.Match object; span=(25, 26), match='y'>\n",
      "<re.Match object; span=(26, 27), match='z'>\n",
      "<re.Match object; span=(27, 28), match='\\n'>\n",
      "<re.Match object; span=(28, 29), match='A'>\n",
      "<re.Match object; span=(29, 30), match='B'>\n",
      "<re.Match object; span=(30, 31), match='C'>\n",
      "<re.Match object; span=(31, 32), match='D'>\n",
      "<re.Match object; span=(32, 33), match='E'>\n",
      "<re.Match object; span=(33, 34), match='F'>\n",
      "<re.Match object; span=(34, 35), match='G'>\n",
      "<re.Match object; span=(35, 36), match='H'>\n",
      "<re.Match object; span=(36, 37), match='I'>\n",
      "<re.Match object; span=(37, 38), match='J'>\n",
      "<re.Match object; span=(38, 39), match='K'>\n",
      "<re.Match object; span=(39, 40), match='L'>\n",
      "<re.Match object; span=(40, 41), match='M'>\n",
      "<re.Match object; span=(41, 42), match='N'>\n",
      "<re.Match object; span=(42, 43), match='O'>\n",
      "<re.Match object; span=(43, 44), match='P'>\n",
      "<re.Match object; span=(44, 45), match='Q'>\n",
      "<re.Match object; span=(45, 46), match='R'>\n",
      "<re.Match object; span=(46, 47), match='S'>\n",
      "<re.Match object; span=(47, 48), match='T'>\n",
      "<re.Match object; span=(48, 49), match='U'>\n",
      "<re.Match object; span=(49, 50), match='V'>\n",
      "<re.Match object; span=(50, 51), match='W'>\n",
      "<re.Match object; span=(51, 52), match='X'>\n",
      "<re.Match object; span=(52, 53), match='Y'>\n",
      "<re.Match object; span=(53, 54), match='Z'>\n",
      "<re.Match object; span=(54, 55), match='\\\\'>\n",
      "<re.Match object; span=(55, 56), match='s'>\n",
      "<re.Match object; span=(56, 57), match='\\n'>\n",
      "<re.Match object; span=(57, 58), match='3'>\n",
      "<re.Match object; span=(58, 59), match='2'>\n",
      "<re.Match object; span=(59, 60), match='1'>\n",
      "<re.Match object; span=(60, 61), match='-'>\n",
      "<re.Match object; span=(61, 62), match='5'>\n",
      "<re.Match object; span=(62, 63), match='5'>\n",
      "<re.Match object; span=(63, 64), match='5'>\n",
      "<re.Match object; span=(64, 65), match='-'>\n",
      "<re.Match object; span=(65, 66), match='4'>\n",
      "<re.Match object; span=(66, 67), match='3'>\n",
      "<re.Match object; span=(67, 68), match='2'>\n",
      "<re.Match object; span=(68, 69), match='1'>\n",
      "<re.Match object; span=(69, 70), match='\\n'>\n",
      "<re.Match object; span=(70, 71), match='1'>\n",
      "<re.Match object; span=(71, 72), match='2'>\n",
      "<re.Match object; span=(72, 73), match='3'>\n",
      "<re.Match object; span=(73, 74), match='4'>\n",
      "<re.Match object; span=(74, 75), match='5'>\n",
      "<re.Match object; span=(75, 76), match='6'>\n",
      "<re.Match object; span=(76, 77), match='7'>\n",
      "<re.Match object; span=(77, 78), match='8'>\n",
      "<re.Match object; span=(78, 79), match='9'>\n",
      "<re.Match object; span=(79, 80), match='0'>\n",
      "<re.Match object; span=(80, 81), match='\\n'>\n",
      "<re.Match object; span=(81, 82), match='H'>\n",
      "<re.Match object; span=(83, 84), match=' '>\n",
      "<re.Match object; span=(84, 85), match='H'>\n",
      "<re.Match object; span=(86, 87), match='H'>\n",
      "<re.Match object; span=(88, 89), match='\\n'>\n",
      "<re.Match object; span=(89, 90), match='M'>\n",
      "<re.Match object; span=(90, 91), match='e'>\n",
      "<re.Match object; span=(91, 92), match='t'>\n",
      "<re.Match object; span=(93, 94), match='C'>\n",
      "<re.Match object; span=(94, 95), match='h'>\n",
      "<re.Match object; span=(96, 97), match='r'>\n",
      "<re.Match object; span=(99, 100), match='t'>\n",
      "<re.Match object; span=(100, 101), match='e'>\n",
      "<re.Match object; span=(101, 102), match='r'>\n",
      "<re.Match object; span=(102, 103), match='s'>\n",
      "<re.Match object; span=(103, 104), match=' '>\n",
      "<re.Match object; span=(104, 105), match='('>\n",
      "<re.Match object; span=(105, 106), match='N'>\n",
      "<re.Match object; span=(106, 107), match='e'>\n",
      "<re.Match object; span=(107, 108), match='e'>\n",
      "<re.Match object; span=(108, 109), match='d'>\n",
      "<re.Match object; span=(109, 110), match=' '>\n",
      "<re.Match object; span=(110, 111), match='t'>\n",
      "<re.Match object; span=(111, 112), match='o'>\n",
      "<re.Match object; span=(112, 113), match=' '>\n",
      "<re.Match object; span=(114, 115), match='e'>\n",
      "<re.Match object; span=(115, 116), match=' '>\n",
      "<re.Match object; span=(116, 117), match='e'>\n",
      "<re.Match object; span=(117, 118), match='s'>\n",
      "<re.Match object; span=(120, 121), match='p'>\n",
      "<re.Match object; span=(121, 122), match='e'>\n",
      "<re.Match object; span=(122, 123), match='d'>\n",
      "<re.Match object; span=(123, 124), match=')'>\n",
      "<re.Match object; span=(124, 125), match=':'>\n",
      "<re.Match object; span=(125, 126), match='\\n'>\n",
      "<re.Match object; span=(126, 127), match='.'>\n",
      "<re.Match object; span=(127, 128), match=' '>\n",
      "<re.Match object; span=(128, 129), match='^'>\n",
      "<re.Match object; span=(129, 130), match=' '>\n",
      "<re.Match object; span=(130, 131), match='$'>\n",
      "<re.Match object; span=(131, 132), match=' '>\n",
      "<re.Match object; span=(132, 133), match='*'>\n",
      "<re.Match object; span=(133, 134), match=' '>\n",
      "<re.Match object; span=(134, 135), match='+'>\n",
      "<re.Match object; span=(135, 136), match=' '>\n",
      "<re.Match object; span=(136, 137), match='?'>\n",
      "<re.Match object; span=(137, 138), match=' '>\n",
      "<re.Match object; span=(138, 139), match='{'>\n",
      "<re.Match object; span=(139, 140), match=' '>\n",
      "<re.Match object; span=(140, 141), match='}'>\n",
      "<re.Match object; span=(141, 142), match=' '>\n",
      "<re.Match object; span=(142, 143), match='['>\n",
      "<re.Match object; span=(143, 144), match=' '>\n",
      "<re.Match object; span=(144, 145), match=']'>\n",
      "<re.Match object; span=(145, 146), match=' '>\n",
      "<re.Match object; span=(146, 147), match='\\\\'>\n",
      "<re.Match object; span=(147, 148), match=' '>\n",
      "<re.Match object; span=(148, 149), match='|'>\n",
      "<re.Match object; span=(149, 150), match=' '>\n",
      "<re.Match object; span=(150, 151), match='('>\n",
      "<re.Match object; span=(151, 152), match=' '>\n",
      "<re.Match object; span=(152, 153), match=')'>\n",
      "<re.Match object; span=(153, 154), match='\\n'>\n",
      "<re.Match object; span=(154, 155), match='k'>\n",
      "<re.Match object; span=(155, 156), match='h'>\n",
      "<re.Match object; span=(157, 158), match='n'>\n",
      "<re.Match object; span=(159, 160), match='f'>\n",
      "<re.Match object; span=(160, 161), match='s'>\n",
      "<re.Match object; span=(163, 164), match='n'>\n",
      "<re.Match object; span=(164, 165), match='1'>\n",
      "<re.Match object; span=(165, 166), match='1'>\n",
      "<re.Match object; span=(166, 167), match='.'>\n",
      "<re.Match object; span=(168, 169), match='o'>\n",
      "<re.Match object; span=(169, 170), match='m'>\n",
      "<re.Match object; span=(170, 171), match='\\n'>\n",
      "<re.Match object; span=(171, 172), match='3'>\n",
      "<re.Match object; span=(172, 173), match='2'>\n",
      "<re.Match object; span=(173, 174), match='1'>\n",
      "<re.Match object; span=(174, 175), match='-'>\n",
      "<re.Match object; span=(175, 176), match='5'>\n",
      "<re.Match object; span=(176, 177), match='5'>\n",
      "<re.Match object; span=(177, 178), match='5'>\n",
      "<re.Match object; span=(178, 179), match='-'>\n",
      "<re.Match object; span=(179, 180), match='4'>\n",
      "<re.Match object; span=(180, 181), match='3'>\n",
      "<re.Match object; span=(181, 182), match='2'>\n",
      "<re.Match object; span=(182, 183), match='1'>\n",
      "<re.Match object; span=(183, 184), match='\\n'>\n",
      "<re.Match object; span=(184, 185), match='1'>\n",
      "<re.Match object; span=(185, 186), match='2'>\n",
      "<re.Match object; span=(186, 187), match='3'>\n",
      "<re.Match object; span=(187, 188), match='.'>\n",
      "<re.Match object; span=(188, 189), match='5'>\n",
      "<re.Match object; span=(189, 190), match='5'>\n",
      "<re.Match object; span=(190, 191), match='5'>\n",
      "<re.Match object; span=(191, 192), match='.'>\n",
      "<re.Match object; span=(192, 193), match='1'>\n",
      "<re.Match object; span=(193, 194), match='2'>\n",
      "<re.Match object; span=(194, 195), match='3'>\n",
      "<re.Match object; span=(195, 196), match='4'>\n",
      "<re.Match object; span=(196, 197), match='\\n'>\n",
      "<re.Match object; span=(197, 198), match='1'>\n",
      "<re.Match object; span=(198, 199), match='2'>\n",
      "<re.Match object; span=(199, 200), match='3'>\n",
      "<re.Match object; span=(200, 201), match='*'>\n",
      "<re.Match object; span=(201, 202), match='5'>\n",
      "<re.Match object; span=(202, 203), match='5'>\n",
      "<re.Match object; span=(203, 204), match='5'>\n",
      "<re.Match object; span=(204, 205), match='*'>\n",
      "<re.Match object; span=(205, 206), match='-'>\n",
      "<re.Match object; span=(206, 207), match='1'>\n",
      "<re.Match object; span=(207, 208), match='2'>\n",
      "<re.Match object; span=(208, 209), match='3'>\n",
      "<re.Match object; span=(209, 210), match='4'>\n",
      "<re.Match object; span=(210, 211), match='\\n'>\n",
      "<re.Match object; span=(211, 212), match='1'>\n",
      "<re.Match object; span=(212, 213), match='2'>\n",
      "<re.Match object; span=(213, 214), match='3'>\n",
      "<re.Match object; span=(214, 215), match='.'>\n",
      "<re.Match object; span=(215, 216), match='5'>\n",
      "<re.Match object; span=(216, 217), match='5'>\n",
      "<re.Match object; span=(217, 218), match='5'>\n",
      "<re.Match object; span=(218, 219), match='.'>\n",
      "<re.Match object; span=(219, 220), match='1'>\n",
      "<re.Match object; span=(220, 221), match='2'>\n",
      "<re.Match object; span=(221, 222), match='3'>\n",
      "<re.Match object; span=(222, 223), match='4'>\n",
      "<re.Match object; span=(223, 224), match='\\n'>\n",
      "<re.Match object; span=(224, 225), match='8'>\n",
      "<re.Match object; span=(225, 226), match='0'>\n",
      "<re.Match object; span=(226, 227), match='0'>\n",
      "<re.Match object; span=(227, 228), match='-'>\n",
      "<re.Match object; span=(228, 229), match='5'>\n",
      "<re.Match object; span=(229, 230), match='5'>\n",
      "<re.Match object; span=(230, 231), match='5'>\n",
      "<re.Match object; span=(231, 232), match='-'>\n",
      "<re.Match object; span=(232, 233), match='1'>\n",
      "<re.Match object; span=(233, 234), match='2'>\n",
      "<re.Match object; span=(234, 235), match='3'>\n",
      "<re.Match object; span=(235, 236), match='4'>\n",
      "<re.Match object; span=(236, 237), match='\\n'>\n",
      "<re.Match object; span=(237, 238), match='9'>\n",
      "<re.Match object; span=(238, 239), match='0'>\n",
      "<re.Match object; span=(239, 240), match='0'>\n",
      "<re.Match object; span=(240, 241), match='-'>\n",
      "<re.Match object; span=(241, 242), match='5'>\n",
      "<re.Match object; span=(242, 243), match='5'>\n",
      "<re.Match object; span=(243, 244), match='5'>\n",
      "<re.Match object; span=(244, 245), match='-'>\n",
      "<re.Match object; span=(245, 246), match='1'>\n",
      "<re.Match object; span=(246, 247), match='2'>\n",
      "<re.Match object; span=(247, 248), match='3'>\n",
      "<re.Match object; span=(248, 249), match='4'>\n",
      "<re.Match object; span=(249, 250), match='\\n'>\n",
      "<re.Match object; span=(250, 251), match='M'>\n",
      "<re.Match object; span=(251, 252), match='r'>\n",
      "<re.Match object; span=(252, 253), match='.'>\n",
      "<re.Match object; span=(253, 254), match=' '>\n",
      "<re.Match object; span=(254, 255), match='S'>\n",
      "<re.Match object; span=(256, 257), match='h'>\n",
      "<re.Match object; span=(258, 259), match='f'>\n",
      "<re.Match object; span=(259, 260), match='e'>\n",
      "<re.Match object; span=(260, 261), match='r'>\n",
      "<re.Match object; span=(261, 262), match='\\n'>\n",
      "<re.Match object; span=(262, 263), match='M'>\n",
      "<re.Match object; span=(263, 264), match='r'>\n",
      "<re.Match object; span=(264, 265), match=' '>\n",
      "<re.Match object; span=(265, 266), match='S'>\n",
      "<re.Match object; span=(266, 267), match='m'>\n",
      "<re.Match object; span=(267, 268), match='i'>\n",
      "<re.Match object; span=(268, 269), match='t'>\n",
      "<re.Match object; span=(269, 270), match='h'>\n",
      "<re.Match object; span=(270, 271), match='\\n'>\n",
      "<re.Match object; span=(271, 272), match='M'>\n",
      "<re.Match object; span=(272, 273), match='s'>\n",
      "<re.Match object; span=(273, 274), match=' '>\n",
      "<re.Match object; span=(274, 275), match='D'>\n",
      "<re.Match object; span=(276, 277), match='v'>\n",
      "<re.Match object; span=(277, 278), match='i'>\n",
      "<re.Match object; span=(278, 279), match='s'>\n",
      "<re.Match object; span=(279, 280), match='\\n'>\n",
      "<re.Match object; span=(280, 281), match='M'>\n",
      "<re.Match object; span=(281, 282), match='r'>\n",
      "<re.Match object; span=(282, 283), match='s'>\n",
      "<re.Match object; span=(283, 284), match='.'>\n",
      "<re.Match object; span=(284, 285), match=' '>\n",
      "<re.Match object; span=(285, 286), match='R'>\n",
      "<re.Match object; span=(286, 287), match='o'>\n",
      "<re.Match object; span=(288, 289), match='i'>\n",
      "<re.Match object; span=(289, 290), match='n'>\n",
      "<re.Match object; span=(290, 291), match='s'>\n",
      "<re.Match object; span=(291, 292), match='o'>\n",
      "<re.Match object; span=(292, 293), match='n'>\n",
      "<re.Match object; span=(293, 294), match='\\n'>\n",
      "<re.Match object; span=(294, 295), match='M'>\n",
      "<re.Match object; span=(295, 296), match='r'>\n",
      "<re.Match object; span=(296, 297), match='.'>\n",
      "<re.Match object; span=(297, 298), match=' '>\n",
      "<re.Match object; span=(298, 299), match='T'>\n",
      "<re.Match object; span=(299, 300), match='\\n'>\n",
      "<re.Match object; span=(300, 301), match='M'>\n",
      "<re.Match object; span=(301, 302), match='r'>\n",
      "<re.Match object; span=(302, 303), match='_'>\n",
      "<re.Match object; span=(303, 304), match='h'>\n",
      "<re.Match object; span=(304, 305), match='e'>\n",
      "<re.Match object; span=(305, 306), match='l'>\n",
      "<re.Match object; span=(306, 307), match='l'>\n",
      "<re.Match object; span=(307, 308), match='o'>\n",
      "<re.Match object; span=(308, 309), match='\\n'>\n"
     ]
    }
   ],
   "source": [
    "search = re.compile(r'[^abc]')\n",
    "data = search.finditer(text_to_search)\n",
    "\n",
    "for match in data:\n",
    "    print(match)"
   ]
  },
  {
   "cell_type": "code",
   "execution_count": 15,
   "id": "da2fa0c1",
   "metadata": {},
   "outputs": [],
   "source": [
    "data = 'cat mat bat sat dat lat can'\n",
    "import re"
   ]
  },
  {
   "cell_type": "code",
   "execution_count": 16,
   "id": "29303cc4",
   "metadata": {},
   "outputs": [
    {
     "name": "stdout",
     "output_type": "stream",
     "text": [
      "<re.Match object; span=(0, 3), match='cat'>\n",
      "<re.Match object; span=(4, 7), match='mat'>\n",
      "<re.Match object; span=(12, 15), match='sat'>\n",
      "<re.Match object; span=(16, 19), match='dat'>\n",
      "<re.Match object; span=(20, 23), match='lat'>\n"
     ]
    }
   ],
   "source": [
    "search = re.compile(r'[^b]at')\n",
    "data = search.finditer(data)\n",
    "\n",
    "for match in data:\n",
    "    print(match)"
   ]
  },
  {
   "cell_type": "code",
   "execution_count": 7,
   "id": "9e67be77",
   "metadata": {},
   "outputs": [],
   "source": [
    "text_to_search = '''\n",
    "abcdefghijklmnopqurtuvwxyz\n",
    "ABCDEFGHIJKLMNOPQRSTUVWXYZ\\s\n",
    "321-555-4321\n",
    "1234567890\n",
    "Ha HaHa\n",
    "MetaCharacters (Need to be escaped):\n",
    ". ^ $ * + ? { } [ ] \\ | ( )\n",
    "khanafsaan11.com\n",
    "321-555-4321\n",
    "123.555.1234\n",
    "123*555*-1234\n",
    "123.555.1234\n",
    "800-555-1234\n",
    "900-555-1234\n",
    "Mr. Schafer\n",
    "Mr Smith\n",
    "Ms Davis\n",
    "Mrs. Robinson\n",
    "Mr. T\n",
    "Mr_hello\n",
    "'''\n"
   ]
  },
  {
   "cell_type": "code",
   "execution_count": null,
   "id": "f4382064",
   "metadata": {},
   "outputs": [],
   "source": [
    "# Extract all the names"
   ]
  },
  {
   "cell_type": "code",
   "execution_count": 8,
   "id": "da79369b",
   "metadata": {},
   "outputs": [
    {
     "name": "stdout",
     "output_type": "stream",
     "text": [
      "<re.Match object; span=(40, 41), match='M'>\n",
      "<re.Match object; span=(89, 90), match='M'>\n",
      "<re.Match object; span=(250, 251), match='M'>\n",
      "<re.Match object; span=(262, 263), match='M'>\n",
      "<re.Match object; span=(271, 272), match='M'>\n",
      "<re.Match object; span=(280, 281), match='M'>\n",
      "<re.Match object; span=(294, 295), match='M'>\n",
      "<re.Match object; span=(300, 301), match='M'>\n"
     ]
    }
   ],
   "source": [
    "search = re.compile(r'M')\n",
    "data = search.finditer(text_to_search)\n",
    "\n",
    "for match in data:\n",
    "    print(match)"
   ]
  },
  {
   "cell_type": "code",
   "execution_count": 9,
   "id": "7b46cc67",
   "metadata": {},
   "outputs": [
    {
     "name": "stdout",
     "output_type": "stream",
     "text": [
      "<re.Match object; span=(250, 252), match='Mr'>\n",
      "<re.Match object; span=(262, 264), match='Mr'>\n",
      "<re.Match object; span=(280, 282), match='Mr'>\n",
      "<re.Match object; span=(294, 296), match='Mr'>\n",
      "<re.Match object; span=(300, 302), match='Mr'>\n"
     ]
    }
   ],
   "source": [
    "search = re.compile(r'Mr')\n",
    "data = search.finditer(text_to_search)\n",
    "\n",
    "for match in data:\n",
    "    print(match)"
   ]
  },
  {
   "cell_type": "code",
   "execution_count": 11,
   "id": "3548dbdb",
   "metadata": {},
   "outputs": [
    {
     "name": "stdout",
     "output_type": "stream",
     "text": [
      "<re.Match object; span=(250, 253), match='Mr.'>\n",
      "<re.Match object; span=(294, 297), match='Mr.'>\n"
     ]
    }
   ],
   "source": [
    "search = re.compile(r'Mr\\.')\n",
    "data = search.finditer(text_to_search)\n",
    "\n",
    "for match in data:\n",
    "    print(match)"
   ]
  },
  {
   "cell_type": "code",
   "execution_count": 12,
   "id": "a551df40",
   "metadata": {},
   "outputs": [
    {
     "name": "stdout",
     "output_type": "stream",
     "text": [
      "<re.Match object; span=(250, 254), match='Mr. '>\n",
      "<re.Match object; span=(294, 298), match='Mr. '>\n"
     ]
    }
   ],
   "source": [
    "search = re.compile(r'Mr\\. ')\n",
    "data = search.finditer(text_to_search)\n",
    "\n",
    "for match in data:\n",
    "    print(match)"
   ]
  },
  {
   "cell_type": "code",
   "execution_count": 14,
   "id": "c4563504",
   "metadata": {},
   "outputs": [
    {
     "name": "stdout",
     "output_type": "stream",
     "text": [
      "<re.Match object; span=(250, 255), match='Mr. S'>\n",
      "<re.Match object; span=(294, 299), match='Mr. T'>\n"
     ]
    }
   ],
   "source": [
    "search = re.compile(r'Mr\\. [A-Z]')\n",
    "data = search.finditer(text_to_search)\n",
    "\n",
    "for match in data:\n",
    "    print(match)"
   ]
  },
  {
   "cell_type": "code",
   "execution_count": 19,
   "id": "b729ce63",
   "metadata": {},
   "outputs": [
    {
     "name": "stdout",
     "output_type": "stream",
     "text": [
      "<re.Match object; span=(251, 262), match='Mr. Schafer'>\n"
     ]
    }
   ],
   "source": [
    "# 1 and more --> +\n",
    "\n",
    "search = re.compile(r'Mr\\. [A-Z][a-z]+')\n",
    "data = search.finditer(text_to_search)\n",
    "\n",
    "for match in data:\n",
    "    print(match)"
   ]
  },
  {
   "cell_type": "code",
   "execution_count": 18,
   "id": "80a281cf",
   "metadata": {},
   "outputs": [
    {
     "name": "stdout",
     "output_type": "stream",
     "text": [
      "<re.Match object; span=(251, 262), match='Mr. Schafer'>\n",
      "<re.Match object; span=(295, 300), match='Mr. T'>\n"
     ]
    }
   ],
   "source": [
    "# 0 and more --> *\n",
    "\n",
    "search = re.compile(r'Mr\\. [A-Z][a-z]*')\n",
    "data = search.finditer(text_to_search)\n",
    "\n",
    "for match in data:\n",
    "    print(match)"
   ]
  },
  {
   "cell_type": "code",
   "execution_count": 19,
   "id": "1021d1de",
   "metadata": {},
   "outputs": [
    {
     "name": "stdout",
     "output_type": "stream",
     "text": [
      "<re.Match object; span=(250, 261), match='Mr. Schafer'>\n",
      "<re.Match object; span=(262, 270), match='Mr Smith'>\n",
      "<re.Match object; span=(294, 299), match='Mr. T'>\n"
     ]
    }
   ],
   "source": [
    "search = re.compile(r'Mr\\.? [A-Z][a-z]*')\n",
    "data = search.finditer(text_to_search)\n",
    "\n",
    "for match in data:\n",
    "    print(match)"
   ]
  },
  {
   "cell_type": "code",
   "execution_count": 20,
   "id": "7d491dd5",
   "metadata": {},
   "outputs": [
    {
     "name": "stdout",
     "output_type": "stream",
     "text": [
      "<re.Match object; span=(250, 261), match='Mr. Schafer'>\n",
      "<re.Match object; span=(262, 270), match='Mr Smith'>\n",
      "<re.Match object; span=(271, 279), match='Ms Davis'>\n",
      "<re.Match object; span=(294, 299), match='Mr. T'>\n"
     ]
    }
   ],
   "source": [
    "search = re.compile(r'M[rs]\\.? [A-Z][a-z]*')\n",
    "data = search.finditer(text_to_search)\n",
    "\n",
    "for match in data:\n",
    "    print(match)"
   ]
  },
  {
   "cell_type": "code",
   "execution_count": 22,
   "id": "56f874db",
   "metadata": {},
   "outputs": [
    {
     "name": "stdout",
     "output_type": "stream",
     "text": [
      "<re.Match object; span=(250, 261), match='Mr. Schafer'>\n",
      "<re.Match object; span=(262, 270), match='Mr Smith'>\n",
      "<re.Match object; span=(271, 279), match='Ms Davis'>\n",
      "<re.Match object; span=(280, 293), match='Mrs. Robinson'>\n",
      "<re.Match object; span=(294, 299), match='Mr. T'>\n"
     ]
    }
   ],
   "source": [
    "search = re.compile(r'M(r|rs|s)\\.? [A-Z][a-z]*')\n",
    "data = search.finditer(text_to_search)\n",
    "\n",
    "for match in data:\n",
    "    print(match)"
   ]
  },
  {
   "cell_type": "code",
   "execution_count": 39,
   "id": "81cb9282",
   "metadata": {},
   "outputs": [
    {
     "name": "stdout",
     "output_type": "stream",
     "text": [
      "<re.Match object; span=(250, 261), match='Mr. Schafer'>\n",
      "<re.Match object; span=(262, 270), match='Mr Smith'>\n",
      "<re.Match object; span=(271, 279), match='Ms Davis'>\n",
      "<re.Match object; span=(280, 283), match='Mrs'>\n",
      "<re.Match object; span=(294, 299), match='Mr. T'>\n",
      "<re.Match object; span=(300, 308), match='Mr_hello'>\n"
     ]
    }
   ],
   "source": [
    "search = re.compile(r'M(r|rs|s)[\\_|.]?[\\s]?[A-z][a-z]*')\n",
    "data = search.finditer(text_to_search)\n",
    "\n",
    "for match in data:\n",
    "    print(match)"
   ]
  },
  {
   "cell_type": "markdown",
   "id": "9070aa7b",
   "metadata": {},
   "source": [
    "# Numpy"
   ]
  },
  {
   "cell_type": "code",
   "execution_count": 21,
   "id": "22f632aa",
   "metadata": {},
   "outputs": [],
   "source": [
    "# Numpy\n",
    "\n",
    "import numpy as np"
   ]
  },
  {
   "cell_type": "code",
   "execution_count": 43,
   "id": "11656a6a",
   "metadata": {},
   "outputs": [
    {
     "name": "stdout",
     "output_type": "stream",
     "text": [
      "[1 2 3 4 5] <class 'numpy.ndarray'>\n"
     ]
    }
   ],
   "source": [
    "#1. Creat an array by list/tuple\n",
    "\n",
    "a = [1,2,3,4,5]\n",
    "data = np.array(a)\n",
    "print(data, type(data))"
   ]
  },
  {
   "cell_type": "code",
   "execution_count": 22,
   "id": "5a2f09c4",
   "metadata": {},
   "outputs": [
    {
     "name": "stdout",
     "output_type": "stream",
     "text": [
      "[1 2 3 4 5] <class 'numpy.ndarray'>\n"
     ]
    }
   ],
   "source": [
    "# Creat an array\n",
    "\n",
    "a = 1,2,3,4,5\n",
    "data = np.array(a)\n",
    "print(data, type(data))"
   ]
  },
  {
   "cell_type": "code",
   "execution_count": 24,
   "id": "df42e3a2",
   "metadata": {},
   "outputs": [
    {
     "name": "stdout",
     "output_type": "stream",
     "text": [
      "[[1 2]\n",
      " [3 4]\n",
      " [5 6]] <class 'numpy.ndarray'>\n"
     ]
    }
   ],
   "source": [
    "a = [[1,2],[3,4],[5,6]]\n",
    "data = np.array(a)\n",
    "print(data, type(data))"
   ]
  },
  {
   "cell_type": "code",
   "execution_count": 25,
   "id": "14c1084d",
   "metadata": {},
   "outputs": [
    {
     "name": "stdout",
     "output_type": "stream",
     "text": [
      "6\n",
      "(3, 2)\n",
      "2\n"
     ]
    }
   ],
   "source": [
    "print(data.size) # counts the elements \n",
    "print(data.shape) # it tells the shape of an array\n",
    "print(data.ndim) # dimension"
   ]
  },
  {
   "cell_type": "code",
   "execution_count": 47,
   "id": "3fa6f99c",
   "metadata": {},
   "outputs": [
    {
     "data": {
      "text/plain": [
       "array([0, 3, 6, 9])"
      ]
     },
     "execution_count": 47,
     "metadata": {},
     "output_type": "execute_result"
    }
   ],
   "source": [
    "#2. arange function\n",
    "\n",
    "np.arange(0,10,3)"
   ]
  },
  {
   "cell_type": "code",
   "execution_count": 29,
   "id": "822231de",
   "metadata": {},
   "outputs": [
    {
     "name": "stdout",
     "output_type": "stream",
     "text": [
      "<class 'list'>\n",
      "[0, 3, 6, 9]\n"
     ]
    }
   ],
   "source": [
    "a = list(range(0,10,3))\n",
    "print(type(a))\n",
    "print(a)"
   ]
  },
  {
   "cell_type": "code",
   "execution_count": null,
   "id": "70011bc3",
   "metadata": {},
   "outputs": [],
   "source": []
  },
  {
   "cell_type": "code",
   "execution_count": null,
   "id": "43dd346c",
   "metadata": {},
   "outputs": [],
   "source": []
  },
  {
   "cell_type": "code",
   "execution_count": null,
   "id": "c3816841",
   "metadata": {},
   "outputs": [],
   "source": []
  }
 ],
 "metadata": {
  "kernelspec": {
   "display_name": "Python 3 (ipykernel)",
   "language": "python",
   "name": "python3"
  },
  "language_info": {
   "codemirror_mode": {
    "name": "ipython",
    "version": 3
   },
   "file_extension": ".py",
   "mimetype": "text/x-python",
   "name": "python",
   "nbconvert_exporter": "python",
   "pygments_lexer": "ipython3",
   "version": "3.9.12"
  }
 },
 "nbformat": 4,
 "nbformat_minor": 5
}
