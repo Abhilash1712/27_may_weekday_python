{
 "cells": [
  {
   "cell_type": "markdown",
   "id": "f96767c9",
   "metadata": {},
   "source": [
    "### List Methods"
   ]
  },
  {
   "cell_type": "code",
   "execution_count": 4,
   "id": "6fdfbc16",
   "metadata": {},
   "outputs": [
    {
     "name": "stdout",
     "output_type": "stream",
     "text": [
      "[9, 8, 6, 5, 3, 7, 1]\n"
     ]
    }
   ],
   "source": [
    "# Reverse\n",
    "\n",
    "a = [1,7,3,5,6,8,9]\n",
    "a.reverse()\n",
    "print(a)"
   ]
  },
  {
   "cell_type": "code",
   "execution_count": 6,
   "id": "d65343f7",
   "metadata": {},
   "outputs": [
    {
     "name": "stdout",
     "output_type": "stream",
     "text": [
      "[1, 3, 5, 6, 7, 8, 9]\n",
      "[9, 8, 7, 6, 5, 3, 1]\n"
     ]
    }
   ],
   "source": [
    "# Sort \n",
    "\n",
    "a = [1,7,3,5,6,8,9]\n",
    "a.sort()\n",
    "print(a)    # Acending\n",
    "\n",
    "a.sort(reverse=True)\n",
    "print(a)    # Decending"
   ]
  },
  {
   "cell_type": "code",
   "execution_count": 7,
   "id": "36df06fb",
   "metadata": {},
   "outputs": [
    {
     "name": "stdout",
     "output_type": "stream",
     "text": [
      "[]\n"
     ]
    }
   ],
   "source": [
    "# Clear\n",
    "\n",
    "a = [1,7,3,5,6,8,9]\n",
    "a.clear()\n",
    "print(a)"
   ]
  },
  {
   "cell_type": "markdown",
   "id": "144353d8",
   "metadata": {},
   "source": [
    "### Shallow and Deep Copy"
   ]
  },
  {
   "cell_type": "code",
   "execution_count": 17,
   "id": "740e6c04",
   "metadata": {},
   "outputs": [
    {
     "name": "stdout",
     "output_type": "stream",
     "text": [
      "['Error', '__all__', '__builtins__', '__cached__', '__doc__', '__file__', '__loader__', '__name__', '__package__', '__spec__', '_copy_dispatch', '_copy_immutable', '_deepcopy_atomic', '_deepcopy_dict', '_deepcopy_dispatch', '_deepcopy_list', '_deepcopy_method', '_deepcopy_tuple', '_keep_alive', '_reconstruct', 'copy', 'deepcopy', 'dispatch_table', 'error']\n"
     ]
    }
   ],
   "source": [
    "import copy\n",
    "print(dir(copy))"
   ]
  },
  {
   "cell_type": "code",
   "execution_count": 9,
   "id": "6ff74d8e",
   "metadata": {},
   "outputs": [
    {
     "name": "stdout",
     "output_type": "stream",
     "text": [
      "[1, 2, 3, 4, 5] 1423030597056\n",
      "[1, 2, 3, 4, 5] 1423030597056\n",
      "[100, 2, 3, 4, 5] 1423030597056\n",
      "[100, 2, 3, 4, 5] 1423030597056\n"
     ]
    }
   ],
   "source": [
    "a = [1,2,3,4,5]\n",
    "b = a    # Aliasing       \n",
    "\n",
    "\n",
    "print(a , id(a))\n",
    "print(b , id(b))\n",
    "\n",
    "b[0] = 100\n",
    "\n",
    "print(a , id(a))\n",
    "print(b , id(b))"
   ]
  },
  {
   "cell_type": "code",
   "execution_count": 10,
   "id": "264c1c8e",
   "metadata": {},
   "outputs": [
    {
     "name": "stdout",
     "output_type": "stream",
     "text": [
      "[1, 2, 3, 4, 5] 1423030734144\n",
      "[1, 2, 3, 4, 5] 1423030372224\n",
      "[1, 2, 3, 4, 5] 1423030734144\n",
      "[100, 2, 3, 4, 5] 1423030372224\n"
     ]
    }
   ],
   "source": [
    "# Shallow copy\n",
    "\n",
    "a = [1,2,3,4,5]\n",
    "b = a.copy()\n",
    "\n",
    "\n",
    "print(a , id(a))\n",
    "print(b , id(b))\n",
    "\n",
    "b[0] = 100\n",
    "\n",
    "\n",
    "print(a , id(a))\n",
    "print(b , id(b))"
   ]
  },
  {
   "cell_type": "code",
   "execution_count": 11,
   "id": "385ad7b8",
   "metadata": {},
   "outputs": [
    {
     "name": "stdout",
     "output_type": "stream",
     "text": [
      "[1, 2, [3, 4, 5]] 1423030644416\n",
      "[1, 2, [3, 4, 5]] 1423031833216\n",
      "[1, 2, [100, 4, 5]] 1423030644416\n",
      "[1, 2, [100, 4, 5]] 1423031833216\n"
     ]
    }
   ],
   "source": [
    "a = [1,2,[3,4,5]]\n",
    "b = a.copy()\n",
    "\n",
    "\n",
    "print(a , id(a))\n",
    "print(b , id(b))\n",
    "\n",
    "b[-1][0] = 100          # Shallow copy does not work if it has a Nested List \n",
    "\n",
    "\n",
    "print(a , id(a))\n",
    "print(b , id(b))"
   ]
  },
  {
   "cell_type": "code",
   "execution_count": 15,
   "id": "a338286f",
   "metadata": {},
   "outputs": [
    {
     "name": "stdout",
     "output_type": "stream",
     "text": [
      "[10, 20, [30, 10]] 1423027757504\n",
      "[10, 20, 30] 1423030708416\n"
     ]
    }
   ],
   "source": [
    "a = [10,20,[30,10]]\n",
    "b= a.copy()\n",
    "\n",
    "b[2]=30\n",
    "\n",
    "print(a, id(a))\n",
    "print(b, id(b))"
   ]
  },
  {
   "cell_type": "code",
   "execution_count": 14,
   "id": "4e092002",
   "metadata": {},
   "outputs": [
    {
     "name": "stdout",
     "output_type": "stream",
     "text": [
      "[1, 2, [3, 4, 5]] 1423031384704\n",
      "[1, 2, [3, 4, 5]] 1423030973184\n",
      "[1, 2, [3, 4, 5]] 1423031384704\n",
      "[1, 2, [100, 4, 5]] 1423030973184\n"
     ]
    }
   ],
   "source": [
    "# Deep Copy\n",
    "\n",
    "from copy import deepcopy\n",
    "a = [1,2,[3,4,5]]\n",
    "b = deepcopy(a)\n",
    "\n",
    "\n",
    "print(a , id(a))\n",
    "print(b , id(b))\n",
    "\n",
    "b[-1][0] = 100\n",
    "\n",
    "\n",
    "print(a , id(a))\n",
    "print(b , id(b))"
   ]
  },
  {
   "cell_type": "markdown",
   "id": "9632eea7",
   "metadata": {},
   "source": [
    "# Loop"
   ]
  },
  {
   "cell_type": "code",
   "execution_count": 3,
   "id": "7773ca98",
   "metadata": {},
   "outputs": [
    {
     "name": "stdout",
     "output_type": "stream",
     "text": [
      "enter brand 1 Dell\n",
      "enter brand 2Lenovo\n",
      "enter brand 3 Vio\n",
      "enter brand 4 Asus\n",
      "enter brand 5 Mac\n"
     ]
    }
   ],
   "source": [
    "a = input('enter brand 1')\n",
    "a = input('enter brand 2')\n",
    "a = input('enter brand 3')\n",
    "a = input('enter brand 4')\n",
    "a = input('enter brand 5')"
   ]
  },
  {
   "cell_type": "code",
   "execution_count": null,
   "id": "6faef3f2",
   "metadata": {},
   "outputs": [],
   "source": [
    "# for loop (if something is repeating again and again)\n",
    "\n",
    "for var in iterable:\n",
    "    statement"
   ]
  },
  {
   "cell_type": "code",
   "execution_count": 20,
   "id": "19768664",
   "metadata": {},
   "outputs": [
    {
     "name": "stdout",
     "output_type": "stream",
     "text": [
      "Abhilash\n",
      "Abhilash\n",
      "Abhilash\n",
      "Abhilash\n",
      "Abhilash\n"
     ]
    }
   ],
   "source": [
    "for i in [1,2,3,4,5]:\n",
    "    print('Abhilash')"
   ]
  },
  {
   "cell_type": "code",
   "execution_count": 1,
   "id": "c4cfef31",
   "metadata": {},
   "outputs": [
    {
     "name": "stdout",
     "output_type": "stream",
     "text": [
      "Enter Brand NameDEll\n",
      "Enter Brand NameMac\n",
      "Enter Brand Namelenevo\n",
      "Enter Brand Nameasus\n",
      "Enter Brand Namevio\n"
     ]
    }
   ],
   "source": [
    "for i in [1,2,3,4,5]:\n",
    "    a = input('Enter Brand Name')\n",
    " "
   ]
  },
  {
   "cell_type": "code",
   "execution_count": 12,
   "id": "e86a655f",
   "metadata": {},
   "outputs": [
    {
     "name": "stdout",
     "output_type": "stream",
     "text": [
      "learnbay\n",
      "learnbay\n",
      "learnbay\n",
      "learnbay\n",
      "learnbay\n",
      "learnbay\n",
      "learnbay\n",
      "learnbay\n"
     ]
    }
   ],
   "source": [
    "a = [1,2,3,['abhilash'], 100]\n",
    "\n",
    "for i in a[-2][0]:\n",
    "    \n",
    "    print('learnbay')"
   ]
  },
  {
   "cell_type": "code",
   "execution_count": 8,
   "id": "09ce3a35",
   "metadata": {},
   "outputs": [
    {
     "name": "stdout",
     "output_type": "stream",
     "text": [
      "a\n",
      "b\n",
      "h\n",
      "i\n",
      "l\n",
      "a\n",
      "s\n",
      "h\n"
     ]
    }
   ],
   "source": [
    "a = [1,2,3,['abhilash'], 100]\n",
    "\n",
    "for i in  'abhilash':\n",
    "    print(i)                  # Behind the scene"
   ]
  },
  {
   "cell_type": "code",
   "execution_count": 10,
   "id": "6cb72a63",
   "metadata": {},
   "outputs": [
    {
     "name": "stdout",
     "output_type": "stream",
     "text": [
      "100\n",
      "9\n",
      "16\n",
      "49\n",
      "64\n"
     ]
    }
   ],
   "source": [
    "a = [10,3,4,7,8]\n",
    "\n",
    "for i in a:\n",
    "     print(i**2)"
   ]
  },
  {
   "cell_type": "code",
   "execution_count": 16,
   "id": "ec8e4aaa",
   "metadata": {},
   "outputs": [
    {
     "name": "stdout",
     "output_type": "stream",
     "text": [
      "[100, 9, 16, 49, 64]\n"
     ]
    }
   ],
   "source": [
    "# Append\n",
    "\n",
    "a = [10,3,4,7,8]\n",
    "b = []\n",
    "\n",
    "for i in a:\n",
    "     b.append(i**2)\n",
    "\n",
    "print(b)\n"
   ]
  },
  {
   "cell_type": "code",
   "execution_count": 15,
   "id": "22ae7a32",
   "metadata": {},
   "outputs": [
    {
     "name": "stdout",
     "output_type": "stream",
     "text": [
      "['afsaan', 'akash', 'gulab', 'krishna', 'pranali']\n"
     ]
    }
   ],
   "source": [
    "a = ['afsaan@gmail.com' , 'akash@email.com' , 'gulab@gmail.com' , 'krishna@yahoo.in' , 'pranali@xyz.in']\n",
    "b = []\n",
    "\n",
    "for i in a:\n",
    "    b.append(i.split('@')[0])\n",
    "print(b)"
   ]
  },
  {
   "cell_type": "code",
   "execution_count": 52,
   "id": "b803cfff",
   "metadata": {},
   "outputs": [
    {
     "name": "stdout",
     "output_type": "stream",
     "text": [
      "['afsaan', 'akash', 'gulab', 'krishna', 'pranali']\n"
     ]
    }
   ],
   "source": [
    "# List Comprehension ---> we dont have to use append\n",
    "\n",
    "a = ['afsaan@gmail.com' , 'akash@email.com' , 'gulab@gmail.com' , 'krishna@yahoo.in' , 'pranali@xyz.in']\n",
    "b = [i.split('@')[0] for i in a]\n",
    "print(b)"
   ]
  },
  {
   "cell_type": "code",
   "execution_count": 17,
   "id": "b29e64c7",
   "metadata": {},
   "outputs": [
    {
     "name": "stdout",
     "output_type": "stream",
     "text": [
      "[100, 9, 16, 49, 64]\n"
     ]
    }
   ],
   "source": [
    "a = [10,3,4,7,8]\n",
    "b = [i**2 for i in a]\n",
    "print(b)\n"
   ]
  },
  {
   "cell_type": "code",
   "execution_count": 59,
   "id": "6a2dd8a6",
   "metadata": {},
   "outputs": [
    {
     "name": "stdout",
     "output_type": "stream",
     "text": [
      "[6, 4]\n"
     ]
    }
   ],
   "source": [
    "a = [1,6,4,3,7,9]\n",
    "b = []\n",
    "\n",
    "for i in a:\n",
    "    if i%2 == 0:\n",
    "        b.append(i)\n",
    "print(b)"
   ]
  },
  {
   "cell_type": "code",
   "execution_count": 23,
   "id": "9caecb8a",
   "metadata": {},
   "outputs": [
    {
     "name": "stdout",
     "output_type": "stream",
     "text": [
      "[False, True, True, False, False, False]\n"
     ]
    }
   ],
   "source": [
    "a = [1,6,4,3,7,9]\n",
    "b = [i%2 == 0 for i in a]\n",
    "\n",
    "print(b)"
   ]
  },
  {
   "cell_type": "code",
   "execution_count": null,
   "id": "a7434a80",
   "metadata": {},
   "outputs": [],
   "source": []
  }
 ],
 "metadata": {
  "kernelspec": {
   "display_name": "Python 3 (ipykernel)",
   "language": "python",
   "name": "python3"
  },
  "language_info": {
   "codemirror_mode": {
    "name": "ipython",
    "version": 3
   },
   "file_extension": ".py",
   "mimetype": "text/x-python",
   "name": "python",
   "nbconvert_exporter": "python",
   "pygments_lexer": "ipython3",
   "version": "3.9.12"
  }
 },
 "nbformat": 4,
 "nbformat_minor": 5
}
