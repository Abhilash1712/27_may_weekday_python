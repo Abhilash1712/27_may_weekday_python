{
 "cells": [
  {
   "cell_type": "code",
   "execution_count": 1,
   "id": "23ebc3b1",
   "metadata": {},
   "outputs": [],
   "source": [
    "data = {'emp1':{'name':'afsan', 'roll no':654, 'email':'abc@gmail.com'},\n",
    "        'emp2':{'name':'rahul', 'roll no':123, 'email':'xyz@gmail.com'}}\n"
   ]
  },
  {
   "cell_type": "code",
   "execution_count": 3,
   "id": "28a1c410",
   "metadata": {},
   "outputs": [
    {
     "data": {
      "text/plain": [
       "dict_keys(['emp1', 'emp2'])"
      ]
     },
     "execution_count": 3,
     "metadata": {},
     "output_type": "execute_result"
    }
   ],
   "source": [
    "# Method to see all the keys in dict\n",
    "\n",
    "data.keys()"
   ]
  },
  {
   "cell_type": "code",
   "execution_count": 4,
   "id": "9633f609",
   "metadata": {},
   "outputs": [
    {
     "data": {
      "text/plain": [
       "dict_values([{'name': 'afsan', 'roll no': 654, 'email': 'abc@gmail.com'}, {'name': 'rahul', 'roll no': 123, 'email': 'xyz@gmail.com'}])"
      ]
     },
     "execution_count": 4,
     "metadata": {},
     "output_type": "execute_result"
    }
   ],
   "source": [
    "# All the value\n",
    "\n",
    "data.values()"
   ]
  },
  {
   "cell_type": "code",
   "execution_count": 6,
   "id": "c4e456f0",
   "metadata": {},
   "outputs": [
    {
     "data": {
      "text/plain": [
       "dict_items([('emp1', {'name': 'afsan', 'roll no': 654, 'email': 'abc@gmail.com'}), ('emp2', {'name': 'rahul', 'roll no': 123, 'email': 'xyz@gmail.com'})])"
      ]
     },
     "execution_count": 6,
     "metadata": {},
     "output_type": "execute_result"
    }
   ],
   "source": [
    "# all the items\n",
    "\n",
    "data.items()     # Returns a Tuple[(key,value),(key,value)]"
   ]
  },
  {
   "cell_type": "code",
   "execution_count": null,
   "id": "df905a5b",
   "metadata": {},
   "outputs": [],
   "source": [
    "# Fromkeys(Creates a new dict with keys from iterable and value set to value parameter)"
   ]
  },
  {
   "cell_type": "code",
   "execution_count": 7,
   "id": "5ea7bc86",
   "metadata": {},
   "outputs": [
    {
     "name": "stdout",
     "output_type": "stream",
     "text": [
      "{'Afsan': 0, 'Debdutta': 0, 'Fathima': 0}\n"
     ]
    }
   ],
   "source": [
    "a = ['Afsan','Debdutta','Fathima']\n",
    "data = dict.fromkeys(a,0)\n",
    "print(data)                # Can only give a single value"
   ]
  },
  {
   "cell_type": "code",
   "execution_count": 10,
   "id": "46ddab23",
   "metadata": {},
   "outputs": [
    {
     "name": "stdout",
     "output_type": "stream",
     "text": [
      "{}\n"
     ]
    }
   ],
   "source": [
    "# Clear\n",
    "\n",
    "data.clear()\n",
    "print(data)"
   ]
  },
  {
   "cell_type": "code",
   "execution_count": 11,
   "id": "8b371b39",
   "metadata": {},
   "outputs": [
    {
     "data": {
      "text/plain": [
       "{1: 1, 2: 4, 3: 9, 4: 16, 5: 25, 6: 36}"
      ]
     },
     "execution_count": 11,
     "metadata": {},
     "output_type": "execute_result"
    }
   ],
   "source": [
    "# Dict Comprehension\n",
    "\n",
    "a = [1,2,3,4,5,6]\n",
    "\n",
    "{i:i**2 for i in a}"
   ]
  },
  {
   "cell_type": "markdown",
   "id": "79c91459",
   "metadata": {},
   "source": [
    "## Range Data type"
   ]
  },
  {
   "cell_type": "code",
   "execution_count": 2,
   "id": "94fb92a4",
   "metadata": {},
   "outputs": [
    {
     "name": "stdout",
     "output_type": "stream",
     "text": [
      "[0, 1, 2, 3, 4, 5, 6, 7, 8, 9, 10, 11, 12, 13, 14, 15, 16, 17, 18, 19, 20, 21, 22, 23, 24, 25, 26, 27, 28, 29, 30, 31, 32, 33, 34, 35, 36, 37, 38, 39, 40, 41, 42, 43, 44, 45, 46, 47, 48, 49, 50, 51, 52, 53, 54, 55, 56, 57, 58, 59, 60, 61, 62, 63, 64, 65, 66, 67, 68, 69, 70, 71, 72, 73, 74, 75, 76, 77, 78, 79, 80, 81, 82, 83, 84, 85, 86, 87, 88, 89, 90, 91, 92, 93, 94, 95, 96, 97, 98, 99]\n"
     ]
    }
   ],
   "source": [
    "print(list(range(0,100)))"
   ]
  },
  {
   "cell_type": "code",
   "execution_count": 4,
   "id": "b3da7a61",
   "metadata": {},
   "outputs": [
    {
     "name": "stdout",
     "output_type": "stream",
     "text": [
      "[0, 3, 6, 9, 12]\n"
     ]
    }
   ],
   "source": [
    "print(list(range(0,15,3)))"
   ]
  },
  {
   "cell_type": "code",
   "execution_count": 12,
   "id": "65c4f1b4",
   "metadata": {},
   "outputs": [
    {
     "name": "stdout",
     "output_type": "stream",
     "text": [
      "[]\n"
     ]
    }
   ],
   "source": [
    "print(list(range(15,0,2)))"
   ]
  },
  {
   "cell_type": "code",
   "execution_count": 6,
   "id": "968b25f0",
   "metadata": {},
   "outputs": [
    {
     "name": "stdout",
     "output_type": "stream",
     "text": [
      "[15, 13, 11, 9, 7, 5, 3, 1]\n"
     ]
    }
   ],
   "source": [
    "print(list(range(15,0,-2)))"
   ]
  },
  {
   "cell_type": "code",
   "execution_count": 7,
   "id": "e7ca945c",
   "metadata": {},
   "outputs": [
    {
     "name": "stdout",
     "output_type": "stream",
     "text": [
      "[0, 1, 2, 3, 4, 5, 6, 7, 8, 9]\n"
     ]
    }
   ],
   "source": [
    "print(list(range(10)))"
   ]
  },
  {
   "cell_type": "markdown",
   "id": "3cfe2f01",
   "metadata": {},
   "source": [
    "### Set data type"
   ]
  },
  {
   "cell_type": "code",
   "execution_count": 9,
   "id": "af09cee4",
   "metadata": {},
   "outputs": [
    {
     "name": "stdout",
     "output_type": "stream",
     "text": [
      "{1, 2, 3, 4, 5} <class 'set'>\n"
     ]
    }
   ],
   "source": [
    "a = {1,2,3,4,5}\n",
    "print(a, type(a))"
   ]
  },
  {
   "cell_type": "code",
   "execution_count": 15,
   "id": "80ec3daf",
   "metadata": {},
   "outputs": [
    {
     "name": "stdout",
     "output_type": "stream",
     "text": [
      "{1, 2, 3, 4, 5, 6} <class 'set'>\n"
     ]
    }
   ],
   "source": [
    "a = {1,1,1,2,2,2,3,3,3,3,4,4,4,4,5,5,5,6,6}\n",
    "print(a, type(a))"
   ]
  },
  {
   "cell_type": "code",
   "execution_count": 18,
   "id": "df80b59a",
   "metadata": {},
   "outputs": [],
   "source": [
    "a.clear()      # It is Mutable"
   ]
  },
  {
   "cell_type": "code",
   "execution_count": 17,
   "id": "d1c54a8f",
   "metadata": {},
   "outputs": [
    {
     "data": {
      "text/plain": [
       "set()"
      ]
     },
     "execution_count": 17,
     "metadata": {},
     "output_type": "execute_result"
    }
   ],
   "source": [
    "a"
   ]
  },
  {
   "cell_type": "code",
   "execution_count": 20,
   "id": "62366d30",
   "metadata": {},
   "outputs": [
    {
     "name": "stdout",
     "output_type": "stream",
     "text": [
      "{1, 2, 3, (10, 22, 33)}\n"
     ]
    }
   ],
   "source": [
    "a = {1,2,3,(10,22,33)}   # cannot contain mutable data type(Tuple is immutable data type)\n",
    "print(a)"
   ]
  },
  {
   "cell_type": "code",
   "execution_count": 21,
   "id": "9fa4e2da",
   "metadata": {},
   "outputs": [
    {
     "name": "stdout",
     "output_type": "stream",
     "text": [
      "['__and__', '__class__', '__class_getitem__', '__contains__', '__delattr__', '__dir__', '__doc__', '__eq__', '__format__', '__ge__', '__getattribute__', '__gt__', '__hash__', '__iand__', '__init__', '__init_subclass__', '__ior__', '__isub__', '__iter__', '__ixor__', '__le__', '__len__', '__lt__', '__ne__', '__new__', '__or__', '__rand__', '__reduce__', '__reduce_ex__', '__repr__', '__ror__', '__rsub__', '__rxor__', '__setattr__', '__sizeof__', '__str__', '__sub__', '__subclasshook__', '__xor__', 'add', 'clear', 'copy', 'difference', 'difference_update', 'discard', 'intersection', 'intersection_update', 'isdisjoint', 'issubset', 'issuperset', 'pop', 'remove', 'symmetric_difference', 'symmetric_difference_update', 'union', 'update']\n"
     ]
    }
   ],
   "source": [
    "print(dir(set))"
   ]
  },
  {
   "cell_type": "markdown",
   "id": "e5b09b4b",
   "metadata": {},
   "source": [
    "# Conditional Statement"
   ]
  },
  {
   "cell_type": "code",
   "execution_count": 22,
   "id": "a16e69e1",
   "metadata": {},
   "outputs": [
    {
     "ename": "NameError",
     "evalue": "name 'stat1' is not defined",
     "output_type": "error",
     "traceback": [
      "\u001b[1;31m---------------------------------------------------------------------------\u001b[0m",
      "\u001b[1;31mNameError\u001b[0m                                 Traceback (most recent call last)",
      "Input \u001b[1;32mIn [22]\u001b[0m, in \u001b[0;36m<cell line: 3>\u001b[1;34m()\u001b[0m\n\u001b[0;32m      1\u001b[0m \u001b[38;5;66;03m# if statement\u001b[39;00m\n\u001b[1;32m----> 3\u001b[0m \u001b[43mstat1\u001b[49m\n\u001b[0;32m      4\u001b[0m stat2\n\u001b[0;32m      5\u001b[0m stat3\n",
      "\u001b[1;31mNameError\u001b[0m: name 'stat1' is not defined"
     ]
    }
   ],
   "source": [
    "# if statement\n",
    "\n",
    "stat1\n",
    "stat2\n",
    "stat3\n",
    "if cond:\n",
    "    stat4\n",
    "    stat5\n",
    "    \n",
    "if cond is true - 1,2,3,4,5\n",
    "if cond is false - 1,2,3\n",
    "    \n"
   ]
  },
  {
   "cell_type": "code",
   "execution_count": null,
   "id": "8ec4c485",
   "metadata": {},
   "outputs": [],
   "source": [
    "# if statement\n",
    "\n",
    "stat1\n",
    "stat2\n",
    "stat3\n",
    "if cond:\n",
    "    stat4\n",
    "    stat5\n",
    "    \n",
    "stat6\n",
    "stat7\n",
    "    \n",
    "if cond is true - 1,2,3,4,5,6,7\n",
    "if cond is false - 1,2,3,6,7\n",
    "    \n"
   ]
  },
  {
   "cell_type": "code",
   "execution_count": null,
   "id": "51118615",
   "metadata": {},
   "outputs": [],
   "source": [
    "# if and else\n",
    "\n",
    "\n",
    "stat1\n",
    "stat2\n",
    "stat3\n",
    "if cond:\n",
    "    stat4\n",
    "    stat5\n",
    "else:\n",
    "    stat6\n",
    "    stat7\n",
    "stat8\n",
    "stat9\n",
    "    \n",
    "if cond is true - 1,2,3,4,5,8,9\n",
    "if cond is false - 1,2,3,6,7,8,9\n",
    "    \n"
   ]
  },
  {
   "cell_type": "code",
   "execution_count": null,
   "id": "189d28a0",
   "metadata": {},
   "outputs": [],
   "source": [
    "stat1\n",
    "stat2\n",
    "stat3\n",
    "if cond1:\n",
    "    stat4            # Only if cond 1 and 2 are true and cond 3 is false \n",
    "    stat5\n",
    "if cond2:\n",
    "    stat6\n",
    "    stat7\n",
    "if cond3:\n",
    "    stat8\n",
    "    stat9    \n",
    "else:                 # else stat only depends only on the previous is cond\n",
    "    stat10\n",
    "    stat11\n",
    "stat12\n",
    "stat13\n",
    "    \n",
    "if cond 1 and 2 are true - 1,2,3,4,5,6,7,10,11,12,13\n",
    "if all cond are false - 1,2,3,10,11.12.13\n",
    "if cond 2 and 3 are true - 1,2,3,6,7,8,9,12,13   "
   ]
  },
  {
   "cell_type": "code",
   "execution_count": 23,
   "id": "122bc063",
   "metadata": {},
   "outputs": [],
   "source": [
    "# if elif else"
   ]
  },
  {
   "cell_type": "code",
   "execution_count": 24,
   "id": "356ce1e8",
   "metadata": {},
   "outputs": [
    {
     "ename": "NameError",
     "evalue": "name 'stat1' is not defined",
     "output_type": "error",
     "traceback": [
      "\u001b[1;31m---------------------------------------------------------------------------\u001b[0m",
      "\u001b[1;31mNameError\u001b[0m                                 Traceback (most recent call last)",
      "Input \u001b[1;32mIn [24]\u001b[0m, in \u001b[0;36m<cell line: 1>\u001b[1;34m()\u001b[0m\n\u001b[1;32m----> 1\u001b[0m \u001b[43mstat1\u001b[49m\n\u001b[0;32m      2\u001b[0m stat2\n\u001b[0;32m      3\u001b[0m stat3\n",
      "\u001b[1;31mNameError\u001b[0m: name 'stat1' is not defined"
     ]
    }
   ],
   "source": [
    "stat1\n",
    "stat2\n",
    "stat3\n",
    "if cond1:\n",
    "    stat4            \n",
    "    stat5\n",
    "elif cond2:\n",
    "    stat8\n",
    "    stat9\n",
    "elif cond3:\n",
    "    stat10\n",
    "    stat11   \n",
    "else:                 \n",
    "    stat12\n",
    "    stat13\n",
    "stat14\n",
    "stat15\n",
    "\n",
    "if cond 1 and 2 are True - 1,2,3,4,5,14,15\n",
    "if all cond are True - 1,2,3,4,5,14,15 (Same as above)\n",
    "if cond 2 is false - (Same as above)\n",
    "if cond 1 and cond 2 is false - 1,2,3,10,11,14,15\n",
    "if all are false - 1,2,3,12,13,14,15"
   ]
  },
  {
   "cell_type": "code",
   "execution_count": 12,
   "id": "ec0488c1",
   "metadata": {},
   "outputs": [
    {
     "name": "stdout",
     "output_type": "stream",
     "text": [
      "line 4\n",
      "line 5\n"
     ]
    }
   ],
   "source": [
    "a = 33\n",
    "b = 200\n",
    "if b>a:\n",
    "    print('line 4')\n",
    "print('line 5')"
   ]
  },
  {
   "cell_type": "code",
   "execution_count": 29,
   "id": "b53c992c",
   "metadata": {},
   "outputs": [
    {
     "name": "stdout",
     "output_type": "stream",
     "text": [
      "line 9\n",
      "end\n"
     ]
    }
   ],
   "source": [
    "a = 100\n",
    "b = 'afsan'\n",
    "c = 'a'\n",
    "d = 200\n",
    "\n",
    "if 'a' > 'afsan':\n",
    "    print('line 7')\n",
    "    \n",
    "elif c in b:\n",
    "    print('line 9')\n",
    "    \n",
    "elif a == 100 and b== 291:\n",
    "    print('line 11')\n",
    "\n",
    "else:\n",
    "    print('line 13')\n",
    "print('end')"
   ]
  },
  {
   "cell_type": "code",
   "execution_count": 31,
   "id": "2dbeb276",
   "metadata": {},
   "outputs": [
    {
     "name": "stdout",
     "output_type": "stream",
     "text": [
      "hey\n",
      "hola\n",
      "End\n"
     ]
    }
   ],
   "source": [
    "x = 35\n",
    "\n",
    "if x > 10:\n",
    "    print('hey')\n",
    "    if x>20:\n",
    "        print('hola')\n",
    "    else:\n",
    "        print('bye')\n",
    "else:\n",
    "    if x == 5:\n",
    "        print('Hi')\n",
    "    else:\n",
    "        print('see you')\n",
    "print('End')"
   ]
  },
  {
   "cell_type": "code",
   "execution_count": 22,
   "id": "75de4c01",
   "metadata": {},
   "outputs": [
    {
     "name": "stdout",
     "output_type": "stream",
     "text": [
      "Hi\n",
      "End\n"
     ]
    }
   ],
   "source": [
    "x = 5\n",
    "\n",
    "if x > 10:\n",
    "    print('hey')\n",
    "    if x>20:\n",
    "        print('hola')\n",
    "    else:\n",
    "        print('bye')\n",
    "else:\n",
    "    if x == 5:\n",
    "        print('Hi')\n",
    "    else:\n",
    "        print('see you')\n",
    "print('End')"
   ]
  },
  {
   "cell_type": "code",
   "execution_count": 32,
   "id": "a024fd0e",
   "metadata": {},
   "outputs": [
    {
     "name": "stdout",
     "output_type": "stream",
     "text": [
      "enter a number80\n",
      "invalid input\n"
     ]
    }
   ],
   "source": [
    "a = eval(input('enter a number'))\n",
    "if (a==0):\n",
    "    print('zero')\n",
    "elif (a==1):\n",
    "    print('one')\n",
    "elif (a==2):\n",
    "    print('two')\n",
    "elif (a==3):\n",
    "    print('three')\n",
    "else:\n",
    "    print('invalid input')\n"
   ]
  },
  {
   "cell_type": "code",
   "execution_count": 26,
   "id": "f20e42db",
   "metadata": {},
   "outputs": [
    {
     "name": "stdout",
     "output_type": "stream",
     "text": [
      "palindrom\n"
     ]
    }
   ],
   "source": [
    "data = 'maam'\n",
    "\n",
    "if data == data[::-1]:\n",
    "    print('palindrom')\n",
    "else:\n",
    "    print('not palindrom')\n"
   ]
  },
  {
   "cell_type": "code",
   "execution_count": 35,
   "id": "2b30e6c8",
   "metadata": {},
   "outputs": [
    {
     "name": "stdout",
     "output_type": "stream",
     "text": [
      "2\n",
      "4\n",
      "6\n",
      "8\n",
      "10\n",
      "12\n",
      "14\n",
      "16\n",
      "18\n",
      "20\n",
      "22\n",
      "24\n",
      "26\n",
      "28\n",
      "30\n",
      "32\n",
      "34\n",
      "36\n",
      "38\n",
      "40\n",
      "42\n",
      "44\n",
      "46\n",
      "48\n",
      "50\n"
     ]
    }
   ],
   "source": [
    "for i in range(2,51,2):\n",
    " \n",
    "        print(i)   # All the even numbers from 1-50\n"
   ]
  },
  {
   "cell_type": "code",
   "execution_count": null,
   "id": "2bd39dcf",
   "metadata": {},
   "outputs": [],
   "source": []
  }
 ],
 "metadata": {
  "kernelspec": {
   "display_name": "Python 3 (ipykernel)",
   "language": "python",
   "name": "python3"
  },
  "language_info": {
   "codemirror_mode": {
    "name": "ipython",
    "version": 3
   },
   "file_extension": ".py",
   "mimetype": "text/x-python",
   "name": "python",
   "nbconvert_exporter": "python",
   "pygments_lexer": "ipython3",
   "version": "3.9.12"
  }
 },
 "nbformat": 4,
 "nbformat_minor": 5
}
