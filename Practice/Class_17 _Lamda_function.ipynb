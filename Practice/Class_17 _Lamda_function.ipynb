{
 "cells": [
  {
   "cell_type": "code",
   "execution_count": 9,
   "id": "33991f8a",
   "metadata": {},
   "outputs": [],
   "source": [
    "# Recursive Function (Function calling itself)\n",
    "\n",
    "\n",
    "def fact(num):               # factorial of a number\n",
    "    if num == 0:\n",
    "        return 1\n",
    "    else:\n",
    "        return num*fact(num-1)"
   ]
  },
  {
   "cell_type": "code",
   "execution_count": 10,
   "id": "881ca70a",
   "metadata": {},
   "outputs": [
    {
     "data": {
      "text/plain": [
       "1"
      ]
     },
     "execution_count": 10,
     "metadata": {},
     "output_type": "execute_result"
    }
   ],
   "source": [
    "fact(0)"
   ]
  },
  {
   "cell_type": "code",
   "execution_count": 7,
   "id": "70ed1586",
   "metadata": {},
   "outputs": [
    {
     "data": {
      "text/plain": [
       "120"
      ]
     },
     "execution_count": 7,
     "metadata": {},
     "output_type": "execute_result"
    }
   ],
   "source": [
    "fact(5)"
   ]
  },
  {
   "cell_type": "code",
   "execution_count": 8,
   "id": "416f7a4c",
   "metadata": {},
   "outputs": [
    {
     "data": {
      "text/plain": [
       "24"
      ]
     },
     "execution_count": 8,
     "metadata": {},
     "output_type": "execute_result"
    }
   ],
   "source": [
    "fact(4)"
   ]
  },
  {
   "cell_type": "markdown",
   "id": "8cc5abe0",
   "metadata": {},
   "source": [
    "# Lamda Function or Annonymous Function"
   ]
  },
  {
   "cell_type": "code",
   "execution_count": 11,
   "id": "b955d462",
   "metadata": {},
   "outputs": [],
   "source": [
    "def sum(a,b):\n",
    "    return(a+b)"
   ]
  },
  {
   "cell_type": "code",
   "execution_count": 12,
   "id": "3d93ce4a",
   "metadata": {},
   "outputs": [
    {
     "data": {
      "text/plain": [
       "30"
      ]
     },
     "execution_count": 12,
     "metadata": {},
     "output_type": "execute_result"
    }
   ],
   "source": [
    "sum(10,20)"
   ]
  },
  {
   "cell_type": "code",
   "execution_count": 7,
   "id": "7da4faa1",
   "metadata": {},
   "outputs": [
    {
     "data": {
      "text/plain": [
       "30"
      ]
     },
     "execution_count": 7,
     "metadata": {},
     "output_type": "execute_result"
    }
   ],
   "source": [
    "x = (lambda a,b : a+b)\n",
    "x(10,20)"
   ]
  },
  {
   "cell_type": "code",
   "execution_count": 8,
   "id": "b1e17fe6",
   "metadata": {},
   "outputs": [
    {
     "data": {
      "text/plain": [
       "130"
      ]
     },
     "execution_count": 8,
     "metadata": {},
     "output_type": "execute_result"
    }
   ],
   "source": [
    "x(80,50)"
   ]
  },
  {
   "cell_type": "code",
   "execution_count": 23,
   "id": "694a1225",
   "metadata": {},
   "outputs": [],
   "source": [
    "def odd_even(num):\n",
    "\n",
    "    if num%2 == 0:\n",
    "        return \"even\"\n",
    "    else:\n",
    "        return \"odd\""
   ]
  },
  {
   "cell_type": "code",
   "execution_count": 24,
   "id": "9e940f21",
   "metadata": {},
   "outputs": [
    {
     "data": {
      "text/plain": [
       "'even'"
      ]
     },
     "execution_count": 24,
     "metadata": {},
     "output_type": "execute_result"
    }
   ],
   "source": [
    " odd_even(10)"
   ]
  },
  {
   "cell_type": "code",
   "execution_count": 25,
   "id": "c19764ac",
   "metadata": {},
   "outputs": [
    {
     "data": {
      "text/plain": [
       "'odd'"
      ]
     },
     "execution_count": 25,
     "metadata": {},
     "output_type": "execute_result"
    }
   ],
   "source": [
    " odd_even(11)"
   ]
  },
  {
   "cell_type": "code",
   "execution_count": 26,
   "id": "2c37a9ec",
   "metadata": {},
   "outputs": [],
   "source": [
    "x = lambda num : 'even' if num%2==0  else 'odd'"
   ]
  },
  {
   "cell_type": "code",
   "execution_count": 27,
   "id": "ef1d641d",
   "metadata": {},
   "outputs": [
    {
     "data": {
      "text/plain": [
       "'even'"
      ]
     },
     "execution_count": 27,
     "metadata": {},
     "output_type": "execute_result"
    }
   ],
   "source": [
    "x(8)"
   ]
  },
  {
   "cell_type": "code",
   "execution_count": 28,
   "id": "eeca26f5",
   "metadata": {},
   "outputs": [
    {
     "data": {
      "text/plain": [
       "'odd'"
      ]
     },
     "execution_count": 28,
     "metadata": {},
     "output_type": "execute_result"
    }
   ],
   "source": [
    "x(55)"
   ]
  },
  {
   "cell_type": "code",
   "execution_count": 3,
   "id": "05b39862",
   "metadata": {},
   "outputs": [],
   "source": [
    "# Local and Global variable"
   ]
  },
  {
   "cell_type": "code",
   "execution_count": 1,
   "id": "6179f927",
   "metadata": {},
   "outputs": [
    {
     "name": "stdout",
     "output_type": "stream",
     "text": [
      "10\n",
      "20\n"
     ]
    },
    {
     "ename": "NameError",
     "evalue": "name 'c' is not defined",
     "output_type": "error",
     "traceback": [
      "\u001b[1;31m---------------------------------------------------------------------------\u001b[0m",
      "\u001b[1;31mNameError\u001b[0m                                 Traceback (most recent call last)",
      "Input \u001b[1;32mIn [1]\u001b[0m, in \u001b[0;36m<cell line: 11>\u001b[1;34m()\u001b[0m\n\u001b[0;32m      9\u001b[0m \u001b[38;5;28mprint\u001b[39m(a)\n\u001b[0;32m     10\u001b[0m \u001b[38;5;28mprint\u001b[39m(b)\n\u001b[1;32m---> 11\u001b[0m \u001b[38;5;28mprint\u001b[39m(\u001b[43mc\u001b[49m)\n",
      "\u001b[1;31mNameError\u001b[0m: name 'c' is not defined"
     ]
    }
   ],
   "source": [
    "a = 10   # global variable( Can be used anywhere in the function)\n",
    "b = 20   # global avriable\n",
    "\n",
    "def abc():\n",
    "\n",
    "    c = a+b   # local variable (used inside a function)\n",
    "    \n",
    "abc()\n",
    "print(a)\n",
    "print(b)\n",
    "print(c)  "
   ]
  },
  {
   "cell_type": "code",
   "execution_count": 2,
   "id": "d7af533f",
   "metadata": {},
   "outputs": [
    {
     "name": "stdout",
     "output_type": "stream",
     "text": [
      "10\n",
      "20\n",
      "30\n"
     ]
    }
   ],
   "source": [
    "a = 10\n",
    "b = 20\n",
    "\n",
    "def abc():\n",
    "    global c\n",
    "    c = a+b\n",
    "    \n",
    "abc()\n",
    "print(a)\n",
    "print(b)\n",
    "print(c)  "
   ]
  },
  {
   "cell_type": "code",
   "execution_count": 4,
   "id": "cf24d983",
   "metadata": {},
   "outputs": [],
   "source": [
    "# map()\n",
    "\n",
    "temp_c = [8,5,8,6,3,7]\n",
    "\n",
    "def fah (T):\n",
    "    return (9/5)*T + 32\n"
   ]
  },
  {
   "cell_type": "code",
   "execution_count": 5,
   "id": "2e4cd000",
   "metadata": {},
   "outputs": [],
   "source": [
    "temp_f = []\n",
    "for i in temp_c:\n",
    "    temp_f.append(fah(i))"
   ]
  },
  {
   "cell_type": "code",
   "execution_count": 6,
   "id": "439143d6",
   "metadata": {},
   "outputs": [
    {
     "data": {
      "text/plain": [
       "[46.4, 41.0, 46.4, 42.8, 37.4, 44.6]"
      ]
     },
     "execution_count": 6,
     "metadata": {},
     "output_type": "execute_result"
    }
   ],
   "source": [
    "temp_f"
   ]
  },
  {
   "cell_type": "code",
   "execution_count": 54,
   "id": "ab18ad2e",
   "metadata": {},
   "outputs": [
    {
     "data": {
      "text/plain": [
       "[46.4, 41.0, 46.4, 42.8, 37.4, 44.6]"
      ]
     },
     "execution_count": 54,
     "metadata": {},
     "output_type": "execute_result"
    }
   ],
   "source": [
    "list(map(fah,[8,5,8,6,3,7]))"
   ]
  },
  {
   "cell_type": "code",
   "execution_count": 7,
   "id": "f62ee0d2",
   "metadata": {},
   "outputs": [
    {
     "data": {
      "text/plain": [
       "[46.4, 41.0, 46.4, 42.8, 37.4, 44.6]"
      ]
     },
     "execution_count": 7,
     "metadata": {},
     "output_type": "execute_result"
    }
   ],
   "source": [
    "list(map(lambda T:(9/5)*T + 32,[8,5,8,6,3,7]))   # In just one line"
   ]
  },
  {
   "cell_type": "code",
   "execution_count": 12,
   "id": "7b1e1b7b",
   "metadata": {},
   "outputs": [
    {
     "data": {
      "text/plain": [
       "[64, 25, 64, 36, 9, 49]"
      ]
     },
     "execution_count": 12,
     "metadata": {},
     "output_type": "execute_result"
    }
   ],
   "source": [
    "a = [8,5,8,6,3,7]\n",
    "b = [8,5,8,6,3,7]\n",
    "\n",
    "\n",
    "list(map(lambda a,b : a*b,a,b))"
   ]
  },
  {
   "cell_type": "code",
   "execution_count": 13,
   "id": "03e75f11",
   "metadata": {},
   "outputs": [
    {
     "data": {
      "text/plain": [
       "50"
      ]
     },
     "execution_count": 13,
     "metadata": {},
     "output_type": "execute_result"
    }
   ],
   "source": [
    "# reduce function\n",
    "\n",
    "from functools import reduce\n",
    "\n",
    "data = [8,50,8,6,3,7]\n",
    "\n",
    "reduce(lambda a,b: a if a>b else b, data)"
   ]
  },
  {
   "cell_type": "code",
   "execution_count": 14,
   "id": "b7c8338b",
   "metadata": {},
   "outputs": [
    {
     "data": {
      "text/plain": [
       "3"
      ]
     },
     "execution_count": 14,
     "metadata": {},
     "output_type": "execute_result"
    }
   ],
   "source": [
    "from functools import reduce\n",
    "\n",
    "data = [8,50,8,6,3,7]\n",
    "\n",
    "reduce(lambda a,b: a if a<b else b, data)"
   ]
  },
  {
   "cell_type": "code",
   "execution_count": 69,
   "id": "f32d7286",
   "metadata": {},
   "outputs": [
    {
     "data": {
      "text/plain": [
       "82"
      ]
     },
     "execution_count": 69,
     "metadata": {},
     "output_type": "execute_result"
    }
   ],
   "source": [
    "from functools import reduce\n",
    "\n",
    "data = [8,50,8,6,3,7]\n",
    "\n",
    "reduce(lambda a,b: a+b, data)"
   ]
  },
  {
   "cell_type": "code",
   "execution_count": 2,
   "id": "393abf31",
   "metadata": {},
   "outputs": [
    {
     "data": {
      "text/plain": [
       "[10, 6, 4, 2, 4]"
      ]
     },
     "execution_count": 2,
     "metadata": {},
     "output_type": "execute_result"
    }
   ],
   "source": [
    "# filter function()\n",
    "\n",
    "\n",
    "a = [10,5,6,4,2,4,5]\n",
    "\n",
    "def even(num):\n",
    "    if num%2==0:\n",
    "        return True\n",
    "    else:\n",
    "        return False\n",
    "    \n",
    "list(filter(even,a))"
   ]
  },
  {
   "cell_type": "code",
   "execution_count": 7,
   "id": "250a6f17",
   "metadata": {},
   "outputs": [
    {
     "data": {
      "text/plain": [
       "[10, 6, 4, 2, 4]"
      ]
     },
     "execution_count": 7,
     "metadata": {},
     "output_type": "execute_result"
    }
   ],
   "source": [
    "list(filter(lambda x: x%2==0,a))"
   ]
  },
  {
   "cell_type": "code",
   "execution_count": 74,
   "id": "cafe6624",
   "metadata": {},
   "outputs": [],
   "source": [
    "lst = ['abhilashbaruah93@gmail.com',\n",
    "           'afsan@gmail.com',\n",
    "           'angadpoya@yahoo.com',\n",
    "           'bedatagaoburha@hotmail.com',\n",
    "           'deepadutta61@gmail.com']"
   ]
  },
  {
   "cell_type": "code",
   "execution_count": 75,
   "id": "cddb9d7c",
   "metadata": {},
   "outputs": [
    {
     "data": {
      "text/plain": [
       "['abhilashbaruah93', 'afsan', 'angadpoya', 'bedatagaoburha', 'deepadutta61']"
      ]
     },
     "execution_count": 75,
     "metadata": {},
     "output_type": "execute_result"
    }
   ],
   "source": [
    "list(map(lambda x : x.split('@')[0],lst))"
   ]
  },
  {
   "cell_type": "code",
   "execution_count": 76,
   "id": "9c86c418",
   "metadata": {},
   "outputs": [
    {
     "data": {
      "text/plain": [
       "['abhilashbaruah93@gmail.com', 'afsan@gmail.com', 'deepadutta61@gmail.com']"
      ]
     },
     "execution_count": 76,
     "metadata": {},
     "output_type": "execute_result"
    }
   ],
   "source": [
    "list(filter(lambda x : x.split('@')[1]=='gmail.com',lst))"
   ]
  },
  {
   "cell_type": "code",
   "execution_count": 77,
   "id": "22cedebd",
   "metadata": {},
   "outputs": [
    {
     "data": {
      "text/plain": [
       "['abhilashbaruah93', 'afsan', 'deepadutta61']"
      ]
     },
     "execution_count": 77,
     "metadata": {},
     "output_type": "execute_result"
    }
   ],
   "source": [
    "list(map(lambda x : x.split('@')[0],list(filter(lambda x : x.split('@')[1]=='gmail.com',lst))))"
   ]
  }
 ],
 "metadata": {
  "kernelspec": {
   "display_name": "Python 3 (ipykernel)",
   "language": "python",
   "name": "python3"
  },
  "language_info": {
   "codemirror_mode": {
    "name": "ipython",
    "version": 3
   },
   "file_extension": ".py",
   "mimetype": "text/x-python",
   "name": "python",
   "nbconvert_exporter": "python",
   "pygments_lexer": "ipython3",
   "version": "3.9.12"
  }
 },
 "nbformat": 4,
 "nbformat_minor": 5
}
