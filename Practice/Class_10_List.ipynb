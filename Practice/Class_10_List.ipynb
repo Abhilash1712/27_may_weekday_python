{
 "cells": [
  {
   "cell_type": "markdown",
   "id": "3b9ba118",
   "metadata": {},
   "source": [
    "## List"
   ]
  },
  {
   "cell_type": "code",
   "execution_count": 8,
   "id": "1aa9bd04",
   "metadata": {},
   "outputs": [
    {
     "name": "stdout",
     "output_type": "stream",
     "text": [
      "[10, 20, 30, 40]\n",
      "10\n",
      "40\n"
     ]
    }
   ],
   "source": [
    "a = [10,20,30,40]\n",
    "print(a)\n",
    "print(a[0])\n",
    "print(a[-1])     # Seq. Data Type"
   ]
  },
  {
   "cell_type": "code",
   "execution_count": 10,
   "id": "7c08db6d",
   "metadata": {},
   "outputs": [
    {
     "name": "stdout",
     "output_type": "stream",
     "text": [
      "[11, 1, 1, 1, 1, 11, 22, 33, 44, 55, 44, 55, 44]\n"
     ]
    }
   ],
   "source": [
    "# Allows Dublicate element\n",
    "\n",
    "a = [11,1,1,1,1,11,22,33,44,55,44,55,44]\n",
    "print(a)"
   ]
  },
  {
   "cell_type": "code",
   "execution_count": 12,
   "id": "c064aa97",
   "metadata": {},
   "outputs": [
    {
     "name": "stdout",
     "output_type": "stream",
     "text": [
      "1375434004992\n",
      "[1, 2, 3, 4, 5]\n",
      "1375434004992\n",
      "[100, 2, 3, 4, 5]\n"
     ]
    }
   ],
   "source": [
    "# Mutable\n",
    "\n",
    "a = [1,2,3,4,5]\n",
    "print(id(a))\n",
    "print(a)\n",
    "a[0] = 100\n",
    "print(id(a))\n",
    "print(a)"
   ]
  },
  {
   "cell_type": "code",
   "execution_count": 13,
   "id": "4b5bf955",
   "metadata": {},
   "outputs": [
    {
     "name": "stdout",
     "output_type": "stream",
     "text": [
      "[1, True, (6+7j), None, 1.2, 'Abhi', (1, 2, 3), {1, 2, 3, 4}, {1: 3}]\n"
     ]
    }
   ],
   "source": [
    "# You can store any data type in a list\n",
    "\n",
    "a = [1,True,6+7j,None,1.2,'Abhi',(1,2,3),{1,2,3,4},{1:3}]\n",
    "print(a)\n"
   ]
  },
  {
   "cell_type": "code",
   "execution_count": 15,
   "id": "12bb95ff",
   "metadata": {},
   "outputs": [
    {
     "name": "stdout",
     "output_type": "stream",
     "text": [
      "1\n",
      "6\n",
      "6\n"
     ]
    }
   ],
   "source": [
    "# Indexing\n",
    "\n",
    "a = [1,2,3,4,5,6]\n",
    "\n",
    "print(a[0])\n",
    "print(a[-1])\n",
    "print(a[len(a)-1])"
   ]
  },
  {
   "cell_type": "code",
   "execution_count": 19,
   "id": "eaad5c4f",
   "metadata": {},
   "outputs": [
    {
     "name": "stdout",
     "output_type": "stream",
     "text": [
      "[]\n",
      "[9, 8, 7, 6, 5, 4, 3, 2, 1]\n"
     ]
    }
   ],
   "source": [
    "# Slicing\n",
    "\n",
    "a = [1,2,3,4,5,6,7,8,9]\n",
    "\n",
    "print(a[0:5:-1])  # Empty List\n",
    "print(a[::-1])\n"
   ]
  },
  {
   "cell_type": "code",
   "execution_count": 20,
   "id": "e09f863d",
   "metadata": {},
   "outputs": [
    {
     "name": "stdout",
     "output_type": "stream",
     "text": [
      "[1, 2, 3, 4, 5, 6]\n"
     ]
    }
   ],
   "source": [
    "# Concatination\n",
    "\n",
    "a = [1,2,3]\n",
    "b = [4,5,6]\n",
    "\n",
    "print(a+b)"
   ]
  },
  {
   "cell_type": "code",
   "execution_count": 21,
   "id": "c43b234c",
   "metadata": {},
   "outputs": [
    {
     "name": "stdout",
     "output_type": "stream",
     "text": [
      "[1, 2, 3, 1, 2, 3, 1, 2, 3, 1, 2, 3, 1, 2, 3, 1, 2, 3, 1, 2, 3, 1, 2, 3, 1, 2, 3, 1, 2, 3]\n"
     ]
    }
   ],
   "source": [
    "# Repetition\n",
    "\n",
    "a = [1,2,3]           # One should be list and other should be integers\n",
    "b = 10\n",
    "\n",
    "print(a*b)"
   ]
  },
  {
   "cell_type": "code",
   "execution_count": 22,
   "id": "75a6e5e4",
   "metadata": {},
   "outputs": [
    {
     "name": "stdout",
     "output_type": "stream",
     "text": [
      "True\n"
     ]
    }
   ],
   "source": [
    "# Membership\n",
    "\n",
    "a = ['afsaan', 'lakshmi','sahana','varun','venkatesh']\n",
    "print('lakshmi' in a)"
   ]
  },
  {
   "cell_type": "code",
   "execution_count": 30,
   "id": "6e9531e0",
   "metadata": {},
   "outputs": [
    {
     "name": "stdout",
     "output_type": "stream",
     "text": [
      "True\n",
      "True\n"
     ]
    }
   ],
   "source": [
    "print('lakshmi'.replace('lakshmi','afsaan')in a)"
   ]
  },
  {
   "cell_type": "code",
   "execution_count": 34,
   "id": "d68f98be",
   "metadata": {},
   "outputs": [
    {
     "name": "stdout",
     "output_type": "stream",
     "text": [
      "1375466945472\n",
      "1375462143808\n",
      "False\n"
     ]
    }
   ],
   "source": [
    "# Identity\n",
    "\n",
    "a = [1,2,3,4,5]\n",
    "print(id(a))\n",
    "b = [1,2,3,4,5]\n",
    "print(id(b))\n",
    "\n",
    "print(a is b)"
   ]
  },
  {
   "cell_type": "code",
   "execution_count": 36,
   "id": "b5ea9c4e",
   "metadata": {},
   "outputs": [
    {
     "name": "stdout",
     "output_type": "stream",
     "text": [
      "[1, 2, 3, 4, 5, [1, 2, 3, 4, 5]]\n"
     ]
    }
   ],
   "source": [
    "# Nested List---> list inside a list\n",
    "\n",
    "a = [1,2,3,4,5,[1,2,3,4,5]]\n",
    "print(a)"
   ]
  },
  {
   "cell_type": "code",
   "execution_count": 20,
   "id": "047c7d06",
   "metadata": {},
   "outputs": [
    {
     "name": "stdout",
     "output_type": "stream",
     "text": [
      "[1, 2, 3, 4, 5]\n"
     ]
    }
   ],
   "source": [
    "a = [1,2,3,4,5,[1,2,3,4,5]]\n",
    "\n",
    "print(a[-1])"
   ]
  },
  {
   "cell_type": "code",
   "execution_count": 21,
   "id": "02a0e7fa",
   "metadata": {},
   "outputs": [
    {
     "name": "stdout",
     "output_type": "stream",
     "text": [
      "3\n"
     ]
    }
   ],
   "source": [
    "print(a[-1][2])"
   ]
  },
  {
   "cell_type": "code",
   "execution_count": 26,
   "id": "87cb5bac",
   "metadata": {},
   "outputs": [
    {
     "name": "stdout",
     "output_type": "stream",
     "text": [
      "naasfa\n"
     ]
    }
   ],
   "source": [
    "a = [1,2,3,4,5,['afsaan',2,3,4,5]]\n",
    "\n",
    "print(a[-1][0][::-1])"
   ]
  },
  {
   "cell_type": "code",
   "execution_count": 27,
   "id": "31d5a9be",
   "metadata": {},
   "outputs": [
    {
     "name": "stdout",
     "output_type": "stream",
     "text": [
      "[['afsaan', 2, 3, 4, 5], 5, 4, 3, 2, 1]\n"
     ]
    }
   ],
   "source": [
    "print(a[::-1])"
   ]
  },
  {
   "cell_type": "code",
   "execution_count": 28,
   "id": "81739d95",
   "metadata": {},
   "outputs": [
    {
     "name": "stdout",
     "output_type": "stream",
     "text": [
      "([1, 2, 3], [4, 5, 6], [8, 9, 10, 11, [12, ['a', 'b', 200]]])\n"
     ]
    }
   ],
   "source": [
    "a = [1,2,3],[4,5,6],[8,9,10,11,[12,['a','b',200]]]\n",
    "\n",
    "print(a)"
   ]
  },
  {
   "cell_type": "code",
   "execution_count": 29,
   "id": "c3cb314f",
   "metadata": {},
   "outputs": [
    {
     "name": "stdout",
     "output_type": "stream",
     "text": [
      "a\n"
     ]
    }
   ],
   "source": [
    "print(a[-1][-1][-1][0])"
   ]
  },
  {
   "cell_type": "code",
   "execution_count": 44,
   "id": "ff3b6906",
   "metadata": {},
   "outputs": [
    {
     "name": "stdout",
     "output_type": "stream",
     "text": [
      "yabnrael\n",
      "etutitsni\n",
      "llabtoof\n"
     ]
    }
   ],
   "source": [
    "a = [1,2,3],[4,5,6],[8,9,[10,'learnbay institute','football']]\n",
    "\n",
    "print(a[-1][-1][1].split()[0][::-1])\n",
    "print(a[-1][-1][1].split()[-1][::-1])\n",
    "print(a[-1][-1][2][::-1])"
   ]
  },
  {
   "cell_type": "markdown",
   "id": "4b096cc5",
   "metadata": {},
   "source": [
    "### Methods\n"
   ]
  },
  {
   "cell_type": "code",
   "execution_count": 45,
   "id": "34cb8dde",
   "metadata": {},
   "outputs": [
    {
     "name": "stdout",
     "output_type": "stream",
     "text": [
      "['__add__', '__class__', '__class_getitem__', '__contains__', '__delattr__', '__delitem__', '__dir__', '__doc__', '__eq__', '__format__', '__ge__', '__getattribute__', '__getitem__', '__gt__', '__hash__', '__iadd__', '__imul__', '__init__', '__init_subclass__', '__iter__', '__le__', '__len__', '__lt__', '__mul__', '__ne__', '__new__', '__reduce__', '__reduce_ex__', '__repr__', '__reversed__', '__rmul__', '__setattr__', '__setitem__', '__sizeof__', '__str__', '__subclasshook__', 'append', 'clear', 'copy', 'count', 'extend', 'index', 'insert', 'pop', 'remove', 'reverse', 'sort']\n"
     ]
    }
   ],
   "source": [
    "print(dir(list))"
   ]
  },
  {
   "cell_type": "code",
   "execution_count": 51,
   "id": "edc779a2",
   "metadata": {},
   "outputs": [
    {
     "name": "stdout",
     "output_type": "stream",
     "text": [
      "[10, 20, 30, 40]\n"
     ]
    }
   ],
   "source": [
    "# Append\n",
    "\n",
    "a = [10,20,30]\n",
    "b = 40\n",
    "(a.append(b))         # Append an element to the end of the file\n",
    "print(a)              # Only one emelent at a time\n",
    "                      # Can insert both iterables and non iterables objects"
   ]
  },
  {
   "cell_type": "code",
   "execution_count": 52,
   "id": "524bf0b2",
   "metadata": {},
   "outputs": [
    {
     "name": "stdout",
     "output_type": "stream",
     "text": [
      "[10, 20, 30, 'Abhilash']\n"
     ]
    }
   ],
   "source": [
    "a = [10,20,30]\n",
    "b = 'Abhilash'\n",
    "(a.append(b))        \n",
    "print(a)     "
   ]
  },
  {
   "cell_type": "code",
   "execution_count": 53,
   "id": "4c8dd62b",
   "metadata": {},
   "outputs": [
    {
     "name": "stdout",
     "output_type": "stream",
     "text": [
      "[10, 20, 30, [40, 50, 60]]\n"
     ]
    }
   ],
   "source": [
    "a = [10,20,30]\n",
    "b = [40,50,60]\n",
    "(a.append(b))         \n",
    "print(a)     "
   ]
  },
  {
   "cell_type": "code",
   "execution_count": 48,
   "id": "4f10666c",
   "metadata": {},
   "outputs": [
    {
     "name": "stdout",
     "output_type": "stream",
     "text": [
      "sbhilssh\n"
     ]
    }
   ],
   "source": [
    "a = 'abhilash'\n",
    "print(a.replace('a','s'))"
   ]
  },
  {
   "cell_type": "code",
   "execution_count": 55,
   "id": "039cab86",
   "metadata": {},
   "outputs": [
    {
     "name": "stdout",
     "output_type": "stream",
     "text": [
      "[1, 2, 3, 5, 6, 7]\n",
      "[1, 2, 3] [5, 6, 7]\n"
     ]
    }
   ],
   "source": [
    "# Extend(similar to concatination)\n",
    "\n",
    "a = [1,2,3]\n",
    "b = [5,6,7]\n",
    "print(a+b) \n",
    "print(a,b)       # Concatination"
   ]
  },
  {
   "cell_type": "code",
   "execution_count": 57,
   "id": "6648c65c",
   "metadata": {},
   "outputs": [
    {
     "name": "stdout",
     "output_type": "stream",
     "text": [
      "[1, 2, 3, 5, 6, 7]\n",
      "[1, 2, 3, 5, 6, 7] [5, 6, 7]\n"
     ]
    }
   ],
   "source": [
    "a = [1,2,3]\n",
    "b = [5,6,7]\n",
    "\n",
    "(a.extend(b))\n",
    "print(a)\n",
    "print(a,b)        # Extend"
   ]
  },
  {
   "cell_type": "code",
   "execution_count": 63,
   "id": "c41f7bf9",
   "metadata": {},
   "outputs": [
    {
     "ename": "TypeError",
     "evalue": "'int' object is not iterable",
     "output_type": "error",
     "traceback": [
      "\u001b[1;31m---------------------------------------------------------------------------\u001b[0m",
      "\u001b[1;31mTypeError\u001b[0m                                 Traceback (most recent call last)",
      "Input \u001b[1;32mIn [63]\u001b[0m, in \u001b[0;36m<cell line: 4>\u001b[1;34m()\u001b[0m\n\u001b[0;32m      1\u001b[0m a \u001b[38;5;241m=\u001b[39m [\u001b[38;5;241m1\u001b[39m,\u001b[38;5;241m2\u001b[39m,\u001b[38;5;241m3\u001b[39m]\n\u001b[0;32m      2\u001b[0m b \u001b[38;5;241m=\u001b[39m [\u001b[38;5;241m5\u001b[39m,\u001b[38;5;241m6\u001b[39m,\u001b[38;5;241m7\u001b[39m]\n\u001b[1;32m----> 4\u001b[0m \u001b[43ma\u001b[49m\u001b[38;5;241;43m.\u001b[39;49m\u001b[43mextend\u001b[49m\u001b[43m(\u001b[49m\u001b[38;5;241;43m100\u001b[39;49m\u001b[43m)\u001b[49m\n\u001b[0;32m      5\u001b[0m \u001b[38;5;28mprint\u001b[39m(a)\n",
      "\u001b[1;31mTypeError\u001b[0m: 'int' object is not iterable"
     ]
    }
   ],
   "source": [
    "a = [1,2,3]\n",
    "b = [5,6,7]\n",
    "\n",
    "a.extend(100)\n",
    "print(a)       # 100(int) is not a iterable object"
   ]
  },
  {
   "cell_type": "code",
   "execution_count": 60,
   "id": "407b8062",
   "metadata": {},
   "outputs": [
    {
     "name": "stdout",
     "output_type": "stream",
     "text": [
      "[1, 2, 3, 'a', 'b', 'h', 'i']\n"
     ]
    }
   ],
   "source": [
    "a = [1,2,3]\n",
    "b = [5,6,7]\n",
    "\n",
    "a.extend('abhi')\n",
    "print(a)"
   ]
  },
  {
   "cell_type": "code",
   "execution_count": 64,
   "id": "9c1f8798",
   "metadata": {},
   "outputs": [
    {
     "name": "stdout",
     "output_type": "stream",
     "text": [
      "None\n",
      "[1, 2, 3, 'a', 'b', 'h', 'i', 'l', 'a', 's', 'h']\n"
     ]
    }
   ],
   "source": [
    "a = [1,2,3]\n",
    "b = 'abhilash'\n",
    "print(a.extend(b))\n",
    "print(a)"
   ]
  },
  {
   "cell_type": "code",
   "execution_count": 69,
   "id": "8eded27c",
   "metadata": {},
   "outputs": [
    {
     "name": "stdout",
     "output_type": "stream",
     "text": [
      "[10, 100, 20, 30]\n"
     ]
    }
   ],
   "source": [
    "# Insert ----> insert a value at a particular index, only one at a time\n",
    "\n",
    "a = [10,20,30]\n",
    "a.insert(1,100)\n",
    "print(a)"
   ]
  },
  {
   "cell_type": "code",
   "execution_count": 70,
   "id": "a17c4aca",
   "metadata": {},
   "outputs": [
    {
     "name": "stdout",
     "output_type": "stream",
     "text": [
      "[10, 20, 'Abhi', 30]\n"
     ]
    }
   ],
   "source": [
    "a = [10,20,30]\n",
    "a.insert(2,'Abhi')\n",
    "print(a)"
   ]
  },
  {
   "cell_type": "markdown",
   "id": "bab9bd8a",
   "metadata": {},
   "source": [
    "### Method to remove the element from the list\n"
   ]
  },
  {
   "cell_type": "code",
   "execution_count": 72,
   "id": "cbc32947",
   "metadata": {},
   "outputs": [
    {
     "name": "stdout",
     "output_type": "stream",
     "text": [
      "50\n",
      "[10, 20, 30]\n"
     ]
    }
   ],
   "source": [
    "# Pop\n",
    "\n",
    "a = [10,20,30,50]\n",
    "print(a.pop(-1))\n",
    "print(a)"
   ]
  },
  {
   "cell_type": "code",
   "execution_count": 73,
   "id": "2ae87075",
   "metadata": {},
   "outputs": [
    {
     "name": "stdout",
     "output_type": "stream",
     "text": [
      "[20, 30]\n"
     ]
    }
   ],
   "source": [
    "a.pop(0)\n",
    "print(a)"
   ]
  },
  {
   "cell_type": "code",
   "execution_count": 77,
   "id": "581e47fe",
   "metadata": {},
   "outputs": [
    {
     "name": "stdout",
     "output_type": "stream",
     "text": [
      "50\n",
      "[10, 20, 30]\n"
     ]
    }
   ],
   "source": [
    "a = [10,20,30,50]\n",
    "print(a.pop())     # By default it will take the last element\n",
    "print(a)"
   ]
  },
  {
   "cell_type": "code",
   "execution_count": 78,
   "id": "17f5d5ff",
   "metadata": {},
   "outputs": [
    {
     "name": "stdout",
     "output_type": "stream",
     "text": [
      "[20, 30, 40, 10, 203, 10, 10]\n"
     ]
    }
   ],
   "source": [
    "# Remove (remove the element based on the value, for multiple occurence it will remove only the first value)\n",
    "\n",
    "a = [10,20,30,40,10,203,10,10]\n",
    "a.remove(10)\n",
    "print(a)"
   ]
  },
  {
   "cell_type": "code",
   "execution_count": 80,
   "id": "f9f294cd",
   "metadata": {},
   "outputs": [
    {
     "name": "stdout",
     "output_type": "stream",
     "text": [
      "[20, 30, 40, 203]\n"
     ]
    }
   ],
   "source": [
    "a = [10,20,30,40,10,203,10,10]\n",
    "a.remove(10)\n",
    "a.remove(10)\n",
    "a.remove(10)\n",
    "a.remove(10)\n",
    "print(a)"
   ]
  },
  {
   "cell_type": "code",
   "execution_count": 84,
   "id": "170e5b0e",
   "metadata": {},
   "outputs": [
    {
     "data": {
      "text/plain": [
       "4"
      ]
     },
     "execution_count": 84,
     "metadata": {},
     "output_type": "execute_result"
    }
   ],
   "source": [
    "# count\n",
    "\n",
    "a = [10,20,30,40,10,203,10,10]\n",
    "a.count(10)"
   ]
  },
  {
   "cell_type": "code",
   "execution_count": 88,
   "id": "3726839f",
   "metadata": {},
   "outputs": [
    {
     "data": {
      "text/plain": [
       "0"
      ]
     },
     "execution_count": 88,
     "metadata": {},
     "output_type": "execute_result"
    }
   ],
   "source": [
    "# Index\n",
    "\n",
    "a = [10,20,30,40,10,203,10,10]\n",
    "a.index(10)\n",
    "\n"
   ]
  },
  {
   "cell_type": "code",
   "execution_count": null,
   "id": "d40e37ac",
   "metadata": {},
   "outputs": [],
   "source": []
  }
 ],
 "metadata": {
  "kernelspec": {
   "display_name": "Python 3 (ipykernel)",
   "language": "python",
   "name": "python3"
  },
  "language_info": {
   "codemirror_mode": {
    "name": "ipython",
    "version": 3
   },
   "file_extension": ".py",
   "mimetype": "text/x-python",
   "name": "python",
   "nbconvert_exporter": "python",
   "pygments_lexer": "ipython3",
   "version": "3.9.12"
  }
 },
 "nbformat": 4,
 "nbformat_minor": 5
}
