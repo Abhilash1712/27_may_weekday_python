{
 "cells": [
  {
   "cell_type": "markdown",
   "id": "81c45f25",
   "metadata": {},
   "source": [
    "### Write Mode"
   ]
  },
  {
   "cell_type": "code",
   "execution_count": 1,
   "id": "23030940",
   "metadata": {},
   "outputs": [],
   "source": [
    "# file is not present(it will create a file with the given name)\n",
    "\n",
    "f = open('write_mode.txt','w')"
   ]
  },
  {
   "cell_type": "code",
   "execution_count": 3,
   "id": "ccd16935",
   "metadata": {},
   "outputs": [
    {
     "name": "stdout",
     "output_type": "stream",
     "text": [
      "5\n"
     ]
    }
   ],
   "source": [
    "# if the file is present(it will open the file in write mode and deletes the content)\n",
    "\n",
    "f = open('write_mode.txt','w')\n",
    "f.tell()\n",
    "f.write('Hello World')\n",
    "f.seek(2)\n",
    "f.write('Bye')\n",
    "print(f.tell())\n",
    "f.close()"
   ]
  },
  {
   "cell_type": "markdown",
   "id": "946b3647",
   "metadata": {},
   "source": [
    "### Append mode"
   ]
  },
  {
   "cell_type": "code",
   "execution_count": 1,
   "id": "f618fbb2",
   "metadata": {},
   "outputs": [
    {
     "name": "stdout",
     "output_type": "stream",
     "text": [
      "34\n",
      "37\n"
     ]
    }
   ],
   "source": [
    "# file pressent (it will open in write mode and place the cursor at the end )\n",
    "\n",
    "# file is not present(then it will create a file)\n",
    "\n",
    "\n",
    "\"\"\"hey folks good morning\"\"\"\n",
    "\n",
    "f = open('append_mode.txt','a')\n",
    "\n",
    "print(f.tell())\n",
    "f.seek(2)                    # here seek will not work\n",
    "f.write('bye')\n",
    "print(f.tell())\n",
    "f.close()"
   ]
  },
  {
   "cell_type": "markdown",
   "id": "a2127229",
   "metadata": {},
   "source": [
    "### Write and read mode"
   ]
  },
  {
   "cell_type": "code",
   "execution_count": 19,
   "id": "cbd0b79b",
   "metadata": {},
   "outputs": [
    {
     "name": "stdout",
     "output_type": "stream",
     "text": [
      "0\n",
      "\n",
      " World\n",
      "11\n",
      "llo World\n"
     ]
    }
   ],
   "source": [
    "f = open('write_read_mode.txt','w+')\n",
    "print(f.tell())\n",
    "print(f.read())\n",
    "f.write('Hello World')\n",
    "f.seek(5)\n",
    "print(f.read())\n",
    "print(f.tell())\n",
    "f.seek(0)\n",
    "f.write('hi')\n",
    "print(f.read())\n",
    "f.close()"
   ]
  },
  {
   "cell_type": "markdown",
   "id": "5548b007",
   "metadata": {},
   "source": [
    "### Read and write mode"
   ]
  },
  {
   "cell_type": "code",
   "execution_count": 23,
   "id": "0fe98949",
   "metadata": {},
   "outputs": [
    {
     "name": "stdout",
     "output_type": "stream",
     "text": [
      "2\n",
      " Everyonehi\n",
      "\n",
      "hillo Everyonehihi\n",
      "18\n"
     ]
    }
   ],
   "source": [
    "'''hello everyone'''\n",
    "\n",
    "\n",
    "f = open('read_write_mode.txt','r+')\n",
    "f.seek(0)\n",
    "f.write('hi')\n",
    "print(f.tell())\n",
    "f.seek(5)\n",
    "print(f.read())\n",
    "f.write('hi')\n",
    "print(f.read())\n",
    "f.seek(0)\n",
    "print(f.read())\n",
    "print(f.tell())\n",
    "f.close()"
   ]
  },
  {
   "cell_type": "markdown",
   "id": "0f2e4ee3",
   "metadata": {},
   "source": [
    "### Append and read mode"
   ]
  },
  {
   "cell_type": "code",
   "execution_count": 3,
   "id": "711d3fe4",
   "metadata": {},
   "outputs": [
    {
     "name": "stdout",
     "output_type": "stream",
     "text": [
      "Learnbay\n",
      "14\n",
      "\n",
      "\n",
      "LearnbaycoursedataScience\n"
     ]
    }
   ],
   "source": [
    "'''Learnbay'''\n",
    "\n",
    "\n",
    "f = open('append_read_mode.txt','a+')\n",
    "f.seek(0)\n",
    "print(f.read())\n",
    "f.write('course')\n",
    "print(f.tell())\n",
    "print(f.read())\n",
    "f.seek(3)\n",
    "f.write('data')\n",
    "print(f.read())\n",
    "f.seek(0)\n",
    "f.write('Science')\n",
    "f.seek(0)\n",
    "print(f.read())\n",
    "f.close()\n"
   ]
  },
  {
   "cell_type": "code",
   "execution_count": 19,
   "id": "690187cb",
   "metadata": {},
   "outputs": [
    {
     "data": {
      "text/plain": [
       "'hi\\nhello\\nworld\\n\\n'"
      ]
     },
     "execution_count": 19,
     "metadata": {},
     "output_type": "execute_result"
    }
   ],
   "source": [
    "# Method to do the operation on read mode (read(), read(char), readline(), readlines())\n",
    "\n",
    "'''hi\n",
    "hello\n",
    "world'''\n",
    "\n",
    "\n",
    "\n",
    "f = open('append_read_mode.txt','r')\n",
    "f.read()                         # reads the whole content of the file"
   ]
  },
  {
   "cell_type": "code",
   "execution_count": 13,
   "id": "95009820",
   "metadata": {},
   "outputs": [
    {
     "data": {
      "text/plain": [
       "'hi\\n'"
      ]
     },
     "execution_count": 13,
     "metadata": {},
     "output_type": "execute_result"
    }
   ],
   "source": [
    "f = open('append_read_mode.txt','r')\n",
    "f.read(3)"
   ]
  },
  {
   "cell_type": "code",
   "execution_count": 14,
   "id": "09df77ae",
   "metadata": {},
   "outputs": [
    {
     "data": {
      "text/plain": [
       "'ello\\n'"
      ]
     },
     "execution_count": 14,
     "metadata": {},
     "output_type": "execute_result"
    }
   ],
   "source": [
    "f = open('append_read_mode.txt','r')\n",
    "f.seek(4)\n",
    "f.readline()     # read only t the current line"
   ]
  },
  {
   "cell_type": "code",
   "execution_count": 15,
   "id": "f0c85531",
   "metadata": {},
   "outputs": [
    {
     "data": {
      "text/plain": [
       "['hi\\n', 'hello\\n', 'world\\n']"
      ]
     },
     "execution_count": 15,
     "metadata": {},
     "output_type": "execute_result"
    }
   ],
   "source": [
    "f = open('append_read_mode.txt','r')\n",
    "f.readlines()      # reads the whole content and return the list of lines"
   ]
  },
  {
   "cell_type": "code",
   "execution_count": 20,
   "id": "ac7c435f",
   "metadata": {},
   "outputs": [],
   "source": [
    "# Methods to do operations on write mode\n",
    "\n",
    "f = open('append_read_mode.txt','w')\n",
    "f.write('hello')\n",
    "f.close()"
   ]
  },
  {
   "cell_type": "code",
   "execution_count": 21,
   "id": "59c157b9",
   "metadata": {},
   "outputs": [],
   "source": [
    "f = open('append_read_mode.txt','w')\n",
    "f.writelines(['data\\n','data2\\n'])\n",
    "f.close()"
   ]
  },
  {
   "cell_type": "markdown",
   "id": "a10aa090",
   "metadata": {},
   "source": [
    "### With Statement"
   ]
  },
  {
   "cell_type": "code",
   "execution_count": 31,
   "id": "b54e18b3",
   "metadata": {},
   "outputs": [],
   "source": [
    "# with statement(autosaving instead of f.close())\n",
    "\n",
    "with open('append_read_mode.txt','w') as f:\n",
    "    f.write('hey all')\n"
   ]
  },
  {
   "cell_type": "code",
   "execution_count": 32,
   "id": "c72ad101",
   "metadata": {},
   "outputs": [],
   "source": [
    "with open('append_read_mode.txt','r') as f:\n",
    "    no_of_lines = len(f.readlines())\n",
    "    f.seek(0)\n",
    "    no_of_character = len(f.read())\n",
    "    f.seek(0)\n",
    "    no_of_words = len(f.read().split())"
   ]
  },
  {
   "cell_type": "code",
   "execution_count": 33,
   "id": "fffbd8e8",
   "metadata": {},
   "outputs": [
    {
     "data": {
      "text/plain": [
       "(3, 238, 48)"
      ]
     },
     "execution_count": 33,
     "metadata": {},
     "output_type": "execute_result"
    }
   ],
   "source": [
    "no_of_lines,no_of_character,no_of_words"
   ]
  },
  {
   "cell_type": "code",
   "execution_count": null,
   "id": "b1689b6b",
   "metadata": {},
   "outputs": [],
   "source": [
    "# q2 - take a image file img1.png, copy the content of img1.png to img2.jpg - 8 mins"
   ]
  },
  {
   "cell_type": "code",
   "execution_count": 1,
   "id": "45f67c12",
   "metadata": {},
   "outputs": [
    {
     "ename": "FileNotFoundError",
     "evalue": "[Errno 2] No such file or directory: 'img1.png'",
     "output_type": "error",
     "traceback": [
      "\u001b[1;31m---------------------------------------------------------------------------\u001b[0m",
      "\u001b[1;31mFileNotFoundError\u001b[0m                         Traceback (most recent call last)",
      "Input \u001b[1;32mIn [1]\u001b[0m, in \u001b[0;36m<cell line: 1>\u001b[1;34m()\u001b[0m\n\u001b[1;32m----> 1\u001b[0m \u001b[38;5;28;01mwith\u001b[39;00m \u001b[38;5;28;43mopen\u001b[39;49m\u001b[43m(\u001b[49m\u001b[38;5;124;43m'\u001b[39;49m\u001b[38;5;124;43mimg1.png\u001b[39;49m\u001b[38;5;124;43m'\u001b[39;49m\u001b[43m,\u001b[49m\u001b[38;5;124;43m'\u001b[39;49m\u001b[38;5;124;43mrb\u001b[39;49m\u001b[38;5;124;43m'\u001b[39;49m\u001b[43m)\u001b[49m \u001b[38;5;28;01mas\u001b[39;00m img1:\n\u001b[0;32m      2\u001b[0m     data \u001b[38;5;241m=\u001b[39m img1\u001b[38;5;241m.\u001b[39mread()\n\u001b[0;32m      3\u001b[0m     \u001b[38;5;28;01mwith\u001b[39;00m \u001b[38;5;28mopen\u001b[39m(\u001b[38;5;124m'\u001b[39m\u001b[38;5;124mimg2.jpg\u001b[39m\u001b[38;5;124m'\u001b[39m,\u001b[38;5;124m'\u001b[39m\u001b[38;5;124mwb\u001b[39m\u001b[38;5;124m'\u001b[39m) \u001b[38;5;28;01mas\u001b[39;00m img2:\n",
      "\u001b[1;31mFileNotFoundError\u001b[0m: [Errno 2] No such file or directory: 'img1.png'"
     ]
    }
   ],
   "source": [
    "with open('img1.png','rb') as img1:\n",
    "    data = img1.read()\n",
    "    with open('img2.jpg','wb') as img2:\n",
    "        img2.write(data)"
   ]
  },
  {
   "cell_type": "code",
   "execution_count": null,
   "id": "8284f4c1",
   "metadata": {},
   "outputs": [],
   "source": []
  },
  {
   "cell_type": "code",
   "execution_count": null,
   "id": "f5f13253",
   "metadata": {},
   "outputs": [],
   "source": []
  }
 ],
 "metadata": {
  "kernelspec": {
   "display_name": "Python 3 (ipykernel)",
   "language": "python",
   "name": "python3"
  },
  "language_info": {
   "codemirror_mode": {
    "name": "ipython",
    "version": 3
   },
   "file_extension": ".py",
   "mimetype": "text/x-python",
   "name": "python",
   "nbconvert_exporter": "python",
   "pygments_lexer": "ipython3",
   "version": "3.9.12"
  }
 },
 "nbformat": 4,
 "nbformat_minor": 5
}
