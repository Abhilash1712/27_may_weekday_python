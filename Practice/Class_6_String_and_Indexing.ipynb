{
 "cells": [
  {
   "cell_type": "code",
   "execution_count": 1,
   "id": "9168cab9",
   "metadata": {},
   "outputs": [
    {
     "name": "stdout",
     "output_type": "stream",
     "text": [
      "Baruah\n",
      "1846421598448\n"
     ]
    }
   ],
   "source": [
    "a = 'Abhilash'\n",
    "a = 'Baruah'\n",
    "print(a)\n",
    "print(id(a))"
   ]
  },
  {
   "cell_type": "code",
   "execution_count": 2,
   "id": "0585b7c4",
   "metadata": {},
   "outputs": [
    {
     "name": "stdout",
     "output_type": "stream",
     "text": [
      "BangloreIndia\n",
      "1846421685296\n",
      "1846421687600\n",
      "1846421687472\n"
     ]
    }
   ],
   "source": [
    "a = 'Banglore'\n",
    "b = 'India'\n",
    "c= a+b\n",
    "\n",
    "print(c)\n",
    "print(id(c))\n",
    "print(id(a))\n",
    "print(id(b))"
   ]
  },
  {
   "cell_type": "code",
   "execution_count": 1,
   "id": "49213520",
   "metadata": {},
   "outputs": [
    {
     "name": "stdout",
     "output_type": "stream",
     "text": [
      "2302400900208\n",
      "2302446578416\n"
     ]
    }
   ],
   "source": [
    "a = 'Python'\n",
    "c = 'Cython'\n",
    "\n",
    "print(id(a))\n",
    "print(id(c))\n"
   ]
  },
  {
   "cell_type": "code",
   "execution_count": 3,
   "id": "599e421e",
   "metadata": {},
   "outputs": [
    {
     "name": "stdout",
     "output_type": "stream",
     "text": [
      "2302401199472\n",
      "2302401004976\n"
     ]
    }
   ],
   "source": [
    "print(id(a[0]))\n",
    "print(id(c[0]))"
   ]
  },
  {
   "cell_type": "code",
   "execution_count": 5,
   "id": "90f67596",
   "metadata": {},
   "outputs": [
    {
     "name": "stdout",
     "output_type": "stream",
     "text": [
      "1602783233456\n",
      "1602783233456\n"
     ]
    }
   ],
   "source": [
    "print(id(a[1]))\n",
    "print(id(c[1]))"
   ]
  },
  {
   "cell_type": "code",
   "execution_count": 6,
   "id": "ad008556",
   "metadata": {},
   "outputs": [
    {
     "name": "stdout",
     "output_type": "stream",
     "text": [
      "1602783493616\n",
      "1602783233456\n",
      "1602781584240\n",
      "1602783360304\n",
      "1602781594352\n",
      "1602783193008\n"
     ]
    }
   ],
   "source": [
    "print(id(a[0]))\n",
    "print(id(a[1]))\n",
    "print(id(a[2]))\n",
    "print(id(a[3]))\n",
    "print(id(a[4]))\n",
    "print(id(a[5]))"
   ]
  },
  {
   "cell_type": "code",
   "execution_count": 8,
   "id": "510581af",
   "metadata": {},
   "outputs": [
    {
     "name": "stdout",
     "output_type": "stream",
     "text": [
      "2302401030192\n",
      "2302400730352\n",
      "2302401066288\n",
      "2302395519728\n",
      "2302400993392\n",
      "2302401030192\n",
      "2302395508528\n",
      "2302401066288\n"
     ]
    }
   ],
   "source": [
    "a = 'abhilash'\n",
    "print(id(a[0]))\n",
    "print(id(a[1]))\n",
    "print(id(a[2]))\n",
    "print(id(a[3]))\n",
    "print(id(a[4]))\n",
    "print(id(a[5]))\n",
    "print(id(a[6]))\n",
    "print(id(a[7]))"
   ]
  },
  {
   "cell_type": "code",
   "execution_count": 13,
   "id": "6c446599",
   "metadata": {},
   "outputs": [
    {
     "name": "stdout",
     "output_type": "stream",
     "text": [
      "p\n"
     ]
    }
   ],
   "source": [
    "a = 'python class'\n",
    "\n",
    "print(a[0])"
   ]
  },
  {
   "cell_type": "code",
   "execution_count": 15,
   "id": "8ed4e918",
   "metadata": {},
   "outputs": [
    {
     "data": {
      "text/plain": [
       "' '"
      ]
     },
     "execution_count": 15,
     "metadata": {},
     "output_type": "execute_result"
    }
   ],
   "source": [
    "a[6]"
   ]
  },
  {
   "cell_type": "code",
   "execution_count": 8,
   "id": "71bb02ca",
   "metadata": {},
   "outputs": [
    {
     "data": {
      "text/plain": [
       "' '"
      ]
     },
     "execution_count": 8,
     "metadata": {},
     "output_type": "execute_result"
    }
   ],
   "source": [
    "a[-6]"
   ]
  },
  {
   "cell_type": "code",
   "execution_count": 9,
   "id": "73765899",
   "metadata": {},
   "outputs": [
    {
     "data": {
      "text/plain": [
       "'a'"
      ]
     },
     "execution_count": 9,
     "metadata": {},
     "output_type": "execute_result"
    }
   ],
   "source": [
    "a[9]"
   ]
  },
  {
   "cell_type": "code",
   "execution_count": 10,
   "id": "470af853",
   "metadata": {},
   "outputs": [
    {
     "data": {
      "text/plain": [
       "'a'"
      ]
     },
     "execution_count": 10,
     "metadata": {},
     "output_type": "execute_result"
    }
   ],
   "source": [
    "a[-3]"
   ]
  },
  {
   "cell_type": "code",
   "execution_count": 16,
   "id": "7f770edd",
   "metadata": {},
   "outputs": [
    {
     "name": "stdout",
     "output_type": "stream",
     "text": [
      "2302509919344\n",
      "2302509919344\n"
     ]
    }
   ],
   "source": [
    "a = 'abhilash'\n",
    "b = 'abhilash'\n",
    "print(id(a))\n",
    "print(id(b))        # Object Reusability(For the whole object) "
   ]
  },
  {
   "cell_type": "code",
   "execution_count": 19,
   "id": "eb036cf3",
   "metadata": {},
   "outputs": [
    {
     "name": "stdout",
     "output_type": "stream",
     "text": [
      "2302510068272\n",
      "2302510068336\n"
     ]
    }
   ],
   "source": [
    "a = 'abhilash baruah'\n",
    "b = 'abhilash baruah'\n",
    "print(id(a))\n",
    "print(id(b))           # Because of the space that has been used"
   ]
  },
  {
   "cell_type": "code",
   "execution_count": 23,
   "id": "6094c323",
   "metadata": {},
   "outputs": [
    {
     "name": "stdout",
     "output_type": "stream",
     "text": [
      "2302401030192\n",
      "2302401030192\n",
      "False\n"
     ]
    }
   ],
   "source": [
    "a = 'abhilash baruah'\n",
    "b = 'abhilash baruah'\n",
    "print(id(a[0]))\n",
    "print(id(b[0]))        # Memory Reusability \n",
    "print(a is b)"
   ]
  },
  {
   "cell_type": "code",
   "execution_count": 22,
   "id": "25e23745",
   "metadata": {},
   "outputs": [
    {
     "name": "stdout",
     "output_type": "stream",
     "text": [
      "2302401030192\n",
      "2302401030192\n",
      "True\n"
     ]
    }
   ],
   "source": [
    "a = 'abhilash_baruah'\n",
    "b = 'abhilash_baruah'\n",
    "print(id(a[0]))\n",
    "print(id(b[0]))\n",
    "print(a is b)            # Object Reusability(Comes Under a-z,A-Z,0-9,_) "
   ]
  },
  {
   "cell_type": "code",
   "execution_count": null,
   "id": "bc96ea26",
   "metadata": {},
   "outputs": [],
   "source": []
  }
 ],
 "metadata": {
  "kernelspec": {
   "display_name": "Python 3 (ipykernel)",
   "language": "python",
   "name": "python3"
  },
  "language_info": {
   "codemirror_mode": {
    "name": "ipython",
    "version": 3
   },
   "file_extension": ".py",
   "mimetype": "text/x-python",
   "name": "python",
   "nbconvert_exporter": "python",
   "pygments_lexer": "ipython3",
   "version": "3.9.12"
  }
 },
 "nbformat": 4,
 "nbformat_minor": 5
}
