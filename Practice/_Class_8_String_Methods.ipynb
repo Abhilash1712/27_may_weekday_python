{
 "cells": [
  {
   "cell_type": "code",
   "execution_count": 1,
   "id": "d9679498",
   "metadata": {},
   "outputs": [
    {
     "name": "stdout",
     "output_type": "stream",
     "text": [
      "['__add__', '__class__', '__contains__', '__delattr__', '__dir__', '__doc__', '__eq__', '__format__', '__ge__', '__getattribute__', '__getitem__', '__getnewargs__', '__gt__', '__hash__', '__init__', '__init_subclass__', '__iter__', '__le__', '__len__', '__lt__', '__mod__', '__mul__', '__ne__', '__new__', '__reduce__', '__reduce_ex__', '__repr__', '__rmod__', '__rmul__', '__setattr__', '__sizeof__', '__str__', '__subclasshook__', 'capitalize', 'casefold', 'center', 'count', 'encode', 'endswith', 'expandtabs', 'find', 'format', 'format_map', 'index', 'isalnum', 'isalpha', 'isascii', 'isdecimal', 'isdigit', 'isidentifier', 'islower', 'isnumeric', 'isprintable', 'isspace', 'istitle', 'isupper', 'join', 'ljust', 'lower', 'lstrip', 'maketrans', 'partition', 'removeprefix', 'removesuffix', 'replace', 'rfind', 'rindex', 'rjust', 'rpartition', 'rsplit', 'rstrip', 'split', 'splitlines', 'startswith', 'strip', 'swapcase', 'title', 'translate', 'upper', 'zfill']\n"
     ]
    }
   ],
   "source": [
    "print(dir(str))"
   ]
  },
  {
   "cell_type": "code",
   "execution_count": 3,
   "id": "4f6df9a0",
   "metadata": {},
   "outputs": [
    {
     "name": "stdout",
     "output_type": "stream",
     "text": [
      "This is python class\n",
      "This is python class\n"
     ]
    }
   ],
   "source": [
    "s = 'this is python class'\n",
    "s1 = 'tHIS IS PYTHON CLAss'\n",
    "\n",
    "print(s.capitalize())\n",
    "print(s1.capitalize())  # Capitalize only the first letter of the sentence "
   ]
  },
  {
   "cell_type": "code",
   "execution_count": 4,
   "id": "226f94b5",
   "metadata": {},
   "outputs": [
    {
     "name": "stdout",
     "output_type": "stream",
     "text": [
      "THIS IS PYTHON CLASS\n",
      "THIS IS PYTHON CLASS\n"
     ]
    }
   ],
   "source": [
    "print(s.upper())\n",
    "print(s1.upper())    # Upper Case"
   ]
  },
  {
   "cell_type": "code",
   "execution_count": 6,
   "id": "d1c06772",
   "metadata": {},
   "outputs": [
    {
     "name": "stdout",
     "output_type": "stream",
     "text": [
      "this is python class\n",
      "this is python class\n"
     ]
    }
   ],
   "source": [
    "print(s.lower())\n",
    "print(s1.lower())    # Lower Case"
   ]
  },
  {
   "cell_type": "code",
   "execution_count": 7,
   "id": "7a702911",
   "metadata": {},
   "outputs": [
    {
     "name": "stdout",
     "output_type": "stream",
     "text": [
      "THIS IS PYTHON CLASS\n",
      "This is python claSS\n"
     ]
    }
   ],
   "source": [
    "print(s.swapcase())\n",
    "print(s1.swapcase())    # Converts Upper Case to lower Case and vice versa"
   ]
  },
  {
   "cell_type": "code",
   "execution_count": 9,
   "id": "212db9c8",
   "metadata": {},
   "outputs": [
    {
     "name": "stdout",
     "output_type": "stream",
     "text": [
      "This Is Python Class\n",
      "This Is Python Class\n"
     ]
    }
   ],
   "source": [
    "print(s.title())\n",
    "print(s1.title())     # Convert each words first letter to Upper  Case"
   ]
  },
  {
   "cell_type": "code",
   "execution_count": 35,
   "id": "2591f994",
   "metadata": {},
   "outputs": [
    {
     "name": "stdout",
     "output_type": "stream",
     "text": [
      "False\n",
      "True\n",
      "False\n",
      "True\n",
      "True\n"
     ]
    }
   ],
   "source": [
    "# Method which return to bool value\n",
    "\n",
    "# 1. startswith \n",
    "\n",
    "s = 'Hello World'\n",
    "print(s.startswith('hi'))\n",
    "print(s.startswith('He'))\n",
    "\n",
    "print(s.startswith('He',5,10))  # Start and stop index\n",
    "print(s.startswith(' Worl',5,10))\n",
    "print(s.startswith(' ',5,10))       # Space before World"
   ]
  },
  {
   "cell_type": "code",
   "execution_count": 36,
   "id": "d8d8dfe9",
   "metadata": {},
   "outputs": [
    {
     "name": "stdout",
     "output_type": "stream",
     "text": [
      "False\n",
      "True\n",
      "True\n"
     ]
    }
   ],
   "source": [
    "# 2. Endswith\n",
    "\n",
    "print(s.endswith('Wo'))\n",
    "print(s.endswith('d'))\n",
    "print(s.endswith(' ',0,6))   # Space before the word World"
   ]
  },
  {
   "cell_type": "code",
   "execution_count": 38,
   "id": "9b3c2eea",
   "metadata": {},
   "outputs": [
    {
     "name": "stdout",
     "output_type": "stream",
     "text": [
      "True\n",
      "True\n",
      "False\n",
      "True\n"
     ]
    }
   ],
   "source": [
    "s1 = 'abc'\n",
    "s2 = '123abc'\n",
    "s3 = '*'\n",
    "s4 = '112'\n",
    "\n",
    "print(s1.isalnum())\n",
    "print(s2.isalnum())\n",
    "print(s3.isalnum())\n",
    "print(s4.isalnum())    # Prints True id the str is alphabet, numeric, alphe numeric"
   ]
  },
  {
   "cell_type": "code",
   "execution_count": 41,
   "id": "5d4a9206",
   "metadata": {},
   "outputs": [
    {
     "name": "stdout",
     "output_type": "stream",
     "text": [
      "True\n",
      "False\n",
      "False\n",
      "False\n"
     ]
    }
   ],
   "source": [
    "print(s1.isalpha())\n",
    "print(s2.isalpha())\n",
    "print(s3.isalpha())\n",
    "print(s4.isalpha())  # Returns True if all the char aralphabet"
   ]
  },
  {
   "cell_type": "code",
   "execution_count": 42,
   "id": "7c52fab7",
   "metadata": {},
   "outputs": [
    {
     "name": "stdout",
     "output_type": "stream",
     "text": [
      "False\n",
      "False\n",
      "False\n",
      "True\n"
     ]
    }
   ],
   "source": [
    "print(s1.isnumeric())\n",
    "print(s2.isnumeric())\n",
    "print(s3.isnumeric())\n",
    "print(s4.isnumeric())    # Returns True if all the char are Numeric"
   ]
  },
  {
   "cell_type": "code",
   "execution_count": 44,
   "id": "d25fb563",
   "metadata": {},
   "outputs": [
    {
     "name": "stdout",
     "output_type": "stream",
     "text": [
      "True\n",
      "False\n",
      "False\n",
      "False\n"
     ]
    }
   ],
   "source": [
    "print(s1.isidentifier())\n",
    "print(s2.isidentifier())\n",
    "print(s3.isidentifier())\n",
    "print(s4.isidentifier())   # Returns True if the sting is a valid identifier"
   ]
  },
  {
   "cell_type": "code",
   "execution_count": 45,
   "id": "e23aacfc",
   "metadata": {},
   "outputs": [
    {
     "name": "stdout",
     "output_type": "stream",
     "text": [
      "True\n",
      "True\n",
      "True\n",
      "True\n"
     ]
    }
   ],
   "source": [
    "print(s1.isascii())\n",
    "print(s2.isascii())\n",
    "print(s3.isascii())\n",
    "print(s4.isascii())"
   ]
  },
  {
   "cell_type": "code",
   "execution_count": null,
   "id": "0a94e92a",
   "metadata": {},
   "outputs": [],
   "source": []
  }
 ],
 "metadata": {
  "kernelspec": {
   "display_name": "Python 3 (ipykernel)",
   "language": "python",
   "name": "python3"
  },
  "language_info": {
   "codemirror_mode": {
    "name": "ipython",
    "version": 3
   },
   "file_extension": ".py",
   "mimetype": "text/x-python",
   "name": "python",
   "nbconvert_exporter": "python",
   "pygments_lexer": "ipython3",
   "version": "3.9.12"
  }
 },
 "nbformat": 4,
 "nbformat_minor": 5
}
