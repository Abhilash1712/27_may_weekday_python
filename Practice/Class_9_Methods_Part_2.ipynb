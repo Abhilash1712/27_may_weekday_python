{
 "cells": [
  {
   "cell_type": "code",
   "execution_count": 1,
   "id": "dd0272ea",
   "metadata": {},
   "outputs": [
    {
     "name": "stdout",
     "output_type": "stream",
     "text": [
      "['__add__', '__class__', '__contains__', '__delattr__', '__dir__', '__doc__', '__eq__', '__format__', '__ge__', '__getattribute__', '__getitem__', '__getnewargs__', '__gt__', '__hash__', '__init__', '__init_subclass__', '__iter__', '__le__', '__len__', '__lt__', '__mod__', '__mul__', '__ne__', '__new__', '__reduce__', '__reduce_ex__', '__repr__', '__rmod__', '__rmul__', '__setattr__', '__sizeof__', '__str__', '__subclasshook__', 'capitalize', 'casefold', 'center', 'count', 'encode', 'endswith', 'expandtabs', 'find', 'format', 'format_map', 'index', 'isalnum', 'isalpha', 'isascii', 'isdecimal', 'isdigit', 'isidentifier', 'islower', 'isnumeric', 'isprintable', 'isspace', 'istitle', 'isupper', 'join', 'ljust', 'lower', 'lstrip', 'maketrans', 'partition', 'removeprefix', 'removesuffix', 'replace', 'rfind', 'rindex', 'rjust', 'rpartition', 'rsplit', 'rstrip', 'split', 'splitlines', 'startswith', 'strip', 'swapcase', 'title', 'translate', 'upper', 'zfill']\n"
     ]
    }
   ],
   "source": [
    "print(dir(str))"
   ]
  },
  {
   "cell_type": "code",
   "execution_count": 6,
   "id": "c1f27e61",
   "metadata": {},
   "outputs": [
    {
     "name": "stdout",
     "output_type": "stream",
     "text": [
      "False\n",
      "True\n",
      "False\n",
      "False\n"
     ]
    }
   ],
   "source": [
    "a1 = 'abc'\n",
    "a2 = 'ABC'\n",
    "s3 = '*'\n",
    "s4 = \"12\"\n",
    "\n",
    "print(a1.isupper())\n",
    "print(a2.isupper())\n",
    "print(s3.isupper())\n",
    "print(s4.isupper())"
   ]
  },
  {
   "cell_type": "code",
   "execution_count": 3,
   "id": "79898d2a",
   "metadata": {},
   "outputs": [
    {
     "name": "stdout",
     "output_type": "stream",
     "text": [
      "True\n",
      "False\n",
      "False\n",
      "False\n"
     ]
    }
   ],
   "source": [
    "print(a1.islower())\n",
    "print(a2.islower())\n",
    "print(s3.islower())\n",
    "print(s4.islower())"
   ]
  },
  {
   "cell_type": "code",
   "execution_count": 7,
   "id": "cdd192e4",
   "metadata": {},
   "outputs": [
    {
     "name": "stdout",
     "output_type": "stream",
     "text": [
      "False\n",
      "False\n",
      "False\n",
      "False\n"
     ]
    }
   ],
   "source": [
    "print(a1.istitle())\n",
    "print(a2.istitle())\n",
    "print(s3.istitle())\n",
    "print(s4.istitle())"
   ]
  },
  {
   "cell_type": "code",
   "execution_count": 8,
   "id": "a1c0335b",
   "metadata": {},
   "outputs": [
    {
     "name": "stdout",
     "output_type": "stream",
     "text": [
      "      python   \n",
      "python\n"
     ]
    }
   ],
   "source": [
    "a = '      python   '\n",
    "print(a)\n",
    "print(a.strip())"
   ]
  },
  {
   "cell_type": "code",
   "execution_count": 11,
   "id": "0f55505b",
   "metadata": {},
   "outputs": [
    {
     "name": "stdout",
     "output_type": "stream",
     "text": [
      "$$$python$$$\n",
      "python\n",
      "$$$python\n",
      "python$$$\n"
     ]
    }
   ],
   "source": [
    "a = '$$$python$$$'\n",
    "print(a)\n",
    "print(a.strip('$'))\n",
    "print(a.rstrip('$'))\n",
    "print(a.lstrip('$'))"
   ]
  },
  {
   "cell_type": "code",
   "execution_count": 14,
   "id": "02d3046e",
   "metadata": {},
   "outputs": [
    {
     "name": "stdout",
     "output_type": "stream",
     "text": [
      "python\n"
     ]
    }
   ],
   "source": [
    "a = \"$$$python###\"\n",
    "print(a.strip(\"#$\"))"
   ]
  },
  {
   "cell_type": "code",
   "execution_count": 17,
   "id": "81e69a3a",
   "metadata": {},
   "outputs": [
    {
     "name": "stdout",
     "output_type": "stream",
     "text": [
      "python\n"
     ]
    }
   ],
   "source": [
    "a = \"$$$python###\"\n",
    "print(a.lstrip(\"$\").rstrip(\"#\"))"
   ]
  },
  {
   "cell_type": "code",
   "execution_count": 44,
   "id": "8a401571",
   "metadata": {},
   "outputs": [
    {
     "name": "stdout",
     "output_type": "stream",
     "text": [
      "please enter the usernameAbhilash\n",
      "please enter the passwordKing\n",
      "logged in\n"
     ]
    }
   ],
   "source": [
    "username = input('please enter the username')\n",
    "password = input('please enter the password')\n",
    "\n",
    "if username == 'Abhilash' and password == 'King':\n",
    "\n",
    "    print ('logged in')\n",
    "else:\n",
    "    print ('wrong credentials')"
   ]
  },
  {
   "cell_type": "code",
   "execution_count": 16,
   "id": "89032ef6",
   "metadata": {},
   "outputs": [
    {
     "name": "stdout",
     "output_type": "stream",
     "text": [
      "please enter the username Abhilash\n",
      "please enter the passwordKing\n",
      "wrong credentials\n"
     ]
    }
   ],
   "source": [
    "username = input('please enter the username')\n",
    "password = input('please enter the password')\n",
    "\n",
    "if username == 'Abhilash' and password == 'King':\n",
    "    print('logged in')\n",
    "else:\n",
    "    print('wrong credentials')"
   ]
  },
  {
   "cell_type": "code",
   "execution_count": 17,
   "id": "f6f6fea7",
   "metadata": {},
   "outputs": [
    {
     "name": "stdout",
     "output_type": "stream",
     "text": [
      "please enter the username  Abhilash\n",
      "please enter the passwordKing\n",
      "logged in\n"
     ]
    }
   ],
   "source": [
    "username = input('please enter the username')\n",
    "password = input('please enter the password')\n",
    "\n",
    "if username.strip() == 'Abhilash' and password.strip() == 'King':\n",
    "    print('logged in')\n",
    "else:\n",
    "    print('wrong credentials')          # Here the space is strip down  "
   ]
  },
  {
   "cell_type": "code",
   "execution_count": 24,
   "id": "bca0afcc",
   "metadata": {},
   "outputs": [
    {
     "data": {
      "text/plain": [
       "2"
      ]
     },
     "execution_count": 24,
     "metadata": {},
     "output_type": "execute_result"
    }
   ],
   "source": [
    "a = 'learnbay institute'\n",
    "a.count('i')"
   ]
  },
  {
   "cell_type": "code",
   "execution_count": 18,
   "id": "895cea26",
   "metadata": {},
   "outputs": [
    {
     "data": {
      "text/plain": [
       "1"
      ]
     },
     "execution_count": 18,
     "metadata": {},
     "output_type": "execute_result"
    }
   ],
   "source": [
    "a = 'learnbay institute'\n",
    "a.count('learnbay')"
   ]
  },
  {
   "cell_type": "code",
   "execution_count": 19,
   "id": "89503851",
   "metadata": {},
   "outputs": [
    {
     "data": {
      "text/plain": [
       "9"
      ]
     },
     "execution_count": 19,
     "metadata": {},
     "output_type": "execute_result"
    }
   ],
   "source": [
    "a.find('i')    # it's the index of i"
   ]
  },
  {
   "cell_type": "code",
   "execution_count": 24,
   "id": "d534b65c",
   "metadata": {},
   "outputs": [
    {
     "data": {
      "text/plain": [
       "14"
      ]
     },
     "execution_count": 24,
     "metadata": {},
     "output_type": "execute_result"
    }
   ],
   "source": [
    "a.rfind('i')  #right hand side"
   ]
  },
  {
   "cell_type": "code",
   "execution_count": 26,
   "id": "44f7245a",
   "metadata": {},
   "outputs": [
    {
     "data": {
      "text/plain": [
       "0"
      ]
     },
     "execution_count": 26,
     "metadata": {},
     "output_type": "execute_result"
    }
   ],
   "source": [
    "a = 'lealrnbay institute'\n",
    "\n",
    "a.find('l')"
   ]
  },
  {
   "cell_type": "code",
   "execution_count": 26,
   "id": "041644f7",
   "metadata": {},
   "outputs": [
    {
     "data": {
      "text/plain": [
       "3"
      ]
     },
     "execution_count": 26,
     "metadata": {},
     "output_type": "execute_result"
    }
   ],
   "source": [
    "a = 'lealrnbay institute'\n",
    "a.rfind('l')"
   ]
  },
  {
   "cell_type": "code",
   "execution_count": 32,
   "id": "439e89c0",
   "metadata": {},
   "outputs": [
    {
     "data": {
      "text/plain": [
       "10"
      ]
     },
     "execution_count": 32,
     "metadata": {},
     "output_type": "execute_result"
    }
   ],
   "source": [
    "a = 'lealrnbay institute'\n",
    "a.find('institute')"
   ]
  },
  {
   "cell_type": "code",
   "execution_count": 28,
   "id": "edd05768",
   "metadata": {},
   "outputs": [
    {
     "name": "stdout",
     "output_type": "stream",
     "text": [
      "5\n",
      "9\n"
     ]
    }
   ],
   "source": [
    "a = 'learnbay institute'\n",
    "\n",
    "print(a.index('b'))\n",
    "\n",
    "a = 'learnbay institute'\n",
    "\n",
    "print(a.index('i'))"
   ]
  },
  {
   "cell_type": "code",
   "execution_count": 31,
   "id": "aa4cc493",
   "metadata": {},
   "outputs": [
    {
     "name": "stdout",
     "output_type": "stream",
     "text": [
      "9\n",
      "13\n",
      "9\n",
      "13\n"
     ]
    }
   ],
   "source": [
    "a = 'learnbay institute'\n",
    "\n",
    "print(a.index('i'))\n",
    "print(a.rindex('i'))\n",
    "\n",
    "a = 'learnbay institute'\n",
    "\n",
    "print(a.find('i'))\n",
    "print(a.rindex('i'))"
   ]
  },
  {
   "cell_type": "code",
   "execution_count": 33,
   "id": "34211517",
   "metadata": {},
   "outputs": [
    {
     "name": "stdout",
     "output_type": "stream",
     "text": [
      "-1\n"
     ]
    },
    {
     "ename": "ValueError",
     "evalue": "substring not found",
     "output_type": "error",
     "traceback": [
      "\u001b[1;31m---------------------------------------------------------------------------\u001b[0m",
      "\u001b[1;31mValueError\u001b[0m                                Traceback (most recent call last)",
      "Input \u001b[1;32mIn [33]\u001b[0m, in \u001b[0;36m<cell line: 5>\u001b[1;34m()\u001b[0m\n\u001b[0;32m      1\u001b[0m a \u001b[38;5;241m=\u001b[39m \u001b[38;5;124m'\u001b[39m\u001b[38;5;124mlearnbay institute\u001b[39m\u001b[38;5;124m'\u001b[39m\n\u001b[0;32m      3\u001b[0m \u001b[38;5;28mprint\u001b[39m(a\u001b[38;5;241m.\u001b[39mfind(\u001b[38;5;124m'\u001b[39m\u001b[38;5;124mc\u001b[39m\u001b[38;5;124m'\u001b[39m))\n\u001b[1;32m----> 5\u001b[0m \u001b[38;5;28mprint\u001b[39m(\u001b[43ma\u001b[49m\u001b[38;5;241;43m.\u001b[39;49m\u001b[43mindex\u001b[49m\u001b[43m(\u001b[49m\u001b[38;5;124;43m'\u001b[39;49m\u001b[38;5;124;43mc\u001b[39;49m\u001b[38;5;124;43m'\u001b[39;49m\u001b[43m)\u001b[49m)\n",
      "\u001b[1;31mValueError\u001b[0m: substring not found"
     ]
    }
   ],
   "source": [
    "a = 'learnbay institute'\n",
    "\n",
    "print(a.find('c'))\n",
    "\n",
    "print(a.index('c'))        # Difference between find and index"
   ]
  },
  {
   "cell_type": "code",
   "execution_count": 40,
   "id": "82839311",
   "metadata": {},
   "outputs": [
    {
     "name": "stdout",
     "output_type": "stream",
     "text": [
      "Hi Abhilash Baruah\n",
      "Hi Abhilash             Baruah\n",
      "Hi             Abhilash Baruah\n"
     ]
    }
   ],
   "source": [
    "a = 'Hi'\n",
    "b = 'Abhilash'\n",
    "c = 'Baruah'\n",
    "\n",
    "print(a,b,c)\n",
    "print(a,b.ljust(20),c)    # 20 steps are inclusive of the Abhilash\n",
    "print(a,b.rjust(20),c)"
   ]
  },
  {
   "cell_type": "code",
   "execution_count": 50,
   "id": "c0dfd331",
   "metadata": {},
   "outputs": [
    {
     "name": "stdout",
     "output_type": "stream",
     "text": [
      "learnbay onstotute\n"
     ]
    }
   ],
   "source": [
    "a = 'learnbay institute'\n",
    "\n",
    "print(a.replace('i','o'))"
   ]
  },
  {
   "cell_type": "code",
   "execution_count": 43,
   "id": "3919191d",
   "metadata": {},
   "outputs": [
    {
     "name": "stdout",
     "output_type": "stream",
     "text": [
      "learnbay onstitute\n"
     ]
    }
   ],
   "source": [
    "a = 'learnbay institute'\n",
    "\n",
    "print(a.replace('i','o',1))       # Here 'i' is replaced by 'o' only once(count value)"
   ]
  },
  {
   "cell_type": "code",
   "execution_count": 44,
   "id": "6b427ea3",
   "metadata": {},
   "outputs": [
    {
     "name": "stdout",
     "output_type": "stream",
     "text": [
      "['Learnbay', 'Institute', 'is', 'a', 'good', 'place', 'to', 'gain', 'knowledge']\n"
     ]
    }
   ],
   "source": [
    "my_str = 'Learnbay Institute is a good place to gain knowledge'\n",
    "print(my_str.split())"
   ]
  },
  {
   "cell_type": "code",
   "execution_count": 53,
   "id": "388da93a",
   "metadata": {},
   "outputs": [
    {
     "name": "stdout",
     "output_type": "stream",
     "text": [
      "['Learnbay Inst', 'tute ', 's a good place to ga', 'n knowledge']\n"
     ]
    }
   ],
   "source": [
    "my_str = 'Learnbay Institute is a good place to gain knowledge'\n",
    "print(my_str.split('i'))"
   ]
  },
  {
   "cell_type": "code",
   "execution_count": 45,
   "id": "fa73beb8",
   "metadata": {},
   "outputs": [
    {
     "data": {
      "text/plain": [
       "8"
      ]
     },
     "execution_count": 45,
     "metadata": {},
     "output_type": "execute_result"
    }
   ],
   "source": [
    "a = 'count the number of words in a sentence'\n",
    "len(a.split())  #count the number of words in a sentence"
   ]
  },
  {
   "cell_type": "code",
   "execution_count": 53,
   "id": "155d0971",
   "metadata": {},
   "outputs": [
    {
     "data": {
      "text/plain": [
       "9"
      ]
     },
     "execution_count": 53,
     "metadata": {},
     "output_type": "execute_result"
    }
   ],
   "source": [
    "a = 'Learnbay Institute is a good place to gain knowledge'\n",
    "len(a.split())"
   ]
  },
  {
   "cell_type": "code",
   "execution_count": 58,
   "id": "652a8322",
   "metadata": {},
   "outputs": [
    {
     "name": "stdout",
     "output_type": "stream",
     "text": [
      "Learnbay Institute is a good place to gain knowledge\n",
      "Learnbay--+Institute--+is--+a--+good--+place--+to--+gain--+knowledge\n",
      "Learnbay-*%Institute-*%is-*%a-*%good-*%place-*%to-*%gain-*%knowledge\n"
     ]
    }
   ],
   "source": [
    "a = ['Learnbay', 'Institute', 'is', 'a', 'good', 'place', 'to', 'gain', 'knowledge']\n",
    "print(' '.join(a))\n",
    "print('--+'.join(a))\n",
    "print('-*%'.join(a))"
   ]
  },
  {
   "cell_type": "markdown",
   "id": "e1750835",
   "metadata": {},
   "source": [
    "### List"
   ]
  },
  {
   "cell_type": "code",
   "execution_count": 59,
   "id": "7f6d31a7",
   "metadata": {},
   "outputs": [],
   "source": [
    "# List = Anything that can be written inside [] and elements are separated by comma"
   ]
  },
  {
   "cell_type": "code",
   "execution_count": 61,
   "id": "b0817d7f",
   "metadata": {},
   "outputs": [
    {
     "name": "stdout",
     "output_type": "stream",
     "text": [
      "[1, 2, 3, 4, 5, 6, 7]\n"
     ]
    }
   ],
   "source": [
    "a = [1,2,3,4,5,6,7]\n",
    "print(a)"
   ]
  },
  {
   "cell_type": "code",
   "execution_count": 62,
   "id": "f9dfbcef",
   "metadata": {},
   "outputs": [
    {
     "name": "stdout",
     "output_type": "stream",
     "text": [
      "<class 'list'>\n"
     ]
    }
   ],
   "source": [
    "print(type(a))"
   ]
  },
  {
   "cell_type": "code",
   "execution_count": 63,
   "id": "00427b4d",
   "metadata": {},
   "outputs": [
    {
     "name": "stdout",
     "output_type": "stream",
     "text": [
      "['apple', 'orange', 'mango']\n"
     ]
    }
   ],
   "source": [
    "# 1. You already know the element\n",
    "\n",
    "fruits = ['apple','orange','mango']\n",
    "print(fruits)"
   ]
  },
  {
   "cell_type": "code",
   "execution_count": 65,
   "id": "e04791bc",
   "metadata": {},
   "outputs": [
    {
     "name": "stdout",
     "output_type": "stream",
     "text": [
      "['apple', 'orange', 'mango']\n"
     ]
    }
   ],
   "source": [
    "# Split Method\n",
    "\n",
    "fruits = 'apple orange mango'\n",
    "print(fruits.split())"
   ]
  },
  {
   "cell_type": "code",
   "execution_count": 72,
   "id": "2853a9b7",
   "metadata": {},
   "outputs": [
    {
     "name": "stdout",
     "output_type": "stream",
     "text": [
      "['a', 'p', 'p', 'l', 'e']\n"
     ]
    }
   ],
   "source": [
    "# Type casting\n",
    "\n",
    "a = 'apple'\n",
    "len(a)\n",
    "print(list(a))"
   ]
  },
  {
   "cell_type": "code",
   "execution_count": 74,
   "id": "ac3a40b3",
   "metadata": {},
   "outputs": [
    {
     "name": "stdout",
     "output_type": "stream",
     "text": [
      "[1,2,3,4,5]\n",
      "<class 'list'>\n"
     ]
    }
   ],
   "source": [
    "# taking the user input as eval\n",
    "\n",
    "a = eval(input())\n",
    "print(type(a))"
   ]
  },
  {
   "cell_type": "code",
   "execution_count": null,
   "id": "1ea9d217",
   "metadata": {},
   "outputs": [],
   "source": []
  }
 ],
 "metadata": {
  "kernelspec": {
   "display_name": "Python 3 (ipykernel)",
   "language": "python",
   "name": "python3"
  },
  "language_info": {
   "codemirror_mode": {
    "name": "ipython",
    "version": 3
   },
   "file_extension": ".py",
   "mimetype": "text/x-python",
   "name": "python",
   "nbconvert_exporter": "python",
   "pygments_lexer": "ipython3",
   "version": "3.9.12"
  }
 },
 "nbformat": 4,
 "nbformat_minor": 5
}
