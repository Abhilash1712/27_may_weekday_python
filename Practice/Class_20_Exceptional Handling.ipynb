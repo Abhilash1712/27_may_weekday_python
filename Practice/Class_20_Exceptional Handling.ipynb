{
 "cells": [
  {
   "cell_type": "markdown",
   "id": "79289a68",
   "metadata": {},
   "source": [
    "# Exceptional Handling"
   ]
  },
  {
   "cell_type": "code",
   "execution_count": null,
   "id": "2b3c8862",
   "metadata": {},
   "outputs": [],
   "source": [
    "# Exceptional Handling can handle only runtime error"
   ]
  },
  {
   "cell_type": "code",
   "execution_count": 1,
   "id": "71262d4c",
   "metadata": {},
   "outputs": [
    {
     "name": "stdout",
     "output_type": "stream",
     "text": [
      "['ArithmeticError', 'AssertionError', 'AttributeError', 'BaseException', 'BlockingIOError', 'BrokenPipeError', 'BufferError', 'BytesWarning', 'ChildProcessError', 'ConnectionAbortedError', 'ConnectionError', 'ConnectionRefusedError', 'ConnectionResetError', 'DeprecationWarning', 'EOFError', 'Ellipsis', 'EnvironmentError', 'Exception', 'False', 'FileExistsError', 'FileNotFoundError', 'FloatingPointError', 'FutureWarning', 'GeneratorExit', 'IOError', 'ImportError', 'ImportWarning', 'IndentationError', 'IndexError', 'InterruptedError', 'IsADirectoryError', 'KeyError', 'KeyboardInterrupt', 'LookupError', 'MemoryError', 'ModuleNotFoundError', 'NameError', 'None', 'NotADirectoryError', 'NotImplemented', 'NotImplementedError', 'OSError', 'OverflowError', 'PendingDeprecationWarning', 'PermissionError', 'ProcessLookupError', 'RecursionError', 'ReferenceError', 'ResourceWarning', 'RuntimeError', 'RuntimeWarning', 'StopAsyncIteration', 'StopIteration', 'SyntaxError', 'SyntaxWarning', 'SystemError', 'SystemExit', 'TabError', 'TimeoutError', 'True', 'TypeError', 'UnboundLocalError', 'UnicodeDecodeError', 'UnicodeEncodeError', 'UnicodeError', 'UnicodeTranslateError', 'UnicodeWarning', 'UserWarning', 'ValueError', 'Warning', 'WindowsError', 'ZeroDivisionError', '__IPYTHON__', '__build_class__', '__debug__', '__doc__', '__import__', '__loader__', '__name__', '__package__', '__spec__', 'abs', 'all', 'any', 'ascii', 'bin', 'bool', 'breakpoint', 'bytearray', 'bytes', 'callable', 'chr', 'classmethod', 'compile', 'complex', 'copyright', 'credits', 'delattr', 'dict', 'dir', 'display', 'divmod', 'enumerate', 'eval', 'exec', 'execfile', 'filter', 'float', 'format', 'frozenset', 'get_ipython', 'getattr', 'globals', 'hasattr', 'hash', 'help', 'hex', 'id', 'input', 'int', 'isinstance', 'issubclass', 'iter', 'len', 'license', 'list', 'locals', 'map', 'max', 'memoryview', 'min', 'next', 'object', 'oct', 'open', 'ord', 'pow', 'print', 'property', 'range', 'repr', 'reversed', 'round', 'runfile', 'set', 'setattr', 'slice', 'sorted', 'staticmethod', 'str', 'sum', 'super', 'tuple', 'type', 'vars', 'zip']\n"
     ]
    }
   ],
   "source": [
    "print(dir(__builtin__))"
   ]
  },
  {
   "cell_type": "code",
   "execution_count": null,
   "id": "35a07d30",
   "metadata": {},
   "outputs": [],
   "source": [
    "# Keywords that we will be using inexceptional handling\n",
    "\n",
    "1. try\n",
    "2. except\n",
    "3. else\n",
    "4. finally\n",
    "5. raise"
   ]
  },
  {
   "cell_type": "code",
   "execution_count": 2,
   "id": "c7858f2b",
   "metadata": {},
   "outputs": [
    {
     "name": "stdout",
     "output_type": "stream",
     "text": [
      "Enter the number10\n",
      "Enter the number20\n"
     ]
    },
    {
     "ename": "TypeError",
     "evalue": "unsupported operand type(s) for /: 'str' and 'str'",
     "output_type": "error",
     "traceback": [
      "\u001b[1;31m---------------------------------------------------------------------------\u001b[0m",
      "\u001b[1;31mTypeError\u001b[0m                                 Traceback (most recent call last)",
      "Input \u001b[1;32mIn [2]\u001b[0m, in \u001b[0;36m<cell line: 4>\u001b[1;34m()\u001b[0m\n\u001b[0;32m      1\u001b[0m num1 \u001b[38;5;241m=\u001b[39m \u001b[38;5;28minput\u001b[39m(\u001b[38;5;124m'\u001b[39m\u001b[38;5;124mEnter the number\u001b[39m\u001b[38;5;124m'\u001b[39m)\n\u001b[0;32m      2\u001b[0m num2 \u001b[38;5;241m=\u001b[39m \u001b[38;5;28minput\u001b[39m(\u001b[38;5;124m'\u001b[39m\u001b[38;5;124mEnter the number\u001b[39m\u001b[38;5;124m'\u001b[39m)\n\u001b[1;32m----> 4\u001b[0m \u001b[38;5;28mprint\u001b[39m(\u001b[43mnum1\u001b[49m\u001b[38;5;241;43m/\u001b[39;49m\u001b[43mnum2\u001b[49m)\n",
      "\u001b[1;31mTypeError\u001b[0m: unsupported operand type(s) for /: 'str' and 'str'"
     ]
    }
   ],
   "source": [
    "num1 = input('Enter the number')\n",
    "num2 = input('Enter the number')\n",
    "\n",
    "print(num1/num2)"
   ]
  },
  {
   "cell_type": "code",
   "execution_count": 3,
   "id": "cd36f2fa",
   "metadata": {},
   "outputs": [
    {
     "name": "stdout",
     "output_type": "stream",
     "text": [
      "Enter the number10\n",
      "Enter the number20\n",
      "0.5\n"
     ]
    }
   ],
   "source": [
    "num1 = int(input('Enter the number'))\n",
    "num2 = int(input('Enter the number'))\n",
    "\n",
    "print(num1/num2)"
   ]
  },
  {
   "cell_type": "code",
   "execution_count": 2,
   "id": "bf754d41",
   "metadata": {},
   "outputs": [
    {
     "name": "stdout",
     "output_type": "stream",
     "text": [
      "Enter the number10\n",
      "Enter the number0\n",
      "dinominator can not be zero\n",
      "thank you\n"
     ]
    }
   ],
   "source": [
    "# try and except\n",
    "\n",
    "num1 = int(input('Enter the number'))\n",
    "num2 = int(input('Enter the number'))\n",
    "\n",
    "try:\n",
    "    print(num1/num2)\n",
    "except:\n",
    "    print('dinominator can not be zero' )\n",
    "    \n",
    "print('thank you')"
   ]
  },
  {
   "cell_type": "code",
   "execution_count": 8,
   "id": "bdf67431",
   "metadata": {},
   "outputs": [
    {
     "name": "stdout",
     "output_type": "stream",
     "text": [
      "Enter the number10\n",
      "Enter the number20\n",
      "0.5\n",
      "thank you\n"
     ]
    }
   ],
   "source": [
    "# try, except and else\n",
    "\n",
    "num1 = int(input('Enter the number'))\n",
    "num2 = int(input('Enter the number'))\n",
    "\n",
    "try:\n",
    "    c = (num1/num2)\n",
    "except:\n",
    "    print('dinominator can not be zero' )\n",
    "    \n",
    "else:\n",
    "    print(c)\n",
    "    \n",
    "print('thank you')"
   ]
  },
  {
   "cell_type": "code",
   "execution_count": 4,
   "id": "f5e2c253",
   "metadata": {},
   "outputs": [
    {
     "name": "stdout",
     "output_type": "stream",
     "text": [
      "Enter the number10\n",
      "Enter the number20\n",
      "0.5\n",
      "Done\n",
      "thank you\n"
     ]
    }
   ],
   "source": [
    "# try, except, else and finally\n",
    "\n",
    "num1 = int(input('Enter the number'))\n",
    "num2 = int(input('Enter the number'))\n",
    "\n",
    "try:\n",
    "    c = (num1/num2)\n",
    "except:\n",
    "    print('dinominator can not be zero' )\n",
    "    \n",
    "else:\n",
    "    print(c)\n",
    "finally:                      # finally has no relation with else part\n",
    "    print('Done')\n",
    "    \n",
    "print('thank you')"
   ]
  },
  {
   "cell_type": "code",
   "execution_count": 10,
   "id": "0fc2985b",
   "metadata": {},
   "outputs": [
    {
     "name": "stdout",
     "output_type": "stream",
     "text": [
      "method not allowed\n"
     ]
    }
   ],
   "source": [
    "try:\n",
    "    f = open('data.py','w')\n",
    "    f.write('abc')\n",
    "    f.read()\n",
    "except:\n",
    "    print('method not allowed')\n",
    "finally:\n",
    "    f.close()"
   ]
  },
  {
   "cell_type": "code",
   "execution_count": 12,
   "id": "8ccd37f4",
   "metadata": {},
   "outputs": [],
   "source": [
    "f = open('data1.py','w')\n",
    "f.write('abc')\n",
    "f.close()"
   ]
  },
  {
   "cell_type": "code",
   "execution_count": null,
   "id": "276d60b4",
   "metadata": {},
   "outputs": [],
   "source": [
    "# Coding errors"
   ]
  },
  {
   "cell_type": "code",
   "execution_count": 5,
   "id": "d70b1bbc",
   "metadata": {},
   "outputs": [
    {
     "name": "stdout",
     "output_type": "stream",
     "text": [
      "Enter the numberabc\n",
      "invalid literal for int() with base 10: 'abc'\n",
      "thank you\n"
     ]
    }
   ],
   "source": [
    "\n",
    "try:\n",
    "    num1 = int(input('Enter the number'))\n",
    "    num2 = int(input('Enter the number'))\n",
    "    c = (num1/num2)\n",
    "except Exception as e :\n",
    "    print(e)\n",
    "\n",
    "print('thank you')"
   ]
  },
  {
   "cell_type": "code",
   "execution_count": 3,
   "id": "d6b7ae76",
   "metadata": {},
   "outputs": [
    {
     "name": "stdout",
     "output_type": "stream",
     "text": [
      "Enter the number10\n",
      "Enter the number20\n",
      "some error\n",
      "thank you\n"
     ]
    }
   ],
   "source": [
    "\n",
    "try:\n",
    "    num1 = int(input('Enter the number'))\n",
    "    num2 = int(input('Enter the number'))\n",
    "    c = (num1/num2)\n",
    "    d = open('file_handle.py')\n",
    "except ZeroDivisionError:\n",
    "    print('dinominator can not be zero')\n",
    "except ValueError as e :\n",
    "    print(e)\n",
    "except:\n",
    "    print('some error')\n",
    "\n",
    "print('thank you')"
   ]
  },
  {
   "cell_type": "markdown",
   "id": "e016edce",
   "metadata": {},
   "source": [
    "### raise"
   ]
  },
  {
   "cell_type": "code",
   "execution_count": 9,
   "id": "0e99bb2e",
   "metadata": {},
   "outputs": [],
   "source": [
    "class MyException(Exception):\n",
    "    def __init__(self,msg):\n",
    "        self.msg = msg"
   ]
  },
  {
   "cell_type": "code",
   "execution_count": 10,
   "id": "d2d9a7b2",
   "metadata": {},
   "outputs": [
    {
     "name": "stdout",
     "output_type": "stream",
     "text": [
      "Enter the amount55000\n",
      "Over Limit\n"
     ]
    }
   ],
   "source": [
    "amt = int(input('Enter the amount'))\n",
    "\n",
    "try:\n",
    "    if amt < 50000 :\n",
    "        print('Transection is successful')\n",
    "    else:\n",
    "        raise MyException('Over Limit')\n",
    "except Exception as e:\n",
    "    print(e)"
   ]
  },
  {
   "cell_type": "code",
   "execution_count": 11,
   "id": "b10a5e9b",
   "metadata": {},
   "outputs": [],
   "source": [
    "class MyException(Exception):\n",
    "    def __init__(self,msg):\n",
    "        self.msg = msg\n",
    "        \n",
    "def pan(pan_number):\n",
    "    if len(pan_number) == 10:\n",
    "        print('we will verify it soon...Thankyou')\n",
    "    else:\n",
    "        raise MyException('Invalid Pan')\n",
    "        \n",
    "def amount(amt):\n",
    "    \n",
    "    if amt>50000:\n",
    "        raise MyException('Over Limit')\n",
    "    else:\n",
    "        print('Transaction is successful')"
   ]
  },
  {
   "cell_type": "code",
   "execution_count": 12,
   "id": "9ec402ec",
   "metadata": {},
   "outputs": [
    {
     "name": "stdout",
     "output_type": "stream",
     "text": [
      "Enter the amount 700000\n",
      "Over Limit\n",
      "Enter the pan Details 123\n",
      "Invalid Pan\n"
     ]
    }
   ],
   "source": [
    "amt = int(input('Enter the amount'))\n",
    "\n",
    "try:\n",
    "    amount(amt)\n",
    "except Exception as e:\n",
    "    print(e)\n",
    "    \n",
    "    try:\n",
    "        pan_number = input('Enter the pan Details')\n",
    "        pan(pan_number)\n",
    "        \n",
    "    except Exception as e:\n",
    "        print(e)"
   ]
  },
  {
   "cell_type": "code",
   "execution_count": null,
   "id": "8c10ca6d",
   "metadata": {},
   "outputs": [],
   "source": []
  }
 ],
 "metadata": {
  "kernelspec": {
   "display_name": "Python 3 (ipykernel)",
   "language": "python",
   "name": "python3"
  },
  "language_info": {
   "codemirror_mode": {
    "name": "ipython",
    "version": 3
   },
   "file_extension": ".py",
   "mimetype": "text/x-python",
   "name": "python",
   "nbconvert_exporter": "python",
   "pygments_lexer": "ipython3",
   "version": "3.9.12"
  }
 },
 "nbformat": 4,
 "nbformat_minor": 5
}
