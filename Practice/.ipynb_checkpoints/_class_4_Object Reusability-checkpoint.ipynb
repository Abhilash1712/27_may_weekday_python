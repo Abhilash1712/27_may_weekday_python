{
 "cells": [
  {
   "cell_type": "code",
   "execution_count": 1,
   "id": "e81c7a0b",
   "metadata": {},
   "outputs": [
    {
     "name": "stdout",
     "output_type": "stream",
     "text": [
      "False\n"
     ]
    }
   ],
   "source": [
    "a = 10\n",
    "b = 20\n",
    "print( a is b)  #Idendity Operator"
   ]
  },
  {
   "cell_type": "code",
   "execution_count": 2,
   "id": "b2f76002",
   "metadata": {},
   "outputs": [
    {
     "name": "stdout",
     "output_type": "stream",
     "text": [
      "False\n"
     ]
    }
   ],
   "source": [
    "print(a==b)     #Comparision Operator"
   ]
  },
  {
   "cell_type": "code",
   "execution_count": 5,
   "id": "f9147910",
   "metadata": {},
   "outputs": [
    {
     "name": "stdout",
     "output_type": "stream",
     "text": [
      "1698130192784\n",
      "1698130192784\n",
      "True\n"
     ]
    }
   ],
   "source": [
    "a = 256\n",
    "b = 256\n",
    "print(id(a))\n",
    "print(id(b))\n",
    "print(a is b)"
   ]
  },
  {
   "cell_type": "code",
   "execution_count": 10,
   "id": "fa51193f",
   "metadata": {},
   "outputs": [
    {
     "name": "stdout",
     "output_type": "stream",
     "text": [
      "True\n"
     ]
    }
   ],
   "source": [
    "a = 10\n",
    "b = 20\n",
    "print(int is int)"
   ]
  },
  {
   "cell_type": "code",
   "execution_count": 11,
   "id": "e133a592",
   "metadata": {},
   "outputs": [
    {
     "name": "stdout",
     "output_type": "stream",
     "text": [
      "1698216307248\n",
      "1698216307248\n"
     ]
    }
   ],
   "source": [
    "a,b = 1000,1000\n",
    "print(id(a))\n",
    "print(id(b))"
   ]
  },
  {
   "cell_type": "code",
   "execution_count": 12,
   "id": "c4f17fa7",
   "metadata": {},
   "outputs": [
    {
     "name": "stdout",
     "output_type": "stream",
     "text": [
      "True\n"
     ]
    }
   ],
   "source": [
    "#same as \n",
    "a = 1000\n",
    "b = a\n",
    "print(a is b)"
   ]
  },
  {
   "cell_type": "code",
   "execution_count": null,
   "id": "3faa28f4",
   "metadata": {},
   "outputs": [],
   "source": [
    "#. Ternary\n"
   ]
  },
  {
   "cell_type": "code",
   "execution_count": 13,
   "id": "4ed6ac1b",
   "metadata": {},
   "outputs": [
    {
     "name": "stdout",
     "output_type": "stream",
     "text": [
      "hey\n"
     ]
    }
   ],
   "source": [
    "print ('hey' if 11 > 10 else 'bye')"
   ]
  },
  {
   "cell_type": "code",
   "execution_count": 16,
   "id": "a8140065",
   "metadata": {},
   "outputs": [
    {
     "name": "stdout",
     "output_type": "stream",
     "text": [
      "Neymar\n"
     ]
    }
   ],
   "source": []
  },
  {
   "cell_type": "code",
   "execution_count": 20,
   "id": "59d2a478",
   "metadata": {},
   "outputs": [
    {
     "name": "stdout",
     "output_type": "stream",
     "text": [
      "Neymar\n"
     ]
    }
   ],
   "source": [
    "print('messi' if True==0 else 'ronaldo' if True and False else 'Neymar')"
   ]
  },
  {
   "cell_type": "code",
   "execution_count": 25,
   "id": "c0ec5588",
   "metadata": {},
   "outputs": [
    {
     "ename": "NameError",
     "evalue": "name 'Oct' is not defined",
     "output_type": "error",
     "traceback": [
      "\u001b[1;31m---------------------------------------------------------------------------\u001b[0m",
      "\u001b[1;31mNameError\u001b[0m                                 Traceback (most recent call last)",
      "Input \u001b[1;32mIn [25]\u001b[0m, in \u001b[0;36m<cell line: 2>\u001b[1;34m()\u001b[0m\n\u001b[0;32m      1\u001b[0m num \u001b[38;5;241m=\u001b[39m \u001b[38;5;241m270\u001b[39m\n\u001b[1;32m----> 2\u001b[0m \u001b[38;5;28mprint\u001b[39m(\u001b[43mOct\u001b[49m(\u001b[38;5;241m270\u001b[39m))\n",
      "\u001b[1;31mNameError\u001b[0m: name 'Oct' is not defined"
     ]
    }
   ],
   "source": [
    "num = 270\n",
    "print(Oct(270))\n"
   ]
  },
  {
   "cell_type": "code",
   "execution_count": 29,
   "id": "fe60d499",
   "metadata": {},
   "outputs": [
    {
     "name": "stdout",
     "output_type": "stream",
     "text": [
      "0x10e\n",
      "270\n"
     ]
    }
   ],
   "source": [
    "num = 270\n",
    "print(hex(270))\n",
    "print(0x10e)"
   ]
  },
  {
   "cell_type": "code",
   "execution_count": null,
   "id": "6d17f178",
   "metadata": {},
   "outputs": [],
   "source": []
  }
 ],
 "metadata": {
  "kernelspec": {
   "display_name": "Python 3 (ipykernel)",
   "language": "python",
   "name": "python3"
  },
  "language_info": {
   "codemirror_mode": {
    "name": "ipython",
    "version": 3
   },
   "file_extension": ".py",
   "mimetype": "text/x-python",
   "name": "python",
   "nbconvert_exporter": "python",
   "pygments_lexer": "ipython3",
   "version": "3.9.12"
  }
 },
 "nbformat": 4,
 "nbformat_minor": 5
}
