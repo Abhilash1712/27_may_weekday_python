{
 "cells": [
  {
   "cell_type": "markdown",
   "id": "3c1850ee",
   "metadata": {},
   "source": [
    "# Jupyter Introduction\n",
    "## Jupyter Intro\n",
    "### Jupyter Intro\n",
    "#### Jupyter Intro\n",
    "##### Jupyter Intro\n",
    "1. point 1\n",
    "2. point 2\n",
    "3. point 3\n",
    "\n",
    "- point 1\n",
    "- point 2\n",
    "- point 3\n",
    "\n",
    "print statment is used to print something on th screen"
   ]
  },
  {
   "cell_type": "code",
   "execution_count": 1,
   "id": "0eabb0e9",
   "metadata": {},
   "outputs": [
    {
     "name": "stdout",
     "output_type": "stream",
     "text": [
      "100\n"
     ]
    }
   ],
   "source": [
    "a = 100\n",
    "print(a)"
   ]
  },
  {
   "cell_type": "code",
   "execution_count": 4,
   "id": "594d1b7f",
   "metadata": {},
   "outputs": [
    {
     "name": "stdout",
     "output_type": "stream",
     "text": [
      "Abhilash Baruah\n"
     ]
    }
   ],
   "source": [
    "print('Abhilash Baruah')"
   ]
  },
  {
   "cell_type": "code",
   "execution_count": null,
   "id": "c64ce2c6",
   "metadata": {},
   "outputs": [],
   "source": []
  }
 ],
 "metadata": {
  "kernelspec": {
   "display_name": "Python 3 (ipykernel)",
   "language": "python",
   "name": "python3"
  },
  "language_info": {
   "codemirror_mode": {
    "name": "ipython",
    "version": 3
   },
   "file_extension": ".py",
   "mimetype": "text/x-python",
   "name": "python",
   "nbconvert_exporter": "python",
   "pygments_lexer": "ipython3",
   "version": "3.9.12"
  }
 },
 "nbformat": 4,
 "nbformat_minor": 5
}
