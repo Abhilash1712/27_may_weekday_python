{
 "cells": [
  {
   "cell_type": "code",
   "execution_count": 11,
   "id": "ab06ab66",
   "metadata": {},
   "outputs": [],
   "source": [
    "import numpy as np"
   ]
  },
  {
   "cell_type": "code",
   "execution_count": 18,
   "id": "bd2769f4",
   "metadata": {},
   "outputs": [],
   "source": [
    "def gradient_descent(x,y):\n",
    "    \n",
    "    m = 0 \n",
    "    c = 0\n",
    "    learning_rate = 0.01\n",
    "    iteration = 500\n",
    "    n = len(x)\n",
    "    \n",
    "    for i in range(iteration):\n",
    "        \n",
    "        y_predicted = m*x +c\n",
    "        \n",
    "        cost = (1/n) * sum([val**2 for val in(y-y_predicted)])\n",
    "        \n",
    "        dm = (-2/n) * sum(x * (y - y_predicted))\n",
    "        \n",
    "        dc = (-2/n) * sum(y- y_predicted)\n",
    "        \n",
    "        m = m- learning_rate * dm\n",
    "        c = c- learning_rate * dc\n",
    "        \n",
    "        print('slope = {}, intercept ={}',format(i+1,cost))"
   ]
  },
  {
   "cell_type": "code",
   "execution_count": 19,
   "id": "9df3a4eb",
   "metadata": {},
   "outputs": [],
   "source": [
    "x = np.array([1,2,3,4,5])\n",
    "y = np.array([5,6,7,11,13])"
   ]
  },
  {
   "cell_type": "code",
   "execution_count": 20,
   "id": "7b5312ca",
   "metadata": {},
   "outputs": [
    {
     "ename": "TypeError",
     "evalue": "format() argument 2 must be str, not numpy.float64",
     "output_type": "error",
     "traceback": [
      "\u001b[1;31m---------------------------------------------------------------------------\u001b[0m",
      "\u001b[1;31mTypeError\u001b[0m                                 Traceback (most recent call last)",
      "Input \u001b[1;32mIn [20]\u001b[0m, in \u001b[0;36m<cell line: 1>\u001b[1;34m()\u001b[0m\n\u001b[1;32m----> 1\u001b[0m \u001b[43mgradient_descent\u001b[49m\u001b[43m(\u001b[49m\u001b[43mx\u001b[49m\u001b[43m,\u001b[49m\u001b[43my\u001b[49m\u001b[43m)\u001b[49m\n",
      "Input \u001b[1;32mIn [18]\u001b[0m, in \u001b[0;36mgradient_descent\u001b[1;34m(x, y)\u001b[0m\n\u001b[0;32m     19\u001b[0m m \u001b[38;5;241m=\u001b[39m m\u001b[38;5;241m-\u001b[39m learning_rate \u001b[38;5;241m*\u001b[39m dm\n\u001b[0;32m     20\u001b[0m c \u001b[38;5;241m=\u001b[39m c\u001b[38;5;241m-\u001b[39m learning_rate \u001b[38;5;241m*\u001b[39m dc\n\u001b[1;32m---> 22\u001b[0m \u001b[38;5;28mprint\u001b[39m(\u001b[38;5;124m'\u001b[39m\u001b[38;5;124mslope = \u001b[39m\u001b[38;5;132;01m{}\u001b[39;00m\u001b[38;5;124m, intercept =\u001b[39m\u001b[38;5;132;01m{}\u001b[39;00m\u001b[38;5;124m'\u001b[39m,\u001b[38;5;28;43mformat\u001b[39;49m\u001b[43m(\u001b[49m\u001b[43mi\u001b[49m\u001b[38;5;241;43m+\u001b[39;49m\u001b[38;5;241;43m1\u001b[39;49m\u001b[43m,\u001b[49m\u001b[43mcost\u001b[49m\u001b[43m)\u001b[49m)\n",
      "\u001b[1;31mTypeError\u001b[0m: format() argument 2 must be str, not numpy.float64"
     ]
    }
   ],
   "source": [
    "gradient_descent(x,y)"
   ]
  },
  {
   "cell_type": "code",
   "execution_count": null,
   "id": "abbb9e7e",
   "metadata": {},
   "outputs": [],
   "source": []
  }
 ],
 "metadata": {
  "kernelspec": {
   "display_name": "Python 3 (ipykernel)",
   "language": "python",
   "name": "python3"
  },
  "language_info": {
   "codemirror_mode": {
    "name": "ipython",
    "version": 3
   },
   "file_extension": ".py",
   "mimetype": "text/x-python",
   "name": "python",
   "nbconvert_exporter": "python",
   "pygments_lexer": "ipython3",
   "version": "3.9.12"
  }
 },
 "nbformat": 4,
 "nbformat_minor": 5
}
