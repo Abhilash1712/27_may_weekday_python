{
 "cells": [
  {
   "cell_type": "markdown",
   "id": "d7ba029c",
   "metadata": {},
   "source": [
    "# Small Deviation"
   ]
  },
  {
   "cell_type": "code",
   "execution_count": 7,
   "id": "1bb76c9d",
   "metadata": {},
   "outputs": [],
   "source": [
    "#A and B are two values\n",
    "     #A and B - Result will be A if A is False else B\n",
    "     #A or B - Result will be A if A is True else B"
   ]
  },
  {
   "cell_type": "code",
   "execution_count": 2,
   "id": "2b64e8cd",
   "metadata": {},
   "outputs": [
    {
     "name": "stdout",
     "output_type": "stream",
     "text": [
      "20\n"
     ]
    }
   ],
   "source": [
    "a = 10\n",
    "b = 20\n",
    "print (a and b)"
   ]
  },
  {
   "cell_type": "code",
   "execution_count": 3,
   "id": "b32c4c79",
   "metadata": {},
   "outputs": [
    {
     "name": "stdout",
     "output_type": "stream",
     "text": [
      "10\n"
     ]
    }
   ],
   "source": [
    "print(a or b)"
   ]
  },
  {
   "cell_type": "code",
   "execution_count": 4,
   "id": "d79e8285",
   "metadata": {},
   "outputs": [
    {
     "data": {
      "text/plain": [
       "True"
      ]
     },
     "execution_count": 4,
     "metadata": {},
     "output_type": "execute_result"
    }
   ],
   "source": [
    "bool(a)"
   ]
  },
  {
   "cell_type": "code",
   "execution_count": 3,
   "id": "5705d3b4",
   "metadata": {},
   "outputs": [
    {
     "data": {
      "text/plain": [
       "True"
      ]
     },
     "execution_count": 3,
     "metadata": {},
     "output_type": "execute_result"
    }
   ],
   "source": [
    "bool(b)"
   ]
  },
  {
   "cell_type": "code",
   "execution_count": 4,
   "id": "bf7ac41e",
   "metadata": {},
   "outputs": [
    {
     "name": "stdout",
     "output_type": "stream",
     "text": [
      "\n"
     ]
    }
   ],
   "source": [
    "print(1 and '')"
   ]
  },
  {
   "cell_type": "code",
   "execution_count": 9,
   "id": "9f0a1029",
   "metadata": {},
   "outputs": [
    {
     "data": {
      "text/plain": [
       "True"
      ]
     },
     "execution_count": 9,
     "metadata": {},
     "output_type": "execute_result"
    }
   ],
   "source": [
    "bool(1)"
   ]
  },
  {
   "cell_type": "code",
   "execution_count": 8,
   "id": "f04382a7",
   "metadata": {},
   "outputs": [
    {
     "data": {
      "text/plain": [
       "False"
      ]
     },
     "execution_count": 8,
     "metadata": {},
     "output_type": "execute_result"
    }
   ],
   "source": [
    "bool('')"
   ]
  },
  {
   "cell_type": "code",
   "execution_count": 6,
   "id": "e9005580",
   "metadata": {},
   "outputs": [
    {
     "name": "stdout",
     "output_type": "stream",
     "text": [
      "None\n"
     ]
    }
   ],
   "source": [
    "print(None and 100)"
   ]
  },
  {
   "cell_type": "code",
   "execution_count": 5,
   "id": "74654b75",
   "metadata": {},
   "outputs": [
    {
     "data": {
      "text/plain": [
       "False"
      ]
     },
     "execution_count": 5,
     "metadata": {},
     "output_type": "execute_result"
    }
   ],
   "source": [
    "bool(None)"
   ]
  },
  {
   "cell_type": "markdown",
   "id": "f698a9f2",
   "metadata": {},
   "source": [
    "a = \n",
    "b = 20\n",
    "c = 100\n",
    "d = 200\n",
    "\n",
    "if (a and b) or (c and D)\n",
    "print('abhi')"
   ]
  },
  {
   "cell_type": "code",
   "execution_count": 14,
   "id": "9b0f5764",
   "metadata": {},
   "outputs": [
    {
     "name": "stdout",
     "output_type": "stream",
     "text": [
      "Abhi\n"
     ]
    }
   ],
   "source": [
    "a = 10\n",
    "b = 20\n",
    "c = 100\n",
    "d = 200\n",
    "\n",
    "if (a and b) or (c and d):\n",
    "    print(\"Abhi\")"
   ]
  },
  {
   "cell_type": "code",
   "execution_count": 19,
   "id": "f9288bea",
   "metadata": {},
   "outputs": [
    {
     "name": "stdout",
     "output_type": "stream",
     "text": [
      "Abhi\n"
     ]
    }
   ],
   "source": [
    "a = []\n",
    "b = ''\n",
    "\n",
    "if len(a) == 0 and len(b) == 0:\n",
    "    print('Abhi')\n",
    "else:\n",
    "    print('King')"
   ]
  },
  {
   "cell_type": "code",
   "execution_count": 17,
   "id": "f6177f4d",
   "metadata": {},
   "outputs": [
    {
     "name": "stdout",
     "output_type": "stream",
     "text": [
      "King\n"
     ]
    }
   ],
   "source": [
    "a = []\n",
    "b = 'YOYO'\n",
    "\n",
    "if len(a) == 0 and len(b) == 0:\n",
    "    print('Abhi')\n",
    "else:\n",
    "    print('King')"
   ]
  },
  {
   "cell_type": "code",
   "execution_count": 18,
   "id": "d509ce49",
   "metadata": {},
   "outputs": [
    {
     "name": "stdout",
     "output_type": "stream",
     "text": [
      "Abhi\n"
     ]
    }
   ],
   "source": [
    "a = []\n",
    "b = 'YOYO'\n",
    "\n",
    "if len(a) == 0 or len(b) == 0:\n",
    "    print('Abhi')\n",
    "else:\n",
    "    print('King')"
   ]
  },
  {
   "cell_type": "markdown",
   "id": "d075d424",
   "metadata": {},
   "source": [
    "### Bitwise Operators"
   ]
  },
  {
   "cell_type": "code",
   "execution_count": 21,
   "id": "7471f8c9",
   "metadata": {},
   "outputs": [],
   "source": [
    "a = 10\n",
    "b = 20"
   ]
  },
  {
   "cell_type": "code",
   "execution_count": 22,
   "id": "af28d47e",
   "metadata": {},
   "outputs": [
    {
     "data": {
      "text/plain": [
       "'0b1010'"
      ]
     },
     "execution_count": 22,
     "metadata": {},
     "output_type": "execute_result"
    }
   ],
   "source": [
    "bin(a)"
   ]
  },
  {
   "cell_type": "code",
   "execution_count": 15,
   "id": "85a88c2e",
   "metadata": {},
   "outputs": [
    {
     "data": {
      "text/plain": [
       "'0b10100'"
      ]
     },
     "execution_count": 15,
     "metadata": {},
     "output_type": "execute_result"
    }
   ],
   "source": [
    "bin(20)"
   ]
  },
  {
   "cell_type": "code",
   "execution_count": 23,
   "id": "8fcef67d",
   "metadata": {},
   "outputs": [
    {
     "name": "stdout",
     "output_type": "stream",
     "text": [
      "0\n"
     ]
    }
   ],
   "source": [
    "print(0b00000)"
   ]
  },
  {
   "cell_type": "code",
   "execution_count": 24,
   "id": "1f7e7fbd",
   "metadata": {},
   "outputs": [
    {
     "name": "stdout",
     "output_type": "stream",
     "text": [
      "0\n"
     ]
    }
   ],
   "source": [
    "a = 10\n",
    "b = 20\n",
    "\n",
    "print(a & b)"
   ]
  },
  {
   "cell_type": "code",
   "execution_count": null,
   "id": "90bf04ba",
   "metadata": {},
   "outputs": [],
   "source": [
    "a = 14\n",
    "b = 44"
   ]
  },
  {
   "cell_type": "code",
   "execution_count": 26,
   "id": "983cc7f7",
   "metadata": {},
   "outputs": [
    {
     "data": {
      "text/plain": [
       "'0b1110'"
      ]
     },
     "execution_count": 26,
     "metadata": {},
     "output_type": "execute_result"
    }
   ],
   "source": [
    "bin(14)"
   ]
  },
  {
   "cell_type": "code",
   "execution_count": 27,
   "id": "e6b49050",
   "metadata": {},
   "outputs": [
    {
     "data": {
      "text/plain": [
       "'0b101100'"
      ]
     },
     "execution_count": 27,
     "metadata": {},
     "output_type": "execute_result"
    }
   ],
   "source": [
    "bin(44)"
   ]
  },
  {
   "cell_type": "code",
   "execution_count": 28,
   "id": "2eac6cb0",
   "metadata": {},
   "outputs": [
    {
     "name": "stdout",
     "output_type": "stream",
     "text": [
      "12\n"
     ]
    }
   ],
   "source": [
    "print(0b001100)"
   ]
  },
  {
   "cell_type": "code",
   "execution_count": 29,
   "id": "a84b74c1",
   "metadata": {},
   "outputs": [
    {
     "name": "stdout",
     "output_type": "stream",
     "text": [
      "12\n"
     ]
    }
   ],
   "source": [
    "a = 14\n",
    "b = 44\n",
    "\n",
    "print(a & b)"
   ]
  },
  {
   "cell_type": "code",
   "execution_count": 32,
   "id": "c62ddeb6",
   "metadata": {},
   "outputs": [
    {
     "name": "stdout",
     "output_type": "stream",
     "text": [
      "46\n"
     ]
    }
   ],
   "source": [
    "print(0b101110)"
   ]
  },
  {
   "cell_type": "code",
   "execution_count": 31,
   "id": "2ee63569",
   "metadata": {},
   "outputs": [
    {
     "name": "stdout",
     "output_type": "stream",
     "text": [
      "46\n"
     ]
    }
   ],
   "source": [
    "print(a | b)"
   ]
  },
  {
   "cell_type": "code",
   "execution_count": 33,
   "id": "03004d4d",
   "metadata": {},
   "outputs": [
    {
     "name": "stdout",
     "output_type": "stream",
     "text": [
      "34\n"
     ]
    }
   ],
   "source": [
    "print(a ^ b)"
   ]
  },
  {
   "cell_type": "code",
   "execution_count": 35,
   "id": "af9e4b61",
   "metadata": {},
   "outputs": [
    {
     "name": "stdout",
     "output_type": "stream",
     "text": [
      "-101\n"
     ]
    }
   ],
   "source": [
    "a = 100\n",
    "print(~a)"
   ]
  },
  {
   "cell_type": "code",
   "execution_count": 36,
   "id": "9eeeedf4",
   "metadata": {},
   "outputs": [
    {
     "name": "stdout",
     "output_type": "stream",
     "text": [
      "4\n"
     ]
    }
   ],
   "source": [
    "a = -5\n",
    "print(~a)"
   ]
  },
  {
   "cell_type": "code",
   "execution_count": 18,
   "id": "dc6b7b5a",
   "metadata": {},
   "outputs": [
    {
     "name": "stdout",
     "output_type": "stream",
     "text": [
      "-5\n"
     ]
    }
   ],
   "source": [
    "a = 5\n",
    "a -= 10\n",
    "print(a)"
   ]
  },
  {
   "cell_type": "code",
   "execution_count": 37,
   "id": "45f6d449",
   "metadata": {},
   "outputs": [
    {
     "name": "stdout",
     "output_type": "stream",
     "text": [
      "12\n"
     ]
    }
   ],
   "source": [
    "a = 100\n",
    "b = 3\n",
    "print(a>>b)   #(a//(2**n)) a=100 & b =n"
   ]
  },
  {
   "cell_type": "code",
   "execution_count": 39,
   "id": "93a8de40",
   "metadata": {},
   "outputs": [
    {
     "name": "stdout",
     "output_type": "stream",
     "text": [
      "800\n"
     ]
    }
   ],
   "source": [
    "a = 100\n",
    "b = 3\n",
    "print(a<<b)   #(a*(2**n)) a=100 & b =n"
   ]
  },
  {
   "cell_type": "markdown",
   "id": "7271c756",
   "metadata": {},
   "source": [
    "#### Assignment or Compound Operators"
   ]
  },
  {
   "cell_type": "code",
   "execution_count": 41,
   "id": "4bd231d2",
   "metadata": {},
   "outputs": [
    {
     "name": "stdout",
     "output_type": "stream",
     "text": [
      "15\n"
     ]
    }
   ],
   "source": [
    "a = 5\n",
    "a = a + 10    #Simple Assignment Operators\n",
    "\n",
    "print(a)      "
   ]
  },
  {
   "cell_type": "code",
   "execution_count": 42,
   "id": "4122420f",
   "metadata": {},
   "outputs": [
    {
     "name": "stdout",
     "output_type": "stream",
     "text": [
      "15\n"
     ]
    }
   ],
   "source": [
    "a = 5\n",
    "a += 10    #Compound Operators\n",
    "\n",
    "print(a)"
   ]
  },
  {
   "cell_type": "markdown",
   "id": "42e780c1",
   "metadata": {},
   "source": [
    "#### Identity Operators"
   ]
  },
  {
   "cell_type": "code",
   "execution_count": 45,
   "id": "d623738c",
   "metadata": {},
   "outputs": [
    {
     "name": "stdout",
     "output_type": "stream",
     "text": [
      "False\n"
     ]
    }
   ],
   "source": [
    "a = 10\n",
    "b  = 100\n",
    "print(a is  b)      # Memory Address of A & B"
   ]
  },
  {
   "cell_type": "code",
   "execution_count": 46,
   "id": "cacbe915",
   "metadata": {},
   "outputs": [
    {
     "name": "stdout",
     "output_type": "stream",
     "text": [
      "True\n"
     ]
    }
   ],
   "source": [
    "a = 10\n",
    "b  = 100\n",
    "print(a is not b)     # Memory Address of A and B   "
   ]
  },
  {
   "cell_type": "code",
   "execution_count": 53,
   "id": "d89c7971",
   "metadata": {},
   "outputs": [
    {
     "name": "stdout",
     "output_type": "stream",
     "text": [
      "2147749751376\n",
      "2147749751696\n",
      "2147749751376\n"
     ]
    }
   ],
   "source": [
    "a = 10\n",
    "b = 20 \n",
    "c = 10\n",
    "\n",
    "print(id(a))\n",
    "print(id(b))\n",
    "print(id(c))\n"
   ]
  },
  {
   "cell_type": "code",
   "execution_count": null,
   "id": "39b9c71f",
   "metadata": {},
   "outputs": [],
   "source": []
  }
 ],
 "metadata": {
  "kernelspec": {
   "display_name": "Python 3 (ipykernel)",
   "language": "python",
   "name": "python3"
  },
  "language_info": {
   "codemirror_mode": {
    "name": "ipython",
    "version": 3
   },
   "file_extension": ".py",
   "mimetype": "text/x-python",
   "name": "python",
   "nbconvert_exporter": "python",
   "pygments_lexer": "ipython3",
   "version": "3.9.12"
  }
 },
 "nbformat": 4,
 "nbformat_minor": 5
}
